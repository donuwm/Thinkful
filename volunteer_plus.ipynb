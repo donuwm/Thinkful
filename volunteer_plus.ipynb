{
 "cells": [
  {
   "cell_type": "markdown",
   "metadata": {},
   "source": [
    "# Introduction\n",
    "\n",
    "This notebook answers the following question:  \n",
    "\n",
    "- For those who haven’t donated, what is the probability of a gift in the following year of their first instance of standard volunteerism?  \n",
    "\n",
    "by Fred Etter - December, 2019"
   ]
  },
  {
   "cell_type": "code",
   "execution_count": 1,
   "metadata": {},
   "outputs": [],
   "source": [
    "# Import modules\n",
    "\n",
    "import numpy as np\n",
    "import pandas as pd\n",
    "import matplotlib.pyplot as plt\n",
    "import seaborn as sns\n",
    "import numpy as np\n",
    "from sklearn import linear_model\n",
    "from sklearn.ensemble import ExtraTreesClassifier\n",
    "from sklearn.ensemble import RandomForestClassifier\n",
    "from sklearn import preprocessing\n",
    "import sklearn\n",
    "from sklearn.feature_selection import SelectFromModel\n",
    "from datetime import datetime\n",
    "from sklearn.metrics import confusion_matrix\n",
    "from sklearn import metrics\n",
    "import seaborn as sns"
   ]
  },
  {
   "cell_type": "code",
   "execution_count": 2,
   "metadata": {},
   "outputs": [],
   "source": [
    "# Read in the data\n",
    "df = pd.read_csv('file1_12_3.csv', low_memory=False)"
   ]
  },
  {
   "cell_type": "code",
   "execution_count": 3,
   "metadata": {},
   "outputs": [
    {
     "data": {
      "text/html": [
       "<div>\n",
       "<style scoped>\n",
       "    .dataframe tbody tr th:only-of-type {\n",
       "        vertical-align: middle;\n",
       "    }\n",
       "\n",
       "    .dataframe tbody tr th {\n",
       "        vertical-align: top;\n",
       "    }\n",
       "\n",
       "    .dataframe thead th {\n",
       "        text-align: right;\n",
       "    }\n",
       "</style>\n",
       "<table border=\"1\" class=\"dataframe\">\n",
       "  <thead>\n",
       "    <tr style=\"text-align: right;\">\n",
       "      <th></th>\n",
       "      <th>ContactId</th>\n",
       "      <th>Year</th>\n",
       "      <th>PledgeTotal</th>\n",
       "      <th>VolType</th>\n",
       "      <th>VolunteerActivityCnt</th>\n",
       "      <th>BirthYear</th>\n",
       "      <th>Gender</th>\n",
       "    </tr>\n",
       "  </thead>\n",
       "  <tbody>\n",
       "    <tr>\n",
       "      <td>0</td>\n",
       "      <td>874ddbce-11cd-e111-941f-00259073dc22</td>\n",
       "      <td>2007</td>\n",
       "      <td>52.00</td>\n",
       "      <td>NaN</td>\n",
       "      <td>NaN</td>\n",
       "      <td>1977.0</td>\n",
       "      <td>female</td>\n",
       "    </tr>\n",
       "    <tr>\n",
       "      <td>1</td>\n",
       "      <td>9a4ddbce-11cd-e111-941f-00259073dc22</td>\n",
       "      <td>2007</td>\n",
       "      <td>80.00</td>\n",
       "      <td>NaN</td>\n",
       "      <td>NaN</td>\n",
       "      <td>1968.0</td>\n",
       "      <td>female</td>\n",
       "    </tr>\n",
       "    <tr>\n",
       "      <td>2</td>\n",
       "      <td>5e4edbce-11cd-e111-941f-00259073dc22</td>\n",
       "      <td>2007</td>\n",
       "      <td>10000.00</td>\n",
       "      <td>NaN</td>\n",
       "      <td>NaN</td>\n",
       "      <td>1958.0</td>\n",
       "      <td>male</td>\n",
       "    </tr>\n",
       "    <tr>\n",
       "      <td>3</td>\n",
       "      <td>c150dbce-11cd-e111-941f-00259073dc22</td>\n",
       "      <td>2007</td>\n",
       "      <td>120.00</td>\n",
       "      <td>NaN</td>\n",
       "      <td>NaN</td>\n",
       "      <td>NaN</td>\n",
       "      <td>male</td>\n",
       "    </tr>\n",
       "    <tr>\n",
       "      <td>4</td>\n",
       "      <td>0b53dbce-11cd-e111-941f-00259073dc22</td>\n",
       "      <td>2007</td>\n",
       "      <td>500.16</td>\n",
       "      <td>NaN</td>\n",
       "      <td>NaN</td>\n",
       "      <td>1947.0</td>\n",
       "      <td>female</td>\n",
       "    </tr>\n",
       "  </tbody>\n",
       "</table>\n",
       "</div>"
      ],
      "text/plain": [
       "                              ContactId  Year  PledgeTotal VolType  \\\n",
       "0  874ddbce-11cd-e111-941f-00259073dc22  2007        52.00     NaN   \n",
       "1  9a4ddbce-11cd-e111-941f-00259073dc22  2007        80.00     NaN   \n",
       "2  5e4edbce-11cd-e111-941f-00259073dc22  2007     10000.00     NaN   \n",
       "3  c150dbce-11cd-e111-941f-00259073dc22  2007       120.00     NaN   \n",
       "4  0b53dbce-11cd-e111-941f-00259073dc22  2007       500.16     NaN   \n",
       "\n",
       "   VolunteerActivityCnt  BirthYear  Gender  \n",
       "0                   NaN     1977.0  female  \n",
       "1                   NaN     1968.0  female  \n",
       "2                   NaN     1958.0    male  \n",
       "3                   NaN        NaN    male  \n",
       "4                   NaN     1947.0  female  "
      ]
     },
     "execution_count": 3,
     "metadata": {},
     "output_type": "execute_result"
    }
   ],
   "source": [
    "# show the first 5 lines of the data\n",
    "df.head()"
   ]
  },
  {
   "cell_type": "code",
   "execution_count": 4,
   "metadata": {},
   "outputs": [
    {
     "data": {
      "text/plain": [
       "(385722, 7)"
      ]
     },
     "execution_count": 4,
     "metadata": {},
     "output_type": "execute_result"
    }
   ],
   "source": [
    "# show the number of rows and columns of the original data\n",
    "df.shape"
   ]
  },
  {
   "cell_type": "code",
   "execution_count": 5,
   "metadata": {},
   "outputs": [],
   "source": [
    "# drop Council, Committe, Board members\n",
    "df = df.drop(df[df.VolType == 'Council, Committe or Board'].index).fillna(0)"
   ]
  },
  {
   "cell_type": "code",
   "execution_count": 6,
   "metadata": {},
   "outputs": [],
   "source": [
    "# create a dataframe that only has volunteers of 'Standard' type:\n",
    "df_gender = df.copy()\n",
    "df_gender = df_gender.fillna(0)\n",
    "df_gender = df_gender.drop(df_gender[df_gender.VolType == 0].index).fillna(0)\n",
    "df_std_only = df_gender.drop(df_gender[df_gender.VolType == 'Council, Committe or Board'].index).fillna(0)"
   ]
  },
  {
   "cell_type": "code",
   "execution_count": 7,
   "metadata": {},
   "outputs": [],
   "source": [
    "# create a series that captures the earliest year that someone volunteered\n",
    "a = df_std_only.groupby('ContactId')['Year'].transform('min')"
   ]
  },
  {
   "cell_type": "code",
   "execution_count": 8,
   "metadata": {},
   "outputs": [],
   "source": [
    "# create a new column and populate it:\n",
    "df_std_only['min_year'] = a"
   ]
  },
  {
   "cell_type": "code",
   "execution_count": 9,
   "metadata": {},
   "outputs": [
    {
     "data": {
      "text/html": [
       "<div>\n",
       "<style scoped>\n",
       "    .dataframe tbody tr th:only-of-type {\n",
       "        vertical-align: middle;\n",
       "    }\n",
       "\n",
       "    .dataframe tbody tr th {\n",
       "        vertical-align: top;\n",
       "    }\n",
       "\n",
       "    .dataframe thead th {\n",
       "        text-align: right;\n",
       "    }\n",
       "</style>\n",
       "<table border=\"1\" class=\"dataframe\">\n",
       "  <thead>\n",
       "    <tr style=\"text-align: right;\">\n",
       "      <th></th>\n",
       "      <th>ContactId</th>\n",
       "      <th>Year</th>\n",
       "      <th>PledgeTotal</th>\n",
       "      <th>VolType</th>\n",
       "      <th>VolunteerActivityCnt</th>\n",
       "      <th>BirthYear</th>\n",
       "      <th>Gender</th>\n",
       "      <th>min_year</th>\n",
       "    </tr>\n",
       "  </thead>\n",
       "  <tbody>\n",
       "    <tr>\n",
       "      <td>381064</td>\n",
       "      <td>c14cb1d1-11cd-e111-941f-00259073dc22</td>\n",
       "      <td>2011</td>\n",
       "      <td>0.00</td>\n",
       "      <td>Standard</td>\n",
       "      <td>1.0</td>\n",
       "      <td>1977.0</td>\n",
       "      <td>male</td>\n",
       "      <td>2011</td>\n",
       "    </tr>\n",
       "    <tr>\n",
       "      <td>375844</td>\n",
       "      <td>e4d52ba3-a0dd-e211-a0e0-4040184c1c1a</td>\n",
       "      <td>2013</td>\n",
       "      <td>0.00</td>\n",
       "      <td>Standard</td>\n",
       "      <td>1.0</td>\n",
       "      <td>0.0</td>\n",
       "      <td>female</td>\n",
       "      <td>2013</td>\n",
       "    </tr>\n",
       "    <tr>\n",
       "      <td>378825</td>\n",
       "      <td>c9b699cf-11cd-e111-941f-00259073dc22</td>\n",
       "      <td>2010</td>\n",
       "      <td>0.00</td>\n",
       "      <td>Standard</td>\n",
       "      <td>1.0</td>\n",
       "      <td>1966.0</td>\n",
       "      <td>female</td>\n",
       "      <td>2010</td>\n",
       "    </tr>\n",
       "    <tr>\n",
       "      <td>380692</td>\n",
       "      <td>344015d2-11cd-e111-941f-00259073dc22</td>\n",
       "      <td>2012</td>\n",
       "      <td>0.00</td>\n",
       "      <td>Standard</td>\n",
       "      <td>1.0</td>\n",
       "      <td>0.0</td>\n",
       "      <td>male</td>\n",
       "      <td>2012</td>\n",
       "    </tr>\n",
       "    <tr>\n",
       "      <td>382008</td>\n",
       "      <td>425ab1d1-11cd-e111-941f-00259073dc22</td>\n",
       "      <td>2012</td>\n",
       "      <td>0.00</td>\n",
       "      <td>Standard</td>\n",
       "      <td>1.0</td>\n",
       "      <td>0.0</td>\n",
       "      <td>female</td>\n",
       "      <td>2011</td>\n",
       "    </tr>\n",
       "    <tr>\n",
       "      <td>378341</td>\n",
       "      <td>573f15d2-11cd-e111-941f-00259073dc22</td>\n",
       "      <td>2011</td>\n",
       "      <td>0.00</td>\n",
       "      <td>Standard</td>\n",
       "      <td>1.0</td>\n",
       "      <td>0.0</td>\n",
       "      <td>female</td>\n",
       "      <td>2011</td>\n",
       "    </tr>\n",
       "    <tr>\n",
       "      <td>385240</td>\n",
       "      <td>c1c762d1-11cd-e111-941f-00259073dc22</td>\n",
       "      <td>2015</td>\n",
       "      <td>1084.86</td>\n",
       "      <td>Standard</td>\n",
       "      <td>4.0</td>\n",
       "      <td>0.0</td>\n",
       "      <td>female</td>\n",
       "      <td>2010</td>\n",
       "    </tr>\n",
       "    <tr>\n",
       "      <td>382906</td>\n",
       "      <td>823e15d2-11cd-e111-941f-00259073dc22</td>\n",
       "      <td>2013</td>\n",
       "      <td>0.00</td>\n",
       "      <td>Standard</td>\n",
       "      <td>1.0</td>\n",
       "      <td>1983.0</td>\n",
       "      <td>female</td>\n",
       "      <td>2011</td>\n",
       "    </tr>\n",
       "    <tr>\n",
       "      <td>377332</td>\n",
       "      <td>a751b7d0-11cd-e111-941f-00259073dc22</td>\n",
       "      <td>2013</td>\n",
       "      <td>265.00</td>\n",
       "      <td>Standard</td>\n",
       "      <td>1.0</td>\n",
       "      <td>0.0</td>\n",
       "      <td>male</td>\n",
       "      <td>2013</td>\n",
       "    </tr>\n",
       "    <tr>\n",
       "      <td>379756</td>\n",
       "      <td>30e777a0-a231-e711-b10c-005056975e92</td>\n",
       "      <td>2017</td>\n",
       "      <td>0.00</td>\n",
       "      <td>Standard</td>\n",
       "      <td>1.0</td>\n",
       "      <td>0.0</td>\n",
       "      <td>female</td>\n",
       "      <td>2017</td>\n",
       "    </tr>\n",
       "  </tbody>\n",
       "</table>\n",
       "</div>"
      ],
      "text/plain": [
       "                                   ContactId  Year  PledgeTotal   VolType  \\\n",
       "381064  c14cb1d1-11cd-e111-941f-00259073dc22  2011         0.00  Standard   \n",
       "375844  e4d52ba3-a0dd-e211-a0e0-4040184c1c1a  2013         0.00  Standard   \n",
       "378825  c9b699cf-11cd-e111-941f-00259073dc22  2010         0.00  Standard   \n",
       "380692  344015d2-11cd-e111-941f-00259073dc22  2012         0.00  Standard   \n",
       "382008  425ab1d1-11cd-e111-941f-00259073dc22  2012         0.00  Standard   \n",
       "378341  573f15d2-11cd-e111-941f-00259073dc22  2011         0.00  Standard   \n",
       "385240  c1c762d1-11cd-e111-941f-00259073dc22  2015      1084.86  Standard   \n",
       "382906  823e15d2-11cd-e111-941f-00259073dc22  2013         0.00  Standard   \n",
       "377332  a751b7d0-11cd-e111-941f-00259073dc22  2013       265.00  Standard   \n",
       "379756  30e777a0-a231-e711-b10c-005056975e92  2017         0.00  Standard   \n",
       "\n",
       "        VolunteerActivityCnt  BirthYear  Gender  min_year  \n",
       "381064                   1.0     1977.0    male      2011  \n",
       "375844                   1.0        0.0  female      2013  \n",
       "378825                   1.0     1966.0  female      2010  \n",
       "380692                   1.0        0.0    male      2012  \n",
       "382008                   1.0        0.0  female      2011  \n",
       "378341                   1.0        0.0  female      2011  \n",
       "385240                   4.0        0.0  female      2010  \n",
       "382906                   1.0     1983.0  female      2011  \n",
       "377332                   1.0        0.0    male      2013  \n",
       "379756                   1.0        0.0  female      2017  "
      ]
     },
     "execution_count": 9,
     "metadata": {},
     "output_type": "execute_result"
    }
   ],
   "source": [
    "# display a random sample of 10 rows of the dataframe\n",
    "df_std_only.sample(10)"
   ]
  },
  {
   "cell_type": "code",
   "execution_count": 10,
   "metadata": {},
   "outputs": [],
   "source": [
    "# drop rows where Year = min_year\n",
    "df_std_only_t = df_std_only.drop(df_std_only[df_std_only.Year != df_std_only.min_year].index)"
   ]
  },
  {
   "cell_type": "code",
   "execution_count": 11,
   "metadata": {},
   "outputs": [],
   "source": [
    "# drop rows where there was no pledge\n",
    "df_init = df_std_only_t.drop(df_std_only_t[df_std_only_t.PledgeTotal != 0].index)"
   ]
  },
  {
   "cell_type": "code",
   "execution_count": 12,
   "metadata": {},
   "outputs": [
    {
     "data": {
      "text/plain": [
       "(4089, 8)"
      ]
     },
     "execution_count": 12,
     "metadata": {},
     "output_type": "execute_result"
    }
   ],
   "source": [
    "# number of rows and columns of the dataframe\n",
    "df_init.shape"
   ]
  },
  {
   "cell_type": "code",
   "execution_count": 13,
   "metadata": {},
   "outputs": [
    {
     "data": {
      "text/html": [
       "<div>\n",
       "<style scoped>\n",
       "    .dataframe tbody tr th:only-of-type {\n",
       "        vertical-align: middle;\n",
       "    }\n",
       "\n",
       "    .dataframe tbody tr th {\n",
       "        vertical-align: top;\n",
       "    }\n",
       "\n",
       "    .dataframe thead th {\n",
       "        text-align: right;\n",
       "    }\n",
       "</style>\n",
       "<table border=\"1\" class=\"dataframe\">\n",
       "  <thead>\n",
       "    <tr style=\"text-align: right;\">\n",
       "      <th></th>\n",
       "      <th>ContactId</th>\n",
       "      <th>Year</th>\n",
       "      <th>PledgeTotal</th>\n",
       "      <th>VolType</th>\n",
       "      <th>VolunteerActivityCnt</th>\n",
       "      <th>BirthYear</th>\n",
       "      <th>Gender</th>\n",
       "      <th>min_year</th>\n",
       "    </tr>\n",
       "  </thead>\n",
       "  <tbody>\n",
       "    <tr>\n",
       "      <td>377952</td>\n",
       "      <td>a914fde4-6579-e811-80ea-0050569e2a4f</td>\n",
       "      <td>2018</td>\n",
       "      <td>0.0</td>\n",
       "      <td>Standard</td>\n",
       "      <td>1.0</td>\n",
       "      <td>0.0</td>\n",
       "      <td>female</td>\n",
       "      <td>2018</td>\n",
       "    </tr>\n",
       "    <tr>\n",
       "      <td>378075</td>\n",
       "      <td>910ef4d6-59c9-e211-a0e0-4040184c1c1a</td>\n",
       "      <td>2012</td>\n",
       "      <td>0.0</td>\n",
       "      <td>Standard</td>\n",
       "      <td>1.0</td>\n",
       "      <td>0.0</td>\n",
       "      <td>female</td>\n",
       "      <td>2012</td>\n",
       "    </tr>\n",
       "    <tr>\n",
       "      <td>382742</td>\n",
       "      <td>7893efd3-302d-e311-a76b-4040184c1c1a</td>\n",
       "      <td>2013</td>\n",
       "      <td>0.0</td>\n",
       "      <td>Standard</td>\n",
       "      <td>1.0</td>\n",
       "      <td>0.0</td>\n",
       "      <td>female</td>\n",
       "      <td>2013</td>\n",
       "    </tr>\n",
       "    <tr>\n",
       "      <td>380950</td>\n",
       "      <td>f482d7ee-3ac3-e811-8101-0050569e2a4f</td>\n",
       "      <td>2018</td>\n",
       "      <td>0.0</td>\n",
       "      <td>Standard</td>\n",
       "      <td>1.0</td>\n",
       "      <td>0.0</td>\n",
       "      <td>0</td>\n",
       "      <td>2018</td>\n",
       "    </tr>\n",
       "    <tr>\n",
       "      <td>380370</td>\n",
       "      <td>932e8f61-1907-e611-828d-26d4160798d6</td>\n",
       "      <td>2016</td>\n",
       "      <td>0.0</td>\n",
       "      <td>Standard</td>\n",
       "      <td>1.0</td>\n",
       "      <td>0.0</td>\n",
       "      <td>0</td>\n",
       "      <td>2016</td>\n",
       "    </tr>\n",
       "    <tr>\n",
       "      <td>377982</td>\n",
       "      <td>a343e8cf-11cd-e111-941f-00259073dc22</td>\n",
       "      <td>2016</td>\n",
       "      <td>0.0</td>\n",
       "      <td>Standard</td>\n",
       "      <td>1.0</td>\n",
       "      <td>1947.0</td>\n",
       "      <td>female</td>\n",
       "      <td>2016</td>\n",
       "    </tr>\n",
       "    <tr>\n",
       "      <td>378308</td>\n",
       "      <td>784cb1d1-11cd-e111-941f-00259073dc22</td>\n",
       "      <td>2010</td>\n",
       "      <td>0.0</td>\n",
       "      <td>Standard</td>\n",
       "      <td>1.0</td>\n",
       "      <td>0.0</td>\n",
       "      <td>female</td>\n",
       "      <td>2010</td>\n",
       "    </tr>\n",
       "    <tr>\n",
       "      <td>375818</td>\n",
       "      <td>ba19f980-dc7c-4d7b-8588-750e24506578</td>\n",
       "      <td>2019</td>\n",
       "      <td>0.0</td>\n",
       "      <td>Standard</td>\n",
       "      <td>1.0</td>\n",
       "      <td>0.0</td>\n",
       "      <td>male</td>\n",
       "      <td>2019</td>\n",
       "    </tr>\n",
       "    <tr>\n",
       "      <td>380922</td>\n",
       "      <td>953db1d1-11cd-e111-941f-00259073dc22</td>\n",
       "      <td>2011</td>\n",
       "      <td>0.0</td>\n",
       "      <td>Standard</td>\n",
       "      <td>1.0</td>\n",
       "      <td>1970.0</td>\n",
       "      <td>female</td>\n",
       "      <td>2011</td>\n",
       "    </tr>\n",
       "    <tr>\n",
       "      <td>376120</td>\n",
       "      <td>0c7355db-23c2-e211-a0e0-4040184c1c1a</td>\n",
       "      <td>2012</td>\n",
       "      <td>0.0</td>\n",
       "      <td>Standard</td>\n",
       "      <td>1.0</td>\n",
       "      <td>0.0</td>\n",
       "      <td>male</td>\n",
       "      <td>2012</td>\n",
       "    </tr>\n",
       "  </tbody>\n",
       "</table>\n",
       "</div>"
      ],
      "text/plain": [
       "                                   ContactId  Year  PledgeTotal   VolType  \\\n",
       "377952  a914fde4-6579-e811-80ea-0050569e2a4f  2018          0.0  Standard   \n",
       "378075  910ef4d6-59c9-e211-a0e0-4040184c1c1a  2012          0.0  Standard   \n",
       "382742  7893efd3-302d-e311-a76b-4040184c1c1a  2013          0.0  Standard   \n",
       "380950  f482d7ee-3ac3-e811-8101-0050569e2a4f  2018          0.0  Standard   \n",
       "380370  932e8f61-1907-e611-828d-26d4160798d6  2016          0.0  Standard   \n",
       "377982  a343e8cf-11cd-e111-941f-00259073dc22  2016          0.0  Standard   \n",
       "378308  784cb1d1-11cd-e111-941f-00259073dc22  2010          0.0  Standard   \n",
       "375818  ba19f980-dc7c-4d7b-8588-750e24506578  2019          0.0  Standard   \n",
       "380922  953db1d1-11cd-e111-941f-00259073dc22  2011          0.0  Standard   \n",
       "376120  0c7355db-23c2-e211-a0e0-4040184c1c1a  2012          0.0  Standard   \n",
       "\n",
       "        VolunteerActivityCnt  BirthYear  Gender  min_year  \n",
       "377952                   1.0        0.0  female      2018  \n",
       "378075                   1.0        0.0  female      2012  \n",
       "382742                   1.0        0.0  female      2013  \n",
       "380950                   1.0        0.0       0      2018  \n",
       "380370                   1.0        0.0       0      2016  \n",
       "377982                   1.0     1947.0  female      2016  \n",
       "378308                   1.0        0.0  female      2010  \n",
       "375818                   1.0        0.0    male      2019  \n",
       "380922                   1.0     1970.0  female      2011  \n",
       "376120                   1.0        0.0    male      2012  "
      ]
     },
     "execution_count": 13,
     "metadata": {},
     "output_type": "execute_result"
    }
   ],
   "source": [
    "# show a random sample of 10 rows of the dataframe\n",
    "df_init.sample(10)"
   ]
  },
  {
   "cell_type": "markdown",
   "metadata": {},
   "source": [
    "The above dataframe shows the volunteers who volunteered and have never donated."
   ]
  },
  {
   "cell_type": "code",
   "execution_count": 14,
   "metadata": {},
   "outputs": [],
   "source": [
    "# create a new column that add 1 year to the 'min_year' column\n",
    "df_init['y2'] = df_init.min_year + 1"
   ]
  },
  {
   "cell_type": "code",
   "execution_count": 15,
   "metadata": {},
   "outputs": [
    {
     "data": {
      "text/html": [
       "<div>\n",
       "<style scoped>\n",
       "    .dataframe tbody tr th:only-of-type {\n",
       "        vertical-align: middle;\n",
       "    }\n",
       "\n",
       "    .dataframe tbody tr th {\n",
       "        vertical-align: top;\n",
       "    }\n",
       "\n",
       "    .dataframe thead th {\n",
       "        text-align: right;\n",
       "    }\n",
       "</style>\n",
       "<table border=\"1\" class=\"dataframe\">\n",
       "  <thead>\n",
       "    <tr style=\"text-align: right;\">\n",
       "      <th></th>\n",
       "      <th>ContactId</th>\n",
       "      <th>Year</th>\n",
       "      <th>PledgeTotal</th>\n",
       "      <th>VolType</th>\n",
       "      <th>VolunteerActivityCnt</th>\n",
       "      <th>BirthYear</th>\n",
       "      <th>Gender</th>\n",
       "      <th>min_year</th>\n",
       "      <th>y2</th>\n",
       "    </tr>\n",
       "  </thead>\n",
       "  <tbody>\n",
       "    <tr>\n",
       "      <td>375651</td>\n",
       "      <td>4c58f4ca-3545-e511-92f8-26d4160798d6</td>\n",
       "      <td>2015</td>\n",
       "      <td>0.0</td>\n",
       "      <td>Standard</td>\n",
       "      <td>1.0</td>\n",
       "      <td>0.0</td>\n",
       "      <td>0</td>\n",
       "      <td>2015</td>\n",
       "      <td>2016</td>\n",
       "    </tr>\n",
       "    <tr>\n",
       "      <td>375652</td>\n",
       "      <td>e34cb1d1-11cd-e111-941f-00259073dc22</td>\n",
       "      <td>2011</td>\n",
       "      <td>0.0</td>\n",
       "      <td>Standard</td>\n",
       "      <td>1.0</td>\n",
       "      <td>0.0</td>\n",
       "      <td>female</td>\n",
       "      <td>2011</td>\n",
       "      <td>2012</td>\n",
       "    </tr>\n",
       "    <tr>\n",
       "      <td>375653</td>\n",
       "      <td>29f9f78a-6681-e411-9b7f-26d4160798d6</td>\n",
       "      <td>2018</td>\n",
       "      <td>0.0</td>\n",
       "      <td>Standard</td>\n",
       "      <td>1.0</td>\n",
       "      <td>1955.0</td>\n",
       "      <td>female</td>\n",
       "      <td>2018</td>\n",
       "      <td>2019</td>\n",
       "    </tr>\n",
       "    <tr>\n",
       "      <td>375655</td>\n",
       "      <td>34aaf5d1-d3d1-e211-a0e0-4040184c1c1a</td>\n",
       "      <td>2012</td>\n",
       "      <td>0.0</td>\n",
       "      <td>Standard</td>\n",
       "      <td>1.0</td>\n",
       "      <td>0.0</td>\n",
       "      <td>female</td>\n",
       "      <td>2012</td>\n",
       "      <td>2013</td>\n",
       "    </tr>\n",
       "    <tr>\n",
       "      <td>375658</td>\n",
       "      <td>9350b1d1-11cd-e111-941f-00259073dc22</td>\n",
       "      <td>2011</td>\n",
       "      <td>0.0</td>\n",
       "      <td>Standard</td>\n",
       "      <td>1.0</td>\n",
       "      <td>0.0</td>\n",
       "      <td>female</td>\n",
       "      <td>2011</td>\n",
       "      <td>2012</td>\n",
       "    </tr>\n",
       "  </tbody>\n",
       "</table>\n",
       "</div>"
      ],
      "text/plain": [
       "                                   ContactId  Year  PledgeTotal   VolType  \\\n",
       "375651  4c58f4ca-3545-e511-92f8-26d4160798d6  2015          0.0  Standard   \n",
       "375652  e34cb1d1-11cd-e111-941f-00259073dc22  2011          0.0  Standard   \n",
       "375653  29f9f78a-6681-e411-9b7f-26d4160798d6  2018          0.0  Standard   \n",
       "375655  34aaf5d1-d3d1-e211-a0e0-4040184c1c1a  2012          0.0  Standard   \n",
       "375658  9350b1d1-11cd-e111-941f-00259073dc22  2011          0.0  Standard   \n",
       "\n",
       "        VolunteerActivityCnt  BirthYear  Gender  min_year    y2  \n",
       "375651                   1.0        0.0       0      2015  2016  \n",
       "375652                   1.0        0.0  female      2011  2012  \n",
       "375653                   1.0     1955.0  female      2018  2019  \n",
       "375655                   1.0        0.0  female      2012  2013  \n",
       "375658                   1.0        0.0  female      2011  2012  "
      ]
     },
     "execution_count": 15,
     "metadata": {},
     "output_type": "execute_result"
    }
   ],
   "source": [
    "# display the first 5 rows of the dataframe\n",
    "df_init.head()"
   ]
  },
  {
   "cell_type": "code",
   "execution_count": 16,
   "metadata": {},
   "outputs": [],
   "source": [
    "# create a new dataframe to capture the pledge amount for the year after they volunteered\n",
    "new_df = pd.merge(df_init, df, how='left', left_on=['ContactId','y2'], right_on = ['ContactId', 'Year'])"
   ]
  },
  {
   "cell_type": "code",
   "execution_count": 17,
   "metadata": {},
   "outputs": [
    {
     "data": {
      "text/plain": [
       "(4089, 15)"
      ]
     },
     "execution_count": 17,
     "metadata": {},
     "output_type": "execute_result"
    }
   ],
   "source": [
    "# display the number of rows and columns of dataframe\n",
    "new_df.shape"
   ]
  },
  {
   "cell_type": "code",
   "execution_count": 18,
   "metadata": {},
   "outputs": [
    {
     "data": {
      "text/html": [
       "<div>\n",
       "<style scoped>\n",
       "    .dataframe tbody tr th:only-of-type {\n",
       "        vertical-align: middle;\n",
       "    }\n",
       "\n",
       "    .dataframe tbody tr th {\n",
       "        vertical-align: top;\n",
       "    }\n",
       "\n",
       "    .dataframe thead th {\n",
       "        text-align: right;\n",
       "    }\n",
       "</style>\n",
       "<table border=\"1\" class=\"dataframe\">\n",
       "  <thead>\n",
       "    <tr style=\"text-align: right;\">\n",
       "      <th></th>\n",
       "      <th>ContactId</th>\n",
       "      <th>Year_x</th>\n",
       "      <th>PledgeTotal_x</th>\n",
       "      <th>VolType_x</th>\n",
       "      <th>VolunteerActivityCnt_x</th>\n",
       "      <th>BirthYear_x</th>\n",
       "      <th>Gender_x</th>\n",
       "      <th>min_year</th>\n",
       "      <th>y2</th>\n",
       "      <th>Year_y</th>\n",
       "      <th>PledgeTotal_y</th>\n",
       "      <th>VolType_y</th>\n",
       "      <th>VolunteerActivityCnt_y</th>\n",
       "      <th>BirthYear_y</th>\n",
       "      <th>Gender_y</th>\n",
       "    </tr>\n",
       "  </thead>\n",
       "  <tbody>\n",
       "    <tr>\n",
       "      <td>491</td>\n",
       "      <td>4e52b1d1-11cd-e111-941f-00259073dc22</td>\n",
       "      <td>2014</td>\n",
       "      <td>0.0</td>\n",
       "      <td>Standard</td>\n",
       "      <td>1.0</td>\n",
       "      <td>1953.0</td>\n",
       "      <td>female</td>\n",
       "      <td>2014</td>\n",
       "      <td>2015</td>\n",
       "      <td>NaN</td>\n",
       "      <td>NaN</td>\n",
       "      <td>NaN</td>\n",
       "      <td>NaN</td>\n",
       "      <td>NaN</td>\n",
       "      <td>NaN</td>\n",
       "    </tr>\n",
       "    <tr>\n",
       "      <td>309</td>\n",
       "      <td>403eb1d1-11cd-e111-941f-00259073dc22</td>\n",
       "      <td>2012</td>\n",
       "      <td>0.0</td>\n",
       "      <td>Standard</td>\n",
       "      <td>1.0</td>\n",
       "      <td>0.0</td>\n",
       "      <td>female</td>\n",
       "      <td>2012</td>\n",
       "      <td>2013</td>\n",
       "      <td>NaN</td>\n",
       "      <td>NaN</td>\n",
       "      <td>NaN</td>\n",
       "      <td>NaN</td>\n",
       "      <td>NaN</td>\n",
       "      <td>NaN</td>\n",
       "    </tr>\n",
       "    <tr>\n",
       "      <td>2331</td>\n",
       "      <td>d70675ce-11cd-e111-941f-00259073dc22</td>\n",
       "      <td>2013</td>\n",
       "      <td>0.0</td>\n",
       "      <td>Standard</td>\n",
       "      <td>1.0</td>\n",
       "      <td>0.0</td>\n",
       "      <td>female</td>\n",
       "      <td>2013</td>\n",
       "      <td>2014</td>\n",
       "      <td>2014.0</td>\n",
       "      <td>496.08</td>\n",
       "      <td>Standard</td>\n",
       "      <td>1.0</td>\n",
       "      <td>0.0</td>\n",
       "      <td>female</td>\n",
       "    </tr>\n",
       "    <tr>\n",
       "      <td>2397</td>\n",
       "      <td>d38a7601-1407-e611-828d-26d4160798d6</td>\n",
       "      <td>2016</td>\n",
       "      <td>0.0</td>\n",
       "      <td>Standard</td>\n",
       "      <td>1.0</td>\n",
       "      <td>0.0</td>\n",
       "      <td>0</td>\n",
       "      <td>2016</td>\n",
       "      <td>2017</td>\n",
       "      <td>NaN</td>\n",
       "      <td>NaN</td>\n",
       "      <td>NaN</td>\n",
       "      <td>NaN</td>\n",
       "      <td>NaN</td>\n",
       "      <td>NaN</td>\n",
       "    </tr>\n",
       "    <tr>\n",
       "      <td>3683</td>\n",
       "      <td>a44de8cf-11cd-e111-941f-00259073dc22</td>\n",
       "      <td>2013</td>\n",
       "      <td>0.0</td>\n",
       "      <td>Standard</td>\n",
       "      <td>1.0</td>\n",
       "      <td>0.0</td>\n",
       "      <td>male</td>\n",
       "      <td>2013</td>\n",
       "      <td>2014</td>\n",
       "      <td>NaN</td>\n",
       "      <td>NaN</td>\n",
       "      <td>NaN</td>\n",
       "      <td>NaN</td>\n",
       "      <td>NaN</td>\n",
       "      <td>NaN</td>\n",
       "    </tr>\n",
       "  </tbody>\n",
       "</table>\n",
       "</div>"
      ],
      "text/plain": [
       "                                 ContactId  Year_x  PledgeTotal_x VolType_x  \\\n",
       "491   4e52b1d1-11cd-e111-941f-00259073dc22    2014            0.0  Standard   \n",
       "309   403eb1d1-11cd-e111-941f-00259073dc22    2012            0.0  Standard   \n",
       "2331  d70675ce-11cd-e111-941f-00259073dc22    2013            0.0  Standard   \n",
       "2397  d38a7601-1407-e611-828d-26d4160798d6    2016            0.0  Standard   \n",
       "3683  a44de8cf-11cd-e111-941f-00259073dc22    2013            0.0  Standard   \n",
       "\n",
       "      VolunteerActivityCnt_x  BirthYear_x Gender_x  min_year    y2  Year_y  \\\n",
       "491                      1.0       1953.0   female      2014  2015     NaN   \n",
       "309                      1.0          0.0   female      2012  2013     NaN   \n",
       "2331                     1.0          0.0   female      2013  2014  2014.0   \n",
       "2397                     1.0          0.0        0      2016  2017     NaN   \n",
       "3683                     1.0          0.0     male      2013  2014     NaN   \n",
       "\n",
       "      PledgeTotal_y VolType_y  VolunteerActivityCnt_y  BirthYear_y Gender_y  \n",
       "491             NaN       NaN                     NaN          NaN      NaN  \n",
       "309             NaN       NaN                     NaN          NaN      NaN  \n",
       "2331         496.08  Standard                     1.0          0.0   female  \n",
       "2397            NaN       NaN                     NaN          NaN      NaN  \n",
       "3683            NaN       NaN                     NaN          NaN      NaN  "
      ]
     },
     "execution_count": 18,
     "metadata": {},
     "output_type": "execute_result"
    }
   ],
   "source": [
    "# view a random sample of 5 rows\n",
    "new_df.sample(5)"
   ]
  },
  {
   "cell_type": "code",
   "execution_count": 19,
   "metadata": {},
   "outputs": [],
   "source": [
    "# fill NaNs with 0\n",
    "new_df = new_df.fillna(0)"
   ]
  },
  {
   "cell_type": "code",
   "execution_count": 20,
   "metadata": {},
   "outputs": [],
   "source": [
    "# drop all rows with 0 in pledge total\n",
    "new_df = new_df.drop(new_df[new_df.PledgeTotal_y == 0].index)"
   ]
  },
  {
   "cell_type": "code",
   "execution_count": 21,
   "metadata": {},
   "outputs": [
    {
     "data": {
      "text/plain": [
       "(255, 15)"
      ]
     },
     "execution_count": 21,
     "metadata": {},
     "output_type": "execute_result"
    }
   ],
   "source": [
    "# new number of rows which is the number of people who donated the year after they volunteered\n",
    "new_df.shape"
   ]
  },
  {
   "cell_type": "code",
   "execution_count": 22,
   "metadata": {},
   "outputs": [
    {
     "data": {
      "text/plain": [
       "237.19337254901964"
      ]
     },
     "execution_count": 22,
     "metadata": {},
     "output_type": "execute_result"
    }
   ],
   "source": [
    "# capture the mean donation\n",
    "new_df.PledgeTotal_y.mean()"
   ]
  },
  {
   "cell_type": "code",
   "execution_count": 23,
   "metadata": {},
   "outputs": [
    {
     "data": {
      "text/plain": [
       "0.06236243580337491"
      ]
     },
     "execution_count": 23,
     "metadata": {},
     "output_type": "execute_result"
    }
   ],
   "source": [
    "# get the probability of those who donated the year after they volunteered\n",
    "255/4089"
   ]
  },
  {
   "cell_type": "markdown",
   "metadata": {},
   "source": [
    "So, **6.2%** of volunteers who had never donated, donated the following year. In other words, there is a **6.2%** chance that a volunteer who has never donated will make a donation in the year following there first volunteer activity.\n",
    "\n",
    "There average donation for this group was **237** USD."
   ]
  },
  {
   "cell_type": "markdown",
   "metadata": {},
   "source": [
    "### Now, check about the case for 5 years later:"
   ]
  },
  {
   "cell_type": "code",
   "execution_count": 24,
   "metadata": {},
   "outputs": [],
   "source": [
    "##### All of the following steps are same as above except adding 5 years instead of 1 #######\n",
    "df_init['y5'] = df_init.min_year + 5"
   ]
  },
  {
   "cell_type": "code",
   "execution_count": 25,
   "metadata": {},
   "outputs": [],
   "source": [
    "new_df_5 = pd.merge(df_init, df, how='left', left_on=['ContactId','y5'], right_on = ['ContactId', 'Year'])"
   ]
  },
  {
   "cell_type": "code",
   "execution_count": 26,
   "metadata": {},
   "outputs": [
    {
     "data": {
      "text/html": [
       "<div>\n",
       "<style scoped>\n",
       "    .dataframe tbody tr th:only-of-type {\n",
       "        vertical-align: middle;\n",
       "    }\n",
       "\n",
       "    .dataframe tbody tr th {\n",
       "        vertical-align: top;\n",
       "    }\n",
       "\n",
       "    .dataframe thead th {\n",
       "        text-align: right;\n",
       "    }\n",
       "</style>\n",
       "<table border=\"1\" class=\"dataframe\">\n",
       "  <thead>\n",
       "    <tr style=\"text-align: right;\">\n",
       "      <th></th>\n",
       "      <th>ContactId</th>\n",
       "      <th>Year_x</th>\n",
       "      <th>PledgeTotal_x</th>\n",
       "      <th>VolType_x</th>\n",
       "      <th>VolunteerActivityCnt_x</th>\n",
       "      <th>BirthYear_x</th>\n",
       "      <th>Gender_x</th>\n",
       "      <th>min_year</th>\n",
       "      <th>y2</th>\n",
       "      <th>y5</th>\n",
       "      <th>Year_y</th>\n",
       "      <th>PledgeTotal_y</th>\n",
       "      <th>VolType_y</th>\n",
       "      <th>VolunteerActivityCnt_y</th>\n",
       "      <th>BirthYear_y</th>\n",
       "      <th>Gender_y</th>\n",
       "    </tr>\n",
       "  </thead>\n",
       "  <tbody>\n",
       "    <tr>\n",
       "      <td>0</td>\n",
       "      <td>4c58f4ca-3545-e511-92f8-26d4160798d6</td>\n",
       "      <td>2015</td>\n",
       "      <td>0.0</td>\n",
       "      <td>Standard</td>\n",
       "      <td>1.0</td>\n",
       "      <td>0.0</td>\n",
       "      <td>0</td>\n",
       "      <td>2015</td>\n",
       "      <td>2016</td>\n",
       "      <td>2020</td>\n",
       "      <td>NaN</td>\n",
       "      <td>NaN</td>\n",
       "      <td>NaN</td>\n",
       "      <td>NaN</td>\n",
       "      <td>NaN</td>\n",
       "      <td>NaN</td>\n",
       "    </tr>\n",
       "    <tr>\n",
       "      <td>1</td>\n",
       "      <td>e34cb1d1-11cd-e111-941f-00259073dc22</td>\n",
       "      <td>2011</td>\n",
       "      <td>0.0</td>\n",
       "      <td>Standard</td>\n",
       "      <td>1.0</td>\n",
       "      <td>0.0</td>\n",
       "      <td>female</td>\n",
       "      <td>2011</td>\n",
       "      <td>2012</td>\n",
       "      <td>2016</td>\n",
       "      <td>NaN</td>\n",
       "      <td>NaN</td>\n",
       "      <td>NaN</td>\n",
       "      <td>NaN</td>\n",
       "      <td>NaN</td>\n",
       "      <td>NaN</td>\n",
       "    </tr>\n",
       "    <tr>\n",
       "      <td>2</td>\n",
       "      <td>29f9f78a-6681-e411-9b7f-26d4160798d6</td>\n",
       "      <td>2018</td>\n",
       "      <td>0.0</td>\n",
       "      <td>Standard</td>\n",
       "      <td>1.0</td>\n",
       "      <td>1955.0</td>\n",
       "      <td>female</td>\n",
       "      <td>2018</td>\n",
       "      <td>2019</td>\n",
       "      <td>2023</td>\n",
       "      <td>NaN</td>\n",
       "      <td>NaN</td>\n",
       "      <td>NaN</td>\n",
       "      <td>NaN</td>\n",
       "      <td>NaN</td>\n",
       "      <td>NaN</td>\n",
       "    </tr>\n",
       "    <tr>\n",
       "      <td>3</td>\n",
       "      <td>34aaf5d1-d3d1-e211-a0e0-4040184c1c1a</td>\n",
       "      <td>2012</td>\n",
       "      <td>0.0</td>\n",
       "      <td>Standard</td>\n",
       "      <td>1.0</td>\n",
       "      <td>0.0</td>\n",
       "      <td>female</td>\n",
       "      <td>2012</td>\n",
       "      <td>2013</td>\n",
       "      <td>2017</td>\n",
       "      <td>NaN</td>\n",
       "      <td>NaN</td>\n",
       "      <td>NaN</td>\n",
       "      <td>NaN</td>\n",
       "      <td>NaN</td>\n",
       "      <td>NaN</td>\n",
       "    </tr>\n",
       "    <tr>\n",
       "      <td>4</td>\n",
       "      <td>9350b1d1-11cd-e111-941f-00259073dc22</td>\n",
       "      <td>2011</td>\n",
       "      <td>0.0</td>\n",
       "      <td>Standard</td>\n",
       "      <td>1.0</td>\n",
       "      <td>0.0</td>\n",
       "      <td>female</td>\n",
       "      <td>2011</td>\n",
       "      <td>2012</td>\n",
       "      <td>2016</td>\n",
       "      <td>2016.0</td>\n",
       "      <td>54.6</td>\n",
       "      <td>0</td>\n",
       "      <td>0.0</td>\n",
       "      <td>0.0</td>\n",
       "      <td>female</td>\n",
       "    </tr>\n",
       "  </tbody>\n",
       "</table>\n",
       "</div>"
      ],
      "text/plain": [
       "                              ContactId  Year_x  PledgeTotal_x VolType_x  \\\n",
       "0  4c58f4ca-3545-e511-92f8-26d4160798d6    2015            0.0  Standard   \n",
       "1  e34cb1d1-11cd-e111-941f-00259073dc22    2011            0.0  Standard   \n",
       "2  29f9f78a-6681-e411-9b7f-26d4160798d6    2018            0.0  Standard   \n",
       "3  34aaf5d1-d3d1-e211-a0e0-4040184c1c1a    2012            0.0  Standard   \n",
       "4  9350b1d1-11cd-e111-941f-00259073dc22    2011            0.0  Standard   \n",
       "\n",
       "   VolunteerActivityCnt_x  BirthYear_x Gender_x  min_year    y2    y5  Year_y  \\\n",
       "0                     1.0          0.0        0      2015  2016  2020     NaN   \n",
       "1                     1.0          0.0   female      2011  2012  2016     NaN   \n",
       "2                     1.0       1955.0   female      2018  2019  2023     NaN   \n",
       "3                     1.0          0.0   female      2012  2013  2017     NaN   \n",
       "4                     1.0          0.0   female      2011  2012  2016  2016.0   \n",
       "\n",
       "   PledgeTotal_y VolType_y  VolunteerActivityCnt_y  BirthYear_y Gender_y  \n",
       "0            NaN       NaN                     NaN          NaN      NaN  \n",
       "1            NaN       NaN                     NaN          NaN      NaN  \n",
       "2            NaN       NaN                     NaN          NaN      NaN  \n",
       "3            NaN       NaN                     NaN          NaN      NaN  \n",
       "4           54.6         0                     0.0          0.0   female  "
      ]
     },
     "execution_count": 26,
     "metadata": {},
     "output_type": "execute_result"
    }
   ],
   "source": [
    "new_df_5.head()"
   ]
  },
  {
   "cell_type": "code",
   "execution_count": 27,
   "metadata": {},
   "outputs": [
    {
     "data": {
      "text/plain": [
       "(4089, 16)"
      ]
     },
     "execution_count": 27,
     "metadata": {},
     "output_type": "execute_result"
    }
   ],
   "source": [
    "new_df_5.shape"
   ]
  },
  {
   "cell_type": "code",
   "execution_count": 28,
   "metadata": {},
   "outputs": [],
   "source": [
    "new_df_5 = new_df_5.fillna(0)"
   ]
  },
  {
   "cell_type": "code",
   "execution_count": 29,
   "metadata": {},
   "outputs": [],
   "source": [
    "new_df_5 = new_df_5.drop(new_df_5[new_df_5.PledgeTotal_y == 0].index)"
   ]
  },
  {
   "cell_type": "code",
   "execution_count": 30,
   "metadata": {},
   "outputs": [
    {
     "data": {
      "text/plain": [
       "(192, 16)"
      ]
     },
     "execution_count": 30,
     "metadata": {},
     "output_type": "execute_result"
    }
   ],
   "source": [
    "new_df_5.shape"
   ]
  },
  {
   "cell_type": "code",
   "execution_count": 31,
   "metadata": {},
   "outputs": [
    {
     "data": {
      "text/plain": [
       "267.56671875"
      ]
     },
     "execution_count": 31,
     "metadata": {},
     "output_type": "execute_result"
    }
   ],
   "source": [
    "new_df_5.PledgeTotal_y.mean()"
   ]
  },
  {
   "cell_type": "code",
   "execution_count": 32,
   "metadata": {},
   "outputs": [
    {
     "data": {
      "text/plain": [
       "0.046863558701488894"
      ]
     },
     "execution_count": 32,
     "metadata": {},
     "output_type": "execute_result"
    }
   ],
   "source": [
    "192/4097"
   ]
  },
  {
   "cell_type": "markdown",
   "metadata": {},
   "source": [
    "# Conclusion:  \n",
    "\n",
    "After the first year of volunteering, those volunteers gave a gift **6.2%** of the time the following year and **4.7%** of the time in the 5th year after volunteering.  \n",
    "\n",
    "The average gift 1 year later was **237 USD** and it was **268 USD** 5 years later."
   ]
  }
 ],
 "metadata": {
  "kernelspec": {
   "display_name": "Python 3",
   "language": "python",
   "name": "python3"
  },
  "language_info": {
   "codemirror_mode": {
    "name": "ipython",
    "version": 3
   },
   "file_extension": ".py",
   "mimetype": "text/x-python",
   "name": "python",
   "nbconvert_exporter": "python",
   "pygments_lexer": "ipython3",
   "version": "3.7.4"
  }
 },
 "nbformat": 4,
 "nbformat_minor": 2
}
