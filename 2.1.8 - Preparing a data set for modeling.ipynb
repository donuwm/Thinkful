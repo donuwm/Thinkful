{
 "cells": [
  {
   "cell_type": "markdown",
   "metadata": {},
   "source": [
    "### Using a dataset of your choice, select an outcome variable and then pick four or five other variables (one to two categorical, three to four continuous) to act as the basis for features. Explore the variables using the univariate and bivariate methods you've learned so far.  \n",
    "\n",
    "### Next, based on what you learned via your data exploration, create ten new features. Explain the reasoning behind each one.  \n",
    "\n",
    "### Finally, use filtering methods to select the five best features and justify your choices."
   ]
  },
  {
   "cell_type": "code",
   "execution_count": 20,
   "metadata": {},
   "outputs": [],
   "source": [
    "import numpy as np\n",
    "import pandas as pd\n",
    "import matplotlib.pyplot as plt\n",
    "import seaborn as sns"
   ]
  },
  {
   "cell_type": "code",
   "execution_count": 21,
   "metadata": {},
   "outputs": [],
   "source": [
    "plt.rcParams['figure.figsize'] = (10.0, 5.0)\n",
    "plt.rcParams['font.size'] = (16)"
   ]
  },
  {
   "cell_type": "markdown",
   "metadata": {},
   "source": [
    "#### The chosen dataset are test scores for math, reading and writing along with some other student features."
   ]
  },
  {
   "cell_type": "code",
   "execution_count": 22,
   "metadata": {},
   "outputs": [
    {
     "data": {
      "text/html": [
       "<div>\n",
       "<style scoped>\n",
       "    .dataframe tbody tr th:only-of-type {\n",
       "        vertical-align: middle;\n",
       "    }\n",
       "\n",
       "    .dataframe tbody tr th {\n",
       "        vertical-align: top;\n",
       "    }\n",
       "\n",
       "    .dataframe thead th {\n",
       "        text-align: right;\n",
       "    }\n",
       "</style>\n",
       "<table border=\"1\" class=\"dataframe\">\n",
       "  <thead>\n",
       "    <tr style=\"text-align: right;\">\n",
       "      <th></th>\n",
       "      <th>gender</th>\n",
       "      <th>race/ethnicity</th>\n",
       "      <th>parental level of education</th>\n",
       "      <th>lunch</th>\n",
       "      <th>test preparation course</th>\n",
       "      <th>math score</th>\n",
       "      <th>reading score</th>\n",
       "      <th>writing score</th>\n",
       "    </tr>\n",
       "  </thead>\n",
       "  <tbody>\n",
       "    <tr>\n",
       "      <th>0</th>\n",
       "      <td>female</td>\n",
       "      <td>group B</td>\n",
       "      <td>bachelor's degree</td>\n",
       "      <td>standard</td>\n",
       "      <td>none</td>\n",
       "      <td>72</td>\n",
       "      <td>72</td>\n",
       "      <td>74</td>\n",
       "    </tr>\n",
       "    <tr>\n",
       "      <th>1</th>\n",
       "      <td>female</td>\n",
       "      <td>group C</td>\n",
       "      <td>some college</td>\n",
       "      <td>standard</td>\n",
       "      <td>completed</td>\n",
       "      <td>69</td>\n",
       "      <td>90</td>\n",
       "      <td>88</td>\n",
       "    </tr>\n",
       "    <tr>\n",
       "      <th>2</th>\n",
       "      <td>female</td>\n",
       "      <td>group B</td>\n",
       "      <td>master's degree</td>\n",
       "      <td>standard</td>\n",
       "      <td>none</td>\n",
       "      <td>90</td>\n",
       "      <td>95</td>\n",
       "      <td>93</td>\n",
       "    </tr>\n",
       "    <tr>\n",
       "      <th>3</th>\n",
       "      <td>male</td>\n",
       "      <td>group A</td>\n",
       "      <td>associate's degree</td>\n",
       "      <td>free/reduced</td>\n",
       "      <td>none</td>\n",
       "      <td>47</td>\n",
       "      <td>57</td>\n",
       "      <td>44</td>\n",
       "    </tr>\n",
       "    <tr>\n",
       "      <th>4</th>\n",
       "      <td>male</td>\n",
       "      <td>group C</td>\n",
       "      <td>some college</td>\n",
       "      <td>standard</td>\n",
       "      <td>none</td>\n",
       "      <td>76</td>\n",
       "      <td>78</td>\n",
       "      <td>75</td>\n",
       "    </tr>\n",
       "  </tbody>\n",
       "</table>\n",
       "</div>"
      ],
      "text/plain": [
       "   gender race/ethnicity parental level of education         lunch  \\\n",
       "0  female        group B           bachelor's degree      standard   \n",
       "1  female        group C                some college      standard   \n",
       "2  female        group B             master's degree      standard   \n",
       "3    male        group A          associate's degree  free/reduced   \n",
       "4    male        group C                some college      standard   \n",
       "\n",
       "  test preparation course  math score  reading score  writing score  \n",
       "0                    none          72             72             74  \n",
       "1               completed          69             90             88  \n",
       "2                    none          90             95             93  \n",
       "3                    none          47             57             44  \n",
       "4                    none          76             78             75  "
      ]
     },
     "execution_count": 22,
     "metadata": {},
     "output_type": "execute_result"
    }
   ],
   "source": [
    "# Import data into df_usd data frame\n",
    "df_scores = pd.read_csv('studentsperformance.csv')\n",
    "\n",
    "# print 1st 5 rows of df_usd (spot price)\n",
    "df_scores.head()"
   ]
  },
  {
   "cell_type": "code",
   "execution_count": 23,
   "metadata": {},
   "outputs": [
    {
     "data": {
      "text/html": [
       "<div>\n",
       "<style scoped>\n",
       "    .dataframe tbody tr th:only-of-type {\n",
       "        vertical-align: middle;\n",
       "    }\n",
       "\n",
       "    .dataframe tbody tr th {\n",
       "        vertical-align: top;\n",
       "    }\n",
       "\n",
       "    .dataframe thead th {\n",
       "        text-align: right;\n",
       "    }\n",
       "</style>\n",
       "<table border=\"1\" class=\"dataframe\">\n",
       "  <thead>\n",
       "    <tr style=\"text-align: right;\">\n",
       "      <th></th>\n",
       "      <th>gender</th>\n",
       "      <th>race/ethnicity</th>\n",
       "      <th>parental level of education</th>\n",
       "      <th>lunch</th>\n",
       "      <th>test preparation course</th>\n",
       "      <th>math score</th>\n",
       "      <th>reading score</th>\n",
       "      <th>writing score</th>\n",
       "    </tr>\n",
       "  </thead>\n",
       "  <tbody>\n",
       "    <tr>\n",
       "      <th>995</th>\n",
       "      <td>female</td>\n",
       "      <td>group E</td>\n",
       "      <td>master's degree</td>\n",
       "      <td>standard</td>\n",
       "      <td>completed</td>\n",
       "      <td>88</td>\n",
       "      <td>99</td>\n",
       "      <td>95</td>\n",
       "    </tr>\n",
       "    <tr>\n",
       "      <th>996</th>\n",
       "      <td>male</td>\n",
       "      <td>group C</td>\n",
       "      <td>high school</td>\n",
       "      <td>free/reduced</td>\n",
       "      <td>none</td>\n",
       "      <td>62</td>\n",
       "      <td>55</td>\n",
       "      <td>55</td>\n",
       "    </tr>\n",
       "    <tr>\n",
       "      <th>997</th>\n",
       "      <td>female</td>\n",
       "      <td>group C</td>\n",
       "      <td>high school</td>\n",
       "      <td>free/reduced</td>\n",
       "      <td>completed</td>\n",
       "      <td>59</td>\n",
       "      <td>71</td>\n",
       "      <td>65</td>\n",
       "    </tr>\n",
       "    <tr>\n",
       "      <th>998</th>\n",
       "      <td>female</td>\n",
       "      <td>group D</td>\n",
       "      <td>some college</td>\n",
       "      <td>standard</td>\n",
       "      <td>completed</td>\n",
       "      <td>68</td>\n",
       "      <td>78</td>\n",
       "      <td>77</td>\n",
       "    </tr>\n",
       "    <tr>\n",
       "      <th>999</th>\n",
       "      <td>female</td>\n",
       "      <td>group D</td>\n",
       "      <td>some college</td>\n",
       "      <td>free/reduced</td>\n",
       "      <td>none</td>\n",
       "      <td>77</td>\n",
       "      <td>86</td>\n",
       "      <td>86</td>\n",
       "    </tr>\n",
       "  </tbody>\n",
       "</table>\n",
       "</div>"
      ],
      "text/plain": [
       "     gender race/ethnicity parental level of education         lunch  \\\n",
       "995  female        group E             master's degree      standard   \n",
       "996    male        group C                 high school  free/reduced   \n",
       "997  female        group C                 high school  free/reduced   \n",
       "998  female        group D                some college      standard   \n",
       "999  female        group D                some college  free/reduced   \n",
       "\n",
       "    test preparation course  math score  reading score  writing score  \n",
       "995               completed          88             99             95  \n",
       "996                    none          62             55             55  \n",
       "997               completed          59             71             65  \n",
       "998               completed          68             78             77  \n",
       "999                    none          77             86             86  "
      ]
     },
     "execution_count": 23,
     "metadata": {},
     "output_type": "execute_result"
    }
   ],
   "source": [
    "df_scores.tail()"
   ]
  },
  {
   "cell_type": "markdown",
   "metadata": {},
   "source": [
    "### Outcome Variable:  math score - Did the student get at least a C on the math score ?\n",
    "\n",
    "- Other variables:\n",
    "    - Categorical:\n",
    "        - gender\n",
    "        - race/ethnicity\n",
    "        - parent level of eduction\n",
    "        - lunch\n",
    "        - test preperation\n",
    "    - Discrete:\n",
    "        - reading score (ratio variable)\n",
    "        - writing score (ratio variable)\n",
    "    - Continuous:\n",
    "        - Any average for either of the 3 tests or average by gender, race, preparation, etc."
   ]
  },
  {
   "cell_type": "markdown",
   "metadata": {},
   "source": [
    "### Exploring the data - Univariate:\n",
    "- How many variables do I have?\n",
    "    - 5 categorical and 3 continuous\n",
    "- How many datapoints?\n",
    "    - 1000 rows \n",
    "- Which variables are continuous (having an infinite number of possible values, such as age) and which are categorical (having a limited number of values, such as gender).\n",
    "    - (see above)\n",
    "- Do any of my variables have a known probability distribution (normal, Poisson, Gamma, etc)?\n",
    "    - all 3 continuous variables look like they have a normal probablity distribution. (see below)\n",
    "- Do I have missing data? If so, how much?\n",
    "    - no missing data\n",
    "- How much variance is there in each of my variables? If you’ve cleaned this dataset yourself, you’ll probably already know the answers to most of these questions.\n",
    "    - (see below for variances of each of the 3 continuous variables.)"
   ]
  },
  {
   "cell_type": "code",
   "execution_count": 30,
   "metadata": {},
   "outputs": [
    {
     "data": {
      "image/png": "[encoded data removed]",
      "text/plain": [
       "<Figure size 720x360 with 3 Axes>"
      ]
     },
     "metadata": {
      "needs_background": "light"
     },
     "output_type": "display_data"
    }
   ],
   "source": [
    "# Making a three-panel plot.\n",
    "fig = plt.figure()\n",
    "\n",
    "fig.add_subplot(221)\n",
    "plt.hist(df_scores['math score'])\n",
    "plt.title('Math')\n",
    "plt.xlabel('Score')\n",
    "plt.ylabel('Number in each bin')\n",
    "\n",
    "fig.add_subplot(222)\n",
    "plt.hist(df_scores['reading score'])\n",
    "plt.title('Reading')\n",
    "plt.xlabel('Score')\n",
    "plt.ylabel('Number in each bin')\n",
    "\n",
    "plt.subplots_adjust(hspace=1.0, wspace=.5)\n",
    "\n",
    "fig.add_subplot(223)\n",
    "plt.hist(df_scores['writing score'])\n",
    "plt.title('Writing')\n",
    "plt.xlabel('Score')\n",
    "plt.ylabel('Number in each bin')\n",
    "\n",
    "plt.show()"
   ]
  },
  {
   "cell_type": "code",
   "execution_count": 37,
   "metadata": {},
   "outputs": [
    {
     "name": "stdout",
     "output_type": "stream",
     "text": [
      "math score       229.918998\n",
      "reading score    213.165605\n",
      "writing score    230.907992\n",
      "dtype: float64\n"
     ]
    }
   ],
   "source": [
    "print(df_scores.var(axis=0))"
   ]
  },
  {
   "cell_type": "code",
   "execution_count": 38,
   "metadata": {},
   "outputs": [
    {
     "name": "stdout",
     "output_type": "stream",
     "text": [
      "math score       15.163080\n",
      "reading score    14.600192\n",
      "writing score    15.195657\n",
      "dtype: float64\n"
     ]
    }
   ],
   "source": [
    "print(df_scores.std(axis=0))"
   ]
  },
  {
   "cell_type": "markdown",
   "metadata": {},
   "source": [
    "### Exploring the data - Bivariate:\n",
    "- The scatterplot\n",
    "    - (see plots below)\n",
    "\n",
    "- The correlation coefficient\n",
    "    - r (math and reading) = **0.8175796636720539**\n",
    "    - r (math and writing) = **0.8026420459498083**\n",
    "    - r (reading and writitng) = **0.9545980771462479**\n",
    "    - (see below for calculations)\n",
    "- Look for: two-dimensional outliers that represent unusual combinations of values\n",
    "    - no significant outliers"
   ]
  },
  {
   "cell_type": "code",
   "execution_count": 42,
   "metadata": {},
   "outputs": [
    {
     "data": {
      "image/png": "[encoded data removed]",
      "text/plain": [
       "<Figure size 720x360 with 3 Axes>"
      ]
     },
     "metadata": {
      "needs_background": "light"
     },
     "output_type": "display_data"
    }
   ],
   "source": [
    "# Making a three-panel plot.\n",
    "fig = plt.figure()\n",
    "\n",
    "fig.add_subplot(221)\n",
    "plt.scatter(df_scores['math score'], df_scores['reading score'])\n",
    "plt.title('Math & Reading')\n",
    "plt.xlabel('Match Score')\n",
    "plt.ylabel('Reading Score')\n",
    "\n",
    "fig.add_subplot(222)\n",
    "plt.scatter(df_scores['math score'], df_scores['writing score'])\n",
    "plt.title('Math and Writing')\n",
    "plt.xlabel('Match Score')\n",
    "plt.ylabel('Reading Score')\n",
    "\n",
    "plt.subplots_adjust(hspace=1.2, wspace=.5)\n",
    "\n",
    "fig.add_subplot(223)\n",
    "plt.scatter(df_scores['reading score'], df_scores['writing score'])\n",
    "plt.title('Reading and Writing')\n",
    "plt.xlabel('Reading Score')\n",
    "plt.ylabel('Writing Score')\n",
    "\n",
    "plt.show()"
   ]
  },
  {
   "cell_type": "code",
   "execution_count": 45,
   "metadata": {},
   "outputs": [
    {
     "data": {
      "text/plain": [
       "0.8175796636720539"
      ]
     },
     "execution_count": 45,
     "metadata": {},
     "output_type": "execute_result"
    }
   ],
   "source": [
    "df_scores['math score'].corr(df_scores['reading score'])"
   ]
  },
  {
   "cell_type": "code",
   "execution_count": 49,
   "metadata": {},
   "outputs": [
    {
     "data": {
      "text/plain": [
       "0.8026420459498083"
      ]
     },
     "execution_count": 49,
     "metadata": {},
     "output_type": "execute_result"
    }
   ],
   "source": [
    "df_scores['math score'].corr(df_scores['writing score'])"
   ]
  },
  {
   "cell_type": "code",
   "execution_count": 48,
   "metadata": {},
   "outputs": [
    {
     "data": {
      "text/plain": [
       "0.9545980771462479"
      ]
     },
     "execution_count": 48,
     "metadata": {},
     "output_type": "execute_result"
    }
   ],
   "source": [
    "df_scores['reading score'].corr(df_scores['writing score'])"
   ]
  },
  {
   "cell_type": "markdown",
   "metadata": {},
   "source": [
    "### 10 New Features\n",
    "- hair color\n",
    "    - categorical\n",
    "    - probably very little correlation\n",
    "- eye color\n",
    "    - categorical\n",
    "    - probably very little correlation\n",
    "- height\n",
    "    - categorical\n",
    "    - probably very little correlation\n",
    "- weight\n",
    "    - categorical\n",
    "    - probably very little correlation\n",
    "- all scores (math, reading, writing) in the prior year\n",
    "    - continuous - ratio\n",
    "    - these values would probably be highly correlated and highly predictive to current data\n",
    "- scores in other subjects such as history or chemistry\n",
    "    - continuous - ratio\n",
    "    - also would be highly correlated to scores in this dataset\n",
    "- income level of parents\n",
    "    - continuous - level\n",
    "    - may be correlated ---> possibly similar to comparison with 'lunch' data\n",
    "- brother or sister scores from years prior or the same year\n",
    "    - continuos - ratio\n",
    "    - probably highly correlated with this data since many other variable would be the same\n",
    "- do they have a tutor or have they had a tutor in the past\n",
    "    - categorical\n",
    "    - could be fairly correlated with scores data\n",
    "- number of times their parents helped them with their studies in the past year\n",
    "    - continuous - ratio\n",
    "    - probably correlated with scores\n",
    "- number of hours spent studying for the test\n",
    "    - continuous\n",
    "    - could be correlated with scores"
   ]
  },
  {
   "cell_type": "markdown",
   "metadata": {},
   "source": [
    "### 5 Best Features - Scatterplots and r calculation could be use for all of these to justify. \n",
    "1.  Scores in other subjects. \n",
    "    - we know from the scatterplots that scores from one subject to the next are highly correlated.\n",
    "2.  Scores in previous year. \n",
    "    - Same student and most if not all of the same variables.\n",
    "3.  Scores in other subjects such as history or chemistry.\n",
    "    - Most likely, a good student in one subject will be a good student in another subject.\n",
    "4.  Number of hours spend studyting for the test.\n",
    "    - Not only would this activity likely yield better results, it also shows motivation and discipline.\n",
    "5.  Number of times parents helped with studies in past year.\n",
    "    - This shows parental support which is probably important."
   ]
  },
  {
   "cell_type": "code",
   "execution_count": null,
   "metadata": {},
   "outputs": [],
   "source": []
  }
 ],
 "metadata": {
  "kernelspec": {
   "display_name": "Python 3",
   "language": "python",
   "name": "python3"
  },
  "language_info": {
   "codemirror_mode": {
    "name": "ipython",
    "version": 3
   },
   "file_extension": ".py",
   "mimetype": "text/x-python",
   "name": "python",
   "nbconvert_exporter": "python",
   "pygments_lexer": "ipython3",
   "version": "3.7.2"
  }
 },
 "nbformat": 4,
 "nbformat_minor": 2
}
