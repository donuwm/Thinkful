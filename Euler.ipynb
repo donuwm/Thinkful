{
 "cells": [
  {
   "cell_type": "markdown",
   "metadata": {},
   "source": [
    "1 - Find the sum of all the multiples of 3 or 5 below 1000. "
   ]
  },
  {
   "cell_type": "code",
   "execution_count": 1,
   "metadata": {},
   "outputs": [
    {
     "name": "stdout",
     "output_type": "stream",
     "text": [
      "233168\n"
     ]
    }
   ],
   "source": [
    "lst = []\n",
    "for num in range(1000):    \n",
    "    if num % 3 == 0 or num % 5 == 0:\n",
    "        lst.append(num)\n",
    "        num = num + 1\n",
    "print(sum(lst))"
   ]
  },
  {
   "cell_type": "markdown",
   "metadata": {},
   "source": [
    "2 -  By considering the terms in the Fibonacci sequence whose values do not exceed four million, find the sum of the even-valued terms.  "
   ]
  },
  {
   "cell_type": "code",
   "execution_count": 2,
   "metadata": {},
   "outputs": [
    {
     "name": "stdout",
     "output_type": "stream",
     "text": [
      "[1, 2, 3, 5, 8, 13, 21, 34, 55, 89, 144, 233, 377, 610, 987, 1597, 2584, 4181, 6765, 10946, 17711, 28657, 46368, 75025, 121393, 196418, 317811, 514229, 832040, 1346269, 2178309, 3524578, 5702887, 9227465]\n",
      "4613732\n"
     ]
    }
   ],
   "source": [
    "lst = [1, 2]\n",
    "for i in range(32):\n",
    "    lst = lst + ([lst[i] + lst[(i+1)]])\n",
    "    i = i + 1\n",
    "print(lst)\n",
    "\n",
    "sum_number = 0\n",
    "for num in lst:\n",
    "    if num % 2 == 0 and num <= 4000000:\n",
    "        sum_number = sum_number + num    \n",
    "print(sum_number)\n"
   ]
  },
  {
   "cell_type": "markdown",
   "metadata": {},
   "source": [
    "3 - What is the largest prime factor of the number 600851475143 ?"
   ]
  },
  {
   "cell_type": "code",
   "execution_count": 3,
   "metadata": {},
   "outputs": [
    {
     "name": "stdout",
     "output_type": "stream",
     "text": [
      "5\n",
      "7\n",
      "13\n",
      "29\n"
     ]
    }
   ],
   "source": [
    "# This following code works, but it takes too long to use for 600851475143.\n",
    "\n",
    "def is_a_prime(n): \n",
    "    # Code to check if n is a prime number \n",
    "    for divisor in range(2, n): \n",
    "        if (n % divisor) == 0: \n",
    "            return False \n",
    "    return True\n",
    "\n",
    "lst = []\n",
    "x = 13195\n",
    "for i in range(x+1):\n",
    "    if i > 1 and x % i == 0:\n",
    "        lst.append(i)\n",
    "# print(lst)        \n",
    "\n",
    "lst2 = []\n",
    "for num in lst:\n",
    "    if is_a_prime(num):\n",
    "        print(num)"
   ]
  },
  {
   "cell_type": "code",
   "execution_count": 4,
   "metadata": {},
   "outputs": [
    {
     "name": "stdout",
     "output_type": "stream",
     "text": [
      "11.0\n",
      "19.0\n",
      "6857.0\n"
     ]
    }
   ],
   "source": [
    "# this code was copied from [https://codereview.stackexchange.com/questions/104997/project-euler-3-largest-prime-factor]\n",
    "\n",
    "def max_factor(num):\n",
    "    factor = 2\n",
    "    while factor * factor <= num:\n",
    "        while num % factor == 0:\n",
    "            num /= factor\n",
    "        factor += 1\n",
    "    if (num > 1):\n",
    "        return num\n",
    "    return factor\n",
    "\n",
    "print(max_factor(33))\n",
    "print(max_factor(38)) \n",
    "print(max_factor(600851475143)) "
   ]
  },
  {
   "cell_type": "markdown",
   "metadata": {},
   "source": [
    "4 -  Find the largest palindrome made from the product of two 3-digit numbers."
   ]
  },
  {
   "cell_type": "code",
   "execution_count": 5,
   "metadata": {},
   "outputs": [
    {
     "name": "stdout",
     "output_type": "stream",
     "text": [
      "906609\n",
      "--- 0.7100405693054199 seconds ---\n"
     ]
    }
   ],
   "source": [
    "import time\n",
    "# Start the timer.\n",
    "start_time = time.time()\n",
    "\n",
    "lst = []\n",
    "for x in range(100, 1000):\n",
    "    for y in range(100, 1000):\n",
    "        z = x*y\n",
    "        a = str(z)\n",
    "        if len(a) == 6 and a[0] == a[5] and a[1] == a[4] and a[2] == a[3]:\n",
    "            b = int(a)\n",
    "            lst.append(b)\n",
    "print(max(lst))\n",
    "\n",
    "# Print time to show runtime.\n",
    "print(\"--- %s seconds ---\" % (time.time() - start_time))"
   ]
  },
  {
   "cell_type": "markdown",
   "metadata": {},
   "source": [
    "5 -   What is the smallest positive number that is evenly divisible by all of the numbers from 1 to 20?"
   ]
  },
  {
   "cell_type": "code",
   "execution_count": 6,
   "metadata": {},
   "outputs": [
    {
     "name": "stdout",
     "output_type": "stream",
     "text": [
      "[2520]\n",
      "2.032116174697876 seconds\n"
     ]
    }
   ],
   "source": [
    "# this code works, but takes too much time for numbers 1 through 20.\n",
    "\n",
    "import time\n",
    "start_time = time.time()\n",
    "\n",
    "lst = []\n",
    "lst2 = []\n",
    "for x in range(1, 11):\n",
    "    for y in range(11, 5000):\n",
    "        if y%x == 0:\n",
    "            lst.append(y)\n",
    "            if lst.count(y) == 10:\n",
    "                lst2.append(y)\n",
    "                break\n",
    "\n",
    "print(lst2)\n",
    "\n",
    "print(\"%s seconds\" % (time.time() - start_time))"
   ]
  },
  {
   "cell_type": "code",
   "execution_count": 7,
   "metadata": {},
   "outputs": [
    {
     "name": "stdout",
     "output_type": "stream",
     "text": [
      "found an answer: 232792560\n",
      "8.061460971832275 seconds\n"
     ]
    }
   ],
   "source": [
    "# this code was taken from \n",
    "# [https://stackoverflow.com/questions/8024911/project-euler-5-in-python-how-can-i-optimize-my-solution]\n",
    "\n",
    "start_time = time.time()\n",
    "\n",
    "check_list = [11, 13, 14, 16, 17, 18, 19, 20]\n",
    "\n",
    "def find_solution(step):\n",
    "    for num in range(step, 999999999, step):\n",
    "        if all(num % n == 0 for n in check_list):\n",
    "            return num\n",
    "    return None\n",
    "\n",
    "if __name__ == '__main__':\n",
    "    solution = find_solution(20)\n",
    "    if solution is None:\n",
    "        print(\"No answer found\")\n",
    "    else:\n",
    "        print(\"found an answer:\", solution)\n",
    "        \n",
    "print(\"%s seconds\" % (time.time() - start_time))"
   ]
  },
  {
   "cell_type": "markdown",
   "metadata": {},
   "source": [
    "6 -   Find the difference between the sum of the squares of the first one hundred natural numbers and the square of the sum."
   ]
  },
  {
   "cell_type": "code",
   "execution_count": 8,
   "metadata": {},
   "outputs": [
    {
     "name": "stdout",
     "output_type": "stream",
     "text": [
      "25164150\n",
      "0.012000560760498047 seconds\n"
     ]
    }
   ],
   "source": [
    "start_time = time.time()\n",
    "\n",
    "a = []\n",
    "b = []\n",
    "product = 1\n",
    "for x in range(1, 101):\n",
    "    y = x*x\n",
    "    a.append(y)\n",
    "    f = sum(a)\n",
    "    z = x\n",
    "    b.append(x)\n",
    "    g = (sum(b)**2)\n",
    "    \n",
    "print(g - f)\n",
    "\n",
    "print(\"%s seconds\" % (time.time() - start_time))"
   ]
  },
  {
   "cell_type": "markdown",
   "metadata": {},
   "source": [
    "7 -  What is the 10,001st prime number?"
   ]
  },
  {
   "cell_type": "code",
   "execution_count": 9,
   "metadata": {},
   "outputs": [
    {
     "data": {
      "text/plain": [
       "104743"
      ]
     },
     "execution_count": 9,
     "metadata": {},
     "output_type": "execute_result"
    }
   ],
   "source": [
    "import sympy\n",
    "sympy.prime(10001)"
   ]
  },
  {
   "cell_type": "markdown",
   "metadata": {},
   "source": [
    "Oscar Lundberg wrote the follow code:"
   ]
  },
  {
   "cell_type": "code",
   "execution_count": 10,
   "metadata": {},
   "outputs": [
    {
     "name": "stdout",
     "output_type": "stream",
     "text": [
      "10002 104743\n",
      "49.11180901527405 seconds\n"
     ]
    }
   ],
   "source": [
    "# Oscar Lundberg11:46 AM -- my mentor, Oscar wrote this\n",
    "import time\n",
    "start_time = time.time()\n",
    "\n",
    "def is_a_prime(n): \n",
    "    # Code to check if n is a prime number \n",
    "    for divisor in range(2, n): \n",
    "        if (n % divisor) == 0: \n",
    "            return False \n",
    "    return True\n",
    "\n",
    "number = 1 \n",
    "prime_number = 0\n",
    "while prime_number < 10002: \n",
    "    # Check if number is a prime number \n",
    "    if is_a_prime(number): \n",
    "        prime_number = prime_number + 1 \n",
    "    number = number + 1\n",
    "\n",
    "print(prime_number, number - 1) \n",
    "\n",
    "print(\"%s seconds\" % (time.time() - start_time))"
   ]
  },
  {
   "cell_type": "markdown",
   "metadata": {},
   "source": [
    "8 - The four adjacent digits in the 1000-digit number that have the greatest product are 9 × 9 × 8 × 9 = 5832.  Find the thirteen adjacent digits in the 1000-digit number that have the greatest product. What is the value of this product?"
   ]
  },
  {
   "cell_type": "code",
   "execution_count": 11,
   "metadata": {},
   "outputs": [
    {
     "name": "stdout",
     "output_type": "stream",
     "text": [
      "23514624000\n",
      "0.003000020980834961 seconds\n"
     ]
    }
   ],
   "source": [
    "import time\n",
    "start_time = time.time()\n",
    "\n",
    "numbers = \"\"\"73167176531330624919225119674426574742355349194934\n",
    "96983520312774506326239578318016984801869478851843\n",
    "85861560789112949495459501737958331952853208805511\n",
    "12540698747158523863050715693290963295227443043557\n",
    "66896648950445244523161731856403098711121722383113\n",
    "62229893423380308135336276614282806444486645238749\n",
    "30358907296290491560440772390713810515859307960866\n",
    "70172427121883998797908792274921901699720888093776\n",
    "65727333001053367881220235421809751254540594752243\n",
    "52584907711670556013604839586446706324415722155397\n",
    "53697817977846174064955149290862569321978468622482\n",
    "83972241375657056057490261407972968652414535100474\n",
    "82166370484403199890008895243450658541227588666881\n",
    "16427171479924442928230863465674813919123162824586\n",
    "17866458359124566529476545682848912883142607690042\n",
    "24219022671055626321111109370544217506941658960408\n",
    "07198403850962455444362981230987879927244284909188\n",
    "84580156166097919133875499200524063689912560717606\n",
    "05886116467109405077541002256983155200055935729725\n",
    "71636269561882670428252483600823257530420752963450\"\"\".replace(\"\\n\", \"\")\n",
    "numbers = list(numbers)\n",
    "numbers = [int(x) for x in numbers]\n",
    "\n",
    "# get the highest number for multiplying 13 consecutive numbers:\n",
    "x = numbers[0:987]\n",
    "highest = 0\n",
    "lst = []\n",
    "for num in x:\n",
    "    product = numbers[0] * numbers[1] * numbers[2] * numbers[3] * numbers[4] * numbers[5] \\\n",
    "    * numbers[6] * numbers[7] * numbers[8] * numbers[9] * numbers[10] * numbers[11] * numbers[12]\n",
    "    if product > highest:\n",
    "        highest = product\n",
    "    del numbers[0]\n",
    "print(highest)\n",
    "\n",
    "print(\"%s seconds\" % (time.time() - start_time))"
   ]
  },
  {
   "cell_type": "code",
   "execution_count": null,
   "metadata": {},
   "outputs": [],
   "source": [
    "# product = np.prod(numbers[0:12])"
   ]
  },
  {
   "cell_type": "markdown",
   "metadata": {},
   "source": [
    "9 -  There exists exactly one Pythagorean triplet for which a + b + c = 1000.  Find the product abc."
   ]
  },
  {
   "cell_type": "code",
   "execution_count": 12,
   "metadata": {},
   "outputs": [
    {
     "name": "stdout",
     "output_type": "stream",
     "text": [
      "200\n",
      "375\n",
      "425\n",
      "product of a, b, c = 31875000\n",
      "40.677326679229736 seconds\n"
     ]
    }
   ],
   "source": [
    "start_time = time.time()\n",
    "\n",
    "for a in range(0, 1000):\n",
    "    for b in range(a, 1000):\n",
    "        for c in range(b, 1000):\n",
    "            if (a + b + c) == 1000 and a**2 + b**2 == c**2 and a < b < c:\n",
    "                print(a), print(b), print(c)\n",
    "                print(\"product of a, b, c =\", a*b*c)\n",
    "                break\n",
    "                \n",
    "print(\"%s seconds\" % (time.time() - start_time))"
   ]
  },
  {
   "cell_type": "markdown",
   "metadata": {},
   "source": [
    "10 -  The sum of the primes below 10 is 2 + 3 + 5 + 7 = 17.  Find the sum of all the primes below two million."
   ]
  },
  {
   "cell_type": "code",
   "execution_count": 13,
   "metadata": {},
   "outputs": [
    {
     "name": "stdout",
     "output_type": "stream",
     "text": [
      "17\n",
      "0.003000497817993164 seconds\n",
      "True\n"
     ]
    }
   ],
   "source": [
    "import time\n",
    "start_time = time.time()\n",
    "\n",
    "def is_a_prime(n): \n",
    "    # Code to check if n is a prime number \n",
    "    for divisor in range(2, n): \n",
    "        if (n % divisor) == 0: \n",
    "            return False \n",
    "    return True\n",
    "\n",
    "def is_odd(n):\n",
    "    if (n % 2) == 0:\n",
    "        return False\n",
    "    else:\n",
    "        return True\n",
    "\n",
    "lst = []\n",
    "x = 10\n",
    "lst = list(range(2, x))\n",
    "    \n",
    "sum_list = 0\n",
    "for num in lst:\n",
    "    if is_a_prime(num):\n",
    "        sum_list = sum_list + num\n",
    "        \n",
    "print(sum_list)\n",
    "print(\"%s seconds\" % (time.time() - start_time))\n",
    "\n",
    "print(is_odd(5))\n",
    "\n",
    "# def multiples(n, count):\n",
    "#     for i in range(count):\n",
    "#         print(i*n)\n",
    "# multiples(3, 5)"
   ]
  },
  {
   "cell_type": "markdown",
   "metadata": {},
   "source": [
    "The above code (my answer) takes too long for primes under 2 million.  The code below is from stack overflow."
   ]
  },
  {
   "cell_type": "code",
   "execution_count": 14,
   "metadata": {},
   "outputs": [
    {
     "name": "stdout",
     "output_type": "stream",
     "text": [
      "142913828922\n"
     ]
    }
   ],
   "source": [
    "# The following code was taken from:  \n",
    "# https://stackoverflow.com/questions/9233408/project-euler-10-why-the-first-python-code-runs-much-faster-than-the-second-on\n",
    "\n",
    "sieve = [True] * 2000000 # Sieve is faster for 2M primes\n",
    "def mark(sieve, x):\n",
    "    for i in range(x+x, len(sieve), x):\n",
    "        sieve[i] = False\n",
    "\n",
    "for x in range(2, int(len(sieve) ** 0.5) + 1):\n",
    "    if sieve[x]: \n",
    "        mark(sieve, x)\n",
    "\n",
    "print(sum(i for i in range(2, len(sieve)) if sieve[i])) "
   ]
  },
  {
   "cell_type": "code",
   "execution_count": null,
   "metadata": {},
   "outputs": [],
   "source": []
  }
 ],
 "metadata": {
  "kernelspec": {
   "display_name": "Python 3",
   "language": "python",
   "name": "python3"
  },
  "language_info": {
   "codemirror_mode": {
    "name": "ipython",
    "version": 3
   },
   "file_extension": ".py",
   "mimetype": "text/x-python",
   "name": "python",
   "nbconvert_exporter": "python",
   "pygments_lexer": "ipython3",
   "version": "3.7.3"
  }
 },
 "nbformat": 4,
 "nbformat_minor": 2
}
