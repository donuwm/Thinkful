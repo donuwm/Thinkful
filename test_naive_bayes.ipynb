{
 "cells": [
  {
   "cell_type": "markdown",
   "metadata": {},
   "source": [
    "## Summary of this notebook:\n",
    "\n",
    "### This notebook uses the data and code from the course curriculum 2.2.6.  I added some keywords to try and reduce the number of mislabeled points and also added a new feature called 'ex_marks' that signals a spam message if it has multiple exclamation points without spaces in between. "
   ]
  },
  {
   "cell_type": "code",
   "execution_count": 91,
   "metadata": {},
   "outputs": [],
   "source": [
    "import numpy as np\n",
    "import pandas as pd\n",
    "import scipy\n",
    "import sklearn\n",
    "import matplotlib.pyplot as plt\n",
    "import seaborn as sns"
   ]
  },
  {
   "cell_type": "code",
   "execution_count": 92,
   "metadata": {},
   "outputs": [],
   "source": [
    "# Grab and process the raw data.\n",
    "data_path = (\"https://raw.githubusercontent.com/Thinkful-Ed/data-201-resources/\"\n",
    "             \"master/sms_spam_collection/SMSSpamCollection\"\n",
    "            )\n",
    "sms_raw = pd.read_csv(data_path, delimiter= '\\t', header=None)\n",
    "sms_raw.columns = ['spam', 'message']"
   ]
  },
  {
   "cell_type": "code",
   "execution_count": 93,
   "metadata": {},
   "outputs": [],
   "source": [
    "sms_raw.head(n=30)\n",
    "#print(len(sms_raw))\n",
    "\n",
    "df_spam = sms_raw.loc[sms_raw['spam'] == 'spam']\n"
   ]
  },
  {
   "cell_type": "code",
   "execution_count": 94,
   "metadata": {},
   "outputs": [
    {
     "data": {
      "text/html": [
       "<div>\n",
       "<style scoped>\n",
       "    .dataframe tbody tr th:only-of-type {\n",
       "        vertical-align: middle;\n",
       "    }\n",
       "\n",
       "    .dataframe tbody tr th {\n",
       "        vertical-align: top;\n",
       "    }\n",
       "\n",
       "    .dataframe thead th {\n",
       "        text-align: right;\n",
       "    }\n",
       "</style>\n",
       "<table border=\"1\" class=\"dataframe\">\n",
       "  <thead>\n",
       "    <tr style=\"text-align: right;\">\n",
       "      <th></th>\n",
       "      <th>spam</th>\n",
       "      <th>message</th>\n",
       "    </tr>\n",
       "  </thead>\n",
       "  <tbody>\n",
       "    <tr>\n",
       "      <th>2</th>\n",
       "      <td>spam</td>\n",
       "      <td>Free entry in 2 a wkly comp to win FA Cup fina...</td>\n",
       "    </tr>\n",
       "    <tr>\n",
       "      <th>5</th>\n",
       "      <td>spam</td>\n",
       "      <td>FreeMsg Hey there darling it's been 3 week's n...</td>\n",
       "    </tr>\n",
       "    <tr>\n",
       "      <th>8</th>\n",
       "      <td>spam</td>\n",
       "      <td>WINNER!! As a valued network customer you have...</td>\n",
       "    </tr>\n",
       "    <tr>\n",
       "      <th>9</th>\n",
       "      <td>spam</td>\n",
       "      <td>Had your mobile 11 months or more? U R entitle...</td>\n",
       "    </tr>\n",
       "    <tr>\n",
       "      <th>11</th>\n",
       "      <td>spam</td>\n",
       "      <td>SIX chances to win CASH! From 100 to 20,000 po...</td>\n",
       "    </tr>\n",
       "    <tr>\n",
       "      <th>12</th>\n",
       "      <td>spam</td>\n",
       "      <td>URGENT! You have won a 1 week FREE membership ...</td>\n",
       "    </tr>\n",
       "    <tr>\n",
       "      <th>15</th>\n",
       "      <td>spam</td>\n",
       "      <td>XXXMobileMovieClub: To use your credit, click ...</td>\n",
       "    </tr>\n",
       "    <tr>\n",
       "      <th>19</th>\n",
       "      <td>spam</td>\n",
       "      <td>England v Macedonia - dont miss the goals/team...</td>\n",
       "    </tr>\n",
       "    <tr>\n",
       "      <th>34</th>\n",
       "      <td>spam</td>\n",
       "      <td>Thanks for your subscription to Ringtone UK yo...</td>\n",
       "    </tr>\n",
       "    <tr>\n",
       "      <th>42</th>\n",
       "      <td>spam</td>\n",
       "      <td>07732584351 - Rodger Burns - MSG = We tried to...</td>\n",
       "    </tr>\n",
       "    <tr>\n",
       "      <th>54</th>\n",
       "      <td>spam</td>\n",
       "      <td>SMS. ac Sptv: The New Jersey Devils and the De...</td>\n",
       "    </tr>\n",
       "    <tr>\n",
       "      <th>56</th>\n",
       "      <td>spam</td>\n",
       "      <td>Congrats! 1 year special cinema pass for 2 is ...</td>\n",
       "    </tr>\n",
       "    <tr>\n",
       "      <th>65</th>\n",
       "      <td>spam</td>\n",
       "      <td>As a valued customer, I am pleased to advise y...</td>\n",
       "    </tr>\n",
       "    <tr>\n",
       "      <th>67</th>\n",
       "      <td>spam</td>\n",
       "      <td>Urgent UR awarded a complimentary trip to Euro...</td>\n",
       "    </tr>\n",
       "    <tr>\n",
       "      <th>68</th>\n",
       "      <td>spam</td>\n",
       "      <td>Did you hear about the new \"Divorce Barbie\"? I...</td>\n",
       "    </tr>\n",
       "    <tr>\n",
       "      <th>93</th>\n",
       "      <td>spam</td>\n",
       "      <td>Please call our customer service representativ...</td>\n",
       "    </tr>\n",
       "    <tr>\n",
       "      <th>95</th>\n",
       "      <td>spam</td>\n",
       "      <td>Your free ringtone is waiting to be collected....</td>\n",
       "    </tr>\n",
       "    <tr>\n",
       "      <th>114</th>\n",
       "      <td>spam</td>\n",
       "      <td>GENT! We are trying to contact you. Last weeke...</td>\n",
       "    </tr>\n",
       "    <tr>\n",
       "      <th>117</th>\n",
       "      <td>spam</td>\n",
       "      <td>You are a winner U have been specially selecte...</td>\n",
       "    </tr>\n",
       "    <tr>\n",
       "      <th>120</th>\n",
       "      <td>spam</td>\n",
       "      <td>PRIVATE! Your 2004 Account Statement for 07742...</td>\n",
       "    </tr>\n",
       "    <tr>\n",
       "      <th>121</th>\n",
       "      <td>spam</td>\n",
       "      <td>URGENT! Your Mobile No. was awarded £2000 Bonu...</td>\n",
       "    </tr>\n",
       "    <tr>\n",
       "      <th>123</th>\n",
       "      <td>spam</td>\n",
       "      <td>Todays Voda numbers ending 7548 are selected t...</td>\n",
       "    </tr>\n",
       "    <tr>\n",
       "      <th>134</th>\n",
       "      <td>spam</td>\n",
       "      <td>Sunshine Quiz Wkly Q! Win a top Sony DVD playe...</td>\n",
       "    </tr>\n",
       "    <tr>\n",
       "      <th>135</th>\n",
       "      <td>spam</td>\n",
       "      <td>Want 2 get laid tonight? Want real Dogging loc...</td>\n",
       "    </tr>\n",
       "    <tr>\n",
       "      <th>139</th>\n",
       "      <td>spam</td>\n",
       "      <td>You'll not rcv any more msgs from the chat svc...</td>\n",
       "    </tr>\n",
       "    <tr>\n",
       "      <th>147</th>\n",
       "      <td>spam</td>\n",
       "      <td>FreeMsg Why haven't you replied to my text? I'...</td>\n",
       "    </tr>\n",
       "    <tr>\n",
       "      <th>159</th>\n",
       "      <td>spam</td>\n",
       "      <td>Customer service annoncement. You have a New Y...</td>\n",
       "    </tr>\n",
       "    <tr>\n",
       "      <th>160</th>\n",
       "      <td>spam</td>\n",
       "      <td>You are a winner U have been specially selecte...</td>\n",
       "    </tr>\n",
       "    <tr>\n",
       "      <th>164</th>\n",
       "      <td>spam</td>\n",
       "      <td>-PLS STOP bootydelious (32/F) is inviting you ...</td>\n",
       "    </tr>\n",
       "    <tr>\n",
       "      <th>165</th>\n",
       "      <td>spam</td>\n",
       "      <td>BangBabes Ur order is on the way. U SHOULD rec...</td>\n",
       "    </tr>\n",
       "    <tr>\n",
       "      <th>167</th>\n",
       "      <td>spam</td>\n",
       "      <td>URGENT! We are trying to contact you. Last wee...</td>\n",
       "    </tr>\n",
       "    <tr>\n",
       "      <th>188</th>\n",
       "      <td>spam</td>\n",
       "      <td>Please call our customer service representativ...</td>\n",
       "    </tr>\n",
       "    <tr>\n",
       "      <th>191</th>\n",
       "      <td>spam</td>\n",
       "      <td>Are you unique enough? Find out from 30th Augu...</td>\n",
       "    </tr>\n",
       "    <tr>\n",
       "      <th>225</th>\n",
       "      <td>spam</td>\n",
       "      <td>500 New Mobiles from 2004, MUST GO! Txt: NOKIA...</td>\n",
       "    </tr>\n",
       "    <tr>\n",
       "      <th>227</th>\n",
       "      <td>spam</td>\n",
       "      <td>Will u meet ur dream partner soon? Is ur caree...</td>\n",
       "    </tr>\n",
       "    <tr>\n",
       "      <th>235</th>\n",
       "      <td>spam</td>\n",
       "      <td>Text &amp; meet someone sexy today. U can find a d...</td>\n",
       "    </tr>\n",
       "    <tr>\n",
       "      <th>240</th>\n",
       "      <td>spam</td>\n",
       "      <td>U 447801259231 have a secret admirer who is lo...</td>\n",
       "    </tr>\n",
       "    <tr>\n",
       "      <th>250</th>\n",
       "      <td>spam</td>\n",
       "      <td>Congratulations ur awarded 500 of CD vouchers ...</td>\n",
       "    </tr>\n",
       "    <tr>\n",
       "      <th>259</th>\n",
       "      <td>spam</td>\n",
       "      <td>We tried to contact you re your reply to our o...</td>\n",
       "    </tr>\n",
       "    <tr>\n",
       "      <th>264</th>\n",
       "      <td>spam</td>\n",
       "      <td>Hey I am really horny want to chat or see me n...</td>\n",
       "    </tr>\n",
       "    <tr>\n",
       "      <th>268</th>\n",
       "      <td>spam</td>\n",
       "      <td>Ur ringtone service has changed! 25 Free credi...</td>\n",
       "    </tr>\n",
       "    <tr>\n",
       "      <th>270</th>\n",
       "      <td>spam</td>\n",
       "      <td>Ringtone Club: Get the UK singles chart on you...</td>\n",
       "    </tr>\n",
       "    <tr>\n",
       "      <th>273</th>\n",
       "      <td>spam</td>\n",
       "      <td>HMV BONUS SPECIAL 500 pounds of genuine HMV vo...</td>\n",
       "    </tr>\n",
       "    <tr>\n",
       "      <th>296</th>\n",
       "      <td>spam</td>\n",
       "      <td>T-Mobile customer you may now claim your FREE ...</td>\n",
       "    </tr>\n",
       "    <tr>\n",
       "      <th>305</th>\n",
       "      <td>spam</td>\n",
       "      <td>SMS. ac Blind Date 4U!: Rodds1 is 21/m from Ab...</td>\n",
       "    </tr>\n",
       "    <tr>\n",
       "      <th>309</th>\n",
       "      <td>spam</td>\n",
       "      <td>TheMob&gt; Check out our newest selection of cont...</td>\n",
       "    </tr>\n",
       "    <tr>\n",
       "      <th>312</th>\n",
       "      <td>spam</td>\n",
       "      <td>Think ur smart ? Win £200 this week in our wee...</td>\n",
       "    </tr>\n",
       "    <tr>\n",
       "      <th>319</th>\n",
       "      <td>spam</td>\n",
       "      <td>December only! Had your mobile 11mths+? You ar...</td>\n",
       "    </tr>\n",
       "    <tr>\n",
       "      <th>333</th>\n",
       "      <td>spam</td>\n",
       "      <td>Call Germany for only 1 pence per minute! Call...</td>\n",
       "    </tr>\n",
       "    <tr>\n",
       "      <th>335</th>\n",
       "      <td>spam</td>\n",
       "      <td>Valentines Day Special! Win over £1000 in our ...</td>\n",
       "    </tr>\n",
       "  </tbody>\n",
       "</table>\n",
       "</div>"
      ],
      "text/plain": [
       "     spam                                            message\n",
       "2    spam  Free entry in 2 a wkly comp to win FA Cup fina...\n",
       "5    spam  FreeMsg Hey there darling it's been 3 week's n...\n",
       "8    spam  WINNER!! As a valued network customer you have...\n",
       "9    spam  Had your mobile 11 months or more? U R entitle...\n",
       "11   spam  SIX chances to win CASH! From 100 to 20,000 po...\n",
       "12   spam  URGENT! You have won a 1 week FREE membership ...\n",
       "15   spam  XXXMobileMovieClub: To use your credit, click ...\n",
       "19   spam  England v Macedonia - dont miss the goals/team...\n",
       "34   spam  Thanks for your subscription to Ringtone UK yo...\n",
       "42   spam  07732584351 - Rodger Burns - MSG = We tried to...\n",
       "54   spam  SMS. ac Sptv: The New Jersey Devils and the De...\n",
       "56   spam  Congrats! 1 year special cinema pass for 2 is ...\n",
       "65   spam  As a valued customer, I am pleased to advise y...\n",
       "67   spam  Urgent UR awarded a complimentary trip to Euro...\n",
       "68   spam  Did you hear about the new \"Divorce Barbie\"? I...\n",
       "93   spam  Please call our customer service representativ...\n",
       "95   spam  Your free ringtone is waiting to be collected....\n",
       "114  spam  GENT! We are trying to contact you. Last weeke...\n",
       "117  spam  You are a winner U have been specially selecte...\n",
       "120  spam  PRIVATE! Your 2004 Account Statement for 07742...\n",
       "121  spam  URGENT! Your Mobile No. was awarded £2000 Bonu...\n",
       "123  spam  Todays Voda numbers ending 7548 are selected t...\n",
       "134  spam  Sunshine Quiz Wkly Q! Win a top Sony DVD playe...\n",
       "135  spam  Want 2 get laid tonight? Want real Dogging loc...\n",
       "139  spam  You'll not rcv any more msgs from the chat svc...\n",
       "147  spam  FreeMsg Why haven't you replied to my text? I'...\n",
       "159  spam  Customer service annoncement. You have a New Y...\n",
       "160  spam  You are a winner U have been specially selecte...\n",
       "164  spam  -PLS STOP bootydelious (32/F) is inviting you ...\n",
       "165  spam  BangBabes Ur order is on the way. U SHOULD rec...\n",
       "167  spam  URGENT! We are trying to contact you. Last wee...\n",
       "188  spam  Please call our customer service representativ...\n",
       "191  spam  Are you unique enough? Find out from 30th Augu...\n",
       "225  spam  500 New Mobiles from 2004, MUST GO! Txt: NOKIA...\n",
       "227  spam  Will u meet ur dream partner soon? Is ur caree...\n",
       "235  spam  Text & meet someone sexy today. U can find a d...\n",
       "240  spam  U 447801259231 have a secret admirer who is lo...\n",
       "250  spam  Congratulations ur awarded 500 of CD vouchers ...\n",
       "259  spam  We tried to contact you re your reply to our o...\n",
       "264  spam  Hey I am really horny want to chat or see me n...\n",
       "268  spam  Ur ringtone service has changed! 25 Free credi...\n",
       "270  spam  Ringtone Club: Get the UK singles chart on you...\n",
       "273  spam  HMV BONUS SPECIAL 500 pounds of genuine HMV vo...\n",
       "296  spam  T-Mobile customer you may now claim your FREE ...\n",
       "305  spam  SMS. ac Blind Date 4U!: Rodds1 is 21/m from Ab...\n",
       "309  spam  TheMob> Check out our newest selection of cont...\n",
       "312  spam  Think ur smart ? Win £200 this week in our wee...\n",
       "319  spam  December only! Had your mobile 11mths+? You ar...\n",
       "333  spam  Call Germany for only 1 pence per minute! Call...\n",
       "335  spam  Valentines Day Special! Win over £1000 in our ..."
      ]
     },
     "execution_count": 94,
     "metadata": {},
     "output_type": "execute_result"
    }
   ],
   "source": [
    "df_spam.head(n=50)"
   ]
  },
  {
   "cell_type": "code",
   "execution_count": 95,
   "metadata": {},
   "outputs": [],
   "source": [
    "keywords = ['click', 'offer', 'winner', 'buy', 'free', 'cash', 'urgent', 'win','U']\n",
    "\n",
    "for key in keywords:\n",
    "    # Note that we add spaces around the key so that we're getting the word,\n",
    "    # not just pattern matching.\n",
    "    sms_raw[str(key)] = sms_raw.message.str.contains(\n",
    "        ' ' + str(key) + ' ',\n",
    "        case=False\n",
    "    )"
   ]
  },
  {
   "cell_type": "code",
   "execution_count": 96,
   "metadata": {},
   "outputs": [],
   "source": [
    "sms_raw['allcaps'] = sms_raw.message.str.isupper()"
   ]
  },
  {
   "cell_type": "code",
   "execution_count": 97,
   "metadata": {},
   "outputs": [],
   "source": [
    "sms_raw['ex_marks'] = sms_raw.message.str.contains(str('!!' or '!!!' or '!!!!' or '!!!!!'))"
   ]
  },
  {
   "cell_type": "code",
   "execution_count": 98,
   "metadata": {},
   "outputs": [],
   "source": [
    "sms_raw['spam'] = (sms_raw['spam'] == 'spam')\n",
    "# Note that if you run this cell a second time everything will become false.\n",
    "# So... Don't."
   ]
  },
  {
   "cell_type": "code",
   "execution_count": 99,
   "metadata": {},
   "outputs": [
    {
     "data": {
      "text/plain": [
       "<matplotlib.axes._subplots.AxesSubplot at 0xdc71ef0>"
      ]
     },
     "execution_count": 99,
     "metadata": {},
     "output_type": "execute_result"
    },
    {
     "data": {
      "image/png": "[encoded data removed]",
      "text/plain": [
       "<Figure size 432x288 with 2 Axes>"
      ]
     },
     "metadata": {
      "needs_background": "light"
     },
     "output_type": "display_data"
    }
   ],
   "source": [
    "sns.heatmap(sms_raw.corr())"
   ]
  },
  {
   "cell_type": "code",
   "execution_count": 100,
   "metadata": {},
   "outputs": [],
   "source": [
    "data = sms_raw[keywords + ['allcaps'] + ['ex_marks']]\n",
    "target = sms_raw['spam']"
   ]
  },
  {
   "cell_type": "code",
   "execution_count": 101,
   "metadata": {},
   "outputs": [],
   "source": [
    "from sklearn.naive_bayes import BernoulliNB\n"
   ]
  },
  {
   "cell_type": "code",
   "execution_count": 102,
   "metadata": {},
   "outputs": [],
   "source": [
    "# Instantiate our model and store it in a new variable.\n",
    "bnb = BernoulliNB()"
   ]
  },
  {
   "cell_type": "code",
   "execution_count": 103,
   "metadata": {},
   "outputs": [
    {
     "data": {
      "text/plain": [
       "BernoulliNB(alpha=1.0, binarize=0.0, class_prior=None, fit_prior=True)"
      ]
     },
     "execution_count": 103,
     "metadata": {},
     "output_type": "execute_result"
    }
   ],
   "source": [
    "# Fit our model to the data.\n",
    "bnb.fit(data, target)"
   ]
  },
  {
   "cell_type": "code",
   "execution_count": 104,
   "metadata": {},
   "outputs": [],
   "source": [
    "# Classify, storing the result in a new variable.\n",
    "y_pred = bnb.predict(data)"
   ]
  },
  {
   "cell_type": "code",
   "execution_count": 105,
   "metadata": {},
   "outputs": [
    {
     "name": "stdout",
     "output_type": "stream",
     "text": [
      "Number of mislabeled points out of a total 5572 points : 576\n"
     ]
    }
   ],
   "source": [
    "# Display our results.\n",
    "print(\"Number of mislabeled points out of a total {} points : {}\".format(\n",
    "    data.shape[0],\n",
    "    (target != y_pred).sum()\n",
    "))"
   ]
  },
  {
   "cell_type": "markdown",
   "metadata": {},
   "source": [
    "## Conclusion:\n",
    "\n",
    "### The original number of mislabeled points was 604.  The new feature 'ex_marks' did not reduce this 604 number as hypothesized.  However, when I added the word 'win' to the keywords list, this reduced the mislabeled points to 576.  I also tried to add just one exclamation point to the ex_marks feature and acutally got an increase in mislabeling to 577, so I removed this feature.  Lastly, I tried adding 'U' to the keywords list and did not see a change in the mislabeling."
   ]
  },
  {
   "cell_type": "code",
   "execution_count": null,
   "metadata": {},
   "outputs": [],
   "source": []
  }
 ],
 "metadata": {
  "kernelspec": {
   "display_name": "Python 3",
   "language": "python",
   "name": "python3"
  },
  "language_info": {
   "codemirror_mode": {
    "name": "ipython",
    "version": 3
   },
   "file_extension": ".py",
   "mimetype": "text/x-python",
   "name": "python",
   "nbconvert_exporter": "python",
   "pygments_lexer": "ipython3",
   "version": "3.7.2"
  }
 },
 "nbformat": 4,
 "nbformat_minor": 2
}
