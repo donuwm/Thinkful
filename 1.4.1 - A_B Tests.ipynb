{
 "cells": [
  {
   "cell_type": "markdown",
   "metadata": {},
   "source": [
    "### For each of the following questions, outline how you could use an A/B test to find an answer. Be sure to identify all five key components of an A/B test:  \n",
    "\n",
    "### Key Components:  2 versions, sample, hypothesis, outcome(s), other measured variables.\n",
    "\n",
    "### 1.  Does a new supplement help people sleep better?\n",
    "~~~~\n",
    "Answer:  \n",
    "    2 versions:  Randomly select 2 gruops from a population.  Give the supplement to only 1 of the 2 groups.\n",
    "    \n",
    "    sample:  Each sample should be representative of the population.\n",
    "    \n",
    "    hypothesis:  The sample that received the supplement did not sleep better.\n",
    "    \n",
    "    outcome(s):  Calculate the average time slept per night over a given period (maybe 6 months).\n",
    "    \n",
    "    other measured variables:  - Measure if the time of day of taking the supplement had an affect.\n",
    "                               - Measure the average hours of sleep per night for each of the samples.\n",
    "~~~~"
   ]
  },
  {
   "cell_type": "markdown",
   "metadata": {},
   "source": [
    "### 2.  Will new uniforms help a gym's business?\n",
    "~~~~\n",
    "Answer:\n",
    "    2 versions:  If the gym has 5 or more locations, test the new uniforms at 1 or several of the locations.\n",
    "    If the gym has only 1 location, use the new uniforms for 12 months and calculate a business metric such\n",
    "    as the number of members per month.\n",
    "    \n",
    "    sample:  The first sample is the number of members in each of the preceding months.  The second sample is\n",
    "    number of members in the months with a change in uniforms.\n",
    "    \n",
    "    hypothesis:  The sample with new uniforms had more members month over month and had more total members\n",
    "    for the 12 months relative to the control group.\n",
    "    \n",
    "    outcome(s):  Calculate the number of members month over month and total for the two groups.\n",
    "    \n",
    "    other measured variables:  - Calculate the average monthly spend per member in each of the 2 samples which\n",
    "                                 could vary due to difference in membership types.\n",
    "                               - Compare useage / attendace rates between the two groups month over month and \n",
    "                                 total.\n",
    "~~~~"
   ]
  },
  {
   "cell_type": "markdown",
   "metadata": {},
   "source": [
    "### 3. Will a new homepage improve my online exotic pet rental business?\n",
    "~~~~\n",
    "Answer:\n",
    "    2 versions:  Use a 3 month trial for the treatment group and compare data with the same months of control \n",
    "                 group.\n",
    "    \n",
    "    sample:  The first sample is data of the previous year.  Second sample is the treatment sample.\n",
    "    \n",
    "    hypothesis:  The treatment sample will yield more rental income.\n",
    "    \n",
    "    outcome(s):  Calculate the rental income for each month of the 2 groups and total income for each group.\n",
    "    \n",
    "    other measured variables:  - Calculate the number of clicks for each group.\n",
    "                               - Calculate the number of rentals for each group (without considering cost).\n",
    "~~~~"
   ]
  },
  {
   "cell_type": "markdown",
   "metadata": {},
   "source": [
    "### 4. If I put 'please read' in the email subject will more people read my emails?\n",
    "~~~~\n",
    "Answer:\n",
    "    2 versions:  If you have an email that is relevant to at least 10 people, randomly chose one group \n",
    "                 with and without 'please read'.  The email should request a response from the recipient.\n",
    "    \n",
    "    sample:  The first sample is the no treatment half of the population.  Second sample is the treatment \n",
    "             half of population.\n",
    "    \n",
    "    hypothesis:  The 'please read' emails will yield more responses.\n",
    "    \n",
    "    outcome(s):  Add the number of responses for the 2 groups.\n",
    "    \n",
    "    other measured variables:  - Measure the robustness of each response by counting number of words, for \n",
    "                                 example.\n",
    "                               - Compare the time it takes to receive a response for each group.\n",
    "~~~~"
   ]
  },
  {
   "cell_type": "code",
   "execution_count": null,
   "metadata": {},
   "outputs": [],
   "source": []
  }
 ],
 "metadata": {
  "kernelspec": {
   "display_name": "Python 3",
   "language": "python",
   "name": "python3"
  },
  "language_info": {
   "codemirror_mode": {
    "name": "ipython",
    "version": 3
   },
   "file_extension": ".py",
   "mimetype": "text/x-python",
   "name": "python",
   "nbconvert_exporter": "python",
   "pygments_lexer": "ipython3",
   "version": "3.7.2"
  }
 },
 "nbformat": 4,
 "nbformat_minor": 2
}
