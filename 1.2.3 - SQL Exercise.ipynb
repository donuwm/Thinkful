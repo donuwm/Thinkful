{
 "cells": [
  {
   "cell_type": "markdown",
   "metadata": {},
   "source": [
    "### 1.  The IDs and durations for all trips of duration greater than 500, ordered by duration.\n",
    "~~~~\n",
    "SELECT\n",
    "    trip_id,\n",
    "    duration\n",
    "FROM\n",
    "    trips\n",
    "WHERE \n",
    "    duration > 500\n",
    "-- default ORDER BY is ascending.\n",
    "ORDER BY duration;\n",
    "~~~~\n",
    "Output:\n",
    "~~~~\n",
    "\"915597\"\t\"501\"\n",
    "\"916476\"\t\"501\"\n",
    "\"914177\"\t\"501\"\n",
    "\"913913\"\t\"501\"\n",
    "\"918382\"\t\"501\"\n",
    "~~~~"
   ]
  },
  {
   "cell_type": "markdown",
   "metadata": {},
   "source": [
    "### 2.  Every column of the stations table for station id 84.\n",
    "~~~~\n",
    "SELECT \n",
    "    *\n",
    "FROM\n",
    "    stations\n",
    "WHERE \n",
    "    station_id=84;\n",
    "~~~~\n",
    "Output:\n",
    "~~~~\n",
    "84\t\"Ryland Park\"\t\"37.342725\"\t\"-121.895617\"\t15\t\"San Jose\"\t\"2014-04-09\"\n",
    "~~~~"
   ]
  },
  {
   "cell_type": "markdown",
   "metadata": {},
   "source": [
    "### 3.  The min temperatures of all the occurrences of rain in zip 94301.\n",
    "~~~~\n",
    "SELECT\n",
    "\tmintemperaturef\n",
    "FROM\n",
    "    weather\n",
    "WHERE\n",
    "   events='Rain' AND zip=94301\n",
    "LIMIT 5;\n",
    "~~~~    \n",
    "Output:\n",
    "~~~~\n",
    "\"60\"\n",
    "\"57\"\n",
    "\"55\"\n",
    "\"53\"\n",
    "\"37\"\n",
    "~~~~\n"
   ]
  }
 ],
 "metadata": {
  "kernelspec": {
   "display_name": "Python 2",
   "language": "python",
   "name": "python2"
  },
  "language_info": {
   "codemirror_mode": {
    "name": "ipython",
    "version": 2
   },
   "file_extension": ".py",
   "mimetype": "text/x-python",
   "name": "python",
   "nbconvert_exporter": "python",
   "pygments_lexer": "ipython2",
   "version": "2.7.13"
  }
 },
 "nbformat": 4,
 "nbformat_minor": 2
}
