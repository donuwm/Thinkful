{
 "cells": [
  {
   "cell_type": "markdown",
   "metadata": {},
   "source": [
    "### 1.  The IDs and durations for all trips of duration greater than 500, ordered by duration.\n",
    "~~~~\n",
    "SELECT\n",
    "    trip_id,\n",
    "    start_date\n",
    "FROM\n",
    "    trips\n",
    "WHERE \n",
    "    duration > 500\n",
    "ORDER BY duration DESC;\n",
    "~~~~\n",
    "\n",
    "### 2.  Every column of the stations table for station id 84.\n",
    "~~~~\n",
    "SELECT \n",
    "    *\n",
    "FROM\n",
    "    stations\n",
    "WHERE \n",
    "    station_id=84;\n",
    "~~~~\n",
    "\n",
    "### 3.  The min temperatures of all the occurrences of rain in zip 94301.\n",
    "~~~~\n",
    "SELECT \n",
    "    mintemperaturef\n",
    "FROM\n",
    "    weather\n",
    "WHERE\n",
    "    zip=94301;\n",
    "~~~~    "
   ]
  }
 ],
 "metadata": {
  "kernelspec": {
   "display_name": "Python 2",
   "language": "python",
   "name": "python2"
  },
  "language_info": {
   "codemirror_mode": {
    "name": "ipython",
    "version": 2
   },
   "file_extension": ".py",
   "mimetype": "text/x-python",
   "name": "python",
   "nbconvert_exporter": "python",
   "pygments_lexer": "ipython2",
   "version": "2.7.13"
  }
 },
 "nbformat": 4,
 "nbformat_minor": 2
}
