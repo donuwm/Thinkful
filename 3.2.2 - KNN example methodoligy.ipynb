{
 "cells": [
  {
   "cell_type": "markdown",
   "metadata": {},
   "source": [
    "### Introduction\n",
    "We are asked to examine a situation involving credit card payment patterns and justify a KNN method to perform the analysis."
   ]
  },
  {
   "cell_type": "markdown",
   "metadata": {},
   "source": [
    "### Question:\n",
    "Let's say we work at a credit card company and we're trying to figure out if people are going to pay their bills on time. We have everyone's purchases, split into four main categories: **groceries, dining out, utilities, and entertainment**. What are some ways you might use KNN to create this model? What aspects of KNN would be useful?\n"
   ]
  },
  {
   "cell_type": "markdown",
   "metadata": {},
   "source": [
    "### One possible method"
   ]
  },
  {
   "cell_type": "markdown",
   "metadata": {},
   "source": [
    "I would use all 4 features in a KNN model and weight the features by the inverse of their distance to the test point.  \n",
    "\n",
    "Another method would be to normalize all of the values to a range between 0 and 1; then perform KNN.  You could set the largest bill to a value of .90 for each feature and reduce all of the other data points to correspond to this 'standardization'.\n",
    "\n",
    "A third method would be to determing the mean values for all of the 4 features and convert each data point to a z-score.  \n",
    "\n",
    "These standardizations are necessary because some training data points may be very close to the test point and we will want to give those closer values more weight than the neighbors that are significantly further away."
   ]
  }
 ],
 "metadata": {
  "kernelspec": {
   "display_name": "Python 3",
   "language": "python",
   "name": "python3"
  },
  "language_info": {
   "codemirror_mode": {
    "name": "ipython",
    "version": 3
   },
   "file_extension": ".py",
   "mimetype": "text/x-python",
   "name": "python",
   "nbconvert_exporter": "python",
   "pygments_lexer": "ipython3",
   "version": "3.7.2"
  }
 },
 "nbformat": 4,
 "nbformat_minor": 2
}
