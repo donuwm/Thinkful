{
 "cells": [
  {
   "cell_type": "markdown",
   "metadata": {},
   "source": [
    "This notebook creates a binary tree and then traverses the tree (prints the values) via breadth first traversal."
   ]
  },
  {
   "cell_type": "code",
   "execution_count": 1,
   "metadata": {
    "collapsed": false,
    "inputHidden": false,
    "outputHidden": false
   },
   "outputs": [],
   "source": [
    "class Node():\n",
    "    def __init__(self, val):\n",
    "        self.right = None\n",
    "        self.left = None\n",
    "        self.val = val    "
   ]
  },
  {
   "cell_type": "code",
   "execution_count": 2,
   "metadata": {
    "collapsed": false,
    "inputHidden": false,
    "outputHidden": false
   },
   "outputs": [],
   "source": [
    "def create_tree(layers=3):\n",
    "    \"\"\"\n",
    "  =>    \"A\" current  \n",
    "      /      \\\n",
    "   \"B\"     \"C\" current layer\n",
    "    / \\    /   \\\n",
    "    \"\"\"\n",
    "    asci = 65\n",
    "    root = Node(chr(asci))  # chr(65) = \"A\"\n",
    "    current_layer = [root]  # root.val = \"A\" root.left = None\n",
    "    # The number of layers are known\n",
    "    for layer in range(layers-1):\n",
    "        next_layer = []\n",
    "        for node in current_layer:\n",
    "            asci = asci + 1  # 70 = \"F\"\n",
    "            node.left = Node(chr(asci))\n",
    "            asci = asci + 1 # 71 = \"G\"\n",
    "            node.right = Node(chr(asci))\n",
    "            next_layer.extend([node.left, node.right])\n",
    "        current_layer = next_layer\n",
    "    return root"
   ]
  },
  {
   "cell_type": "code",
   "execution_count": 9,
   "metadata": {
    "collapsed": false,
    "inputHidden": false,
    "outputHidden": false
   },
   "outputs": [],
   "source": [
    "def walk_tree(root):\n",
    "    current_layer = [root]  # root.val = \"A\" root.left.val = \"B\"\n",
    "    # the number of layers are not known\n",
    "    while len(current_layer) > 0:\n",
    "        next_layer = []\n",
    "        for node in current_layer:\n",
    "            print(node.val, end=\" \")\n",
    "            if node.left != None:\n",
    "                next_layer.append(node.left)\n",
    "            if node.right != None:\n",
    "                next_layer.append(node.right)\n",
    "        print(\" \")\n",
    "        current_layer = next_layer"
   ]
  },
  {
   "cell_type": "code",
   "execution_count": 10,
   "metadata": {
    "collapsed": false,
    "inputHidden": false,
    "outputHidden": false
   },
   "outputs": [
    {
     "name": "stdout",
     "output_type": "stream",
     "text": [
      "A  \n",
      "B C  \n",
      "D E F G  \n",
      "H I J K L M N O  \n",
      "P Q R S T U V W X Y Z [ \\ ] ^ _  \n",
      "` a b c d e f g h i j k l m n o p q r s t u v w x y z { | } ~   \n"
     ]
    }
   ],
   "source": [
    "tree = create_tree(layers=6)\n",
    "walk_tree(tree)"
   ]
  },
  {
   "cell_type": "code",
   "execution_count": null,
   "metadata": {},
   "outputs": [],
   "source": []
  }
 ],
 "metadata": {
  "kernel_info": {
   "name": "python3"
  },
  "kernelspec": {
   "display_name": "Python 3",
   "language": "python",
   "name": "python3"
  },
  "language_info": {
   "codemirror_mode": {
    "name": "ipython",
    "version": 3
   },
   "file_extension": ".py",
   "mimetype": "text/x-python",
   "name": "python",
   "nbconvert_exporter": "python",
   "pygments_lexer": "ipython3",
   "version": "3.7.3"
  },
  "nteract": {
   "version": "0.12.3"
  }
 },
 "nbformat": 4,
 "nbformat_minor": 4
}
