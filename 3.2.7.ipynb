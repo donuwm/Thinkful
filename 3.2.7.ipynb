{
 "cells": [
  {
   "cell_type": "markdown",
   "metadata": {},
   "source": [
    "### Data Source: Amsterdam availability data scraped from AirBnB on December 24th. Question: What are the popular neighborhoods in Amsterdam?\n",
    "\n",
    "### A better question would be:  How many vacancies are there in each of the neighborhoods in Amsterdam ?  Or....  What is the average asking price per person per night in each of the neighborhhods in Amsterdam ?  Also, it would be better to use another day other than Christmas Eve; maybe there are no vacancies at all for any neighborhood on that day.\n",
    "\n"
   ]
  },
  {
   "cell_type": "markdown",
   "metadata": {},
   "source": [
    "### Data Source: Mental health services use on September 12, 2001 in San Francisco, CA and New York City, NY. Question: How do patterns of mental health service use vary between cities?\n",
    "\n",
    "### Don't use NYC on this date (after 9/11).  Results will be way off.  Use another city not close to NYC or pick a date before 9/11.\n",
    "\n"
   ]
  },
  {
   "cell_type": "markdown",
   "metadata": {},
   "source": [
    "### Data Source: Armenian Pub Survey. Question: What are the most common reasons Armenians visit local pubs?\n",
    "### They might lie.  They may not want to give the real reason.  Ask their friends or other people they are with.  A better question might be to investigate the population trends of a particular Armenian Pub or many different Armenian pubs to determine when peak days and peak times are by simply counting the number of customers in the pub(s) at different times throughout the day/week/year."
   ]
  },
  {
   "cell_type": "code",
   "execution_count": null,
   "metadata": {
    "collapsed": true
   },
   "outputs": [],
   "source": []
  }
 ],
 "metadata": {
  "kernelspec": {
   "display_name": "Python 2",
   "language": "python",
   "name": "python2"
  },
  "language_info": {
   "codemirror_mode": {
    "name": "ipython",
    "version": 2
   },
   "file_extension": ".py",
   "mimetype": "text/x-python",
   "name": "python",
   "nbconvert_exporter": "python",
   "pygments_lexer": "ipython2",
   "version": "2.7.13"
  }
 },
 "nbformat": 4,
 "nbformat_minor": 2
}
