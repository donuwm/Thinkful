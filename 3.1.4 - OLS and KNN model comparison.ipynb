{
 "cells": [
  {
   "cell_type": "markdown",
   "metadata": {},
   "source": [
    "## Introduction\n",
    "This notebook imports sales data for 10 different stores and 50 particular items.  There is a 'units sold' amount for the item for every day of the year.  The point is to compare different modeling / predictive methods to predict the number of units sold given a particular set of input features.  We are comparing the classic linear regression model with the K Nearest Neighbor model. "
   ]
  },
  {
   "cell_type": "markdown",
   "metadata": {},
   "source": [
    "Import the necessary libraries and methods."
   ]
  },
  {
   "cell_type": "code",
   "execution_count": 1,
   "metadata": {},
   "outputs": [],
   "source": [
    "import numpy as np\n",
    "import pandas as pd\n",
    "import scipy\n",
    "import sklearn\n",
    "import matplotlib.pyplot as plt\n",
    "import seaborn as sns\n",
    "from sklearn import linear_model\n",
    "%matplotlib inline\n",
    "pd.options.display.float_format = '{:.5f}'.format\n",
    "from sklearn.model_selection import cross_val_score\n",
    "from sklearn import neighbors\n",
    "\n",
    "# Suppress annoying harmless error.\n",
    "import warnings\n",
    "warnings.filterwarnings(action=\"ignore\", module=\"scipy\", message=\"^internal gelsd\")"
   ]
  },
  {
   "cell_type": "markdown",
   "metadata": {},
   "source": [
    "## Import the raw data and clean"
   ]
  },
  {
   "cell_type": "code",
   "execution_count": 2,
   "metadata": {},
   "outputs": [
    {
     "data": {
      "text/html": [
       "<div>\n",
       "<style scoped>\n",
       "    .dataframe tbody tr th:only-of-type {\n",
       "        vertical-align: middle;\n",
       "    }\n",
       "\n",
       "    .dataframe tbody tr th {\n",
       "        vertical-align: top;\n",
       "    }\n",
       "\n",
       "    .dataframe thead th {\n",
       "        text-align: right;\n",
       "    }\n",
       "</style>\n",
       "<table border=\"1\" class=\"dataframe\">\n",
       "  <thead>\n",
       "    <tr style=\"text-align: right;\">\n",
       "      <th></th>\n",
       "      <th>date</th>\n",
       "      <th>store</th>\n",
       "      <th>item</th>\n",
       "      <th>sales</th>\n",
       "    </tr>\n",
       "  </thead>\n",
       "  <tbody>\n",
       "    <tr>\n",
       "      <th>0</th>\n",
       "      <td>2013-01-01</td>\n",
       "      <td>1</td>\n",
       "      <td>1</td>\n",
       "      <td>13</td>\n",
       "    </tr>\n",
       "    <tr>\n",
       "      <th>1</th>\n",
       "      <td>2013-01-02</td>\n",
       "      <td>1</td>\n",
       "      <td>1</td>\n",
       "      <td>11</td>\n",
       "    </tr>\n",
       "    <tr>\n",
       "      <th>2</th>\n",
       "      <td>2013-01-03</td>\n",
       "      <td>1</td>\n",
       "      <td>1</td>\n",
       "      <td>14</td>\n",
       "    </tr>\n",
       "    <tr>\n",
       "      <th>3</th>\n",
       "      <td>2013-01-04</td>\n",
       "      <td>1</td>\n",
       "      <td>1</td>\n",
       "      <td>13</td>\n",
       "    </tr>\n",
       "    <tr>\n",
       "      <th>4</th>\n",
       "      <td>2013-01-05</td>\n",
       "      <td>1</td>\n",
       "      <td>1</td>\n",
       "      <td>10</td>\n",
       "    </tr>\n",
       "  </tbody>\n",
       "</table>\n",
       "</div>"
      ],
      "text/plain": [
       "         date  store  item  sales\n",
       "0  2013-01-01      1     1     13\n",
       "1  2013-01-02      1     1     11\n",
       "2  2013-01-03      1     1     14\n",
       "3  2013-01-04      1     1     13\n",
       "4  2013-01-05      1     1     10"
      ]
     },
     "execution_count": 2,
     "metadata": {},
     "output_type": "execute_result"
    }
   ],
   "source": [
    "df_train = pd.read_csv('train.csv')\n",
    "df_train.head()"
   ]
  },
  {
   "cell_type": "code",
   "execution_count": 3,
   "metadata": {},
   "outputs": [
    {
     "data": {
      "text/html": [
       "<div>\n",
       "<style scoped>\n",
       "    .dataframe tbody tr th:only-of-type {\n",
       "        vertical-align: middle;\n",
       "    }\n",
       "\n",
       "    .dataframe tbody tr th {\n",
       "        vertical-align: top;\n",
       "    }\n",
       "\n",
       "    .dataframe thead th {\n",
       "        text-align: right;\n",
       "    }\n",
       "</style>\n",
       "<table border=\"1\" class=\"dataframe\">\n",
       "  <thead>\n",
       "    <tr style=\"text-align: right;\">\n",
       "      <th></th>\n",
       "      <th>date</th>\n",
       "      <th>store</th>\n",
       "      <th>item</th>\n",
       "      <th>sales</th>\n",
       "    </tr>\n",
       "  </thead>\n",
       "  <tbody>\n",
       "    <tr>\n",
       "      <th>912995</th>\n",
       "      <td>2017-12-27</td>\n",
       "      <td>10</td>\n",
       "      <td>50</td>\n",
       "      <td>63</td>\n",
       "    </tr>\n",
       "    <tr>\n",
       "      <th>912996</th>\n",
       "      <td>2017-12-28</td>\n",
       "      <td>10</td>\n",
       "      <td>50</td>\n",
       "      <td>59</td>\n",
       "    </tr>\n",
       "    <tr>\n",
       "      <th>912997</th>\n",
       "      <td>2017-12-29</td>\n",
       "      <td>10</td>\n",
       "      <td>50</td>\n",
       "      <td>74</td>\n",
       "    </tr>\n",
       "    <tr>\n",
       "      <th>912998</th>\n",
       "      <td>2017-12-30</td>\n",
       "      <td>10</td>\n",
       "      <td>50</td>\n",
       "      <td>62</td>\n",
       "    </tr>\n",
       "    <tr>\n",
       "      <th>912999</th>\n",
       "      <td>2017-12-31</td>\n",
       "      <td>10</td>\n",
       "      <td>50</td>\n",
       "      <td>82</td>\n",
       "    </tr>\n",
       "  </tbody>\n",
       "</table>\n",
       "</div>"
      ],
      "text/plain": [
       "              date  store  item  sales\n",
       "912995  2017-12-27     10    50     63\n",
       "912996  2017-12-28     10    50     59\n",
       "912997  2017-12-29     10    50     74\n",
       "912998  2017-12-30     10    50     62\n",
       "912999  2017-12-31     10    50     82"
      ]
     },
     "execution_count": 3,
     "metadata": {},
     "output_type": "execute_result"
    }
   ],
   "source": [
    "df_train.tail()"
   ]
  },
  {
   "cell_type": "markdown",
   "metadata": {},
   "source": [
    "Convert the date column to a datetime datatype for extracting the month and year later."
   ]
  },
  {
   "cell_type": "code",
   "execution_count": 4,
   "metadata": {},
   "outputs": [
    {
     "data": {
      "text/html": [
       "<div>\n",
       "<style scoped>\n",
       "    .dataframe tbody tr th:only-of-type {\n",
       "        vertical-align: middle;\n",
       "    }\n",
       "\n",
       "    .dataframe tbody tr th {\n",
       "        vertical-align: top;\n",
       "    }\n",
       "\n",
       "    .dataframe thead th {\n",
       "        text-align: right;\n",
       "    }\n",
       "</style>\n",
       "<table border=\"1\" class=\"dataframe\">\n",
       "  <thead>\n",
       "    <tr style=\"text-align: right;\">\n",
       "      <th></th>\n",
       "      <th>date</th>\n",
       "      <th>store</th>\n",
       "      <th>item</th>\n",
       "      <th>sales</th>\n",
       "      <th>date_time</th>\n",
       "    </tr>\n",
       "  </thead>\n",
       "  <tbody>\n",
       "    <tr>\n",
       "      <th>0</th>\n",
       "      <td>2013-01-01</td>\n",
       "      <td>1</td>\n",
       "      <td>1</td>\n",
       "      <td>13</td>\n",
       "      <td>2013-01-01</td>\n",
       "    </tr>\n",
       "    <tr>\n",
       "      <th>1</th>\n",
       "      <td>2013-01-02</td>\n",
       "      <td>1</td>\n",
       "      <td>1</td>\n",
       "      <td>11</td>\n",
       "      <td>2013-01-02</td>\n",
       "    </tr>\n",
       "    <tr>\n",
       "      <th>2</th>\n",
       "      <td>2013-01-03</td>\n",
       "      <td>1</td>\n",
       "      <td>1</td>\n",
       "      <td>14</td>\n",
       "      <td>2013-01-03</td>\n",
       "    </tr>\n",
       "    <tr>\n",
       "      <th>3</th>\n",
       "      <td>2013-01-04</td>\n",
       "      <td>1</td>\n",
       "      <td>1</td>\n",
       "      <td>13</td>\n",
       "      <td>2013-01-04</td>\n",
       "    </tr>\n",
       "    <tr>\n",
       "      <th>4</th>\n",
       "      <td>2013-01-05</td>\n",
       "      <td>1</td>\n",
       "      <td>1</td>\n",
       "      <td>10</td>\n",
       "      <td>2013-01-05</td>\n",
       "    </tr>\n",
       "  </tbody>\n",
       "</table>\n",
       "</div>"
      ],
      "text/plain": [
       "         date  store  item  sales  date_time\n",
       "0  2013-01-01      1     1     13 2013-01-01\n",
       "1  2013-01-02      1     1     11 2013-01-02\n",
       "2  2013-01-03      1     1     14 2013-01-03\n",
       "3  2013-01-04      1     1     13 2013-01-04\n",
       "4  2013-01-05      1     1     10 2013-01-05"
      ]
     },
     "execution_count": 4,
     "metadata": {},
     "output_type": "execute_result"
    }
   ],
   "source": [
    "df_train['date_time'] = pd.to_datetime(df_train['date'])\n",
    "df_train.head()"
   ]
  },
  {
   "cell_type": "code",
   "execution_count": 5,
   "metadata": {},
   "outputs": [
    {
     "data": {
      "text/plain": [
       "date                 object\n",
       "store                 int64\n",
       "item                  int64\n",
       "sales                 int64\n",
       "date_time    datetime64[ns]\n",
       "dtype: object"
      ]
     },
     "execution_count": 5,
     "metadata": {},
     "output_type": "execute_result"
    }
   ],
   "source": [
    "df_train.dtypes"
   ]
  },
  {
   "cell_type": "markdown",
   "metadata": {},
   "source": [
    "Extract the month and year and add this new column to the dataframe."
   ]
  },
  {
   "cell_type": "code",
   "execution_count": 6,
   "metadata": {},
   "outputs": [],
   "source": [
    "df_train['month'] = df_train.date_time.dt.month\n",
    "df_train['year'] = df_train.date_time.dt.year"
   ]
  },
  {
   "cell_type": "code",
   "execution_count": 7,
   "metadata": {},
   "outputs": [
    {
     "data": {
      "text/html": [
       "<div>\n",
       "<style scoped>\n",
       "    .dataframe tbody tr th:only-of-type {\n",
       "        vertical-align: middle;\n",
       "    }\n",
       "\n",
       "    .dataframe tbody tr th {\n",
       "        vertical-align: top;\n",
       "    }\n",
       "\n",
       "    .dataframe thead th {\n",
       "        text-align: right;\n",
       "    }\n",
       "</style>\n",
       "<table border=\"1\" class=\"dataframe\">\n",
       "  <thead>\n",
       "    <tr style=\"text-align: right;\">\n",
       "      <th></th>\n",
       "      <th>date</th>\n",
       "      <th>store</th>\n",
       "      <th>item</th>\n",
       "      <th>sales</th>\n",
       "      <th>date_time</th>\n",
       "      <th>month</th>\n",
       "      <th>year</th>\n",
       "    </tr>\n",
       "  </thead>\n",
       "  <tbody>\n",
       "    <tr>\n",
       "      <th>0</th>\n",
       "      <td>2013-01-01</td>\n",
       "      <td>1</td>\n",
       "      <td>1</td>\n",
       "      <td>13</td>\n",
       "      <td>2013-01-01</td>\n",
       "      <td>1</td>\n",
       "      <td>2013</td>\n",
       "    </tr>\n",
       "    <tr>\n",
       "      <th>1</th>\n",
       "      <td>2013-01-02</td>\n",
       "      <td>1</td>\n",
       "      <td>1</td>\n",
       "      <td>11</td>\n",
       "      <td>2013-01-02</td>\n",
       "      <td>1</td>\n",
       "      <td>2013</td>\n",
       "    </tr>\n",
       "    <tr>\n",
       "      <th>2</th>\n",
       "      <td>2013-01-03</td>\n",
       "      <td>1</td>\n",
       "      <td>1</td>\n",
       "      <td>14</td>\n",
       "      <td>2013-01-03</td>\n",
       "      <td>1</td>\n",
       "      <td>2013</td>\n",
       "    </tr>\n",
       "    <tr>\n",
       "      <th>3</th>\n",
       "      <td>2013-01-04</td>\n",
       "      <td>1</td>\n",
       "      <td>1</td>\n",
       "      <td>13</td>\n",
       "      <td>2013-01-04</td>\n",
       "      <td>1</td>\n",
       "      <td>2013</td>\n",
       "    </tr>\n",
       "    <tr>\n",
       "      <th>4</th>\n",
       "      <td>2013-01-05</td>\n",
       "      <td>1</td>\n",
       "      <td>1</td>\n",
       "      <td>10</td>\n",
       "      <td>2013-01-05</td>\n",
       "      <td>1</td>\n",
       "      <td>2013</td>\n",
       "    </tr>\n",
       "  </tbody>\n",
       "</table>\n",
       "</div>"
      ],
      "text/plain": [
       "         date  store  item  sales  date_time  month  year\n",
       "0  2013-01-01      1     1     13 2013-01-01      1  2013\n",
       "1  2013-01-02      1     1     11 2013-01-02      1  2013\n",
       "2  2013-01-03      1     1     14 2013-01-03      1  2013\n",
       "3  2013-01-04      1     1     13 2013-01-04      1  2013\n",
       "4  2013-01-05      1     1     10 2013-01-05      1  2013"
      ]
     },
     "execution_count": 7,
     "metadata": {},
     "output_type": "execute_result"
    }
   ],
   "source": [
    "df_train.head()"
   ]
  },
  {
   "cell_type": "code",
   "execution_count": 8,
   "metadata": {},
   "outputs": [
    {
     "data": {
      "text/html": [
       "<div>\n",
       "<style scoped>\n",
       "    .dataframe tbody tr th:only-of-type {\n",
       "        vertical-align: middle;\n",
       "    }\n",
       "\n",
       "    .dataframe tbody tr th {\n",
       "        vertical-align: top;\n",
       "    }\n",
       "\n",
       "    .dataframe thead th {\n",
       "        text-align: right;\n",
       "    }\n",
       "</style>\n",
       "<table border=\"1\" class=\"dataframe\">\n",
       "  <thead>\n",
       "    <tr style=\"text-align: right;\">\n",
       "      <th></th>\n",
       "      <th>date</th>\n",
       "      <th>store</th>\n",
       "      <th>item</th>\n",
       "      <th>sales</th>\n",
       "      <th>date_time</th>\n",
       "      <th>month</th>\n",
       "      <th>year</th>\n",
       "    </tr>\n",
       "  </thead>\n",
       "  <tbody>\n",
       "    <tr>\n",
       "      <th>912995</th>\n",
       "      <td>2017-12-27</td>\n",
       "      <td>10</td>\n",
       "      <td>50</td>\n",
       "      <td>63</td>\n",
       "      <td>2017-12-27</td>\n",
       "      <td>12</td>\n",
       "      <td>2017</td>\n",
       "    </tr>\n",
       "    <tr>\n",
       "      <th>912996</th>\n",
       "      <td>2017-12-28</td>\n",
       "      <td>10</td>\n",
       "      <td>50</td>\n",
       "      <td>59</td>\n",
       "      <td>2017-12-28</td>\n",
       "      <td>12</td>\n",
       "      <td>2017</td>\n",
       "    </tr>\n",
       "    <tr>\n",
       "      <th>912997</th>\n",
       "      <td>2017-12-29</td>\n",
       "      <td>10</td>\n",
       "      <td>50</td>\n",
       "      <td>74</td>\n",
       "      <td>2017-12-29</td>\n",
       "      <td>12</td>\n",
       "      <td>2017</td>\n",
       "    </tr>\n",
       "    <tr>\n",
       "      <th>912998</th>\n",
       "      <td>2017-12-30</td>\n",
       "      <td>10</td>\n",
       "      <td>50</td>\n",
       "      <td>62</td>\n",
       "      <td>2017-12-30</td>\n",
       "      <td>12</td>\n",
       "      <td>2017</td>\n",
       "    </tr>\n",
       "    <tr>\n",
       "      <th>912999</th>\n",
       "      <td>2017-12-31</td>\n",
       "      <td>10</td>\n",
       "      <td>50</td>\n",
       "      <td>82</td>\n",
       "      <td>2017-12-31</td>\n",
       "      <td>12</td>\n",
       "      <td>2017</td>\n",
       "    </tr>\n",
       "  </tbody>\n",
       "</table>\n",
       "</div>"
      ],
      "text/plain": [
       "              date  store  item  sales  date_time  month  year\n",
       "912995  2017-12-27     10    50     63 2017-12-27     12  2017\n",
       "912996  2017-12-28     10    50     59 2017-12-28     12  2017\n",
       "912997  2017-12-29     10    50     74 2017-12-29     12  2017\n",
       "912998  2017-12-30     10    50     62 2017-12-30     12  2017\n",
       "912999  2017-12-31     10    50     82 2017-12-31     12  2017"
      ]
     },
     "execution_count": 8,
     "metadata": {},
     "output_type": "execute_result"
    }
   ],
   "source": [
    "df_train.tail()"
   ]
  },
  {
   "cell_type": "markdown",
   "metadata": {},
   "source": [
    "## Data Exploration\n",
    "First, lets make a scatterplot by date and sales."
   ]
  },
  {
   "cell_type": "code",
   "execution_count": 9,
   "metadata": {},
   "outputs": [
    {
     "data": {
      "image/png": "[encoded data removed]",
      "text/plain": [
       "<Figure size 432x288 with 1 Axes>"
      ]
     },
     "metadata": {
      "needs_background": "light"
     },
     "output_type": "display_data"
    }
   ],
   "source": [
    "# set the index of this data to equal the date_time column for graphing purposes\n",
    "df_date_index = df_train.set_index('date_time')\n",
    "\n",
    "# plot the data\n",
    "df_date_index['sales'].plot()\n",
    "plt.title('Total Sales')\n",
    "plt.xlabel('Date')\n",
    "plt.ylabel('Frequence')\n",
    "plt.show()"
   ]
  },
  {
   "cell_type": "markdown",
   "metadata": {},
   "source": [
    "The above plot shows total sales for all items in all stores starting on Jan 1, 2013 and ending on Dec 31, 2017.\n",
    "\n",
    "As you can see there is sesonality in the data."
   ]
  },
  {
   "cell_type": "markdown",
   "metadata": {},
   "source": [
    "Here is a histogram of the data."
   ]
  },
  {
   "cell_type": "code",
   "execution_count": 10,
   "metadata": {},
   "outputs": [
    {
     "data": {
      "image/png": "[encoded data removed]",
      "text/plain": [
       "<Figure size 432x288 with 1 Axes>"
      ]
     },
     "metadata": {
      "needs_background": "light"
     },
     "output_type": "display_data"
    }
   ],
   "source": [
    "# plot all of the data by unit sales\n",
    "df_train.hist('sales')\n",
    "plt.title('Distribution of sales')\n",
    "plt.xlabel('Unit Sales')\n",
    "plt.ylabel('Frequence')\n",
    "plt.show()"
   ]
  },
  {
   "cell_type": "markdown",
   "metadata": {},
   "source": [
    "The above histogram represents the distribution of the sales data.  Most of the unit sales per item are in the 30 - 75 units range."
   ]
  },
  {
   "cell_type": "markdown",
   "metadata": {},
   "source": [
    "## Building the model - Using Linear Regression\n",
    "First, we build the linear regression model using the **store** and **item** as the dependent variables in order to predict sales (independent variable).  \n",
    "\n",
    "We then test some specific stores and items to see what sales number the model will predict.  \n",
    "\n",
    "We've also calculated the r-squared value and the cross_val_score to measure the amount of variance that is explained in our model."
   ]
  },
  {
   "cell_type": "code",
   "execution_count": 11,
   "metadata": {},
   "outputs": [
    {
     "name": "stdout",
     "output_type": "stream",
     "text": [
      "Coefficients: \n",
      " [-0.08192638 -0.11176095]\n",
      "Intercept: \n",
      " 55.550786314088285\n",
      "\n",
      "R-squared:\n",
      "0.003202539200479082\n",
      "[55.35709898]\n",
      "[55.2751726]\n",
      "[50.11191162]\n",
      "mean cross_val_score: -0.18 (+/- 0.37)\n",
      "Duration: 0:00:00.804046\n"
     ]
    }
   ],
   "source": [
    "from datetime import datetime\n",
    "start_time = datetime.now()\n",
    "\n",
    "# Instantiate our model.\n",
    "regr = linear_model.LinearRegression()\n",
    "\n",
    "# Fit our model to our data.\n",
    "x = df_train[['store', 'item']]\n",
    "y = df_train['sales'].values\n",
    "\n",
    "regr.fit(x, y)\n",
    "\n",
    "# Display the attributes we calculated.\n",
    "print('Coefficients: \\n', regr.coef_)\n",
    "print('Intercept: \\n', regr.intercept_)\n",
    "print('\\nR-squared:')\n",
    "print(regr.score(x, y))\n",
    "\n",
    "# run some test predictions\n",
    "y_ = regr.predict([[1, 1]])\n",
    "y2_ = regr.predict([[2, 1]])\n",
    "y3_ = regr.predict([[5, 45]])\n",
    "\n",
    "print(y_)\n",
    "print(y2_)\n",
    "print(y3_)\n",
    "\n",
    "score = cross_val_score(regr, x, y, cv=5)\n",
    "print(\"mean cross_val_score: %0.2f (+/- %0.2f)\" % (score.mean(), score.std() * 2))\n",
    "\n",
    "end_time = datetime.now()\n",
    "print('Duration: {}'.format(end_time - start_time))"
   ]
  },
  {
   "cell_type": "markdown",
   "metadata": {},
   "source": [
    "Now with some seasonality by using **month** as a feature as well as the **store** and **item** that we used previously."
   ]
  },
  {
   "cell_type": "code",
   "execution_count": 12,
   "metadata": {},
   "outputs": [
    {
     "name": "stdout",
     "output_type": "stream",
     "text": [
      "Coefficients: \n",
      " [-0.08192638 -0.11176095  0.73005728]\n",
      "Intercept: \n",
      " 50.78822206702552\n",
      "\n",
      "R-squared:\n",
      "0.010843776562337704\n",
      "[51.32459201]\n",
      "[54.89295203]\n",
      "[53.37997745]\n",
      "mean cross_val_score: -0.17 (+/- 0.38)\n",
      "Duration: 0:00:00.955055\n"
     ]
    }
   ],
   "source": [
    "from datetime import datetime\n",
    "start_time = datetime.now()\n",
    "\n",
    "# Instantiate our model.\n",
    "regr = linear_model.LinearRegression()\n",
    "\n",
    "# Fit our model to our data.\n",
    "x = df_train[['store', 'item', 'month']]\n",
    "y = df_train['sales'].values\n",
    "\n",
    "regr.fit(x, y)\n",
    "\n",
    "# Display the attributes we calculated.\n",
    "print('Coefficients: \\n', regr.coef_)\n",
    "print('Intercept: \\n', regr.intercept_)\n",
    "print('\\nR-squared:')\n",
    "print(regr.score(x, y))\n",
    "\n",
    "# run some test predictions\n",
    "y_ = regr.predict([[1, 1, 1]])\n",
    "y2_ = regr.predict([[2, 1, 6]])\n",
    "y3_ = regr.predict([[5, 45, 11]])\n",
    "\n",
    "print(y_)\n",
    "print(y2_)\n",
    "print(y3_)\n",
    "\n",
    "score = cross_val_score(regr, x, y, cv=5)\n",
    "print(\"mean cross_val_score: %0.2f (+/- %0.2f)\" % (score.mean(), score.std() * 2))\n",
    "\n",
    "end_time = datetime.now()\n",
    "print('Duration: {}'.format(end_time - start_time))"
   ]
  },
  {
   "cell_type": "markdown",
   "metadata": {},
   "source": [
    "## Building the model - Using K Nearest Neighbor\n",
    "First, we build the knn model using the **store** and **item** as the dependent variables in order to predict sales (independent variable).  \n",
    "\n",
    "We then test some specific store and items to see what sales number the model will predict.  \n",
    "\n",
    "We've also calculated the r-squared value and the cross_val_score to measure the amount of variance that is explained in our model."
   ]
  },
  {
   "cell_type": "code",
   "execution_count": 13,
   "metadata": {},
   "outputs": [
    {
     "name": "stdout",
     "output_type": "stream",
     "text": [
      "[13.66666667]\n",
      "[18.33333333]\n",
      "[58.73333333]\n",
      "Coefficients: \n",
      " [-0.08192638 -0.11176095  0.73005728]\n",
      "Intercept: \n",
      " 50.78822206702552\n",
      "\n",
      "R-squared:\n",
      "0.45206756997968445\n",
      "mean cross_val_score: -0.43 (+/- 0.61)\n",
      "Duration: 0:03:27.236853\n"
     ]
    }
   ],
   "source": [
    "from datetime import datetime\n",
    "start_time = datetime.now()\n",
    "\n",
    "# KNN model\n",
    "knn = neighbors.KNeighborsRegressor(n_neighbors=15, weights='uniform')\n",
    "\n",
    "# Fit our model to our data.\n",
    "x = df_train[['store', 'item']]\n",
    "y = df_train['sales'].values\n",
    "\n",
    "knn.fit(x, y)\n",
    "\n",
    "# T = np.arange(0, 365, 0.1)[:, np.newaxis]\n",
    "\n",
    "# run some test predictions\n",
    "y_ = knn.predict([[1, 1]])\n",
    "y2_ = knn.predict([[2, 1]])\n",
    "y3_ = knn.predict([[5, 45]])\n",
    "\n",
    "print(y_)\n",
    "print(y2_)\n",
    "print(y3_)\n",
    "\n",
    "# Display the attributes we calculated.\n",
    "print('Coefficients: \\n', regr.coef_)\n",
    "print('Intercept: \\n', regr.intercept_)\n",
    "print('\\nR-squared:')\n",
    "print(knn.score(x, y))\n",
    "\n",
    "from sklearn.model_selection import cross_val_score\n",
    "\n",
    "score = cross_val_score(knn, x, y, cv=5)\n",
    "print(\"mean cross_val_score: %0.2f (+/- %0.2f)\" % (score.mean(), score.std() * 2))\n",
    "\n",
    "end_time = datetime.now()\n",
    "print('Duration: {}'.format(end_time - start_time))"
   ]
  },
  {
   "cell_type": "markdown",
   "metadata": {},
   "source": [
    "Now use the **month** feature for seasonality."
   ]
  },
  {
   "cell_type": "code",
   "execution_count": 14,
   "metadata": {},
   "outputs": [
    {
     "name": "stdout",
     "output_type": "stream",
     "text": [
      "[10.66666667]\n",
      "[33.13333333]\n",
      "[66.73333333]\n",
      "Coefficients: \n",
      " [-0.08192638 -0.11176095  0.73005728]\n",
      "Intercept: \n",
      " 50.78822206702552\n",
      "\n",
      "R-squared:\n",
      "0.7947900775677502\n",
      "mean cross_val_score: -0.12 (+/- 0.74)\n",
      "Duration: 0:01:15.867339\n"
     ]
    }
   ],
   "source": [
    "from datetime import datetime\n",
    "start_time = datetime.now()\n",
    "\n",
    "# KNN model\n",
    "knn = neighbors.KNeighborsRegressor(n_neighbors=15, weights='uniform')\n",
    "\n",
    "# Fit our model to our data.\n",
    "x = df_train[['store', 'item', 'month']]\n",
    "y = df_train['sales'].values\n",
    "\n",
    "knn.fit(x, y)\n",
    "\n",
    "# run some test predictions\n",
    "y_ = knn.predict([[1, 1, 1]])\n",
    "y2_ = knn.predict([[2, 1, 6]])\n",
    "y3_ = knn.predict([[5, 45, 11]])\n",
    "\n",
    "print(y_)\n",
    "print(y2_)\n",
    "print(y3_)\n",
    "\n",
    "# Display the attributes we calculated.\n",
    "print('Coefficients: \\n', regr.coef_)\n",
    "print('Intercept: \\n', regr.intercept_)\n",
    "print('\\nR-squared:')\n",
    "print(knn.score(x, y))\n",
    "\n",
    "from sklearn.model_selection import cross_val_score\n",
    "\n",
    "score = cross_val_score(knn, x, y, cv=5)\n",
    "print(\"mean cross_val_score: %0.2f (+/- %0.2f)\" % (score.mean(), score.std() * 2))\n",
    "\n",
    "end_time = datetime.now()\n",
    "print('Duration: {}'.format(end_time - start_time))"
   ]
  },
  {
   "cell_type": "markdown",
   "metadata": {},
   "source": [
    "One more time adding the **year** feature since the quantity of sales per item increases as time goes on."
   ]
  },
  {
   "cell_type": "code",
   "execution_count": 15,
   "metadata": {},
   "outputs": [
    {
     "name": "stdout",
     "output_type": "stream",
     "text": [
      "[10.4]\n",
      "[33.4]\n",
      "[73.46666667]\n",
      "Coefficients: \n",
      " [-0.08192638 -0.11176095  0.73005728]\n",
      "Intercept: \n",
      " 50.78822206702552\n",
      "\n",
      "R-squared:\n",
      "0.8715750260337896\n",
      "mean cross_val_score: -0.07 (+/- 0.77)\n",
      "Duration: 0:01:13.529206\n"
     ]
    }
   ],
   "source": [
    "from datetime import datetime\n",
    "start_time = datetime.now()\n",
    "\n",
    "# KNN model\n",
    "knn = neighbors.KNeighborsRegressor(n_neighbors=15, weights='uniform')\n",
    "\n",
    "# Fit our model to our data.\n",
    "x = df_train[['store', 'item', 'month', 'year']]\n",
    "y = df_train['sales'].values\n",
    "\n",
    "knn.fit(x, y)\n",
    "\n",
    "# run some test predictions\n",
    "y_ = knn.predict([[1, 1, 1, 2013]])\n",
    "y2_ = knn.predict([[2, 1, 6, 2015]])\n",
    "y3_ = knn.predict([[5, 45, 11, 2017]])\n",
    "\n",
    "print(y_)\n",
    "print(y2_)\n",
    "print(y3_)\n",
    "\n",
    "# Display the attributes we calculated.\n",
    "print('Coefficients: \\n', regr.coef_)\n",
    "print('Intercept: \\n', regr.intercept_)\n",
    "print('\\nR-squared:')\n",
    "print(knn.score(x, y))\n",
    "\n",
    "from sklearn.model_selection import cross_val_score\n",
    "\n",
    "score = cross_val_score(knn, x, y, cv=5)\n",
    "print(\"mean cross_val_score: %0.2f (+/- %0.2f)\" % (score.mean(), score.std() * 2))\n",
    "\n",
    "end_time = datetime.now()\n",
    "print('Duration: {}'.format(end_time - start_time))"
   ]
  },
  {
   "cell_type": "markdown",
   "metadata": {},
   "source": [
    "## Evaluating the model\n",
    "Linear Regression Model - Without Seasonality:  \n",
    "- r-squared:  **.0032**\n",
    "- cross_val_score:  **-.18 +/- .37**\n",
    "\n",
    "Linear Regression Model - With Seasonality ('month' feature)\n",
    "- r-squared:  **.0108**\n",
    "- cross_val_score:  **-.17 +/- .38**\n",
    "\n",
    "K Nearest Neighbor Model - Without Seasonality:\n",
    "- r-squared:  **.452**\n",
    "- cross_val_score:  **-.43 +/- .61**\n",
    "\n",
    "K Nearest Neighbor Model - With Seasonality (**'month'** feature):\n",
    "- r-squared:  **.795**\n",
    "- cross_val_score:  **-.12 +/- .74**\n",
    "\n",
    "K Nearest Neighbor Model - With Seasonality (**'month'** feature) and yearly increase (**'year'** feature):\n",
    "- r-squared:  **.872**\n",
    "- cross_val_score:  **-.07 +/- .77**"
   ]
  },
  {
   "cell_type": "markdown",
   "metadata": {},
   "source": [
    "## Discussion and conclusion\n",
    "The best model for this dataset so far is the KNN model using the 4 features of store, item, month and year.  The accuracy of the model using the r-squared value is **.872**; meaning that the model explains about 87% of the variance of the data.\n",
    "\n",
    "It is a little troubling that the cross_val_score is -0.07.  More investigation is needed to explain the differences in the two accuracy statistical measures.\n",
    "\n",
    "Given the seasonality of the data, as expected, the linear regression model was not a good fit and the KNN modeling method was far superior.  However, the KNN models took about 2 to 3 minutes to compute vs just milliseconds for the LR model.\n",
    "\n",
    "The next step would be to add the day of the week as a feature because sales are highest on Friday, Saturday and Sunday and lowest on Mondays.\n",
    "\n",
    "Then, the day of the month would also be helpful as a Thursday at the beginning of May will likely have lower sales than a Thursday at the end of May due to the yearly seasonality.  Incorporating these two features (day of week and day of month) would likely increas the r-squared as well as the cross_val_score.\n",
    "\n",
    "So, in this data, there is a yearly seasonality as well as \"seasonality\" within any given week."
   ]
  }
 ],
 "metadata": {
  "kernelspec": {
   "display_name": "Python 3",
   "language": "python",
   "name": "python3"
  },
  "language_info": {
   "codemirror_mode": {
    "name": "ipython",
    "version": 3
   },
   "file_extension": ".py",
   "mimetype": "text/x-python",
   "name": "python",
   "nbconvert_exporter": "python",
   "pygments_lexer": "ipython3",
   "version": "3.7.2"
  }
 },
 "nbformat": 4,
 "nbformat_minor": 2
}
