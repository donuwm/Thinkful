{
 "cells": [
  {
   "cell_type": "markdown",
   "metadata": {},
   "source": [
    "# Snow and Stocks  \n",
    "\n",
    "Does snowfall in New York City affect stock prices ?  This notebook explores that quesiton.  \n",
    "\n",
    "By Fred Etter - August, 2019\n",
    "\n",
    "Import modules and libraries:"
   ]
  },
  {
   "cell_type": "code",
   "execution_count": 1,
   "metadata": {},
   "outputs": [],
   "source": [
    "import numpy as np\n",
    "import pandas as pd\n",
    "import scipy\n",
    "from datetime import datetime\n",
    "import datetime as dt\n",
    "import matplotlib.pyplot as plt\n",
    "from scipy.stats import ttest_ind\n",
    "from scipy import stats\n",
    "import sklearn\n",
    "from sklearn import preprocessing\n",
    "from sklearn import linear_model\n",
    "import seaborn as sns\n",
    "from sklearn import metrics\n",
    "from sklearn.metrics import confusion_matrix\n",
    "from sklearn.cluster import KMeans\n",
    "from sklearn.preprocessing import normalize\n",
    "from sklearn.cluster import MeanShift, estimate_bandwidth\n",
    "from scipy.stats import ttest_1samp, wilcoxon, ttest_ind, mannwhitneyu\n",
    "%matplotlib inline"
   ]
  },
  {
   "cell_type": "markdown",
   "metadata": {},
   "source": [
    "Read in the rain and snow data:"
   ]
  },
  {
   "cell_type": "code",
   "execution_count": 2,
   "metadata": {},
   "outputs": [
    {
     "data": {
      "text/html": [
       "<div>\n",
       "<style scoped>\n",
       "    .dataframe tbody tr th:only-of-type {\n",
       "        vertical-align: middle;\n",
       "    }\n",
       "\n",
       "    .dataframe tbody tr th {\n",
       "        vertical-align: top;\n",
       "    }\n",
       "\n",
       "    .dataframe thead th {\n",
       "        text-align: right;\n",
       "    }\n",
       "</style>\n",
       "<table border=\"1\" class=\"dataframe\">\n",
       "  <thead>\n",
       "    <tr style=\"text-align: right;\">\n",
       "      <th></th>\n",
       "      <th>Year</th>\n",
       "      <th>Month</th>\n",
       "      <th>Day</th>\n",
       "      <th>Hour</th>\n",
       "      <th>Minute</th>\n",
       "      <th>Total Precipitation (high resolution) daily sum [sfc]</th>\n",
       "      <th>Snowfall Amount (high resolution) daily sum [sfc]</th>\n",
       "    </tr>\n",
       "  </thead>\n",
       "  <tbody>\n",
       "    <tr>\n",
       "      <th>0</th>\n",
       "      <td>2009</td>\n",
       "      <td>7</td>\n",
       "      <td>31</td>\n",
       "      <td>0</td>\n",
       "      <td>0</td>\n",
       "      <td>22.7</td>\n",
       "      <td>0.0</td>\n",
       "    </tr>\n",
       "    <tr>\n",
       "      <th>1</th>\n",
       "      <td>2009</td>\n",
       "      <td>8</td>\n",
       "      <td>1</td>\n",
       "      <td>0</td>\n",
       "      <td>0</td>\n",
       "      <td>17.4</td>\n",
       "      <td>0.0</td>\n",
       "    </tr>\n",
       "    <tr>\n",
       "      <th>2</th>\n",
       "      <td>2009</td>\n",
       "      <td>8</td>\n",
       "      <td>2</td>\n",
       "      <td>0</td>\n",
       "      <td>0</td>\n",
       "      <td>0.0</td>\n",
       "      <td>0.0</td>\n",
       "    </tr>\n",
       "    <tr>\n",
       "      <th>3</th>\n",
       "      <td>2009</td>\n",
       "      <td>8</td>\n",
       "      <td>3</td>\n",
       "      <td>0</td>\n",
       "      <td>0</td>\n",
       "      <td>0.2</td>\n",
       "      <td>0.0</td>\n",
       "    </tr>\n",
       "    <tr>\n",
       "      <th>4</th>\n",
       "      <td>2009</td>\n",
       "      <td>8</td>\n",
       "      <td>4</td>\n",
       "      <td>0</td>\n",
       "      <td>0</td>\n",
       "      <td>0.0</td>\n",
       "      <td>0.0</td>\n",
       "    </tr>\n",
       "  </tbody>\n",
       "</table>\n",
       "</div>"
      ],
      "text/plain": [
       "   Year  Month  Day  Hour  Minute  \\\n",
       "0  2009      7   31     0       0   \n",
       "1  2009      8    1     0       0   \n",
       "2  2009      8    2     0       0   \n",
       "3  2009      8    3     0       0   \n",
       "4  2009      8    4     0       0   \n",
       "\n",
       "   Total Precipitation (high resolution) daily sum [sfc]  \\\n",
       "0                                               22.7       \n",
       "1                                               17.4       \n",
       "2                                                0.0       \n",
       "3                                                0.2       \n",
       "4                                                0.0       \n",
       "\n",
       "   Snowfall Amount (high resolution) daily sum [sfc]  \n",
       "0                                                0.0  \n",
       "1                                                0.0  \n",
       "2                                                0.0  \n",
       "3                                                0.0  \n",
       "4                                                0.0  "
      ]
     },
     "execution_count": 2,
     "metadata": {},
     "output_type": "execute_result"
    }
   ],
   "source": [
    "# Use pandas read_csv command to import the local csv file\n",
    "df = pd.read_csv('snow_and_rain.csv', skiprows=11, sep=';')\n",
    "df.head()"
   ]
  },
  {
   "cell_type": "markdown",
   "metadata": {},
   "source": [
    "Print the columns and then rename them for easier navigation:"
   ]
  },
  {
   "cell_type": "code",
   "execution_count": 3,
   "metadata": {},
   "outputs": [
    {
     "name": "stdout",
     "output_type": "stream",
     "text": [
      "Index(['Year', 'Month', 'Day', 'Hour', 'Minute',\n",
      "       'Total Precipitation (high resolution) daily sum [sfc]',\n",
      "       'Snowfall Amount (high resolution) daily sum [sfc]'],\n",
      "      dtype='object')\n"
     ]
    }
   ],
   "source": [
    "print(df.columns)"
   ]
  },
  {
   "cell_type": "code",
   "execution_count": 4,
   "metadata": {},
   "outputs": [],
   "source": [
    "# drop the Hour and Minute columns\n",
    "df.drop(['Hour', 'Minute'], axis=1, inplace=True)\n",
    "\n",
    "df.columns = ['Year', 'Month', 'Day', 'Rain', 'Snow']"
   ]
  },
  {
   "cell_type": "markdown",
   "metadata": {},
   "source": [
    "Display the top 5 columns of the dataframe:"
   ]
  },
  {
   "cell_type": "code",
   "execution_count": 5,
   "metadata": {},
   "outputs": [
    {
     "data": {
      "text/html": [
       "<div>\n",
       "<style scoped>\n",
       "    .dataframe tbody tr th:only-of-type {\n",
       "        vertical-align: middle;\n",
       "    }\n",
       "\n",
       "    .dataframe tbody tr th {\n",
       "        vertical-align: top;\n",
       "    }\n",
       "\n",
       "    .dataframe thead th {\n",
       "        text-align: right;\n",
       "    }\n",
       "</style>\n",
       "<table border=\"1\" class=\"dataframe\">\n",
       "  <thead>\n",
       "    <tr style=\"text-align: right;\">\n",
       "      <th></th>\n",
       "      <th>Year</th>\n",
       "      <th>Month</th>\n",
       "      <th>Day</th>\n",
       "      <th>Rain</th>\n",
       "      <th>Snow</th>\n",
       "    </tr>\n",
       "  </thead>\n",
       "  <tbody>\n",
       "    <tr>\n",
       "      <th>0</th>\n",
       "      <td>2009</td>\n",
       "      <td>7</td>\n",
       "      <td>31</td>\n",
       "      <td>22.7</td>\n",
       "      <td>0.0</td>\n",
       "    </tr>\n",
       "    <tr>\n",
       "      <th>1</th>\n",
       "      <td>2009</td>\n",
       "      <td>8</td>\n",
       "      <td>1</td>\n",
       "      <td>17.4</td>\n",
       "      <td>0.0</td>\n",
       "    </tr>\n",
       "    <tr>\n",
       "      <th>2</th>\n",
       "      <td>2009</td>\n",
       "      <td>8</td>\n",
       "      <td>2</td>\n",
       "      <td>0.0</td>\n",
       "      <td>0.0</td>\n",
       "    </tr>\n",
       "    <tr>\n",
       "      <th>3</th>\n",
       "      <td>2009</td>\n",
       "      <td>8</td>\n",
       "      <td>3</td>\n",
       "      <td>0.2</td>\n",
       "      <td>0.0</td>\n",
       "    </tr>\n",
       "    <tr>\n",
       "      <th>4</th>\n",
       "      <td>2009</td>\n",
       "      <td>8</td>\n",
       "      <td>4</td>\n",
       "      <td>0.0</td>\n",
       "      <td>0.0</td>\n",
       "    </tr>\n",
       "  </tbody>\n",
       "</table>\n",
       "</div>"
      ],
      "text/plain": [
       "   Year  Month  Day  Rain  Snow\n",
       "0  2009      7   31  22.7   0.0\n",
       "1  2009      8    1  17.4   0.0\n",
       "2  2009      8    2   0.0   0.0\n",
       "3  2009      8    3   0.2   0.0\n",
       "4  2009      8    4   0.0   0.0"
      ]
     },
     "execution_count": 5,
     "metadata": {},
     "output_type": "execute_result"
    }
   ],
   "source": [
    "df.head()"
   ]
  },
  {
   "cell_type": "markdown",
   "metadata": {},
   "source": [
    "Drop some solumns for plotting purposes and then plot the snow and rain amount in NYC for the past 10 years:"
   ]
  },
  {
   "cell_type": "code",
   "execution_count": 6,
   "metadata": {},
   "outputs": [],
   "source": [
    "df_plot = df\n",
    "df_plot['dt'] = pd.to_datetime((df.Year*10000+df.Month*100+df.Day).apply(str),format='%Y%m%d')\n",
    "df_plot.columns = ['Year', 'Month', 'Day', 'Rain', 'Snow', 'dt']\n",
    "df_plot.index = pd.to_datetime(df_plot.dt)\n",
    "df_plot.drop(['Year'], axis=1, inplace=True)\n",
    "df_plot.drop(['Month'], axis=1, inplace=True)\n",
    "df_plot.drop(['Day'], axis=1, inplace=True)\n",
    "df_plot.drop(['dt'], axis=1, inplace=True)"
   ]
  },
  {
   "cell_type": "code",
   "execution_count": 7,
   "metadata": {},
   "outputs": [
    {
     "data": {
      "image/png": "[encoded data removed]",
      "text/plain": [
       "<Figure size 1008x432 with 1 Axes>"
      ]
     },
     "metadata": {
      "needs_background": "light"
     },
     "output_type": "display_data"
    }
   ],
   "source": [
    "df_plot.plot(figsize=(14, 6))\n",
    "plt.title('Snow in cm in NYC')\n",
    "plt.xlabel('Date')\n",
    "plt.ylabel('Cm')\n",
    "plt.show()"
   ]
  },
  {
   "cell_type": "markdown",
   "metadata": {},
   "source": [
    "The plot above shows the daily snow in orange and rain in blue.  Next read in S&P 500 data for the past 10 years approximately:"
   ]
  },
  {
   "cell_type": "code",
   "execution_count": 8,
   "metadata": {},
   "outputs": [],
   "source": [
    "# read in all of the local csv files into pandas:\n",
    "df5 = pd.read_csv('SP500_new.csv')\n",
    "\n",
    "# Convert price to a number, with coersion to throw NA's if conversion not possible\n",
    "df5['price'] = pd.to_numeric(df5.SP500, errors='coerce')\n",
    "\n",
    "# Remove NA's\n",
    "df5.dropna(inplace=True)\n"
   ]
  },
  {
   "cell_type": "code",
   "execution_count": 9,
   "metadata": {},
   "outputs": [
    {
     "data": {
      "text/html": [
       "<div>\n",
       "<style scoped>\n",
       "    .dataframe tbody tr th:only-of-type {\n",
       "        vertical-align: middle;\n",
       "    }\n",
       "\n",
       "    .dataframe tbody tr th {\n",
       "        vertical-align: top;\n",
       "    }\n",
       "\n",
       "    .dataframe thead th {\n",
       "        text-align: right;\n",
       "    }\n",
       "</style>\n",
       "<table border=\"1\" class=\"dataframe\">\n",
       "  <thead>\n",
       "    <tr style=\"text-align: right;\">\n",
       "      <th></th>\n",
       "      <th>DATE</th>\n",
       "      <th>SP500</th>\n",
       "      <th>price</th>\n",
       "    </tr>\n",
       "  </thead>\n",
       "  <tbody>\n",
       "    <tr>\n",
       "      <th>0</th>\n",
       "      <td>2009-08-07</td>\n",
       "      <td>1010.48</td>\n",
       "      <td>1010.48</td>\n",
       "    </tr>\n",
       "    <tr>\n",
       "      <th>1</th>\n",
       "      <td>2009-08-10</td>\n",
       "      <td>1007.10</td>\n",
       "      <td>1007.10</td>\n",
       "    </tr>\n",
       "    <tr>\n",
       "      <th>2</th>\n",
       "      <td>2009-08-11</td>\n",
       "      <td>994.35</td>\n",
       "      <td>994.35</td>\n",
       "    </tr>\n",
       "    <tr>\n",
       "      <th>3</th>\n",
       "      <td>2009-08-12</td>\n",
       "      <td>1005.81</td>\n",
       "      <td>1005.81</td>\n",
       "    </tr>\n",
       "    <tr>\n",
       "      <th>4</th>\n",
       "      <td>2009-08-13</td>\n",
       "      <td>1012.73</td>\n",
       "      <td>1012.73</td>\n",
       "    </tr>\n",
       "  </tbody>\n",
       "</table>\n",
       "</div>"
      ],
      "text/plain": [
       "         DATE    SP500    price\n",
       "0  2009-08-07  1010.48  1010.48\n",
       "1  2009-08-10  1007.10  1007.10\n",
       "2  2009-08-11   994.35   994.35\n",
       "3  2009-08-12  1005.81  1005.81\n",
       "4  2009-08-13  1012.73  1012.73"
      ]
     },
     "execution_count": 9,
     "metadata": {},
     "output_type": "execute_result"
    }
   ],
   "source": [
    "df5.head()"
   ]
  },
  {
   "cell_type": "markdown",
   "metadata": {},
   "source": [
    "Plot the S&P 500 index:"
   ]
  },
  {
   "cell_type": "code",
   "execution_count": 10,
   "metadata": {},
   "outputs": [
    {
     "data": {
      "image/png": "[encoded data removed]",
      "text/plain": [
       "<Figure size 864x432 with 1 Axes>"
      ]
     },
     "metadata": {
      "needs_background": "light"
     },
     "output_type": "display_data"
    }
   ],
   "source": [
    "df5.index = pd.to_datetime(df5.DATE)\n",
    "df5.plot(figsize=(12, 6))\n",
    "plt.title('S&P 500 Time Series')\n",
    "plt.show()"
   ]
  },
  {
   "cell_type": "markdown",
   "metadata": {},
   "source": [
    "The above plot shows the bull market from late 2009 to June of 2019.  Notice that the chart does not have an absolute zero in this case (it is not necessary).  Next, add some columns to perform some analysis:"
   ]
  },
  {
   "cell_type": "code",
   "execution_count": 11,
   "metadata": {},
   "outputs": [],
   "source": [
    "# For S&P 500\n",
    "df5['date_time'] = pd.to_datetime(df5['DATE'])\n",
    "\n",
    "df5['weekday'] = df5.date_time.dt.weekday\n",
    "df5['day'] = df5.date_time.dt.day\n",
    "df5['month'] = df5.date_time.dt.month\n",
    "df5['year'] = df5.date_time.dt.year"
   ]
  },
  {
   "cell_type": "markdown",
   "metadata": {},
   "source": [
    "Add a column for the change in price for each day:"
   ]
  },
  {
   "cell_type": "code",
   "execution_count": 12,
   "metadata": {},
   "outputs": [],
   "source": [
    "# add a column for the change in price each day\n",
    "df5['change'] = df5.price - df5.price.shift()"
   ]
  },
  {
   "cell_type": "markdown",
   "metadata": {},
   "source": [
    "Sum the total change for each day of the week for the S&P 500 to see the cumulative return for each day:"
   ]
  },
  {
   "cell_type": "code",
   "execution_count": 13,
   "metadata": {},
   "outputs": [
    {
     "name": "stdout",
     "output_type": "stream",
     "text": [
      "52.15999999999292\n",
      "673.5500000000052\n",
      "574.7199999999998\n",
      "320.70999999999515\n",
      "348.76000000000704\n"
     ]
    }
   ],
   "source": [
    "# For S&P 500\n",
    "print(df5.loc[df5['weekday'] == 0, 'change'].sum())\n",
    "print(df5.loc[df5['weekday'] == 1, 'change'].sum())\n",
    "print(df5.loc[df5['weekday'] == 2, 'change'].sum())\n",
    "print(df5.loc[df5['weekday'] == 3, 'change'].sum())\n",
    "print(df5.loc[df5['weekday'] == 4, 'change'].sum())"
   ]
  },
  {
   "cell_type": "markdown",
   "metadata": {},
   "source": [
    "The biggest largest difference in the above sums was between Monday and Tuesday.  Monday gained 52 points while Tuesday gained a total of 674 points.  Execute a ttest to determine if the sum of Mondays vs Tuesdays is really significantly different or if the difference was due to random chance:"
   ]
  },
  {
   "cell_type": "code",
   "execution_count": 14,
   "metadata": {},
   "outputs": [
    {
     "name": "stdout",
     "output_type": "stream",
     "text": [
      "Ttest_indResult(statistic=-1.1291802920678604, pvalue=0.2590969855069577)\n"
     ]
    }
   ],
   "source": [
    "print(ttest_ind(df5.change.where(df5.weekday == 0).dropna(), df5.change.where(df5.weekday == 1).dropna()))"
   ]
  },
  {
   "cell_type": "markdown",
   "metadata": {},
   "source": [
    "The pvalue above is about 0.26 which is much too high to validate a significant difference between the two days of the week.  It must be assumed that the difference is due to random chance.  If the pvalue was below 0.05, then a real difference can be concluded:"
   ]
  },
  {
   "cell_type": "code",
   "execution_count": 15,
   "metadata": {},
   "outputs": [
    {
     "data": {
      "text/html": [
       "<div>\n",
       "<style scoped>\n",
       "    .dataframe tbody tr th:only-of-type {\n",
       "        vertical-align: middle;\n",
       "    }\n",
       "\n",
       "    .dataframe tbody tr th {\n",
       "        vertical-align: top;\n",
       "    }\n",
       "\n",
       "    .dataframe thead th {\n",
       "        text-align: right;\n",
       "    }\n",
       "</style>\n",
       "<table border=\"1\" class=\"dataframe\">\n",
       "  <thead>\n",
       "    <tr style=\"text-align: right;\">\n",
       "      <th></th>\n",
       "      <th>DATE</th>\n",
       "      <th>SP500</th>\n",
       "      <th>price</th>\n",
       "      <th>date_time</th>\n",
       "      <th>weekday</th>\n",
       "      <th>day</th>\n",
       "      <th>month</th>\n",
       "      <th>year</th>\n",
       "      <th>change</th>\n",
       "    </tr>\n",
       "    <tr>\n",
       "      <th>DATE</th>\n",
       "      <th></th>\n",
       "      <th></th>\n",
       "      <th></th>\n",
       "      <th></th>\n",
       "      <th></th>\n",
       "      <th></th>\n",
       "      <th></th>\n",
       "      <th></th>\n",
       "      <th></th>\n",
       "    </tr>\n",
       "  </thead>\n",
       "  <tbody>\n",
       "    <tr>\n",
       "      <th>2009-08-07</th>\n",
       "      <td>2009-08-07</td>\n",
       "      <td>1010.48</td>\n",
       "      <td>1010.48</td>\n",
       "      <td>2009-08-07</td>\n",
       "      <td>4</td>\n",
       "      <td>7</td>\n",
       "      <td>8</td>\n",
       "      <td>2009</td>\n",
       "      <td>NaN</td>\n",
       "    </tr>\n",
       "    <tr>\n",
       "      <th>2009-08-10</th>\n",
       "      <td>2009-08-10</td>\n",
       "      <td>1007.10</td>\n",
       "      <td>1007.10</td>\n",
       "      <td>2009-08-10</td>\n",
       "      <td>0</td>\n",
       "      <td>10</td>\n",
       "      <td>8</td>\n",
       "      <td>2009</td>\n",
       "      <td>-3.38</td>\n",
       "    </tr>\n",
       "    <tr>\n",
       "      <th>2009-08-11</th>\n",
       "      <td>2009-08-11</td>\n",
       "      <td>994.35</td>\n",
       "      <td>994.35</td>\n",
       "      <td>2009-08-11</td>\n",
       "      <td>1</td>\n",
       "      <td>11</td>\n",
       "      <td>8</td>\n",
       "      <td>2009</td>\n",
       "      <td>-12.75</td>\n",
       "    </tr>\n",
       "    <tr>\n",
       "      <th>2009-08-12</th>\n",
       "      <td>2009-08-12</td>\n",
       "      <td>1005.81</td>\n",
       "      <td>1005.81</td>\n",
       "      <td>2009-08-12</td>\n",
       "      <td>2</td>\n",
       "      <td>12</td>\n",
       "      <td>8</td>\n",
       "      <td>2009</td>\n",
       "      <td>11.46</td>\n",
       "    </tr>\n",
       "    <tr>\n",
       "      <th>2009-08-13</th>\n",
       "      <td>2009-08-13</td>\n",
       "      <td>1012.73</td>\n",
       "      <td>1012.73</td>\n",
       "      <td>2009-08-13</td>\n",
       "      <td>3</td>\n",
       "      <td>13</td>\n",
       "      <td>8</td>\n",
       "      <td>2009</td>\n",
       "      <td>6.92</td>\n",
       "    </tr>\n",
       "  </tbody>\n",
       "</table>\n",
       "</div>"
      ],
      "text/plain": [
       "                  DATE    SP500    price  date_time  weekday  day  month  \\\n",
       "DATE                                                                       \n",
       "2009-08-07  2009-08-07  1010.48  1010.48 2009-08-07        4    7      8   \n",
       "2009-08-10  2009-08-10  1007.10  1007.10 2009-08-10        0   10      8   \n",
       "2009-08-11  2009-08-11   994.35   994.35 2009-08-11        1   11      8   \n",
       "2009-08-12  2009-08-12  1005.81  1005.81 2009-08-12        2   12      8   \n",
       "2009-08-13  2009-08-13  1012.73  1012.73 2009-08-13        3   13      8   \n",
       "\n",
       "            year  change  \n",
       "DATE                      \n",
       "2009-08-07  2009     NaN  \n",
       "2009-08-10  2009   -3.38  \n",
       "2009-08-11  2009  -12.75  \n",
       "2009-08-12  2009   11.46  \n",
       "2009-08-13  2009    6.92  "
      ]
     },
     "execution_count": 15,
     "metadata": {},
     "output_type": "execute_result"
    }
   ],
   "source": [
    "df5.head()"
   ]
  },
  {
   "cell_type": "markdown",
   "metadata": {},
   "source": [
    "Next, print a barplot to show the daily mean of the S&P 500 for each day of the week with a 95% confidence interval to signifiy the possible range of the mean values:"
   ]
  },
  {
   "cell_type": "code",
   "execution_count": 16,
   "metadata": {},
   "outputs": [
    {
     "name": "stderr",
     "output_type": "stream",
     "text": [
      "C:\\Users\\Fred\\Anaconda3\\lib\\site-packages\\scipy\\stats\\stats.py:1713: FutureWarning: Using a non-tuple sequence for multidimensional indexing is deprecated; use `arr[tuple(seq)]` instead of `arr[seq]`. In the future this will be interpreted as an array index, `arr[np.array(seq)]`, which will result either in an error or a different result.\n",
      "  return np.add.reduce(sorted[indexer] * weights, axis=axis) / sumval\n"
     ]
    },
    {
     "data": {
      "image/png": "[encoded data removed]",
      "text/plain": [
       "<Figure size 720x432 with 1 Axes>"
      ]
     },
     "metadata": {},
     "output_type": "display_data"
    }
   ],
   "source": [
    "sns.set(style=\"whitegrid\", rc={'figure.figsize':(10, 6)})\n",
    "sns.barplot(x='weekday', y='change', ci=95, data=df5)\n",
    "plt.xlabel('Day of Week: 0 = Monday')\n",
    "plt.ylabel('Daily Price Change')\n",
    "plt.title('Average daily price change - SP500')\n",
    "plt.show()"
   ]
  },
  {
   "cell_type": "markdown",
   "metadata": {},
   "source": [
    "As seen above, the mean values overlap significantly between Monday and Tuesday (as well as every other day).  Next, look at snow data:"
   ]
  },
  {
   "cell_type": "code",
   "execution_count": 17,
   "metadata": {},
   "outputs": [
    {
     "data": {
      "text/html": [
       "<div>\n",
       "<style scoped>\n",
       "    .dataframe tbody tr th:only-of-type {\n",
       "        vertical-align: middle;\n",
       "    }\n",
       "\n",
       "    .dataframe tbody tr th {\n",
       "        vertical-align: top;\n",
       "    }\n",
       "\n",
       "    .dataframe thead th {\n",
       "        text-align: right;\n",
       "    }\n",
       "</style>\n",
       "<table border=\"1\" class=\"dataframe\">\n",
       "  <thead>\n",
       "    <tr style=\"text-align: right;\">\n",
       "      <th></th>\n",
       "      <th>Snow</th>\n",
       "    </tr>\n",
       "    <tr>\n",
       "      <th>dt</th>\n",
       "      <th></th>\n",
       "    </tr>\n",
       "  </thead>\n",
       "  <tbody>\n",
       "    <tr>\n",
       "      <th>2009-07-31</th>\n",
       "      <td>0.0</td>\n",
       "    </tr>\n",
       "    <tr>\n",
       "      <th>2009-08-01</th>\n",
       "      <td>0.0</td>\n",
       "    </tr>\n",
       "    <tr>\n",
       "      <th>2009-08-02</th>\n",
       "      <td>0.0</td>\n",
       "    </tr>\n",
       "    <tr>\n",
       "      <th>2009-08-03</th>\n",
       "      <td>0.0</td>\n",
       "    </tr>\n",
       "    <tr>\n",
       "      <th>2009-08-04</th>\n",
       "      <td>0.0</td>\n",
       "    </tr>\n",
       "  </tbody>\n",
       "</table>\n",
       "</div>"
      ],
      "text/plain": [
       "            Snow\n",
       "dt              \n",
       "2009-07-31   0.0\n",
       "2009-08-01   0.0\n",
       "2009-08-02   0.0\n",
       "2009-08-03   0.0\n",
       "2009-08-04   0.0"
      ]
     },
     "execution_count": 17,
     "metadata": {},
     "output_type": "execute_result"
    }
   ],
   "source": [
    "df.drop(['Rain'], axis=1, inplace=True)\n",
    "df.head()"
   ]
  },
  {
   "cell_type": "raw",
   "metadata": {},
   "source": [
    "Prepare the snow dataframe to merge with the S&P 500 data:"
   ]
  },
  {
   "cell_type": "code",
   "execution_count": 18,
   "metadata": {},
   "outputs": [],
   "source": [
    "# reset the index of this dataframe in order to merge this data with another dataframe\n",
    "df.reset_index(level=0, inplace=True)"
   ]
  },
  {
   "cell_type": "code",
   "execution_count": 19,
   "metadata": {},
   "outputs": [
    {
     "name": "stdout",
     "output_type": "stream",
     "text": [
      "Index(['DATE', 'SP500', 'price', 'date_time', 'weekday', 'day', 'month',\n",
      "       'year', 'change'],\n",
      "      dtype='object')\n"
     ]
    }
   ],
   "source": [
    "# print columns and reset index for S&P 500 data\n",
    "print(df5.columns)\n",
    "\n",
    "# Fill Nan values with 0\n",
    "df5['change'].fillna(0, inplace=True)\n",
    "\n",
    "# drop unnecessary columns \n",
    "df5.drop(['DATE'], axis=1, inplace=True)\n",
    "df5.drop(['SP500'], axis=1, inplace=True)\n",
    "df5.drop(['price'], axis=1, inplace=True)\n",
    "df5.drop(['date_time'], axis=1, inplace=True)\n",
    "df5.drop(['year'], axis=1, inplace=True)\n",
    "\n",
    "# reset index for merging data with weather data\n",
    "df5.reset_index(level=0, inplace=True)"
   ]
  },
  {
   "cell_type": "code",
   "execution_count": 20,
   "metadata": {},
   "outputs": [
    {
     "data": {
      "text/html": [
       "<div>\n",
       "<style scoped>\n",
       "    .dataframe tbody tr th:only-of-type {\n",
       "        vertical-align: middle;\n",
       "    }\n",
       "\n",
       "    .dataframe tbody tr th {\n",
       "        vertical-align: top;\n",
       "    }\n",
       "\n",
       "    .dataframe thead th {\n",
       "        text-align: right;\n",
       "    }\n",
       "</style>\n",
       "<table border=\"1\" class=\"dataframe\">\n",
       "  <thead>\n",
       "    <tr style=\"text-align: right;\">\n",
       "      <th></th>\n",
       "      <th>DATE</th>\n",
       "      <th>weekday</th>\n",
       "      <th>day</th>\n",
       "      <th>month</th>\n",
       "      <th>change</th>\n",
       "    </tr>\n",
       "  </thead>\n",
       "  <tbody>\n",
       "    <tr>\n",
       "      <th>0</th>\n",
       "      <td>2009-08-07</td>\n",
       "      <td>4</td>\n",
       "      <td>7</td>\n",
       "      <td>8</td>\n",
       "      <td>0.00</td>\n",
       "    </tr>\n",
       "    <tr>\n",
       "      <th>1</th>\n",
       "      <td>2009-08-10</td>\n",
       "      <td>0</td>\n",
       "      <td>10</td>\n",
       "      <td>8</td>\n",
       "      <td>-3.38</td>\n",
       "    </tr>\n",
       "    <tr>\n",
       "      <th>2</th>\n",
       "      <td>2009-08-11</td>\n",
       "      <td>1</td>\n",
       "      <td>11</td>\n",
       "      <td>8</td>\n",
       "      <td>-12.75</td>\n",
       "    </tr>\n",
       "    <tr>\n",
       "      <th>3</th>\n",
       "      <td>2009-08-12</td>\n",
       "      <td>2</td>\n",
       "      <td>12</td>\n",
       "      <td>8</td>\n",
       "      <td>11.46</td>\n",
       "    </tr>\n",
       "    <tr>\n",
       "      <th>4</th>\n",
       "      <td>2009-08-13</td>\n",
       "      <td>3</td>\n",
       "      <td>13</td>\n",
       "      <td>8</td>\n",
       "      <td>6.92</td>\n",
       "    </tr>\n",
       "  </tbody>\n",
       "</table>\n",
       "</div>"
      ],
      "text/plain": [
       "        DATE  weekday  day  month  change\n",
       "0 2009-08-07        4    7      8    0.00\n",
       "1 2009-08-10        0   10      8   -3.38\n",
       "2 2009-08-11        1   11      8  -12.75\n",
       "3 2009-08-12        2   12      8   11.46\n",
       "4 2009-08-13        3   13      8    6.92"
      ]
     },
     "execution_count": 20,
     "metadata": {},
     "output_type": "execute_result"
    }
   ],
   "source": [
    "df5.head()"
   ]
  },
  {
   "cell_type": "markdown",
   "metadata": {},
   "source": [
    "Merge the snow and S&P 500 data:"
   ]
  },
  {
   "cell_type": "code",
   "execution_count": 21,
   "metadata": {},
   "outputs": [],
   "source": [
    "# create dataframe for S&P 500 and Snow in NYC in minutes\n",
    "df_snow = (df.merge(df5, left_on='dt', right_on='DATE')\n",
    "          .reindex(columns=['DATE', 'weekday', 'day', 'month', 'change', 'Snow']))"
   ]
  },
  {
   "cell_type": "markdown",
   "metadata": {},
   "source": [
    "Below, see the merged data with the daily change of the S&P 500 and the daily snowfall:"
   ]
  },
  {
   "cell_type": "code",
   "execution_count": 22,
   "metadata": {},
   "outputs": [
    {
     "data": {
      "text/html": [
       "<div>\n",
       "<style scoped>\n",
       "    .dataframe tbody tr th:only-of-type {\n",
       "        vertical-align: middle;\n",
       "    }\n",
       "\n",
       "    .dataframe tbody tr th {\n",
       "        vertical-align: top;\n",
       "    }\n",
       "\n",
       "    .dataframe thead th {\n",
       "        text-align: right;\n",
       "    }\n",
       "</style>\n",
       "<table border=\"1\" class=\"dataframe\">\n",
       "  <thead>\n",
       "    <tr style=\"text-align: right;\">\n",
       "      <th></th>\n",
       "      <th>DATE</th>\n",
       "      <th>weekday</th>\n",
       "      <th>day</th>\n",
       "      <th>month</th>\n",
       "      <th>change</th>\n",
       "      <th>Snow</th>\n",
       "    </tr>\n",
       "  </thead>\n",
       "  <tbody>\n",
       "    <tr>\n",
       "      <th>0</th>\n",
       "      <td>2009-08-07</td>\n",
       "      <td>4</td>\n",
       "      <td>7</td>\n",
       "      <td>8</td>\n",
       "      <td>0.00</td>\n",
       "      <td>0.0</td>\n",
       "    </tr>\n",
       "    <tr>\n",
       "      <th>1</th>\n",
       "      <td>2009-08-10</td>\n",
       "      <td>0</td>\n",
       "      <td>10</td>\n",
       "      <td>8</td>\n",
       "      <td>-3.38</td>\n",
       "      <td>0.0</td>\n",
       "    </tr>\n",
       "    <tr>\n",
       "      <th>2</th>\n",
       "      <td>2009-08-11</td>\n",
       "      <td>1</td>\n",
       "      <td>11</td>\n",
       "      <td>8</td>\n",
       "      <td>-12.75</td>\n",
       "      <td>0.0</td>\n",
       "    </tr>\n",
       "    <tr>\n",
       "      <th>3</th>\n",
       "      <td>2009-08-12</td>\n",
       "      <td>2</td>\n",
       "      <td>12</td>\n",
       "      <td>8</td>\n",
       "      <td>11.46</td>\n",
       "      <td>0.0</td>\n",
       "    </tr>\n",
       "    <tr>\n",
       "      <th>4</th>\n",
       "      <td>2009-08-13</td>\n",
       "      <td>3</td>\n",
       "      <td>13</td>\n",
       "      <td>8</td>\n",
       "      <td>6.92</td>\n",
       "      <td>0.0</td>\n",
       "    </tr>\n",
       "  </tbody>\n",
       "</table>\n",
       "</div>"
      ],
      "text/plain": [
       "        DATE  weekday  day  month  change  Snow\n",
       "0 2009-08-07        4    7      8    0.00   0.0\n",
       "1 2009-08-10        0   10      8   -3.38   0.0\n",
       "2 2009-08-11        1   11      8  -12.75   0.0\n",
       "3 2009-08-12        2   12      8   11.46   0.0\n",
       "4 2009-08-13        3   13      8    6.92   0.0"
      ]
     },
     "execution_count": 22,
     "metadata": {},
     "output_type": "execute_result"
    }
   ],
   "source": [
    "df_snow.head()"
   ]
  },
  {
   "cell_type": "markdown",
   "metadata": {},
   "source": [
    "Print the average daily snowfall in NYC in centimeters:"
   ]
  },
  {
   "cell_type": "code",
   "execution_count": 23,
   "metadata": {},
   "outputs": [
    {
     "name": "stdout",
     "output_type": "stream",
     "text": [
      "0.23134554140127384\n"
     ]
    }
   ],
   "source": [
    "# average snowfall in centimeters:\n",
    "print(df_snow.Snow.mean())"
   ]
  },
  {
   "cell_type": "markdown",
   "metadata": {},
   "source": [
    "Execute a ttest to see if there is a significant difference in price change of the S&P 500 for days when there is no snow at all vs days when it snowed at least 0.1 cm:"
   ]
  },
  {
   "cell_type": "code",
   "execution_count": 24,
   "metadata": {},
   "outputs": [
    {
     "name": "stdout",
     "output_type": "stream",
     "text": [
      "Ttest_indResult(statistic=1.2124311083958048, pvalue=0.2254620986994717)\n"
     ]
    }
   ],
   "source": [
    "print(ttest_ind(df_snow.change.where(df_snow.Snow == 0).dropna(), df_snow.change.where(df_snow.Snow > 0.1).dropna()))"
   ]
  },
  {
   "cell_type": "markdown",
   "metadata": {},
   "source": [
    "This ttest is showing that there is not a significant difference.  (It is greater than 0.05)  Next, sum up the total price change for days when it did not snow and days where it snowed at least 0.1 cm.  This shows the absolute cumulative change:"
   ]
  },
  {
   "cell_type": "code",
   "execution_count": 25,
   "metadata": {},
   "outputs": [
    {
     "name": "stdout",
     "output_type": "stream",
     "text": [
      "1927.120000000002\n",
      "-131.58000000000084\n"
     ]
    }
   ],
   "source": [
    "# For S&P 500\n",
    "print(df_snow.loc[df_snow['Snow'] == 0, 'change'].sum())\n",
    "print(df_snow.loc[df_snow['Snow'] > 0.1, 'change'].sum())\n"
   ]
  },
  {
   "cell_type": "markdown",
   "metadata": {},
   "source": [
    "Wow, when it does not snow, the S&P 500 gained 1927 points over the past 10 years.  When it snowed at least 0.1 cm, it lost about 132 points.  Seems like snow is not good for stocks, but is this really true ?  See below for further investigation.  The following cell counts the number of days when there was no snow and the number of days where snow was at least 0.1 cm:"
   ]
  },
  {
   "cell_type": "code",
   "execution_count": 26,
   "metadata": {},
   "outputs": [
    {
     "name": "stdout",
     "output_type": "stream",
     "text": [
      "2374\n",
      "125\n"
     ]
    }
   ],
   "source": [
    "print(df_snow.loc[df_snow['Snow'] == 0, 'change'].count())\n",
    "print(df_snow.loc[df_snow['Snow'] > 0.1, 'change'].count())"
   ]
  },
  {
   "cell_type": "markdown",
   "metadata": {},
   "source": [
    "As shown in the above cell, only 125 data points for when it snows at least 0.1 cm.  This small sample and the difference in sample size could be a problem.  The days whet it snowed at least 0.1 cm only account for about 5% of the days where it did not snow at all.\n",
    "\n",
    "Next, look at some graphs to back up the insignificance of the pvalue:"
   ]
  },
  {
   "cell_type": "code",
   "execution_count": 27,
   "metadata": {},
   "outputs": [
    {
     "name": "stderr",
     "output_type": "stream",
     "text": [
      "'c' argument looks like a single numeric RGB or RGBA sequence, which should be avoided as value-mapping will have precedence in case its length matches with 'x' & 'y'.  Please use a 2-D array with a single row if you really want to specify the same RGB or RGBA value for all points.\n"
     ]
    },
    {
     "data": {
      "text/plain": [
       "<matplotlib.lines.Line2D at 0xc6f44e0>"
      ]
     },
     "execution_count": 27,
     "metadata": {},
     "output_type": "execute_result"
    },
    {
     "data": {
      "image/png": "[encoded data removed]",
      "text/plain": [
       "<Figure size 720x432 with 1 Axes>"
      ]
     },
     "metadata": {},
     "output_type": "display_data"
    }
   ],
   "source": [
    "df_snow.plot(kind='scatter', x='Snow', y='change', title='Snowfall vs daily price change', \n",
    "                 figsize=(10, 6), grid=True)\n",
    "plt.axvline(x=15, color='green')"
   ]
  },
  {
   "cell_type": "markdown",
   "metadata": {},
   "source": [
    "From the graph above, it does look like when it snows, stocks perform worse.  The only problem is -- there are not very many data points for when it does snow.  Next, print a barplot to show the average daily return for when it does not snow at all vs when it snows at least 0.1cm:"
   ]
  },
  {
   "cell_type": "code",
   "execution_count": 28,
   "metadata": {},
   "outputs": [
    {
     "data": {
      "image/png": "[encoded data removed]",
      "text/plain": [
       "<Figure size 720x432 with 1 Axes>"
      ]
     },
     "metadata": {},
     "output_type": "display_data"
    }
   ],
   "source": [
    "df_snow['amount'] = df_snow['Snow'].apply(lambda x: 1 if x > 0.1 else 0)\n",
    "\n",
    "\n",
    "sns.set(style=\"whitegrid\", rc={'figure.figsize':(10, 6)})\n",
    "sns.barplot(x='amount', y='change', ci=95, data=df_snow)\n",
    "plt.xlabel('0:  no snow, 1: at least 0.1 cm')\n",
    "plt.ylabel('Average Daily Price Change of S&P 500')\n",
    "plt.title('No snow vs at least 0.1 cm - SP500')\n",
    "plt.show()"
   ]
  },
  {
   "cell_type": "markdown",
   "metadata": {},
   "source": [
    "Even though there is a low enough pvalue; there are not enough samples as evidenced by the mean barplot above with 95% confidence.  There is just too much variance in the possible mean values for when it snows at least 0.1 cm.  The number of days where this occurs from the past 10 years is 125 which was calculated a few cells above.  \n",
    "\n",
    "The verticle black line above represents the range of the mean value for each dataset with 95% confidence.  There is way too much overlap in the possible mean values for each of the two distributions.  No real conclusion can be drawn for when it doesn't snow at all in NYC vs when it snows at least 0.1 cm.  \n",
    "\n",
    "As a final test, the next few cells randomly drops 95% of the days where it does not snow at all to obtain approximately the same number of days for when it snows at least 0.1 cm:"
   ]
  },
  {
   "cell_type": "code",
   "execution_count": 29,
   "metadata": {},
   "outputs": [],
   "source": [
    "df_snow_drop = df_snow.where(df_snow.amount == 0).sample(frac=0.05)"
   ]
  },
  {
   "cell_type": "code",
   "execution_count": 30,
   "metadata": {},
   "outputs": [
    {
     "name": "stdout",
     "output_type": "stream",
     "text": [
      "115\n",
      "125\n"
     ]
    }
   ],
   "source": [
    "# print days when it doesn't snow (after dropping 95%) and days where it snows at least 0.1 cm:\n",
    "print(df_snow_drop.loc[df_snow_drop['Snow'] == 0, 'change'].count())\n",
    "print(df_snow.loc[df_snow['Snow'] > 0.1, 'change'].count())"
   ]
  },
  {
   "cell_type": "code",
   "execution_count": 31,
   "metadata": {},
   "outputs": [
    {
     "name": "stdout",
     "output_type": "stream",
     "text": [
      "301.3299999999997\n",
      "-131.58000000000084\n"
     ]
    }
   ],
   "source": [
    "# For S&P 500 - print the cumulative return for 5% of days when it didn't snow and the days when it snowed at least 0.1cm:\n",
    "print(df_snow_drop.loc[df_snow_drop['Snow'] == 0, 'change'].sum())\n",
    "print(df_snow.loc[df_snow['Snow'] > 0.1, 'change'].sum())"
   ]
  },
  {
   "cell_type": "markdown",
   "metadata": {},
   "source": [
    "Shown above, the return for days of 0 snow is positive 301 points vs negative 132 points on days where it snowed.  Run the ttest for approximately the same sample size for days when it didn't snow vs days where it snowed at least 0.1 cm:"
   ]
  },
  {
   "cell_type": "code",
   "execution_count": 32,
   "metadata": {},
   "outputs": [
    {
     "name": "stdout",
     "output_type": "stream",
     "text": [
      "Ttest_indResult(statistic=0.6361253360706519, pvalue=0.5253059869498639)\n"
     ]
    }
   ],
   "source": [
    "print(ttest_ind(df_snow_drop.Snow.where(df_snow.Snow == 0).dropna(), df_snow.change.where(df_snow.Snow > 0.1).dropna()))"
   ]
  },
  {
   "cell_type": "markdown",
   "metadata": {},
   "source": [
    "# Conclusion:  \n",
    "\n",
    "The pvalue here is 0.52 which is way too high to conclude any significant difference between zero snow days vs at least 0.1 cm days.  \n",
    "\n",
    "The barplot above further demonstrates the major overlap of the means of the two samples (with the full dataset).  Therefore, it is not possible to conclude that snow affects stock prices.  \n",
    "\n",
    "Using a different cutoff point for the amount of snowfall (as opposed to 0.1 cm) would probably yield similar results due to the small sample size for days when it does snow.  The difference in the price change summation for the two samples would have to be massive, given the small sample size.  Even though, with all of the data, the difference in price change is 2059 points, this is still not large enough to conclude a true difference in the two different populations."
   ]
  }
 ],
 "metadata": {
  "kernelspec": {
   "display_name": "Python 3",
   "language": "python",
   "name": "python3"
  },
  "language_info": {
   "codemirror_mode": {
    "name": "ipython",
    "version": 3
   },
   "file_extension": ".py",
   "mimetype": "text/x-python",
   "name": "python",
   "nbconvert_exporter": "python",
   "pygments_lexer": "ipython3",
   "version": "3.7.3"
  }
 },
 "nbformat": 4,
 "nbformat_minor": 2
}
