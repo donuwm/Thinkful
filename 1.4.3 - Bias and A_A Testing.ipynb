{
 "cells": [
  {
   "cell_type": "markdown",
   "metadata": {},
   "source": [
    "### For each of the following scenarios, call out the potential biases in the proposed experiment. Do your best to try to discover not only the bias, but the initial design. There is plenty of room for interpretation here, so make sure to state what assumptions you're making.\n",
    "\n",
    "### 1.  You're testing advertising emails for a bathing suit company and you test one version of the email in February and the other in May.\n",
    "~~~~\n",
    "Using two different months could obviously introduce bias.  People might be more apt to respond in May since it is \n",
    "getting closer to warmer weather (depending on country and location of the email recipient) most likely.  \n",
    "Participants would probably be thinking more about bathing suits and swimming in May as apposed to February.\n",
    "~~~~"
   ]
  },
  {
   "cell_type": "markdown",
   "metadata": {},
   "source": [
    "### 2.  You open a clinic to treat anxiety and find that the people who visit show a higher rate of anxiety than the general population.\n",
    "~~~~\n",
    "The people who visit already think they might be anxious, so chances are, they will show a higher rate of anxiety.\n",
    "Maybe those who visit are living in conditions that are more anxiety prone compared to the general population.\n",
    "~~~~"
   ]
  },
  {
   "cell_type": "markdown",
   "metadata": {},
   "source": [
    "### 3.  You launch a new ad billboard based campaign and see an increase in website visits in the first week.\n",
    "~~~~\n",
    "If you launched an ad billboard compaign for fireworks on July 1st, this might seemingly cause an increase, \n",
    "but the same ad on August 1st might yield no increase whatsoever because people are thinking more about fireworks \n",
    "in July 1st as apposed to August 1st.  A possible solution would be comparing the website visits with the websites \n",
    "visit from the prior year at exaclty the same time period as the launch of the new ad campaign.\n",
    "~~~~"
   ]
  },
  {
   "cell_type": "markdown",
   "metadata": {},
   "source": [
    "### 4.  You launch a loyalty program but see no change in visits in the first week.\n",
    "~~~~\n",
    "A new loyalty program would most likely take a long time to see the results.  One week isn't long enough.\n",
    "One week might confuse people and they may want to let the idea sink in a little before participating.\n",
    "Many or most of the customers probably wouldn't even know about the program after just one week.\n",
    "Probably looking 3 or 6 months out would be a better study, but then there are probably many other variables\n",
    "withing the company that have changed that it could be difficult to attribute an increase in visits to\n",
    "the introduction of the loyalty program.\n",
    "~~~~"
   ]
  },
  {
   "cell_type": "code",
   "execution_count": null,
   "metadata": {},
   "outputs": [],
   "source": []
  }
 ],
 "metadata": {
  "kernelspec": {
   "display_name": "Python 3",
   "language": "python",
   "name": "python3"
  },
  "language_info": {
   "codemirror_mode": {
    "name": "ipython",
    "version": 3
   },
   "file_extension": ".py",
   "mimetype": "text/x-python",
   "name": "python",
   "nbconvert_exporter": "python",
   "pygments_lexer": "ipython3",
   "version": "3.7.2"
  }
 },
 "nbformat": 4,
 "nbformat_minor": 2
}
