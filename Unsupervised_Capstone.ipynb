{
 "cells": [
  {
   "cell_type": "markdown",
   "metadata": {},
   "source": [
    "# Introduction \n",
    "This notebook uses 3 unsupervised clustering techniques to identify similarities or groupings between 6 different classical works of fiction.  It then builds 4 supervised learning models that predict the classification of a random sentence from each of the 6 corpora.  The 6 corpora are:  \n",
    "\n",
    "- Julius Caesar by William Shakespeare\n",
    "- Dracula by Bram Stoker\n",
    "- The Iliad by Homer \n",
    "- Peter Pan by J.M. Barrie\n",
    "- The Adventures of Tom Sawyer by Mark Twain\n",
    "- The Wonderful Wizard of Oz by L. Frank Baum  \n",
    "\n",
    "Two methods are used define the features of the clusters and models.  The first method vectorizes each sentence to determine the most relevant words or features for each corpus.  The second method tokenizes the words and finds the most common 500.  These words (features) are then combined to create a unique set that will comprise the final columns of the dataset.  \n",
    "\n",
    "Some additional methods for identifying useful features were tested, but commented out of this final notebook because these methods weakened the accuracy.\n",
    "\n",
    "The first step is to import the necessary modules and import the text data."
   ]
  },
  {
   "cell_type": "code",
   "execution_count": 1,
   "metadata": {},
   "outputs": [
    {
     "name": "stderr",
     "output_type": "stream",
     "text": [
      "[nltk_data] Downloading package gutenberg to\n",
      "[nltk_data]     C:\\Users\\Fred\\AppData\\Roaming\\nltk_data...\n",
      "[nltk_data]   Unzipping corpora\\gutenberg.zip.\n",
      "[nltk_data] Downloading package punkt to\n",
      "[nltk_data]     C:\\Users\\Fred\\AppData\\Roaming\\nltk_data...\n",
      "[nltk_data]   Package punkt is already up-to-date!\n"
     ]
    },
    {
     "name": "stdout",
     "output_type": "stream",
     "text": [
      "Requirement already satisfied: en_core_web_sm==2.0.0 from https://github.com/explosion/spacy-models/releases/download/en_core_web_sm-2.0.0/en_core_web_sm-2.0.0.tar.gz#egg=en_core_web_sm==2.0.0 in c:\\users\\fred\\anaconda3\\lib\\site-packages (2.0.0)\n",
      "\n",
      "    Linking successful\n",
      "    C:\\Users\\Fred\\Anaconda3\\lib\\site-packages\\en_core_web_sm -->\n",
      "    C:\\Users\\Fred\\Anaconda3\\lib\\site-packages\\spacy\\data\\en\n",
      "\n",
      "    You can now load the model via spacy.load('en')\n",
      "\n"
     ]
    }
   ],
   "source": [
    "%matplotlib inline\n",
    "import numpy as np\n",
    "import pandas as pd\n",
    "import scipy\n",
    "import sklearn\n",
    "import matplotlib.pyplot as plt\n",
    "import seaborn as sns\n",
    "import re\n",
    "from nltk.corpus import gutenberg, stopwords\n",
    "from collections import Counter\n",
    "from sklearn.model_selection import train_test_split\n",
    "from sklearn.metrics import confusion_matrix\n",
    "from sklearn.cluster import KMeans\n",
    "from sklearn.decomposition import PCA\n",
    "from sklearn.cluster import MiniBatchKMeans\n",
    "from sklearn.feature_extraction.text import TfidfVectorizer\n",
    "from sklearn.decomposition import TruncatedSVD\n",
    "from sklearn.pipeline import make_pipeline\n",
    "from sklearn.preprocessing import Normalizer\n",
    "\n",
    "import nltk\n",
    "nltk.download('gutenberg')\n",
    "nltk.download('punkt')\n",
    "\n",
    "# import the nlp library, spacy\n",
    "import spacy\n",
    "\n",
    "# this takes a long time\n",
    "# need to run as administrator from Anaconda3 promplt\n",
    "!python -m spacy download en"
   ]
  },
  {
   "cell_type": "markdown",
   "metadata": {},
   "source": [
    "Printing a list of all of the available corpora from the gutenberg repository"
   ]
  },
  {
   "cell_type": "code",
   "execution_count": 2,
   "metadata": {},
   "outputs": [
    {
     "name": "stdout",
     "output_type": "stream",
     "text": [
      "['austen-emma.txt', 'austen-persuasion.txt', 'austen-sense.txt', 'bible-kjv.txt', 'blake-poems.txt', 'bryant-stories.txt', 'burgess-busterbrown.txt', 'caesar.txt', 'carroll-alice.txt', 'chesterton-ball.txt', 'chesterton-brown.txt', 'chesterton-thursday.txt', 'dracula.txt', 'edgeworth-parents.txt', 'hamlet.txt', 'iliad.txt', 'melville-moby_dick.txt', 'milton-paradise.txt', 'pan.txt', 'shakespeare-caesar.txt', 'shakespeare-hamlet.txt', 'shakespeare-macbeth.txt', 'tom.txt', 'whitman-leaves.txt', 'wizard.txt']\n"
     ]
    }
   ],
   "source": [
    "print(gutenberg.fileids())"
   ]
  },
  {
   "cell_type": "markdown",
   "metadata": {},
   "source": [
    "# Clean and explore the data  "
   ]
  },
  {
   "cell_type": "markdown",
   "metadata": {},
   "source": [
    "#### Using tf-idf to establish a list of \"common\" words to use as features  \n",
    "\n",
    "This function takes a corpus text file from the Gutenberg library and turns them into a list of features (words) that are unique to each corpus.  It then combines all of the corpora to a single set of features."
   ]
  },
  {
   "cell_type": "code",
   "execution_count": 3,
   "metadata": {},
   "outputs": [
    {
     "name": "stdout",
     "output_type": "stream",
     "text": [
      "Number of features: 410\n",
      "Number of features: 2218\n",
      "Number of features: 3603\n",
      "Number of features: 841\n",
      "Number of features: 1359\n",
      "Number of features: 729\n",
      "500\n",
      "2157\n"
     ]
    }
   ],
   "source": [
    "# This function generates a list of the most common words or features by vectorizing the sentences.\n",
    "\n",
    "def corp_paras(text):\n",
    "    \n",
    "    #reading in the data, this time in the form of paragraphs\n",
    "    corpus = gutenberg.paras(text)\n",
    "      \n",
    "    #processing\n",
    "    text_list = []\n",
    "    for paragraph in corpus: \n",
    "        for i in range(len(paragraph)):        \n",
    "            para = paragraph[i]\n",
    "        \n",
    "            # Forming each paragraph into a string and adding it to the list of strings.\n",
    "            text_list.append(' '.join(para))\n",
    "\n",
    "# -----------------------------------------------------------------------------------------------------------------------------\n",
    "    \n",
    "    X_train, X_test = train_test_split(text_list, test_size=0.25, random_state=0)\n",
    "\n",
    "    vectorizer = TfidfVectorizer(max_df=0.5, # drop words that occur in more than half the paragraphs\n",
    "                                 min_df=4, # only use words that appear at least twice (or 4 times, etc...)\n",
    "                                 stop_words='english', \n",
    "                                 lowercase=True, #convert everything to lower case (since Alice in Wonderland has the HABIT of CAPITALIZING WORDS for EMPHASIS)\n",
    "                                 use_idf=True,# we definitely want to use inverse document frequencies in our weighting\n",
    "                                 norm=u'l2', # Applies a correction factor so that longer paragraphs and shorter paragraphs get treated equally\n",
    "                                 smooth_idf=True # Adds 1 to all document frequencies, as if an extra document existed that used every word once.  Prevents divide-by-zero errors\n",
    "                                )\n",
    "\n",
    "\n",
    "    #Applying the vectorizer\n",
    "    corpus_paras_tfidf = vectorizer.fit_transform(X_train)\n",
    "    print(\"Number of features: %d\" % corpus_paras_tfidf.get_shape()[1])\n",
    "\n",
    "    terms_corpus = []\n",
    "    terms_corpus = vectorizer.get_feature_names()\n",
    "\n",
    "    # just capture a random sample of 500 per corpus\n",
    "    np.random.shuffle(terms_corpus)\n",
    "    terms_corpus = terms_corpus[:500]\n",
    "    \n",
    "    return terms_corpus\n",
    "\n",
    "# Run the documents through the function 'corp_paras' to separate by paragraph and then loop through every paragraph to extract the \n",
    "# sentences for our dataframe\n",
    "\n",
    "caesar_f = corp_paras('caesar.txt')\n",
    "dracula_f = corp_paras('dracula.txt')\n",
    "iliad_f = corp_paras('iliad.txt')\n",
    "pan_f = corp_paras('pan.txt')\n",
    "tom_f = corp_paras('tom.txt')\n",
    "wizard_f = corp_paras('wizard.txt')\n",
    "\n",
    "# combine all of the features into one set of features\n",
    "tf_features = set(caesar_f + dracula_f + iliad_f + pan_f + tom_f + wizard_f)\n",
    "\n",
    "# print length of dracula features (this is capped at 500)\n",
    "print(len(dracula_f))\n",
    "\n",
    "# print the length of all of the term-frequency features\n",
    "print(len(tf_features))\n"
   ]
  },
  {
   "cell_type": "markdown",
   "metadata": {},
   "source": [
    "#### Bag of words method  \n",
    "\n",
    "After some more text cleaning and creating the initial dataframe, the bag of words function creates a list of the 500 most common words of each corpora.  This list is then combined later with the 'term frequency' list to create a final list of the most relevant features.  A feature is a word."
   ]
  },
  {
   "cell_type": "code",
   "execution_count": 4,
   "metadata": {},
   "outputs": [],
   "source": [
    "# Utility function for standard text cleaning.\n",
    "def text_cleaner(text):\n",
    "    # Visual inspection identifies a form of punctuation spaCy does not\n",
    "    # recognize: the double dash '--'.  Better get rid of it now!\n",
    "    text = re.sub(r'--',' ',text)\n",
    "    text = re.sub(\"[\\[].*?[\\]]\", \"\", text)\n",
    "    text = ' '.join(text.split())\n",
    "    return text\n",
    "    \n",
    "# Load and clean the data.\n",
    "caesar = gutenberg.raw('caesar.txt')\n",
    "dracula = gutenberg.raw('dracula.txt')\n",
    "hamlet = gutenberg.raw('hamlet.txt')\n",
    "iliad = gutenberg.raw('iliad.txt')\n",
    "pan = gutenberg.raw('pan.txt')\n",
    "tom = gutenberg.raw('tom.txt')\n",
    "wizard = gutenberg.raw('wizard.txt')\n",
    "\n",
    "# The Chapter indicator is idiosyncratic\n",
    "caesar = re.sub(r'Chapter \\d+', '', caesar)\n",
    "dracula = re.sub(r'CHAPTER .*', '', dracula)\n",
    "iliad = re.sub(r'BOOK .*', '', iliad)\n",
    "pan = re.sub(r'Chapter \\d+', '', pan)\n",
    "tom = re.sub(r'CHAPTER .*', '', tom)\n",
    "    \n",
    "# run these corpora through the text_cleaner function    \n",
    "# trying to get a sample of about 15,000\n",
    "caesar = text_cleaner(caesar[:int(len(caesar)/7)])\n",
    "dracula = text_cleaner(dracula[:int(len(dracula)/50)])\n",
    "iliad = text_cleaner(iliad[:int(len(iliad)/70)])\n",
    "pan = text_cleaner(pan[:int(len(pan)/20)])\n",
    "tom = text_cleaner(tom[:int(len(tom)/25)])\n",
    "wizard = text_cleaner(wizard[:int(len(wizard)/15)])\n"
   ]
  },
  {
   "cell_type": "code",
   "execution_count": 5,
   "metadata": {},
   "outputs": [
    {
     "name": "stdout",
     "output_type": "stream",
     "text": [
      "15656\n",
      "15188\n",
      "16696\n",
      "13975\n",
      "15791\n",
      "14861\n"
     ]
    }
   ],
   "source": [
    "# print the length of all of the documents used in the model building.  The list is cut down considerably in order to save processing time.\n",
    "print(len(caesar))\n",
    "print(len(dracula))\n",
    "print(len(iliad))\n",
    "print(len(pan))\n",
    "print(len(tom))\n",
    "print(len(wizard))"
   ]
  },
  {
   "cell_type": "code",
   "execution_count": 6,
   "metadata": {},
   "outputs": [],
   "source": [
    "# Parse the cleaned novels. This can take a bit.\n",
    "# do this in an admin terminal.......\n",
    "\n",
    "nlp = spacy.load('en')\n",
    "\n",
    "caesar_doc = nlp(caesar)\n",
    "dracula_doc = nlp(dracula)\n",
    "iliad_doc = nlp(iliad)\n",
    "pan_doc = nlp(pan)\n",
    "tom_doc = nlp(tom)\n",
    "wizard_doc = nlp(wizard)\n"
   ]
  },
  {
   "cell_type": "markdown",
   "metadata": {},
   "source": [
    "Group all of the documents into sentences and create the initial dataframe."
   ]
  },
  {
   "cell_type": "code",
   "execution_count": 7,
   "metadata": {},
   "outputs": [
    {
     "data": {
      "text/html": [
       "<div>\n",
       "<style scoped>\n",
       "    .dataframe tbody tr th:only-of-type {\n",
       "        vertical-align: middle;\n",
       "    }\n",
       "\n",
       "    .dataframe tbody tr th {\n",
       "        vertical-align: top;\n",
       "    }\n",
       "\n",
       "    .dataframe thead th {\n",
       "        text-align: right;\n",
       "    }\n",
       "</style>\n",
       "<table border=\"1\" class=\"dataframe\">\n",
       "  <thead>\n",
       "    <tr style=\"text-align: right;\">\n",
       "      <th></th>\n",
       "      <th>0</th>\n",
       "      <th>1</th>\n",
       "    </tr>\n",
       "  </thead>\n",
       "  <tbody>\n",
       "    <tr>\n",
       "      <th>0</th>\n",
       "      <td>(Actus, Primus, .)</td>\n",
       "      <td>0</td>\n",
       "    </tr>\n",
       "    <tr>\n",
       "      <th>1</th>\n",
       "      <td>(Scoena, Prima, .)</td>\n",
       "      <td>0</td>\n",
       "    </tr>\n",
       "    <tr>\n",
       "      <th>2</th>\n",
       "      <td>(Enter, Flauius, ,, Murellus, ,, and, certaine...</td>\n",
       "      <td>0</td>\n",
       "    </tr>\n",
       "    <tr>\n",
       "      <th>3</th>\n",
       "      <td>(Flauius, .)</td>\n",
       "      <td>0</td>\n",
       "    </tr>\n",
       "    <tr>\n",
       "      <th>4</th>\n",
       "      <td>(Hence, :, home, you, idle, Creatures, ,, get,...</td>\n",
       "      <td>0</td>\n",
       "    </tr>\n",
       "  </tbody>\n",
       "</table>\n",
       "</div>"
      ],
      "text/plain": [
       "                                                   0  1\n",
       "0                                 (Actus, Primus, .)  0\n",
       "1                                 (Scoena, Prima, .)  0\n",
       "2  (Enter, Flauius, ,, Murellus, ,, and, certaine...  0\n",
       "3                                       (Flauius, .)  0\n",
       "4  (Hence, :, home, you, idle, Creatures, ,, get,...  0"
      ]
     },
     "execution_count": 7,
     "metadata": {},
     "output_type": "execute_result"
    }
   ],
   "source": [
    "# Group into sentences.\n",
    "caesar_sents = [[sent, 0] for sent in caesar_doc.sents]\n",
    "dracula_sents = [[sent, 1] for sent in dracula_doc.sents]\n",
    "iliad_sents = [[sent, 2] for sent in iliad_doc.sents]\n",
    "pan_sents = [[sent, 3] for sent in pan_doc.sents]\n",
    "tom_sents = [[sent, 4] for sent in tom_doc.sents]\n",
    "wizard_sents = [[sent, 5] for sent in wizard_doc.sents]\n",
    "\n",
    "# Combine the sentences from the two novels into one data frame.\n",
    "sentences = pd.DataFrame(caesar_sents + dracula_sents + iliad_sents + pan_sents + tom_sents + wizard_sents)\n",
    "\n",
    "sentences.head()"
   ]
  },
  {
   "cell_type": "markdown",
   "metadata": {},
   "source": [
    "This function filters out all of the stop words (common words) and creates a list of the 500 most common words in each corpus."
   ]
  },
  {
   "cell_type": "code",
   "execution_count": 8,
   "metadata": {},
   "outputs": [
    {
     "name": "stdout",
     "output_type": "stream",
     "text": [
      "2176\n"
     ]
    }
   ],
   "source": [
    "# Utility function to create a list of the 500 most common words.\n",
    "def bag_of_words(text):\n",
    "    \n",
    "    # Filter out punctuation and stop words.\n",
    "    allwords = [token.lemma_\n",
    "                for token in text\n",
    "                if not token.is_punct\n",
    "                and not token.is_stop]\n",
    "    \n",
    "    # Return the most common words.\n",
    "    return [item[0] for item in Counter(allwords).most_common(500)]\n",
    "    \n",
    "\n",
    "# Creates a data frame with features for each word in our common word set.\n",
    "# Each value is the count of the times the word appears in each sentence.\n",
    "def bow_features(sentences, common_words):\n",
    "    \n",
    "    # Scaffold the data frame and initialize counts to zero.\n",
    "    df = pd.DataFrame(columns=common_words)\n",
    "    df['text_sentence'] = sentences[0]\n",
    "    df['text_source'] = sentences[1]\n",
    "    df.loc[:, common_words] = 0\n",
    "    \n",
    "    # Process each row, counting the occurrence of words in each sentence.\n",
    "    for i, sentence in enumerate(df['text_sentence']):\n",
    "        \n",
    "        # Convert the sentence to lemmas, then filter out punctuation,\n",
    "        # stop words, and uncommon words.\n",
    "        words = [token.lemma_\n",
    "                 for token in sentence\n",
    "                 if (\n",
    "                     not token.is_punct\n",
    "                     and not token.is_stop\n",
    "                     and token.lemma_ in common_words\n",
    "                 )]\n",
    "        \n",
    "        # Populate the row with word counts.\n",
    "        for word in words:\n",
    "            df.loc[i, word] += 1\n",
    "        \n",
    "        # This counter is just to make sure the kernel didn't hang.\n",
    "        if i % 50 == 0:\n",
    "            print(\"Processing row {}\".format(i))\n",
    "            \n",
    "    return df\n",
    "\n",
    "# Set up the bags.\n",
    "caesarwords = bag_of_words(caesar_doc)\n",
    "draculawords = bag_of_words(dracula_doc)\n",
    "iliadwords = bag_of_words(iliad_doc)\n",
    "panwords = bag_of_words(pan_doc)\n",
    "tomwords = bag_of_words(tom_doc)\n",
    "wizardwords = bag_of_words(wizard_doc)\n",
    "\n",
    "# Combine bags to create a set of unique words. (just add 'terms' here to get the final list)\n",
    "common_words = set(caesarwords + draculawords + iliadwords + panwords + tomwords + wizardwords)\n",
    "\n",
    "# print the number of common words found in caesar and hamlet\n",
    "print(len(common_words))"
   ]
  },
  {
   "cell_type": "markdown",
   "metadata": {},
   "source": [
    "Add the words / features found from the 2 methods: 'tf-idf' and 'bag of words'."
   ]
  },
  {
   "cell_type": "code",
   "execution_count": 9,
   "metadata": {},
   "outputs": [
    {
     "name": "stdout",
     "output_type": "stream",
     "text": [
      "3614\n"
     ]
    }
   ],
   "source": [
    "common_words_with_tf = set(caesarwords + draculawords + iliadwords + panwords + tomwords + wizardwords + caesar_f + dracula_f + iliad_f + pan_f + tom_f + wizard_f)\n",
    "print(len(common_words_with_tf))"
   ]
  },
  {
   "cell_type": "code",
   "execution_count": 10,
   "metadata": {},
   "outputs": [
    {
     "name": "stdout",
     "output_type": "stream",
     "text": [
      "Processing row 0\n",
      "Processing row 50\n",
      "Processing row 100\n",
      "Processing row 150\n",
      "Processing row 200\n",
      "Processing row 250\n",
      "Processing row 300\n",
      "Processing row 350\n",
      "Processing row 400\n",
      "Processing row 450\n",
      "Processing row 500\n",
      "Processing row 550\n",
      "Processing row 600\n",
      "Processing row 650\n",
      "Processing row 700\n",
      "Processing row 750\n",
      "Processing row 800\n",
      "Processing row 850\n",
      "Processing row 900\n",
      "Processing row 950\n",
      "Processing row 1000\n",
      "Processing row 1050\n",
      "Processing row 1100\n",
      "Processing row 1150\n",
      "(1169, 3616)\n"
     ]
    },
    {
     "data": {
      "text/html": [
       "<div>\n",
       "<style scoped>\n",
       "    .dataframe tbody tr th:only-of-type {\n",
       "        vertical-align: middle;\n",
       "    }\n",
       "\n",
       "    .dataframe tbody tr th {\n",
       "        vertical-align: top;\n",
       "    }\n",
       "\n",
       "    .dataframe thead th {\n",
       "        text-align: right;\n",
       "    }\n",
       "</style>\n",
       "<table border=\"1\" class=\"dataframe\">\n",
       "  <thead>\n",
       "    <tr style=\"text-align: right;\">\n",
       "      <th></th>\n",
       "      <th>cobler</th>\n",
       "      <th>passing</th>\n",
       "      <th>fits</th>\n",
       "      <th>build</th>\n",
       "      <th>envelope</th>\n",
       "      <th>unfortunately</th>\n",
       "      <th>bob</th>\n",
       "      <th>fury</th>\n",
       "      <th>nights</th>\n",
       "      <th>star</th>\n",
       "      <th>...</th>\n",
       "      <th>exalt</th>\n",
       "      <th>disturbing</th>\n",
       "      <th>fast</th>\n",
       "      <th>rule</th>\n",
       "      <th>dropped</th>\n",
       "      <th>2008</th>\n",
       "      <th>124</th>\n",
       "      <th>bent</th>\n",
       "      <th>text_sentence</th>\n",
       "      <th>text_source</th>\n",
       "    </tr>\n",
       "  </thead>\n",
       "  <tbody>\n",
       "    <tr>\n",
       "      <th>0</th>\n",
       "      <td>0</td>\n",
       "      <td>0</td>\n",
       "      <td>0</td>\n",
       "      <td>0</td>\n",
       "      <td>0</td>\n",
       "      <td>0</td>\n",
       "      <td>0</td>\n",
       "      <td>0</td>\n",
       "      <td>0</td>\n",
       "      <td>0</td>\n",
       "      <td>...</td>\n",
       "      <td>0</td>\n",
       "      <td>0</td>\n",
       "      <td>0</td>\n",
       "      <td>0</td>\n",
       "      <td>0</td>\n",
       "      <td>0</td>\n",
       "      <td>0</td>\n",
       "      <td>0</td>\n",
       "      <td>(Actus, Primus, .)</td>\n",
       "      <td>0</td>\n",
       "    </tr>\n",
       "    <tr>\n",
       "      <th>1</th>\n",
       "      <td>0</td>\n",
       "      <td>0</td>\n",
       "      <td>0</td>\n",
       "      <td>0</td>\n",
       "      <td>0</td>\n",
       "      <td>0</td>\n",
       "      <td>0</td>\n",
       "      <td>0</td>\n",
       "      <td>0</td>\n",
       "      <td>0</td>\n",
       "      <td>...</td>\n",
       "      <td>0</td>\n",
       "      <td>0</td>\n",
       "      <td>0</td>\n",
       "      <td>0</td>\n",
       "      <td>0</td>\n",
       "      <td>0</td>\n",
       "      <td>0</td>\n",
       "      <td>0</td>\n",
       "      <td>(Scoena, Prima, .)</td>\n",
       "      <td>0</td>\n",
       "    </tr>\n",
       "    <tr>\n",
       "      <th>2</th>\n",
       "      <td>0</td>\n",
       "      <td>0</td>\n",
       "      <td>0</td>\n",
       "      <td>0</td>\n",
       "      <td>0</td>\n",
       "      <td>0</td>\n",
       "      <td>0</td>\n",
       "      <td>0</td>\n",
       "      <td>0</td>\n",
       "      <td>0</td>\n",
       "      <td>...</td>\n",
       "      <td>0</td>\n",
       "      <td>0</td>\n",
       "      <td>0</td>\n",
       "      <td>0</td>\n",
       "      <td>0</td>\n",
       "      <td>0</td>\n",
       "      <td>0</td>\n",
       "      <td>0</td>\n",
       "      <td>(Enter, Flauius, ,, Murellus, ,, and, certaine...</td>\n",
       "      <td>0</td>\n",
       "    </tr>\n",
       "    <tr>\n",
       "      <th>3</th>\n",
       "      <td>0</td>\n",
       "      <td>0</td>\n",
       "      <td>0</td>\n",
       "      <td>0</td>\n",
       "      <td>0</td>\n",
       "      <td>0</td>\n",
       "      <td>0</td>\n",
       "      <td>0</td>\n",
       "      <td>0</td>\n",
       "      <td>0</td>\n",
       "      <td>...</td>\n",
       "      <td>0</td>\n",
       "      <td>0</td>\n",
       "      <td>0</td>\n",
       "      <td>0</td>\n",
       "      <td>0</td>\n",
       "      <td>0</td>\n",
       "      <td>0</td>\n",
       "      <td>0</td>\n",
       "      <td>(Flauius, .)</td>\n",
       "      <td>0</td>\n",
       "    </tr>\n",
       "    <tr>\n",
       "      <th>4</th>\n",
       "      <td>0</td>\n",
       "      <td>0</td>\n",
       "      <td>0</td>\n",
       "      <td>0</td>\n",
       "      <td>0</td>\n",
       "      <td>0</td>\n",
       "      <td>0</td>\n",
       "      <td>0</td>\n",
       "      <td>0</td>\n",
       "      <td>0</td>\n",
       "      <td>...</td>\n",
       "      <td>0</td>\n",
       "      <td>0</td>\n",
       "      <td>0</td>\n",
       "      <td>0</td>\n",
       "      <td>0</td>\n",
       "      <td>0</td>\n",
       "      <td>0</td>\n",
       "      <td>0</td>\n",
       "      <td>(Hence, :, home, you, idle, Creatures, ,, get,...</td>\n",
       "      <td>0</td>\n",
       "    </tr>\n",
       "  </tbody>\n",
       "</table>\n",
       "<p>5 rows × 3616 columns</p>\n",
       "</div>"
      ],
      "text/plain": [
       "   cobler  passing  fits  build  envelope  unfortunately  bob  fury  nights  \\\n",
       "0       0        0     0      0         0              0    0     0       0   \n",
       "1       0        0     0      0         0              0    0     0       0   \n",
       "2       0        0     0      0         0              0    0     0       0   \n",
       "3       0        0     0      0         0              0    0     0       0   \n",
       "4       0        0     0      0         0              0    0     0       0   \n",
       "\n",
       "   star  ...  exalt  disturbing  fast  rule  dropped  2008  124  bent  \\\n",
       "0     0  ...      0           0     0     0        0     0    0     0   \n",
       "1     0  ...      0           0     0     0        0     0    0     0   \n",
       "2     0  ...      0           0     0     0        0     0    0     0   \n",
       "3     0  ...      0           0     0     0        0     0    0     0   \n",
       "4     0  ...      0           0     0     0        0     0    0     0   \n",
       "\n",
       "                                       text_sentence  text_source  \n",
       "0                                 (Actus, Primus, .)            0  \n",
       "1                                 (Scoena, Prima, .)            0  \n",
       "2  (Enter, Flauius, ,, Murellus, ,, and, certaine...            0  \n",
       "3                                       (Flauius, .)            0  \n",
       "4  (Hence, :, home, you, idle, Creatures, ,, get,...            0  \n",
       "\n",
       "[5 rows x 3616 columns]"
      ]
     },
     "execution_count": 10,
     "metadata": {},
     "output_type": "execute_result"
    }
   ],
   "source": [
    "# Create our data frame with features. This can take a while to run.\n",
    "word_counts = bow_features(sentences, common_words_with_tf)\n",
    "print(word_counts.shape)\n",
    "word_counts.head()"
   ]
  },
  {
   "cell_type": "markdown",
   "metadata": {},
   "source": [
    "The following code was executed to try to improve the accuracy of the supervised model building.  This did not improve the accuracy, so was left out."
   ]
  },
  {
   "cell_type": "code",
   "execution_count": 11,
   "metadata": {},
   "outputs": [],
   "source": [
    "# # Create another feature (column) that counts the number of words in each sentence for each corpora\n",
    "# word_counts['num_words'] = word_counts['text_sentence'].apply(lambda x: len(x))\n",
    "# word_counts.head()"
   ]
  },
  {
   "cell_type": "markdown",
   "metadata": {},
   "source": [
    "The following functions count the number of adverbs, interjections and pronouns and adds the columns to the word_counts dataframe in hopes that these additional features will improve the accuracy of the 4 models:  Random Forest, Logistic Regression, Gradient Boosting, and Support Vector Machines.  This did not improve the accuracy, so was left out."
   ]
  },
  {
   "cell_type": "code",
   "execution_count": 12,
   "metadata": {},
   "outputs": [],
   "source": [
    "# # Count the adverbs and add the column to the word_counts dataframe\n",
    "\n",
    "# def count_verbs(txt):\n",
    "#     sentences = nltk.sent_tokenize(str(txt))\n",
    "#     count = 0\n",
    "#     for sentence in sentences:    \n",
    "#         text = nltk.word_tokenize(sentence)\n",
    "#         tag = nltk.pos_tag(text)\n",
    "#         a = pd.Series(tag)\n",
    "####         a = a.map(lambda x: function_name(x)).sum()\n",
    "#         a = a.map(lambda x: 1 if x[1] == \"RB\" else 0).sum()\n",
    "# #       count = count + a\n",
    "#     return a\n",
    "\n",
    "# word_counts['count_adverbs'] = word_counts['text_sentence'].apply(lambda x: count_verbs(x))\n",
    "\n",
    "# # -------------------------------------------------------------------------------------------------------\n",
    "# # Count the interjections and add the column to the dataframe\n",
    "\n",
    "# def count_verbs(txt):\n",
    "#     sentences = nltk.sent_tokenize(str(txt))\n",
    "#     count = 0\n",
    "#     for sentence in sentences:    \n",
    "#         text = nltk.word_tokenize(sentence)\n",
    "#         tag = nltk.pos_tag(text)\n",
    "#         a = pd.Series(tag)\n",
    "#         a = a.map(lambda x: 1 if x[1] == \"UH\" else 0).sum()\n",
    "# #       count = count + a\n",
    "#     return a\n",
    "\n",
    "# word_counts['count_inter'] = word_counts['text_sentence'].apply(lambda x: count_verbs(x))\n",
    "\n",
    "# # ------------------------------------------------------------------------------------------------------\n",
    "# # Count the pronouns and add the column to the dataframe\n",
    "\n",
    "# def count_verbs(txt):\n",
    "#     sentences = nltk.sent_tokenize(str(txt))\n",
    "#     count = 0\n",
    "#     for sentence in sentences:    \n",
    "#         text = nltk.word_tokenize(sentence)\n",
    "#         tag = nltk.pos_tag(text)\n",
    "#         a = pd.Series(tag)\n",
    "#         a = a.map(lambda x: 1 if x[1] == \"PRP\" else 0).sum()\n",
    "# #       count = count + a\n",
    "#     return a\n",
    "\n",
    "# word_counts['count_pronoun'] = word_counts['text_sentence'].apply(lambda x: count_verbs(x))\n",
    "\n",
    "# # ------------------------------------------------------------------------------------------------------\n"
   ]
  },
  {
   "cell_type": "markdown",
   "metadata": {},
   "source": [
    "Print the first 5 lines of the dataframe to make sure the knew features are captured."
   ]
  },
  {
   "cell_type": "code",
   "execution_count": 13,
   "metadata": {},
   "outputs": [
    {
     "data": {
      "text/html": [
       "<div>\n",
       "<style scoped>\n",
       "    .dataframe tbody tr th:only-of-type {\n",
       "        vertical-align: middle;\n",
       "    }\n",
       "\n",
       "    .dataframe tbody tr th {\n",
       "        vertical-align: top;\n",
       "    }\n",
       "\n",
       "    .dataframe thead th {\n",
       "        text-align: right;\n",
       "    }\n",
       "</style>\n",
       "<table border=\"1\" class=\"dataframe\">\n",
       "  <thead>\n",
       "    <tr style=\"text-align: right;\">\n",
       "      <th></th>\n",
       "      <th>cobler</th>\n",
       "      <th>passing</th>\n",
       "      <th>fits</th>\n",
       "      <th>build</th>\n",
       "      <th>envelope</th>\n",
       "      <th>unfortunately</th>\n",
       "      <th>bob</th>\n",
       "      <th>fury</th>\n",
       "      <th>nights</th>\n",
       "      <th>star</th>\n",
       "      <th>...</th>\n",
       "      <th>exalt</th>\n",
       "      <th>disturbing</th>\n",
       "      <th>fast</th>\n",
       "      <th>rule</th>\n",
       "      <th>dropped</th>\n",
       "      <th>2008</th>\n",
       "      <th>124</th>\n",
       "      <th>bent</th>\n",
       "      <th>text_sentence</th>\n",
       "      <th>text_source</th>\n",
       "    </tr>\n",
       "  </thead>\n",
       "  <tbody>\n",
       "    <tr>\n",
       "      <th>0</th>\n",
       "      <td>0</td>\n",
       "      <td>0</td>\n",
       "      <td>0</td>\n",
       "      <td>0</td>\n",
       "      <td>0</td>\n",
       "      <td>0</td>\n",
       "      <td>0</td>\n",
       "      <td>0</td>\n",
       "      <td>0</td>\n",
       "      <td>0</td>\n",
       "      <td>...</td>\n",
       "      <td>0</td>\n",
       "      <td>0</td>\n",
       "      <td>0</td>\n",
       "      <td>0</td>\n",
       "      <td>0</td>\n",
       "      <td>0</td>\n",
       "      <td>0</td>\n",
       "      <td>0</td>\n",
       "      <td>(Actus, Primus, .)</td>\n",
       "      <td>0</td>\n",
       "    </tr>\n",
       "    <tr>\n",
       "      <th>1</th>\n",
       "      <td>0</td>\n",
       "      <td>0</td>\n",
       "      <td>0</td>\n",
       "      <td>0</td>\n",
       "      <td>0</td>\n",
       "      <td>0</td>\n",
       "      <td>0</td>\n",
       "      <td>0</td>\n",
       "      <td>0</td>\n",
       "      <td>0</td>\n",
       "      <td>...</td>\n",
       "      <td>0</td>\n",
       "      <td>0</td>\n",
       "      <td>0</td>\n",
       "      <td>0</td>\n",
       "      <td>0</td>\n",
       "      <td>0</td>\n",
       "      <td>0</td>\n",
       "      <td>0</td>\n",
       "      <td>(Scoena, Prima, .)</td>\n",
       "      <td>0</td>\n",
       "    </tr>\n",
       "    <tr>\n",
       "      <th>2</th>\n",
       "      <td>0</td>\n",
       "      <td>0</td>\n",
       "      <td>0</td>\n",
       "      <td>0</td>\n",
       "      <td>0</td>\n",
       "      <td>0</td>\n",
       "      <td>0</td>\n",
       "      <td>0</td>\n",
       "      <td>0</td>\n",
       "      <td>0</td>\n",
       "      <td>...</td>\n",
       "      <td>0</td>\n",
       "      <td>0</td>\n",
       "      <td>0</td>\n",
       "      <td>0</td>\n",
       "      <td>0</td>\n",
       "      <td>0</td>\n",
       "      <td>0</td>\n",
       "      <td>0</td>\n",
       "      <td>(Enter, Flauius, ,, Murellus, ,, and, certaine...</td>\n",
       "      <td>0</td>\n",
       "    </tr>\n",
       "    <tr>\n",
       "      <th>3</th>\n",
       "      <td>0</td>\n",
       "      <td>0</td>\n",
       "      <td>0</td>\n",
       "      <td>0</td>\n",
       "      <td>0</td>\n",
       "      <td>0</td>\n",
       "      <td>0</td>\n",
       "      <td>0</td>\n",
       "      <td>0</td>\n",
       "      <td>0</td>\n",
       "      <td>...</td>\n",
       "      <td>0</td>\n",
       "      <td>0</td>\n",
       "      <td>0</td>\n",
       "      <td>0</td>\n",
       "      <td>0</td>\n",
       "      <td>0</td>\n",
       "      <td>0</td>\n",
       "      <td>0</td>\n",
       "      <td>(Flauius, .)</td>\n",
       "      <td>0</td>\n",
       "    </tr>\n",
       "    <tr>\n",
       "      <th>4</th>\n",
       "      <td>0</td>\n",
       "      <td>0</td>\n",
       "      <td>0</td>\n",
       "      <td>0</td>\n",
       "      <td>0</td>\n",
       "      <td>0</td>\n",
       "      <td>0</td>\n",
       "      <td>0</td>\n",
       "      <td>0</td>\n",
       "      <td>0</td>\n",
       "      <td>...</td>\n",
       "      <td>0</td>\n",
       "      <td>0</td>\n",
       "      <td>0</td>\n",
       "      <td>0</td>\n",
       "      <td>0</td>\n",
       "      <td>0</td>\n",
       "      <td>0</td>\n",
       "      <td>0</td>\n",
       "      <td>(Hence, :, home, you, idle, Creatures, ,, get,...</td>\n",
       "      <td>0</td>\n",
       "    </tr>\n",
       "  </tbody>\n",
       "</table>\n",
       "<p>5 rows × 3616 columns</p>\n",
       "</div>"
      ],
      "text/plain": [
       "   cobler  passing  fits  build  envelope  unfortunately  bob  fury  nights  \\\n",
       "0       0        0     0      0         0              0    0     0       0   \n",
       "1       0        0     0      0         0              0    0     0       0   \n",
       "2       0        0     0      0         0              0    0     0       0   \n",
       "3       0        0     0      0         0              0    0     0       0   \n",
       "4       0        0     0      0         0              0    0     0       0   \n",
       "\n",
       "   star  ...  exalt  disturbing  fast  rule  dropped  2008  124  bent  \\\n",
       "0     0  ...      0           0     0     0        0     0    0     0   \n",
       "1     0  ...      0           0     0     0        0     0    0     0   \n",
       "2     0  ...      0           0     0     0        0     0    0     0   \n",
       "3     0  ...      0           0     0     0        0     0    0     0   \n",
       "4     0  ...      0           0     0     0        0     0    0     0   \n",
       "\n",
       "                                       text_sentence  text_source  \n",
       "0                                 (Actus, Primus, .)            0  \n",
       "1                                 (Scoena, Prima, .)            0  \n",
       "2  (Enter, Flauius, ,, Murellus, ,, and, certaine...            0  \n",
       "3                                       (Flauius, .)            0  \n",
       "4  (Hence, :, home, you, idle, Creatures, ,, get,...            0  \n",
       "\n",
       "[5 rows x 3616 columns]"
      ]
     },
     "execution_count": 13,
     "metadata": {},
     "output_type": "execute_result"
    }
   ],
   "source": [
    "word_counts.head()"
   ]
  },
  {
   "cell_type": "code",
   "execution_count": 14,
   "metadata": {},
   "outputs": [
    {
     "name": "stdout",
     "output_type": "stream",
     "text": [
      "(1169, 3616)\n"
     ]
    }
   ],
   "source": [
    "print(word_counts.shape)"
   ]
  },
  {
   "cell_type": "markdown",
   "metadata": {},
   "source": [
    "# Build the models - Clustering  \n",
    "\n",
    "First separate the data into training and test data sets and normalize the data."
   ]
  },
  {
   "cell_type": "code",
   "execution_count": 15,
   "metadata": {},
   "outputs": [],
   "source": [
    "Y = word_counts['text_source']\n",
    "X = np.array(word_counts.drop(['text_sentence','text_source'], 1))\n",
    "\n",
    "X_train, X_test, y_train, y_test = train_test_split(X, Y, test_size=0.25, random_state=0)\n",
    "\n",
    "# normalize the training data\n",
    "X_train = sklearn.preprocessing.normalize(X_train)\n",
    "\n",
    "# normalize the test data\n",
    "X_test = sklearn.preprocessing.normalize(X_test)"
   ]
  },
  {
   "cell_type": "markdown",
   "metadata": {},
   "source": [
    "#### K-Means with PCA for visualization - Each color represents a different corpus"
   ]
  },
  {
   "cell_type": "code",
   "execution_count": 16,
   "metadata": {},
   "outputs": [
    {
     "data": {
      "image/png": "[encoded data removed]",
      "text/plain": [
       "<Figure size 800x480 with 2 Axes>"
      ]
     },
     "metadata": {
      "needs_background": "light"
     },
     "output_type": "display_data"
    },
    {
     "name": "stdout",
     "output_type": "stream",
     "text": [
      "Comparing k-means clusters against the data:\n",
      "col_0          0   1   2   3   4   5\n",
      "text_source                         \n",
      "0            142  20   2  26  13   4\n",
      "1             47  29   2  22   8   6\n",
      "2             90   3  22   8   1  10\n",
      "3             66   8   8  16   2   3\n",
      "4             94  19  19  23  12  17\n",
      "5             83   6  17  15   3  10\n"
     ]
    }
   ],
   "source": [
    "# Reduce it to two components.\n",
    "x_pca = PCA(2).fit_transform(X_train)\n",
    "       \n",
    "y_pred = KMeans(n_clusters=6).fit_predict(x_pca)    \n",
    "\n",
    "# Plot the solution.\n",
    "# l1 = [('Caesar', 'Dracula', 'Iliad', 'Pan', 'Tom', 'Wizard')]\n",
    "# l2 = [0, 1, 2, 3, 4, 5]\n",
    "\n",
    "plt.figure(figsize=(10, 6), dpi=80)\n",
    "plt.scatter(x_pca[:, 0], x_pca[:, 1], c=y_train, label=y_train)\n",
    "plt.colorbar()\n",
    "# plt.legend()\n",
    "plt.show()\n",
    "\n",
    "# Check the solution against the data.\n",
    "print('Comparing k-means clusters against the data:')\n",
    "print(pd.crosstab(y_train, y_pred))\n"
   ]
  },
  {
   "cell_type": "markdown",
   "metadata": {},
   "source": [
    "**Evaluation:**  Most of the corpora fall into cluster 1; however, there are not clear delineations for each cluster.  An argument could be made that cluster 0 could be most similar to corpus 1, or 'Dracula'.  Similarly, cluster 5 could be seen as most likely sentences from 'Julius Caesar' which is the row labeled 0.\n",
    "\n",
    "#### K-Means with PCA for visualization - Each color represents a different cluster this time"
   ]
  },
  {
   "cell_type": "code",
   "execution_count": 17,
   "metadata": {},
   "outputs": [
    {
     "data": {
      "image/png": "[encoded data removed]",
      "text/plain": [
       "<Figure size 800x480 with 2 Axes>"
      ]
     },
     "metadata": {
      "needs_background": "light"
     },
     "output_type": "display_data"
    },
    {
     "name": "stdout",
     "output_type": "stream",
     "text": [
      "Comparing k-means clusters against the data:\n",
      "col_0          0   1   2   3   4   5\n",
      "text_source                         \n",
      "0            142  13   2  26   4  20\n",
      "1             47   8   2  22   6  29\n",
      "2             90   1  22   8  10   3\n",
      "3             66   2   8  16   3   8\n",
      "4             94  12  19  23  17  19\n",
      "5             83   3  17  15  10   6\n"
     ]
    }
   ],
   "source": [
    "# Reduce it to two components.\n",
    "x_pca = PCA(2).fit_transform(X_train)\n",
    "       \n",
    "y_pred = KMeans(n_clusters=6).fit_predict(x_pca)    \n",
    "\n",
    "# Plot the solution.\n",
    "# l1 = [('Caesar', 'Dracula', 'Iliad', 'Pan', 'Tom', 'Wizard')]\n",
    "# l2 = [0, 1, 2, 3, 4, 5]\n",
    "\n",
    "plt.figure(figsize=(10, 6), dpi=80)\n",
    "plt.scatter(x_pca[:, 0], x_pca[:, 1], c=y_pred)\n",
    "plt.colorbar()\n",
    "# plt.legend()\n",
    "plt.show()\n",
    "\n",
    "# Check the solution against the data.\n",
    "print('Comparing k-means clusters against the data:')\n",
    "print(pd.crosstab(y_train, y_pred))"
   ]
  },
  {
   "cell_type": "markdown",
   "metadata": {},
   "source": [
    "**Evaluation:**  Here the clusters are grouped by color; however, from the crosstab matrix there are no clear clusters assigned to a particular corpus.  Only 2 components were used to create this plot (out of about 3600 total features), so we are asking a lot of these 2 components to yield accrate groupings.\n",
    "\n",
    "#### K-Means with LSA for visualization   \n",
    "Latent Semantic Analysis is the process of applying PCA to a tf-idf term-document matrix.  Each color represents a different cluster."
   ]
  },
  {
   "cell_type": "code",
   "execution_count": 18,
   "metadata": {},
   "outputs": [
    {
     "data": {
      "image/png": "[encoded data removed]",
      "text/plain": [
       "<Figure size 800x480 with 2 Axes>"
      ]
     },
     "metadata": {
      "needs_background": "light"
     },
     "output_type": "display_data"
    },
    {
     "name": "stdout",
     "output_type": "stream",
     "text": [
      "Comparing k-means clusters against the data:\n",
      "col_0          0   1   2   3   4   5\n",
      "text_source                         \n",
      "0            121  10  44  10   1  21\n",
      "1             61  26  13   0   6   8\n",
      "2             17  61  22   5   1  28\n",
      "3             33  22  22   0   8  18\n",
      "4             73  51  22   4  20  14\n",
      "5             40  36  27   0   2  29\n"
     ]
    }
   ],
   "source": [
    "#Our SVD data reducer.  We are going to reduce the feature space from 1379 to 130.\n",
    "svd = TruncatedSVD(2)\n",
    "lsa = make_pipeline(svd, Normalizer(copy=False))\n",
    "\n",
    "# Run SVD on the training data, then project the training data.\n",
    "X_train_lsa = lsa.fit_transform(X_train)\n",
    "\n",
    "# Calculate predicted values.\n",
    "y_pred = KMeans(n_clusters=6).fit_predict(X_train_lsa)\n",
    "# print(y_pred[:10])\n",
    "\n",
    "# Plot the solution.\n",
    "plt.figure(figsize=(10, 6), dpi=80)\n",
    "plt.scatter(X_train_lsa[:, 0], X_train_lsa[:, 1], c=y_pred)\n",
    "plt.colorbar()\n",
    "plt.show()\n",
    "\n",
    "# Check the solution against the data.\n",
    "print('Comparing k-means clusters against the data:')\n",
    "print(pd.crosstab(y_train, y_pred))"
   ]
  },
  {
   "cell_type": "markdown",
   "metadata": {},
   "source": [
    "**Evaluation:**  This LSA method produces an interesting semi-circular shape.  Once again, the crosstab data does not show clear grouping for any of the corpora.  Perhaps the clearest groupings would be to associate cluster 0 with corpus 0 and cluster 2 with corpus 4 - which is 'Peter Pan'.\n",
    "\n",
    "#### K-Means Clustering without using PCA or LSA - just using crosstab to possibly identify clusters of data"
   ]
  },
  {
   "cell_type": "code",
   "execution_count": 19,
   "metadata": {},
   "outputs": [
    {
     "name": "stdout",
     "output_type": "stream",
     "text": [
      "Comparing k-means clusters against the data:\n",
      "col_0         0   1   2   3   4   5\n",
      "text_source                        \n",
      "0            84  18  56   4  45   0\n",
      "1            42   6  59   6   1   0\n",
      "2            81   4  11  32   6   0\n",
      "3            69   3  21  10   0   0\n",
      "4            85   7  54  33   5   0\n",
      "5            59   3  21  26   0  25\n"
     ]
    }
   ],
   "source": [
    "# Calculate predicted values; setting number of cluster to 6.\n",
    "y_pred = KMeans(n_clusters=6).fit_predict(X_train)    \n",
    "\n",
    "# Check the solution against the data.\n",
    "print('Comparing k-means clusters against the data:')\n",
    "print(pd.crosstab(y_train, y_pred))\n"
   ]
  },
  {
   "cell_type": "markdown",
   "metadata": {},
   "source": [
    "**Evaluation:**  It looks like cluster 2 could be assigned to corpus 1 and cluster 4 to corpus 0.  The groupings, however, look fairly random."
   ]
  },
  {
   "cell_type": "markdown",
   "metadata": {},
   "source": [
    "#### Mean Shift with PCA for visualization - Each color represents a different corpus"
   ]
  },
  {
   "cell_type": "code",
   "execution_count": 20,
   "metadata": {},
   "outputs": [
    {
     "name": "stdout",
     "output_type": "stream",
     "text": [
      "Number of estimated clusters: 6\n"
     ]
    },
    {
     "data": {
      "image/png": "[encoded data removed]",
      "text/plain": [
       "<Figure size 800x480 with 2 Axes>"
      ]
     },
     "metadata": {
      "needs_background": "light"
     },
     "output_type": "display_data"
    },
    {
     "name": "stdout",
     "output_type": "stream",
     "text": [
      "Comparing Mean Shift clusters against the data:\n",
      "col_0          0   1   2   3  4  5\n",
      "text_source                       \n",
      "0            142  47   4  10  2  2\n",
      "1             49  51   5   7  2  0\n",
      "2             91  11  31   1  0  0\n",
      "3             68  23  10   2  0  0\n",
      "4             97  42  31  12  2  0\n",
      "5             83  21  27   3  0  0\n"
     ]
    }
   ],
   "source": [
    "from sklearn.cluster import MeanShift, estimate_bandwidth\n",
    "\n",
    "# Here we set the bandwidth. This function automatically derives a bandwidth\n",
    "# number based on an inspection of the distances among points in the data.\n",
    "bandwidth = estimate_bandwidth(x_pca, quantile=0.2, n_samples=500)\n",
    "\n",
    "# Declare and fit the model.\n",
    "ms = MeanShift(bandwidth=bandwidth, bin_seeding=True)\n",
    "ms.fit(x_pca)\n",
    "\n",
    "# Extract cluster assignments for each data point.\n",
    "labels = ms.labels_\n",
    "\n",
    "# Coordinates of the cluster centers.\n",
    "cluster_centers = ms.cluster_centers_\n",
    "\n",
    "# Count our clusters.\n",
    "n_clusters_ = len(np.unique(labels))\n",
    "\n",
    "print(\"Number of estimated clusters: {}\".format(n_clusters_))\n",
    "\n",
    "# Plot the solution.\n",
    "plt.figure(figsize=(10, 6), dpi=80)\n",
    "\n",
    "# change c= values of text source\n",
    "plt.scatter(x_pca[:, 0], x_pca[:, 1], c=y_train)\n",
    "plt.colorbar()\n",
    "\n",
    "plt.show()\n",
    "\n",
    "# Check the solution against the data.\n",
    "print('Comparing Mean Shift clusters against the data:')\n",
    "print(pd.crosstab(y_train, labels))"
   ]
  },
  {
   "cell_type": "markdown",
   "metadata": {},
   "source": [
    "**Evaluation:**  Most of the data points are in cluster 0 this time.  Again the clusters are poorly defined and appear somewhat random.  The Mean Shift method did yield 6 clusters which is exactly equal to the number of corpora represented.  However, it looks like luck was involved due to the random groupings.  \n",
    "\n",
    "#### Mean Shift with PCA for visualization - Each color represents a different cluster this time"
   ]
  },
  {
   "cell_type": "code",
   "execution_count": 21,
   "metadata": {},
   "outputs": [
    {
     "data": {
      "image/png": "[encoded data removed]",
      "text/plain": [
       "<Figure size 800x480 with 2 Axes>"
      ]
     },
     "metadata": {
      "needs_background": "light"
     },
     "output_type": "display_data"
    },
    {
     "name": "stdout",
     "output_type": "stream",
     "text": [
      "Comparing Mean Shift clusters against the data:\n",
      "col_0          0   1   2   3  4  5\n",
      "text_source                       \n",
      "0            142  47   4  10  2  2\n",
      "1             49  51   5   7  2  0\n",
      "2             91  11  31   1  0  0\n",
      "3             68  23  10   2  0  0\n",
      "4             97  42  31  12  2  0\n",
      "5             83  21  27   3  0  0\n"
     ]
    }
   ],
   "source": [
    "# Plot the solution.\n",
    "plt.figure(figsize=(10, 6), dpi=80)\n",
    "\n",
    "# change c= values of text source\n",
    "plt.scatter(x_pca[:, 0], x_pca[:, 1], c=labels)\n",
    "plt.colorbar()\n",
    "\n",
    "plt.show()\n",
    "\n",
    "# Check the solution against the data.\n",
    "print('Comparing Mean Shift clusters against the data:')\n",
    "print(pd.crosstab(y_train, labels))"
   ]
  },
  {
   "cell_type": "markdown",
   "metadata": {},
   "source": [
    "**Evaluation:**  Fairly random clusters.  These clusters don't tell us too much.  Again, only using 2 components might be tough to generate relevant groupings.\n",
    "\n",
    "#### Mean Shift with LSA for visualization   \n",
    "Latent Semantic Analysis is the process of applying PCA to a tf-idf term-document matrix.  Each color represents a different cluster."
   ]
  },
  {
   "cell_type": "code",
   "execution_count": 22,
   "metadata": {},
   "outputs": [
    {
     "name": "stdout",
     "output_type": "stream",
     "text": [
      "Number of estimated clusters: 5\n"
     ]
    },
    {
     "data": {
      "image/png": "[encoded data removed]",
      "text/plain": [
       "<Figure size 800x480 with 2 Axes>"
      ]
     },
     "metadata": {
      "needs_background": "light"
     },
     "output_type": "display_data"
    },
    {
     "name": "stdout",
     "output_type": "stream",
     "text": [
      "Comparing Mean Shift clusters against the data:\n",
      "col_0          0   1   2   3   4\n",
      "text_source                     \n",
      "0            121  14  61   1  10\n",
      "1             61  24  20   6   3\n",
      "2             17  70  42   1   4\n",
      "3             35  28  32   8   0\n",
      "4             75  56  29  20   4\n",
      "5             42  43  47   2   0\n"
     ]
    }
   ],
   "source": [
    "#Our SVD data reducer.  We are going to reduce the feature space from 1379 to 130.\n",
    "svd = TruncatedSVD(2)\n",
    "lsa = make_pipeline(svd, Normalizer(copy=False))\n",
    "\n",
    "# Run SVD on the training data, then project the training data.\n",
    "X_train_lsa = lsa.fit_transform(X_train)\n",
    "\n",
    "# Here we set the bandwidth. This function automatically derives a bandwidth\n",
    "# number based on an inspection of the distances among points in the data.\n",
    "bandwidth = estimate_bandwidth(X_train_lsa, quantile=0.2, n_samples=500)\n",
    "\n",
    "# Declare and fit the model.\n",
    "ms = MeanShift(bandwidth=bandwidth, bin_seeding=True)\n",
    "ms.fit(X_train_lsa)\n",
    "\n",
    "# Extract cluster assignments for each data point.\n",
    "labels = ms.labels_\n",
    "\n",
    "# Coordinates of the cluster centers.\n",
    "cluster_centers = ms.cluster_centers_\n",
    "\n",
    "# Count our clusters.\n",
    "n_clusters_ = len(np.unique(labels))\n",
    "\n",
    "print(\"Number of estimated clusters: {}\".format(n_clusters_))\n",
    "\n",
    "# Plot the solution.\n",
    "plt.figure(figsize=(10, 6), dpi=80)\n",
    "\n",
    "# change c= values of text source\n",
    "plt.scatter(X_train_lsa[:, 0], X_train_lsa[:, 1], c=labels)\n",
    "plt.colorbar()\n",
    "plt.show()\n",
    "\n",
    "# Check the solution against the data.\n",
    "print('Comparing Mean Shift clusters against the data:')\n",
    "print(pd.crosstab(y_train, labels))"
   ]
  },
  {
   "cell_type": "markdown",
   "metadata": {},
   "source": [
    "**Evaluation:**  Very similar to LSA method from K-Means.\n",
    "\n",
    "#### Mean Shift Clustering without using PCA or LSA - just using crosstab to possibly identify clusters of data"
   ]
  },
  {
   "cell_type": "code",
   "execution_count": 23,
   "metadata": {},
   "outputs": [
    {
     "name": "stdout",
     "output_type": "stream",
     "text": [
      "Number of estimated clusters: 1\n",
      "Comparing Mean Shift clusters against the data:\n",
      "col_0          0\n",
      "text_source     \n",
      "0            207\n",
      "1            114\n",
      "2            134\n",
      "3            103\n",
      "4            184\n",
      "5            134\n"
     ]
    }
   ],
   "source": [
    "# Here we set the bandwidth. This function automatically derives a bandwidth\n",
    "# number based on an inspection of the distances among points in the data.\n",
    "bandwidth = estimate_bandwidth(X_train, quantile=0.2, n_samples=500)\n",
    "\n",
    "# Declare and fit the model.\n",
    "ms = MeanShift(bandwidth=bandwidth, bin_seeding=True)\n",
    "ms.fit(X_train)\n",
    "\n",
    "# Extract cluster assignments for each data point.\n",
    "labels = ms.labels_\n",
    "\n",
    "# Coordinates of the cluster centers.\n",
    "cluster_centers = ms.cluster_centers_\n",
    "\n",
    "# Count our clusters.\n",
    "n_clusters_ = len(np.unique(labels))\n",
    "\n",
    "print(\"Number of estimated clusters: {}\".format(n_clusters_))\n",
    "\n",
    "# Check the solution against the data.\n",
    "print('Comparing Mean Shift clusters against the data:')\n",
    "print(pd.crosstab(y_train, labels))"
   ]
  },
  {
   "cell_type": "markdown",
   "metadata": {},
   "source": [
    "**Evaluation:**  Using the full data, the Mean Shift clustering method yielded only 1 cluster.  This is odd, since there are 6 corpora.\n",
    "\n",
    "#### Spectral with PCA for visualization - Each color represents a different corpus"
   ]
  },
  {
   "cell_type": "code",
   "execution_count": 24,
   "metadata": {},
   "outputs": [
    {
     "data": {
      "image/png": "[encoded data removed]",
      "text/plain": [
       "<Figure size 800x480 with 2 Axes>"
      ]
     },
     "metadata": {
      "needs_background": "light"
     },
     "output_type": "display_data"
    },
    {
     "name": "stdout",
     "output_type": "stream",
     "text": [
      "Comparing Spectral clusters against the data:\n",
      "col_0         0    1   2  3   4   5\n",
      "text_source                        \n",
      "0            13  141   4  3   0  46\n",
      "1             8   45   7  2   2  50\n",
      "2             1   89  24  0   9  11\n",
      "3             2   65   8  0   4  24\n",
      "4            12   93  25  2  10  42\n",
      "5             3   82  24  0   4  21\n"
     ]
    }
   ],
   "source": [
    "from sklearn.cluster import SpectralClustering\n",
    "\n",
    "# We know we're looking for six clusters.\n",
    "n_clusters = 6\n",
    "\n",
    "# Declare and fit the model.\n",
    "sc = SpectralClustering(n_clusters=n_clusters)\n",
    "sc.fit(x_pca)\n",
    "\n",
    "# Predicted clusters.\n",
    "predict = sc.fit_predict(x_pca)\n",
    "\n",
    "# Graph results.\n",
    "plt.figure(figsize=(10, 6), dpi=80)\n",
    "plt.scatter(x_pca[:, 0], x_pca[:, 1], c=y_train)\n",
    "plt.colorbar()\n",
    "plt.show()\n",
    "\n",
    "# Check the solution against the data.\n",
    "print('Comparing Spectral clusters against the data:')\n",
    "print(pd.crosstab(y_train, predict))"
   ]
  },
  {
   "cell_type": "markdown",
   "metadata": {},
   "source": [
    "**Evaluation:**  The cluster have a similar shape here as the two previous methods.  From the crosstab results, the clusters don't have an obvious corpus attached to them.  \n",
    "\n",
    "#### Spectral with PCA for visualization - Each color represents a different cluster this time"
   ]
  },
  {
   "cell_type": "code",
   "execution_count": 25,
   "metadata": {},
   "outputs": [
    {
     "data": {
      "image/png": "[encoded data removed]",
      "text/plain": [
       "<Figure size 800x480 with 2 Axes>"
      ]
     },
     "metadata": {
      "needs_background": "light"
     },
     "output_type": "display_data"
    },
    {
     "name": "stdout",
     "output_type": "stream",
     "text": [
      "Comparing Spectral clusters against the data:\n",
      "col_0         0    1   2  3   4   5\n",
      "text_source                        \n",
      "0            13  141   4  3   0  46\n",
      "1             8   45   7  2   2  50\n",
      "2             1   89  24  0   9  11\n",
      "3             2   65   8  0   4  24\n",
      "4            12   93  25  2  10  42\n",
      "5             3   82  24  0   4  21\n"
     ]
    }
   ],
   "source": [
    "# Graph results.\n",
    "plt.figure(figsize=(10, 6), dpi=80)\n",
    "plt.scatter(x_pca[:, 0], x_pca[:, 1], c=predict)\n",
    "plt.colorbar()\n",
    "plt.show()\n",
    "\n",
    "# Check the solution against the data.\n",
    "print('Comparing Spectral clusters against the data:')\n",
    "print(pd.crosstab(y_train, predict))"
   ]
  },
  {
   "cell_type": "markdown",
   "metadata": {},
   "source": [
    "**Evaluation:**  Still tough to separate each corpus into clusters.  Cluster 1 has mainly works from corpus 0, or 'Julius Caesar'.\n",
    "\n",
    "#### Spectral with LSA for visualization   \n",
    "Latent Semantic Analysis is the process of applying PCA to a tf-idf term-document matrix.  Each color represents a different cluster."
   ]
  },
  {
   "cell_type": "code",
   "execution_count": 26,
   "metadata": {},
   "outputs": [
    {
     "data": {
      "image/png": "[encoded data removed]",
      "text/plain": [
       "<Figure size 800x480 with 2 Axes>"
      ]
     },
     "metadata": {
      "needs_background": "light"
     },
     "output_type": "display_data"
    },
    {
     "name": "stdout",
     "output_type": "stream",
     "text": [
      "Comparing Spectral clusters against the data:\n",
      "col_0         0   1   2   3   4   5\n",
      "text_source                        \n",
      "0            27  10  91   7   1  71\n",
      "1            19   3  60  12   6  14\n",
      "2            31   4  13  60   1  25\n",
      "3            24   0  28  17   8  26\n",
      "4            23   4  61  43  20  33\n",
      "5            34   0  30  33   2  35\n"
     ]
    }
   ],
   "source": [
    "# We know we're looking for six clusters.\n",
    "n_clusters = 6\n",
    "\n",
    "# Declare and fit the model.\n",
    "sc = SpectralClustering(n_clusters=n_clusters)\n",
    "sc.fit(X_train_lsa)\n",
    "\n",
    "# Predicted clusters.\n",
    "predict = sc.fit_predict(X_train_lsa)\n",
    "\n",
    "# Graph results.\n",
    "plt.figure(figsize=(10, 6), dpi=80)\n",
    "plt.scatter(X_train_lsa[:, 0], X_train_lsa[:, 1], c=predict)\n",
    "plt.colorbar()\n",
    "plt.show()\n",
    "\n",
    "# Check the solution against the data.\n",
    "print('Comparing Spectral clusters against the data:')\n",
    "print(pd.crosstab(y_train, predict))"
   ]
  },
  {
   "cell_type": "markdown",
   "metadata": {},
   "source": [
    "**Evaluation:**  Again the semi-circular shape with Latent Semantic Analysis.  Each cluster could be grouped in a certain pattern, but not necessarily by the corpus identity.\n",
    "\n",
    "#### Spectral Clustering without using PCA or LSA - just using crosstab to possibly identify clusters of data"
   ]
  },
  {
   "cell_type": "code",
   "execution_count": 27,
   "metadata": {},
   "outputs": [
    {
     "name": "stdout",
     "output_type": "stream",
     "text": [
      "Comparing Spectral clusters against the data:\n",
      "col_0         0    1   2   3  4   5\n",
      "text_source                        \n",
      "0            46  141   4  13  3   0\n",
      "1            50   45   7   8  2   2\n",
      "2            11   89  24   1  0   9\n",
      "3            24   65   8   2  0   4\n",
      "4            42   93  25  12  2  10\n",
      "5            21   82  24   3  0   4\n"
     ]
    }
   ],
   "source": [
    "# We know we're looking for six clusters.\n",
    "n_clusters = 6\n",
    "\n",
    "# Declare and fit the model.\n",
    "sc = SpectralClustering(n_clusters=n_clusters)\n",
    "sc.fit(x_pca)\n",
    "\n",
    "# Predicted clusters.\n",
    "predict = sc.fit_predict(x_pca)\n",
    "\n",
    "# Check the solution against the data.\n",
    "print('Comparing Spectral clusters against the data:')\n",
    "print(pd.crosstab(y_train, predict))"
   ]
  },
  {
   "cell_type": "markdown",
   "metadata": {},
   "source": [
    "**Evaluation:**  Not real clear cluster groupings."
   ]
  },
  {
   "cell_type": "markdown",
   "metadata": {},
   "source": [
    "# Build the models - Supervised Learning\n",
    "The \"text_source\" is the dependent variable the models are trying to predict."
   ]
  },
  {
   "cell_type": "markdown",
   "metadata": {},
   "source": [
    "#### Random Forest"
   ]
  },
  {
   "cell_type": "code",
   "execution_count": 28,
   "metadata": {},
   "outputs": [
    {
     "name": "stdout",
     "output_type": "stream",
     "text": [
      "Training set score: 0.9703196347031964\n",
      "\n",
      "Test set score: 0.6450511945392492\n",
      "\n",
      "Confusion Matrix:\n",
      "[[31  2  3  0 17  1]\n",
      " [ 0 19  0  0 10  1]\n",
      " [ 5  2 23  0 21  2]\n",
      " [ 1  5  1 21  8  1]\n",
      " [ 2  1  0  4 64  3]\n",
      " [ 0  3  0  1 10 31]]\n"
     ]
    }
   ],
   "source": [
    "from sklearn import ensemble\n",
    "from sklearn.model_selection import train_test_split\n",
    "\n",
    "rfc = ensemble.RandomForestClassifier(n_estimators=100)\n",
    "\n",
    "train = rfc.fit(X_train, y_train)\n",
    "print('Training set score:', rfc.score(X_train, y_train))\n",
    "print('\\nTest set score:', rfc.score(X_test, y_test))\n",
    "\n",
    "# Confusion Matrix\n",
    "from sklearn.metrics import confusion_matrix\n",
    "\n",
    "y_test_pred = rfc.predict(X_test)\n",
    "\n",
    "print('\\nConfusion Matrix:')\n",
    "print(sklearn.metrics.confusion_matrix(y_test, y_test_pred, labels=None, sample_weight=None))"
   ]
  },
  {
   "cell_type": "markdown",
   "metadata": {},
   "source": [
    "**Evaluation:**  The accuracy score of 65% is not bad considering the ground truth accuracy (or random guessing) is 17%."
   ]
  },
  {
   "cell_type": "markdown",
   "metadata": {},
   "source": [
    "#### Logistic Regression"
   ]
  },
  {
   "cell_type": "code",
   "execution_count": 29,
   "metadata": {},
   "outputs": [
    {
     "name": "stderr",
     "output_type": "stream",
     "text": [
      "C:\\Users\\Fred\\Anaconda3\\lib\\site-packages\\sklearn\\linear_model\\logistic.py:433: FutureWarning: Default solver will be changed to 'lbfgs' in 0.22. Specify a solver to silence this warning.\n",
      "  FutureWarning)\n",
      "C:\\Users\\Fred\\Anaconda3\\lib\\site-packages\\sklearn\\linear_model\\logistic.py:460: FutureWarning: Default multi_class will be changed to 'auto' in 0.22. Specify the multi_class option to silence this warning.\n",
      "  \"this warning.\", FutureWarning)\n"
     ]
    },
    {
     "name": "stdout",
     "output_type": "stream",
     "text": [
      "(876, 3614) (876,)\n",
      "Training set score: 0.8641552511415526\n",
      "\n",
      "Test set score: 0.658703071672355\n",
      "\n",
      "Confusion Matrix:\n",
      "[[44  0  3  0  7  0]\n",
      " [ 8 15  1  1  4  1]\n",
      " [13  2 32  0  6  0]\n",
      " [ 4  2  3 17 10  1]\n",
      " [13  4  2  1 53  1]\n",
      " [ 4  4  2  1  2 32]]\n"
     ]
    }
   ],
   "source": [
    "from sklearn.linear_model import LogisticRegression\n",
    "\n",
    "lr = LogisticRegression(penalty='l2') # No need to specify l2 as it's the default. But we put it for demonstration.\n",
    "train = lr.fit(X_train, y_train)\n",
    "print(X_train.shape, y_train.shape)\n",
    "print('Training set score:', lr.score(X_train, y_train))\n",
    "print('\\nTest set score:', lr.score(X_test, y_test))\n",
    "\n",
    "# Confusion Matrix\n",
    "from sklearn.metrics import confusion_matrix\n",
    "\n",
    "y_test_pred = lr.predict(X_test)\n",
    "\n",
    "print('\\nConfusion Matrix:')\n",
    "print(sklearn.metrics.confusion_matrix(y_test, y_test_pred, labels=None, sample_weight=None))"
   ]
  },
  {
   "cell_type": "markdown",
   "metadata": {},
   "source": [
    "**Evaluation:**  Again, an accuracy score of 66%.  Most of the correctly labeled data points fall on the main diagonal of the confusion matrix and there is a fairly even distribution of points in the upper and lower traingles."
   ]
  },
  {
   "cell_type": "markdown",
   "metadata": {},
   "source": [
    "#### Gradient Boosting"
   ]
  },
  {
   "cell_type": "code",
   "execution_count": 30,
   "metadata": {},
   "outputs": [
    {
     "name": "stdout",
     "output_type": "stream",
     "text": [
      "Training set score: 0.9406392694063926\n",
      "\n",
      "Test set score: 0.6040955631399317\n",
      "\n",
      "Confusion Matrix:\n",
      "[[41  3  3  0  5  2]\n",
      " [ 7 19  0  1  2  1]\n",
      " [22  1 25  2  3  0]\n",
      " [ 4  6  2 20  4  1]\n",
      " [20  6  0  2 45  1]\n",
      " [ 7  5  0  0  6 27]]\n"
     ]
    }
   ],
   "source": [
    "clf = ensemble.GradientBoostingClassifier()\n",
    "train = clf.fit(X_train, y_train)\n",
    "\n",
    "print('Training set score:', clf.score(X_train, y_train))\n",
    "print('\\nTest set score:', clf.score(X_test, y_test))\n",
    "\n",
    "# Confusion Matrix\n",
    "from sklearn.metrics import confusion_matrix\n",
    "\n",
    "y_test_pred = clf.predict(X_test)\n",
    "\n",
    "print('\\nConfusion Matrix:')\n",
    "print(sklearn.metrics.confusion_matrix(y_test, y_test_pred, labels=None, sample_weight=None))"
   ]
  },
  {
   "cell_type": "markdown",
   "metadata": {},
   "source": [
    "**Evaluation:**  An accuracy of 60% for the gradient boosting algorithm.  Very similar to the previous modeling scores."
   ]
  },
  {
   "cell_type": "markdown",
   "metadata": {},
   "source": [
    "#### Support Vector Machines"
   ]
  },
  {
   "cell_type": "code",
   "execution_count": 31,
   "metadata": {},
   "outputs": [
    {
     "name": "stdout",
     "output_type": "stream",
     "text": [
      "Training set score: 0.928082191780822\n",
      "\n",
      "Test set score: 0.6450511945392492\n",
      "\n",
      "Confusion Matrix:\n",
      "[[33  4  4  0 13  0]\n",
      " [ 1 18  1  4  6  0]\n",
      " [ 2  1 37  4  8  1]\n",
      " [ 1  6  4 21  3  2]\n",
      " [ 3  7  4  6 49  5]\n",
      " [ 0  5  3  2  4 31]]\n"
     ]
    }
   ],
   "source": [
    "from sklearn.svm import SVC\n",
    "\n",
    "sv_c = SVC(gamma='auto', kernel='linear', class_weight='balanced')\n",
    "train = sv_c.fit(X_train, y_train)\n",
    "\n",
    "print('Training set score:', sv_c.score(X_train, y_train))\n",
    "print('\\nTest set score:', sv_c.score(X_test, y_test))\n",
    "\n",
    "# Confusion Matrix\n",
    "from sklearn.metrics import confusion_matrix\n",
    "\n",
    "y_test_pred = sv_c.predict(X_test)\n",
    "\n",
    "print('\\nConfusion Matrix:')\n",
    "print(sklearn.metrics.confusion_matrix(y_test, y_test_pred, labels=None, sample_weight=None))"
   ]
  },
  {
   "cell_type": "markdown",
   "metadata": {},
   "source": [
    "**Evaluation:**  An accuracy score of 65% for support vector machines; very similar to the previous models.  All models performed consistently agains the test data - correctly classifying each test (or sentence) around 65% of the time.  "
   ]
  },
  {
   "cell_type": "markdown",
   "metadata": {},
   "source": [
    "# Evaluation and Conclusion  \n",
    "\n",
    "**Unsupervised Learning / Clustering:**  \n",
    "\n",
    "Three different methods were used to identify groupings or cluster of the various corpora - K-Means, Mean Shift, and Spectral.  Withing each of these methods, PCA was used to create a visual representation - 1 plot using the corpus as the color definitions, the second plot using the algorithm generated cluster for their color definitions.  Since the grouping were not clearly defined using these visualizations and their crosstab values, the LSA method was then tried to again reduce the number of component to 2 in order to visualize the clusters in 2-D format.  The LSA method produced an interesting semi-circular graph, but did not necessarily produce useful clusters.  The clusters might be relevant in other ways, but they did not group well according to the specific corpus.  Finally, using K-Means, Mean Shift and Spectral clustering methods with the full amount of data (not just 2 components), the results show that the clustering models build here, do not really group the corpus into well defined clusters.\n",
    "\n",
    "However, the supervised learning techniques to predict which sentence belongs to which corpus yielded much more inspiring results.\n",
    "\n",
    "**Supervised Learning:**  \n",
    "\n",
    "All of the models were evaluated using at most about 14% of the data.  The initial accuracy scores (for test data set) for the 4 models are as follows:  \n",
    "\n",
    "- Random Forest:  0.65    \n",
    "- Logistic Regression:  0.66  \n",
    "- Gradient Boosting:  0.60  \n",
    "- Support Vector Machines:  0.65  \n",
    "\n",
    "Adjusting the number of 'most_common' words in bag of words from 2000 to 500 and requiring words to appear at least 4 times instead of twice in term frequency improved the accuracy scores by a few percentage points.\n",
    "\n",
    "With the additional feature of **'number of words in each sentence' and 'parts of speach'**, the supervised accuracy scores fell from 3 - 10 percent.  Adding these features appears to have added noise to the data - therefore these features are commented out of the final solution.\n",
    "\n",
    "The data looks balanced from the Confusion Matrix values; however, the Confusion Matrix for the Support Vector Machines model yielded 0 True Negatives and 0 False Negatives - prior to changing the kernal from 'rbf' to 'linear'.  After this change the CM became more balanced and much more accurate.  \n",
    "\n",
    "Final Conclusion:  The hope of this notebook was to create clustering models that clearly defined each corpus into a specific cluster as generated by each of the 3 algorithms tested.  Another aspiration was to create supervised learning models that were good predictors for determing the corpus of a randomly chosen sentence.  The clustering methods fell short of expectations, so more study is needed to perhaps create better features and/or create better models.  The supervised techniques, however, produce fairly accurate results relative to the amount of data used for each corpus and relative to the ground truth accuracy rate of 17%. \n"
   ]
  }
 ],
 "metadata": {
  "kernelspec": {
   "display_name": "Python 3",
   "language": "python",
   "name": "python3"
  },
  "language_info": {
   "codemirror_mode": {
    "name": "ipython",
    "version": 3
   },
   "file_extension": ".py",
   "mimetype": "text/x-python",
   "name": "python",
   "nbconvert_exporter": "python",
   "pygments_lexer": "ipython3",
   "version": "3.7.3"
  }
 },
 "nbformat": 4,
 "nbformat_minor": 2
}
