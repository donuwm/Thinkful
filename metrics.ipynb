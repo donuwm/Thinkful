{
 "cells": [
  {
   "cell_type": "markdown",
   "metadata": {},
   "source": [
    "# Introduction\n",
    "\n",
    "This notebook tracks 5 metrics for **Standard** type volunteers:\n",
    "\n",
    "1. Total number of Standard volunteers  \n",
    "2. Number of Standard volunteers who donated\n",
    "3. % donators of total Standard volunteers\n",
    "4. Total dollar amount donated by Standard volunteers\n",
    "5. Average donation for Standard volunteers who donated\n",
    "\n",
    "by Fred Etter - December, 2019"
   ]
  },
  {
   "cell_type": "code",
   "execution_count": 1,
   "metadata": {},
   "outputs": [],
   "source": [
    "# Import modules\n",
    "\n",
    "import numpy as np\n",
    "import pandas as pd\n",
    "import matplotlib.pyplot as plt\n",
    "import seaborn as sns\n",
    "import numpy as np\n",
    "from sklearn import linear_model\n",
    "from sklearn.ensemble import ExtraTreesClassifier\n",
    "from sklearn.ensemble import RandomForestClassifier\n",
    "from sklearn import preprocessing\n",
    "import sklearn\n",
    "from sklearn.feature_selection import SelectFromModel\n",
    "from datetime import datetime\n",
    "from sklearn.metrics import confusion_matrix\n",
    "from sklearn import metrics\n",
    "import seaborn as sns"
   ]
  },
  {
   "cell_type": "code",
   "execution_count": 2,
   "metadata": {},
   "outputs": [],
   "source": [
    "# Read in the data\n",
    "df = pd.read_csv('file1_12_3.csv', low_memory=False)"
   ]
  },
  {
   "cell_type": "code",
   "execution_count": 3,
   "metadata": {},
   "outputs": [
    {
     "data": {
      "text/html": [
       "<div>\n",
       "<style scoped>\n",
       "    .dataframe tbody tr th:only-of-type {\n",
       "        vertical-align: middle;\n",
       "    }\n",
       "\n",
       "    .dataframe tbody tr th {\n",
       "        vertical-align: top;\n",
       "    }\n",
       "\n",
       "    .dataframe thead th {\n",
       "        text-align: right;\n",
       "    }\n",
       "</style>\n",
       "<table border=\"1\" class=\"dataframe\">\n",
       "  <thead>\n",
       "    <tr style=\"text-align: right;\">\n",
       "      <th></th>\n",
       "      <th>ContactId</th>\n",
       "      <th>Year</th>\n",
       "      <th>PledgeTotal</th>\n",
       "      <th>VolType</th>\n",
       "      <th>VolunteerActivityCnt</th>\n",
       "      <th>BirthYear</th>\n",
       "      <th>Gender</th>\n",
       "    </tr>\n",
       "  </thead>\n",
       "  <tbody>\n",
       "    <tr>\n",
       "      <td>0</td>\n",
       "      <td>874ddbce-11cd-e111-941f-00259073dc22</td>\n",
       "      <td>2007</td>\n",
       "      <td>52.00</td>\n",
       "      <td>NaN</td>\n",
       "      <td>NaN</td>\n",
       "      <td>1977.0</td>\n",
       "      <td>female</td>\n",
       "    </tr>\n",
       "    <tr>\n",
       "      <td>1</td>\n",
       "      <td>9a4ddbce-11cd-e111-941f-00259073dc22</td>\n",
       "      <td>2007</td>\n",
       "      <td>80.00</td>\n",
       "      <td>NaN</td>\n",
       "      <td>NaN</td>\n",
       "      <td>1968.0</td>\n",
       "      <td>female</td>\n",
       "    </tr>\n",
       "    <tr>\n",
       "      <td>2</td>\n",
       "      <td>5e4edbce-11cd-e111-941f-00259073dc22</td>\n",
       "      <td>2007</td>\n",
       "      <td>10000.00</td>\n",
       "      <td>NaN</td>\n",
       "      <td>NaN</td>\n",
       "      <td>1958.0</td>\n",
       "      <td>male</td>\n",
       "    </tr>\n",
       "    <tr>\n",
       "      <td>3</td>\n",
       "      <td>c150dbce-11cd-e111-941f-00259073dc22</td>\n",
       "      <td>2007</td>\n",
       "      <td>120.00</td>\n",
       "      <td>NaN</td>\n",
       "      <td>NaN</td>\n",
       "      <td>NaN</td>\n",
       "      <td>male</td>\n",
       "    </tr>\n",
       "    <tr>\n",
       "      <td>4</td>\n",
       "      <td>0b53dbce-11cd-e111-941f-00259073dc22</td>\n",
       "      <td>2007</td>\n",
       "      <td>500.16</td>\n",
       "      <td>NaN</td>\n",
       "      <td>NaN</td>\n",
       "      <td>1947.0</td>\n",
       "      <td>female</td>\n",
       "    </tr>\n",
       "  </tbody>\n",
       "</table>\n",
       "</div>"
      ],
      "text/plain": [
       "                              ContactId  Year  PledgeTotal VolType  \\\n",
       "0  874ddbce-11cd-e111-941f-00259073dc22  2007        52.00     NaN   \n",
       "1  9a4ddbce-11cd-e111-941f-00259073dc22  2007        80.00     NaN   \n",
       "2  5e4edbce-11cd-e111-941f-00259073dc22  2007     10000.00     NaN   \n",
       "3  c150dbce-11cd-e111-941f-00259073dc22  2007       120.00     NaN   \n",
       "4  0b53dbce-11cd-e111-941f-00259073dc22  2007       500.16     NaN   \n",
       "\n",
       "   VolunteerActivityCnt  BirthYear  Gender  \n",
       "0                   NaN     1977.0  female  \n",
       "1                   NaN     1968.0  female  \n",
       "2                   NaN     1958.0    male  \n",
       "3                   NaN        NaN    male  \n",
       "4                   NaN     1947.0  female  "
      ]
     },
     "execution_count": 3,
     "metadata": {},
     "output_type": "execute_result"
    }
   ],
   "source": [
    "# show the first 5 lines of the data\n",
    "df.head()"
   ]
  },
  {
   "cell_type": "code",
   "execution_count": 4,
   "metadata": {},
   "outputs": [
    {
     "data": {
      "text/plain": [
       "(385722, 7)"
      ]
     },
     "execution_count": 4,
     "metadata": {},
     "output_type": "execute_result"
    }
   ],
   "source": [
    "# show the number of rows and columns of the original data\n",
    "df.shape"
   ]
  },
  {
   "cell_type": "code",
   "execution_count": 5,
   "metadata": {},
   "outputs": [],
   "source": [
    "# drop Council, Committe, Board members\n",
    "df = df.drop(df[df.VolType == 'Council, Committe or Board'].index).fillna(0)\n",
    "\n",
    "# drop people who did not volunteer\n",
    "df = df.drop(df[df.VolType == 0].index)"
   ]
  },
  {
   "cell_type": "code",
   "execution_count": 6,
   "metadata": {},
   "outputs": [
    {
     "data": {
      "text/html": [
       "<div>\n",
       "<style scoped>\n",
       "    .dataframe tbody tr th:only-of-type {\n",
       "        vertical-align: middle;\n",
       "    }\n",
       "\n",
       "    .dataframe tbody tr th {\n",
       "        vertical-align: top;\n",
       "    }\n",
       "\n",
       "    .dataframe thead th {\n",
       "        text-align: right;\n",
       "    }\n",
       "</style>\n",
       "<table border=\"1\" class=\"dataframe\">\n",
       "  <thead>\n",
       "    <tr style=\"text-align: right;\">\n",
       "      <th></th>\n",
       "      <th>ContactId</th>\n",
       "      <th>Year</th>\n",
       "      <th>PledgeTotal</th>\n",
       "      <th>VolType</th>\n",
       "      <th>VolunteerActivityCnt</th>\n",
       "      <th>BirthYear</th>\n",
       "      <th>Gender</th>\n",
       "    </tr>\n",
       "  </thead>\n",
       "  <tbody>\n",
       "    <tr>\n",
       "      <td>379020</td>\n",
       "      <td>b13d80dc-532f-e211-a46f-404056a2f946</td>\n",
       "      <td>2016</td>\n",
       "      <td>750.0</td>\n",
       "      <td>Standard</td>\n",
       "      <td>1.0</td>\n",
       "      <td>1984.0</td>\n",
       "      <td>female</td>\n",
       "    </tr>\n",
       "    <tr>\n",
       "      <td>382286</td>\n",
       "      <td>d14ab7d0-11cd-e111-941f-00259073dc22</td>\n",
       "      <td>2014</td>\n",
       "      <td>0.0</td>\n",
       "      <td>Standard</td>\n",
       "      <td>1.0</td>\n",
       "      <td>1948.0</td>\n",
       "      <td>female</td>\n",
       "    </tr>\n",
       "    <tr>\n",
       "      <td>382549</td>\n",
       "      <td>4927258b-57c9-e211-a0e0-4040184c1c1a</td>\n",
       "      <td>2012</td>\n",
       "      <td>0.0</td>\n",
       "      <td>Standard</td>\n",
       "      <td>1.0</td>\n",
       "      <td>0.0</td>\n",
       "      <td>female</td>\n",
       "    </tr>\n",
       "    <tr>\n",
       "      <td>379470</td>\n",
       "      <td>113815d2-11cd-e111-941f-00259073dc22</td>\n",
       "      <td>2012</td>\n",
       "      <td>156.0</td>\n",
       "      <td>Standard</td>\n",
       "      <td>1.0</td>\n",
       "      <td>0.0</td>\n",
       "      <td>male</td>\n",
       "    </tr>\n",
       "    <tr>\n",
       "      <td>382428</td>\n",
       "      <td>ced0ece2-f8c9-e211-a0e0-4040184c1c1a</td>\n",
       "      <td>2012</td>\n",
       "      <td>0.0</td>\n",
       "      <td>Standard</td>\n",
       "      <td>1.0</td>\n",
       "      <td>0.0</td>\n",
       "      <td>male</td>\n",
       "    </tr>\n",
       "  </tbody>\n",
       "</table>\n",
       "</div>"
      ],
      "text/plain": [
       "                                   ContactId  Year  PledgeTotal   VolType  \\\n",
       "379020  b13d80dc-532f-e211-a46f-404056a2f946  2016        750.0  Standard   \n",
       "382286  d14ab7d0-11cd-e111-941f-00259073dc22  2014          0.0  Standard   \n",
       "382549  4927258b-57c9-e211-a0e0-4040184c1c1a  2012          0.0  Standard   \n",
       "379470  113815d2-11cd-e111-941f-00259073dc22  2012        156.0  Standard   \n",
       "382428  ced0ece2-f8c9-e211-a0e0-4040184c1c1a  2012          0.0  Standard   \n",
       "\n",
       "        VolunteerActivityCnt  BirthYear  Gender  \n",
       "379020                   1.0     1984.0  female  \n",
       "382286                   1.0     1948.0  female  \n",
       "382549                   1.0        0.0  female  \n",
       "379470                   1.0        0.0    male  \n",
       "382428                   1.0        0.0    male  "
      ]
     },
     "execution_count": 6,
     "metadata": {},
     "output_type": "execute_result"
    }
   ],
   "source": [
    "df.sample(5)"
   ]
  },
  {
   "cell_type": "code",
   "execution_count": 7,
   "metadata": {},
   "outputs": [
    {
     "data": {
      "text/plain": [
       "(8439, 7)"
      ]
     },
     "execution_count": 7,
     "metadata": {},
     "output_type": "execute_result"
    }
   ],
   "source": [
    "df.shape"
   ]
  },
  {
   "cell_type": "code",
   "execution_count": 8,
   "metadata": {},
   "outputs": [],
   "source": [
    "df_year = df.groupby('Year').count().reset_index()"
   ]
  },
  {
   "cell_type": "code",
   "execution_count": 9,
   "metadata": {},
   "outputs": [
    {
     "data": {
      "text/html": [
       "<div>\n",
       "<style scoped>\n",
       "    .dataframe tbody tr th:only-of-type {\n",
       "        vertical-align: middle;\n",
       "    }\n",
       "\n",
       "    .dataframe tbody tr th {\n",
       "        vertical-align: top;\n",
       "    }\n",
       "\n",
       "    .dataframe thead th {\n",
       "        text-align: right;\n",
       "    }\n",
       "</style>\n",
       "<table border=\"1\" class=\"dataframe\">\n",
       "  <thead>\n",
       "    <tr style=\"text-align: right;\">\n",
       "      <th></th>\n",
       "      <th>Year</th>\n",
       "      <th>ContactId</th>\n",
       "      <th>PledgeTotal</th>\n",
       "      <th>VolType</th>\n",
       "      <th>VolunteerActivityCnt</th>\n",
       "      <th>BirthYear</th>\n",
       "      <th>Gender</th>\n",
       "    </tr>\n",
       "  </thead>\n",
       "  <tbody>\n",
       "    <tr>\n",
       "      <td>0</td>\n",
       "      <td>2010</td>\n",
       "      <td>318</td>\n",
       "      <td>318</td>\n",
       "      <td>318</td>\n",
       "      <td>318</td>\n",
       "      <td>318</td>\n",
       "      <td>318</td>\n",
       "    </tr>\n",
       "    <tr>\n",
       "      <td>1</td>\n",
       "      <td>2011</td>\n",
       "      <td>1263</td>\n",
       "      <td>1263</td>\n",
       "      <td>1263</td>\n",
       "      <td>1263</td>\n",
       "      <td>1263</td>\n",
       "      <td>1263</td>\n",
       "    </tr>\n",
       "    <tr>\n",
       "      <td>2</td>\n",
       "      <td>2012</td>\n",
       "      <td>2145</td>\n",
       "      <td>2145</td>\n",
       "      <td>2145</td>\n",
       "      <td>2145</td>\n",
       "      <td>2145</td>\n",
       "      <td>2145</td>\n",
       "    </tr>\n",
       "    <tr>\n",
       "      <td>3</td>\n",
       "      <td>2013</td>\n",
       "      <td>1533</td>\n",
       "      <td>1533</td>\n",
       "      <td>1533</td>\n",
       "      <td>1533</td>\n",
       "      <td>1533</td>\n",
       "      <td>1533</td>\n",
       "    </tr>\n",
       "    <tr>\n",
       "      <td>4</td>\n",
       "      <td>2014</td>\n",
       "      <td>410</td>\n",
       "      <td>410</td>\n",
       "      <td>410</td>\n",
       "      <td>410</td>\n",
       "      <td>410</td>\n",
       "      <td>410</td>\n",
       "    </tr>\n",
       "    <tr>\n",
       "      <td>5</td>\n",
       "      <td>2015</td>\n",
       "      <td>661</td>\n",
       "      <td>661</td>\n",
       "      <td>661</td>\n",
       "      <td>661</td>\n",
       "      <td>661</td>\n",
       "      <td>661</td>\n",
       "    </tr>\n",
       "    <tr>\n",
       "      <td>6</td>\n",
       "      <td>2016</td>\n",
       "      <td>797</td>\n",
       "      <td>797</td>\n",
       "      <td>797</td>\n",
       "      <td>797</td>\n",
       "      <td>797</td>\n",
       "      <td>797</td>\n",
       "    </tr>\n",
       "    <tr>\n",
       "      <td>7</td>\n",
       "      <td>2017</td>\n",
       "      <td>657</td>\n",
       "      <td>657</td>\n",
       "      <td>657</td>\n",
       "      <td>657</td>\n",
       "      <td>657</td>\n",
       "      <td>657</td>\n",
       "    </tr>\n",
       "    <tr>\n",
       "      <td>8</td>\n",
       "      <td>2018</td>\n",
       "      <td>338</td>\n",
       "      <td>338</td>\n",
       "      <td>338</td>\n",
       "      <td>338</td>\n",
       "      <td>338</td>\n",
       "      <td>338</td>\n",
       "    </tr>\n",
       "    <tr>\n",
       "      <td>9</td>\n",
       "      <td>2019</td>\n",
       "      <td>317</td>\n",
       "      <td>317</td>\n",
       "      <td>317</td>\n",
       "      <td>317</td>\n",
       "      <td>317</td>\n",
       "      <td>317</td>\n",
       "    </tr>\n",
       "  </tbody>\n",
       "</table>\n",
       "</div>"
      ],
      "text/plain": [
       "   Year  ContactId  PledgeTotal  VolType  VolunteerActivityCnt  BirthYear  \\\n",
       "0  2010        318          318      318                   318        318   \n",
       "1  2011       1263         1263     1263                  1263       1263   \n",
       "2  2012       2145         2145     2145                  2145       2145   \n",
       "3  2013       1533         1533     1533                  1533       1533   \n",
       "4  2014        410          410      410                   410        410   \n",
       "5  2015        661          661      661                   661        661   \n",
       "6  2016        797          797      797                   797        797   \n",
       "7  2017        657          657      657                   657        657   \n",
       "8  2018        338          338      338                   338        338   \n",
       "9  2019        317          317      317                   317        317   \n",
       "\n",
       "   Gender  \n",
       "0     318  \n",
       "1    1263  \n",
       "2    2145  \n",
       "3    1533  \n",
       "4     410  \n",
       "5     661  \n",
       "6     797  \n",
       "7     657  \n",
       "8     338  \n",
       "9     317  "
      ]
     },
     "execution_count": 9,
     "metadata": {},
     "output_type": "execute_result"
    }
   ],
   "source": [
    "df_year.head(10)"
   ]
  },
  {
   "cell_type": "markdown",
   "metadata": {},
   "source": [
    "### 1.  Total number of Standard volunteers:"
   ]
  },
  {
   "cell_type": "code",
   "execution_count": 10,
   "metadata": {},
   "outputs": [
    {
     "data": {
      "text/plain": [
       "Text(0.5, 1.0, 'Number of Standard volunteers by year')"
      ]
     },
     "execution_count": 10,
     "metadata": {},
     "output_type": "execute_result"
    },
    {
     "data": {
      "image/png": "[encoded data removed]",
      "text/plain": [
       "<Figure size 864x432 with 1 Axes>"
      ]
     },
     "metadata": {
      "needs_background": "light"
     },
     "output_type": "display_data"
    }
   ],
   "source": [
    "ax = df_year.plot.bar(x = 'Year', y = 'ContactId', figsize=(12, 6))\n",
    "ax.grid()\n",
    "plt.xlabel(\"Year\")\n",
    "plt.ylabel('Count')\n",
    "plt.title('Number of Standard volunteers by year')"
   ]
  },
  {
   "cell_type": "code",
   "execution_count": 11,
   "metadata": {},
   "outputs": [],
   "source": [
    "df_donators = df.drop(df[df.PledgeTotal == 0].index)"
   ]
  },
  {
   "cell_type": "code",
   "execution_count": 12,
   "metadata": {},
   "outputs": [],
   "source": [
    "df_donators = df_donators.groupby('Year').count().reset_index()"
   ]
  },
  {
   "cell_type": "markdown",
   "metadata": {},
   "source": [
    "### 2.  Number of Standard donators:"
   ]
  },
  {
   "cell_type": "code",
   "execution_count": 13,
   "metadata": {},
   "outputs": [
    {
     "data": {
      "text/plain": [
       "Text(0.5, 1.0, \"Number of Standard 'donators' by year\")"
      ]
     },
     "execution_count": 13,
     "metadata": {},
     "output_type": "execute_result"
    },
    {
     "data": {
      "image/png": "[encoded data removed]",
      "text/plain": [
       "<Figure size 864x432 with 1 Axes>"
      ]
     },
     "metadata": {
      "needs_background": "light"
     },
     "output_type": "display_data"
    }
   ],
   "source": [
    "ax = df_donators.plot.bar(x = 'Year', y = 'ContactId', figsize=(12, 6))\n",
    "ax.grid()\n",
    "plt.xlabel(\"Year\")\n",
    "plt.ylabel('Count')\n",
    "plt.title(\"Number of Standard 'donators' by year\")"
   ]
  },
  {
   "cell_type": "code",
   "execution_count": 14,
   "metadata": {},
   "outputs": [],
   "source": [
    "df_new = pd.merge(df_year, df_donators, how='left', left_on=['Year'], right_on = ['Year'])"
   ]
  },
  {
   "cell_type": "code",
   "execution_count": 15,
   "metadata": {},
   "outputs": [],
   "source": [
    "df_new['percent'] = df_new.ContactId_y/df_new.ContactId_x"
   ]
  },
  {
   "cell_type": "markdown",
   "metadata": {},
   "source": [
    "### 3.  Percentage of donators per Standard volunteer:"
   ]
  },
  {
   "cell_type": "code",
   "execution_count": 16,
   "metadata": {},
   "outputs": [
    {
     "data": {
      "text/plain": [
       "Text(0.5, 1.0, 'Percentage of donators per Standard volunteer')"
      ]
     },
     "execution_count": 16,
     "metadata": {},
     "output_type": "execute_result"
    },
    {
     "data": {
      "image/png": "[encoded data removed]",
      "text/plain": [
       "<Figure size 864x432 with 1 Axes>"
      ]
     },
     "metadata": {
      "needs_background": "light"
     },
     "output_type": "display_data"
    }
   ],
   "source": [
    "ax = df_new.plot.bar(x = 'Year', y = 'percent', figsize=(12, 6))\n",
    "ax.grid()\n",
    "plt.xlabel(\"Year\")\n",
    "plt.ylabel('Count')\n",
    "plt.title(\"Percentage of donators per Standard volunteer\")"
   ]
  },
  {
   "cell_type": "code",
   "execution_count": 17,
   "metadata": {},
   "outputs": [],
   "source": [
    "df_dollar = df.groupby('Year').sum().reset_index()"
   ]
  },
  {
   "cell_type": "code",
   "execution_count": 18,
   "metadata": {},
   "outputs": [
    {
     "data": {
      "text/html": [
       "<div>\n",
       "<style scoped>\n",
       "    .dataframe tbody tr th:only-of-type {\n",
       "        vertical-align: middle;\n",
       "    }\n",
       "\n",
       "    .dataframe tbody tr th {\n",
       "        vertical-align: top;\n",
       "    }\n",
       "\n",
       "    .dataframe thead th {\n",
       "        text-align: right;\n",
       "    }\n",
       "</style>\n",
       "<table border=\"1\" class=\"dataframe\">\n",
       "  <thead>\n",
       "    <tr style=\"text-align: right;\">\n",
       "      <th></th>\n",
       "      <th>Year</th>\n",
       "      <th>PledgeTotal</th>\n",
       "      <th>VolunteerActivityCnt</th>\n",
       "      <th>BirthYear</th>\n",
       "    </tr>\n",
       "  </thead>\n",
       "  <tbody>\n",
       "    <tr>\n",
       "      <td>0</td>\n",
       "      <td>2010</td>\n",
       "      <td>103374.83</td>\n",
       "      <td>347.0</td>\n",
       "      <td>246222.0</td>\n",
       "    </tr>\n",
       "    <tr>\n",
       "      <td>1</td>\n",
       "      <td>2011</td>\n",
       "      <td>208824.67</td>\n",
       "      <td>1322.0</td>\n",
       "      <td>622140.0</td>\n",
       "    </tr>\n",
       "    <tr>\n",
       "      <td>2</td>\n",
       "      <td>2012</td>\n",
       "      <td>380044.49</td>\n",
       "      <td>2240.0</td>\n",
       "      <td>1133082.0</td>\n",
       "    </tr>\n",
       "    <tr>\n",
       "      <td>3</td>\n",
       "      <td>2013</td>\n",
       "      <td>279998.00</td>\n",
       "      <td>1667.0</td>\n",
       "      <td>670224.0</td>\n",
       "    </tr>\n",
       "    <tr>\n",
       "      <td>4</td>\n",
       "      <td>2014</td>\n",
       "      <td>249306.03</td>\n",
       "      <td>696.0</td>\n",
       "      <td>321063.0</td>\n",
       "    </tr>\n",
       "    <tr>\n",
       "      <td>5</td>\n",
       "      <td>2015</td>\n",
       "      <td>247659.65</td>\n",
       "      <td>938.0</td>\n",
       "      <td>440565.0</td>\n",
       "    </tr>\n",
       "    <tr>\n",
       "      <td>6</td>\n",
       "      <td>2016</td>\n",
       "      <td>202918.67</td>\n",
       "      <td>1236.0</td>\n",
       "      <td>546128.0</td>\n",
       "    </tr>\n",
       "    <tr>\n",
       "      <td>7</td>\n",
       "      <td>2017</td>\n",
       "      <td>301243.45</td>\n",
       "      <td>854.0</td>\n",
       "      <td>474863.0</td>\n",
       "    </tr>\n",
       "    <tr>\n",
       "      <td>8</td>\n",
       "      <td>2018</td>\n",
       "      <td>297203.32</td>\n",
       "      <td>449.0</td>\n",
       "      <td>305867.0</td>\n",
       "    </tr>\n",
       "    <tr>\n",
       "      <td>9</td>\n",
       "      <td>2019</td>\n",
       "      <td>31677.89</td>\n",
       "      <td>368.0</td>\n",
       "      <td>197505.0</td>\n",
       "    </tr>\n",
       "  </tbody>\n",
       "</table>\n",
       "</div>"
      ],
      "text/plain": [
       "   Year  PledgeTotal  VolunteerActivityCnt  BirthYear\n",
       "0  2010    103374.83                 347.0   246222.0\n",
       "1  2011    208824.67                1322.0   622140.0\n",
       "2  2012    380044.49                2240.0  1133082.0\n",
       "3  2013    279998.00                1667.0   670224.0\n",
       "4  2014    249306.03                 696.0   321063.0\n",
       "5  2015    247659.65                 938.0   440565.0\n",
       "6  2016    202918.67                1236.0   546128.0\n",
       "7  2017    301243.45                 854.0   474863.0\n",
       "8  2018    297203.32                 449.0   305867.0\n",
       "9  2019     31677.89                 368.0   197505.0"
      ]
     },
     "execution_count": 18,
     "metadata": {},
     "output_type": "execute_result"
    }
   ],
   "source": [
    "df_dollar"
   ]
  },
  {
   "cell_type": "markdown",
   "metadata": {},
   "source": [
    "### 4.  Total Standard volunteer donations:"
   ]
  },
  {
   "cell_type": "code",
   "execution_count": 19,
   "metadata": {},
   "outputs": [
    {
     "data": {
      "text/plain": [
       "Text(0.5, 1.0, 'Total donations per Standard volunteer')"
      ]
     },
     "execution_count": 19,
     "metadata": {},
     "output_type": "execute_result"
    },
    {
     "data": {
      "image/png": "[encoded data removed]",
      "text/plain": [
       "<Figure size 864x432 with 1 Axes>"
      ]
     },
     "metadata": {
      "needs_background": "light"
     },
     "output_type": "display_data"
    }
   ],
   "source": [
    "ax = df_dollar.plot.bar(x = 'Year', y = 'PledgeTotal', figsize=(12, 6))\n",
    "ax.grid()\n",
    "plt.xlabel(\"Year\")\n",
    "plt.ylabel('Dollar amount')\n",
    "plt.title(\"Total donations per Standard volunteer\")"
   ]
  },
  {
   "cell_type": "code",
   "execution_count": 20,
   "metadata": {},
   "outputs": [],
   "source": [
    "# drop people who did not donate\n",
    "df_avg = df.drop(df[df.PledgeTotal == 0].index)"
   ]
  },
  {
   "cell_type": "code",
   "execution_count": 21,
   "metadata": {},
   "outputs": [
    {
     "data": {
      "text/html": [
       "<div>\n",
       "<style scoped>\n",
       "    .dataframe tbody tr th:only-of-type {\n",
       "        vertical-align: middle;\n",
       "    }\n",
       "\n",
       "    .dataframe tbody tr th {\n",
       "        vertical-align: top;\n",
       "    }\n",
       "\n",
       "    .dataframe thead th {\n",
       "        text-align: right;\n",
       "    }\n",
       "</style>\n",
       "<table border=\"1\" class=\"dataframe\">\n",
       "  <thead>\n",
       "    <tr style=\"text-align: right;\">\n",
       "      <th></th>\n",
       "      <th>ContactId</th>\n",
       "      <th>Year</th>\n",
       "      <th>PledgeTotal</th>\n",
       "      <th>VolType</th>\n",
       "      <th>VolunteerActivityCnt</th>\n",
       "      <th>BirthYear</th>\n",
       "      <th>Gender</th>\n",
       "    </tr>\n",
       "  </thead>\n",
       "  <tbody>\n",
       "    <tr>\n",
       "      <td>375806</td>\n",
       "      <td>49cf82d3-a409-e311-95aa-4040184c1c1a</td>\n",
       "      <td>2018</td>\n",
       "      <td>11500.0</td>\n",
       "      <td>Standard</td>\n",
       "      <td>1.0</td>\n",
       "      <td>1964.0</td>\n",
       "      <td>male</td>\n",
       "    </tr>\n",
       "    <tr>\n",
       "      <td>376124</td>\n",
       "      <td>508d9fcb-7cfc-e811-8122-0050569e2a4f</td>\n",
       "      <td>2019</td>\n",
       "      <td>260.0</td>\n",
       "      <td>Standard</td>\n",
       "      <td>1.0</td>\n",
       "      <td>1996.0</td>\n",
       "      <td>female</td>\n",
       "    </tr>\n",
       "    <tr>\n",
       "      <td>376125</td>\n",
       "      <td>c059dbce-11cd-e111-941f-00259073dc22</td>\n",
       "      <td>2019</td>\n",
       "      <td>2500.0</td>\n",
       "      <td>Standard</td>\n",
       "      <td>1.0</td>\n",
       "      <td>0.0</td>\n",
       "      <td>female</td>\n",
       "    </tr>\n",
       "    <tr>\n",
       "      <td>376860</td>\n",
       "      <td>306b218c-01b2-e811-80fb-0050569e2a4f</td>\n",
       "      <td>2019</td>\n",
       "      <td>400.0</td>\n",
       "      <td>Standard</td>\n",
       "      <td>1.0</td>\n",
       "      <td>0.0</td>\n",
       "      <td>male</td>\n",
       "    </tr>\n",
       "    <tr>\n",
       "      <td>376861</td>\n",
       "      <td>89bb62d1-11cd-e111-941f-00259073dc22</td>\n",
       "      <td>2018</td>\n",
       "      <td>130.0</td>\n",
       "      <td>Standard</td>\n",
       "      <td>1.0</td>\n",
       "      <td>1977.0</td>\n",
       "      <td>female</td>\n",
       "    </tr>\n",
       "  </tbody>\n",
       "</table>\n",
       "</div>"
      ],
      "text/plain": [
       "                                   ContactId  Year  PledgeTotal   VolType  \\\n",
       "375806  49cf82d3-a409-e311-95aa-4040184c1c1a  2018      11500.0  Standard   \n",
       "376124  508d9fcb-7cfc-e811-8122-0050569e2a4f  2019        260.0  Standard   \n",
       "376125  c059dbce-11cd-e111-941f-00259073dc22  2019       2500.0  Standard   \n",
       "376860  306b218c-01b2-e811-80fb-0050569e2a4f  2019        400.0  Standard   \n",
       "376861  89bb62d1-11cd-e111-941f-00259073dc22  2018        130.0  Standard   \n",
       "\n",
       "        VolunteerActivityCnt  BirthYear  Gender  \n",
       "375806                   1.0     1964.0    male  \n",
       "376124                   1.0     1996.0  female  \n",
       "376125                   1.0        0.0  female  \n",
       "376860                   1.0        0.0    male  \n",
       "376861                   1.0     1977.0  female  "
      ]
     },
     "execution_count": 21,
     "metadata": {},
     "output_type": "execute_result"
    }
   ],
   "source": [
    "df_avg.head()"
   ]
  },
  {
   "cell_type": "markdown",
   "metadata": {},
   "source": [
    "### 5.  Average donation when Standard volunteers donated:"
   ]
  },
  {
   "cell_type": "code",
   "execution_count": 22,
   "metadata": {},
   "outputs": [
    {
     "data": {
      "image/png": "[encoded data removed]",
      "text/plain": [
       "<Figure size 864x432 with 1 Axes>"
      ]
     },
     "metadata": {},
     "output_type": "display_data"
    }
   ],
   "source": [
    "sns.set(style=\"whitegrid\", rc={'figure.figsize':(12, 6)})\n",
    "sns.barplot(x='Year', y='PledgeTotal', ci=95, data=df_avg)\n",
    "# plt.xlabel('0 = Volunteer, 1 = Non Volunteer')\n",
    "plt.ylabel('Average donation')\n",
    "plt.title('Average donation when Standard volunteers donated')\n",
    "plt.show()"
   ]
  },
  {
   "cell_type": "markdown",
   "metadata": {},
   "source": [
    "The black vertical lines in the above graph show the range that the mean could take with 95% confidence.  \n",
    "\n",
    "Remember, the average donation for a Non Volunteer is about **260 USD**."
   ]
  }
 ],
 "metadata": {
  "kernelspec": {
   "display_name": "Python 3",
   "language": "python",
   "name": "python3"
  },
  "language_info": {
   "codemirror_mode": {
    "name": "ipython",
    "version": 3
   },
   "file_extension": ".py",
   "mimetype": "text/x-python",
   "name": "python",
   "nbconvert_exporter": "python",
   "pygments_lexer": "ipython3",
   "version": "3.7.4"
  }
 },
 "nbformat": 4,
 "nbformat_minor": 2
}
