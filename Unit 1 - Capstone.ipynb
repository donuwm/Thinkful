{
 "cells": [
  {
   "cell_type": "markdown",
   "metadata": {},
   "source": [
    "# Narrative Analytice and Experimentation\n",
    "### The question here is whether the stock market, in this case, the S&P 500, performs worse on days where there is precipitation in New York City."
   ]
  },
  {
   "cell_type": "markdown",
   "metadata": {},
   "source": [
    "By: Fred Etter\n",
    "\n",
    "Data:\n",
    "\n",
    "__2016 S&P 500 Return__. The S&P 500 Price index returned **9.84%** in 2016 – \n",
    "and that is the number you'll see quoted most often in the press. \n",
    "However, a more extensive calculation including dividends reveals \n",
    "that the true 2016 S&P 500 return was roughly **12.25%**.Dec 31, 2016\n",
    "\n",
    "The source for the above information is: [dqydj.com](https://dqydj.com/2016-sp-500-return/)\n",
    "\n",
    "Daily return data would be obtained from [Yahoo finance](https://finance.yahoo.com/)\n",
    "\n",
    "Precipitation data was obtained from [Kaggle](https://www.kaggle.com/mathijs/weather-data-in-new-york-city-2016).\n",
    "\n",
    "Key Terms:\n",
    "\n",
    "About DQYDJ **(Don't Quit Your Day Job)**:  \"DQYDJ is a personal finance site with a twist – we produce original research, \n",
    "visualizations, calculators and tools for our readers, along with some of the \n",
    "most well researched investing and economics articles you can find on the web.\"\n"
   ]
  },
  {
   "cell_type": "markdown",
   "metadata": {},
   "source": [
    "### Exploratory Data Analysis"
   ]
  },
  {
   "cell_type": "code",
   "execution_count": 30,
   "metadata": {},
   "outputs": [],
   "source": [
    "# import modules\n",
    "import pandas as pd\n",
    "import numpy as np\n",
    "import matplotlib.pyplot as plt\n",
    "import seaborn as sns"
   ]
  },
  {
   "cell_type": "code",
   "execution_count": 52,
   "metadata": {},
   "outputs": [
    {
     "name": "stdout",
     "output_type": "stream",
     "text": [
      "366\n"
     ]
    },
    {
     "data": {
      "text/html": [
       "<div>\n",
       "<style scoped>\n",
       "    .dataframe tbody tr th:only-of-type {\n",
       "        vertical-align: middle;\n",
       "    }\n",
       "\n",
       "    .dataframe tbody tr th {\n",
       "        vertical-align: top;\n",
       "    }\n",
       "\n",
       "    .dataframe thead th {\n",
       "        text-align: right;\n",
       "    }\n",
       "</style>\n",
       "<table border=\"1\" class=\"dataframe\">\n",
       "  <thead>\n",
       "    <tr style=\"text-align: right;\">\n",
       "      <th></th>\n",
       "      <th>date</th>\n",
       "      <th>maximum temperature</th>\n",
       "      <th>minimum temperature</th>\n",
       "      <th>average temperature</th>\n",
       "      <th>precipitation</th>\n",
       "      <th>snow fall</th>\n",
       "      <th>snow depth</th>\n",
       "    </tr>\n",
       "  </thead>\n",
       "  <tbody>\n",
       "    <tr>\n",
       "      <th>0</th>\n",
       "      <td>1-1-2016</td>\n",
       "      <td>42</td>\n",
       "      <td>34</td>\n",
       "      <td>38.0</td>\n",
       "      <td>0.00</td>\n",
       "      <td>0.0</td>\n",
       "      <td>0</td>\n",
       "    </tr>\n",
       "    <tr>\n",
       "      <th>1</th>\n",
       "      <td>2-1-2016</td>\n",
       "      <td>40</td>\n",
       "      <td>32</td>\n",
       "      <td>36.0</td>\n",
       "      <td>0.00</td>\n",
       "      <td>0.0</td>\n",
       "      <td>0</td>\n",
       "    </tr>\n",
       "    <tr>\n",
       "      <th>2</th>\n",
       "      <td>3-1-2016</td>\n",
       "      <td>45</td>\n",
       "      <td>35</td>\n",
       "      <td>40.0</td>\n",
       "      <td>0.00</td>\n",
       "      <td>0.0</td>\n",
       "      <td>0</td>\n",
       "    </tr>\n",
       "    <tr>\n",
       "      <th>3</th>\n",
       "      <td>4-1-2016</td>\n",
       "      <td>36</td>\n",
       "      <td>14</td>\n",
       "      <td>25.0</td>\n",
       "      <td>0.00</td>\n",
       "      <td>0.0</td>\n",
       "      <td>0</td>\n",
       "    </tr>\n",
       "    <tr>\n",
       "      <th>4</th>\n",
       "      <td>5-1-2016</td>\n",
       "      <td>29</td>\n",
       "      <td>11</td>\n",
       "      <td>20.0</td>\n",
       "      <td>0.00</td>\n",
       "      <td>0.0</td>\n",
       "      <td>0</td>\n",
       "    </tr>\n",
       "    <tr>\n",
       "      <th>5</th>\n",
       "      <td>6-1-2016</td>\n",
       "      <td>41</td>\n",
       "      <td>25</td>\n",
       "      <td>33.0</td>\n",
       "      <td>0.00</td>\n",
       "      <td>0.0</td>\n",
       "      <td>0</td>\n",
       "    </tr>\n",
       "    <tr>\n",
       "      <th>6</th>\n",
       "      <td>7-1-2016</td>\n",
       "      <td>46</td>\n",
       "      <td>31</td>\n",
       "      <td>38.5</td>\n",
       "      <td>0.00</td>\n",
       "      <td>0.0</td>\n",
       "      <td>0</td>\n",
       "    </tr>\n",
       "    <tr>\n",
       "      <th>7</th>\n",
       "      <td>8-1-2016</td>\n",
       "      <td>46</td>\n",
       "      <td>31</td>\n",
       "      <td>38.5</td>\n",
       "      <td>0.00</td>\n",
       "      <td>0.0</td>\n",
       "      <td>0</td>\n",
       "    </tr>\n",
       "    <tr>\n",
       "      <th>8</th>\n",
       "      <td>9-1-2016</td>\n",
       "      <td>47</td>\n",
       "      <td>40</td>\n",
       "      <td>43.5</td>\n",
       "      <td>T</td>\n",
       "      <td>0.0</td>\n",
       "      <td>0</td>\n",
       "    </tr>\n",
       "    <tr>\n",
       "      <th>9</th>\n",
       "      <td>10-1-2016</td>\n",
       "      <td>59</td>\n",
       "      <td>40</td>\n",
       "      <td>49.5</td>\n",
       "      <td>1.80</td>\n",
       "      <td>0.0</td>\n",
       "      <td>0</td>\n",
       "    </tr>\n",
       "  </tbody>\n",
       "</table>\n",
       "</div>"
      ],
      "text/plain": [
       "        date  maximum temperature  minimum temperature  average temperature  \\\n",
       "0   1-1-2016                   42                   34                 38.0   \n",
       "1   2-1-2016                   40                   32                 36.0   \n",
       "2   3-1-2016                   45                   35                 40.0   \n",
       "3   4-1-2016                   36                   14                 25.0   \n",
       "4   5-1-2016                   29                   11                 20.0   \n",
       "5   6-1-2016                   41                   25                 33.0   \n",
       "6   7-1-2016                   46                   31                 38.5   \n",
       "7   8-1-2016                   46                   31                 38.5   \n",
       "8   9-1-2016                   47                   40                 43.5   \n",
       "9  10-1-2016                   59                   40                 49.5   \n",
       "\n",
       "  precipitation snow fall snow depth  \n",
       "0          0.00       0.0          0  \n",
       "1          0.00       0.0          0  \n",
       "2          0.00       0.0          0  \n",
       "3          0.00       0.0          0  \n",
       "4          0.00       0.0          0  \n",
       "5          0.00       0.0          0  \n",
       "6          0.00       0.0          0  \n",
       "7          0.00       0.0          0  \n",
       "8             T       0.0          0  \n",
       "9          1.80       0.0          0  "
      ]
     },
     "execution_count": 52,
     "metadata": {},
     "output_type": "execute_result"
    }
   ],
   "source": [
    "# Import data\n",
    "df_rain = pd.read_csv('weather_data_nyc_centralpark_2016.csv')\n",
    "print(len(df_rain))\n",
    "#print(len(df_rain.iloc(['precipitation'!='0.00'])))\n",
    "df_rain.head(n=10)"
   ]
  },
  {
   "cell_type": "code",
   "execution_count": 39,
   "metadata": {},
   "outputs": [
    {
     "data": {
      "text/plain": [
       "date                    object\n",
       "maximum temperature      int64\n",
       "minimum temperature      int64\n",
       "average temperature    float64\n",
       "precipitation           object\n",
       "snow fall               object\n",
       "snow depth              object\n",
       "dtype: object"
      ]
     },
     "execution_count": 39,
     "metadata": {},
     "output_type": "execute_result"
    }
   ],
   "source": [
    "df_rain.dtypes"
   ]
  },
  {
   "cell_type": "markdown",
   "metadata": {},
   "source": [
    "#### Below is just an example of the maximum temperature in NYC in 2016; this has nothing to do with precipitation.  Precipitation data needs to be cleaned before presenting in graphical format."
   ]
  },
  {
   "cell_type": "code",
   "execution_count": 54,
   "metadata": {},
   "outputs": [
    {
     "data": {
      "image/png": "[encoded data removed]",
      "text/plain": [
       "<Figure size 360x360 with 1 Axes>"
      ]
     },
     "metadata": {},
     "output_type": "display_data"
    }
   ],
   "source": [
    "sns.set(style=\"ticks\")\n",
    "sns.catplot(x='date', y='maximum temperature', data=df_rain)\n",
    "plt.title('Maximim Temperature (Daily) in NYC in 2016')\n",
    "plt.show()\n"
   ]
  },
  {
   "cell_type": "markdown",
   "metadata": {},
   "source": [
    "#### Cleaning the data:\n",
    "\n",
    "- The \"precipitation\" column needs to be cleaned so that the rows where the value is 'T' are eliminated.\n",
    "- Values in the same column need to be converted to float for graphing and statistical analysis."
   ]
  },
  {
   "cell_type": "markdown",
   "metadata": {},
   "source": [
    "# Question: Does daily precipitation in New York City affect the daily performance of the S&P 500 ?"
   ]
  },
  {
   "cell_type": "markdown",
   "metadata": {},
   "source": [
    "### Statistical Analysis\n",
    "\n",
    "1.  The Hyothesis (H1) would be that any amount of precipitation adversely affects the average daily return of the S&P 500.\n",
    "2.  The Null Hypothesis (H0) would be that the study shows no significant difference between the average return for days where precipitation occurred versus days where precipitation did not occur."
   ]
  },
  {
   "cell_type": "markdown",
   "metadata": {},
   "source": [
    "#### Method:\n",
    "- Get the daily returns from Yahoo Finance of the S&P 500 to obtain the total return for days where there was precipitation according to the Kaggle data.  Obviously, if there was precipitation on a weekend, we do not care about that data point.\n",
    "- Run a t-test to compare the average return for precipiation days versus the total average of 12.25% as listed above (includes dividends).\n",
    "- Calculate the p-value based on the t-statistic; count the number of precipitation days to use for the sample size. \n",
    "- If the p-value is less than .05, then we can reject the null hypothesis and conclude that there was a significant difference in performance on precipitation days.\n",
    "\n",
    "#### Flaws:\n",
    "- If the precipitation average is lower than 12.25%, we may want to use 9.84% which is the return without dividends.  This is a more conservative (lower) estimate of the return which would make our study even more valid if we can reject the Null using this 9.84 number.\n",
    "- 2016 could have been a year where more precipitation than norm occurred or it could have been the opposite.  If not too many days of precipitation occurred, we may have a sample size that is too small to draw conclusions.\n",
    "- We would want to study other years in the past besides just 2016 because 2016 could have been an odd year and not consistent with returns on precipitation days for most other years.\n",
    "- The timing of the precipitation could be an issue.  If it rained from 3 to 4 am and was sunny and warm from 6 am onward, this is not really a 'precipitation' day even though it did rain.\n",
    "- Snow could have a different affect than rain.\n",
    "- Another source - [ycharts](https://ycharts.com/indicators/sandp_500_total_return_annual) lists the total return including dividends for 2016 as 11.96% (compared to our number of 12.25%)"
   ]
  },
  {
   "cell_type": "markdown",
   "metadata": {},
   "source": [
    "### Statistical Question:  Can we reject the Null Hypothesis ?\n",
    "\n",
    "#### If the p-value is less than .05, then we can reject the null hypothesis and conclude that there was a significant difference in performance on precipitation days.\n"
   ]
  },
  {
   "cell_type": "markdown",
   "metadata": {},
   "source": [
    "### Further Research\n",
    "- Run this study with other years in addition to year 2016.\n",
    "- Separate snow from rain days.\n",
    "- Look at the weather at a specific point in time during each trading day, for example, 9 am Eastern.\n",
    "- We could separate the non precipitation days and calculate the total return for those days to compare to the total return of the precipitation days.  This would be a little more work and may be worth it. "
   ]
  },
  {
   "cell_type": "markdown",
   "metadata": {},
   "source": [
    "### Conclusion\n",
    "\n",
    "- Even if we can reject the Null Hypothesis, we may not be able conclude that precipitation caused the lower total return.  The days of precipitation could have caused the subway system in NYC to break down and prevented many market participants from accessing the market in their normal manner, for example.\n",
    "- Furthermore, rejection of the Null could be caused by a significant **increase** in performance, which is not consistent with our original hypothesis (H1).\n",
    "- An additional note from Investopedia:  \"In fact, the financial media often blames a sluggish quarter of gross domestic product (GDP) growth or stock market performance on weather problems. ... One alternative theory, an offshoot of behavioral finance, states that weather clearly affects **mood**, and mood clearly affects investor behavior.\" Nov 10, 2015 [Investopedia](https://www.investopedia.com/articles/markets/111015/does-weather-affect-stock-market.asp)\n"
   ]
  },
  {
   "cell_type": "code",
   "execution_count": null,
   "metadata": {},
   "outputs": [],
   "source": []
  }
 ],
 "metadata": {
  "kernelspec": {
   "display_name": "Python 3",
   "language": "python",
   "name": "python3"
  },
  "language_info": {
   "codemirror_mode": {
    "name": "ipython",
    "version": 3
   },
   "file_extension": ".py",
   "mimetype": "text/x-python",
   "name": "python",
   "nbconvert_exporter": "python",
   "pygments_lexer": "ipython3",
   "version": "3.7.2"
  }
 },
 "nbformat": 4,
 "nbformat_minor": 2
}
