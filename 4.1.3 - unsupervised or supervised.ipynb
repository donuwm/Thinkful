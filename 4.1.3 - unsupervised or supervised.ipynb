{
 "cells": [
  {
   "cell_type": "markdown",
   "metadata": {},
   "source": [
    "For each of these scenarios decide if you could use supervised or unsupervised techniques, or both!  \n",
    "\n",
    "1.  Define the likelihood that an individual will contract a specific disease  \n",
    "\n",
    "    - supervised: you know the outcome you are trying to predict.\n",
    "\n",
    "2.  Translate a set of images into variables for modeling  \n",
    "\n",
    "    - unsupervised:  you don't know what the variables are or their correlations or predictve value\n",
    "\n",
    "3.  An ecommerce company wants to identify power users  \n",
    "    - unsupervised:  unsupervised for identifying groups or clusters of users.\n",
    "\n",
    "4.  That same company wants to see shopping patterns in users  \n",
    "    - unsupervised:  same as above; unsupervised to identify clusters or patterns of the data for different users\n",
    "\n",
    "5.  You want to reduce the number of variables inputting into your random forest model  \n",
    "    - unsupervised:  like PCA; you're looking for clusters of a single variable or multiple variables that are describing a situation and might have good predictive value.  \n",
    "\n",
    "\n"
   ]
  }
 ],
 "metadata": {
  "kernelspec": {
   "display_name": "Python 3",
   "language": "python",
   "name": "python3"
  },
  "language_info": {
   "codemirror_mode": {
    "name": "ipython",
    "version": 3
   },
   "file_extension": ".py",
   "mimetype": "text/x-python",
   "name": "python",
   "nbconvert_exporter": "python",
   "pygments_lexer": "ipython3",
   "version": "3.7.2"
  }
 },
 "nbformat": 4,
 "nbformat_minor": 2
}
