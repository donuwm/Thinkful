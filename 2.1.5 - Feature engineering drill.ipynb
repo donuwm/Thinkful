{
 "cells": [
  {
   "cell_type": "markdown",
   "metadata": {},
   "source": [
    "### Categorize each of the variables in the ESS dataset as categorical or continuous, and if continuous as ordinal, interval, or ratio variables. Check your work with your mentor, and discuss what that information might imply for feature engineering with this data.\n",
    "\n",
    "#### Variable:\n",
    "- cntry (Country):  categorical\n",
    "- year (ESS Round):  categorical\n",
    "- idno (Respondent's ID Number):  categorical\n",
    "- tvtot:  continuous, interval\n",
    "- ppltrst:  continuous, interval\n",
    "- pplfair:  continuous, interval\n",
    "- pplhlp:  continuous, interval\n",
    "- happy:  continuous, interval\n",
    "- sclmeet:  categorical\n",
    "- sclact:  categorical\n",
    "- gndr:  categorical\n",
    "- agea:  continuous, ratio\n",
    "- partner:  categorical"
   ]
  },
  {
   "cell_type": "code",
   "execution_count": null,
   "metadata": {},
   "outputs": [],
   "source": []
  }
 ],
 "metadata": {
  "kernelspec": {
   "display_name": "Python 3",
   "language": "python",
   "name": "python3"
  },
  "language_info": {
   "codemirror_mode": {
    "name": "ipython",
    "version": 3
   },
   "file_extension": ".py",
   "mimetype": "text/x-python",
   "name": "python",
   "nbconvert_exporter": "python",
   "pygments_lexer": "ipython3",
   "version": "3.7.2"
  }
 },
 "nbformat": 4,
 "nbformat_minor": 2
}
