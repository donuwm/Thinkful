{
 "cells": [
  {
   "cell_type": "markdown",
   "metadata": {},
   "source": [
    "### 1.  What was the hottest day in our data set? Where was that?\n",
    "~~~~\n",
    "SELECT\n",
    "\t* \n",
    "FROM\n",
    "\tweather\n",
    "ORDER BY \n",
    "\tmaxtemperaturef desc\n",
    "LIMIT 5;\n",
    "~~~~"
   ]
  },
  {
   "cell_type": "markdown",
   "metadata": {},
   "source": [
    "### 2.  How many trips started at each station?\n",
    "~~~~\n",
    "SELECT\n",
    "\tstart_station,\n",
    "\tCOUNT(*) as number_of_trips\n",
    "FROM\n",
    "\ttrips\n",
    "GROUP BY 1;\n",
    "~~~~\n"
   ]
  },
  {
   "cell_type": "markdown",
   "metadata": {},
   "source": [
    "### 3.  What's the shortest trip that happened?\n",
    "~~~~\n",
    "SELECT\n",
    "\t* \n",
    "FROM\n",
    "\ttrips\n",
    "ORDER BY \n",
    "\tduration asc\n",
    "LIMIT 30;\n",
    "~~~~\n"
   ]
  },
  {
   "cell_type": "markdown",
   "metadata": {},
   "source": [
    "### 4.  What is the average trip duration, by end station?\n",
    "~~~~\n",
    "SELECT\n",
    "\tend_station,\n",
    "\tAVG(duration)\n",
    "FROM\n",
    "\ttrips\n",
    "GROUP BY 1;\n",
    "~~~~\n"
   ]
  }
 ],
 "metadata": {
  "kernelspec": {
   "display_name": "Python 2",
   "language": "python",
   "name": "python2"
  },
  "language_info": {
   "codemirror_mode": {
    "name": "ipython",
    "version": 2
   },
   "file_extension": ".py",
   "mimetype": "text/x-python",
   "name": "python",
   "nbconvert_exporter": "python",
   "pygments_lexer": "ipython2",
   "version": "2.7.13"
  }
 },
 "nbformat": 4,
 "nbformat_minor": 2
}
