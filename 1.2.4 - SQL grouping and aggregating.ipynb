{
 "cells": [
  {
   "cell_type": "markdown",
   "metadata": {},
   "source": [
    "### 1.  What was the hottest day in our data set? Where was that?\n",
    "~~~~\n",
    "-- selecting just date and maxtemp columns for more readable output.\n",
    "SELECT\n",
    "    date,\n",
    "\tmaxtemperaturef\n",
    "FROM\n",
    "    weather\n",
    "ORDER BY \n",
    "    maxtemperaturef desc\n",
    "LIMIT 5;\n",
    "~~~~\n",
    "Output:\n",
    "~~~~\n",
    "\"2015-11-17\"\t\"134\"\n",
    "\"2015-09-11\"\t\"127\"\n",
    "\"2015-09-09\"\t\"98\"\n",
    "\"2015-09-08\"\t\"97\"\n",
    "\"2015-09-21\"\t\"97\"\n",
    "~~~~"
   ]
  },
  {
   "cell_type": "markdown",
   "metadata": {},
   "source": [
    "### 2.  How many trips started at each station?\n",
    "~~~~\n",
    "SELECT\n",
    "\tstart_station,\n",
    "    -- naming this output column as \"number_of_trips\"\n",
    "\tCOUNT(*) as number_of_trips\n",
    "FROM\n",
    "\ttrips\n",
    "GROUP BY 1\n",
    "LIMIT 5;\n",
    "~~~~\n",
    "Output:\n",
    "~~~~\n",
    "\"2nd at Folsom\"\t\"7464\"\n",
    "\"2nd at South Park\"\t\"7722\"\n",
    "\"2nd at Townsend\"\t\"14099\"\n",
    "\"5th at Howard\"\t\"5436\"\n",
    "\"5th S at E. San Salvador St\"\t\"19\"\n",
    "~~~~"
   ]
  },
  {
   "cell_type": "markdown",
   "metadata": {},
   "source": [
    "### 3.  What's the shortest trip that happened?\n",
    "~~~~\n",
    "SELECT\n",
    "    -- just select these two column for more readable output.\n",
    "    trip_id,\n",
    "\tduration\n",
    "FROM\n",
    "    trips\n",
    "ORDER BY \n",
    "    duration asc\n",
    "LIMIT 5;\n",
    "~~~~\n",
    "Output:\n",
    "~~~~\n",
    "\"1116337\"\t\"60\"\n",
    "\"1118729\"\t\"60\"\n",
    "\"1011650\"\t\"60\"\n",
    "\"1019313\"\t\"60\"\n",
    "\"1120267\"\t\"60\"\n",
    "~~~~"
   ]
  },
  {
   "cell_type": "markdown",
   "metadata": {},
   "source": [
    "### 4.  What is the average trip duration, by end station?\n",
    "~~~~\n",
    "SELECT\n",
    "\tend_station,\n",
    "\tAVG(duration)\n",
    "FROM\n",
    "\ttrips\n",
    "GROUP BY 1;\n",
    "~~~~\n",
    "Output:\n",
    "~~~~\n",
    "\"2nd at Folsom\"\t\"557.0507602339181287\"\n",
    "\"2nd at South Park\"\t\"531.5899035734543392\"\n",
    "\"2nd at Townsend\"\t\"633.2570440573770492\"\n",
    "\"5th at Howard\"\t\"583.5723111040709647\"\n",
    "\"5th S at E. San Salvador St\"\t\"1767.0000000000000000\"\n",
    "~~~~"
   ]
  }
 ],
 "metadata": {
  "kernelspec": {
   "display_name": "Python 2",
   "language": "python",
   "name": "python2"
  },
  "language_info": {
   "codemirror_mode": {
    "name": "ipython",
    "version": 2
   },
   "file_extension": ".py",
   "mimetype": "text/x-python",
   "name": "python",
   "nbconvert_exporter": "python",
   "pygments_lexer": "ipython2",
   "version": "2.7.13"
  }
 },
 "nbformat": 4,
 "nbformat_minor": 2
}
