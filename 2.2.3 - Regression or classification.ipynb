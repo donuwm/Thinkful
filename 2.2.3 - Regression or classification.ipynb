{
 "cells": [
  {
   "cell_type": "markdown",
   "metadata": {},
   "source": [
    "### For each of the following situations, decide if you would model using a regression or classification model. Discuss your reasoning with your mentor next time you meet.\n",
    "1.  The amount a person will spend on a given site in the next 24 months.\n",
    "    - regression\n",
    "2.  What color car someone is going to buy.\n",
    "    - classification\n",
    "3.  How many children a family will have.\n",
    "    - either\n",
    "4.  If someone will sign up for a service.\n",
    "    - classification\n",
    "5.  The number of times someone will get sick in a year.\n",
    "    - regression\n",
    "6.  The probability someone will get sick in the next month.\n",
    "    - classification\n",
    "7.  Which medicine will work best for a given patient.\n",
    "    - classification\n"
   ]
  },
  {
   "cell_type": "code",
   "execution_count": null,
   "metadata": {},
   "outputs": [],
   "source": []
  }
 ],
 "metadata": {
  "kernelspec": {
   "display_name": "Python 3",
   "language": "python",
   "name": "python3"
  },
  "language_info": {
   "codemirror_mode": {
    "name": "ipython",
    "version": 3
   },
   "file_extension": ".py",
   "mimetype": "text/x-python",
   "name": "python",
   "nbconvert_exporter": "python",
   "pygments_lexer": "ipython3",
   "version": "3.7.2"
  }
 },
 "nbformat": 4,
 "nbformat_minor": 2
}
