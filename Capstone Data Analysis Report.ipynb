{
 "cells": [
  {
   "cell_type": "code",
   "execution_count": 1,
   "metadata": {
    "collapsed": true
   },
   "outputs": [],
   "source": [
    "# import modules\n",
    "import pandas as pd\n",
    "import numpy as np\n",
    "import matplotlib.pyplot as plt"
   ]
  },
  {
   "cell_type": "code",
   "execution_count": 2,
   "metadata": {
    "collapsed": true
   },
   "outputs": [],
   "source": [
    "# Import data\n",
    "df_usd = pd.read_csv('btc_usd_sep2_nov30.csv')\n",
    "df_cme = pd.read_csv('btc_cme_sep2_nov30.txt')"
   ]
  },
  {
   "cell_type": "code",
   "execution_count": 8,
   "metadata": {},
   "outputs": [
    {
     "data": {
      "text/html": [
       "<div>\n",
       "<style>\n",
       "    .dataframe thead tr:only-child th {\n",
       "        text-align: right;\n",
       "    }\n",
       "\n",
       "    .dataframe thead th {\n",
       "        text-align: left;\n",
       "    }\n",
       "\n",
       "    .dataframe tbody tr th {\n",
       "        vertical-align: top;\n",
       "    }\n",
       "</style>\n",
       "<table border=\"1\" class=\"dataframe\">\n",
       "  <thead>\n",
       "    <tr style=\"text-align: right;\">\n",
       "      <th></th>\n",
       "      <th>Date</th>\n",
       "      <th>Open</th>\n",
       "      <th>High</th>\n",
       "      <th>Low</th>\n",
       "      <th>Close</th>\n",
       "      <th>Adj Close</th>\n",
       "      <th>Volume</th>\n",
       "    </tr>\n",
       "  </thead>\n",
       "  <tbody>\n",
       "    <tr>\n",
       "      <th>0</th>\n",
       "      <td>2018-09-02</td>\n",
       "      <td>7301.250000</td>\n",
       "      <td>7350.580078</td>\n",
       "      <td>7204.890137</td>\n",
       "      <td>7270.049805</td>\n",
       "      <td>7270.049805</td>\n",
       "      <td>309327793</td>\n",
       "    </tr>\n",
       "    <tr>\n",
       "      <th>1</th>\n",
       "      <td>2018-09-03</td>\n",
       "      <td>7270.049805</td>\n",
       "      <td>7417.649902</td>\n",
       "      <td>7246.759766</td>\n",
       "      <td>7369.859863</td>\n",
       "      <td>7369.859863</td>\n",
       "      <td>343762001</td>\n",
       "    </tr>\n",
       "    <tr>\n",
       "      <th>2</th>\n",
       "      <td>2018-09-04</td>\n",
       "      <td>7369.890137</td>\n",
       "      <td>7401.430176</td>\n",
       "      <td>6694.060059</td>\n",
       "      <td>6705.029785</td>\n",
       "      <td>6705.029785</td>\n",
       "      <td>797851163</td>\n",
       "    </tr>\n",
       "    <tr>\n",
       "      <th>3</th>\n",
       "      <td>2018-09-05</td>\n",
       "      <td>6705.060059</td>\n",
       "      <td>6727.189941</td>\n",
       "      <td>6295.109863</td>\n",
       "      <td>6515.419922</td>\n",
       "      <td>6515.419922</td>\n",
       "      <td>823309044</td>\n",
       "    </tr>\n",
       "    <tr>\n",
       "      <th>4</th>\n",
       "      <td>2018-09-06</td>\n",
       "      <td>6515.419922</td>\n",
       "      <td>6549.390137</td>\n",
       "      <td>6345.479980</td>\n",
       "      <td>6411.779785</td>\n",
       "      <td>6411.779785</td>\n",
       "      <td>344487244</td>\n",
       "    </tr>\n",
       "  </tbody>\n",
       "</table>\n",
       "</div>"
      ],
      "text/plain": [
       "         Date         Open         High          Low        Close  \\\n",
       "0  2018-09-02  7301.250000  7350.580078  7204.890137  7270.049805   \n",
       "1  2018-09-03  7270.049805  7417.649902  7246.759766  7369.859863   \n",
       "2  2018-09-04  7369.890137  7401.430176  6694.060059  6705.029785   \n",
       "3  2018-09-05  6705.060059  6727.189941  6295.109863  6515.419922   \n",
       "4  2018-09-06  6515.419922  6549.390137  6345.479980  6411.779785   \n",
       "\n",
       "     Adj Close     Volume  \n",
       "0  7270.049805  309327793  \n",
       "1  7369.859863  343762001  \n",
       "2  6705.029785  797851163  \n",
       "3  6515.419922  823309044  \n",
       "4  6411.779785  344487244  "
      ]
     },
     "execution_count": 8,
     "metadata": {},
     "output_type": "execute_result"
    }
   ],
   "source": [
    "# print 1st 5 rows of df_usd\n",
    "df_usd.head()"
   ]
  },
  {
   "cell_type": "code",
   "execution_count": 13,
   "metadata": {},
   "outputs": [
    {
     "data": {
      "text/plain": [
       "Open         6.176153e+03\n",
       "High         6.264355e+03\n",
       "Low          6.041043e+03\n",
       "Close        6.139058e+03\n",
       "Adj Close    6.139058e+03\n",
       "Volume       3.641961e+08\n",
       "dtype: float64"
      ]
     },
     "execution_count": 13,
     "metadata": {},
     "output_type": "execute_result"
    }
   ],
   "source": [
    "df_usd.mean()"
   ]
  },
  {
   "cell_type": "code",
   "execution_count": 37,
   "metadata": {},
   "outputs": [
    {
     "data": {
      "text/plain": [
       "0    7350.580078\n",
       "1    7417.649902\n",
       "2    7401.430176\n",
       "3    6727.189941\n",
       "4    6549.390137\n",
       "Name: High, dtype: float64"
      ]
     },
     "execution_count": 37,
     "metadata": {},
     "output_type": "execute_result"
    }
   ],
   "source": [
    "df_usd['High'].head()"
   ]
  },
  {
   "cell_type": "code",
   "execution_count": 9,
   "metadata": {},
   "outputs": [
    {
     "data": {
      "text/html": [
       "<div>\n",
       "<style>\n",
       "    .dataframe thead tr:only-child th {\n",
       "        text-align: right;\n",
       "    }\n",
       "\n",
       "    .dataframe thead th {\n",
       "        text-align: left;\n",
       "    }\n",
       "\n",
       "    .dataframe tbody tr th {\n",
       "        vertical-align: top;\n",
       "    }\n",
       "</style>\n",
       "<table border=\"1\" class=\"dataframe\">\n",
       "  <thead>\n",
       "    <tr style=\"text-align: right;\">\n",
       "      <th></th>\n",
       "      <th>Date</th>\n",
       "      <th>Price</th>\n",
       "      <th>Open</th>\n",
       "      <th>High</th>\n",
       "      <th>Low</th>\n",
       "      <th>Vol.</th>\n",
       "      <th>Change %</th>\n",
       "    </tr>\n",
       "  </thead>\n",
       "  <tbody>\n",
       "    <tr>\n",
       "      <th>0</th>\n",
       "      <td>Nov 30, 2018</td>\n",
       "      <td>3,895.0</td>\n",
       "      <td>4,225.0</td>\n",
       "      <td>4,265.0</td>\n",
       "      <td>3,835.0</td>\n",
       "      <td>-</td>\n",
       "      <td>-7.59%</td>\n",
       "    </tr>\n",
       "    <tr>\n",
       "      <th>1</th>\n",
       "      <td>Nov 29, 2018</td>\n",
       "      <td>4,215.0</td>\n",
       "      <td>4,205.0</td>\n",
       "      <td>4,350.0</td>\n",
       "      <td>4,060.0</td>\n",
       "      <td>-</td>\n",
       "      <td>0.24%</td>\n",
       "    </tr>\n",
       "    <tr>\n",
       "      <th>2</th>\n",
       "      <td>Nov 28, 2018</td>\n",
       "      <td>4,205.0</td>\n",
       "      <td>3,775.0</td>\n",
       "      <td>4,345.0</td>\n",
       "      <td>3,770.0</td>\n",
       "      <td>-</td>\n",
       "      <td>11.39%</td>\n",
       "    </tr>\n",
       "    <tr>\n",
       "      <th>3</th>\n",
       "      <td>Nov 27, 2018</td>\n",
       "      <td>3,775.0</td>\n",
       "      <td>3,650.0</td>\n",
       "      <td>3,775.0</td>\n",
       "      <td>3,550.0</td>\n",
       "      <td>-</td>\n",
       "      <td>4.28%</td>\n",
       "    </tr>\n",
       "    <tr>\n",
       "      <th>4</th>\n",
       "      <td>Nov 26, 2018</td>\n",
       "      <td>3,620.0</td>\n",
       "      <td>3,930.0</td>\n",
       "      <td>4,025.0</td>\n",
       "      <td>3,510.0</td>\n",
       "      <td>-</td>\n",
       "      <td>-7.89%</td>\n",
       "    </tr>\n",
       "  </tbody>\n",
       "</table>\n",
       "</div>"
      ],
      "text/plain": [
       "           Date    Price     Open     High      Low Vol. Change %\n",
       "0  Nov 30, 2018  3,895.0  4,225.0  4,265.0  3,835.0    -   -7.59%\n",
       "1  Nov 29, 2018  4,215.0  4,205.0  4,350.0  4,060.0    -    0.24%\n",
       "2  Nov 28, 2018  4,205.0  3,775.0  4,345.0  3,770.0    -   11.39%\n",
       "3  Nov 27, 2018  3,775.0  3,650.0  3,775.0  3,550.0    -    4.28%\n",
       "4  Nov 26, 2018  3,620.0  3,930.0  4,025.0  3,510.0    -   -7.89%"
      ]
     },
     "execution_count": 9,
     "metadata": {},
     "output_type": "execute_result"
    }
   ],
   "source": [
    "# print 1st 5 rows of df_cme\n",
    "df_cme.head()"
   ]
  },
  {
   "cell_type": "code",
   "execution_count": 14,
   "metadata": {},
   "outputs": [
    {
     "data": {
      "text/plain": [
       "Series([], dtype: float64)"
      ]
     },
     "execution_count": 14,
     "metadata": {},
     "output_type": "execute_result"
    }
   ],
   "source": [
    "df_cme.mean()"
   ]
  },
  {
   "cell_type": "code",
   "execution_count": 20,
   "metadata": {
    "scrolled": true
   },
   "outputs": [
    {
     "data": {
      "text/plain": [
       "0    4,265.0\n",
       "1    4,350.0\n",
       "2    4,345.0\n",
       "3    3,775.0\n",
       "4    4,025.0\n",
       "Name: High, dtype: object"
      ]
     },
     "execution_count": 20,
     "metadata": {},
     "output_type": "execute_result"
    }
   ],
   "source": [
    "\n",
    "df_cme['High'].head()"
   ]
  },
  {
   "cell_type": "code",
   "execution_count": 22,
   "metadata": {
    "collapsed": true
   },
   "outputs": [],
   "source": [
    "a = df_cme['High']"
   ]
  },
  {
   "cell_type": "code",
   "execution_count": 27,
   "metadata": {},
   "outputs": [
    {
     "data": {
      "text/plain": [
       "0    4,265.0\n",
       "1    4,350.0\n",
       "2    4,345.0\n",
       "3    3,775.0\n",
       "4    4,025.0\n",
       "Name: High, dtype: object"
      ]
     },
     "execution_count": 27,
     "metadata": {},
     "output_type": "execute_result"
    }
   ],
   "source": [
    "a.head()"
   ]
  },
  {
   "cell_type": "code",
   "execution_count": 28,
   "metadata": {
    "collapsed": true
   },
   "outputs": [],
   "source": [
    "b = str(a)"
   ]
  },
  {
   "cell_type": "code",
   "execution_count": 29,
   "metadata": {},
   "outputs": [
    {
     "data": {
      "text/plain": [
       "'0     4,265.0\\n1     4,350.0\\n2     4,345.0\\n3     3,775.0\\n4     4,025.0\\n5     3,975.0\\n6     4,345.0\\n7     4,565.0\\n8     4,620.0\\n9     4,870.0\\n10    5,510.0\\n11    5,515.0\\n12    5,545.0\\n13    5,590.0\\n14    6,290.0\\n15    6,320.0\\n16    6,390.0\\n17    6,365.0\\n18    6,415.0\\n19    6,525.0\\n20    6,545.0\\n21    6,465.0\\n22    6,440.0\\n23    6,450.0\\n24    6,375.0\\n25    6,355.0\\n26    6,340.0\\n27    6,290.0\\n28    6,435.0\\n29    6,420.0\\n       ...   \\n46    6,580.0\\n47    6,595.0\\n48    6,495.0\\n49    6,585.0\\n50    6,625.0\\n51    6,605.0\\n52    6,795.0\\n53    6,735.0\\n54    6,525.0\\n55    6,560.0\\n56    6,710.0\\n57    6,710.0\\n58    6,775.0\\n59    6,530.0\\n60    6,530.0\\n61    6,370.0\\n62    6,525.0\\n63    6,495.0\\n64    6,570.0\\n65    6,520.0\\n66    6,330.0\\n67    6,375.0\\n68    6,330.0\\n69    6,350.0\\n70    6,505.0\\n71    6,700.0\\n72    7,395.0\\n73    7,410.0\\n74    7,325.0\\n75    7,295.0\\nName: High, Length: 76, dtype: object'"
      ]
     },
     "execution_count": 29,
     "metadata": {},
     "output_type": "execute_result"
    }
   ],
   "source": [
    "b"
   ]
  },
  {
   "cell_type": "code",
   "execution_count": 33,
   "metadata": {},
   "outputs": [],
   "source": [
    "c = b.replace(',', '')"
   ]
  },
  {
   "cell_type": "code",
   "execution_count": 34,
   "metadata": {},
   "outputs": [
    {
     "data": {
      "text/plain": [
       "'0     4265.0\\n1     4350.0\\n2     4345.0\\n3     3775.0\\n4     4025.0\\n5     3975.0\\n6     4345.0\\n7     4565.0\\n8     4620.0\\n9     4870.0\\n10    5510.0\\n11    5515.0\\n12    5545.0\\n13    5590.0\\n14    6290.0\\n15    6320.0\\n16    6390.0\\n17    6365.0\\n18    6415.0\\n19    6525.0\\n20    6545.0\\n21    6465.0\\n22    6440.0\\n23    6450.0\\n24    6375.0\\n25    6355.0\\n26    6340.0\\n27    6290.0\\n28    6435.0\\n29    6420.0\\n       ...   \\n46    6580.0\\n47    6595.0\\n48    6495.0\\n49    6585.0\\n50    6625.0\\n51    6605.0\\n52    6795.0\\n53    6735.0\\n54    6525.0\\n55    6560.0\\n56    6710.0\\n57    6710.0\\n58    6775.0\\n59    6530.0\\n60    6530.0\\n61    6370.0\\n62    6525.0\\n63    6495.0\\n64    6570.0\\n65    6520.0\\n66    6330.0\\n67    6375.0\\n68    6330.0\\n69    6350.0\\n70    6505.0\\n71    6700.0\\n72    7395.0\\n73    7410.0\\n74    7325.0\\n75    7295.0\\nName: High Length: 76 dtype: object'"
      ]
     },
     "execution_count": 34,
     "metadata": {},
     "output_type": "execute_result"
    }
   ],
   "source": [
    "c"
   ]
  },
  {
   "cell_type": "code",
   "execution_count": null,
   "metadata": {
    "collapsed": true
   },
   "outputs": [],
   "source": []
  },
  {
   "cell_type": "code",
   "execution_count": null,
   "metadata": {
    "collapsed": true
   },
   "outputs": [],
   "source": []
  },
  {
   "cell_type": "code",
   "execution_count": null,
   "metadata": {
    "collapsed": true
   },
   "outputs": [],
   "source": []
  }
 ],
 "metadata": {
  "kernelspec": {
   "display_name": "Python 2",
   "language": "python",
   "name": "python2"
  },
  "language_info": {
   "codemirror_mode": {
    "name": "ipython",
    "version": 2
   },
   "file_extension": ".py",
   "mimetype": "text/x-python",
   "name": "python",
   "nbconvert_exporter": "python",
   "pygments_lexer": "ipython2",
   "version": "2.7.13"
  }
 },
 "nbformat": 4,
 "nbformat_minor": 2
}
