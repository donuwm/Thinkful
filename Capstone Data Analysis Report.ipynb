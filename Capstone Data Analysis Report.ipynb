{
 "cells": [
  {
   "cell_type": "markdown",
   "metadata": {},
   "source": [
    "# Analyzing the Relationship Between Bitcoin Spot Price and Futures Price "
   ]
  },
  {
   "cell_type": "markdown",
   "metadata": {},
   "source": [
    "By: Fred Etter\n",
    "\n",
    "Data: The data I used for the \"spot\" price was obtained from Yahoo Finance:  https://finance.yahoo.com/quote/BTC-USD?p=BTC-USD&.tsrc=fin-srch\n",
    "The data I used for the CME futures price was obtained from Investing.com:  https://www.investing.com/crypto/bitcoin/bitcoin-futures\n",
    "\n",
    "Key Terms: The **spot price** is the best estimate of the price of 1 Bitcoin which in this study is determined by averaging data from about 45 different exchanges around the world.  The **futures price** in this study is determined by the exchange operated by CME Group.  **Futures** are financial contracts obligating the buyer to purchase an asset or the seller to sell an asset, such as a physical commodity or a financial instrument, at a predetermined future date and price.  In this case, the future is \"cash settled\", so no actual bitcoins will change hands."
   ]
  },
  {
   "cell_type": "markdown",
   "metadata": {},
   "source": [
    "# Exploratory Data Analysis"
   ]
  },
  {
   "cell_type": "code",
   "execution_count": 8,
   "metadata": {
    "collapsed": true
   },
   "outputs": [],
   "source": [
    "# import modules\n",
    "import pandas as pd\n",
    "import numpy as np\n",
    "import matplotlib.pyplot as plt"
   ]
  },
  {
   "cell_type": "code",
   "execution_count": 9,
   "metadata": {
    "collapsed": true
   },
   "outputs": [],
   "source": [
    "# Import data\n",
    "df_usd = pd.read_csv('btc_usd_sep2_nov30.csv')\n",
    "df_cme = pd.read_csv('btc_cme_sep2_nov30.txt', sep=\",\")"
   ]
  },
  {
   "cell_type": "code",
   "execution_count": 10,
   "metadata": {
    "scrolled": true
   },
   "outputs": [
    {
     "data": {
      "text/html": [
       "<div>\n",
       "<style>\n",
       "    .dataframe thead tr:only-child th {\n",
       "        text-align: right;\n",
       "    }\n",
       "\n",
       "    .dataframe thead th {\n",
       "        text-align: left;\n",
       "    }\n",
       "\n",
       "    .dataframe tbody tr th {\n",
       "        vertical-align: top;\n",
       "    }\n",
       "</style>\n",
       "<table border=\"1\" class=\"dataframe\">\n",
       "  <thead>\n",
       "    <tr style=\"text-align: right;\">\n",
       "      <th></th>\n",
       "      <th>Date</th>\n",
       "      <th>Open</th>\n",
       "      <th>High</th>\n",
       "      <th>Low</th>\n",
       "      <th>Close</th>\n",
       "      <th>Adj Close</th>\n",
       "      <th>Volume</th>\n",
       "    </tr>\n",
       "  </thead>\n",
       "  <tbody>\n",
       "    <tr>\n",
       "      <th>0</th>\n",
       "      <td>2018-09-02</td>\n",
       "      <td>7301.250000</td>\n",
       "      <td>7350.580078</td>\n",
       "      <td>7204.890137</td>\n",
       "      <td>7270.049805</td>\n",
       "      <td>7270.049805</td>\n",
       "      <td>309327793</td>\n",
       "    </tr>\n",
       "    <tr>\n",
       "      <th>1</th>\n",
       "      <td>2018-09-03</td>\n",
       "      <td>7270.049805</td>\n",
       "      <td>7417.649902</td>\n",
       "      <td>7246.759766</td>\n",
       "      <td>7369.859863</td>\n",
       "      <td>7369.859863</td>\n",
       "      <td>343762001</td>\n",
       "    </tr>\n",
       "    <tr>\n",
       "      <th>2</th>\n",
       "      <td>2018-09-04</td>\n",
       "      <td>7369.890137</td>\n",
       "      <td>7401.430176</td>\n",
       "      <td>6694.060059</td>\n",
       "      <td>6705.029785</td>\n",
       "      <td>6705.029785</td>\n",
       "      <td>797851163</td>\n",
       "    </tr>\n",
       "    <tr>\n",
       "      <th>3</th>\n",
       "      <td>2018-09-05</td>\n",
       "      <td>6705.060059</td>\n",
       "      <td>6727.189941</td>\n",
       "      <td>6295.109863</td>\n",
       "      <td>6515.419922</td>\n",
       "      <td>6515.419922</td>\n",
       "      <td>823309044</td>\n",
       "    </tr>\n",
       "    <tr>\n",
       "      <th>4</th>\n",
       "      <td>2018-09-06</td>\n",
       "      <td>6515.419922</td>\n",
       "      <td>6549.390137</td>\n",
       "      <td>6345.479980</td>\n",
       "      <td>6411.779785</td>\n",
       "      <td>6411.779785</td>\n",
       "      <td>344487244</td>\n",
       "    </tr>\n",
       "  </tbody>\n",
       "</table>\n",
       "</div>"
      ],
      "text/plain": [
       "         Date         Open         High          Low        Close  \\\n",
       "0  2018-09-02  7301.250000  7350.580078  7204.890137  7270.049805   \n",
       "1  2018-09-03  7270.049805  7417.649902  7246.759766  7369.859863   \n",
       "2  2018-09-04  7369.890137  7401.430176  6694.060059  6705.029785   \n",
       "3  2018-09-05  6705.060059  6727.189941  6295.109863  6515.419922   \n",
       "4  2018-09-06  6515.419922  6549.390137  6345.479980  6411.779785   \n",
       "\n",
       "     Adj Close     Volume  \n",
       "0  7270.049805  309327793  \n",
       "1  7369.859863  343762001  \n",
       "2  6705.029785  797851163  \n",
       "3  6515.419922  823309044  \n",
       "4  6411.779785  344487244  "
      ]
     },
     "execution_count": 10,
     "metadata": {},
     "output_type": "execute_result"
    }
   ],
   "source": [
    "# print 1st 5 rows of df_usd\n",
    "df_usd.head()"
   ]
  },
  {
   "cell_type": "code",
   "execution_count": 11,
   "metadata": {},
   "outputs": [
    {
     "data": {
      "text/html": [
       "<div>\n",
       "<style>\n",
       "    .dataframe thead tr:only-child th {\n",
       "        text-align: right;\n",
       "    }\n",
       "\n",
       "    .dataframe thead th {\n",
       "        text-align: left;\n",
       "    }\n",
       "\n",
       "    .dataframe tbody tr th {\n",
       "        vertical-align: top;\n",
       "    }\n",
       "</style>\n",
       "<table border=\"1\" class=\"dataframe\">\n",
       "  <thead>\n",
       "    <tr style=\"text-align: right;\">\n",
       "      <th></th>\n",
       "      <th>Date</th>\n",
       "      <th>Open</th>\n",
       "      <th>High</th>\n",
       "      <th>Low</th>\n",
       "      <th>Close</th>\n",
       "      <th>Adj Close</th>\n",
       "      <th>Volume</th>\n",
       "      <th>Month</th>\n",
       "    </tr>\n",
       "  </thead>\n",
       "  <tbody>\n",
       "    <tr>\n",
       "      <th>0</th>\n",
       "      <td>2018-09-02</td>\n",
       "      <td>7301.250000</td>\n",
       "      <td>7350.580078</td>\n",
       "      <td>7204.890137</td>\n",
       "      <td>7270.049805</td>\n",
       "      <td>7270.049805</td>\n",
       "      <td>309327793</td>\n",
       "      <td>09</td>\n",
       "    </tr>\n",
       "    <tr>\n",
       "      <th>1</th>\n",
       "      <td>2018-09-03</td>\n",
       "      <td>7270.049805</td>\n",
       "      <td>7417.649902</td>\n",
       "      <td>7246.759766</td>\n",
       "      <td>7369.859863</td>\n",
       "      <td>7369.859863</td>\n",
       "      <td>343762001</td>\n",
       "      <td>09</td>\n",
       "    </tr>\n",
       "    <tr>\n",
       "      <th>2</th>\n",
       "      <td>2018-09-04</td>\n",
       "      <td>7369.890137</td>\n",
       "      <td>7401.430176</td>\n",
       "      <td>6694.060059</td>\n",
       "      <td>6705.029785</td>\n",
       "      <td>6705.029785</td>\n",
       "      <td>797851163</td>\n",
       "      <td>09</td>\n",
       "    </tr>\n",
       "    <tr>\n",
       "      <th>3</th>\n",
       "      <td>2018-09-05</td>\n",
       "      <td>6705.060059</td>\n",
       "      <td>6727.189941</td>\n",
       "      <td>6295.109863</td>\n",
       "      <td>6515.419922</td>\n",
       "      <td>6515.419922</td>\n",
       "      <td>823309044</td>\n",
       "      <td>09</td>\n",
       "    </tr>\n",
       "    <tr>\n",
       "      <th>4</th>\n",
       "      <td>2018-09-06</td>\n",
       "      <td>6515.419922</td>\n",
       "      <td>6549.390137</td>\n",
       "      <td>6345.479980</td>\n",
       "      <td>6411.779785</td>\n",
       "      <td>6411.779785</td>\n",
       "      <td>344487244</td>\n",
       "      <td>09</td>\n",
       "    </tr>\n",
       "  </tbody>\n",
       "</table>\n",
       "</div>"
      ],
      "text/plain": [
       "         Date         Open         High          Low        Close  \\\n",
       "0  2018-09-02  7301.250000  7350.580078  7204.890137  7270.049805   \n",
       "1  2018-09-03  7270.049805  7417.649902  7246.759766  7369.859863   \n",
       "2  2018-09-04  7369.890137  7401.430176  6694.060059  6705.029785   \n",
       "3  2018-09-05  6705.060059  6727.189941  6295.109863  6515.419922   \n",
       "4  2018-09-06  6515.419922  6549.390137  6345.479980  6411.779785   \n",
       "\n",
       "     Adj Close     Volume Month  \n",
       "0  7270.049805  309327793    09  \n",
       "1  7369.859863  343762001    09  \n",
       "2  6705.029785  797851163    09  \n",
       "3  6515.419922  823309044    09  \n",
       "4  6411.779785  344487244    09  "
      ]
     },
     "execution_count": 11,
     "metadata": {},
     "output_type": "execute_result"
    }
   ],
   "source": [
    "# Add Month column\n",
    "df_usd['Month'] = df_usd[\"Date\"].str.slice(5, 7)\n",
    "df_usd.head()"
   ]
  },
  {
   "cell_type": "code",
   "execution_count": 12,
   "metadata": {},
   "outputs": [
    {
     "data": {
      "text/html": [
       "<div>\n",
       "<style>\n",
       "    .dataframe thead tr:only-child th {\n",
       "        text-align: right;\n",
       "    }\n",
       "\n",
       "    .dataframe thead th {\n",
       "        text-align: left;\n",
       "    }\n",
       "\n",
       "    .dataframe tbody tr th {\n",
       "        vertical-align: top;\n",
       "    }\n",
       "</style>\n",
       "<table border=\"1\" class=\"dataframe\">\n",
       "  <thead>\n",
       "    <tr style=\"text-align: right;\">\n",
       "      <th></th>\n",
       "      <th>Date</th>\n",
       "      <th>Price</th>\n",
       "      <th>Open</th>\n",
       "      <th>High</th>\n",
       "      <th>Low</th>\n",
       "      <th>Vol.</th>\n",
       "      <th>Change %</th>\n",
       "    </tr>\n",
       "  </thead>\n",
       "  <tbody>\n",
       "    <tr>\n",
       "      <th>0</th>\n",
       "      <td>Nov 30, 2018</td>\n",
       "      <td>3,895.0</td>\n",
       "      <td>4,225.0</td>\n",
       "      <td>4,265.0</td>\n",
       "      <td>3,835.0</td>\n",
       "      <td>-</td>\n",
       "      <td>-7.59%</td>\n",
       "    </tr>\n",
       "    <tr>\n",
       "      <th>1</th>\n",
       "      <td>Nov 29, 2018</td>\n",
       "      <td>4,215.0</td>\n",
       "      <td>4,205.0</td>\n",
       "      <td>4,350.0</td>\n",
       "      <td>4,060.0</td>\n",
       "      <td>-</td>\n",
       "      <td>0.24%</td>\n",
       "    </tr>\n",
       "    <tr>\n",
       "      <th>2</th>\n",
       "      <td>Nov 28, 2018</td>\n",
       "      <td>4,205.0</td>\n",
       "      <td>3,775.0</td>\n",
       "      <td>4,345.0</td>\n",
       "      <td>3,770.0</td>\n",
       "      <td>-</td>\n",
       "      <td>11.39%</td>\n",
       "    </tr>\n",
       "    <tr>\n",
       "      <th>3</th>\n",
       "      <td>Nov 27, 2018</td>\n",
       "      <td>3,775.0</td>\n",
       "      <td>3,650.0</td>\n",
       "      <td>3,775.0</td>\n",
       "      <td>3,550.0</td>\n",
       "      <td>-</td>\n",
       "      <td>4.28%</td>\n",
       "    </tr>\n",
       "    <tr>\n",
       "      <th>4</th>\n",
       "      <td>Nov 26, 2018</td>\n",
       "      <td>3,620.0</td>\n",
       "      <td>3,930.0</td>\n",
       "      <td>4,025.0</td>\n",
       "      <td>3,510.0</td>\n",
       "      <td>-</td>\n",
       "      <td>-7.89%</td>\n",
       "    </tr>\n",
       "  </tbody>\n",
       "</table>\n",
       "</div>"
      ],
      "text/plain": [
       "           Date    Price     Open     High      Low Vol. Change %\n",
       "0  Nov 30, 2018  3,895.0  4,225.0  4,265.0  3,835.0    -   -7.59%\n",
       "1  Nov 29, 2018  4,215.0  4,205.0  4,350.0  4,060.0    -    0.24%\n",
       "2  Nov 28, 2018  4,205.0  3,775.0  4,345.0  3,770.0    -   11.39%\n",
       "3  Nov 27, 2018  3,775.0  3,650.0  3,775.0  3,550.0    -    4.28%\n",
       "4  Nov 26, 2018  3,620.0  3,930.0  4,025.0  3,510.0    -   -7.89%"
      ]
     },
     "execution_count": 12,
     "metadata": {},
     "output_type": "execute_result"
    }
   ],
   "source": [
    "# print 1st 5 rows of df_cme\n",
    "df_cme.head()"
   ]
  },
  {
   "cell_type": "code",
   "execution_count": 13,
   "metadata": {},
   "outputs": [
    {
     "data": {
      "text/html": [
       "<div>\n",
       "<style>\n",
       "    .dataframe thead tr:only-child th {\n",
       "        text-align: right;\n",
       "    }\n",
       "\n",
       "    .dataframe thead th {\n",
       "        text-align: left;\n",
       "    }\n",
       "\n",
       "    .dataframe tbody tr th {\n",
       "        vertical-align: top;\n",
       "    }\n",
       "</style>\n",
       "<table border=\"1\" class=\"dataframe\">\n",
       "  <thead>\n",
       "    <tr style=\"text-align: right;\">\n",
       "      <th></th>\n",
       "      <th>Date</th>\n",
       "      <th>Price</th>\n",
       "      <th>Open</th>\n",
       "      <th>High</th>\n",
       "      <th>Low</th>\n",
       "      <th>Vol.</th>\n",
       "      <th>Change %</th>\n",
       "      <th>Month</th>\n",
       "    </tr>\n",
       "  </thead>\n",
       "  <tbody>\n",
       "    <tr>\n",
       "      <th>0</th>\n",
       "      <td>Nov 30, 2018</td>\n",
       "      <td>3,895.0</td>\n",
       "      <td>4,225.0</td>\n",
       "      <td>4,265.0</td>\n",
       "      <td>3,835.0</td>\n",
       "      <td>-</td>\n",
       "      <td>-7.59%</td>\n",
       "      <td>Nov</td>\n",
       "    </tr>\n",
       "    <tr>\n",
       "      <th>1</th>\n",
       "      <td>Nov 29, 2018</td>\n",
       "      <td>4,215.0</td>\n",
       "      <td>4,205.0</td>\n",
       "      <td>4,350.0</td>\n",
       "      <td>4,060.0</td>\n",
       "      <td>-</td>\n",
       "      <td>0.24%</td>\n",
       "      <td>Nov</td>\n",
       "    </tr>\n",
       "    <tr>\n",
       "      <th>2</th>\n",
       "      <td>Nov 28, 2018</td>\n",
       "      <td>4,205.0</td>\n",
       "      <td>3,775.0</td>\n",
       "      <td>4,345.0</td>\n",
       "      <td>3,770.0</td>\n",
       "      <td>-</td>\n",
       "      <td>11.39%</td>\n",
       "      <td>Nov</td>\n",
       "    </tr>\n",
       "    <tr>\n",
       "      <th>3</th>\n",
       "      <td>Nov 27, 2018</td>\n",
       "      <td>3,775.0</td>\n",
       "      <td>3,650.0</td>\n",
       "      <td>3,775.0</td>\n",
       "      <td>3,550.0</td>\n",
       "      <td>-</td>\n",
       "      <td>4.28%</td>\n",
       "      <td>Nov</td>\n",
       "    </tr>\n",
       "    <tr>\n",
       "      <th>4</th>\n",
       "      <td>Nov 26, 2018</td>\n",
       "      <td>3,620.0</td>\n",
       "      <td>3,930.0</td>\n",
       "      <td>4,025.0</td>\n",
       "      <td>3,510.0</td>\n",
       "      <td>-</td>\n",
       "      <td>-7.89%</td>\n",
       "      <td>Nov</td>\n",
       "    </tr>\n",
       "  </tbody>\n",
       "</table>\n",
       "</div>"
      ],
      "text/plain": [
       "           Date    Price     Open     High      Low Vol. Change % Month\n",
       "0  Nov 30, 2018  3,895.0  4,225.0  4,265.0  3,835.0    -   -7.59%   Nov\n",
       "1  Nov 29, 2018  4,215.0  4,205.0  4,350.0  4,060.0    -    0.24%   Nov\n",
       "2  Nov 28, 2018  4,205.0  3,775.0  4,345.0  3,770.0    -   11.39%   Nov\n",
       "3  Nov 27, 2018  3,775.0  3,650.0  3,775.0  3,550.0    -    4.28%   Nov\n",
       "4  Nov 26, 2018  3,620.0  3,930.0  4,025.0  3,510.0    -   -7.89%   Nov"
      ]
     },
     "execution_count": 13,
     "metadata": {},
     "output_type": "execute_result"
    }
   ],
   "source": [
    "# Create Month column\n",
    "df_cme['Month'] = df_cme[\"Date\"].str.slice(0, 3)\n",
    "df_cme.head()"
   ]
  },
  {
   "cell_type": "code",
   "execution_count": 14,
   "metadata": {},
   "outputs": [
    {
     "data": {
      "text/html": [
       "<div>\n",
       "<style>\n",
       "    .dataframe thead tr:only-child th {\n",
       "        text-align: right;\n",
       "    }\n",
       "\n",
       "    .dataframe thead th {\n",
       "        text-align: left;\n",
       "    }\n",
       "\n",
       "    .dataframe tbody tr th {\n",
       "        vertical-align: top;\n",
       "    }\n",
       "</style>\n",
       "<table border=\"1\" class=\"dataframe\">\n",
       "  <thead>\n",
       "    <tr style=\"text-align: right;\">\n",
       "      <th></th>\n",
       "      <th>Date</th>\n",
       "      <th>Price</th>\n",
       "      <th>Open</th>\n",
       "      <th>High</th>\n",
       "      <th>Low</th>\n",
       "      <th>Vol.</th>\n",
       "      <th>Change %</th>\n",
       "      <th>Month</th>\n",
       "    </tr>\n",
       "  </thead>\n",
       "  <tbody>\n",
       "    <tr>\n",
       "      <th>0</th>\n",
       "      <td>Nov 30, 2018</td>\n",
       "      <td>3,895.0</td>\n",
       "      <td>4,225.0</td>\n",
       "      <td>4265.0</td>\n",
       "      <td>3835.0</td>\n",
       "      <td>-</td>\n",
       "      <td>-7.59%</td>\n",
       "      <td>Nov</td>\n",
       "    </tr>\n",
       "    <tr>\n",
       "      <th>1</th>\n",
       "      <td>Nov 29, 2018</td>\n",
       "      <td>4,215.0</td>\n",
       "      <td>4,205.0</td>\n",
       "      <td>4350.0</td>\n",
       "      <td>4060.0</td>\n",
       "      <td>-</td>\n",
       "      <td>0.24%</td>\n",
       "      <td>Nov</td>\n",
       "    </tr>\n",
       "    <tr>\n",
       "      <th>2</th>\n",
       "      <td>Nov 28, 2018</td>\n",
       "      <td>4,205.0</td>\n",
       "      <td>3,775.0</td>\n",
       "      <td>4345.0</td>\n",
       "      <td>3770.0</td>\n",
       "      <td>-</td>\n",
       "      <td>11.39%</td>\n",
       "      <td>Nov</td>\n",
       "    </tr>\n",
       "    <tr>\n",
       "      <th>3</th>\n",
       "      <td>Nov 27, 2018</td>\n",
       "      <td>3,775.0</td>\n",
       "      <td>3,650.0</td>\n",
       "      <td>3775.0</td>\n",
       "      <td>3550.0</td>\n",
       "      <td>-</td>\n",
       "      <td>4.28%</td>\n",
       "      <td>Nov</td>\n",
       "    </tr>\n",
       "    <tr>\n",
       "      <th>4</th>\n",
       "      <td>Nov 26, 2018</td>\n",
       "      <td>3,620.0</td>\n",
       "      <td>3,930.0</td>\n",
       "      <td>4025.0</td>\n",
       "      <td>3510.0</td>\n",
       "      <td>-</td>\n",
       "      <td>-7.89%</td>\n",
       "      <td>Nov</td>\n",
       "    </tr>\n",
       "  </tbody>\n",
       "</table>\n",
       "</div>"
      ],
      "text/plain": [
       "           Date    Price     Open    High     Low Vol. Change % Month\n",
       "0  Nov 30, 2018  3,895.0  4,225.0  4265.0  3835.0    -   -7.59%   Nov\n",
       "1  Nov 29, 2018  4,215.0  4,205.0  4350.0  4060.0    -    0.24%   Nov\n",
       "2  Nov 28, 2018  4,205.0  3,775.0  4345.0  3770.0    -   11.39%   Nov\n",
       "3  Nov 27, 2018  3,775.0  3,650.0  3775.0  3550.0    -    4.28%   Nov\n",
       "4  Nov 26, 2018  3,620.0  3,930.0  4025.0  3510.0    -   -7.89%   Nov"
      ]
     },
     "execution_count": 14,
     "metadata": {},
     "output_type": "execute_result"
    }
   ],
   "source": [
    "# Convert the 'Low' and 'High' column from text to float\n",
    "df_cme[\"Low\"] = [np.float(x.replace(\",\", \"\")) for x in df_cme[\"Low\"]]\n",
    "df_cme[\"High\"] = [np.float(x.replace(\",\", \"\")) for x in df_cme[\"High\"]]\n",
    "\n",
    "# Check new High and Low columns\n",
    "df_cme.head()"
   ]
  },
  {
   "cell_type": "code",
   "execution_count": 15,
   "metadata": {},
   "outputs": [
    {
     "name": "stdout",
     "output_type": "stream",
     "text": [
      "Low, CME\n",
      "5977.76315789\n",
      " \n",
      "High, CME\n",
      "6200.72368421\n"
     ]
    }
   ],
   "source": [
    "# Calculate the mean value of the 'Low' and 'High' columns\n",
    "print(\"Low, CME\")\n",
    "print(df_cme['Low'].mean())\n",
    "print(' ')\n",
    "print(\"High, CME\")\n",
    "print(df_cme['High'].mean())"
   ]
  },
  {
   "cell_type": "code",
   "execution_count": 16,
   "metadata": {},
   "outputs": [
    {
     "name": "stdout",
     "output_type": "stream",
     "text": [
      "Low, CME: 5977.76315789\n"
     ]
    }
   ],
   "source": [
    "print(\"Low, CME: {}\".format(df_cme['Low'].mean()))"
   ]
  },
  {
   "cell_type": "code",
   "execution_count": 17,
   "metadata": {},
   "outputs": [
    {
     "name": "stdout",
     "output_type": "stream",
     "text": [
      "USD mean values\n",
      " \n",
      "Open         6.176153e+03\n",
      "High         6.264355e+03\n",
      "Low          6.041043e+03\n",
      "Close        6.139058e+03\n",
      "Adj Close    6.139058e+03\n",
      "Volume       3.641961e+08\n",
      "dtype: float64\n"
     ]
    }
   ],
   "source": [
    "# Calculate the mean values for all of the columns in df_usd\n",
    "print(\"USD mean values\")\n",
    "print(' ')\n",
    "print(df_usd.mean())"
   ]
  },
  {
   "cell_type": "code",
   "execution_count": 110,
   "metadata": {},
   "outputs": [
    {
     "name": "stdout",
     "output_type": "stream",
     "text": [
      "CME\n",
      "              High          Low\n",
      "Month                          \n",
      "Nov    5470.384615  5179.807692\n",
      "Oct    6482.200000  6341.000000\n",
      "Sep    6678.800000  6444.400000\n",
      " \n",
      "USD\n",
      "              Open         High          Low        Close    Adj Close  \\\n",
      "Month                                                                    \n",
      "09     6576.233112  6674.758284  6443.960668  6551.819959  6551.819959   \n",
      "10     6484.464632  6561.385384  6417.326676  6475.810335  6475.810335   \n",
      "11     5481.096012  5570.600358  5275.271020  5403.302694  5403.302694   \n",
      "\n",
      "             Volume  \n",
      "Month                \n",
      "09     3.586248e+08  \n",
      "10     2.775047e+08  \n",
      "11     4.562731e+08  \n"
     ]
    }
   ],
   "source": [
    "# Group CME and USD data sets by month to calculate mean values\n",
    "print(\"CME\")\n",
    "print(df_cme.groupby('Month').mean())\n",
    "print(' ')\n",
    "print(\"USD\")\n",
    "print(df_usd.groupby('Month').mean())"
   ]
  },
  {
   "cell_type": "markdown",
   "metadata": {
    "collapsed": true
   },
   "source": [
    "## Question 1:  What are the mean values for Bitcoin High and Low daily prices for the spot price and the December futures price over a 3 month period ending November 30th ?\n",
    "\n",
    "Answer:\n",
    "USD-High = 6264, CME-High = 6201; difference of **63**. USD-Low = 6041, CME-Low = 5978; diff of **63** also."
   ]
  },
  {
   "cell_type": "markdown",
   "metadata": {},
   "source": [
    "## Question 2:  What are the differences in mean values grouped by month ?\n",
    "\n",
    "Answer: \n",
    "Sep-High: 6675/6679, Sep-Low: 6444/6444, difference = **-4** and **0** (subtractinig CME from USD values)\n",
    "Oct-High: 6561/6482, Oct-Low: 6417/6341, difference = **79** and **76**\n",
    "Nov-High: 5571/5470, Nov-Low: 5275/5180, difference = **101** and **95**\n",
    "( Insert histogram for each mean value by month. i.e. USD-Sep-High vs CME-Sep-High; there will be 6 total)"
   ]
  },
  {
   "cell_type": "markdown",
   "metadata": {},
   "source": [
    "## Question 3:  How does the price difference between spot and future change over time ?\n",
    "Answer: \n",
    "**-2** in Sep, **77.5** in Oct, **98** in Nov (subtracting CME from USD values).  The difference is growing larger as the futures contract nears expiration.  (Insert line graph for high and low values per month. i.e. High:  -4 to 79 to 101; Low:  0 to 76 to 95)"
   ]
  },
  {
   "cell_type": "markdown",
   "metadata": {},
   "source": [
    "## Statistical Question\n",
    "Explore distributions, run t-tests, calculate probability, etc."
   ]
  },
  {
   "cell_type": "markdown",
   "metadata": {},
   "source": [
    "## Further Research\n",
    "I would like to compare the Cboe Bitcoin futures data with CME futures data as well as comparing Cboe data against the spot price.  This additional Cboe data can also be found on [Investing.com](www.investing.com)."
   ]
  },
  {
   "cell_type": "markdown",
   "metadata": {
    "collapsed": true
   },
   "source": [
    "## Conclusion"
   ]
  },
  {
   "cell_type": "code",
   "execution_count": null,
   "metadata": {
    "collapsed": true
   },
   "outputs": [],
   "source": []
  }
 ],
 "metadata": {
  "kernelspec": {
   "display_name": "Python 2",
   "language": "python",
   "name": "python2"
  },
  "language_info": {
   "codemirror_mode": {
    "name": "ipython",
    "version": 2
   },
   "file_extension": ".py",
   "mimetype": "text/x-python",
   "name": "python",
   "nbconvert_exporter": "python",
   "pygments_lexer": "ipython2",
   "version": "2.7.13"
  }
 },
 "nbformat": 4,
 "nbformat_minor": 2
}
