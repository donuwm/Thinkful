{
 "cells": [
  {
   "cell_type": "code",
   "execution_count": 102,
   "metadata": {
    "collapsed": true
   },
   "outputs": [],
   "source": [
    "# import modules\n",
    "import pandas as pd\n",
    "import numpy as np\n",
    "import matplotlib.pyplot as plt"
   ]
  },
  {
   "cell_type": "code",
   "execution_count": 103,
   "metadata": {
    "collapsed": true
   },
   "outputs": [],
   "source": [
    "# Import data\n",
    "df_usd = pd.read_csv('btc_usd_sep2_nov30.csv')\n",
    "df_cme = pd.read_csv('btc_cme_sep2_nov30.txt', sep=\",\")"
   ]
  },
  {
   "cell_type": "code",
   "execution_count": 104,
   "metadata": {
    "scrolled": true
   },
   "outputs": [
    {
     "data": {
      "text/html": [
       "<div>\n",
       "<style>\n",
       "    .dataframe thead tr:only-child th {\n",
       "        text-align: right;\n",
       "    }\n",
       "\n",
       "    .dataframe thead th {\n",
       "        text-align: left;\n",
       "    }\n",
       "\n",
       "    .dataframe tbody tr th {\n",
       "        vertical-align: top;\n",
       "    }\n",
       "</style>\n",
       "<table border=\"1\" class=\"dataframe\">\n",
       "  <thead>\n",
       "    <tr style=\"text-align: right;\">\n",
       "      <th></th>\n",
       "      <th>Date</th>\n",
       "      <th>Open</th>\n",
       "      <th>High</th>\n",
       "      <th>Low</th>\n",
       "      <th>Close</th>\n",
       "      <th>Adj Close</th>\n",
       "      <th>Volume</th>\n",
       "    </tr>\n",
       "  </thead>\n",
       "  <tbody>\n",
       "    <tr>\n",
       "      <th>0</th>\n",
       "      <td>2018-09-02</td>\n",
       "      <td>7301.250000</td>\n",
       "      <td>7350.580078</td>\n",
       "      <td>7204.890137</td>\n",
       "      <td>7270.049805</td>\n",
       "      <td>7270.049805</td>\n",
       "      <td>309327793</td>\n",
       "    </tr>\n",
       "    <tr>\n",
       "      <th>1</th>\n",
       "      <td>2018-09-03</td>\n",
       "      <td>7270.049805</td>\n",
       "      <td>7417.649902</td>\n",
       "      <td>7246.759766</td>\n",
       "      <td>7369.859863</td>\n",
       "      <td>7369.859863</td>\n",
       "      <td>343762001</td>\n",
       "    </tr>\n",
       "    <tr>\n",
       "      <th>2</th>\n",
       "      <td>2018-09-04</td>\n",
       "      <td>7369.890137</td>\n",
       "      <td>7401.430176</td>\n",
       "      <td>6694.060059</td>\n",
       "      <td>6705.029785</td>\n",
       "      <td>6705.029785</td>\n",
       "      <td>797851163</td>\n",
       "    </tr>\n",
       "    <tr>\n",
       "      <th>3</th>\n",
       "      <td>2018-09-05</td>\n",
       "      <td>6705.060059</td>\n",
       "      <td>6727.189941</td>\n",
       "      <td>6295.109863</td>\n",
       "      <td>6515.419922</td>\n",
       "      <td>6515.419922</td>\n",
       "      <td>823309044</td>\n",
       "    </tr>\n",
       "    <tr>\n",
       "      <th>4</th>\n",
       "      <td>2018-09-06</td>\n",
       "      <td>6515.419922</td>\n",
       "      <td>6549.390137</td>\n",
       "      <td>6345.479980</td>\n",
       "      <td>6411.779785</td>\n",
       "      <td>6411.779785</td>\n",
       "      <td>344487244</td>\n",
       "    </tr>\n",
       "  </tbody>\n",
       "</table>\n",
       "</div>"
      ],
      "text/plain": [
       "         Date         Open         High          Low        Close  \\\n",
       "0  2018-09-02  7301.250000  7350.580078  7204.890137  7270.049805   \n",
       "1  2018-09-03  7270.049805  7417.649902  7246.759766  7369.859863   \n",
       "2  2018-09-04  7369.890137  7401.430176  6694.060059  6705.029785   \n",
       "3  2018-09-05  6705.060059  6727.189941  6295.109863  6515.419922   \n",
       "4  2018-09-06  6515.419922  6549.390137  6345.479980  6411.779785   \n",
       "\n",
       "     Adj Close     Volume  \n",
       "0  7270.049805  309327793  \n",
       "1  7369.859863  343762001  \n",
       "2  6705.029785  797851163  \n",
       "3  6515.419922  823309044  \n",
       "4  6411.779785  344487244  "
      ]
     },
     "execution_count": 104,
     "metadata": {},
     "output_type": "execute_result"
    }
   ],
   "source": [
    "# print 1st 5 rows of df_usd\n",
    "df_usd.head()"
   ]
  },
  {
   "cell_type": "code",
   "execution_count": 105,
   "metadata": {},
   "outputs": [
    {
     "data": {
      "text/html": [
       "<div>\n",
       "<style>\n",
       "    .dataframe thead tr:only-child th {\n",
       "        text-align: right;\n",
       "    }\n",
       "\n",
       "    .dataframe thead th {\n",
       "        text-align: left;\n",
       "    }\n",
       "\n",
       "    .dataframe tbody tr th {\n",
       "        vertical-align: top;\n",
       "    }\n",
       "</style>\n",
       "<table border=\"1\" class=\"dataframe\">\n",
       "  <thead>\n",
       "    <tr style=\"text-align: right;\">\n",
       "      <th></th>\n",
       "      <th>Date</th>\n",
       "      <th>Open</th>\n",
       "      <th>High</th>\n",
       "      <th>Low</th>\n",
       "      <th>Close</th>\n",
       "      <th>Adj Close</th>\n",
       "      <th>Volume</th>\n",
       "    </tr>\n",
       "  </thead>\n",
       "  <tbody>\n",
       "    <tr>\n",
       "      <th>84</th>\n",
       "      <td>2018-11-26</td>\n",
       "      <td>4004.459961</td>\n",
       "      <td>4124.700195</td>\n",
       "      <td>3598.810059</td>\n",
       "      <td>3784.590088</td>\n",
       "      <td>3784.590088</td>\n",
       "      <td>715341714</td>\n",
       "    </tr>\n",
       "    <tr>\n",
       "      <th>85</th>\n",
       "      <td>2018-11-27</td>\n",
       "      <td>3784.770020</td>\n",
       "      <td>3878.899902</td>\n",
       "      <td>3613.110107</td>\n",
       "      <td>3822.989990</td>\n",
       "      <td>3822.989990</td>\n",
       "      <td>555212127</td>\n",
       "    </tr>\n",
       "    <tr>\n",
       "      <th>86</th>\n",
       "      <td>2018-11-28</td>\n",
       "      <td>3822.989990</td>\n",
       "      <td>4398.569824</td>\n",
       "      <td>3822.939941</td>\n",
       "      <td>4263.549805</td>\n",
       "      <td>4263.549805</td>\n",
       "      <td>726808596</td>\n",
       "    </tr>\n",
       "    <tr>\n",
       "      <th>87</th>\n",
       "      <td>2018-11-29</td>\n",
       "      <td>4263.520020</td>\n",
       "      <td>4444.390137</td>\n",
       "      <td>4130.680176</td>\n",
       "      <td>4286.689941</td>\n",
       "      <td>4286.689941</td>\n",
       "      <td>479575430</td>\n",
       "    </tr>\n",
       "    <tr>\n",
       "      <th>88</th>\n",
       "      <td>2018-11-30</td>\n",
       "      <td>4286.850098</td>\n",
       "      <td>4331.069824</td>\n",
       "      <td>3916.300049</td>\n",
       "      <td>4009.669922</td>\n",
       "      <td>4009.669922</td>\n",
       "      <td>497762735</td>\n",
       "    </tr>\n",
       "  </tbody>\n",
       "</table>\n",
       "</div>"
      ],
      "text/plain": [
       "          Date         Open         High          Low        Close  \\\n",
       "84  2018-11-26  4004.459961  4124.700195  3598.810059  3784.590088   \n",
       "85  2018-11-27  3784.770020  3878.899902  3613.110107  3822.989990   \n",
       "86  2018-11-28  3822.989990  4398.569824  3822.939941  4263.549805   \n",
       "87  2018-11-29  4263.520020  4444.390137  4130.680176  4286.689941   \n",
       "88  2018-11-30  4286.850098  4331.069824  3916.300049  4009.669922   \n",
       "\n",
       "      Adj Close     Volume  \n",
       "84  3784.590088  715341714  \n",
       "85  3822.989990  555212127  \n",
       "86  4263.549805  726808596  \n",
       "87  4286.689941  479575430  \n",
       "88  4009.669922  497762735  "
      ]
     },
     "execution_count": 105,
     "metadata": {},
     "output_type": "execute_result"
    }
   ],
   "source": [
    "# print last 5 rows of df_usd\n",
    "df_usd.tail()"
   ]
  },
  {
   "cell_type": "code",
   "execution_count": 106,
   "metadata": {},
   "outputs": [
    {
     "data": {
      "text/html": [
       "<div>\n",
       "<style>\n",
       "    .dataframe thead tr:only-child th {\n",
       "        text-align: right;\n",
       "    }\n",
       "\n",
       "    .dataframe thead th {\n",
       "        text-align: left;\n",
       "    }\n",
       "\n",
       "    .dataframe tbody tr th {\n",
       "        vertical-align: top;\n",
       "    }\n",
       "</style>\n",
       "<table border=\"1\" class=\"dataframe\">\n",
       "  <thead>\n",
       "    <tr style=\"text-align: right;\">\n",
       "      <th></th>\n",
       "      <th>Date</th>\n",
       "      <th>Price</th>\n",
       "      <th>Open</th>\n",
       "      <th>High</th>\n",
       "      <th>Low</th>\n",
       "      <th>Vol.</th>\n",
       "      <th>Change %</th>\n",
       "    </tr>\n",
       "  </thead>\n",
       "  <tbody>\n",
       "    <tr>\n",
       "      <th>0</th>\n",
       "      <td>Nov 30, 2018</td>\n",
       "      <td>3,895.0</td>\n",
       "      <td>4,225.0</td>\n",
       "      <td>4,265.0</td>\n",
       "      <td>3,835.0</td>\n",
       "      <td>-</td>\n",
       "      <td>-7.59%</td>\n",
       "    </tr>\n",
       "    <tr>\n",
       "      <th>1</th>\n",
       "      <td>Nov 29, 2018</td>\n",
       "      <td>4,215.0</td>\n",
       "      <td>4,205.0</td>\n",
       "      <td>4,350.0</td>\n",
       "      <td>4,060.0</td>\n",
       "      <td>-</td>\n",
       "      <td>0.24%</td>\n",
       "    </tr>\n",
       "    <tr>\n",
       "      <th>2</th>\n",
       "      <td>Nov 28, 2018</td>\n",
       "      <td>4,205.0</td>\n",
       "      <td>3,775.0</td>\n",
       "      <td>4,345.0</td>\n",
       "      <td>3,770.0</td>\n",
       "      <td>-</td>\n",
       "      <td>11.39%</td>\n",
       "    </tr>\n",
       "    <tr>\n",
       "      <th>3</th>\n",
       "      <td>Nov 27, 2018</td>\n",
       "      <td>3,775.0</td>\n",
       "      <td>3,650.0</td>\n",
       "      <td>3,775.0</td>\n",
       "      <td>3,550.0</td>\n",
       "      <td>-</td>\n",
       "      <td>4.28%</td>\n",
       "    </tr>\n",
       "    <tr>\n",
       "      <th>4</th>\n",
       "      <td>Nov 26, 2018</td>\n",
       "      <td>3,620.0</td>\n",
       "      <td>3,930.0</td>\n",
       "      <td>4,025.0</td>\n",
       "      <td>3,510.0</td>\n",
       "      <td>-</td>\n",
       "      <td>-7.89%</td>\n",
       "    </tr>\n",
       "  </tbody>\n",
       "</table>\n",
       "</div>"
      ],
      "text/plain": [
       "           Date    Price     Open     High      Low Vol. Change %\n",
       "0  Nov 30, 2018  3,895.0  4,225.0  4,265.0  3,835.0    -   -7.59%\n",
       "1  Nov 29, 2018  4,215.0  4,205.0  4,350.0  4,060.0    -    0.24%\n",
       "2  Nov 28, 2018  4,205.0  3,775.0  4,345.0  3,770.0    -   11.39%\n",
       "3  Nov 27, 2018  3,775.0  3,650.0  3,775.0  3,550.0    -    4.28%\n",
       "4  Nov 26, 2018  3,620.0  3,930.0  4,025.0  3,510.0    -   -7.89%"
      ]
     },
     "execution_count": 106,
     "metadata": {},
     "output_type": "execute_result"
    }
   ],
   "source": [
    "# print 1st 5 rows of df_cme\n",
    "df_cme.head()"
   ]
  },
  {
   "cell_type": "code",
   "execution_count": 107,
   "metadata": {},
   "outputs": [
    {
     "data": {
      "text/html": [
       "<div>\n",
       "<style>\n",
       "    .dataframe thead tr:only-child th {\n",
       "        text-align: right;\n",
       "    }\n",
       "\n",
       "    .dataframe thead th {\n",
       "        text-align: left;\n",
       "    }\n",
       "\n",
       "    .dataframe tbody tr th {\n",
       "        vertical-align: top;\n",
       "    }\n",
       "</style>\n",
       "<table border=\"1\" class=\"dataframe\">\n",
       "  <thead>\n",
       "    <tr style=\"text-align: right;\">\n",
       "      <th></th>\n",
       "      <th>Date</th>\n",
       "      <th>Price</th>\n",
       "      <th>Open</th>\n",
       "      <th>High</th>\n",
       "      <th>Low</th>\n",
       "      <th>Vol.</th>\n",
       "      <th>Change %</th>\n",
       "    </tr>\n",
       "  </thead>\n",
       "  <tbody>\n",
       "    <tr>\n",
       "      <th>71</th>\n",
       "      <td>Sep 06, 2018</td>\n",
       "      <td>6,460.0</td>\n",
       "      <td>6,670.0</td>\n",
       "      <td>6,700.0</td>\n",
       "      <td>6,215.0</td>\n",
       "      <td>-</td>\n",
       "      <td>-3.15%</td>\n",
       "    </tr>\n",
       "    <tr>\n",
       "      <th>72</th>\n",
       "      <td>Sep 05, 2018</td>\n",
       "      <td>6,670.0</td>\n",
       "      <td>7,355.0</td>\n",
       "      <td>7,395.0</td>\n",
       "      <td>6,590.0</td>\n",
       "      <td>-</td>\n",
       "      <td>-9.25%</td>\n",
       "    </tr>\n",
       "    <tr>\n",
       "      <th>73</th>\n",
       "      <td>Sep 04, 2018</td>\n",
       "      <td>7,350.0</td>\n",
       "      <td>7,265.0</td>\n",
       "      <td>7,410.0</td>\n",
       "      <td>7,220.0</td>\n",
       "      <td>-</td>\n",
       "      <td>1.24%</td>\n",
       "    </tr>\n",
       "    <tr>\n",
       "      <th>74</th>\n",
       "      <td>Sep 03, 2018</td>\n",
       "      <td>7,260.0</td>\n",
       "      <td>7,290.0</td>\n",
       "      <td>7,325.0</td>\n",
       "      <td>7,190.0</td>\n",
       "      <td>-</td>\n",
       "      <td>-0.41%</td>\n",
       "    </tr>\n",
       "    <tr>\n",
       "      <th>75</th>\n",
       "      <td>Sep 02, 2018</td>\n",
       "      <td>7,290.0</td>\n",
       "      <td>7,275.0</td>\n",
       "      <td>7,295.0</td>\n",
       "      <td>7,240.0</td>\n",
       "      <td>-</td>\n",
       "      <td>3.70%</td>\n",
       "    </tr>\n",
       "  </tbody>\n",
       "</table>\n",
       "</div>"
      ],
      "text/plain": [
       "            Date    Price     Open     High      Low Vol. Change %\n",
       "71  Sep 06, 2018  6,460.0  6,670.0  6,700.0  6,215.0    -   -3.15%\n",
       "72  Sep 05, 2018  6,670.0  7,355.0  7,395.0  6,590.0    -   -9.25%\n",
       "73  Sep 04, 2018  7,350.0  7,265.0  7,410.0  7,220.0    -    1.24%\n",
       "74  Sep 03, 2018  7,260.0  7,290.0  7,325.0  7,190.0    -   -0.41%\n",
       "75  Sep 02, 2018  7,290.0  7,275.0  7,295.0  7,240.0    -    3.70%"
      ]
     },
     "execution_count": 107,
     "metadata": {},
     "output_type": "execute_result"
    }
   ],
   "source": [
    "# print last 5 rows of df_cme\n",
    "df_cme.tail()"
   ]
  },
  {
   "cell_type": "code",
   "execution_count": 108,
   "metadata": {},
   "outputs": [],
   "source": [
    "# Convert the 'Low' and 'High' column from text to float\n",
    "df_cme[\"Low\"] = [np.float(x.replace(\",\", \"\")) for x in df_cme[\"Low\"]]\n",
    "df_cme[\"High\"] = [np.float(x.replace(\",\", \"\")) for x in df_cme[\"High\"]]"
   ]
  },
  {
   "cell_type": "code",
   "execution_count": 109,
   "metadata": {},
   "outputs": [
    {
     "name": "stdout",
     "output_type": "stream",
     "text": [
      "0    3835.0\n",
      "1    4060.0\n",
      "2    3770.0\n",
      "3    3550.0\n",
      "4    3510.0\n",
      "Name: Low, dtype: float64\n",
      "0    4265.0\n",
      "1    4350.0\n",
      "2    4345.0\n",
      "3    3775.0\n",
      "4    4025.0\n",
      "Name: High, dtype: float64\n"
     ]
    }
   ],
   "source": [
    "# print the new 'Low' and 'High' column - 1st 5 lines\n",
    "print(df_cme['Low'].head())\n",
    "print(df_cme['High'].head())"
   ]
  },
  {
   "cell_type": "code",
   "execution_count": 110,
   "metadata": {},
   "outputs": [
    {
     "name": "stdout",
     "output_type": "stream",
     "text": [
      "5977.76315789\n",
      "6200.72368421\n"
     ]
    }
   ],
   "source": [
    "# get mean value of the 'Low' and 'High' columns\n",
    "print(df_cme['Low'].mean())\n",
    "print(df_cme['High'].mean())"
   ]
  },
  {
   "cell_type": "code",
   "execution_count": 111,
   "metadata": {},
   "outputs": [
    {
     "data": {
      "text/plain": [
       "Open         6.176153e+03\n",
       "High         6.264355e+03\n",
       "Low          6.041043e+03\n",
       "Close        6.139058e+03\n",
       "Adj Close    6.139058e+03\n",
       "Volume       3.641961e+08\n",
       "dtype: float64"
      ]
     },
     "execution_count": 111,
     "metadata": {},
     "output_type": "execute_result"
    }
   ],
   "source": [
    "# Calculate the mean values for all of the columns in df_usd\n",
    "df_usd.mean()"
   ]
  },
  {
   "cell_type": "code",
   "execution_count": null,
   "metadata": {
    "collapsed": true
   },
   "outputs": [],
   "source": []
  }
 ],
 "metadata": {
  "kernelspec": {
   "display_name": "Python 2",
   "language": "python",
   "name": "python2"
  },
  "language_info": {
   "codemirror_mode": {
    "name": "ipython",
    "version": 2
   },
   "file_extension": ".py",
   "mimetype": "text/x-python",
   "name": "python",
   "nbconvert_exporter": "python",
   "pygments_lexer": "ipython2",
   "version": "2.7.13"
  }
 },
 "nbformat": 4,
 "nbformat_minor": 2
}
