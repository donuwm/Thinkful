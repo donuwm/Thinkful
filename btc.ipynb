{
 "cells": [
  {
   "cell_type": "markdown",
   "metadata": {},
   "source": [
    "# Introduction - Sell in May and Go Away ?  \n",
    "\n",
    "This notebook captures 10 years of daily historical data from ST Louis Federal Reserve's database for the following 5 securities:  \n",
    "\n",
    "- S&P 500  \n",
    "- 10 Year Treaury Bond  \n",
    "- Gold  \n",
    "- Oil  \n",
    "- Bitcoin  \n",
    "\n",
    "The goal is to answer several questions that could help various firms in the financial industry capitalize on patterns in market data.  Another goal is to explain relationships among various securities and provide a better understanding of day to day movements in price.  Accurately predicting daily price change can be profitable for short term trading while predicting medium or long term price change can be very beneficial for wide ranging planning and stretegic purposes for many, many different businesses and industries.  Specifically, this notebook addresses the following questions:  \n",
    "\n",
    "-  Do the different days of the week have a different rate of return (for the above mentioned securities) over the past 10 years ?  \n",
    "-  Does the daily weather have an affect on daily price change ?\n",
    "-  Do the different months of the year have a significant difference in rate of return over time ?\n",
    "-  Is the rate of return for the months of November to May better than the other 6 months ?\n",
    "-  Are there any unexpected or unspecified relationships between the 5 securities that could yield competitive advantages.  \n",
    "\n",
    "This notebook will follow the outline:  \n",
    "\n",
    "1.  Weather Data  \n",
    "2.  Financial Data  \n",
    "3.  Weather and Financial Data Combined  \n",
    "    A.  Supervised Predictive Models  \n",
    "    B.  Unsupbervised Predictive Models  \n"
   ]
  },
  {
   "cell_type": "markdown",
   "metadata": {},
   "source": [
    "Import necessary modules and libraries."
   ]
  },
  {
   "cell_type": "code",
   "execution_count": 1,
   "metadata": {},
   "outputs": [],
   "source": [
    "import numpy as np\n",
    "import pandas as pd\n",
    "import scipy\n",
    "from datetime import datetime\n",
    "import datetime as dt\n",
    "import matplotlib.pyplot as plt\n",
    "from scipy.stats import ttest_ind\n",
    "from scipy import stats\n",
    "import sklearn\n",
    "from sklearn import preprocessing\n",
    "from sklearn import linear_model\n",
    "import seaborn as sns\n",
    "%matplotlib inline"
   ]
  },
  {
   "cell_type": "markdown",
   "metadata": {},
   "source": [
    "# 1.  Weather Data  \n",
    "\n",
    "Import weather data for New York City from meteoblue.com."
   ]
  },
  {
   "cell_type": "code",
   "execution_count": 2,
   "metadata": {},
   "outputs": [
    {
     "data": {
      "text/html": [
       "<div>\n",
       "<style scoped>\n",
       "    .dataframe tbody tr th:only-of-type {\n",
       "        vertical-align: middle;\n",
       "    }\n",
       "\n",
       "    .dataframe tbody tr th {\n",
       "        vertical-align: top;\n",
       "    }\n",
       "\n",
       "    .dataframe thead th {\n",
       "        text-align: right;\n",
       "    }\n",
       "</style>\n",
       "<table border=\"1\" class=\"dataframe\">\n",
       "  <thead>\n",
       "    <tr style=\"text-align: right;\">\n",
       "      <th></th>\n",
       "      <th>Year</th>\n",
       "      <th>Month</th>\n",
       "      <th>Day</th>\n",
       "      <th>Hour</th>\n",
       "      <th>Minute</th>\n",
       "      <th>Sunshine Duration daily sum [sfc]</th>\n",
       "    </tr>\n",
       "  </thead>\n",
       "  <tbody>\n",
       "    <tr>\n",
       "      <th>0</th>\n",
       "      <td>2009</td>\n",
       "      <td>6</td>\n",
       "      <td>25</td>\n",
       "      <td>0</td>\n",
       "      <td>0</td>\n",
       "      <td>-726.93</td>\n",
       "    </tr>\n",
       "    <tr>\n",
       "      <th>1</th>\n",
       "      <td>2009</td>\n",
       "      <td>6</td>\n",
       "      <td>26</td>\n",
       "      <td>0</td>\n",
       "      <td>0</td>\n",
       "      <td>418.70</td>\n",
       "    </tr>\n",
       "    <tr>\n",
       "      <th>2</th>\n",
       "      <td>2009</td>\n",
       "      <td>6</td>\n",
       "      <td>27</td>\n",
       "      <td>0</td>\n",
       "      <td>0</td>\n",
       "      <td>743.23</td>\n",
       "    </tr>\n",
       "    <tr>\n",
       "      <th>3</th>\n",
       "      <td>2009</td>\n",
       "      <td>6</td>\n",
       "      <td>28</td>\n",
       "      <td>0</td>\n",
       "      <td>0</td>\n",
       "      <td>436.08</td>\n",
       "    </tr>\n",
       "    <tr>\n",
       "      <th>4</th>\n",
       "      <td>2009</td>\n",
       "      <td>6</td>\n",
       "      <td>29</td>\n",
       "      <td>0</td>\n",
       "      <td>0</td>\n",
       "      <td>848.28</td>\n",
       "    </tr>\n",
       "  </tbody>\n",
       "</table>\n",
       "</div>"
      ],
      "text/plain": [
       "   Year  Month  Day  Hour  Minute  Sunshine Duration daily sum [sfc]\n",
       "0  2009      6   25     0       0                            -726.93\n",
       "1  2009      6   26     0       0                             418.70\n",
       "2  2009      6   27     0       0                             743.23\n",
       "3  2009      6   28     0       0                             436.08\n",
       "4  2009      6   29     0       0                             848.28"
      ]
     },
     "execution_count": 2,
     "metadata": {},
     "output_type": "execute_result"
    }
   ],
   "source": [
    "# Use pandas read_csv command to import the local csv file\n",
    "dfw = pd.read_csv('nyc_daily.csv', skiprows=11, sep=';')\n",
    "dft = pd.read_csv('temp_and_snow.csv', skiprows=11, sep=';')\n",
    "dfw.head()"
   ]
  },
  {
   "cell_type": "code",
   "execution_count": 3,
   "metadata": {},
   "outputs": [
    {
     "data": {
      "text/html": [
       "<div>\n",
       "<style scoped>\n",
       "    .dataframe tbody tr th:only-of-type {\n",
       "        vertical-align: middle;\n",
       "    }\n",
       "\n",
       "    .dataframe tbody tr th {\n",
       "        vertical-align: top;\n",
       "    }\n",
       "\n",
       "    .dataframe thead th {\n",
       "        text-align: right;\n",
       "    }\n",
       "</style>\n",
       "<table border=\"1\" class=\"dataframe\">\n",
       "  <thead>\n",
       "    <tr style=\"text-align: right;\">\n",
       "      <th></th>\n",
       "      <th>Year</th>\n",
       "      <th>Month</th>\n",
       "      <th>Day</th>\n",
       "      <th>Hour</th>\n",
       "      <th>Minute</th>\n",
       "      <th>Temperature daily mean [2 m above gnd]</th>\n",
       "      <th>Snowfall Amount (high resolution) daily sum [sfc]</th>\n",
       "      <th>Temperature daily max [2 m above gnd]</th>\n",
       "      <th>Temperature daily min [2 m above gnd]</th>\n",
       "    </tr>\n",
       "  </thead>\n",
       "  <tbody>\n",
       "    <tr>\n",
       "      <th>0</th>\n",
       "      <td>2009</td>\n",
       "      <td>6</td>\n",
       "      <td>25</td>\n",
       "      <td>0</td>\n",
       "      <td>0</td>\n",
       "      <td>71.72</td>\n",
       "      <td>0.0</td>\n",
       "      <td>81.24</td>\n",
       "      <td>64.02</td>\n",
       "    </tr>\n",
       "    <tr>\n",
       "      <th>1</th>\n",
       "      <td>2009</td>\n",
       "      <td>6</td>\n",
       "      <td>26</td>\n",
       "      <td>0</td>\n",
       "      <td>0</td>\n",
       "      <td>76.91</td>\n",
       "      <td>0.0</td>\n",
       "      <td>88.19</td>\n",
       "      <td>66.18</td>\n",
       "    </tr>\n",
       "    <tr>\n",
       "      <th>2</th>\n",
       "      <td>2009</td>\n",
       "      <td>6</td>\n",
       "      <td>27</td>\n",
       "      <td>0</td>\n",
       "      <td>0</td>\n",
       "      <td>76.34</td>\n",
       "      <td>0.0</td>\n",
       "      <td>83.91</td>\n",
       "      <td>65.85</td>\n",
       "    </tr>\n",
       "    <tr>\n",
       "      <th>3</th>\n",
       "      <td>2009</td>\n",
       "      <td>6</td>\n",
       "      <td>28</td>\n",
       "      <td>0</td>\n",
       "      <td>0</td>\n",
       "      <td>72.35</td>\n",
       "      <td>0.0</td>\n",
       "      <td>78.78</td>\n",
       "      <td>66.54</td>\n",
       "    </tr>\n",
       "    <tr>\n",
       "      <th>4</th>\n",
       "      <td>2009</td>\n",
       "      <td>6</td>\n",
       "      <td>29</td>\n",
       "      <td>0</td>\n",
       "      <td>0</td>\n",
       "      <td>75.43</td>\n",
       "      <td>0.0</td>\n",
       "      <td>84.19</td>\n",
       "      <td>65.20</td>\n",
       "    </tr>\n",
       "  </tbody>\n",
       "</table>\n",
       "</div>"
      ],
      "text/plain": [
       "   Year  Month  Day  Hour  Minute  Temperature daily mean [2 m above gnd]  \\\n",
       "0  2009      6   25     0       0                                   71.72   \n",
       "1  2009      6   26     0       0                                   76.91   \n",
       "2  2009      6   27     0       0                                   76.34   \n",
       "3  2009      6   28     0       0                                   72.35   \n",
       "4  2009      6   29     0       0                                   75.43   \n",
       "\n",
       "   Snowfall Amount (high resolution) daily sum [sfc]  \\\n",
       "0                                                0.0   \n",
       "1                                                0.0   \n",
       "2                                                0.0   \n",
       "3                                                0.0   \n",
       "4                                                0.0   \n",
       "\n",
       "   Temperature daily max [2 m above gnd]  \\\n",
       "0                                  81.24   \n",
       "1                                  88.19   \n",
       "2                                  83.91   \n",
       "3                                  78.78   \n",
       "4                                  84.19   \n",
       "\n",
       "   Temperature daily min [2 m above gnd]  \n",
       "0                                  64.02  \n",
       "1                                  66.18  \n",
       "2                                  65.85  \n",
       "3                                  66.54  \n",
       "4                                  65.20  "
      ]
     },
     "execution_count": 3,
     "metadata": {},
     "output_type": "execute_result"
    }
   ],
   "source": [
    "dft.head()"
   ]
  },
  {
   "cell_type": "code",
   "execution_count": null,
   "metadata": {},
   "outputs": [],
   "source": []
  },
  {
   "cell_type": "code",
   "execution_count": null,
   "metadata": {},
   "outputs": [],
   "source": []
  },
  {
   "cell_type": "markdown",
   "metadata": {},
   "source": [
    "Drop some of the data not needed for now; rename a column and drop the first (and strange) negative number."
   ]
  },
  {
   "cell_type": "code",
   "execution_count": 4,
   "metadata": {},
   "outputs": [
    {
     "name": "stdout",
     "output_type": "stream",
     "text": [
      "Index(['Year', 'Month', 'Day', 'Sun'], dtype='object')\n",
      "Index(['Year', 'Month', 'Day', 'avg_temp'], dtype='object')\n"
     ]
    }
   ],
   "source": [
    "# drop the Hour and Minute columns\n",
    "dfw.drop(['Hour', 'Minute'], axis=1, inplace=True)\n",
    "dft.drop(['Hour', 'Minute'], axis=1, inplace=True)\n",
    "\n",
    "# change long named column to just 'Sun'\n",
    "dfw.columns = ['Year', 'Month', 'Day', 'Sun']\n",
    "dft.columns = ['Year', 'Month', 'Day', 'avg_temp', 'snow', 'max', 'min']\n",
    "\n",
    "# Convert negative numbers to zero\n",
    "dfw[dfw < 0] = 0\n",
    "dft[dft < 0] = 0\n",
    "\n",
    "# drop 'snow', 'max', 'min' for now\n",
    "dft.drop(['snow', 'max', 'min'], axis=1, inplace=True)\n",
    "\n",
    "print(dfw.columns)\n",
    "print(dft.columns)"
   ]
  },
  {
   "cell_type": "markdown",
   "metadata": {},
   "source": [
    "Next, look at the first five lines of the dataframe."
   ]
  },
  {
   "cell_type": "code",
   "execution_count": 5,
   "metadata": {},
   "outputs": [
    {
     "data": {
      "text/html": [
       "<div>\n",
       "<style scoped>\n",
       "    .dataframe tbody tr th:only-of-type {\n",
       "        vertical-align: middle;\n",
       "    }\n",
       "\n",
       "    .dataframe tbody tr th {\n",
       "        vertical-align: top;\n",
       "    }\n",
       "\n",
       "    .dataframe thead th {\n",
       "        text-align: right;\n",
       "    }\n",
       "</style>\n",
       "<table border=\"1\" class=\"dataframe\">\n",
       "  <thead>\n",
       "    <tr style=\"text-align: right;\">\n",
       "      <th></th>\n",
       "      <th>Year</th>\n",
       "      <th>Month</th>\n",
       "      <th>Day</th>\n",
       "      <th>Sun</th>\n",
       "    </tr>\n",
       "  </thead>\n",
       "  <tbody>\n",
       "    <tr>\n",
       "      <th>0</th>\n",
       "      <td>2009</td>\n",
       "      <td>6</td>\n",
       "      <td>25</td>\n",
       "      <td>0.00</td>\n",
       "    </tr>\n",
       "    <tr>\n",
       "      <th>1</th>\n",
       "      <td>2009</td>\n",
       "      <td>6</td>\n",
       "      <td>26</td>\n",
       "      <td>418.70</td>\n",
       "    </tr>\n",
       "    <tr>\n",
       "      <th>2</th>\n",
       "      <td>2009</td>\n",
       "      <td>6</td>\n",
       "      <td>27</td>\n",
       "      <td>743.23</td>\n",
       "    </tr>\n",
       "    <tr>\n",
       "      <th>3</th>\n",
       "      <td>2009</td>\n",
       "      <td>6</td>\n",
       "      <td>28</td>\n",
       "      <td>436.08</td>\n",
       "    </tr>\n",
       "    <tr>\n",
       "      <th>4</th>\n",
       "      <td>2009</td>\n",
       "      <td>6</td>\n",
       "      <td>29</td>\n",
       "      <td>848.28</td>\n",
       "    </tr>\n",
       "  </tbody>\n",
       "</table>\n",
       "</div>"
      ],
      "text/plain": [
       "   Year  Month  Day     Sun\n",
       "0  2009      6   25    0.00\n",
       "1  2009      6   26  418.70\n",
       "2  2009      6   27  743.23\n",
       "3  2009      6   28  436.08\n",
       "4  2009      6   29  848.28"
      ]
     },
     "execution_count": 5,
     "metadata": {},
     "output_type": "execute_result"
    }
   ],
   "source": [
    "dfw.head()"
   ]
  },
  {
   "cell_type": "markdown",
   "metadata": {},
   "source": [
    "Set up the data to plot the number of minutes of sun per day over the entire time horizon."
   ]
  },
  {
   "cell_type": "code",
   "execution_count": 6,
   "metadata": {},
   "outputs": [],
   "source": [
    "dfw_plot = dfw\n",
    "dfw_plot['dt'] = pd.to_datetime((dfw.Year*10000+dfw.Month*100+dfw.Day).apply(str),format='%Y%m%d')\n",
    "dfw_plot.columns = ['Year', 'Month', 'Day', 'Sun', 'dt']\n",
    "dfw_plot.index = pd.to_datetime(dfw_plot.dt)\n",
    "dfw_plot.drop(['Year'], axis=1, inplace=True)\n",
    "dfw_plot.drop(['Month'], axis=1, inplace=True)\n",
    "dfw_plot.drop(['Day'], axis=1, inplace=True)\n",
    "dfw_plot.drop(['dt'], axis=1, inplace=True)\n",
    "\n",
    "dft['dt'] = pd.to_datetime((dft.Year*10000+dft.Month*100+dft.Day).apply(str),format='%Y%m%d')\n",
    "dft.columns = ['Year', 'Month', 'Day', 'avg_temp', 'dt']\n",
    "dft.index = pd.to_datetime(dft.dt)\n",
    "dft.drop(['Year'], axis=1, inplace=True)\n",
    "dft.drop(['Month'], axis=1, inplace=True)\n",
    "dft.drop(['Day'], axis=1, inplace=True)\n",
    "dft.drop(['dt'], axis=1, inplace=True)"
   ]
  },
  {
   "cell_type": "code",
   "execution_count": 7,
   "metadata": {},
   "outputs": [
    {
     "data": {
      "text/plain": [
       "Sun    float64\n",
       "dtype: object"
      ]
     },
     "execution_count": 7,
     "metadata": {},
     "output_type": "execute_result"
    }
   ],
   "source": [
    "dfw_plot.dtypes"
   ]
  },
  {
   "cell_type": "code",
   "execution_count": 8,
   "metadata": {},
   "outputs": [
    {
     "data": {
      "text/html": [
       "<div>\n",
       "<style scoped>\n",
       "    .dataframe tbody tr th:only-of-type {\n",
       "        vertical-align: middle;\n",
       "    }\n",
       "\n",
       "    .dataframe tbody tr th {\n",
       "        vertical-align: top;\n",
       "    }\n",
       "\n",
       "    .dataframe thead th {\n",
       "        text-align: right;\n",
       "    }\n",
       "</style>\n",
       "<table border=\"1\" class=\"dataframe\">\n",
       "  <thead>\n",
       "    <tr style=\"text-align: right;\">\n",
       "      <th></th>\n",
       "      <th>Sun</th>\n",
       "    </tr>\n",
       "    <tr>\n",
       "      <th>dt</th>\n",
       "      <th></th>\n",
       "    </tr>\n",
       "  </thead>\n",
       "  <tbody>\n",
       "    <tr>\n",
       "      <th>2009-06-25</th>\n",
       "      <td>0.00</td>\n",
       "    </tr>\n",
       "    <tr>\n",
       "      <th>2009-06-26</th>\n",
       "      <td>418.70</td>\n",
       "    </tr>\n",
       "    <tr>\n",
       "      <th>2009-06-27</th>\n",
       "      <td>743.23</td>\n",
       "    </tr>\n",
       "    <tr>\n",
       "      <th>2009-06-28</th>\n",
       "      <td>436.08</td>\n",
       "    </tr>\n",
       "    <tr>\n",
       "      <th>2009-06-29</th>\n",
       "      <td>848.28</td>\n",
       "    </tr>\n",
       "  </tbody>\n",
       "</table>\n",
       "</div>"
      ],
      "text/plain": [
       "               Sun\n",
       "dt                \n",
       "2009-06-25    0.00\n",
       "2009-06-26  418.70\n",
       "2009-06-27  743.23\n",
       "2009-06-28  436.08\n",
       "2009-06-29  848.28"
      ]
     },
     "execution_count": 8,
     "metadata": {},
     "output_type": "execute_result"
    }
   ],
   "source": [
    "dfw_plot.head()"
   ]
  },
  {
   "cell_type": "markdown",
   "metadata": {},
   "source": [
    "In the above dataframe, the index has been changed to a date-time object.  Next, the plot shows the amount of sunshine in minutes for New York City."
   ]
  },
  {
   "cell_type": "code",
   "execution_count": 9,
   "metadata": {},
   "outputs": [
    {
     "data": {
      "image/png": "[encoded data removed]",
      "text/plain": [
       "<Figure size 1008x432 with 1 Axes>"
      ]
     },
     "metadata": {
      "needs_background": "light"
     },
     "output_type": "display_data"
    }
   ],
   "source": [
    "dfw_plot.plot(figsize=(14, 6))\n",
    "plt.title('Minutes of Sunshine Per Day in New York City')\n",
    "plt.ylabel('Minutes')\n",
    "plt.show()"
   ]
  },
  {
   "cell_type": "markdown",
   "metadata": {},
   "source": [
    "The seasonality is obvious from the plot above.  Many more minutes of sunshine in the summer months than in the winter.  Does this have any affect on trading activity or price change in the equtiy markets ?  New York City was chosen because it is a financial hub, wall street is there, the largest banks and hedge funds are there, and it's a generally a massively influencial city in the world of Finance.  \n",
    "\n",
    "This next line of code groups the number of sunny hours by day of the month.  This was originally created because the data was listed and imported by the hour.  However, the data used in this study is grouped by day."
   ]
  },
  {
   "cell_type": "code",
   "execution_count": null,
   "metadata": {},
   "outputs": [],
   "source": []
  },
  {
   "cell_type": "code",
   "execution_count": null,
   "metadata": {},
   "outputs": [],
   "source": []
  },
  {
   "cell_type": "markdown",
   "metadata": {},
   "source": [
    "# Financial Data"
   ]
  },
  {
   "cell_type": "code",
   "execution_count": 10,
   "metadata": {},
   "outputs": [],
   "source": [
    "df = pd.read_csv('SP500.csv')\n",
    "df_10 = pd.read_csv('DGS10.csv')\n",
    "df_10_10 = pd.read_csv('DGS10_10.csv')\n",
    "df_gold = pd.read_csv('gold.csv')\n",
    "df_oil = pd.read_csv('oil.csv')\n",
    "df_btc = pd.read_csv('btc.csv')\n",
    "\n",
    "\n",
    "# Convert price to a number, with coersion to throw NA's if conversion not possible\n",
    "df['price'] = pd.to_numeric(df.SP500, errors='coerce')\n",
    "df_10['price'] = pd.to_numeric(df_10.DGS10, errors='coerce')\n",
    "df_10_10['price'] = pd.to_numeric(df_10_10.DGS10, errors='coerce')\n",
    "df_gold['price'] = pd.to_numeric(df_gold.GOLDAMGBD229NLBM, errors='coerce')\n",
    "df_oil['price'] = pd.to_numeric(df_oil.DCOILWTICO, errors='coerce')\n",
    "df_btc['price'] = pd.to_numeric(df_btc.CBBTCUSD, errors='coerce')\n",
    "\n",
    "\n",
    "# Remove NA's\n",
    "df.dropna(inplace=True)\n",
    "df_10.dropna(inplace=True)\n",
    "df_10_10.dropna(inplace=True)\n",
    "df_gold.dropna(inplace=True)\n",
    "df_oil.dropna(inplace=True)\n",
    "df_btc.dropna(inplace=True)"
   ]
  },
  {
   "cell_type": "code",
   "execution_count": 11,
   "metadata": {},
   "outputs": [
    {
     "data": {
      "text/html": [
       "<div>\n",
       "<style scoped>\n",
       "    .dataframe tbody tr th:only-of-type {\n",
       "        vertical-align: middle;\n",
       "    }\n",
       "\n",
       "    .dataframe tbody tr th {\n",
       "        vertical-align: top;\n",
       "    }\n",
       "\n",
       "    .dataframe thead th {\n",
       "        text-align: right;\n",
       "    }\n",
       "</style>\n",
       "<table border=\"1\" class=\"dataframe\">\n",
       "  <thead>\n",
       "    <tr style=\"text-align: right;\">\n",
       "      <th></th>\n",
       "      <th>DATE</th>\n",
       "      <th>SP500</th>\n",
       "      <th>price</th>\n",
       "    </tr>\n",
       "  </thead>\n",
       "  <tbody>\n",
       "    <tr>\n",
       "      <th>0</th>\n",
       "      <td>2009-06-26</td>\n",
       "      <td>918.90</td>\n",
       "      <td>918.90</td>\n",
       "    </tr>\n",
       "    <tr>\n",
       "      <th>1</th>\n",
       "      <td>2009-06-29</td>\n",
       "      <td>927.23</td>\n",
       "      <td>927.23</td>\n",
       "    </tr>\n",
       "    <tr>\n",
       "      <th>2</th>\n",
       "      <td>2009-06-30</td>\n",
       "      <td>919.32</td>\n",
       "      <td>919.32</td>\n",
       "    </tr>\n",
       "    <tr>\n",
       "      <th>3</th>\n",
       "      <td>2009-07-01</td>\n",
       "      <td>923.33</td>\n",
       "      <td>923.33</td>\n",
       "    </tr>\n",
       "    <tr>\n",
       "      <th>4</th>\n",
       "      <td>2009-07-02</td>\n",
       "      <td>896.42</td>\n",
       "      <td>896.42</td>\n",
       "    </tr>\n",
       "  </tbody>\n",
       "</table>\n",
       "</div>"
      ],
      "text/plain": [
       "         DATE   SP500   price\n",
       "0  2009-06-26  918.90  918.90\n",
       "1  2009-06-29  927.23  927.23\n",
       "2  2009-06-30  919.32  919.32\n",
       "3  2009-07-01  923.33  923.33\n",
       "4  2009-07-02  896.42  896.42"
      ]
     },
     "execution_count": 11,
     "metadata": {},
     "output_type": "execute_result"
    }
   ],
   "source": [
    "df.head()"
   ]
  },
  {
   "cell_type": "code",
   "execution_count": 12,
   "metadata": {},
   "outputs": [
    {
     "data": {
      "text/html": [
       "<div>\n",
       "<style scoped>\n",
       "    .dataframe tbody tr th:only-of-type {\n",
       "        vertical-align: middle;\n",
       "    }\n",
       "\n",
       "    .dataframe tbody tr th {\n",
       "        vertical-align: top;\n",
       "    }\n",
       "\n",
       "    .dataframe thead th {\n",
       "        text-align: right;\n",
       "    }\n",
       "</style>\n",
       "<table border=\"1\" class=\"dataframe\">\n",
       "  <thead>\n",
       "    <tr style=\"text-align: right;\">\n",
       "      <th></th>\n",
       "      <th>DATE</th>\n",
       "      <th>DGS10</th>\n",
       "      <th>price</th>\n",
       "    </tr>\n",
       "  </thead>\n",
       "  <tbody>\n",
       "    <tr>\n",
       "      <th>0</th>\n",
       "      <td>1962-01-02</td>\n",
       "      <td>4.06</td>\n",
       "      <td>4.06</td>\n",
       "    </tr>\n",
       "    <tr>\n",
       "      <th>1</th>\n",
       "      <td>1962-01-03</td>\n",
       "      <td>4.03</td>\n",
       "      <td>4.03</td>\n",
       "    </tr>\n",
       "    <tr>\n",
       "      <th>2</th>\n",
       "      <td>1962-01-04</td>\n",
       "      <td>3.99</td>\n",
       "      <td>3.99</td>\n",
       "    </tr>\n",
       "    <tr>\n",
       "      <th>3</th>\n",
       "      <td>1962-01-05</td>\n",
       "      <td>4.02</td>\n",
       "      <td>4.02</td>\n",
       "    </tr>\n",
       "    <tr>\n",
       "      <th>4</th>\n",
       "      <td>1962-01-08</td>\n",
       "      <td>4.03</td>\n",
       "      <td>4.03</td>\n",
       "    </tr>\n",
       "  </tbody>\n",
       "</table>\n",
       "</div>"
      ],
      "text/plain": [
       "         DATE DGS10  price\n",
       "0  1962-01-02  4.06   4.06\n",
       "1  1962-01-03  4.03   4.03\n",
       "2  1962-01-04  3.99   3.99\n",
       "3  1962-01-05  4.02   4.02\n",
       "4  1962-01-08  4.03   4.03"
      ]
     },
     "execution_count": 12,
     "metadata": {},
     "output_type": "execute_result"
    }
   ],
   "source": [
    "df_10.head()"
   ]
  },
  {
   "cell_type": "code",
   "execution_count": 13,
   "metadata": {},
   "outputs": [
    {
     "data": {
      "text/html": [
       "<div>\n",
       "<style scoped>\n",
       "    .dataframe tbody tr th:only-of-type {\n",
       "        vertical-align: middle;\n",
       "    }\n",
       "\n",
       "    .dataframe tbody tr th {\n",
       "        vertical-align: top;\n",
       "    }\n",
       "\n",
       "    .dataframe thead th {\n",
       "        text-align: right;\n",
       "    }\n",
       "</style>\n",
       "<table border=\"1\" class=\"dataframe\">\n",
       "  <thead>\n",
       "    <tr style=\"text-align: right;\">\n",
       "      <th></th>\n",
       "      <th>DATE</th>\n",
       "      <th>DGS10</th>\n",
       "      <th>price</th>\n",
       "    </tr>\n",
       "  </thead>\n",
       "  <tbody>\n",
       "    <tr>\n",
       "      <th>0</th>\n",
       "      <td>2009-06-26</td>\n",
       "      <td>3.52</td>\n",
       "      <td>3.52</td>\n",
       "    </tr>\n",
       "    <tr>\n",
       "      <th>1</th>\n",
       "      <td>2009-06-29</td>\n",
       "      <td>3.51</td>\n",
       "      <td>3.51</td>\n",
       "    </tr>\n",
       "    <tr>\n",
       "      <th>2</th>\n",
       "      <td>2009-06-30</td>\n",
       "      <td>3.53</td>\n",
       "      <td>3.53</td>\n",
       "    </tr>\n",
       "    <tr>\n",
       "      <th>3</th>\n",
       "      <td>2009-07-01</td>\n",
       "      <td>3.55</td>\n",
       "      <td>3.55</td>\n",
       "    </tr>\n",
       "    <tr>\n",
       "      <th>4</th>\n",
       "      <td>2009-07-02</td>\n",
       "      <td>3.51</td>\n",
       "      <td>3.51</td>\n",
       "    </tr>\n",
       "  </tbody>\n",
       "</table>\n",
       "</div>"
      ],
      "text/plain": [
       "         DATE DGS10  price\n",
       "0  2009-06-26  3.52   3.52\n",
       "1  2009-06-29  3.51   3.51\n",
       "2  2009-06-30  3.53   3.53\n",
       "3  2009-07-01  3.55   3.55\n",
       "4  2009-07-02  3.51   3.51"
      ]
     },
     "execution_count": 13,
     "metadata": {},
     "output_type": "execute_result"
    }
   ],
   "source": [
    "df_10_10.head()"
   ]
  },
  {
   "cell_type": "code",
   "execution_count": 14,
   "metadata": {},
   "outputs": [
    {
     "data": {
      "text/html": [
       "<div>\n",
       "<style scoped>\n",
       "    .dataframe tbody tr th:only-of-type {\n",
       "        vertical-align: middle;\n",
       "    }\n",
       "\n",
       "    .dataframe tbody tr th {\n",
       "        vertical-align: top;\n",
       "    }\n",
       "\n",
       "    .dataframe thead th {\n",
       "        text-align: right;\n",
       "    }\n",
       "</style>\n",
       "<table border=\"1\" class=\"dataframe\">\n",
       "  <thead>\n",
       "    <tr style=\"text-align: right;\">\n",
       "      <th></th>\n",
       "      <th>DATE</th>\n",
       "      <th>GOLDAMGBD229NLBM</th>\n",
       "      <th>price</th>\n",
       "    </tr>\n",
       "  </thead>\n",
       "  <tbody>\n",
       "    <tr>\n",
       "      <th>0</th>\n",
       "      <td>2009-06-26</td>\n",
       "      <td>572.566</td>\n",
       "      <td>572.566</td>\n",
       "    </tr>\n",
       "    <tr>\n",
       "      <th>1</th>\n",
       "      <td>2009-06-29</td>\n",
       "      <td>570.133</td>\n",
       "      <td>570.133</td>\n",
       "    </tr>\n",
       "    <tr>\n",
       "      <th>2</th>\n",
       "      <td>2009-06-30</td>\n",
       "      <td>566.697</td>\n",
       "      <td>566.697</td>\n",
       "    </tr>\n",
       "    <tr>\n",
       "      <th>3</th>\n",
       "      <td>2009-07-01</td>\n",
       "      <td>567.296</td>\n",
       "      <td>567.296</td>\n",
       "    </tr>\n",
       "    <tr>\n",
       "      <th>4</th>\n",
       "      <td>2009-07-02</td>\n",
       "      <td>571.708</td>\n",
       "      <td>571.708</td>\n",
       "    </tr>\n",
       "  </tbody>\n",
       "</table>\n",
       "</div>"
      ],
      "text/plain": [
       "         DATE GOLDAMGBD229NLBM    price\n",
       "0  2009-06-26          572.566  572.566\n",
       "1  2009-06-29          570.133  570.133\n",
       "2  2009-06-30          566.697  566.697\n",
       "3  2009-07-01          567.296  567.296\n",
       "4  2009-07-02          571.708  571.708"
      ]
     },
     "execution_count": 14,
     "metadata": {},
     "output_type": "execute_result"
    }
   ],
   "source": [
    "df_gold.head()"
   ]
  },
  {
   "cell_type": "code",
   "execution_count": 15,
   "metadata": {},
   "outputs": [
    {
     "name": "stdout",
     "output_type": "stream",
     "text": [
      "Index(['DATE', 'GOLDAMGBD229NLBM', 'price'], dtype='object')\n",
      "DATE                 object\n",
      "GOLDAMGBD229NLBM     object\n",
      "price               float64\n",
      "dtype: object\n"
     ]
    }
   ],
   "source": [
    "print(df_gold.columns)\n",
    "print(df_gold.dtypes)"
   ]
  },
  {
   "cell_type": "code",
   "execution_count": 16,
   "metadata": {},
   "outputs": [
    {
     "data": {
      "text/html": [
       "<div>\n",
       "<style scoped>\n",
       "    .dataframe tbody tr th:only-of-type {\n",
       "        vertical-align: middle;\n",
       "    }\n",
       "\n",
       "    .dataframe tbody tr th {\n",
       "        vertical-align: top;\n",
       "    }\n",
       "\n",
       "    .dataframe thead th {\n",
       "        text-align: right;\n",
       "    }\n",
       "</style>\n",
       "<table border=\"1\" class=\"dataframe\">\n",
       "  <thead>\n",
       "    <tr style=\"text-align: right;\">\n",
       "      <th></th>\n",
       "      <th>DATE</th>\n",
       "      <th>CBBTCUSD</th>\n",
       "      <th>price</th>\n",
       "    </tr>\n",
       "  </thead>\n",
       "  <tbody>\n",
       "    <tr>\n",
       "      <th>0</th>\n",
       "      <td>2014-12-01</td>\n",
       "      <td>370</td>\n",
       "      <td>370.0</td>\n",
       "    </tr>\n",
       "    <tr>\n",
       "      <th>1</th>\n",
       "      <td>2014-12-02</td>\n",
       "      <td>378</td>\n",
       "      <td>378.0</td>\n",
       "    </tr>\n",
       "    <tr>\n",
       "      <th>2</th>\n",
       "      <td>2014-12-03</td>\n",
       "      <td>378</td>\n",
       "      <td>378.0</td>\n",
       "    </tr>\n",
       "    <tr>\n",
       "      <th>3</th>\n",
       "      <td>2014-12-04</td>\n",
       "      <td>377.1</td>\n",
       "      <td>377.1</td>\n",
       "    </tr>\n",
       "    <tr>\n",
       "      <th>5</th>\n",
       "      <td>2014-12-06</td>\n",
       "      <td>378</td>\n",
       "      <td>378.0</td>\n",
       "    </tr>\n",
       "  </tbody>\n",
       "</table>\n",
       "</div>"
      ],
      "text/plain": [
       "         DATE CBBTCUSD  price\n",
       "0  2014-12-01      370  370.0\n",
       "1  2014-12-02      378  378.0\n",
       "2  2014-12-03      378  378.0\n",
       "3  2014-12-04    377.1  377.1\n",
       "5  2014-12-06      378  378.0"
      ]
     },
     "execution_count": 16,
     "metadata": {},
     "output_type": "execute_result"
    }
   ],
   "source": [
    "df_btc.head()"
   ]
  },
  {
   "cell_type": "code",
   "execution_count": 17,
   "metadata": {},
   "outputs": [
    {
     "data": {
      "image/png": "[encoded data removed]",
      "text/plain": [
       "<Figure size 864x432 with 1 Axes>"
      ]
     },
     "metadata": {
      "needs_background": "light"
     },
     "output_type": "display_data"
    }
   ],
   "source": [
    "df.plot(figsize=(12, 6))\n",
    "plt.title('S&P500 Time Series')\n",
    "plt.show()"
   ]
  },
  {
   "cell_type": "code",
   "execution_count": 18,
   "metadata": {},
   "outputs": [
    {
     "data": {
      "image/png": "[encoded data removed]",
      "text/plain": [
       "<Figure size 864x432 with 1 Axes>"
      ]
     },
     "metadata": {
      "needs_background": "light"
     },
     "output_type": "display_data"
    }
   ],
   "source": [
    "df_10.plot(figsize=(12, 6))\n",
    "plt.title('10 Yr Bond Time Series')\n",
    "plt.show()"
   ]
  },
  {
   "cell_type": "code",
   "execution_count": 19,
   "metadata": {},
   "outputs": [
    {
     "data": {
      "image/png": "[encoded data removed]",
      "text/plain": [
       "<Figure size 864x432 with 1 Axes>"
      ]
     },
     "metadata": {
      "needs_background": "light"
     },
     "output_type": "display_data"
    }
   ],
   "source": [
    "df.index = pd.to_datetime(df.DATE)\n",
    "df.plot(figsize=(12, 6))\n",
    "plt.title('S&P 500 Time Series')\n",
    "plt.show()"
   ]
  },
  {
   "cell_type": "code",
   "execution_count": 20,
   "metadata": {},
   "outputs": [
    {
     "data": {
      "image/png": "[encoded data removed]",
      "text/plain": [
       "<Figure size 864x432 with 1 Axes>"
      ]
     },
     "metadata": {
      "needs_background": "light"
     },
     "output_type": "display_data"
    }
   ],
   "source": [
    "df_10.index = pd.to_datetime(df_10.DATE)\n",
    "df_10.plot(figsize=(12, 6))\n",
    "plt.title('10 Yr Bond Time Series')\n",
    "plt.show()"
   ]
  },
  {
   "cell_type": "code",
   "execution_count": 21,
   "metadata": {},
   "outputs": [
    {
     "name": "stdout",
     "output_type": "stream",
     "text": [
      "DATE      object\n",
      "SP500     object\n",
      "price    float64\n",
      "dtype: object\n",
      "DATE      object\n",
      "DGS10     object\n",
      "price    float64\n",
      "dtype: object\n"
     ]
    }
   ],
   "source": [
    "print(df.dtypes)\n",
    "print(df_10.dtypes)"
   ]
  },
  {
   "cell_type": "markdown",
   "metadata": {},
   "source": [
    "The next step separates the weekday, day of month, month and year from the date object."
   ]
  },
  {
   "cell_type": "code",
   "execution_count": 22,
   "metadata": {},
   "outputs": [],
   "source": [
    "# For S&P 500\n",
    "df['date_time'] = pd.to_datetime(df['DATE'])\n",
    "\n",
    "df['weekday'] = df.date_time.dt.weekday\n",
    "df['day'] = df.date_time.dt.day\n",
    "df['month'] = df.date_time.dt.month\n",
    "df['year'] = df.date_time.dt.year\n",
    "\n",
    "# For 10 Yr Bond\n",
    "df_10['date_time'] = pd.to_datetime(df_10['DATE'])\n",
    "\n",
    "df_10['weekday'] = df_10.date_time.dt.weekday\n",
    "df_10['day'] = df_10.date_time.dt.day\n",
    "df_10['month'] = df_10.date_time.dt.month\n",
    "df_10['year'] = df_10.date_time.dt.year\n",
    "\n",
    "# For 10 Yr Bond (last 10 years only)\n",
    "df_10_10['date_time'] = pd.to_datetime(df_10_10['DATE'])\n",
    "\n",
    "df_10_10['weekday'] = df_10_10.date_time.dt.weekday\n",
    "df_10_10['day'] = df_10_10.date_time.dt.day\n",
    "df_10_10['month'] = df_10_10.date_time.dt.month\n",
    "df_10_10['year'] = df_10_10.date_time.dt.year\n",
    "\n",
    "# For gold (last 10 years only)\n",
    "df_gold['date_time'] = pd.to_datetime(df_gold['DATE'])\n",
    "\n",
    "df_gold['weekday'] = df_gold.date_time.dt.weekday\n",
    "df_gold['day'] = df_gold.date_time.dt.day\n",
    "df_gold['month'] = df_gold.date_time.dt.month\n",
    "df_gold['year'] = df_gold.date_time.dt.year\n",
    "\n",
    "# For oil (last 10 years only)\n",
    "df_oil['date_time'] = pd.to_datetime(df_oil['DATE'])\n",
    "\n",
    "df_oil['weekday'] = df_oil.date_time.dt.weekday\n",
    "df_oil['day'] = df_oil.date_time.dt.day\n",
    "df_oil['month'] = df_oil.date_time.dt.month\n",
    "df_oil['year'] = df_oil.date_time.dt.year\n",
    "\n",
    "# For bitcoin\n",
    "df_btc['date_time'] = pd.to_datetime(df_btc['DATE'])\n",
    "\n",
    "df_btc['weekday'] = df_btc.date_time.dt.weekday\n",
    "df_btc['day'] = df_btc.date_time.dt.day\n",
    "df_btc['month'] = df_btc.date_time.dt.month\n",
    "df_btc['year'] = df_btc.date_time.dt.year"
   ]
  },
  {
   "cell_type": "markdown",
   "metadata": {},
   "source": [
    "0 = Monday  \n",
    "1 = Tuesday  \n",
    "2 = Wednesday  \n",
    "3 = Thursday  \n",
    "4 = Friday  \n",
    "\n",
    "Prices are the closing price for the day listed."
   ]
  },
  {
   "cell_type": "code",
   "execution_count": 23,
   "metadata": {},
   "outputs": [
    {
     "data": {
      "text/html": [
       "<div>\n",
       "<style scoped>\n",
       "    .dataframe tbody tr th:only-of-type {\n",
       "        vertical-align: middle;\n",
       "    }\n",
       "\n",
       "    .dataframe tbody tr th {\n",
       "        vertical-align: top;\n",
       "    }\n",
       "\n",
       "    .dataframe thead th {\n",
       "        text-align: right;\n",
       "    }\n",
       "</style>\n",
       "<table border=\"1\" class=\"dataframe\">\n",
       "  <thead>\n",
       "    <tr style=\"text-align: right;\">\n",
       "      <th></th>\n",
       "      <th>DATE</th>\n",
       "      <th>SP500</th>\n",
       "      <th>price</th>\n",
       "      <th>date_time</th>\n",
       "      <th>weekday</th>\n",
       "      <th>day</th>\n",
       "      <th>month</th>\n",
       "      <th>year</th>\n",
       "    </tr>\n",
       "    <tr>\n",
       "      <th>DATE</th>\n",
       "      <th></th>\n",
       "      <th></th>\n",
       "      <th></th>\n",
       "      <th></th>\n",
       "      <th></th>\n",
       "      <th></th>\n",
       "      <th></th>\n",
       "      <th></th>\n",
       "    </tr>\n",
       "  </thead>\n",
       "  <tbody>\n",
       "    <tr>\n",
       "      <th>2019-06-19</th>\n",
       "      <td>2019-06-19</td>\n",
       "      <td>2926.46</td>\n",
       "      <td>2926.46</td>\n",
       "      <td>2019-06-19</td>\n",
       "      <td>2</td>\n",
       "      <td>19</td>\n",
       "      <td>6</td>\n",
       "      <td>2019</td>\n",
       "    </tr>\n",
       "    <tr>\n",
       "      <th>2019-06-20</th>\n",
       "      <td>2019-06-20</td>\n",
       "      <td>2954.18</td>\n",
       "      <td>2954.18</td>\n",
       "      <td>2019-06-20</td>\n",
       "      <td>3</td>\n",
       "      <td>20</td>\n",
       "      <td>6</td>\n",
       "      <td>2019</td>\n",
       "    </tr>\n",
       "    <tr>\n",
       "      <th>2019-06-21</th>\n",
       "      <td>2019-06-21</td>\n",
       "      <td>2950.46</td>\n",
       "      <td>2950.46</td>\n",
       "      <td>2019-06-21</td>\n",
       "      <td>4</td>\n",
       "      <td>21</td>\n",
       "      <td>6</td>\n",
       "      <td>2019</td>\n",
       "    </tr>\n",
       "    <tr>\n",
       "      <th>2019-06-24</th>\n",
       "      <td>2019-06-24</td>\n",
       "      <td>2945.35</td>\n",
       "      <td>2945.35</td>\n",
       "      <td>2019-06-24</td>\n",
       "      <td>0</td>\n",
       "      <td>24</td>\n",
       "      <td>6</td>\n",
       "      <td>2019</td>\n",
       "    </tr>\n",
       "    <tr>\n",
       "      <th>2019-06-25</th>\n",
       "      <td>2019-06-25</td>\n",
       "      <td>2917.38</td>\n",
       "      <td>2917.38</td>\n",
       "      <td>2019-06-25</td>\n",
       "      <td>1</td>\n",
       "      <td>25</td>\n",
       "      <td>6</td>\n",
       "      <td>2019</td>\n",
       "    </tr>\n",
       "  </tbody>\n",
       "</table>\n",
       "</div>"
      ],
      "text/plain": [
       "                  DATE    SP500    price  date_time  weekday  day  month  year\n",
       "DATE                                                                          \n",
       "2019-06-19  2019-06-19  2926.46  2926.46 2019-06-19        2   19      6  2019\n",
       "2019-06-20  2019-06-20  2954.18  2954.18 2019-06-20        3   20      6  2019\n",
       "2019-06-21  2019-06-21  2950.46  2950.46 2019-06-21        4   21      6  2019\n",
       "2019-06-24  2019-06-24  2945.35  2945.35 2019-06-24        0   24      6  2019\n",
       "2019-06-25  2019-06-25  2917.38  2917.38 2019-06-25        1   25      6  2019"
      ]
     },
     "execution_count": 23,
     "metadata": {},
     "output_type": "execute_result"
    }
   ],
   "source": [
    "df.tail()"
   ]
  },
  {
   "cell_type": "code",
   "execution_count": 24,
   "metadata": {},
   "outputs": [
    {
     "data": {
      "text/html": [
       "<div>\n",
       "<style scoped>\n",
       "    .dataframe tbody tr th:only-of-type {\n",
       "        vertical-align: middle;\n",
       "    }\n",
       "\n",
       "    .dataframe tbody tr th {\n",
       "        vertical-align: top;\n",
       "    }\n",
       "\n",
       "    .dataframe thead th {\n",
       "        text-align: right;\n",
       "    }\n",
       "</style>\n",
       "<table border=\"1\" class=\"dataframe\">\n",
       "  <thead>\n",
       "    <tr style=\"text-align: right;\">\n",
       "      <th></th>\n",
       "      <th>DATE</th>\n",
       "      <th>DGS10</th>\n",
       "      <th>price</th>\n",
       "      <th>date_time</th>\n",
       "      <th>weekday</th>\n",
       "      <th>day</th>\n",
       "      <th>month</th>\n",
       "      <th>year</th>\n",
       "    </tr>\n",
       "    <tr>\n",
       "      <th>DATE</th>\n",
       "      <th></th>\n",
       "      <th></th>\n",
       "      <th></th>\n",
       "      <th></th>\n",
       "      <th></th>\n",
       "      <th></th>\n",
       "      <th></th>\n",
       "      <th></th>\n",
       "    </tr>\n",
       "  </thead>\n",
       "  <tbody>\n",
       "    <tr>\n",
       "      <th>2019-06-19</th>\n",
       "      <td>2019-06-19</td>\n",
       "      <td>2.03</td>\n",
       "      <td>2.03</td>\n",
       "      <td>2019-06-19</td>\n",
       "      <td>2</td>\n",
       "      <td>19</td>\n",
       "      <td>6</td>\n",
       "      <td>2019</td>\n",
       "    </tr>\n",
       "    <tr>\n",
       "      <th>2019-06-20</th>\n",
       "      <td>2019-06-20</td>\n",
       "      <td>2.01</td>\n",
       "      <td>2.01</td>\n",
       "      <td>2019-06-20</td>\n",
       "      <td>3</td>\n",
       "      <td>20</td>\n",
       "      <td>6</td>\n",
       "      <td>2019</td>\n",
       "    </tr>\n",
       "    <tr>\n",
       "      <th>2019-06-21</th>\n",
       "      <td>2019-06-21</td>\n",
       "      <td>2.07</td>\n",
       "      <td>2.07</td>\n",
       "      <td>2019-06-21</td>\n",
       "      <td>4</td>\n",
       "      <td>21</td>\n",
       "      <td>6</td>\n",
       "      <td>2019</td>\n",
       "    </tr>\n",
       "    <tr>\n",
       "      <th>2019-06-24</th>\n",
       "      <td>2019-06-24</td>\n",
       "      <td>2.02</td>\n",
       "      <td>2.02</td>\n",
       "      <td>2019-06-24</td>\n",
       "      <td>0</td>\n",
       "      <td>24</td>\n",
       "      <td>6</td>\n",
       "      <td>2019</td>\n",
       "    </tr>\n",
       "    <tr>\n",
       "      <th>2019-06-25</th>\n",
       "      <td>2019-06-25</td>\n",
       "      <td>2.00</td>\n",
       "      <td>2.00</td>\n",
       "      <td>2019-06-25</td>\n",
       "      <td>1</td>\n",
       "      <td>25</td>\n",
       "      <td>6</td>\n",
       "      <td>2019</td>\n",
       "    </tr>\n",
       "  </tbody>\n",
       "</table>\n",
       "</div>"
      ],
      "text/plain": [
       "                  DATE DGS10  price  date_time  weekday  day  month  year\n",
       "DATE                                                                     \n",
       "2019-06-19  2019-06-19  2.03   2.03 2019-06-19        2   19      6  2019\n",
       "2019-06-20  2019-06-20  2.01   2.01 2019-06-20        3   20      6  2019\n",
       "2019-06-21  2019-06-21  2.07   2.07 2019-06-21        4   21      6  2019\n",
       "2019-06-24  2019-06-24  2.02   2.02 2019-06-24        0   24      6  2019\n",
       "2019-06-25  2019-06-25  2.00   2.00 2019-06-25        1   25      6  2019"
      ]
     },
     "execution_count": 24,
     "metadata": {},
     "output_type": "execute_result"
    }
   ],
   "source": [
    "df_10.tail()"
   ]
  },
  {
   "cell_type": "markdown",
   "metadata": {},
   "source": [
    "This next step creates a new column in the dataframe that represents the change in price per day."
   ]
  },
  {
   "cell_type": "code",
   "execution_count": 25,
   "metadata": {},
   "outputs": [],
   "source": [
    "# add a column for the change in price each day\n",
    "df['change'] = df.price - df.price.shift()\n",
    "df_10['change'] = df_10.price - df_10.price.shift()\n",
    "df_10_10['change'] = df_10_10.price - df_10_10.price.shift()\n",
    "df_gold['change'] = df_gold.price - df_gold.price.shift()\n",
    "df_oil['change'] = df_oil.price - df_oil.price.shift()\n",
    "df_btc['change'] = df_btc.price - df_btc.price.shift()"
   ]
  },
  {
   "cell_type": "code",
   "execution_count": 26,
   "metadata": {},
   "outputs": [
    {
     "data": {
      "text/html": [
       "<div>\n",
       "<style scoped>\n",
       "    .dataframe tbody tr th:only-of-type {\n",
       "        vertical-align: middle;\n",
       "    }\n",
       "\n",
       "    .dataframe tbody tr th {\n",
       "        vertical-align: top;\n",
       "    }\n",
       "\n",
       "    .dataframe thead th {\n",
       "        text-align: right;\n",
       "    }\n",
       "</style>\n",
       "<table border=\"1\" class=\"dataframe\">\n",
       "  <thead>\n",
       "    <tr style=\"text-align: right;\">\n",
       "      <th></th>\n",
       "      <th>DATE</th>\n",
       "      <th>SP500</th>\n",
       "      <th>price</th>\n",
       "      <th>date_time</th>\n",
       "      <th>weekday</th>\n",
       "      <th>day</th>\n",
       "      <th>month</th>\n",
       "      <th>year</th>\n",
       "      <th>change</th>\n",
       "    </tr>\n",
       "    <tr>\n",
       "      <th>DATE</th>\n",
       "      <th></th>\n",
       "      <th></th>\n",
       "      <th></th>\n",
       "      <th></th>\n",
       "      <th></th>\n",
       "      <th></th>\n",
       "      <th></th>\n",
       "      <th></th>\n",
       "      <th></th>\n",
       "    </tr>\n",
       "  </thead>\n",
       "  <tbody>\n",
       "    <tr>\n",
       "      <th>2019-06-19</th>\n",
       "      <td>2019-06-19</td>\n",
       "      <td>2926.46</td>\n",
       "      <td>2926.46</td>\n",
       "      <td>2019-06-19</td>\n",
       "      <td>2</td>\n",
       "      <td>19</td>\n",
       "      <td>6</td>\n",
       "      <td>2019</td>\n",
       "      <td>8.71</td>\n",
       "    </tr>\n",
       "    <tr>\n",
       "      <th>2019-06-20</th>\n",
       "      <td>2019-06-20</td>\n",
       "      <td>2954.18</td>\n",
       "      <td>2954.18</td>\n",
       "      <td>2019-06-20</td>\n",
       "      <td>3</td>\n",
       "      <td>20</td>\n",
       "      <td>6</td>\n",
       "      <td>2019</td>\n",
       "      <td>27.72</td>\n",
       "    </tr>\n",
       "    <tr>\n",
       "      <th>2019-06-21</th>\n",
       "      <td>2019-06-21</td>\n",
       "      <td>2950.46</td>\n",
       "      <td>2950.46</td>\n",
       "      <td>2019-06-21</td>\n",
       "      <td>4</td>\n",
       "      <td>21</td>\n",
       "      <td>6</td>\n",
       "      <td>2019</td>\n",
       "      <td>-3.72</td>\n",
       "    </tr>\n",
       "    <tr>\n",
       "      <th>2019-06-24</th>\n",
       "      <td>2019-06-24</td>\n",
       "      <td>2945.35</td>\n",
       "      <td>2945.35</td>\n",
       "      <td>2019-06-24</td>\n",
       "      <td>0</td>\n",
       "      <td>24</td>\n",
       "      <td>6</td>\n",
       "      <td>2019</td>\n",
       "      <td>-5.11</td>\n",
       "    </tr>\n",
       "    <tr>\n",
       "      <th>2019-06-25</th>\n",
       "      <td>2019-06-25</td>\n",
       "      <td>2917.38</td>\n",
       "      <td>2917.38</td>\n",
       "      <td>2019-06-25</td>\n",
       "      <td>1</td>\n",
       "      <td>25</td>\n",
       "      <td>6</td>\n",
       "      <td>2019</td>\n",
       "      <td>-27.97</td>\n",
       "    </tr>\n",
       "  </tbody>\n",
       "</table>\n",
       "</div>"
      ],
      "text/plain": [
       "                  DATE    SP500    price  date_time  weekday  day  month  \\\n",
       "DATE                                                                       \n",
       "2019-06-19  2019-06-19  2926.46  2926.46 2019-06-19        2   19      6   \n",
       "2019-06-20  2019-06-20  2954.18  2954.18 2019-06-20        3   20      6   \n",
       "2019-06-21  2019-06-21  2950.46  2950.46 2019-06-21        4   21      6   \n",
       "2019-06-24  2019-06-24  2945.35  2945.35 2019-06-24        0   24      6   \n",
       "2019-06-25  2019-06-25  2917.38  2917.38 2019-06-25        1   25      6   \n",
       "\n",
       "            year  change  \n",
       "DATE                      \n",
       "2019-06-19  2019    8.71  \n",
       "2019-06-20  2019   27.72  \n",
       "2019-06-21  2019   -3.72  \n",
       "2019-06-24  2019   -5.11  \n",
       "2019-06-25  2019  -27.97  "
      ]
     },
     "execution_count": 26,
     "metadata": {},
     "output_type": "execute_result"
    }
   ],
   "source": [
    "df.tail()"
   ]
  },
  {
   "cell_type": "markdown",
   "metadata": {},
   "source": [
    "Print the overall mean of the price change per day over the 10 year period for the S&P 500."
   ]
  },
  {
   "cell_type": "code",
   "execution_count": 27,
   "metadata": {},
   "outputs": [
    {
     "name": "stdout",
     "output_type": "stream",
     "text": [
      "0.7946242544731611\n"
     ]
    }
   ],
   "source": [
    "# print mean of 'change' column\n",
    "print(df.change.mean())"
   ]
  },
  {
   "cell_type": "markdown",
   "metadata": {},
   "source": [
    "Next, group by month to see if any of the months are significantly stronger than any other."
   ]
  },
  {
   "cell_type": "code",
   "execution_count": 28,
   "metadata": {},
   "outputs": [
    {
     "data": {
      "text/html": [
       "<div>\n",
       "<style scoped>\n",
       "    .dataframe tbody tr th:only-of-type {\n",
       "        vertical-align: middle;\n",
       "    }\n",
       "\n",
       "    .dataframe tbody tr th {\n",
       "        vertical-align: top;\n",
       "    }\n",
       "\n",
       "    .dataframe thead th {\n",
       "        text-align: right;\n",
       "    }\n",
       "</style>\n",
       "<table border=\"1\" class=\"dataframe\">\n",
       "  <thead>\n",
       "    <tr style=\"text-align: right;\">\n",
       "      <th></th>\n",
       "      <th>price</th>\n",
       "      <th>weekday</th>\n",
       "      <th>day</th>\n",
       "      <th>year</th>\n",
       "      <th>change</th>\n",
       "    </tr>\n",
       "    <tr>\n",
       "      <th>month</th>\n",
       "      <th></th>\n",
       "      <th></th>\n",
       "      <th></th>\n",
       "      <th></th>\n",
       "      <th></th>\n",
       "    </tr>\n",
       "  </thead>\n",
       "  <tbody>\n",
       "    <tr>\n",
       "      <th>1</th>\n",
       "      <td>378230.08</td>\n",
       "      <td>426</td>\n",
       "      <td>3338</td>\n",
       "      <td>406938</td>\n",
       "      <td>268.09</td>\n",
       "    </tr>\n",
       "    <tr>\n",
       "      <th>2</th>\n",
       "      <td>361761.37</td>\n",
       "      <td>402</td>\n",
       "      <td>2767</td>\n",
       "      <td>386783</td>\n",
       "      <td>375.10</td>\n",
       "    </tr>\n",
       "    <tr>\n",
       "      <th>3</th>\n",
       "      <td>417535.75</td>\n",
       "      <td>435</td>\n",
       "      <td>3448</td>\n",
       "      <td>439151</td>\n",
       "      <td>240.67</td>\n",
       "    </tr>\n",
       "    <tr>\n",
       "      <th>4</th>\n",
       "      <td>402318.47</td>\n",
       "      <td>397</td>\n",
       "      <td>3221</td>\n",
       "      <td>417001</td>\n",
       "      <td>247.74</td>\n",
       "    </tr>\n",
       "    <tr>\n",
       "      <th>5</th>\n",
       "      <td>416424.88</td>\n",
       "      <td>446</td>\n",
       "      <td>3294</td>\n",
       "      <td>429099</td>\n",
       "      <td>-185.89</td>\n",
       "    </tr>\n",
       "    <tr>\n",
       "      <th>6</th>\n",
       "      <td>408419.00</td>\n",
       "      <td>425</td>\n",
       "      <td>3315</td>\n",
       "      <td>429052</td>\n",
       "      <td>128.84</td>\n",
       "    </tr>\n",
       "    <tr>\n",
       "      <th>7</th>\n",
       "      <td>375239.75</td>\n",
       "      <td>424</td>\n",
       "      <td>3499</td>\n",
       "      <td>424842</td>\n",
       "      <td>438.02</td>\n",
       "    </tr>\n",
       "    <tr>\n",
       "      <th>8</th>\n",
       "      <td>397742.10</td>\n",
       "      <td>442</td>\n",
       "      <td>3557</td>\n",
       "      <td>447006</td>\n",
       "      <td>-93.05</td>\n",
       "    </tr>\n",
       "    <tr>\n",
       "      <th>9</th>\n",
       "      <td>364306.26</td>\n",
       "      <td>430</td>\n",
       "      <td>3282</td>\n",
       "      <td>410745</td>\n",
       "      <td>97.79</td>\n",
       "    </tr>\n",
       "    <tr>\n",
       "      <th>10</th>\n",
       "      <td>397624.42</td>\n",
       "      <td>439</td>\n",
       "      <td>3475</td>\n",
       "      <td>440966</td>\n",
       "      <td>206.16</td>\n",
       "    </tr>\n",
       "    <tr>\n",
       "      <th>11</th>\n",
       "      <td>375225.76</td>\n",
       "      <td>400</td>\n",
       "      <td>3088</td>\n",
       "      <td>412770</td>\n",
       "      <td>347.65</td>\n",
       "    </tr>\n",
       "    <tr>\n",
       "      <th>12</th>\n",
       "      <td>383889.11</td>\n",
       "      <td>422</td>\n",
       "      <td>3286</td>\n",
       "      <td>422818</td>\n",
       "      <td>-72.64</td>\n",
       "    </tr>\n",
       "  </tbody>\n",
       "</table>\n",
       "</div>"
      ],
      "text/plain": [
       "           price  weekday   day    year  change\n",
       "month                                          \n",
       "1      378230.08      426  3338  406938  268.09\n",
       "2      361761.37      402  2767  386783  375.10\n",
       "3      417535.75      435  3448  439151  240.67\n",
       "4      402318.47      397  3221  417001  247.74\n",
       "5      416424.88      446  3294  429099 -185.89\n",
       "6      408419.00      425  3315  429052  128.84\n",
       "7      375239.75      424  3499  424842  438.02\n",
       "8      397742.10      442  3557  447006  -93.05\n",
       "9      364306.26      430  3282  410745   97.79\n",
       "10     397624.42      439  3475  440966  206.16\n",
       "11     375225.76      400  3088  412770  347.65\n",
       "12     383889.11      422  3286  422818  -72.64"
      ]
     },
     "execution_count": 28,
     "metadata": {},
     "output_type": "execute_result"
    }
   ],
   "source": [
    "df_month = df.groupby('month').sum()\n",
    "df_month.head(20)"
   ]
  },
  {
   "cell_type": "markdown",
   "metadata": {},
   "source": [
    "Looks like May has the weakest return over the past 10 years and July has the strongest.  Is this difference significant or is it just due to random chance ?  If the total return is added for months November to the end of April, the price gain is about **1407**.  This compares to a price gain of just **592** for the months of May through October over the entire 10 year horizon.  It looks like buying the index in early November and selling in early May might be a good strategy.  However, there is a gain for the \"summer\" months (May - October), so why not just buy and hold all year round ?  Well, the past 10 years has been the longest running bull market in history and 10 years happens to be the total time frame for this study.  More data is needed to examine this concept more robustly.  \n",
    "\n",
    "The next grouping just looks at yearly data for the S&P 500."
   ]
  },
  {
   "cell_type": "code",
   "execution_count": 29,
   "metadata": {},
   "outputs": [],
   "source": [
    "# group S&P 500 data by year to see the differences\n",
    "df_year = df.groupby('year').sum()"
   ]
  },
  {
   "cell_type": "code",
   "execution_count": 30,
   "metadata": {},
   "outputs": [
    {
     "data": {
      "text/html": [
       "<div>\n",
       "<style scoped>\n",
       "    .dataframe tbody tr th:only-of-type {\n",
       "        vertical-align: middle;\n",
       "    }\n",
       "\n",
       "    .dataframe tbody tr th {\n",
       "        vertical-align: top;\n",
       "    }\n",
       "\n",
       "    .dataframe thead th {\n",
       "        text-align: right;\n",
       "    }\n",
       "</style>\n",
       "<table border=\"1\" class=\"dataframe\">\n",
       "  <thead>\n",
       "    <tr style=\"text-align: right;\">\n",
       "      <th></th>\n",
       "      <th>price</th>\n",
       "      <th>weekday</th>\n",
       "      <th>day</th>\n",
       "      <th>month</th>\n",
       "      <th>change</th>\n",
       "    </tr>\n",
       "    <tr>\n",
       "      <th>year</th>\n",
       "      <th></th>\n",
       "      <th></th>\n",
       "      <th></th>\n",
       "      <th></th>\n",
       "      <th></th>\n",
       "    </tr>\n",
       "  </thead>\n",
       "  <tbody>\n",
       "    <tr>\n",
       "      <th>2009</th>\n",
       "      <td>136171.63</td>\n",
       "      <td>259</td>\n",
       "      <td>2119</td>\n",
       "      <td>1233</td>\n",
       "      <td>196.20</td>\n",
       "    </tr>\n",
       "    <tr>\n",
       "      <th>2010</th>\n",
       "      <td>287271.34</td>\n",
       "      <td>509</td>\n",
       "      <td>3950</td>\n",
       "      <td>1659</td>\n",
       "      <td>142.54</td>\n",
       "    </tr>\n",
       "    <tr>\n",
       "      <th>2011</th>\n",
       "      <td>319444.96</td>\n",
       "      <td>513</td>\n",
       "      <td>3940</td>\n",
       "      <td>1650</td>\n",
       "      <td>-0.04</td>\n",
       "    </tr>\n",
       "    <tr>\n",
       "      <th>2012</th>\n",
       "      <td>344838.35</td>\n",
       "      <td>509</td>\n",
       "      <td>3944</td>\n",
       "      <td>1625</td>\n",
       "      <td>168.59</td>\n",
       "    </tr>\n",
       "    <tr>\n",
       "      <th>2013</th>\n",
       "      <td>414237.34</td>\n",
       "      <td>508</td>\n",
       "      <td>3944</td>\n",
       "      <td>1649</td>\n",
       "      <td>422.17</td>\n",
       "    </tr>\n",
       "    <tr>\n",
       "      <th>2014</th>\n",
       "      <td>486706.78</td>\n",
       "      <td>506</td>\n",
       "      <td>3972</td>\n",
       "      <td>1651</td>\n",
       "      <td>210.54</td>\n",
       "    </tr>\n",
       "    <tr>\n",
       "      <th>2015</th>\n",
       "      <td>519389.07</td>\n",
       "      <td>505</td>\n",
       "      <td>3969</td>\n",
       "      <td>1655</td>\n",
       "      <td>-14.96</td>\n",
       "    </tr>\n",
       "    <tr>\n",
       "      <th>2016</th>\n",
       "      <td>527852.13</td>\n",
       "      <td>513</td>\n",
       "      <td>3952</td>\n",
       "      <td>1652</td>\n",
       "      <td>194.89</td>\n",
       "    </tr>\n",
       "    <tr>\n",
       "      <th>2017</th>\n",
       "      <td>614718.17</td>\n",
       "      <td>512</td>\n",
       "      <td>3966</td>\n",
       "      <td>1640</td>\n",
       "      <td>434.78</td>\n",
       "    </tr>\n",
       "    <tr>\n",
       "      <th>2018</th>\n",
       "      <td>689299.72</td>\n",
       "      <td>508</td>\n",
       "      <td>3965</td>\n",
       "      <td>1633</td>\n",
       "      <td>-166.76</td>\n",
       "    </tr>\n",
       "    <tr>\n",
       "      <th>2019</th>\n",
       "      <td>338787.46</td>\n",
       "      <td>246</td>\n",
       "      <td>1849</td>\n",
       "      <td>418</td>\n",
       "      <td>410.53</td>\n",
       "    </tr>\n",
       "  </tbody>\n",
       "</table>\n",
       "</div>"
      ],
      "text/plain": [
       "          price  weekday   day  month  change\n",
       "year                                         \n",
       "2009  136171.63      259  2119   1233  196.20\n",
       "2010  287271.34      509  3950   1659  142.54\n",
       "2011  319444.96      513  3940   1650   -0.04\n",
       "2012  344838.35      509  3944   1625  168.59\n",
       "2013  414237.34      508  3944   1649  422.17\n",
       "2014  486706.78      506  3972   1651  210.54\n",
       "2015  519389.07      505  3969   1655  -14.96\n",
       "2016  527852.13      513  3952   1652  194.89\n",
       "2017  614718.17      512  3966   1640  434.78\n",
       "2018  689299.72      508  3965   1633 -166.76\n",
       "2019  338787.46      246  1849    418  410.53"
      ]
     },
     "execution_count": 30,
     "metadata": {},
     "output_type": "execute_result"
    }
   ],
   "source": [
    "df_year.head(12)"
   ]
  },
  {
   "cell_type": "markdown",
   "metadata": {},
   "source": [
    "The above grouping for each year was to look at the possible differences in daily returns for the S&P 500 and to see if perhaps the 3rd Presidential Year (years 2011, 2015, 2019).  However, the summer and winter data for each year cannot be compared with the above grouping because the winter months span over 2 calendar years.  \n",
    "\n",
    "Next, the grouping shows gold data by month to see if a particular month of the year is significantly stronger than the others."
   ]
  },
  {
   "cell_type": "code",
   "execution_count": 31,
   "metadata": {},
   "outputs": [
    {
     "data": {
      "text/html": [
       "<div>\n",
       "<style scoped>\n",
       "    .dataframe tbody tr th:only-of-type {\n",
       "        vertical-align: middle;\n",
       "    }\n",
       "\n",
       "    .dataframe tbody tr th {\n",
       "        vertical-align: top;\n",
       "    }\n",
       "\n",
       "    .dataframe thead th {\n",
       "        text-align: right;\n",
       "    }\n",
       "</style>\n",
       "<table border=\"1\" class=\"dataframe\">\n",
       "  <thead>\n",
       "    <tr style=\"text-align: right;\">\n",
       "      <th></th>\n",
       "      <th>DATE</th>\n",
       "      <th>GOLDAMGBD229NLBM</th>\n",
       "      <th>price</th>\n",
       "      <th>date_time</th>\n",
       "      <th>weekday</th>\n",
       "      <th>day</th>\n",
       "      <th>month</th>\n",
       "      <th>year</th>\n",
       "      <th>change</th>\n",
       "    </tr>\n",
       "  </thead>\n",
       "  <tbody>\n",
       "    <tr>\n",
       "      <th>0</th>\n",
       "      <td>2009-06-26</td>\n",
       "      <td>572.566</td>\n",
       "      <td>572.566</td>\n",
       "      <td>2009-06-26</td>\n",
       "      <td>4</td>\n",
       "      <td>26</td>\n",
       "      <td>6</td>\n",
       "      <td>2009</td>\n",
       "      <td>NaN</td>\n",
       "    </tr>\n",
       "    <tr>\n",
       "      <th>1</th>\n",
       "      <td>2009-06-29</td>\n",
       "      <td>570.133</td>\n",
       "      <td>570.133</td>\n",
       "      <td>2009-06-29</td>\n",
       "      <td>0</td>\n",
       "      <td>29</td>\n",
       "      <td>6</td>\n",
       "      <td>2009</td>\n",
       "      <td>-2.433</td>\n",
       "    </tr>\n",
       "    <tr>\n",
       "      <th>2</th>\n",
       "      <td>2009-06-30</td>\n",
       "      <td>566.697</td>\n",
       "      <td>566.697</td>\n",
       "      <td>2009-06-30</td>\n",
       "      <td>1</td>\n",
       "      <td>30</td>\n",
       "      <td>6</td>\n",
       "      <td>2009</td>\n",
       "      <td>-3.436</td>\n",
       "    </tr>\n",
       "    <tr>\n",
       "      <th>3</th>\n",
       "      <td>2009-07-01</td>\n",
       "      <td>567.296</td>\n",
       "      <td>567.296</td>\n",
       "      <td>2009-07-01</td>\n",
       "      <td>2</td>\n",
       "      <td>1</td>\n",
       "      <td>7</td>\n",
       "      <td>2009</td>\n",
       "      <td>0.599</td>\n",
       "    </tr>\n",
       "    <tr>\n",
       "      <th>4</th>\n",
       "      <td>2009-07-02</td>\n",
       "      <td>571.708</td>\n",
       "      <td>571.708</td>\n",
       "      <td>2009-07-02</td>\n",
       "      <td>3</td>\n",
       "      <td>2</td>\n",
       "      <td>7</td>\n",
       "      <td>2009</td>\n",
       "      <td>4.412</td>\n",
       "    </tr>\n",
       "  </tbody>\n",
       "</table>\n",
       "</div>"
      ],
      "text/plain": [
       "         DATE GOLDAMGBD229NLBM    price  date_time  weekday  day  month  year  \\\n",
       "0  2009-06-26          572.566  572.566 2009-06-26        4   26      6  2009   \n",
       "1  2009-06-29          570.133  570.133 2009-06-29        0   29      6  2009   \n",
       "2  2009-06-30          566.697  566.697 2009-06-30        1   30      6  2009   \n",
       "3  2009-07-01          567.296  567.296 2009-07-01        2    1      7  2009   \n",
       "4  2009-07-02          571.708  571.708 2009-07-02        3    2      7  2009   \n",
       "\n",
       "   change  \n",
       "0     NaN  \n",
       "1  -2.433  \n",
       "2  -3.436  \n",
       "3   0.599  \n",
       "4   4.412  "
      ]
     },
     "execution_count": 31,
     "metadata": {},
     "output_type": "execute_result"
    }
   ],
   "source": [
    "df_gold.head()"
   ]
  },
  {
   "cell_type": "code",
   "execution_count": 32,
   "metadata": {},
   "outputs": [
    {
     "data": {
      "text/html": [
       "<div>\n",
       "<style scoped>\n",
       "    .dataframe tbody tr th:only-of-type {\n",
       "        vertical-align: middle;\n",
       "    }\n",
       "\n",
       "    .dataframe tbody tr th {\n",
       "        vertical-align: top;\n",
       "    }\n",
       "\n",
       "    .dataframe thead th {\n",
       "        text-align: right;\n",
       "    }\n",
       "</style>\n",
       "<table border=\"1\" class=\"dataframe\">\n",
       "  <thead>\n",
       "    <tr style=\"text-align: right;\">\n",
       "      <th></th>\n",
       "      <th>price</th>\n",
       "      <th>weekday</th>\n",
       "      <th>day</th>\n",
       "      <th>year</th>\n",
       "      <th>change</th>\n",
       "    </tr>\n",
       "    <tr>\n",
       "      <th>month</th>\n",
       "      <th></th>\n",
       "      <th></th>\n",
       "      <th></th>\n",
       "      <th></th>\n",
       "      <th></th>\n",
       "    </tr>\n",
       "  </thead>\n",
       "  <tbody>\n",
       "    <tr>\n",
       "      <th>1</th>\n",
       "      <td>189278.695</td>\n",
       "      <td>426</td>\n",
       "      <td>3516</td>\n",
       "      <td>425072</td>\n",
       "      <td>199.865</td>\n",
       "    </tr>\n",
       "    <tr>\n",
       "      <th>2</th>\n",
       "      <td>183668.729</td>\n",
       "      <td>402</td>\n",
       "      <td>2946</td>\n",
       "      <td>406928</td>\n",
       "      <td>224.082</td>\n",
       "    </tr>\n",
       "    <tr>\n",
       "      <th>3</th>\n",
       "      <td>197939.557</td>\n",
       "      <td>435</td>\n",
       "      <td>3420</td>\n",
       "      <td>437135</td>\n",
       "      <td>-110.305</td>\n",
       "    </tr>\n",
       "    <tr>\n",
       "      <th>4</th>\n",
       "      <td>177724.763</td>\n",
       "      <td>393</td>\n",
       "      <td>3084</td>\n",
       "      <td>396861</td>\n",
       "      <td>-74.310</td>\n",
       "    </tr>\n",
       "    <tr>\n",
       "      <th>5</th>\n",
       "      <td>184411.585</td>\n",
       "      <td>446</td>\n",
       "      <td>3279</td>\n",
       "      <td>410966</td>\n",
       "      <td>51.605</td>\n",
       "    </tr>\n",
       "    <tr>\n",
       "      <th>6</th>\n",
       "      <td>190034.889</td>\n",
       "      <td>424</td>\n",
       "      <td>3306</td>\n",
       "      <td>425028</td>\n",
       "      <td>27.311</td>\n",
       "    </tr>\n",
       "    <tr>\n",
       "      <th>7</th>\n",
       "      <td>189138.751</td>\n",
       "      <td>444</td>\n",
       "      <td>3538</td>\n",
       "      <td>444977</td>\n",
       "      <td>45.390</td>\n",
       "    </tr>\n",
       "    <tr>\n",
       "      <th>8</th>\n",
       "      <td>186008.333</td>\n",
       "      <td>441</td>\n",
       "      <td>3259</td>\n",
       "      <td>424854</td>\n",
       "      <td>316.562</td>\n",
       "    </tr>\n",
       "    <tr>\n",
       "      <th>9</th>\n",
       "      <td>189927.498</td>\n",
       "      <td>430</td>\n",
       "      <td>3325</td>\n",
       "      <td>430880</td>\n",
       "      <td>-101.386</td>\n",
       "    </tr>\n",
       "    <tr>\n",
       "      <th>10</th>\n",
       "      <td>196470.939</td>\n",
       "      <td>440</td>\n",
       "      <td>3534</td>\n",
       "      <td>444990</td>\n",
       "      <td>94.588</td>\n",
       "    </tr>\n",
       "    <tr>\n",
       "      <th>11</th>\n",
       "      <td>191814.809</td>\n",
       "      <td>430</td>\n",
       "      <td>3335</td>\n",
       "      <td>432905</td>\n",
       "      <td>-40.440</td>\n",
       "    </tr>\n",
       "    <tr>\n",
       "      <th>12</th>\n",
       "      <td>175524.981</td>\n",
       "      <td>413</td>\n",
       "      <td>3020</td>\n",
       "      <td>404701</td>\n",
       "      <td>-84.908</td>\n",
       "    </tr>\n",
       "  </tbody>\n",
       "</table>\n",
       "</div>"
      ],
      "text/plain": [
       "            price  weekday   day    year   change\n",
       "month                                            \n",
       "1      189278.695      426  3516  425072  199.865\n",
       "2      183668.729      402  2946  406928  224.082\n",
       "3      197939.557      435  3420  437135 -110.305\n",
       "4      177724.763      393  3084  396861  -74.310\n",
       "5      184411.585      446  3279  410966   51.605\n",
       "6      190034.889      424  3306  425028   27.311\n",
       "7      189138.751      444  3538  444977   45.390\n",
       "8      186008.333      441  3259  424854  316.562\n",
       "9      189927.498      430  3325  430880 -101.386\n",
       "10     196470.939      440  3534  444990   94.588\n",
       "11     191814.809      430  3335  432905  -40.440\n",
       "12     175524.981      413  3020  404701  -84.908"
      ]
     },
     "execution_count": 32,
     "metadata": {},
     "output_type": "execute_result"
    }
   ],
   "source": [
    "df_month_gold = df_gold.groupby('month').sum()\n",
    "df_month_gold.head(12)"
   ]
  },
  {
   "cell_type": "markdown",
   "metadata": {},
   "source": [
    "The above grouping shows August as the strongest month and a lot higher than March - the weakest - but, this could be due to random chance.  A significance test is needed."
   ]
  },
  {
   "cell_type": "code",
   "execution_count": 33,
   "metadata": {},
   "outputs": [
    {
     "data": {
      "text/html": [
       "<div>\n",
       "<style scoped>\n",
       "    .dataframe tbody tr th:only-of-type {\n",
       "        vertical-align: middle;\n",
       "    }\n",
       "\n",
       "    .dataframe tbody tr th {\n",
       "        vertical-align: top;\n",
       "    }\n",
       "\n",
       "    .dataframe thead th {\n",
       "        text-align: right;\n",
       "    }\n",
       "</style>\n",
       "<table border=\"1\" class=\"dataframe\">\n",
       "  <thead>\n",
       "    <tr style=\"text-align: right;\">\n",
       "      <th></th>\n",
       "      <th>DATE</th>\n",
       "      <th>SP500</th>\n",
       "      <th>price</th>\n",
       "      <th>date_time</th>\n",
       "      <th>weekday</th>\n",
       "      <th>day</th>\n",
       "      <th>month</th>\n",
       "      <th>year</th>\n",
       "      <th>change</th>\n",
       "    </tr>\n",
       "    <tr>\n",
       "      <th>DATE</th>\n",
       "      <th></th>\n",
       "      <th></th>\n",
       "      <th></th>\n",
       "      <th></th>\n",
       "      <th></th>\n",
       "      <th></th>\n",
       "      <th></th>\n",
       "      <th></th>\n",
       "      <th></th>\n",
       "    </tr>\n",
       "  </thead>\n",
       "  <tbody>\n",
       "    <tr>\n",
       "      <th>2009-06-26</th>\n",
       "      <td>2009-06-26</td>\n",
       "      <td>918.90</td>\n",
       "      <td>918.90</td>\n",
       "      <td>2009-06-26</td>\n",
       "      <td>4</td>\n",
       "      <td>26</td>\n",
       "      <td>6</td>\n",
       "      <td>2009</td>\n",
       "      <td>NaN</td>\n",
       "    </tr>\n",
       "    <tr>\n",
       "      <th>2009-06-29</th>\n",
       "      <td>2009-06-29</td>\n",
       "      <td>927.23</td>\n",
       "      <td>927.23</td>\n",
       "      <td>2009-06-29</td>\n",
       "      <td>0</td>\n",
       "      <td>29</td>\n",
       "      <td>6</td>\n",
       "      <td>2009</td>\n",
       "      <td>8.33</td>\n",
       "    </tr>\n",
       "    <tr>\n",
       "      <th>2009-06-30</th>\n",
       "      <td>2009-06-30</td>\n",
       "      <td>919.32</td>\n",
       "      <td>919.32</td>\n",
       "      <td>2009-06-30</td>\n",
       "      <td>1</td>\n",
       "      <td>30</td>\n",
       "      <td>6</td>\n",
       "      <td>2009</td>\n",
       "      <td>-7.91</td>\n",
       "    </tr>\n",
       "    <tr>\n",
       "      <th>2009-07-01</th>\n",
       "      <td>2009-07-01</td>\n",
       "      <td>923.33</td>\n",
       "      <td>923.33</td>\n",
       "      <td>2009-07-01</td>\n",
       "      <td>2</td>\n",
       "      <td>1</td>\n",
       "      <td>7</td>\n",
       "      <td>2009</td>\n",
       "      <td>4.01</td>\n",
       "    </tr>\n",
       "    <tr>\n",
       "      <th>2009-07-02</th>\n",
       "      <td>2009-07-02</td>\n",
       "      <td>896.42</td>\n",
       "      <td>896.42</td>\n",
       "      <td>2009-07-02</td>\n",
       "      <td>3</td>\n",
       "      <td>2</td>\n",
       "      <td>7</td>\n",
       "      <td>2009</td>\n",
       "      <td>-26.91</td>\n",
       "    </tr>\n",
       "  </tbody>\n",
       "</table>\n",
       "</div>"
      ],
      "text/plain": [
       "                  DATE   SP500   price  date_time  weekday  day  month  year  \\\n",
       "DATE                                                                           \n",
       "2009-06-26  2009-06-26  918.90  918.90 2009-06-26        4   26      6  2009   \n",
       "2009-06-29  2009-06-29  927.23  927.23 2009-06-29        0   29      6  2009   \n",
       "2009-06-30  2009-06-30  919.32  919.32 2009-06-30        1   30      6  2009   \n",
       "2009-07-01  2009-07-01  923.33  923.33 2009-07-01        2    1      7  2009   \n",
       "2009-07-02  2009-07-02  896.42  896.42 2009-07-02        3    2      7  2009   \n",
       "\n",
       "            change  \n",
       "DATE                \n",
       "2009-06-26     NaN  \n",
       "2009-06-29    8.33  \n",
       "2009-06-30   -7.91  \n",
       "2009-07-01    4.01  \n",
       "2009-07-02  -26.91  "
      ]
     },
     "execution_count": 33,
     "metadata": {},
     "output_type": "execute_result"
    }
   ],
   "source": [
    "df.head()"
   ]
  },
  {
   "cell_type": "code",
   "execution_count": 34,
   "metadata": {},
   "outputs": [
    {
     "data": {
      "text/plain": [
       "DATE                 object\n",
       "SP500                object\n",
       "price               float64\n",
       "date_time    datetime64[ns]\n",
       "weekday               int64\n",
       "day                   int64\n",
       "month                 int64\n",
       "year                  int64\n",
       "change              float64\n",
       "dtype: object"
      ]
     },
     "execution_count": 34,
     "metadata": {},
     "output_type": "execute_result"
    }
   ],
   "source": [
    "df.dtypes"
   ]
  },
  {
   "cell_type": "code",
   "execution_count": 35,
   "metadata": {},
   "outputs": [
    {
     "data": {
      "text/html": [
       "<div>\n",
       "<style scoped>\n",
       "    .dataframe tbody tr th:only-of-type {\n",
       "        vertical-align: middle;\n",
       "    }\n",
       "\n",
       "    .dataframe tbody tr th {\n",
       "        vertical-align: top;\n",
       "    }\n",
       "\n",
       "    .dataframe thead th {\n",
       "        text-align: right;\n",
       "    }\n",
       "</style>\n",
       "<table border=\"1\" class=\"dataframe\">\n",
       "  <thead>\n",
       "    <tr style=\"text-align: right;\">\n",
       "      <th></th>\n",
       "      <th>DATE</th>\n",
       "      <th>SP500</th>\n",
       "      <th>price</th>\n",
       "      <th>date_time</th>\n",
       "      <th>weekday</th>\n",
       "      <th>day</th>\n",
       "      <th>month</th>\n",
       "      <th>year</th>\n",
       "      <th>change</th>\n",
       "    </tr>\n",
       "    <tr>\n",
       "      <th>DATE</th>\n",
       "      <th></th>\n",
       "      <th></th>\n",
       "      <th></th>\n",
       "      <th></th>\n",
       "      <th></th>\n",
       "      <th></th>\n",
       "      <th></th>\n",
       "      <th></th>\n",
       "      <th></th>\n",
       "    </tr>\n",
       "  </thead>\n",
       "  <tbody>\n",
       "    <tr>\n",
       "      <th>2009-06-26</th>\n",
       "      <td>2009-06-26</td>\n",
       "      <td>918.90</td>\n",
       "      <td>918.90</td>\n",
       "      <td>2009-06-26</td>\n",
       "      <td>4</td>\n",
       "      <td>26</td>\n",
       "      <td>6</td>\n",
       "      <td>2009</td>\n",
       "      <td>NaN</td>\n",
       "    </tr>\n",
       "    <tr>\n",
       "      <th>2009-06-29</th>\n",
       "      <td>2009-06-29</td>\n",
       "      <td>927.23</td>\n",
       "      <td>927.23</td>\n",
       "      <td>2009-06-29</td>\n",
       "      <td>0</td>\n",
       "      <td>29</td>\n",
       "      <td>6</td>\n",
       "      <td>2009</td>\n",
       "      <td>8.33</td>\n",
       "    </tr>\n",
       "    <tr>\n",
       "      <th>2009-06-30</th>\n",
       "      <td>2009-06-30</td>\n",
       "      <td>919.32</td>\n",
       "      <td>919.32</td>\n",
       "      <td>2009-06-30</td>\n",
       "      <td>1</td>\n",
       "      <td>30</td>\n",
       "      <td>6</td>\n",
       "      <td>2009</td>\n",
       "      <td>-7.91</td>\n",
       "    </tr>\n",
       "    <tr>\n",
       "      <th>2009-07-01</th>\n",
       "      <td>2009-07-01</td>\n",
       "      <td>923.33</td>\n",
       "      <td>923.33</td>\n",
       "      <td>2009-07-01</td>\n",
       "      <td>2</td>\n",
       "      <td>1</td>\n",
       "      <td>7</td>\n",
       "      <td>2009</td>\n",
       "      <td>4.01</td>\n",
       "    </tr>\n",
       "    <tr>\n",
       "      <th>2009-07-02</th>\n",
       "      <td>2009-07-02</td>\n",
       "      <td>896.42</td>\n",
       "      <td>896.42</td>\n",
       "      <td>2009-07-02</td>\n",
       "      <td>3</td>\n",
       "      <td>2</td>\n",
       "      <td>7</td>\n",
       "      <td>2009</td>\n",
       "      <td>-26.91</td>\n",
       "    </tr>\n",
       "  </tbody>\n",
       "</table>\n",
       "</div>"
      ],
      "text/plain": [
       "                  DATE   SP500   price  date_time  weekday  day  month  year  \\\n",
       "DATE                                                                           \n",
       "2009-06-26  2009-06-26  918.90  918.90 2009-06-26        4   26      6  2009   \n",
       "2009-06-29  2009-06-29  927.23  927.23 2009-06-29        0   29      6  2009   \n",
       "2009-06-30  2009-06-30  919.32  919.32 2009-06-30        1   30      6  2009   \n",
       "2009-07-01  2009-07-01  923.33  923.33 2009-07-01        2    1      7  2009   \n",
       "2009-07-02  2009-07-02  896.42  896.42 2009-07-02        3    2      7  2009   \n",
       "\n",
       "            change  \n",
       "DATE                \n",
       "2009-06-26     NaN  \n",
       "2009-06-29    8.33  \n",
       "2009-06-30   -7.91  \n",
       "2009-07-01    4.01  \n",
       "2009-07-02  -26.91  "
      ]
     },
     "execution_count": 35,
     "metadata": {},
     "output_type": "execute_result"
    }
   ],
   "source": [
    "df.head()"
   ]
  },
  {
   "cell_type": "code",
   "execution_count": 36,
   "metadata": {},
   "outputs": [],
   "source": [
    "df2 = df.groupby(['year', 'month']).sum()"
   ]
  },
  {
   "cell_type": "code",
   "execution_count": 37,
   "metadata": {},
   "outputs": [
    {
     "data": {
      "text/html": [
       "<div>\n",
       "<style scoped>\n",
       "    .dataframe tbody tr th:only-of-type {\n",
       "        vertical-align: middle;\n",
       "    }\n",
       "\n",
       "    .dataframe tbody tr th {\n",
       "        vertical-align: top;\n",
       "    }\n",
       "\n",
       "    .dataframe thead th {\n",
       "        text-align: right;\n",
       "    }\n",
       "</style>\n",
       "<table border=\"1\" class=\"dataframe\">\n",
       "  <thead>\n",
       "    <tr style=\"text-align: right;\">\n",
       "      <th></th>\n",
       "      <th></th>\n",
       "      <th>price</th>\n",
       "      <th>weekday</th>\n",
       "      <th>day</th>\n",
       "      <th>change</th>\n",
       "    </tr>\n",
       "    <tr>\n",
       "      <th>year</th>\n",
       "      <th>month</th>\n",
       "      <th></th>\n",
       "      <th></th>\n",
       "      <th></th>\n",
       "      <th></th>\n",
       "    </tr>\n",
       "  </thead>\n",
       "  <tbody>\n",
       "    <tr>\n",
       "      <th rowspan=\"7\" valign=\"top\">2009</th>\n",
       "      <th>6</th>\n",
       "      <td>2765.45</td>\n",
       "      <td>5</td>\n",
       "      <td>85</td>\n",
       "      <td>0.42</td>\n",
       "    </tr>\n",
       "    <tr>\n",
       "      <th>7</th>\n",
       "      <td>20588.07</td>\n",
       "      <td>45</td>\n",
       "      <td>373</td>\n",
       "      <td>68.16</td>\n",
       "    </tr>\n",
       "    <tr>\n",
       "      <th>8</th>\n",
       "      <td>21204.22</td>\n",
       "      <td>40</td>\n",
       "      <td>341</td>\n",
       "      <td>33.14</td>\n",
       "    </tr>\n",
       "    <tr>\n",
       "      <th>9</th>\n",
       "      <td>21935.60</td>\n",
       "      <td>43</td>\n",
       "      <td>330</td>\n",
       "      <td>36.46</td>\n",
       "    </tr>\n",
       "    <tr>\n",
       "      <th>10</th>\n",
       "      <td>23488.60</td>\n",
       "      <td>47</td>\n",
       "      <td>353</td>\n",
       "      <td>-20.89</td>\n",
       "    </tr>\n",
       "    <tr>\n",
       "      <th>11</th>\n",
       "      <td>21761.38</td>\n",
       "      <td>37</td>\n",
       "      <td>294</td>\n",
       "      <td>59.44</td>\n",
       "    </tr>\n",
       "    <tr>\n",
       "      <th>12</th>\n",
       "      <td>24428.31</td>\n",
       "      <td>42</td>\n",
       "      <td>343</td>\n",
       "      <td>19.47</td>\n",
       "    </tr>\n",
       "    <tr>\n",
       "      <th rowspan=\"12\" valign=\"top\">2010</th>\n",
       "      <th>1</th>\n",
       "      <td>21348.05</td>\n",
       "      <td>40</td>\n",
       "      <td>312</td>\n",
       "      <td>-41.23</td>\n",
       "    </tr>\n",
       "    <tr>\n",
       "      <th>2</th>\n",
       "      <td>20694.04</td>\n",
       "      <td>40</td>\n",
       "      <td>255</td>\n",
       "      <td>30.62</td>\n",
       "    </tr>\n",
       "    <tr>\n",
       "      <th>3</th>\n",
       "      <td>26497.12</td>\n",
       "      <td>43</td>\n",
       "      <td>360</td>\n",
       "      <td>64.94</td>\n",
       "    </tr>\n",
       "    <tr>\n",
       "      <th>4</th>\n",
       "      <td>25143.64</td>\n",
       "      <td>43</td>\n",
       "      <td>351</td>\n",
       "      <td>17.26</td>\n",
       "    </tr>\n",
       "    <tr>\n",
       "      <th>5</th>\n",
       "      <td>22501.27</td>\n",
       "      <td>40</td>\n",
       "      <td>310</td>\n",
       "      <td>-97.28</td>\n",
       "    </tr>\n",
       "    <tr>\n",
       "      <th>6</th>\n",
       "      <td>23833.94</td>\n",
       "      <td>43</td>\n",
       "      <td>337</td>\n",
       "      <td>-58.70</td>\n",
       "    </tr>\n",
       "    <tr>\n",
       "      <th>7</th>\n",
       "      <td>22675.87</td>\n",
       "      <td>47</td>\n",
       "      <td>348</td>\n",
       "      <td>70.89</td>\n",
       "    </tr>\n",
       "    <tr>\n",
       "      <th>8</th>\n",
       "      <td>23920.21</td>\n",
       "      <td>41</td>\n",
       "      <td>351</td>\n",
       "      <td>-52.27</td>\n",
       "    </tr>\n",
       "    <tr>\n",
       "      <th>9</th>\n",
       "      <td>23563.72</td>\n",
       "      <td>45</td>\n",
       "      <td>339</td>\n",
       "      <td>91.87</td>\n",
       "    </tr>\n",
       "    <tr>\n",
       "      <th>10</th>\n",
       "      <td>24603.26</td>\n",
       "      <td>44</td>\n",
       "      <td>331</td>\n",
       "      <td>42.06</td>\n",
       "    </tr>\n",
       "    <tr>\n",
       "      <th>11</th>\n",
       "      <td>25176.66</td>\n",
       "      <td>38</td>\n",
       "      <td>304</td>\n",
       "      <td>-2.71</td>\n",
       "    </tr>\n",
       "    <tr>\n",
       "      <th>12</th>\n",
       "      <td>27313.56</td>\n",
       "      <td>45</td>\n",
       "      <td>352</td>\n",
       "      <td>77.09</td>\n",
       "    </tr>\n",
       "    <tr>\n",
       "      <th rowspan=\"11\" valign=\"top\">2011</th>\n",
       "      <th>1</th>\n",
       "      <td>25652.37</td>\n",
       "      <td>40</td>\n",
       "      <td>324</td>\n",
       "      <td>28.48</td>\n",
       "    </tr>\n",
       "    <tr>\n",
       "      <th>2</th>\n",
       "      <td>25101.24</td>\n",
       "      <td>40</td>\n",
       "      <td>257</td>\n",
       "      <td>41.10</td>\n",
       "    </tr>\n",
       "    <tr>\n",
       "      <th>3</th>\n",
       "      <td>30003.18</td>\n",
       "      <td>46</td>\n",
       "      <td>368</td>\n",
       "      <td>-1.39</td>\n",
       "    </tr>\n",
       "    <tr>\n",
       "      <th>4</th>\n",
       "      <td>26630.10</td>\n",
       "      <td>40</td>\n",
       "      <td>309</td>\n",
       "      <td>37.78</td>\n",
       "    </tr>\n",
       "    <tr>\n",
       "      <th>5</th>\n",
       "      <td>28104.52</td>\n",
       "      <td>41</td>\n",
       "      <td>321</td>\n",
       "      <td>-18.41</td>\n",
       "    </tr>\n",
       "    <tr>\n",
       "      <th>6</th>\n",
       "      <td>28320.35</td>\n",
       "      <td>45</td>\n",
       "      <td>345</td>\n",
       "      <td>-24.56</td>\n",
       "    </tr>\n",
       "    <tr>\n",
       "      <th>7</th>\n",
       "      <td>26503.69</td>\n",
       "      <td>44</td>\n",
       "      <td>327</td>\n",
       "      <td>-28.36</td>\n",
       "    </tr>\n",
       "    <tr>\n",
       "      <th>8</th>\n",
       "      <td>27262.03</td>\n",
       "      <td>43</td>\n",
       "      <td>360</td>\n",
       "      <td>-73.39</td>\n",
       "    </tr>\n",
       "    <tr>\n",
       "      <th>9</th>\n",
       "      <td>24651.46</td>\n",
       "      <td>47</td>\n",
       "      <td>348</td>\n",
       "      <td>-87.47</td>\n",
       "    </tr>\n",
       "    <tr>\n",
       "      <th>10</th>\n",
       "      <td>25351.54</td>\n",
       "      <td>40</td>\n",
       "      <td>341</td>\n",
       "      <td>121.88</td>\n",
       "    </tr>\n",
       "    <tr>\n",
       "      <th>11</th>\n",
       "      <td>25754.70</td>\n",
       "      <td>40</td>\n",
       "      <td>313</td>\n",
       "      <td>-6.34</td>\n",
       "    </tr>\n",
       "  </tbody>\n",
       "</table>\n",
       "</div>"
      ],
      "text/plain": [
       "               price  weekday  day  change\n",
       "year month                                \n",
       "2009 6       2765.45        5   85    0.42\n",
       "     7      20588.07       45  373   68.16\n",
       "     8      21204.22       40  341   33.14\n",
       "     9      21935.60       43  330   36.46\n",
       "     10     23488.60       47  353  -20.89\n",
       "     11     21761.38       37  294   59.44\n",
       "     12     24428.31       42  343   19.47\n",
       "2010 1      21348.05       40  312  -41.23\n",
       "     2      20694.04       40  255   30.62\n",
       "     3      26497.12       43  360   64.94\n",
       "     4      25143.64       43  351   17.26\n",
       "     5      22501.27       40  310  -97.28\n",
       "     6      23833.94       43  337  -58.70\n",
       "     7      22675.87       47  348   70.89\n",
       "     8      23920.21       41  351  -52.27\n",
       "     9      23563.72       45  339   91.87\n",
       "     10     24603.26       44  331   42.06\n",
       "     11     25176.66       38  304   -2.71\n",
       "     12     27313.56       45  352   77.09\n",
       "2011 1      25652.37       40  324   28.48\n",
       "     2      25101.24       40  257   41.10\n",
       "     3      30003.18       46  368   -1.39\n",
       "     4      26630.10       40  309   37.78\n",
       "     5      28104.52       41  321  -18.41\n",
       "     6      28320.35       45  345  -24.56\n",
       "     7      26503.69       44  327  -28.36\n",
       "     8      27262.03       43  360  -73.39\n",
       "     9      24651.46       47  348  -87.47\n",
       "     10     25351.54       40  341  121.88\n",
       "     11     25754.70       40  313   -6.34"
      ]
     },
     "execution_count": 37,
     "metadata": {},
     "output_type": "execute_result"
    }
   ],
   "source": [
    "df2.head(30)"
   ]
  },
  {
   "cell_type": "code",
   "execution_count": 38,
   "metadata": {},
   "outputs": [
    {
     "data": {
      "text/html": [
       "<div>\n",
       "<style scoped>\n",
       "    .dataframe tbody tr th:only-of-type {\n",
       "        vertical-align: middle;\n",
       "    }\n",
       "\n",
       "    .dataframe tbody tr th {\n",
       "        vertical-align: top;\n",
       "    }\n",
       "\n",
       "    .dataframe thead th {\n",
       "        text-align: right;\n",
       "    }\n",
       "</style>\n",
       "<table border=\"1\" class=\"dataframe\">\n",
       "  <thead>\n",
       "    <tr style=\"text-align: right;\">\n",
       "      <th></th>\n",
       "      <th>DATE</th>\n",
       "      <th>SP500</th>\n",
       "      <th>price</th>\n",
       "      <th>date_time</th>\n",
       "      <th>weekday</th>\n",
       "      <th>day</th>\n",
       "      <th>month</th>\n",
       "      <th>year</th>\n",
       "      <th>change</th>\n",
       "    </tr>\n",
       "    <tr>\n",
       "      <th>DATE</th>\n",
       "      <th></th>\n",
       "      <th></th>\n",
       "      <th></th>\n",
       "      <th></th>\n",
       "      <th></th>\n",
       "      <th></th>\n",
       "      <th></th>\n",
       "      <th></th>\n",
       "      <th></th>\n",
       "    </tr>\n",
       "  </thead>\n",
       "  <tbody>\n",
       "    <tr>\n",
       "      <th>2009-06-26</th>\n",
       "      <td>2009-06-26</td>\n",
       "      <td>918.90</td>\n",
       "      <td>918.90</td>\n",
       "      <td>2009-06-26</td>\n",
       "      <td>4</td>\n",
       "      <td>26</td>\n",
       "      <td>6</td>\n",
       "      <td>2009</td>\n",
       "      <td>NaN</td>\n",
       "    </tr>\n",
       "    <tr>\n",
       "      <th>2009-06-29</th>\n",
       "      <td>2009-06-29</td>\n",
       "      <td>927.23</td>\n",
       "      <td>927.23</td>\n",
       "      <td>2009-06-29</td>\n",
       "      <td>0</td>\n",
       "      <td>29</td>\n",
       "      <td>6</td>\n",
       "      <td>2009</td>\n",
       "      <td>8.33</td>\n",
       "    </tr>\n",
       "    <tr>\n",
       "      <th>2009-06-30</th>\n",
       "      <td>2009-06-30</td>\n",
       "      <td>919.32</td>\n",
       "      <td>919.32</td>\n",
       "      <td>2009-06-30</td>\n",
       "      <td>1</td>\n",
       "      <td>30</td>\n",
       "      <td>6</td>\n",
       "      <td>2009</td>\n",
       "      <td>-7.91</td>\n",
       "    </tr>\n",
       "    <tr>\n",
       "      <th>2009-07-01</th>\n",
       "      <td>2009-07-01</td>\n",
       "      <td>923.33</td>\n",
       "      <td>923.33</td>\n",
       "      <td>2009-07-01</td>\n",
       "      <td>2</td>\n",
       "      <td>1</td>\n",
       "      <td>7</td>\n",
       "      <td>2009</td>\n",
       "      <td>4.01</td>\n",
       "    </tr>\n",
       "    <tr>\n",
       "      <th>2009-07-02</th>\n",
       "      <td>2009-07-02</td>\n",
       "      <td>896.42</td>\n",
       "      <td>896.42</td>\n",
       "      <td>2009-07-02</td>\n",
       "      <td>3</td>\n",
       "      <td>2</td>\n",
       "      <td>7</td>\n",
       "      <td>2009</td>\n",
       "      <td>-26.91</td>\n",
       "    </tr>\n",
       "  </tbody>\n",
       "</table>\n",
       "</div>"
      ],
      "text/plain": [
       "                  DATE   SP500   price  date_time  weekday  day  month  year  \\\n",
       "DATE                                                                           \n",
       "2009-06-26  2009-06-26  918.90  918.90 2009-06-26        4   26      6  2009   \n",
       "2009-06-29  2009-06-29  927.23  927.23 2009-06-29        0   29      6  2009   \n",
       "2009-06-30  2009-06-30  919.32  919.32 2009-06-30        1   30      6  2009   \n",
       "2009-07-01  2009-07-01  923.33  923.33 2009-07-01        2    1      7  2009   \n",
       "2009-07-02  2009-07-02  896.42  896.42 2009-07-02        3    2      7  2009   \n",
       "\n",
       "            change  \n",
       "DATE                \n",
       "2009-06-26     NaN  \n",
       "2009-06-29    8.33  \n",
       "2009-06-30   -7.91  \n",
       "2009-07-01    4.01  \n",
       "2009-07-02  -26.91  "
      ]
     },
     "execution_count": 38,
     "metadata": {},
     "output_type": "execute_result"
    }
   ],
   "source": [
    "df.head()"
   ]
  },
  {
   "cell_type": "code",
   "execution_count": null,
   "metadata": {},
   "outputs": [],
   "source": []
  },
  {
   "cell_type": "code",
   "execution_count": null,
   "metadata": {},
   "outputs": [],
   "source": []
  },
  {
   "cell_type": "code",
   "execution_count": 39,
   "metadata": {},
   "outputs": [],
   "source": [
    "# add the column for change in the summer months:\n",
    "df['summer'] = np.where(((df.year > 2008) & ((df.month == 5) | (df.month == 6) | (df.month == 7) | \n",
    "            (df.month == 8) | (df.month == 9) | (df.month == 10))), df.change, 0)\n",
    "\n",
    "# add the column for change winter months:\n",
    "df['winter'] = np.where(((df.year < 2020) & ((df.month == 11) | (df.month == 12) | (df.month == 1) | \n",
    "            (df.month == 2) | (df.month == 3) | (df.month == 4))), df.change, 0)"
   ]
  },
  {
   "cell_type": "code",
   "execution_count": 40,
   "metadata": {},
   "outputs": [
    {
     "data": {
      "text/html": [
       "<div>\n",
       "<style scoped>\n",
       "    .dataframe tbody tr th:only-of-type {\n",
       "        vertical-align: middle;\n",
       "    }\n",
       "\n",
       "    .dataframe tbody tr th {\n",
       "        vertical-align: top;\n",
       "    }\n",
       "\n",
       "    .dataframe thead th {\n",
       "        text-align: right;\n",
       "    }\n",
       "</style>\n",
       "<table border=\"1\" class=\"dataframe\">\n",
       "  <thead>\n",
       "    <tr style=\"text-align: right;\">\n",
       "      <th></th>\n",
       "      <th>DATE</th>\n",
       "      <th>SP500</th>\n",
       "      <th>price</th>\n",
       "      <th>date_time</th>\n",
       "      <th>weekday</th>\n",
       "      <th>day</th>\n",
       "      <th>month</th>\n",
       "      <th>year</th>\n",
       "      <th>change</th>\n",
       "      <th>summer</th>\n",
       "      <th>winter</th>\n",
       "    </tr>\n",
       "    <tr>\n",
       "      <th>DATE</th>\n",
       "      <th></th>\n",
       "      <th></th>\n",
       "      <th></th>\n",
       "      <th></th>\n",
       "      <th></th>\n",
       "      <th></th>\n",
       "      <th></th>\n",
       "      <th></th>\n",
       "      <th></th>\n",
       "      <th></th>\n",
       "      <th></th>\n",
       "    </tr>\n",
       "  </thead>\n",
       "  <tbody>\n",
       "    <tr>\n",
       "      <th>2009-06-26</th>\n",
       "      <td>2009-06-26</td>\n",
       "      <td>918.90</td>\n",
       "      <td>918.90</td>\n",
       "      <td>2009-06-26</td>\n",
       "      <td>4</td>\n",
       "      <td>26</td>\n",
       "      <td>6</td>\n",
       "      <td>2009</td>\n",
       "      <td>NaN</td>\n",
       "      <td>NaN</td>\n",
       "      <td>0.0</td>\n",
       "    </tr>\n",
       "    <tr>\n",
       "      <th>2009-06-29</th>\n",
       "      <td>2009-06-29</td>\n",
       "      <td>927.23</td>\n",
       "      <td>927.23</td>\n",
       "      <td>2009-06-29</td>\n",
       "      <td>0</td>\n",
       "      <td>29</td>\n",
       "      <td>6</td>\n",
       "      <td>2009</td>\n",
       "      <td>8.33</td>\n",
       "      <td>8.33</td>\n",
       "      <td>0.0</td>\n",
       "    </tr>\n",
       "    <tr>\n",
       "      <th>2009-06-30</th>\n",
       "      <td>2009-06-30</td>\n",
       "      <td>919.32</td>\n",
       "      <td>919.32</td>\n",
       "      <td>2009-06-30</td>\n",
       "      <td>1</td>\n",
       "      <td>30</td>\n",
       "      <td>6</td>\n",
       "      <td>2009</td>\n",
       "      <td>-7.91</td>\n",
       "      <td>-7.91</td>\n",
       "      <td>0.0</td>\n",
       "    </tr>\n",
       "    <tr>\n",
       "      <th>2009-07-01</th>\n",
       "      <td>2009-07-01</td>\n",
       "      <td>923.33</td>\n",
       "      <td>923.33</td>\n",
       "      <td>2009-07-01</td>\n",
       "      <td>2</td>\n",
       "      <td>1</td>\n",
       "      <td>7</td>\n",
       "      <td>2009</td>\n",
       "      <td>4.01</td>\n",
       "      <td>4.01</td>\n",
       "      <td>0.0</td>\n",
       "    </tr>\n",
       "    <tr>\n",
       "      <th>2009-07-02</th>\n",
       "      <td>2009-07-02</td>\n",
       "      <td>896.42</td>\n",
       "      <td>896.42</td>\n",
       "      <td>2009-07-02</td>\n",
       "      <td>3</td>\n",
       "      <td>2</td>\n",
       "      <td>7</td>\n",
       "      <td>2009</td>\n",
       "      <td>-26.91</td>\n",
       "      <td>-26.91</td>\n",
       "      <td>0.0</td>\n",
       "    </tr>\n",
       "  </tbody>\n",
       "</table>\n",
       "</div>"
      ],
      "text/plain": [
       "                  DATE   SP500   price  date_time  weekday  day  month  year  \\\n",
       "DATE                                                                           \n",
       "2009-06-26  2009-06-26  918.90  918.90 2009-06-26        4   26      6  2009   \n",
       "2009-06-29  2009-06-29  927.23  927.23 2009-06-29        0   29      6  2009   \n",
       "2009-06-30  2009-06-30  919.32  919.32 2009-06-30        1   30      6  2009   \n",
       "2009-07-01  2009-07-01  923.33  923.33 2009-07-01        2    1      7  2009   \n",
       "2009-07-02  2009-07-02  896.42  896.42 2009-07-02        3    2      7  2009   \n",
       "\n",
       "            change  summer  winter  \n",
       "DATE                                \n",
       "2009-06-26     NaN     NaN     0.0  \n",
       "2009-06-29    8.33    8.33     0.0  \n",
       "2009-06-30   -7.91   -7.91     0.0  \n",
       "2009-07-01    4.01    4.01     0.0  \n",
       "2009-07-02  -26.91  -26.91     0.0  "
      ]
     },
     "execution_count": 40,
     "metadata": {},
     "output_type": "execute_result"
    }
   ],
   "source": [
    "df.head()"
   ]
  },
  {
   "cell_type": "code",
   "execution_count": 41,
   "metadata": {},
   "outputs": [
    {
     "name": "stdout",
     "output_type": "stream",
     "text": [
      "0.23533598409542744\n"
     ]
    }
   ],
   "source": [
    "print(df.summer.mean())"
   ]
  },
  {
   "cell_type": "code",
   "execution_count": 42,
   "metadata": {},
   "outputs": [
    {
     "name": "stdout",
     "output_type": "stream",
     "text": [
      "0.5590659777424484\n"
     ]
    }
   ],
   "source": [
    "print(df.winter.mean())"
   ]
  },
  {
   "cell_type": "code",
   "execution_count": 43,
   "metadata": {},
   "outputs": [
    {
     "data": {
      "text/plain": [
       "Ttest_indResult(statistic=-0.969513403992707, pvalue=0.33233572022424096)"
      ]
     },
     "execution_count": 43,
     "metadata": {},
     "output_type": "execute_result"
    }
   ],
   "source": [
    "ttest_ind(df['summer'].dropna(), df['winter'].dropna())"
   ]
  },
  {
   "cell_type": "markdown",
   "metadata": {},
   "source": [
    "The average return for summer vs winter are **0.23** and **0.56**, respctively.  However, this difference is not significant.  The computed pvalue for the distributions is **0.332**, which is too high to conclude anything.  There is a roughly 33% chance that the data of the two distributions came from the same population.  Much too high to draw any conclusions. \n",
    "\n",
    "Now, winter vs summer just in year 3 of Presidential term:"
   ]
  },
  {
   "cell_type": "code",
   "execution_count": 44,
   "metadata": {},
   "outputs": [],
   "source": [
    "# add the column for change in Presidential 3rd year, summer months:\n",
    "df['yr3s'] = np.where(((df.year == 2011) | (df.year == 2015) | (df.year == 2019))\n",
    "            & ((df.month == 5) | (df.month == 6) | (df.month == 7) | \n",
    "            (df.month == 8) | (df.month == 9) | (df.month == 10)), df.change, 0)\n",
    "\n",
    "# add the column for change in Presidential 3rd year, winter months:\n",
    "df['yr3w'] = np.where(((df.year == 2011) | (df.year == 2015) | (df.year == 2019)\n",
    "                       & (df.month == 1) | (df.month == 2) | \n",
    "                       (df.month == 3) | (df.month == 4)), df.change, 0) \n",
    "df['yr3w_2'] = np.where(((df.year == 2010) | (df.year == 2014) | (df.year == 2018)\n",
    "                       & (df.month == 11) | (df.month == 12)), df.change, 0) \n",
    "df['yr3w_t'] = df.yr3w + df.yr3w_2"
   ]
  },
  {
   "cell_type": "code",
   "execution_count": 45,
   "metadata": {},
   "outputs": [
    {
     "data": {
      "text/html": [
       "<div>\n",
       "<style scoped>\n",
       "    .dataframe tbody tr th:only-of-type {\n",
       "        vertical-align: middle;\n",
       "    }\n",
       "\n",
       "    .dataframe tbody tr th {\n",
       "        vertical-align: top;\n",
       "    }\n",
       "\n",
       "    .dataframe thead th {\n",
       "        text-align: right;\n",
       "    }\n",
       "</style>\n",
       "<table border=\"1\" class=\"dataframe\">\n",
       "  <thead>\n",
       "    <tr style=\"text-align: right;\">\n",
       "      <th></th>\n",
       "      <th>DATE</th>\n",
       "      <th>SP500</th>\n",
       "      <th>price</th>\n",
       "      <th>date_time</th>\n",
       "      <th>weekday</th>\n",
       "      <th>day</th>\n",
       "      <th>month</th>\n",
       "      <th>year</th>\n",
       "      <th>change</th>\n",
       "      <th>summer</th>\n",
       "      <th>winter</th>\n",
       "      <th>yr3s</th>\n",
       "      <th>yr3w</th>\n",
       "      <th>yr3w_2</th>\n",
       "      <th>yr3w_t</th>\n",
       "    </tr>\n",
       "    <tr>\n",
       "      <th>DATE</th>\n",
       "      <th></th>\n",
       "      <th></th>\n",
       "      <th></th>\n",
       "      <th></th>\n",
       "      <th></th>\n",
       "      <th></th>\n",
       "      <th></th>\n",
       "      <th></th>\n",
       "      <th></th>\n",
       "      <th></th>\n",
       "      <th></th>\n",
       "      <th></th>\n",
       "      <th></th>\n",
       "      <th></th>\n",
       "      <th></th>\n",
       "    </tr>\n",
       "  </thead>\n",
       "  <tbody>\n",
       "    <tr>\n",
       "      <th>2009-06-26</th>\n",
       "      <td>2009-06-26</td>\n",
       "      <td>918.90</td>\n",
       "      <td>918.90</td>\n",
       "      <td>2009-06-26</td>\n",
       "      <td>4</td>\n",
       "      <td>26</td>\n",
       "      <td>6</td>\n",
       "      <td>2009</td>\n",
       "      <td>NaN</td>\n",
       "      <td>NaN</td>\n",
       "      <td>0.0</td>\n",
       "      <td>0.0</td>\n",
       "      <td>0.0</td>\n",
       "      <td>0.0</td>\n",
       "      <td>0.0</td>\n",
       "    </tr>\n",
       "    <tr>\n",
       "      <th>2009-06-29</th>\n",
       "      <td>2009-06-29</td>\n",
       "      <td>927.23</td>\n",
       "      <td>927.23</td>\n",
       "      <td>2009-06-29</td>\n",
       "      <td>0</td>\n",
       "      <td>29</td>\n",
       "      <td>6</td>\n",
       "      <td>2009</td>\n",
       "      <td>8.33</td>\n",
       "      <td>8.33</td>\n",
       "      <td>0.0</td>\n",
       "      <td>0.0</td>\n",
       "      <td>0.0</td>\n",
       "      <td>0.0</td>\n",
       "      <td>0.0</td>\n",
       "    </tr>\n",
       "    <tr>\n",
       "      <th>2009-06-30</th>\n",
       "      <td>2009-06-30</td>\n",
       "      <td>919.32</td>\n",
       "      <td>919.32</td>\n",
       "      <td>2009-06-30</td>\n",
       "      <td>1</td>\n",
       "      <td>30</td>\n",
       "      <td>6</td>\n",
       "      <td>2009</td>\n",
       "      <td>-7.91</td>\n",
       "      <td>-7.91</td>\n",
       "      <td>0.0</td>\n",
       "      <td>0.0</td>\n",
       "      <td>0.0</td>\n",
       "      <td>0.0</td>\n",
       "      <td>0.0</td>\n",
       "    </tr>\n",
       "    <tr>\n",
       "      <th>2009-07-01</th>\n",
       "      <td>2009-07-01</td>\n",
       "      <td>923.33</td>\n",
       "      <td>923.33</td>\n",
       "      <td>2009-07-01</td>\n",
       "      <td>2</td>\n",
       "      <td>1</td>\n",
       "      <td>7</td>\n",
       "      <td>2009</td>\n",
       "      <td>4.01</td>\n",
       "      <td>4.01</td>\n",
       "      <td>0.0</td>\n",
       "      <td>0.0</td>\n",
       "      <td>0.0</td>\n",
       "      <td>0.0</td>\n",
       "      <td>0.0</td>\n",
       "    </tr>\n",
       "    <tr>\n",
       "      <th>2009-07-02</th>\n",
       "      <td>2009-07-02</td>\n",
       "      <td>896.42</td>\n",
       "      <td>896.42</td>\n",
       "      <td>2009-07-02</td>\n",
       "      <td>3</td>\n",
       "      <td>2</td>\n",
       "      <td>7</td>\n",
       "      <td>2009</td>\n",
       "      <td>-26.91</td>\n",
       "      <td>-26.91</td>\n",
       "      <td>0.0</td>\n",
       "      <td>0.0</td>\n",
       "      <td>0.0</td>\n",
       "      <td>0.0</td>\n",
       "      <td>0.0</td>\n",
       "    </tr>\n",
       "  </tbody>\n",
       "</table>\n",
       "</div>"
      ],
      "text/plain": [
       "                  DATE   SP500   price  date_time  weekday  day  month  year  \\\n",
       "DATE                                                                           \n",
       "2009-06-26  2009-06-26  918.90  918.90 2009-06-26        4   26      6  2009   \n",
       "2009-06-29  2009-06-29  927.23  927.23 2009-06-29        0   29      6  2009   \n",
       "2009-06-30  2009-06-30  919.32  919.32 2009-06-30        1   30      6  2009   \n",
       "2009-07-01  2009-07-01  923.33  923.33 2009-07-01        2    1      7  2009   \n",
       "2009-07-02  2009-07-02  896.42  896.42 2009-07-02        3    2      7  2009   \n",
       "\n",
       "            change  summer  winter  yr3s  yr3w  yr3w_2  yr3w_t  \n",
       "DATE                                                            \n",
       "2009-06-26     NaN     NaN     0.0   0.0   0.0     0.0     0.0  \n",
       "2009-06-29    8.33    8.33     0.0   0.0   0.0     0.0     0.0  \n",
       "2009-06-30   -7.91   -7.91     0.0   0.0   0.0     0.0     0.0  \n",
       "2009-07-01    4.01    4.01     0.0   0.0   0.0     0.0     0.0  \n",
       "2009-07-02  -26.91  -26.91     0.0   0.0   0.0     0.0     0.0  "
      ]
     },
     "execution_count": 45,
     "metadata": {},
     "output_type": "execute_result"
    }
   ],
   "source": [
    "df.head()"
   ]
  },
  {
   "cell_type": "code",
   "execution_count": 46,
   "metadata": {},
   "outputs": [
    {
     "name": "stdout",
     "output_type": "stream",
     "text": [
      "Average daily return for summer months in 3rd Presidential Term\n",
      "-0.057595389507154156\n"
     ]
    }
   ],
   "source": [
    "print(\"Average daily return for summer months in 3rd Presidential Term\")\n",
    "print(df.yr3s.mean())"
   ]
  },
  {
   "cell_type": "code",
   "execution_count": 47,
   "metadata": {},
   "outputs": [
    {
     "name": "stdout",
     "output_type": "stream",
     "text": [
      "Average daily return for winter months in 3rd Presidential Term\n",
      "0.4523807631160576\n"
     ]
    }
   ],
   "source": [
    "print(\"Average daily return for winter months in 3rd Presidential Term\")\n",
    "print(df.yr3w_t.mean())"
   ]
  },
  {
   "cell_type": "code",
   "execution_count": 48,
   "metadata": {},
   "outputs": [
    {
     "data": {
      "text/plain": [
       "Ttest_indResult(statistic=-1.4998938416684096, pvalue=0.13370466363760292)"
      ]
     },
     "execution_count": 48,
     "metadata": {},
     "output_type": "execute_result"
    }
   ],
   "source": [
    "ttest_ind(df['yr3s'].dropna(), df['yr3w_t'].dropna())"
   ]
  },
  {
   "cell_type": "markdown",
   "metadata": {},
   "source": [
    "The daily returns for summer and winter months in the 3rd Presidential Term are not significant.  There is definitely a bigger difference in the 3rd Presidential Term compared to overall summer vs. wither.  However, the pvalue is **0.134** which is not less than 0.05.  So, there is a 13% chance that the sample data of each distribution came from the same population.  This is interesting, but not conclusive enough to take strong action."
   ]
  },
  {
   "cell_type": "code",
   "execution_count": null,
   "metadata": {},
   "outputs": [],
   "source": []
  },
  {
   "cell_type": "code",
   "execution_count": null,
   "metadata": {},
   "outputs": [],
   "source": []
  },
  {
   "cell_type": "code",
   "execution_count": 49,
   "metadata": {},
   "outputs": [
    {
     "data": {
      "text/html": [
       "<div>\n",
       "<style scoped>\n",
       "    .dataframe tbody tr th:only-of-type {\n",
       "        vertical-align: middle;\n",
       "    }\n",
       "\n",
       "    .dataframe tbody tr th {\n",
       "        vertical-align: top;\n",
       "    }\n",
       "\n",
       "    .dataframe thead th {\n",
       "        text-align: right;\n",
       "    }\n",
       "</style>\n",
       "<table border=\"1\" class=\"dataframe\">\n",
       "  <thead>\n",
       "    <tr style=\"text-align: right;\">\n",
       "      <th></th>\n",
       "      <th>DATE</th>\n",
       "      <th>DGS10</th>\n",
       "      <th>price</th>\n",
       "      <th>date_time</th>\n",
       "      <th>weekday</th>\n",
       "      <th>day</th>\n",
       "      <th>month</th>\n",
       "      <th>year</th>\n",
       "      <th>change</th>\n",
       "    </tr>\n",
       "    <tr>\n",
       "      <th>DATE</th>\n",
       "      <th></th>\n",
       "      <th></th>\n",
       "      <th></th>\n",
       "      <th></th>\n",
       "      <th></th>\n",
       "      <th></th>\n",
       "      <th></th>\n",
       "      <th></th>\n",
       "      <th></th>\n",
       "    </tr>\n",
       "  </thead>\n",
       "  <tbody>\n",
       "    <tr>\n",
       "      <th>2019-06-19</th>\n",
       "      <td>2019-06-19</td>\n",
       "      <td>2.03</td>\n",
       "      <td>2.03</td>\n",
       "      <td>2019-06-19</td>\n",
       "      <td>2</td>\n",
       "      <td>19</td>\n",
       "      <td>6</td>\n",
       "      <td>2019</td>\n",
       "      <td>-0.03</td>\n",
       "    </tr>\n",
       "    <tr>\n",
       "      <th>2019-06-20</th>\n",
       "      <td>2019-06-20</td>\n",
       "      <td>2.01</td>\n",
       "      <td>2.01</td>\n",
       "      <td>2019-06-20</td>\n",
       "      <td>3</td>\n",
       "      <td>20</td>\n",
       "      <td>6</td>\n",
       "      <td>2019</td>\n",
       "      <td>-0.02</td>\n",
       "    </tr>\n",
       "    <tr>\n",
       "      <th>2019-06-21</th>\n",
       "      <td>2019-06-21</td>\n",
       "      <td>2.07</td>\n",
       "      <td>2.07</td>\n",
       "      <td>2019-06-21</td>\n",
       "      <td>4</td>\n",
       "      <td>21</td>\n",
       "      <td>6</td>\n",
       "      <td>2019</td>\n",
       "      <td>0.06</td>\n",
       "    </tr>\n",
       "    <tr>\n",
       "      <th>2019-06-24</th>\n",
       "      <td>2019-06-24</td>\n",
       "      <td>2.02</td>\n",
       "      <td>2.02</td>\n",
       "      <td>2019-06-24</td>\n",
       "      <td>0</td>\n",
       "      <td>24</td>\n",
       "      <td>6</td>\n",
       "      <td>2019</td>\n",
       "      <td>-0.05</td>\n",
       "    </tr>\n",
       "    <tr>\n",
       "      <th>2019-06-25</th>\n",
       "      <td>2019-06-25</td>\n",
       "      <td>2.00</td>\n",
       "      <td>2.00</td>\n",
       "      <td>2019-06-25</td>\n",
       "      <td>1</td>\n",
       "      <td>25</td>\n",
       "      <td>6</td>\n",
       "      <td>2019</td>\n",
       "      <td>-0.02</td>\n",
       "    </tr>\n",
       "  </tbody>\n",
       "</table>\n",
       "</div>"
      ],
      "text/plain": [
       "                  DATE DGS10  price  date_time  weekday  day  month  year  \\\n",
       "DATE                                                                        \n",
       "2019-06-19  2019-06-19  2.03   2.03 2019-06-19        2   19      6  2019   \n",
       "2019-06-20  2019-06-20  2.01   2.01 2019-06-20        3   20      6  2019   \n",
       "2019-06-21  2019-06-21  2.07   2.07 2019-06-21        4   21      6  2019   \n",
       "2019-06-24  2019-06-24  2.02   2.02 2019-06-24        0   24      6  2019   \n",
       "2019-06-25  2019-06-25  2.00   2.00 2019-06-25        1   25      6  2019   \n",
       "\n",
       "            change  \n",
       "DATE                \n",
       "2019-06-19   -0.03  \n",
       "2019-06-20   -0.02  \n",
       "2019-06-21    0.06  \n",
       "2019-06-24   -0.05  \n",
       "2019-06-25   -0.02  "
      ]
     },
     "execution_count": 49,
     "metadata": {},
     "output_type": "execute_result"
    }
   ],
   "source": [
    "df_10.tail()"
   ]
  },
  {
   "cell_type": "code",
   "execution_count": 50,
   "metadata": {},
   "outputs": [
    {
     "data": {
      "image/png": "[encoded data removed]",
      "text/plain": [
       "<Figure size 432x288 with 1 Axes>"
      ]
     },
     "metadata": {
      "needs_background": "light"
     },
     "output_type": "display_data"
    }
   ],
   "source": [
    "df.change.hist()\n",
    "ax = df.change.hist()\n",
    "ax.set(xlabel='daily change', ylabel='frequency', title='Histogram of daily price change for S&P 500')\n",
    "plt.show()"
   ]
  },
  {
   "cell_type": "code",
   "execution_count": 51,
   "metadata": {},
   "outputs": [
    {
     "data": {
      "image/png": "[encoded data removed]",
      "text/plain": [
       "<Figure size 432x288 with 1 Axes>"
      ]
     },
     "metadata": {
      "needs_background": "light"
     },
     "output_type": "display_data"
    }
   ],
   "source": [
    "df_10.change.hist()\n",
    "ax = df_10.change.hist()\n",
    "ax.set(xlabel='daily change', ylabel='frequency', title='Histogram of daily price change for 10 Year Bond')\n",
    "plt.show()"
   ]
  },
  {
   "cell_type": "code",
   "execution_count": 52,
   "metadata": {},
   "outputs": [
    {
     "data": {
      "image/png": "[encoded data removed]",
      "text/plain": [
       "<Figure size 432x288 with 1 Axes>"
      ]
     },
     "metadata": {
      "needs_background": "light"
     },
     "output_type": "display_data"
    }
   ],
   "source": [
    "df_gold.change.hist()\n",
    "ax = df_gold.change.hist()\n",
    "ax.set(xlabel='daily change', ylabel='frequency', title='Histogram of daily price change for Gold')\n",
    "plt.show()"
   ]
  },
  {
   "cell_type": "markdown",
   "metadata": {},
   "source": [
    "Looks like the daily change values are close to normally distributed for each security, so we can continue and check the statistical significance of the values for each day of the week."
   ]
  },
  {
   "cell_type": "code",
   "execution_count": 53,
   "metadata": {},
   "outputs": [
    {
     "data": {
      "text/plain": [
       "(2516, 15)"
      ]
     },
     "execution_count": 53,
     "metadata": {},
     "output_type": "execute_result"
    }
   ],
   "source": [
    "df.shape"
   ]
  },
  {
   "cell_type": "code",
   "execution_count": 54,
   "metadata": {},
   "outputs": [
    {
     "name": "stdout",
     "output_type": "stream",
     "text": [
      "101.3599999999933\n",
      "641.9000000000053\n",
      "601.8699999999991\n",
      "320.37999999999533\n",
      "332.9700000000071\n"
     ]
    }
   ],
   "source": [
    "# For S&P 500\n",
    "print(df.loc[df['weekday'] == 0, 'change'].sum())\n",
    "print(df.loc[df['weekday'] == 1, 'change'].sum())\n",
    "print(df.loc[df['weekday'] == 2, 'change'].sum())\n",
    "print(df.loc[df['weekday'] == 3, 'change'].sum())\n",
    "print(df.loc[df['weekday'] == 4, 'change'].sum())"
   ]
  },
  {
   "cell_type": "markdown",
   "metadata": {},
   "source": [
    "So, this means that on Mondays, the total change in the value of the S&P 500 index was about +100.  The total change on all Tuesdays was about +640.  The next step converts the changes to an average per trading day."
   ]
  },
  {
   "cell_type": "code",
   "execution_count": 55,
   "metadata": {},
   "outputs": [
    {
     "name": "stdout",
     "output_type": "stream",
     "text": [
      "13.210000000000022\n",
      "-6.320000000000043\n",
      "1.0500000000000325\n",
      "-2.120000000000004\n",
      "-7.880000000000006\n"
     ]
    }
   ],
   "source": [
    "# For 10 Yr Bond\n",
    "print(df_10.loc[df_10['weekday'] == 0, 'change'].sum())\n",
    "print(df_10.loc[df_10['weekday'] == 1, 'change'].sum())\n",
    "print(df_10.loc[df_10['weekday'] == 2, 'change'].sum())\n",
    "print(df_10.loc[df_10['weekday'] == 3, 'change'].sum())\n",
    "print(df_10.loc[df_10['weekday'] == 4, 'change'].sum())"
   ]
  },
  {
   "cell_type": "code",
   "execution_count": 56,
   "metadata": {},
   "outputs": [
    {
     "name": "stdout",
     "output_type": "stream",
     "text": [
      "0.04028616852145998\n",
      "0.25512718600954104\n",
      "0.23921701112877547\n",
      "0.12733704292527637\n",
      "0.1323410174880791\n"
     ]
    }
   ],
   "source": [
    "# Average daily move for S&P 500\n",
    "print(df.loc[df['weekday'] == 0, 'change'].sum()/2516)\n",
    "print(df.loc[df['weekday'] == 1, 'change'].sum()/2516)\n",
    "print(df.loc[df['weekday'] == 2, 'change'].sum()/2516)\n",
    "print(df.loc[df['weekday'] == 3, 'change'].sum()/2516)\n",
    "print(df.loc[df['weekday'] == 4, 'change'].sum()/2516)"
   ]
  },
  {
   "cell_type": "code",
   "execution_count": 57,
   "metadata": {},
   "outputs": [
    {
     "name": "stdout",
     "output_type": "stream",
     "text": [
      "0.005250397456279818\n",
      "-0.0025119236883942935\n",
      "0.00041732909379969493\n",
      "-0.0008426073131955501\n",
      "-0.0031319554848966637\n"
     ]
    }
   ],
   "source": [
    "# Average daily move for 10 Yr Bond\n",
    "print(df_10.loc[df_10['weekday'] == 0, 'change'].sum()/2516)\n",
    "print(df_10.loc[df_10['weekday'] == 1, 'change'].sum()/2516)\n",
    "print(df_10.loc[df_10['weekday'] == 2, 'change'].sum()/2516)\n",
    "print(df_10.loc[df_10['weekday'] == 3, 'change'].sum()/2516)\n",
    "print(df_10.loc[df_10['weekday'] == 4, 'change'].sum()/2516)"
   ]
  },
  {
   "cell_type": "code",
   "execution_count": 58,
   "metadata": {},
   "outputs": [
    {
     "name": "stdout",
     "output_type": "stream",
     "text": [
      "-0.2999999999999974\n",
      "-0.09999999999999942\n",
      "1.7399999999999969\n",
      "-0.8699999999999986\n",
      "-1.9900000000000015\n"
     ]
    }
   ],
   "source": [
    "# For 10 Yr Bond (just last 10 years)\n",
    "print(df_10_10.loc[df_10_10['weekday'] == 0, 'change'].sum())\n",
    "print(df_10_10.loc[df_10_10['weekday'] == 1, 'change'].sum())\n",
    "print(df_10_10.loc[df_10_10['weekday'] == 2, 'change'].sum())\n",
    "print(df_10_10.loc[df_10_10['weekday'] == 3, 'change'].sum())\n",
    "print(df_10_10.loc[df_10_10['weekday'] == 4, 'change'].sum())"
   ]
  },
  {
   "cell_type": "code",
   "execution_count": 59,
   "metadata": {},
   "outputs": [
    {
     "name": "stdout",
     "output_type": "stream",
     "text": [
      "538.5429999999996\n",
      "415.8369999999994\n",
      "-40.4830000000004\n",
      "-459.0160000000003\n",
      "93.1730000000016\n"
     ]
    }
   ],
   "source": [
    "# For gold (just last 10 years)\n",
    "print(df_gold.loc[df_gold['weekday'] == 0, 'change'].sum())\n",
    "print(df_gold.loc[df_gold['weekday'] == 1, 'change'].sum())\n",
    "print(df_gold.loc[df_gold['weekday'] == 2, 'change'].sum())\n",
    "print(df_gold.loc[df_gold['weekday'] == 3, 'change'].sum())\n",
    "print(df_gold.loc[df_gold['weekday'] == 4, 'change'].sum())"
   ]
  },
  {
   "cell_type": "code",
   "execution_count": 60,
   "metadata": {},
   "outputs": [
    {
     "name": "stdout",
     "output_type": "stream",
     "text": [
      "-21.540000000000035\n",
      "31.520000000000003\n",
      "23.049999999999805\n",
      "-30.409999999999826\n",
      "-13.029999999999951\n"
     ]
    }
   ],
   "source": [
    "# For oil (just last 10 years)\n",
    "print(df_oil.loc[df_oil['weekday'] == 0, 'change'].sum())\n",
    "print(df_oil.loc[df_oil['weekday'] == 1, 'change'].sum())\n",
    "print(df_oil.loc[df_oil['weekday'] == 2, 'change'].sum())\n",
    "print(df_oil.loc[df_oil['weekday'] == 3, 'change'].sum())\n",
    "print(df_oil.loc[df_oil['weekday'] == 4, 'change'].sum())"
   ]
  },
  {
   "cell_type": "code",
   "execution_count": 61,
   "metadata": {},
   "outputs": [
    {
     "name": "stdout",
     "output_type": "stream",
     "text": [
      "1421.7199999999955\n",
      "978.4300000000011\n",
      "-338.36000000000377\n",
      "-1088.6800000000028\n",
      "5006.700000000002\n",
      "6821.430000000004\n",
      "-853.5099999999965\n"
     ]
    }
   ],
   "source": [
    "# For bitcoin\n",
    "print(df_btc.loc[df_btc['weekday'] == 0, 'change'].sum())\n",
    "print(df_btc.loc[df_btc['weekday'] == 1, 'change'].sum())\n",
    "print(df_btc.loc[df_btc['weekday'] == 2, 'change'].sum())\n",
    "print(df_btc.loc[df_btc['weekday'] == 3, 'change'].sum())\n",
    "print(df_btc.loc[df_btc['weekday'] == 4, 'change'].sum())\n",
    "print(df_btc.loc[df_btc['weekday'] == 5, 'change'].sum())\n",
    "print(df_btc.loc[df_btc['weekday'] == 6, 'change'].sum())"
   ]
  },
  {
   "cell_type": "code",
   "execution_count": null,
   "metadata": {},
   "outputs": [],
   "source": []
  },
  {
   "cell_type": "markdown",
   "metadata": {},
   "source": [
    "### Are these numbers significant ??"
   ]
  },
  {
   "cell_type": "code",
   "execution_count": 62,
   "metadata": {},
   "outputs": [],
   "source": [
    "# For S&P 500\n",
    "df['Monday'] = df.change.where(df.weekday == 0)\n",
    "df['Tuesday'] = df.change.where(df.weekday == 1)\n",
    "df['Wednesday'] = df.change.where(df.weekday == 2)\n",
    "df['Thursday'] = df.change.where(df.weekday == 3)\n",
    "df['Friday'] = df.change.where(df.weekday == 4)"
   ]
  },
  {
   "cell_type": "code",
   "execution_count": 63,
   "metadata": {},
   "outputs": [
    {
     "data": {
      "text/html": [
       "<div>\n",
       "<style scoped>\n",
       "    .dataframe tbody tr th:only-of-type {\n",
       "        vertical-align: middle;\n",
       "    }\n",
       "\n",
       "    .dataframe tbody tr th {\n",
       "        vertical-align: top;\n",
       "    }\n",
       "\n",
       "    .dataframe thead th {\n",
       "        text-align: right;\n",
       "    }\n",
       "</style>\n",
       "<table border=\"1\" class=\"dataframe\">\n",
       "  <thead>\n",
       "    <tr style=\"text-align: right;\">\n",
       "      <th></th>\n",
       "      <th>DATE</th>\n",
       "      <th>SP500</th>\n",
       "      <th>price</th>\n",
       "      <th>date_time</th>\n",
       "      <th>weekday</th>\n",
       "      <th>day</th>\n",
       "      <th>month</th>\n",
       "      <th>year</th>\n",
       "      <th>change</th>\n",
       "      <th>summer</th>\n",
       "      <th>winter</th>\n",
       "      <th>yr3s</th>\n",
       "      <th>yr3w</th>\n",
       "      <th>yr3w_2</th>\n",
       "      <th>yr3w_t</th>\n",
       "      <th>Monday</th>\n",
       "      <th>Tuesday</th>\n",
       "      <th>Wednesday</th>\n",
       "      <th>Thursday</th>\n",
       "      <th>Friday</th>\n",
       "    </tr>\n",
       "    <tr>\n",
       "      <th>DATE</th>\n",
       "      <th></th>\n",
       "      <th></th>\n",
       "      <th></th>\n",
       "      <th></th>\n",
       "      <th></th>\n",
       "      <th></th>\n",
       "      <th></th>\n",
       "      <th></th>\n",
       "      <th></th>\n",
       "      <th></th>\n",
       "      <th></th>\n",
       "      <th></th>\n",
       "      <th></th>\n",
       "      <th></th>\n",
       "      <th></th>\n",
       "      <th></th>\n",
       "      <th></th>\n",
       "      <th></th>\n",
       "      <th></th>\n",
       "      <th></th>\n",
       "    </tr>\n",
       "  </thead>\n",
       "  <tbody>\n",
       "    <tr>\n",
       "      <th>2009-06-26</th>\n",
       "      <td>2009-06-26</td>\n",
       "      <td>918.90</td>\n",
       "      <td>918.90</td>\n",
       "      <td>2009-06-26</td>\n",
       "      <td>4</td>\n",
       "      <td>26</td>\n",
       "      <td>6</td>\n",
       "      <td>2009</td>\n",
       "      <td>NaN</td>\n",
       "      <td>NaN</td>\n",
       "      <td>0.0</td>\n",
       "      <td>0.0</td>\n",
       "      <td>0.0</td>\n",
       "      <td>0.0</td>\n",
       "      <td>0.0</td>\n",
       "      <td>NaN</td>\n",
       "      <td>NaN</td>\n",
       "      <td>NaN</td>\n",
       "      <td>NaN</td>\n",
       "      <td>NaN</td>\n",
       "    </tr>\n",
       "    <tr>\n",
       "      <th>2009-06-29</th>\n",
       "      <td>2009-06-29</td>\n",
       "      <td>927.23</td>\n",
       "      <td>927.23</td>\n",
       "      <td>2009-06-29</td>\n",
       "      <td>0</td>\n",
       "      <td>29</td>\n",
       "      <td>6</td>\n",
       "      <td>2009</td>\n",
       "      <td>8.33</td>\n",
       "      <td>8.33</td>\n",
       "      <td>0.0</td>\n",
       "      <td>0.0</td>\n",
       "      <td>0.0</td>\n",
       "      <td>0.0</td>\n",
       "      <td>0.0</td>\n",
       "      <td>8.33</td>\n",
       "      <td>NaN</td>\n",
       "      <td>NaN</td>\n",
       "      <td>NaN</td>\n",
       "      <td>NaN</td>\n",
       "    </tr>\n",
       "    <tr>\n",
       "      <th>2009-06-30</th>\n",
       "      <td>2009-06-30</td>\n",
       "      <td>919.32</td>\n",
       "      <td>919.32</td>\n",
       "      <td>2009-06-30</td>\n",
       "      <td>1</td>\n",
       "      <td>30</td>\n",
       "      <td>6</td>\n",
       "      <td>2009</td>\n",
       "      <td>-7.91</td>\n",
       "      <td>-7.91</td>\n",
       "      <td>0.0</td>\n",
       "      <td>0.0</td>\n",
       "      <td>0.0</td>\n",
       "      <td>0.0</td>\n",
       "      <td>0.0</td>\n",
       "      <td>NaN</td>\n",
       "      <td>-7.91</td>\n",
       "      <td>NaN</td>\n",
       "      <td>NaN</td>\n",
       "      <td>NaN</td>\n",
       "    </tr>\n",
       "    <tr>\n",
       "      <th>2009-07-01</th>\n",
       "      <td>2009-07-01</td>\n",
       "      <td>923.33</td>\n",
       "      <td>923.33</td>\n",
       "      <td>2009-07-01</td>\n",
       "      <td>2</td>\n",
       "      <td>1</td>\n",
       "      <td>7</td>\n",
       "      <td>2009</td>\n",
       "      <td>4.01</td>\n",
       "      <td>4.01</td>\n",
       "      <td>0.0</td>\n",
       "      <td>0.0</td>\n",
       "      <td>0.0</td>\n",
       "      <td>0.0</td>\n",
       "      <td>0.0</td>\n",
       "      <td>NaN</td>\n",
       "      <td>NaN</td>\n",
       "      <td>4.01</td>\n",
       "      <td>NaN</td>\n",
       "      <td>NaN</td>\n",
       "    </tr>\n",
       "    <tr>\n",
       "      <th>2009-07-02</th>\n",
       "      <td>2009-07-02</td>\n",
       "      <td>896.42</td>\n",
       "      <td>896.42</td>\n",
       "      <td>2009-07-02</td>\n",
       "      <td>3</td>\n",
       "      <td>2</td>\n",
       "      <td>7</td>\n",
       "      <td>2009</td>\n",
       "      <td>-26.91</td>\n",
       "      <td>-26.91</td>\n",
       "      <td>0.0</td>\n",
       "      <td>0.0</td>\n",
       "      <td>0.0</td>\n",
       "      <td>0.0</td>\n",
       "      <td>0.0</td>\n",
       "      <td>NaN</td>\n",
       "      <td>NaN</td>\n",
       "      <td>NaN</td>\n",
       "      <td>-26.91</td>\n",
       "      <td>NaN</td>\n",
       "    </tr>\n",
       "  </tbody>\n",
       "</table>\n",
       "</div>"
      ],
      "text/plain": [
       "                  DATE   SP500   price  date_time  weekday  day  month  year  \\\n",
       "DATE                                                                           \n",
       "2009-06-26  2009-06-26  918.90  918.90 2009-06-26        4   26      6  2009   \n",
       "2009-06-29  2009-06-29  927.23  927.23 2009-06-29        0   29      6  2009   \n",
       "2009-06-30  2009-06-30  919.32  919.32 2009-06-30        1   30      6  2009   \n",
       "2009-07-01  2009-07-01  923.33  923.33 2009-07-01        2    1      7  2009   \n",
       "2009-07-02  2009-07-02  896.42  896.42 2009-07-02        3    2      7  2009   \n",
       "\n",
       "            change  summer  winter  yr3s  yr3w  yr3w_2  yr3w_t  Monday  \\\n",
       "DATE                                                                     \n",
       "2009-06-26     NaN     NaN     0.0   0.0   0.0     0.0     0.0     NaN   \n",
       "2009-06-29    8.33    8.33     0.0   0.0   0.0     0.0     0.0    8.33   \n",
       "2009-06-30   -7.91   -7.91     0.0   0.0   0.0     0.0     0.0     NaN   \n",
       "2009-07-01    4.01    4.01     0.0   0.0   0.0     0.0     0.0     NaN   \n",
       "2009-07-02  -26.91  -26.91     0.0   0.0   0.0     0.0     0.0     NaN   \n",
       "\n",
       "            Tuesday  Wednesday  Thursday  Friday  \n",
       "DATE                                              \n",
       "2009-06-26      NaN        NaN       NaN     NaN  \n",
       "2009-06-29      NaN        NaN       NaN     NaN  \n",
       "2009-06-30    -7.91        NaN       NaN     NaN  \n",
       "2009-07-01      NaN       4.01       NaN     NaN  \n",
       "2009-07-02      NaN        NaN    -26.91     NaN  "
      ]
     },
     "execution_count": 63,
     "metadata": {},
     "output_type": "execute_result"
    }
   ],
   "source": [
    "df.head()"
   ]
  },
  {
   "cell_type": "code",
   "execution_count": 64,
   "metadata": {},
   "outputs": [],
   "source": [
    "# For 10 Yr Bond\n",
    "df_10['Monday'] = df_10.change.where(df_10.weekday == 0)\n",
    "df_10['Tuesday'] = df_10.change.where(df_10.weekday == 1)\n",
    "df_10['Wednesday'] = df_10.change.where(df_10.weekday == 2)\n",
    "df_10['Thursday'] = df_10.change.where(df_10.weekday == 3)\n",
    "df_10['Friday'] = df_10.change.where(df_10.weekday == 4)"
   ]
  },
  {
   "cell_type": "code",
   "execution_count": 65,
   "metadata": {},
   "outputs": [
    {
     "data": {
      "text/html": [
       "<div>\n",
       "<style scoped>\n",
       "    .dataframe tbody tr th:only-of-type {\n",
       "        vertical-align: middle;\n",
       "    }\n",
       "\n",
       "    .dataframe tbody tr th {\n",
       "        vertical-align: top;\n",
       "    }\n",
       "\n",
       "    .dataframe thead th {\n",
       "        text-align: right;\n",
       "    }\n",
       "</style>\n",
       "<table border=\"1\" class=\"dataframe\">\n",
       "  <thead>\n",
       "    <tr style=\"text-align: right;\">\n",
       "      <th></th>\n",
       "      <th>DATE</th>\n",
       "      <th>DGS10</th>\n",
       "      <th>price</th>\n",
       "      <th>date_time</th>\n",
       "      <th>weekday</th>\n",
       "      <th>day</th>\n",
       "      <th>month</th>\n",
       "      <th>year</th>\n",
       "      <th>change</th>\n",
       "      <th>Monday</th>\n",
       "      <th>Tuesday</th>\n",
       "      <th>Wednesday</th>\n",
       "      <th>Thursday</th>\n",
       "      <th>Friday</th>\n",
       "    </tr>\n",
       "    <tr>\n",
       "      <th>DATE</th>\n",
       "      <th></th>\n",
       "      <th></th>\n",
       "      <th></th>\n",
       "      <th></th>\n",
       "      <th></th>\n",
       "      <th></th>\n",
       "      <th></th>\n",
       "      <th></th>\n",
       "      <th></th>\n",
       "      <th></th>\n",
       "      <th></th>\n",
       "      <th></th>\n",
       "      <th></th>\n",
       "      <th></th>\n",
       "    </tr>\n",
       "  </thead>\n",
       "  <tbody>\n",
       "    <tr>\n",
       "      <th>1962-01-02</th>\n",
       "      <td>1962-01-02</td>\n",
       "      <td>4.06</td>\n",
       "      <td>4.06</td>\n",
       "      <td>1962-01-02</td>\n",
       "      <td>1</td>\n",
       "      <td>2</td>\n",
       "      <td>1</td>\n",
       "      <td>1962</td>\n",
       "      <td>NaN</td>\n",
       "      <td>NaN</td>\n",
       "      <td>NaN</td>\n",
       "      <td>NaN</td>\n",
       "      <td>NaN</td>\n",
       "      <td>NaN</td>\n",
       "    </tr>\n",
       "    <tr>\n",
       "      <th>1962-01-03</th>\n",
       "      <td>1962-01-03</td>\n",
       "      <td>4.03</td>\n",
       "      <td>4.03</td>\n",
       "      <td>1962-01-03</td>\n",
       "      <td>2</td>\n",
       "      <td>3</td>\n",
       "      <td>1</td>\n",
       "      <td>1962</td>\n",
       "      <td>-0.03</td>\n",
       "      <td>NaN</td>\n",
       "      <td>NaN</td>\n",
       "      <td>-0.03</td>\n",
       "      <td>NaN</td>\n",
       "      <td>NaN</td>\n",
       "    </tr>\n",
       "    <tr>\n",
       "      <th>1962-01-04</th>\n",
       "      <td>1962-01-04</td>\n",
       "      <td>3.99</td>\n",
       "      <td>3.99</td>\n",
       "      <td>1962-01-04</td>\n",
       "      <td>3</td>\n",
       "      <td>4</td>\n",
       "      <td>1</td>\n",
       "      <td>1962</td>\n",
       "      <td>-0.04</td>\n",
       "      <td>NaN</td>\n",
       "      <td>NaN</td>\n",
       "      <td>NaN</td>\n",
       "      <td>-0.04</td>\n",
       "      <td>NaN</td>\n",
       "    </tr>\n",
       "    <tr>\n",
       "      <th>1962-01-05</th>\n",
       "      <td>1962-01-05</td>\n",
       "      <td>4.02</td>\n",
       "      <td>4.02</td>\n",
       "      <td>1962-01-05</td>\n",
       "      <td>4</td>\n",
       "      <td>5</td>\n",
       "      <td>1</td>\n",
       "      <td>1962</td>\n",
       "      <td>0.03</td>\n",
       "      <td>NaN</td>\n",
       "      <td>NaN</td>\n",
       "      <td>NaN</td>\n",
       "      <td>NaN</td>\n",
       "      <td>0.03</td>\n",
       "    </tr>\n",
       "    <tr>\n",
       "      <th>1962-01-08</th>\n",
       "      <td>1962-01-08</td>\n",
       "      <td>4.03</td>\n",
       "      <td>4.03</td>\n",
       "      <td>1962-01-08</td>\n",
       "      <td>0</td>\n",
       "      <td>8</td>\n",
       "      <td>1</td>\n",
       "      <td>1962</td>\n",
       "      <td>0.01</td>\n",
       "      <td>0.01</td>\n",
       "      <td>NaN</td>\n",
       "      <td>NaN</td>\n",
       "      <td>NaN</td>\n",
       "      <td>NaN</td>\n",
       "    </tr>\n",
       "  </tbody>\n",
       "</table>\n",
       "</div>"
      ],
      "text/plain": [
       "                  DATE DGS10  price  date_time  weekday  day  month  year  \\\n",
       "DATE                                                                        \n",
       "1962-01-02  1962-01-02  4.06   4.06 1962-01-02        1    2      1  1962   \n",
       "1962-01-03  1962-01-03  4.03   4.03 1962-01-03        2    3      1  1962   \n",
       "1962-01-04  1962-01-04  3.99   3.99 1962-01-04        3    4      1  1962   \n",
       "1962-01-05  1962-01-05  4.02   4.02 1962-01-05        4    5      1  1962   \n",
       "1962-01-08  1962-01-08  4.03   4.03 1962-01-08        0    8      1  1962   \n",
       "\n",
       "            change  Monday  Tuesday  Wednesday  Thursday  Friday  \n",
       "DATE                                                              \n",
       "1962-01-02     NaN     NaN      NaN        NaN       NaN     NaN  \n",
       "1962-01-03   -0.03     NaN      NaN      -0.03       NaN     NaN  \n",
       "1962-01-04   -0.04     NaN      NaN        NaN     -0.04     NaN  \n",
       "1962-01-05    0.03     NaN      NaN        NaN       NaN    0.03  \n",
       "1962-01-08    0.01    0.01      NaN        NaN       NaN     NaN  "
      ]
     },
     "execution_count": 65,
     "metadata": {},
     "output_type": "execute_result"
    }
   ],
   "source": [
    "df_10.head()"
   ]
  },
  {
   "cell_type": "code",
   "execution_count": 66,
   "metadata": {},
   "outputs": [],
   "source": [
    "# For 10 Yr Bond (last 10 years)\n",
    "df_10_10['Monday'] = df_10_10.change.where(df_10_10.weekday == 0)\n",
    "df_10_10['Tuesday'] = df_10_10.change.where(df_10_10.weekday == 1)\n",
    "df_10_10['Wednesday'] = df_10_10.change.where(df_10_10.weekday == 2)\n",
    "df_10_10['Thursday'] = df_10_10.change.where(df_10_10.weekday == 3)\n",
    "df_10_10['Friday'] = df_10_10.change.where(df_10_10.weekday == 4)"
   ]
  },
  {
   "cell_type": "code",
   "execution_count": 67,
   "metadata": {},
   "outputs": [],
   "source": [
    "# For gold (last 10 years)\n",
    "df_gold['Monday'] = df_gold.change.where(df_gold.weekday == 0)\n",
    "df_gold['Tuesday'] = df_gold.change.where(df_gold.weekday == 1)\n",
    "df_gold['Wednesday'] = df_gold.change.where(df_gold.weekday == 2)\n",
    "df_gold['Thursday'] = df_gold.change.where(df_gold.weekday == 3)\n",
    "df_gold['Friday'] = df_gold.change.where(df_gold.weekday == 4)"
   ]
  },
  {
   "cell_type": "code",
   "execution_count": 68,
   "metadata": {},
   "outputs": [],
   "source": [
    "# For oil (last 10 years)\n",
    "df_oil['Monday'] = df_oil.change.where(df_oil.weekday == 0)\n",
    "df_oil['Tuesday'] = df_oil.change.where(df_oil.weekday == 1)\n",
    "df_oil['Wednesday'] = df_oil.change.where(df_oil.weekday == 2)\n",
    "df_oil['Thursday'] = df_oil.change.where(df_oil.weekday == 3)\n",
    "df_oil['Friday'] = df_oil.change.where(df_oil.weekday == 4)\n",
    "\n",
    "# For bitcoin\n",
    "df_btc['Monday'] = df_btc.change.where(df_oil.weekday == 0)\n",
    "df_btc['Tuesday'] = df_btc.change.where(df_oil.weekday == 1)\n",
    "df_btc['Wednesday'] = df_btc.change.where(df_oil.weekday == 2)\n",
    "df_btc['Thursday'] = df_btc.change.where(df_oil.weekday == 3)\n",
    "df_btc['Friday'] = df_btc.change.where(df_oil.weekday == 4)\n",
    "df_btc['Saturday'] = df_btc.change.where(df_oil.weekday == 5)\n",
    "df_btc['Sunday'] = df_btc.change.where(df_oil.weekday == 6)"
   ]
  },
  {
   "cell_type": "code",
   "execution_count": 69,
   "metadata": {},
   "outputs": [
    {
     "data": {
      "text/html": [
       "<div>\n",
       "<style scoped>\n",
       "    .dataframe tbody tr th:only-of-type {\n",
       "        vertical-align: middle;\n",
       "    }\n",
       "\n",
       "    .dataframe tbody tr th {\n",
       "        vertical-align: top;\n",
       "    }\n",
       "\n",
       "    .dataframe thead th {\n",
       "        text-align: right;\n",
       "    }\n",
       "</style>\n",
       "<table border=\"1\" class=\"dataframe\">\n",
       "  <thead>\n",
       "    <tr style=\"text-align: right;\">\n",
       "      <th></th>\n",
       "      <th>DATE</th>\n",
       "      <th>CBBTCUSD</th>\n",
       "      <th>price</th>\n",
       "      <th>date_time</th>\n",
       "      <th>weekday</th>\n",
       "      <th>day</th>\n",
       "      <th>month</th>\n",
       "      <th>year</th>\n",
       "      <th>change</th>\n",
       "      <th>Monday</th>\n",
       "      <th>Tuesday</th>\n",
       "      <th>Wednesday</th>\n",
       "      <th>Thursday</th>\n",
       "      <th>Friday</th>\n",
       "      <th>Saturday</th>\n",
       "      <th>Sunday</th>\n",
       "    </tr>\n",
       "  </thead>\n",
       "  <tbody>\n",
       "    <tr>\n",
       "      <th>0</th>\n",
       "      <td>2014-12-01</td>\n",
       "      <td>370</td>\n",
       "      <td>370.0</td>\n",
       "      <td>2014-12-01</td>\n",
       "      <td>0</td>\n",
       "      <td>1</td>\n",
       "      <td>12</td>\n",
       "      <td>2014</td>\n",
       "      <td>NaN</td>\n",
       "      <td>NaN</td>\n",
       "      <td>NaN</td>\n",
       "      <td>NaN</td>\n",
       "      <td>NaN</td>\n",
       "      <td>NaN</td>\n",
       "      <td>NaN</td>\n",
       "      <td>NaN</td>\n",
       "    </tr>\n",
       "    <tr>\n",
       "      <th>1</th>\n",
       "      <td>2014-12-02</td>\n",
       "      <td>378</td>\n",
       "      <td>378.0</td>\n",
       "      <td>2014-12-02</td>\n",
       "      <td>1</td>\n",
       "      <td>2</td>\n",
       "      <td>12</td>\n",
       "      <td>2014</td>\n",
       "      <td>8.0</td>\n",
       "      <td>NaN</td>\n",
       "      <td>NaN</td>\n",
       "      <td>NaN</td>\n",
       "      <td>8.0</td>\n",
       "      <td>NaN</td>\n",
       "      <td>NaN</td>\n",
       "      <td>NaN</td>\n",
       "    </tr>\n",
       "    <tr>\n",
       "      <th>2</th>\n",
       "      <td>2014-12-03</td>\n",
       "      <td>378</td>\n",
       "      <td>378.0</td>\n",
       "      <td>2014-12-03</td>\n",
       "      <td>2</td>\n",
       "      <td>3</td>\n",
       "      <td>12</td>\n",
       "      <td>2014</td>\n",
       "      <td>0.0</td>\n",
       "      <td>NaN</td>\n",
       "      <td>NaN</td>\n",
       "      <td>NaN</td>\n",
       "      <td>NaN</td>\n",
       "      <td>0.0</td>\n",
       "      <td>NaN</td>\n",
       "      <td>NaN</td>\n",
       "    </tr>\n",
       "    <tr>\n",
       "      <th>3</th>\n",
       "      <td>2014-12-04</td>\n",
       "      <td>377.1</td>\n",
       "      <td>377.1</td>\n",
       "      <td>2014-12-04</td>\n",
       "      <td>3</td>\n",
       "      <td>4</td>\n",
       "      <td>12</td>\n",
       "      <td>2014</td>\n",
       "      <td>-0.9</td>\n",
       "      <td>-0.9</td>\n",
       "      <td>NaN</td>\n",
       "      <td>NaN</td>\n",
       "      <td>NaN</td>\n",
       "      <td>NaN</td>\n",
       "      <td>NaN</td>\n",
       "      <td>NaN</td>\n",
       "    </tr>\n",
       "    <tr>\n",
       "      <th>5</th>\n",
       "      <td>2014-12-06</td>\n",
       "      <td>378</td>\n",
       "      <td>378.0</td>\n",
       "      <td>2014-12-06</td>\n",
       "      <td>5</td>\n",
       "      <td>6</td>\n",
       "      <td>12</td>\n",
       "      <td>2014</td>\n",
       "      <td>0.9</td>\n",
       "      <td>NaN</td>\n",
       "      <td>NaN</td>\n",
       "      <td>0.9</td>\n",
       "      <td>NaN</td>\n",
       "      <td>NaN</td>\n",
       "      <td>NaN</td>\n",
       "      <td>NaN</td>\n",
       "    </tr>\n",
       "  </tbody>\n",
       "</table>\n",
       "</div>"
      ],
      "text/plain": [
       "         DATE CBBTCUSD  price  date_time  weekday  day  month  year  change  \\\n",
       "0  2014-12-01      370  370.0 2014-12-01        0    1     12  2014     NaN   \n",
       "1  2014-12-02      378  378.0 2014-12-02        1    2     12  2014     8.0   \n",
       "2  2014-12-03      378  378.0 2014-12-03        2    3     12  2014     0.0   \n",
       "3  2014-12-04    377.1  377.1 2014-12-04        3    4     12  2014    -0.9   \n",
       "5  2014-12-06      378  378.0 2014-12-06        5    6     12  2014     0.9   \n",
       "\n",
       "   Monday  Tuesday  Wednesday  Thursday  Friday  Saturday  Sunday  \n",
       "0     NaN      NaN        NaN       NaN     NaN       NaN     NaN  \n",
       "1     NaN      NaN        NaN       8.0     NaN       NaN     NaN  \n",
       "2     NaN      NaN        NaN       NaN     0.0       NaN     NaN  \n",
       "3    -0.9      NaN        NaN       NaN     NaN       NaN     NaN  \n",
       "5     NaN      NaN        0.9       NaN     NaN       NaN     NaN  "
      ]
     },
     "execution_count": 69,
     "metadata": {},
     "output_type": "execute_result"
    }
   ],
   "source": [
    "df_btc.head()"
   ]
  },
  {
   "cell_type": "code",
   "execution_count": 70,
   "metadata": {},
   "outputs": [],
   "source": [
    "df_btc = df_btc.fillna(0)"
   ]
  },
  {
   "cell_type": "code",
   "execution_count": 71,
   "metadata": {},
   "outputs": [],
   "source": [
    "# For S&P 500 grouped by month\n",
    "\n",
    "df['Jan'] = df.change.where(df.month == 1)\n",
    "df['Feb'] = df.change.where(df.month == 2)\n",
    "df['Mar'] = df.change.where(df.month == 3)\n",
    "df['Apr'] = df.change.where(df.month == 4)\n",
    "df['May'] = df.change.where(df.month == 5)\n",
    "df['June'] = df.change.where(df.month == 6)\n",
    "df['July'] = df.change.where(df.month == 7)\n",
    "df['Aug'] = df.change.where(df.month == 8)\n",
    "df['Sep'] = df.change.where(df.month == 9)\n",
    "df['Oct'] = df.change.where(df.month == 10)\n",
    "df['Nov'] = df.change.where(df.month == 11)\n",
    "df['Dec'] = df.change.where(df.month == 12)\n"
   ]
  },
  {
   "cell_type": "code",
   "execution_count": 72,
   "metadata": {},
   "outputs": [
    {
     "data": {
      "text/html": [
       "<div>\n",
       "<style scoped>\n",
       "    .dataframe tbody tr th:only-of-type {\n",
       "        vertical-align: middle;\n",
       "    }\n",
       "\n",
       "    .dataframe tbody tr th {\n",
       "        vertical-align: top;\n",
       "    }\n",
       "\n",
       "    .dataframe thead th {\n",
       "        text-align: right;\n",
       "    }\n",
       "</style>\n",
       "<table border=\"1\" class=\"dataframe\">\n",
       "  <thead>\n",
       "    <tr style=\"text-align: right;\">\n",
       "      <th></th>\n",
       "      <th>DATE</th>\n",
       "      <th>SP500</th>\n",
       "      <th>price</th>\n",
       "      <th>date_time</th>\n",
       "      <th>weekday</th>\n",
       "      <th>day</th>\n",
       "      <th>month</th>\n",
       "      <th>year</th>\n",
       "      <th>change</th>\n",
       "      <th>summer</th>\n",
       "      <th>...</th>\n",
       "      <th>Mar</th>\n",
       "      <th>Apr</th>\n",
       "      <th>May</th>\n",
       "      <th>June</th>\n",
       "      <th>July</th>\n",
       "      <th>Aug</th>\n",
       "      <th>Sep</th>\n",
       "      <th>Oct</th>\n",
       "      <th>Nov</th>\n",
       "      <th>Dec</th>\n",
       "    </tr>\n",
       "    <tr>\n",
       "      <th>DATE</th>\n",
       "      <th></th>\n",
       "      <th></th>\n",
       "      <th></th>\n",
       "      <th></th>\n",
       "      <th></th>\n",
       "      <th></th>\n",
       "      <th></th>\n",
       "      <th></th>\n",
       "      <th></th>\n",
       "      <th></th>\n",
       "      <th></th>\n",
       "      <th></th>\n",
       "      <th></th>\n",
       "      <th></th>\n",
       "      <th></th>\n",
       "      <th></th>\n",
       "      <th></th>\n",
       "      <th></th>\n",
       "      <th></th>\n",
       "      <th></th>\n",
       "      <th></th>\n",
       "    </tr>\n",
       "  </thead>\n",
       "  <tbody>\n",
       "    <tr>\n",
       "      <th>2009-06-26</th>\n",
       "      <td>2009-06-26</td>\n",
       "      <td>918.90</td>\n",
       "      <td>918.90</td>\n",
       "      <td>2009-06-26</td>\n",
       "      <td>4</td>\n",
       "      <td>26</td>\n",
       "      <td>6</td>\n",
       "      <td>2009</td>\n",
       "      <td>NaN</td>\n",
       "      <td>NaN</td>\n",
       "      <td>...</td>\n",
       "      <td>NaN</td>\n",
       "      <td>NaN</td>\n",
       "      <td>NaN</td>\n",
       "      <td>NaN</td>\n",
       "      <td>NaN</td>\n",
       "      <td>NaN</td>\n",
       "      <td>NaN</td>\n",
       "      <td>NaN</td>\n",
       "      <td>NaN</td>\n",
       "      <td>NaN</td>\n",
       "    </tr>\n",
       "    <tr>\n",
       "      <th>2009-06-29</th>\n",
       "      <td>2009-06-29</td>\n",
       "      <td>927.23</td>\n",
       "      <td>927.23</td>\n",
       "      <td>2009-06-29</td>\n",
       "      <td>0</td>\n",
       "      <td>29</td>\n",
       "      <td>6</td>\n",
       "      <td>2009</td>\n",
       "      <td>8.33</td>\n",
       "      <td>8.33</td>\n",
       "      <td>...</td>\n",
       "      <td>NaN</td>\n",
       "      <td>NaN</td>\n",
       "      <td>NaN</td>\n",
       "      <td>8.33</td>\n",
       "      <td>NaN</td>\n",
       "      <td>NaN</td>\n",
       "      <td>NaN</td>\n",
       "      <td>NaN</td>\n",
       "      <td>NaN</td>\n",
       "      <td>NaN</td>\n",
       "    </tr>\n",
       "    <tr>\n",
       "      <th>2009-06-30</th>\n",
       "      <td>2009-06-30</td>\n",
       "      <td>919.32</td>\n",
       "      <td>919.32</td>\n",
       "      <td>2009-06-30</td>\n",
       "      <td>1</td>\n",
       "      <td>30</td>\n",
       "      <td>6</td>\n",
       "      <td>2009</td>\n",
       "      <td>-7.91</td>\n",
       "      <td>-7.91</td>\n",
       "      <td>...</td>\n",
       "      <td>NaN</td>\n",
       "      <td>NaN</td>\n",
       "      <td>NaN</td>\n",
       "      <td>-7.91</td>\n",
       "      <td>NaN</td>\n",
       "      <td>NaN</td>\n",
       "      <td>NaN</td>\n",
       "      <td>NaN</td>\n",
       "      <td>NaN</td>\n",
       "      <td>NaN</td>\n",
       "    </tr>\n",
       "    <tr>\n",
       "      <th>2009-07-01</th>\n",
       "      <td>2009-07-01</td>\n",
       "      <td>923.33</td>\n",
       "      <td>923.33</td>\n",
       "      <td>2009-07-01</td>\n",
       "      <td>2</td>\n",
       "      <td>1</td>\n",
       "      <td>7</td>\n",
       "      <td>2009</td>\n",
       "      <td>4.01</td>\n",
       "      <td>4.01</td>\n",
       "      <td>...</td>\n",
       "      <td>NaN</td>\n",
       "      <td>NaN</td>\n",
       "      <td>NaN</td>\n",
       "      <td>NaN</td>\n",
       "      <td>4.01</td>\n",
       "      <td>NaN</td>\n",
       "      <td>NaN</td>\n",
       "      <td>NaN</td>\n",
       "      <td>NaN</td>\n",
       "      <td>NaN</td>\n",
       "    </tr>\n",
       "    <tr>\n",
       "      <th>2009-07-02</th>\n",
       "      <td>2009-07-02</td>\n",
       "      <td>896.42</td>\n",
       "      <td>896.42</td>\n",
       "      <td>2009-07-02</td>\n",
       "      <td>3</td>\n",
       "      <td>2</td>\n",
       "      <td>7</td>\n",
       "      <td>2009</td>\n",
       "      <td>-26.91</td>\n",
       "      <td>-26.91</td>\n",
       "      <td>...</td>\n",
       "      <td>NaN</td>\n",
       "      <td>NaN</td>\n",
       "      <td>NaN</td>\n",
       "      <td>NaN</td>\n",
       "      <td>-26.91</td>\n",
       "      <td>NaN</td>\n",
       "      <td>NaN</td>\n",
       "      <td>NaN</td>\n",
       "      <td>NaN</td>\n",
       "      <td>NaN</td>\n",
       "    </tr>\n",
       "    <tr>\n",
       "      <th>2009-07-06</th>\n",
       "      <td>2009-07-06</td>\n",
       "      <td>898.72</td>\n",
       "      <td>898.72</td>\n",
       "      <td>2009-07-06</td>\n",
       "      <td>0</td>\n",
       "      <td>6</td>\n",
       "      <td>7</td>\n",
       "      <td>2009</td>\n",
       "      <td>2.30</td>\n",
       "      <td>2.30</td>\n",
       "      <td>...</td>\n",
       "      <td>NaN</td>\n",
       "      <td>NaN</td>\n",
       "      <td>NaN</td>\n",
       "      <td>NaN</td>\n",
       "      <td>2.30</td>\n",
       "      <td>NaN</td>\n",
       "      <td>NaN</td>\n",
       "      <td>NaN</td>\n",
       "      <td>NaN</td>\n",
       "      <td>NaN</td>\n",
       "    </tr>\n",
       "    <tr>\n",
       "      <th>2009-07-07</th>\n",
       "      <td>2009-07-07</td>\n",
       "      <td>881.03</td>\n",
       "      <td>881.03</td>\n",
       "      <td>2009-07-07</td>\n",
       "      <td>1</td>\n",
       "      <td>7</td>\n",
       "      <td>7</td>\n",
       "      <td>2009</td>\n",
       "      <td>-17.69</td>\n",
       "      <td>-17.69</td>\n",
       "      <td>...</td>\n",
       "      <td>NaN</td>\n",
       "      <td>NaN</td>\n",
       "      <td>NaN</td>\n",
       "      <td>NaN</td>\n",
       "      <td>-17.69</td>\n",
       "      <td>NaN</td>\n",
       "      <td>NaN</td>\n",
       "      <td>NaN</td>\n",
       "      <td>NaN</td>\n",
       "      <td>NaN</td>\n",
       "    </tr>\n",
       "    <tr>\n",
       "      <th>2009-07-08</th>\n",
       "      <td>2009-07-08</td>\n",
       "      <td>879.56</td>\n",
       "      <td>879.56</td>\n",
       "      <td>2009-07-08</td>\n",
       "      <td>2</td>\n",
       "      <td>8</td>\n",
       "      <td>7</td>\n",
       "      <td>2009</td>\n",
       "      <td>-1.47</td>\n",
       "      <td>-1.47</td>\n",
       "      <td>...</td>\n",
       "      <td>NaN</td>\n",
       "      <td>NaN</td>\n",
       "      <td>NaN</td>\n",
       "      <td>NaN</td>\n",
       "      <td>-1.47</td>\n",
       "      <td>NaN</td>\n",
       "      <td>NaN</td>\n",
       "      <td>NaN</td>\n",
       "      <td>NaN</td>\n",
       "      <td>NaN</td>\n",
       "    </tr>\n",
       "    <tr>\n",
       "      <th>2009-07-09</th>\n",
       "      <td>2009-07-09</td>\n",
       "      <td>882.68</td>\n",
       "      <td>882.68</td>\n",
       "      <td>2009-07-09</td>\n",
       "      <td>3</td>\n",
       "      <td>9</td>\n",
       "      <td>7</td>\n",
       "      <td>2009</td>\n",
       "      <td>3.12</td>\n",
       "      <td>3.12</td>\n",
       "      <td>...</td>\n",
       "      <td>NaN</td>\n",
       "      <td>NaN</td>\n",
       "      <td>NaN</td>\n",
       "      <td>NaN</td>\n",
       "      <td>3.12</td>\n",
       "      <td>NaN</td>\n",
       "      <td>NaN</td>\n",
       "      <td>NaN</td>\n",
       "      <td>NaN</td>\n",
       "      <td>NaN</td>\n",
       "    </tr>\n",
       "    <tr>\n",
       "      <th>2009-07-10</th>\n",
       "      <td>2009-07-10</td>\n",
       "      <td>879.13</td>\n",
       "      <td>879.13</td>\n",
       "      <td>2009-07-10</td>\n",
       "      <td>4</td>\n",
       "      <td>10</td>\n",
       "      <td>7</td>\n",
       "      <td>2009</td>\n",
       "      <td>-3.55</td>\n",
       "      <td>-3.55</td>\n",
       "      <td>...</td>\n",
       "      <td>NaN</td>\n",
       "      <td>NaN</td>\n",
       "      <td>NaN</td>\n",
       "      <td>NaN</td>\n",
       "      <td>-3.55</td>\n",
       "      <td>NaN</td>\n",
       "      <td>NaN</td>\n",
       "      <td>NaN</td>\n",
       "      <td>NaN</td>\n",
       "      <td>NaN</td>\n",
       "    </tr>\n",
       "    <tr>\n",
       "      <th>2009-07-13</th>\n",
       "      <td>2009-07-13</td>\n",
       "      <td>901.05</td>\n",
       "      <td>901.05</td>\n",
       "      <td>2009-07-13</td>\n",
       "      <td>0</td>\n",
       "      <td>13</td>\n",
       "      <td>7</td>\n",
       "      <td>2009</td>\n",
       "      <td>21.92</td>\n",
       "      <td>21.92</td>\n",
       "      <td>...</td>\n",
       "      <td>NaN</td>\n",
       "      <td>NaN</td>\n",
       "      <td>NaN</td>\n",
       "      <td>NaN</td>\n",
       "      <td>21.92</td>\n",
       "      <td>NaN</td>\n",
       "      <td>NaN</td>\n",
       "      <td>NaN</td>\n",
       "      <td>NaN</td>\n",
       "      <td>NaN</td>\n",
       "    </tr>\n",
       "    <tr>\n",
       "      <th>2009-07-14</th>\n",
       "      <td>2009-07-14</td>\n",
       "      <td>905.84</td>\n",
       "      <td>905.84</td>\n",
       "      <td>2009-07-14</td>\n",
       "      <td>1</td>\n",
       "      <td>14</td>\n",
       "      <td>7</td>\n",
       "      <td>2009</td>\n",
       "      <td>4.79</td>\n",
       "      <td>4.79</td>\n",
       "      <td>...</td>\n",
       "      <td>NaN</td>\n",
       "      <td>NaN</td>\n",
       "      <td>NaN</td>\n",
       "      <td>NaN</td>\n",
       "      <td>4.79</td>\n",
       "      <td>NaN</td>\n",
       "      <td>NaN</td>\n",
       "      <td>NaN</td>\n",
       "      <td>NaN</td>\n",
       "      <td>NaN</td>\n",
       "    </tr>\n",
       "    <tr>\n",
       "      <th>2009-07-15</th>\n",
       "      <td>2009-07-15</td>\n",
       "      <td>932.68</td>\n",
       "      <td>932.68</td>\n",
       "      <td>2009-07-15</td>\n",
       "      <td>2</td>\n",
       "      <td>15</td>\n",
       "      <td>7</td>\n",
       "      <td>2009</td>\n",
       "      <td>26.84</td>\n",
       "      <td>26.84</td>\n",
       "      <td>...</td>\n",
       "      <td>NaN</td>\n",
       "      <td>NaN</td>\n",
       "      <td>NaN</td>\n",
       "      <td>NaN</td>\n",
       "      <td>26.84</td>\n",
       "      <td>NaN</td>\n",
       "      <td>NaN</td>\n",
       "      <td>NaN</td>\n",
       "      <td>NaN</td>\n",
       "      <td>NaN</td>\n",
       "    </tr>\n",
       "    <tr>\n",
       "      <th>2009-07-16</th>\n",
       "      <td>2009-07-16</td>\n",
       "      <td>940.74</td>\n",
       "      <td>940.74</td>\n",
       "      <td>2009-07-16</td>\n",
       "      <td>3</td>\n",
       "      <td>16</td>\n",
       "      <td>7</td>\n",
       "      <td>2009</td>\n",
       "      <td>8.06</td>\n",
       "      <td>8.06</td>\n",
       "      <td>...</td>\n",
       "      <td>NaN</td>\n",
       "      <td>NaN</td>\n",
       "      <td>NaN</td>\n",
       "      <td>NaN</td>\n",
       "      <td>8.06</td>\n",
       "      <td>NaN</td>\n",
       "      <td>NaN</td>\n",
       "      <td>NaN</td>\n",
       "      <td>NaN</td>\n",
       "      <td>NaN</td>\n",
       "    </tr>\n",
       "    <tr>\n",
       "      <th>2009-07-17</th>\n",
       "      <td>2009-07-17</td>\n",
       "      <td>940.38</td>\n",
       "      <td>940.38</td>\n",
       "      <td>2009-07-17</td>\n",
       "      <td>4</td>\n",
       "      <td>17</td>\n",
       "      <td>7</td>\n",
       "      <td>2009</td>\n",
       "      <td>-0.36</td>\n",
       "      <td>-0.36</td>\n",
       "      <td>...</td>\n",
       "      <td>NaN</td>\n",
       "      <td>NaN</td>\n",
       "      <td>NaN</td>\n",
       "      <td>NaN</td>\n",
       "      <td>-0.36</td>\n",
       "      <td>NaN</td>\n",
       "      <td>NaN</td>\n",
       "      <td>NaN</td>\n",
       "      <td>NaN</td>\n",
       "      <td>NaN</td>\n",
       "    </tr>\n",
       "    <tr>\n",
       "      <th>2009-07-20</th>\n",
       "      <td>2009-07-20</td>\n",
       "      <td>951.13</td>\n",
       "      <td>951.13</td>\n",
       "      <td>2009-07-20</td>\n",
       "      <td>0</td>\n",
       "      <td>20</td>\n",
       "      <td>7</td>\n",
       "      <td>2009</td>\n",
       "      <td>10.75</td>\n",
       "      <td>10.75</td>\n",
       "      <td>...</td>\n",
       "      <td>NaN</td>\n",
       "      <td>NaN</td>\n",
       "      <td>NaN</td>\n",
       "      <td>NaN</td>\n",
       "      <td>10.75</td>\n",
       "      <td>NaN</td>\n",
       "      <td>NaN</td>\n",
       "      <td>NaN</td>\n",
       "      <td>NaN</td>\n",
       "      <td>NaN</td>\n",
       "    </tr>\n",
       "    <tr>\n",
       "      <th>2009-07-21</th>\n",
       "      <td>2009-07-21</td>\n",
       "      <td>954.58</td>\n",
       "      <td>954.58</td>\n",
       "      <td>2009-07-21</td>\n",
       "      <td>1</td>\n",
       "      <td>21</td>\n",
       "      <td>7</td>\n",
       "      <td>2009</td>\n",
       "      <td>3.45</td>\n",
       "      <td>3.45</td>\n",
       "      <td>...</td>\n",
       "      <td>NaN</td>\n",
       "      <td>NaN</td>\n",
       "      <td>NaN</td>\n",
       "      <td>NaN</td>\n",
       "      <td>3.45</td>\n",
       "      <td>NaN</td>\n",
       "      <td>NaN</td>\n",
       "      <td>NaN</td>\n",
       "      <td>NaN</td>\n",
       "      <td>NaN</td>\n",
       "    </tr>\n",
       "    <tr>\n",
       "      <th>2009-07-22</th>\n",
       "      <td>2009-07-22</td>\n",
       "      <td>954.07</td>\n",
       "      <td>954.07</td>\n",
       "      <td>2009-07-22</td>\n",
       "      <td>2</td>\n",
       "      <td>22</td>\n",
       "      <td>7</td>\n",
       "      <td>2009</td>\n",
       "      <td>-0.51</td>\n",
       "      <td>-0.51</td>\n",
       "      <td>...</td>\n",
       "      <td>NaN</td>\n",
       "      <td>NaN</td>\n",
       "      <td>NaN</td>\n",
       "      <td>NaN</td>\n",
       "      <td>-0.51</td>\n",
       "      <td>NaN</td>\n",
       "      <td>NaN</td>\n",
       "      <td>NaN</td>\n",
       "      <td>NaN</td>\n",
       "      <td>NaN</td>\n",
       "    </tr>\n",
       "    <tr>\n",
       "      <th>2009-07-23</th>\n",
       "      <td>2009-07-23</td>\n",
       "      <td>976.29</td>\n",
       "      <td>976.29</td>\n",
       "      <td>2009-07-23</td>\n",
       "      <td>3</td>\n",
       "      <td>23</td>\n",
       "      <td>7</td>\n",
       "      <td>2009</td>\n",
       "      <td>22.22</td>\n",
       "      <td>22.22</td>\n",
       "      <td>...</td>\n",
       "      <td>NaN</td>\n",
       "      <td>NaN</td>\n",
       "      <td>NaN</td>\n",
       "      <td>NaN</td>\n",
       "      <td>22.22</td>\n",
       "      <td>NaN</td>\n",
       "      <td>NaN</td>\n",
       "      <td>NaN</td>\n",
       "      <td>NaN</td>\n",
       "      <td>NaN</td>\n",
       "    </tr>\n",
       "    <tr>\n",
       "      <th>2009-07-24</th>\n",
       "      <td>2009-07-24</td>\n",
       "      <td>979.26</td>\n",
       "      <td>979.26</td>\n",
       "      <td>2009-07-24</td>\n",
       "      <td>4</td>\n",
       "      <td>24</td>\n",
       "      <td>7</td>\n",
       "      <td>2009</td>\n",
       "      <td>2.97</td>\n",
       "      <td>2.97</td>\n",
       "      <td>...</td>\n",
       "      <td>NaN</td>\n",
       "      <td>NaN</td>\n",
       "      <td>NaN</td>\n",
       "      <td>NaN</td>\n",
       "      <td>2.97</td>\n",
       "      <td>NaN</td>\n",
       "      <td>NaN</td>\n",
       "      <td>NaN</td>\n",
       "      <td>NaN</td>\n",
       "      <td>NaN</td>\n",
       "    </tr>\n",
       "  </tbody>\n",
       "</table>\n",
       "<p>20 rows × 32 columns</p>\n",
       "</div>"
      ],
      "text/plain": [
       "                  DATE   SP500   price  date_time  weekday  day  month  year  \\\n",
       "DATE                                                                           \n",
       "2009-06-26  2009-06-26  918.90  918.90 2009-06-26        4   26      6  2009   \n",
       "2009-06-29  2009-06-29  927.23  927.23 2009-06-29        0   29      6  2009   \n",
       "2009-06-30  2009-06-30  919.32  919.32 2009-06-30        1   30      6  2009   \n",
       "2009-07-01  2009-07-01  923.33  923.33 2009-07-01        2    1      7  2009   \n",
       "2009-07-02  2009-07-02  896.42  896.42 2009-07-02        3    2      7  2009   \n",
       "2009-07-06  2009-07-06  898.72  898.72 2009-07-06        0    6      7  2009   \n",
       "2009-07-07  2009-07-07  881.03  881.03 2009-07-07        1    7      7  2009   \n",
       "2009-07-08  2009-07-08  879.56  879.56 2009-07-08        2    8      7  2009   \n",
       "2009-07-09  2009-07-09  882.68  882.68 2009-07-09        3    9      7  2009   \n",
       "2009-07-10  2009-07-10  879.13  879.13 2009-07-10        4   10      7  2009   \n",
       "2009-07-13  2009-07-13  901.05  901.05 2009-07-13        0   13      7  2009   \n",
       "2009-07-14  2009-07-14  905.84  905.84 2009-07-14        1   14      7  2009   \n",
       "2009-07-15  2009-07-15  932.68  932.68 2009-07-15        2   15      7  2009   \n",
       "2009-07-16  2009-07-16  940.74  940.74 2009-07-16        3   16      7  2009   \n",
       "2009-07-17  2009-07-17  940.38  940.38 2009-07-17        4   17      7  2009   \n",
       "2009-07-20  2009-07-20  951.13  951.13 2009-07-20        0   20      7  2009   \n",
       "2009-07-21  2009-07-21  954.58  954.58 2009-07-21        1   21      7  2009   \n",
       "2009-07-22  2009-07-22  954.07  954.07 2009-07-22        2   22      7  2009   \n",
       "2009-07-23  2009-07-23  976.29  976.29 2009-07-23        3   23      7  2009   \n",
       "2009-07-24  2009-07-24  979.26  979.26 2009-07-24        4   24      7  2009   \n",
       "\n",
       "            change  summer  ...  Mar  Apr  May  June   July  Aug  Sep  Oct  \\\n",
       "DATE                        ...                                              \n",
       "2009-06-26     NaN     NaN  ...  NaN  NaN  NaN   NaN    NaN  NaN  NaN  NaN   \n",
       "2009-06-29    8.33    8.33  ...  NaN  NaN  NaN  8.33    NaN  NaN  NaN  NaN   \n",
       "2009-06-30   -7.91   -7.91  ...  NaN  NaN  NaN -7.91    NaN  NaN  NaN  NaN   \n",
       "2009-07-01    4.01    4.01  ...  NaN  NaN  NaN   NaN   4.01  NaN  NaN  NaN   \n",
       "2009-07-02  -26.91  -26.91  ...  NaN  NaN  NaN   NaN -26.91  NaN  NaN  NaN   \n",
       "2009-07-06    2.30    2.30  ...  NaN  NaN  NaN   NaN   2.30  NaN  NaN  NaN   \n",
       "2009-07-07  -17.69  -17.69  ...  NaN  NaN  NaN   NaN -17.69  NaN  NaN  NaN   \n",
       "2009-07-08   -1.47   -1.47  ...  NaN  NaN  NaN   NaN  -1.47  NaN  NaN  NaN   \n",
       "2009-07-09    3.12    3.12  ...  NaN  NaN  NaN   NaN   3.12  NaN  NaN  NaN   \n",
       "2009-07-10   -3.55   -3.55  ...  NaN  NaN  NaN   NaN  -3.55  NaN  NaN  NaN   \n",
       "2009-07-13   21.92   21.92  ...  NaN  NaN  NaN   NaN  21.92  NaN  NaN  NaN   \n",
       "2009-07-14    4.79    4.79  ...  NaN  NaN  NaN   NaN   4.79  NaN  NaN  NaN   \n",
       "2009-07-15   26.84   26.84  ...  NaN  NaN  NaN   NaN  26.84  NaN  NaN  NaN   \n",
       "2009-07-16    8.06    8.06  ...  NaN  NaN  NaN   NaN   8.06  NaN  NaN  NaN   \n",
       "2009-07-17   -0.36   -0.36  ...  NaN  NaN  NaN   NaN  -0.36  NaN  NaN  NaN   \n",
       "2009-07-20   10.75   10.75  ...  NaN  NaN  NaN   NaN  10.75  NaN  NaN  NaN   \n",
       "2009-07-21    3.45    3.45  ...  NaN  NaN  NaN   NaN   3.45  NaN  NaN  NaN   \n",
       "2009-07-22   -0.51   -0.51  ...  NaN  NaN  NaN   NaN  -0.51  NaN  NaN  NaN   \n",
       "2009-07-23   22.22   22.22  ...  NaN  NaN  NaN   NaN  22.22  NaN  NaN  NaN   \n",
       "2009-07-24    2.97    2.97  ...  NaN  NaN  NaN   NaN   2.97  NaN  NaN  NaN   \n",
       "\n",
       "            Nov  Dec  \n",
       "DATE                  \n",
       "2009-06-26  NaN  NaN  \n",
       "2009-06-29  NaN  NaN  \n",
       "2009-06-30  NaN  NaN  \n",
       "2009-07-01  NaN  NaN  \n",
       "2009-07-02  NaN  NaN  \n",
       "2009-07-06  NaN  NaN  \n",
       "2009-07-07  NaN  NaN  \n",
       "2009-07-08  NaN  NaN  \n",
       "2009-07-09  NaN  NaN  \n",
       "2009-07-10  NaN  NaN  \n",
       "2009-07-13  NaN  NaN  \n",
       "2009-07-14  NaN  NaN  \n",
       "2009-07-15  NaN  NaN  \n",
       "2009-07-16  NaN  NaN  \n",
       "2009-07-17  NaN  NaN  \n",
       "2009-07-20  NaN  NaN  \n",
       "2009-07-21  NaN  NaN  \n",
       "2009-07-22  NaN  NaN  \n",
       "2009-07-23  NaN  NaN  \n",
       "2009-07-24  NaN  NaN  \n",
       "\n",
       "[20 rows x 32 columns]"
      ]
     },
     "execution_count": 72,
     "metadata": {},
     "output_type": "execute_result"
    }
   ],
   "source": [
    "df.head(20)"
   ]
  },
  {
   "cell_type": "markdown",
   "metadata": {},
   "source": [
    "### t-test and p-values"
   ]
  },
  {
   "cell_type": "code",
   "execution_count": 73,
   "metadata": {},
   "outputs": [
    {
     "data": {
      "text/plain": [
       "Ttest_indResult(statistic=-0.9729604233090785, pvalue=0.3308115971409148)"
      ]
     },
     "execution_count": 73,
     "metadata": {},
     "output_type": "execute_result"
    }
   ],
   "source": [
    "# For S&P 500\n",
    "ttest_ind(df['Monday'].dropna(), df['Tuesday'].dropna())"
   ]
  },
  {
   "cell_type": "markdown",
   "metadata": {},
   "source": [
    "The pvalue is greater than .05.  Therefore, the difference in price from Monday and Tuesday, which are the two most extreme prices in the data, is not significant.  In other words the difference here is probably just due to chance and the values are taken from the same population."
   ]
  },
  {
   "cell_type": "code",
   "execution_count": 74,
   "metadata": {},
   "outputs": [
    {
     "data": {
      "text/plain": [
       "Ttest_indResult(statistic=4.070425782579718, pvalue=4.757789969930339e-05)"
      ]
     },
     "execution_count": 74,
     "metadata": {},
     "output_type": "execute_result"
    }
   ],
   "source": [
    "# For 10 Yr Bond\n",
    "ttest_ind(df_10['Monday'].dropna(), df_10['Friday'].dropna())"
   ]
  },
  {
   "cell_type": "markdown",
   "metadata": {},
   "source": [
    "The pvalue is here is much less than .05.  Therefore, the difference in price from Monday and Friday, which are the two most extreme price changes in the data, is significant.  In other words the difference here is probably NOT just due to chance and the values are taken from the DIFFERENT populations."
   ]
  },
  {
   "cell_type": "code",
   "execution_count": 75,
   "metadata": {},
   "outputs": [
    {
     "data": {
      "text/plain": [
       "Ttest_indResult(statistic=2.2201929261497884, pvalue=0.026625706685281653)"
      ]
     },
     "execution_count": 75,
     "metadata": {},
     "output_type": "execute_result"
    }
   ],
   "source": [
    "# For 10 Yr Bond (last 10 years only)\n",
    "ttest_ind(df_10_10['Wednesday'].dropna(), df_10_10['Friday'].dropna())"
   ]
  },
  {
   "cell_type": "code",
   "execution_count": 76,
   "metadata": {},
   "outputs": [
    {
     "data": {
      "text/plain": [
       "Ttest_indResult(statistic=3.3440189329939844, pvalue=0.0008567701430384474)"
      ]
     },
     "execution_count": 76,
     "metadata": {},
     "output_type": "execute_result"
    }
   ],
   "source": [
    "# For gold (last 10 years only)\n",
    "ttest_ind(df_gold['Monday'].dropna(), df_gold['Thursday'].dropna())"
   ]
  },
  {
   "cell_type": "markdown",
   "metadata": {},
   "source": [
    "A null hypothesis is a hypothesis that says there is no statistical significance between the two variables in the hypothesis.  In the case of gold, since the pvalue is less than 0.05, the null hypotheses cannot be rejected and it would be likely that the two variables indeed have a statistically significant difference."
   ]
  },
  {
   "cell_type": "code",
   "execution_count": 77,
   "metadata": {},
   "outputs": [
    {
     "data": {
      "text/plain": [
       "Ttest_indResult(statistic=1.371972242519745, pvalue=0.17037285733436644)"
      ]
     },
     "execution_count": 77,
     "metadata": {},
     "output_type": "execute_result"
    }
   ],
   "source": [
    "# For oil (last 10 years only)\n",
    "ttest_ind(df_oil['Tuesday'].dropna(), df_oil['Thursday'].dropna())"
   ]
  },
  {
   "cell_type": "code",
   "execution_count": 78,
   "metadata": {},
   "outputs": [
    {
     "data": {
      "text/plain": [
       "Ttest_indResult(statistic=2.3029987853710954, pvalue=0.02134134968122411)"
      ]
     },
     "execution_count": 78,
     "metadata": {},
     "output_type": "execute_result"
    }
   ],
   "source": [
    "# For bitcoin\n",
    "ttest_ind(df_btc['Thursday'].dropna(), df_btc['Saturday'].dropna())"
   ]
  },
  {
   "cell_type": "markdown",
   "metadata": {},
   "source": [
    "For the case of bitcoin, there is an approximately **2.1%** probability that the difference in sums of Thursday vs. Saturday happened randomly.  Thursday was the lowest value, Saturday was the highest."
   ]
  },
  {
   "cell_type": "code",
   "execution_count": 79,
   "metadata": {},
   "outputs": [
    {
     "data": {
      "text/plain": [
       "Ttest_indResult(statistic=-2.1657996427395316, pvalue=0.030885931123197312)"
      ]
     },
     "execution_count": 79,
     "metadata": {},
     "output_type": "execute_result"
    }
   ],
   "source": [
    "# For S&P 500 groupby month\n",
    "ttest_ind(df['May'].dropna(), df['July'].dropna())"
   ]
  },
  {
   "cell_type": "markdown",
   "metadata": {},
   "source": [
    "The above ttest does show that May is significantly weaker than July for the S&P 500 over the last 10 years.  The calculated pvalue is 0.03 which is less than 0.05, so the differences are likely to be real, rather than just due to chance.  This same process could be performed for all 5 securities to determine if any month or months behaved significantly different from one or more of the others. "
   ]
  },
  {
   "cell_type": "markdown",
   "metadata": {},
   "source": [
    "### F statistics"
   ]
  },
  {
   "cell_type": "code",
   "execution_count": 80,
   "metadata": {},
   "outputs": [
    {
     "name": "stdout",
     "output_type": "stream",
     "text": [
      "0.31788075585528736\n",
      "0.8661571754552783\n"
     ]
    }
   ],
   "source": [
    "# Calc F statistic for S&P 500\n",
    "F, p = stats.f_oneway(\n",
    "    df['Monday'].dropna(),\n",
    "    df['Tuesday'].dropna(),\n",
    "    df['Wednesday'].dropna(),\n",
    "    df['Thursday'].dropna(),\n",
    "    df['Friday'].dropna(),\n",
    ")\n",
    "\n",
    "# The F statistic.\n",
    "print(F)\n",
    "\n",
    "# The probability. A p < .05 would lead us to believe the group means were\n",
    "# not all similar in the population.\n",
    "print(p)"
   ]
  },
  {
   "cell_type": "markdown",
   "metadata": {},
   "source": [
    "It appears that the 5 groups (Monday, Tuesday, Wednesday, Thursday, Friday) are not likely to differ in the population (p = 0.886 which is greater than .05)"
   ]
  },
  {
   "cell_type": "code",
   "execution_count": 81,
   "metadata": {},
   "outputs": [
    {
     "name": "stdout",
     "output_type": "stream",
     "text": [
      "5.955302563763542\n",
      "8.74703589845011e-05\n"
     ]
    }
   ],
   "source": [
    "# Calc F statistic for 10 Yr Bond\n",
    "F, p = stats.f_oneway(\n",
    "    df_10['Monday'].dropna(),\n",
    "    df_10['Tuesday'].dropna(),\n",
    "    df_10['Wednesday'].dropna(),\n",
    "    df_10['Thursday'].dropna(),\n",
    "    df_10['Friday'].dropna(),\n",
    ")\n",
    "\n",
    "# The F statistic.\n",
    "print(F)\n",
    "\n",
    "# The probability. A p < .05 would lead us to believe the group means were\n",
    "# not all similar in the population.\n",
    "print(p)"
   ]
  },
  {
   "cell_type": "markdown",
   "metadata": {},
   "source": [
    "Here again, the p values is much less than .05 which means the data for each day are from different populations for at least 2 of the days.  In other words, the day of the week matters as it relates to price movement.  Mondays are more likely to incur a positive change in interest rate, whereas Tuesdays and Fridays are more likely to see a negative change."
   ]
  },
  {
   "cell_type": "code",
   "execution_count": 82,
   "metadata": {},
   "outputs": [
    {
     "name": "stdout",
     "output_type": "stream",
     "text": [
      "1.4622747373794742\n",
      "0.2110585653345958\n"
     ]
    }
   ],
   "source": [
    "# Calc F statistic for 10 Yr Bond (last 10 years only)\n",
    "F, p = stats.f_oneway(\n",
    "    df_10_10['Monday'].dropna(),\n",
    "    df_10_10['Tuesday'].dropna(),\n",
    "    df_10_10['Wednesday'].dropna(),\n",
    "    df_10_10['Thursday'].dropna(),\n",
    "    df_10_10['Friday'].dropna(),\n",
    ")\n",
    "\n",
    "# The F statistic.\n",
    "print(F)\n",
    "\n",
    "# The probability. A p < .05 would lead us to believe the group means were\n",
    "# not all similar in the population.\n",
    "print(p)"
   ]
  },
  {
   "cell_type": "markdown",
   "metadata": {},
   "source": [
    "Not much to see here.  Looks like the difference in interest rate change from day to day the 10 Yr Bond over the last 10 years are simply due to random chance."
   ]
  },
  {
   "cell_type": "code",
   "execution_count": 83,
   "metadata": {},
   "outputs": [
    {
     "name": "stdout",
     "output_type": "stream",
     "text": [
      "3.8675627733544693\n",
      "0.0038892555965370883\n"
     ]
    }
   ],
   "source": [
    "# Calc F statistic for gold (last 10 years only)\n",
    "F, p = stats.f_oneway(\n",
    "    df_gold['Monday'].dropna(),\n",
    "    df_gold['Tuesday'].dropna(),\n",
    "    df_gold['Wednesday'].dropna(),\n",
    "    df_gold['Thursday'].dropna(),\n",
    "    df_gold['Friday'].dropna(),\n",
    ")\n",
    "\n",
    "# The F statistic.\n",
    "print(F)\n",
    "\n",
    "# The probability. A p < .05 would lead us to believe the group means were\n",
    "# not all similar in the population.\n",
    "print(p)"
   ]
  },
  {
   "cell_type": "code",
   "execution_count": 84,
   "metadata": {},
   "outputs": [
    {
     "name": "stdout",
     "output_type": "stream",
     "text": [
      "0.7994683577387657\n",
      "0.525397715297364\n"
     ]
    }
   ],
   "source": [
    "# Calc F statistic for oil (last 10 years only)\n",
    "F, p = stats.f_oneway(\n",
    "    df_oil['Monday'].dropna(),\n",
    "    df_oil['Tuesday'].dropna(),\n",
    "    df_oil['Wednesday'].dropna(),\n",
    "    df_oil['Thursday'].dropna(),\n",
    "    df_oil['Friday'].dropna(),\n",
    ")\n",
    "\n",
    "# The F statistic.\n",
    "print(F)\n",
    "\n",
    "# The probability. A p < .05 would lead us to believe the group means were\n",
    "# not all similar in the population.\n",
    "print(p)"
   ]
  },
  {
   "cell_type": "code",
   "execution_count": 85,
   "metadata": {},
   "outputs": [
    {
     "name": "stdout",
     "output_type": "stream",
     "text": [
      "1.546179669499771\n",
      "0.15869572325805537\n"
     ]
    }
   ],
   "source": [
    "# Calc F statistic for bitcoin\n",
    "F, p = stats.f_oneway(\n",
    "    df_btc['Monday'].dropna(),\n",
    "    df_btc['Tuesday'].dropna(),\n",
    "    df_btc['Wednesday'].dropna(),\n",
    "    df_btc['Thursday'].dropna(),\n",
    "    df_btc['Friday'].dropna(),\n",
    "    df_btc['Saturday'].dropna(),\n",
    "    df_btc['Sunday'].dropna(),\n",
    ")\n",
    "\n",
    "# The F statistic.\n",
    "print(F)\n",
    "\n",
    "# The probability. A p < .05 would lead us to believe the group means were\n",
    "# not all similar in the population.\n",
    "print(p)"
   ]
  },
  {
   "cell_type": "code",
   "execution_count": 86,
   "metadata": {},
   "outputs": [
    {
     "name": "stdout",
     "output_type": "stream",
     "text": [
      "0.6825850026550205\n",
      "0.7563506335281399\n"
     ]
    }
   ],
   "source": [
    "# Calc F statistic for S&P 500 grouped by month\n",
    "F, p = stats.f_oneway(\n",
    "    df['Jan'].dropna(),\n",
    "    df['Feb'].dropna(),\n",
    "    df['Mar'].dropna(),\n",
    "    df['Apr'].dropna(),\n",
    "    df['May'].dropna(),\n",
    "    df['June'].dropna(),\n",
    "    df['July'].dropna(),\n",
    "    df['Aug'].dropna(),\n",
    "    df['Sep'].dropna(),\n",
    "    df['Oct'].dropna(),\n",
    "    df['Nov'].dropna(),\n",
    "    df['Dec'].dropna(),\n",
    ")\n",
    "\n",
    "# The F statistic.\n",
    "print(F)\n",
    "\n",
    "# The probability. A p < .05 would lead us to believe the group means were\n",
    "# not all similar in the population.\n",
    "print(p)"
   ]
  },
  {
   "cell_type": "markdown",
   "metadata": {},
   "source": [
    "A high F value means that your data does not well support your null hypothesis. ... So a large F value indicates that a linear model is more compatible with the data than a constant average model. These predictors have high F values leading to small p values so they are sufficient for predicting the response.  \n",
    "\n",
    "A null hypothesis is a hypothesis that says there is no statistical significance between the two variables in the hypothesis.  In the case of bitcoin, there is a roughly 16% probability that the different sums for the day of the week could have happened due to chance.  \n",
    "\n",
    "(maybe implement sell in May and go away for year 3 in Presidential term vs. years 1, 2, 4.)"
   ]
  },
  {
   "cell_type": "markdown",
   "metadata": {},
   "source": [
    "### Prepare the S&P 500 data for building a Supervised Learning model to predict the price change."
   ]
  },
  {
   "cell_type": "code",
   "execution_count": 87,
   "metadata": {},
   "outputs": [],
   "source": [
    "df['change'].fillna(0, inplace=True)"
   ]
  },
  {
   "cell_type": "code",
   "execution_count": 88,
   "metadata": {},
   "outputs": [
    {
     "data": {
      "text/html": [
       "<div>\n",
       "<style scoped>\n",
       "    .dataframe tbody tr th:only-of-type {\n",
       "        vertical-align: middle;\n",
       "    }\n",
       "\n",
       "    .dataframe tbody tr th {\n",
       "        vertical-align: top;\n",
       "    }\n",
       "\n",
       "    .dataframe thead th {\n",
       "        text-align: right;\n",
       "    }\n",
       "</style>\n",
       "<table border=\"1\" class=\"dataframe\">\n",
       "  <thead>\n",
       "    <tr style=\"text-align: right;\">\n",
       "      <th></th>\n",
       "      <th>DATE</th>\n",
       "      <th>SP500</th>\n",
       "      <th>price</th>\n",
       "      <th>date_time</th>\n",
       "      <th>weekday</th>\n",
       "      <th>day</th>\n",
       "      <th>month</th>\n",
       "      <th>year</th>\n",
       "      <th>change</th>\n",
       "      <th>summer</th>\n",
       "      <th>...</th>\n",
       "      <th>Mar</th>\n",
       "      <th>Apr</th>\n",
       "      <th>May</th>\n",
       "      <th>June</th>\n",
       "      <th>July</th>\n",
       "      <th>Aug</th>\n",
       "      <th>Sep</th>\n",
       "      <th>Oct</th>\n",
       "      <th>Nov</th>\n",
       "      <th>Dec</th>\n",
       "    </tr>\n",
       "    <tr>\n",
       "      <th>DATE</th>\n",
       "      <th></th>\n",
       "      <th></th>\n",
       "      <th></th>\n",
       "      <th></th>\n",
       "      <th></th>\n",
       "      <th></th>\n",
       "      <th></th>\n",
       "      <th></th>\n",
       "      <th></th>\n",
       "      <th></th>\n",
       "      <th></th>\n",
       "      <th></th>\n",
       "      <th></th>\n",
       "      <th></th>\n",
       "      <th></th>\n",
       "      <th></th>\n",
       "      <th></th>\n",
       "      <th></th>\n",
       "      <th></th>\n",
       "      <th></th>\n",
       "      <th></th>\n",
       "    </tr>\n",
       "  </thead>\n",
       "  <tbody>\n",
       "    <tr>\n",
       "      <th>2009-06-26</th>\n",
       "      <td>2009-06-26</td>\n",
       "      <td>918.90</td>\n",
       "      <td>918.90</td>\n",
       "      <td>2009-06-26</td>\n",
       "      <td>4</td>\n",
       "      <td>26</td>\n",
       "      <td>6</td>\n",
       "      <td>2009</td>\n",
       "      <td>0.00</td>\n",
       "      <td>NaN</td>\n",
       "      <td>...</td>\n",
       "      <td>NaN</td>\n",
       "      <td>NaN</td>\n",
       "      <td>NaN</td>\n",
       "      <td>NaN</td>\n",
       "      <td>NaN</td>\n",
       "      <td>NaN</td>\n",
       "      <td>NaN</td>\n",
       "      <td>NaN</td>\n",
       "      <td>NaN</td>\n",
       "      <td>NaN</td>\n",
       "    </tr>\n",
       "    <tr>\n",
       "      <th>2009-06-29</th>\n",
       "      <td>2009-06-29</td>\n",
       "      <td>927.23</td>\n",
       "      <td>927.23</td>\n",
       "      <td>2009-06-29</td>\n",
       "      <td>0</td>\n",
       "      <td>29</td>\n",
       "      <td>6</td>\n",
       "      <td>2009</td>\n",
       "      <td>8.33</td>\n",
       "      <td>8.33</td>\n",
       "      <td>...</td>\n",
       "      <td>NaN</td>\n",
       "      <td>NaN</td>\n",
       "      <td>NaN</td>\n",
       "      <td>8.33</td>\n",
       "      <td>NaN</td>\n",
       "      <td>NaN</td>\n",
       "      <td>NaN</td>\n",
       "      <td>NaN</td>\n",
       "      <td>NaN</td>\n",
       "      <td>NaN</td>\n",
       "    </tr>\n",
       "    <tr>\n",
       "      <th>2009-06-30</th>\n",
       "      <td>2009-06-30</td>\n",
       "      <td>919.32</td>\n",
       "      <td>919.32</td>\n",
       "      <td>2009-06-30</td>\n",
       "      <td>1</td>\n",
       "      <td>30</td>\n",
       "      <td>6</td>\n",
       "      <td>2009</td>\n",
       "      <td>-7.91</td>\n",
       "      <td>-7.91</td>\n",
       "      <td>...</td>\n",
       "      <td>NaN</td>\n",
       "      <td>NaN</td>\n",
       "      <td>NaN</td>\n",
       "      <td>-7.91</td>\n",
       "      <td>NaN</td>\n",
       "      <td>NaN</td>\n",
       "      <td>NaN</td>\n",
       "      <td>NaN</td>\n",
       "      <td>NaN</td>\n",
       "      <td>NaN</td>\n",
       "    </tr>\n",
       "    <tr>\n",
       "      <th>2009-07-01</th>\n",
       "      <td>2009-07-01</td>\n",
       "      <td>923.33</td>\n",
       "      <td>923.33</td>\n",
       "      <td>2009-07-01</td>\n",
       "      <td>2</td>\n",
       "      <td>1</td>\n",
       "      <td>7</td>\n",
       "      <td>2009</td>\n",
       "      <td>4.01</td>\n",
       "      <td>4.01</td>\n",
       "      <td>...</td>\n",
       "      <td>NaN</td>\n",
       "      <td>NaN</td>\n",
       "      <td>NaN</td>\n",
       "      <td>NaN</td>\n",
       "      <td>4.01</td>\n",
       "      <td>NaN</td>\n",
       "      <td>NaN</td>\n",
       "      <td>NaN</td>\n",
       "      <td>NaN</td>\n",
       "      <td>NaN</td>\n",
       "    </tr>\n",
       "    <tr>\n",
       "      <th>2009-07-02</th>\n",
       "      <td>2009-07-02</td>\n",
       "      <td>896.42</td>\n",
       "      <td>896.42</td>\n",
       "      <td>2009-07-02</td>\n",
       "      <td>3</td>\n",
       "      <td>2</td>\n",
       "      <td>7</td>\n",
       "      <td>2009</td>\n",
       "      <td>-26.91</td>\n",
       "      <td>-26.91</td>\n",
       "      <td>...</td>\n",
       "      <td>NaN</td>\n",
       "      <td>NaN</td>\n",
       "      <td>NaN</td>\n",
       "      <td>NaN</td>\n",
       "      <td>-26.91</td>\n",
       "      <td>NaN</td>\n",
       "      <td>NaN</td>\n",
       "      <td>NaN</td>\n",
       "      <td>NaN</td>\n",
       "      <td>NaN</td>\n",
       "    </tr>\n",
       "  </tbody>\n",
       "</table>\n",
       "<p>5 rows × 32 columns</p>\n",
       "</div>"
      ],
      "text/plain": [
       "                  DATE   SP500   price  date_time  weekday  day  month  year  \\\n",
       "DATE                                                                           \n",
       "2009-06-26  2009-06-26  918.90  918.90 2009-06-26        4   26      6  2009   \n",
       "2009-06-29  2009-06-29  927.23  927.23 2009-06-29        0   29      6  2009   \n",
       "2009-06-30  2009-06-30  919.32  919.32 2009-06-30        1   30      6  2009   \n",
       "2009-07-01  2009-07-01  923.33  923.33 2009-07-01        2    1      7  2009   \n",
       "2009-07-02  2009-07-02  896.42  896.42 2009-07-02        3    2      7  2009   \n",
       "\n",
       "            change  summer  ...  Mar  Apr  May  June   July  Aug  Sep  Oct  \\\n",
       "DATE                        ...                                              \n",
       "2009-06-26    0.00     NaN  ...  NaN  NaN  NaN   NaN    NaN  NaN  NaN  NaN   \n",
       "2009-06-29    8.33    8.33  ...  NaN  NaN  NaN  8.33    NaN  NaN  NaN  NaN   \n",
       "2009-06-30   -7.91   -7.91  ...  NaN  NaN  NaN -7.91    NaN  NaN  NaN  NaN   \n",
       "2009-07-01    4.01    4.01  ...  NaN  NaN  NaN   NaN   4.01  NaN  NaN  NaN   \n",
       "2009-07-02  -26.91  -26.91  ...  NaN  NaN  NaN   NaN -26.91  NaN  NaN  NaN   \n",
       "\n",
       "            Nov  Dec  \n",
       "DATE                  \n",
       "2009-06-26  NaN  NaN  \n",
       "2009-06-29  NaN  NaN  \n",
       "2009-06-30  NaN  NaN  \n",
       "2009-07-01  NaN  NaN  \n",
       "2009-07-02  NaN  NaN  \n",
       "\n",
       "[5 rows x 32 columns]"
      ]
     },
     "execution_count": 88,
     "metadata": {},
     "output_type": "execute_result"
    }
   ],
   "source": [
    "df.head()"
   ]
  },
  {
   "cell_type": "code",
   "execution_count": 89,
   "metadata": {},
   "outputs": [],
   "source": [
    "df.drop(['DATE'], axis=1, inplace=True)\n",
    "df.drop(['SP500'], axis=1, inplace=True)\n",
    "df.drop(['price'], axis=1, inplace=True)\n",
    "df.drop(['date_time'], axis=1, inplace=True)\n",
    "df.drop(['year'], axis=1, inplace=True)\n",
    "df.drop(['Monday'], axis=1, inplace=True)\n",
    "df.drop(['Tuesday'], axis=1, inplace=True)\n",
    "df.drop(['Wednesday'], axis=1, inplace=True)\n",
    "df.drop(['Thursday'], axis=1, inplace=True)\n",
    "df.drop(['Friday'], axis=1, inplace=True)\n",
    "df.drop(['Jan'], axis=1, inplace=True)\n",
    "df.drop(['Feb'], axis=1, inplace=True)\n",
    "df.drop(['Mar'], axis=1, inplace=True)\n",
    "df.drop(['Apr'], axis=1, inplace=True)\n",
    "df.drop(['May'], axis=1, inplace=True)\n",
    "df.drop(['June'], axis=1, inplace=True)\n",
    "df.drop(['July'], axis=1, inplace=True)\n",
    "df.drop(['Aug'], axis=1, inplace=True)\n",
    "df.drop(['Sep'], axis=1, inplace=True)\n",
    "df.drop(['Oct'], axis=1, inplace=True)\n",
    "df.drop(['Nov'], axis=1, inplace=True)\n",
    "df.drop(['Dec'], axis=1, inplace=True)\n",
    "df.drop(['summer'], axis=1, inplace=True)\n",
    "df.drop(['winter'], axis=1, inplace=True)\n",
    "df.drop(['yr3s'], axis=1, inplace=True)\n",
    "df.drop(['yr3w'], axis=1, inplace=True)\n",
    "df.drop(['yr3w_2'], axis=1, inplace=True)\n",
    "df.drop(['yr3w_t'], axis=1, inplace=True)"
   ]
  },
  {
   "cell_type": "code",
   "execution_count": 90,
   "metadata": {},
   "outputs": [
    {
     "data": {
      "text/html": [
       "<div>\n",
       "<style scoped>\n",
       "    .dataframe tbody tr th:only-of-type {\n",
       "        vertical-align: middle;\n",
       "    }\n",
       "\n",
       "    .dataframe tbody tr th {\n",
       "        vertical-align: top;\n",
       "    }\n",
       "\n",
       "    .dataframe thead th {\n",
       "        text-align: right;\n",
       "    }\n",
       "</style>\n",
       "<table border=\"1\" class=\"dataframe\">\n",
       "  <thead>\n",
       "    <tr style=\"text-align: right;\">\n",
       "      <th></th>\n",
       "      <th>weekday</th>\n",
       "      <th>day</th>\n",
       "      <th>month</th>\n",
       "      <th>change</th>\n",
       "    </tr>\n",
       "    <tr>\n",
       "      <th>DATE</th>\n",
       "      <th></th>\n",
       "      <th></th>\n",
       "      <th></th>\n",
       "      <th></th>\n",
       "    </tr>\n",
       "  </thead>\n",
       "  <tbody>\n",
       "    <tr>\n",
       "      <th>2009-06-26</th>\n",
       "      <td>4</td>\n",
       "      <td>26</td>\n",
       "      <td>6</td>\n",
       "      <td>0.00</td>\n",
       "    </tr>\n",
       "    <tr>\n",
       "      <th>2009-06-29</th>\n",
       "      <td>0</td>\n",
       "      <td>29</td>\n",
       "      <td>6</td>\n",
       "      <td>8.33</td>\n",
       "    </tr>\n",
       "    <tr>\n",
       "      <th>2009-06-30</th>\n",
       "      <td>1</td>\n",
       "      <td>30</td>\n",
       "      <td>6</td>\n",
       "      <td>-7.91</td>\n",
       "    </tr>\n",
       "    <tr>\n",
       "      <th>2009-07-01</th>\n",
       "      <td>2</td>\n",
       "      <td>1</td>\n",
       "      <td>7</td>\n",
       "      <td>4.01</td>\n",
       "    </tr>\n",
       "    <tr>\n",
       "      <th>2009-07-02</th>\n",
       "      <td>3</td>\n",
       "      <td>2</td>\n",
       "      <td>7</td>\n",
       "      <td>-26.91</td>\n",
       "    </tr>\n",
       "  </tbody>\n",
       "</table>\n",
       "</div>"
      ],
      "text/plain": [
       "            weekday  day  month  change\n",
       "DATE                                   \n",
       "2009-06-26        4   26      6    0.00\n",
       "2009-06-29        0   29      6    8.33\n",
       "2009-06-30        1   30      6   -7.91\n",
       "2009-07-01        2    1      7    4.01\n",
       "2009-07-02        3    2      7  -26.91"
      ]
     },
     "execution_count": 90,
     "metadata": {},
     "output_type": "execute_result"
    }
   ],
   "source": [
    "df.head()"
   ]
  },
  {
   "cell_type": "code",
   "execution_count": 91,
   "metadata": {},
   "outputs": [
    {
     "data": {
      "text/plain": [
       "weekday      int64\n",
       "day          int64\n",
       "month        int64\n",
       "change     float64\n",
       "dtype: object"
      ]
     },
     "execution_count": 91,
     "metadata": {},
     "output_type": "execute_result"
    }
   ],
   "source": [
    "df.dtypes"
   ]
  },
  {
   "cell_type": "markdown",
   "metadata": {},
   "source": [
    "### Build the S&P 500 model - Linear Regression"
   ]
  },
  {
   "cell_type": "code",
   "execution_count": 92,
   "metadata": {},
   "outputs": [],
   "source": [
    "# Create training and test sets.\n",
    "offset = int(df.shape[0] * 0.8)\n",
    "\n",
    "df_train = df[:offset]\n",
    "df_test = df[offset:]"
   ]
  },
  {
   "cell_type": "code",
   "execution_count": 93,
   "metadata": {},
   "outputs": [
    {
     "name": "stdout",
     "output_type": "stream",
     "text": [
      "(2012, 4)\n",
      "(504, 4)\n"
     ]
    }
   ],
   "source": [
    "print(df_train.shape)\n",
    "print(df_test.shape)"
   ]
  },
  {
   "cell_type": "code",
   "execution_count": 94,
   "metadata": {},
   "outputs": [
    {
     "name": "stdout",
     "output_type": "stream",
     "text": [
      "\n",
      "Duration: 0:00:00.140008\n"
     ]
    },
    {
     "name": "stderr",
     "output_type": "stream",
     "text": [
      "C:\\Users\\Fred\\Anaconda3\\lib\\site-packages\\pandas\\core\\frame.py:3940: SettingWithCopyWarning: \n",
      "A value is trying to be set on a copy of a slice from a DataFrame\n",
      "\n",
      "See the caveats in the documentation: http://pandas.pydata.org/pandas-docs/stable/indexing.html#indexing-view-versus-copy\n",
      "  errors=errors)\n",
      "C:\\Users\\Fred\\Anaconda3\\lib\\site-packages\\pandas\\core\\frame.py:3940: SettingWithCopyWarning: \n",
      "A value is trying to be set on a copy of a slice from a DataFrame\n",
      "\n",
      "See the caveats in the documentation: http://pandas.pydata.org/pandas-docs/stable/indexing.html#indexing-view-versus-copy\n",
      "  errors=errors)\n"
     ]
    }
   ],
   "source": [
    "# 1.  Linear Regression\n",
    "\n",
    "from datetime import datetime\n",
    "start_time = datetime.now()\n",
    "\n",
    "# Instantiate our model.\n",
    "regr = linear_model.LinearRegression()\n",
    "\n",
    "# set features and dependent variable for training data\n",
    "y_train = df_train['change'].values\n",
    "\n",
    "# drop the 'change' column to obtain the feature inputs\n",
    "df_train.drop(['change'], axis=1, inplace=True)\n",
    "\n",
    "# normalize the training data\n",
    "x_train = sklearn.preprocessing.normalize(df_train)\n",
    "\n",
    "# now for test...\n",
    "y_test = df_test['change'].values\n",
    "\n",
    "# drop the 'change' column to obtain the feature inputs\n",
    "df_test.drop(['change'], axis=1, inplace=True)\n",
    "\n",
    "# normalize the test data\n",
    "x_test = sklearn.preprocessing.normalize(df_test)\n",
    "\n",
    "# fit model to training data\n",
    "regr.fit(x_train, y_train)\n",
    "\n",
    "end_time = datetime.now()\n",
    "print('\\nDuration: {}'.format(end_time - start_time))"
   ]
  },
  {
   "cell_type": "code",
   "execution_count": 95,
   "metadata": {},
   "outputs": [
    {
     "name": "stdout",
     "output_type": "stream",
     "text": [
      "Coefficients: \n",
      " [ 0.86900286 -0.88945947 -0.19400148]\n",
      "Intercept: \n",
      " 1.4380390819510813\n",
      "\n",
      "R-squared train:\n",
      "0.00025570067855062995\n",
      "\n",
      "R-squared test:\n",
      "3.3742136453129845e-05\n"
     ]
    }
   ],
   "source": [
    "# Display the attributes we calculated.\n",
    "print('Coefficients: \\n', regr.coef_)\n",
    "print('Intercept: \\n', regr.intercept_)\n",
    "print('\\nR-squared train:')\n",
    "print(regr.score(x_train, y_train))\n",
    "\n",
    "print('\\nR-squared test:')\n",
    "print(regr.score(x_test, y_test))"
   ]
  },
  {
   "cell_type": "markdown",
   "metadata": {},
   "source": [
    "### Prepare the 10 Yr Bond data for building a Supervised Learning model to predict the price change."
   ]
  },
  {
   "cell_type": "code",
   "execution_count": 96,
   "metadata": {},
   "outputs": [
    {
     "data": {
      "text/html": [
       "<div>\n",
       "<style scoped>\n",
       "    .dataframe tbody tr th:only-of-type {\n",
       "        vertical-align: middle;\n",
       "    }\n",
       "\n",
       "    .dataframe tbody tr th {\n",
       "        vertical-align: top;\n",
       "    }\n",
       "\n",
       "    .dataframe thead th {\n",
       "        text-align: right;\n",
       "    }\n",
       "</style>\n",
       "<table border=\"1\" class=\"dataframe\">\n",
       "  <thead>\n",
       "    <tr style=\"text-align: right;\">\n",
       "      <th></th>\n",
       "      <th>DATE</th>\n",
       "      <th>DGS10</th>\n",
       "      <th>price</th>\n",
       "      <th>date_time</th>\n",
       "      <th>weekday</th>\n",
       "      <th>day</th>\n",
       "      <th>month</th>\n",
       "      <th>year</th>\n",
       "      <th>change</th>\n",
       "      <th>Monday</th>\n",
       "      <th>Tuesday</th>\n",
       "      <th>Wednesday</th>\n",
       "      <th>Thursday</th>\n",
       "      <th>Friday</th>\n",
       "    </tr>\n",
       "    <tr>\n",
       "      <th>DATE</th>\n",
       "      <th></th>\n",
       "      <th></th>\n",
       "      <th></th>\n",
       "      <th></th>\n",
       "      <th></th>\n",
       "      <th></th>\n",
       "      <th></th>\n",
       "      <th></th>\n",
       "      <th></th>\n",
       "      <th></th>\n",
       "      <th></th>\n",
       "      <th></th>\n",
       "      <th></th>\n",
       "      <th></th>\n",
       "    </tr>\n",
       "  </thead>\n",
       "  <tbody>\n",
       "    <tr>\n",
       "      <th>1962-01-02</th>\n",
       "      <td>1962-01-02</td>\n",
       "      <td>4.06</td>\n",
       "      <td>4.06</td>\n",
       "      <td>1962-01-02</td>\n",
       "      <td>1</td>\n",
       "      <td>2</td>\n",
       "      <td>1</td>\n",
       "      <td>1962</td>\n",
       "      <td>NaN</td>\n",
       "      <td>NaN</td>\n",
       "      <td>NaN</td>\n",
       "      <td>NaN</td>\n",
       "      <td>NaN</td>\n",
       "      <td>NaN</td>\n",
       "    </tr>\n",
       "    <tr>\n",
       "      <th>1962-01-03</th>\n",
       "      <td>1962-01-03</td>\n",
       "      <td>4.03</td>\n",
       "      <td>4.03</td>\n",
       "      <td>1962-01-03</td>\n",
       "      <td>2</td>\n",
       "      <td>3</td>\n",
       "      <td>1</td>\n",
       "      <td>1962</td>\n",
       "      <td>-0.03</td>\n",
       "      <td>NaN</td>\n",
       "      <td>NaN</td>\n",
       "      <td>-0.03</td>\n",
       "      <td>NaN</td>\n",
       "      <td>NaN</td>\n",
       "    </tr>\n",
       "    <tr>\n",
       "      <th>1962-01-04</th>\n",
       "      <td>1962-01-04</td>\n",
       "      <td>3.99</td>\n",
       "      <td>3.99</td>\n",
       "      <td>1962-01-04</td>\n",
       "      <td>3</td>\n",
       "      <td>4</td>\n",
       "      <td>1</td>\n",
       "      <td>1962</td>\n",
       "      <td>-0.04</td>\n",
       "      <td>NaN</td>\n",
       "      <td>NaN</td>\n",
       "      <td>NaN</td>\n",
       "      <td>-0.04</td>\n",
       "      <td>NaN</td>\n",
       "    </tr>\n",
       "    <tr>\n",
       "      <th>1962-01-05</th>\n",
       "      <td>1962-01-05</td>\n",
       "      <td>4.02</td>\n",
       "      <td>4.02</td>\n",
       "      <td>1962-01-05</td>\n",
       "      <td>4</td>\n",
       "      <td>5</td>\n",
       "      <td>1</td>\n",
       "      <td>1962</td>\n",
       "      <td>0.03</td>\n",
       "      <td>NaN</td>\n",
       "      <td>NaN</td>\n",
       "      <td>NaN</td>\n",
       "      <td>NaN</td>\n",
       "      <td>0.03</td>\n",
       "    </tr>\n",
       "    <tr>\n",
       "      <th>1962-01-08</th>\n",
       "      <td>1962-01-08</td>\n",
       "      <td>4.03</td>\n",
       "      <td>4.03</td>\n",
       "      <td>1962-01-08</td>\n",
       "      <td>0</td>\n",
       "      <td>8</td>\n",
       "      <td>1</td>\n",
       "      <td>1962</td>\n",
       "      <td>0.01</td>\n",
       "      <td>0.01</td>\n",
       "      <td>NaN</td>\n",
       "      <td>NaN</td>\n",
       "      <td>NaN</td>\n",
       "      <td>NaN</td>\n",
       "    </tr>\n",
       "  </tbody>\n",
       "</table>\n",
       "</div>"
      ],
      "text/plain": [
       "                  DATE DGS10  price  date_time  weekday  day  month  year  \\\n",
       "DATE                                                                        \n",
       "1962-01-02  1962-01-02  4.06   4.06 1962-01-02        1    2      1  1962   \n",
       "1962-01-03  1962-01-03  4.03   4.03 1962-01-03        2    3      1  1962   \n",
       "1962-01-04  1962-01-04  3.99   3.99 1962-01-04        3    4      1  1962   \n",
       "1962-01-05  1962-01-05  4.02   4.02 1962-01-05        4    5      1  1962   \n",
       "1962-01-08  1962-01-08  4.03   4.03 1962-01-08        0    8      1  1962   \n",
       "\n",
       "            change  Monday  Tuesday  Wednesday  Thursday  Friday  \n",
       "DATE                                                              \n",
       "1962-01-02     NaN     NaN      NaN        NaN       NaN     NaN  \n",
       "1962-01-03   -0.03     NaN      NaN      -0.03       NaN     NaN  \n",
       "1962-01-04   -0.04     NaN      NaN        NaN     -0.04     NaN  \n",
       "1962-01-05    0.03     NaN      NaN        NaN       NaN    0.03  \n",
       "1962-01-08    0.01    0.01      NaN        NaN       NaN     NaN  "
      ]
     },
     "execution_count": 96,
     "metadata": {},
     "output_type": "execute_result"
    }
   ],
   "source": [
    "df_10.head()"
   ]
  },
  {
   "cell_type": "code",
   "execution_count": 97,
   "metadata": {},
   "outputs": [],
   "source": [
    "df_10['change'].fillna(0, inplace=True)\n",
    "\n",
    "df_10.drop(['DATE'], axis=1, inplace=True)\n",
    "df_10.drop(['DGS10'], axis=1, inplace=True)\n",
    "df_10.drop(['price'], axis=1, inplace=True)\n",
    "df_10.drop(['date_time'], axis=1, inplace=True)\n",
    "df_10.drop(['year'], axis=1, inplace=True)\n",
    "df_10.drop(['Monday'], axis=1, inplace=True)\n",
    "df_10.drop(['Tuesday'], axis=1, inplace=True)\n",
    "df_10.drop(['Wednesday'], axis=1, inplace=True)\n",
    "df_10.drop(['Thursday'], axis=1, inplace=True)\n",
    "df_10.drop(['Friday'], axis=1, inplace=True)\n",
    "df_10.drop(['day'], axis=1, inplace=True)\n",
    "df_10.drop(['month'], axis=1, inplace=True)"
   ]
  },
  {
   "cell_type": "code",
   "execution_count": 98,
   "metadata": {},
   "outputs": [
    {
     "data": {
      "text/html": [
       "<div>\n",
       "<style scoped>\n",
       "    .dataframe tbody tr th:only-of-type {\n",
       "        vertical-align: middle;\n",
       "    }\n",
       "\n",
       "    .dataframe tbody tr th {\n",
       "        vertical-align: top;\n",
       "    }\n",
       "\n",
       "    .dataframe thead th {\n",
       "        text-align: right;\n",
       "    }\n",
       "</style>\n",
       "<table border=\"1\" class=\"dataframe\">\n",
       "  <thead>\n",
       "    <tr style=\"text-align: right;\">\n",
       "      <th></th>\n",
       "      <th>weekday</th>\n",
       "      <th>change</th>\n",
       "    </tr>\n",
       "    <tr>\n",
       "      <th>DATE</th>\n",
       "      <th></th>\n",
       "      <th></th>\n",
       "    </tr>\n",
       "  </thead>\n",
       "  <tbody>\n",
       "    <tr>\n",
       "      <th>1962-01-02</th>\n",
       "      <td>1</td>\n",
       "      <td>0.00</td>\n",
       "    </tr>\n",
       "    <tr>\n",
       "      <th>1962-01-03</th>\n",
       "      <td>2</td>\n",
       "      <td>-0.03</td>\n",
       "    </tr>\n",
       "    <tr>\n",
       "      <th>1962-01-04</th>\n",
       "      <td>3</td>\n",
       "      <td>-0.04</td>\n",
       "    </tr>\n",
       "    <tr>\n",
       "      <th>1962-01-05</th>\n",
       "      <td>4</td>\n",
       "      <td>0.03</td>\n",
       "    </tr>\n",
       "    <tr>\n",
       "      <th>1962-01-08</th>\n",
       "      <td>0</td>\n",
       "      <td>0.01</td>\n",
       "    </tr>\n",
       "  </tbody>\n",
       "</table>\n",
       "</div>"
      ],
      "text/plain": [
       "            weekday  change\n",
       "DATE                       \n",
       "1962-01-02        1    0.00\n",
       "1962-01-03        2   -0.03\n",
       "1962-01-04        3   -0.04\n",
       "1962-01-05        4    0.03\n",
       "1962-01-08        0    0.01"
      ]
     },
     "execution_count": 98,
     "metadata": {},
     "output_type": "execute_result"
    }
   ],
   "source": [
    "df_10.head()"
   ]
  },
  {
   "cell_type": "markdown",
   "metadata": {},
   "source": [
    "### Build the 10 Yr Bond model - Linear Regression"
   ]
  },
  {
   "cell_type": "code",
   "execution_count": 99,
   "metadata": {},
   "outputs": [],
   "source": [
    "# Create training and test sets.\n",
    "offset_10 = int(df_10.shape[0] * 0.8)\n",
    "\n",
    "df_train_10 = df_10[:offset_10]\n",
    "df_test_10 = df_10[offset_10:]"
   ]
  },
  {
   "cell_type": "code",
   "execution_count": 100,
   "metadata": {},
   "outputs": [
    {
     "name": "stdout",
     "output_type": "stream",
     "text": [
      "(11484, 2)\n",
      "(2871, 2)\n"
     ]
    }
   ],
   "source": [
    "print(df_train_10.shape)\n",
    "print(df_test_10.shape)"
   ]
  },
  {
   "cell_type": "code",
   "execution_count": 101,
   "metadata": {},
   "outputs": [
    {
     "name": "stdout",
     "output_type": "stream",
     "text": [
      "\n",
      "Duration: 0:00:00.126008\n"
     ]
    },
    {
     "name": "stderr",
     "output_type": "stream",
     "text": [
      "C:\\Users\\Fred\\Anaconda3\\lib\\site-packages\\pandas\\core\\frame.py:3940: SettingWithCopyWarning: \n",
      "A value is trying to be set on a copy of a slice from a DataFrame\n",
      "\n",
      "See the caveats in the documentation: http://pandas.pydata.org/pandas-docs/stable/indexing.html#indexing-view-versus-copy\n",
      "  errors=errors)\n",
      "C:\\Users\\Fred\\Anaconda3\\lib\\site-packages\\pandas\\core\\frame.py:3940: SettingWithCopyWarning: \n",
      "A value is trying to be set on a copy of a slice from a DataFrame\n",
      "\n",
      "See the caveats in the documentation: http://pandas.pydata.org/pandas-docs/stable/indexing.html#indexing-view-versus-copy\n",
      "  errors=errors)\n"
     ]
    }
   ],
   "source": [
    "# 1.  Linear Regression\n",
    "\n",
    "from datetime import datetime\n",
    "start_time = datetime.now()\n",
    "\n",
    "# Instantiate our model.\n",
    "regr_10 = linear_model.LinearRegression()\n",
    "\n",
    "# set features and dependent variable for training data\n",
    "y_train_10 = df_train_10['change'].values\n",
    "\n",
    "# drop the 'target' column to obtain the feature inputs\n",
    "df_train_10.drop(['change'], axis=1, inplace=True)\n",
    "\n",
    "# normalize the training data\n",
    "x_train_10 = sklearn.preprocessing.normalize(df_train_10)\n",
    "\n",
    "# now for test...\n",
    "y_test_10 = df_test_10['change'].values\n",
    "\n",
    "# drop the 'target' column to obtain the feature inputs\n",
    "df_test_10.drop(['change'], axis=1, inplace=True)\n",
    "\n",
    "# normalize the test data\n",
    "x_test_10 = sklearn.preprocessing.normalize(df_test_10)\n",
    "\n",
    "# fit model to training data\n",
    "regr_10.fit(x_train_10, y_train_10)\n",
    "\n",
    "end_time = datetime.now()\n",
    "print('\\nDuration: {}'.format(end_time - start_time))"
   ]
  },
  {
   "cell_type": "code",
   "execution_count": 102,
   "metadata": {},
   "outputs": [
    {
     "name": "stdout",
     "output_type": "stream",
     "text": [
      "Coefficients: \n",
      " [-0.00833982]\n",
      "Intercept: \n",
      " 0.006767582673497627\n",
      "\n",
      "R-squared train:\n",
      "0.002331639446182532\n",
      "\n",
      "R-squared test:\n",
      "-0.005007757394746459\n"
     ]
    }
   ],
   "source": [
    "# Display the attributes we calculated.\n",
    "print('Coefficients: \\n', regr_10.coef_)\n",
    "print('Intercept: \\n', regr_10.intercept_)\n",
    "print('\\nR-squared train:')\n",
    "print(regr_10.score(x_train_10, y_train_10))\n",
    "\n",
    "print('\\nR-squared test:')\n",
    "print(regr_10.score(x_test_10, y_test_10))"
   ]
  },
  {
   "cell_type": "markdown",
   "metadata": {},
   "source": [
    "R-squared value is fairly low here.  It did improve from .00081 to .0023 when the day of month and month were dropped from the data.  \n",
    "\n",
    "The final model to test is for Gold since it had the lowest pvalue for the strongest day of the week vs. the weakest.  Maybe a predictive model such as Linear Regression or Random Forest will show some promise.  \n",
    "\n",
    "### Prepare Gold data for building a Supervised Learning model to predict the price change."
   ]
  },
  {
   "cell_type": "code",
   "execution_count": 103,
   "metadata": {},
   "outputs": [
    {
     "data": {
      "text/html": [
       "<div>\n",
       "<style scoped>\n",
       "    .dataframe tbody tr th:only-of-type {\n",
       "        vertical-align: middle;\n",
       "    }\n",
       "\n",
       "    .dataframe tbody tr th {\n",
       "        vertical-align: top;\n",
       "    }\n",
       "\n",
       "    .dataframe thead th {\n",
       "        text-align: right;\n",
       "    }\n",
       "</style>\n",
       "<table border=\"1\" class=\"dataframe\">\n",
       "  <thead>\n",
       "    <tr style=\"text-align: right;\">\n",
       "      <th></th>\n",
       "      <th>DATE</th>\n",
       "      <th>GOLDAMGBD229NLBM</th>\n",
       "      <th>price</th>\n",
       "      <th>date_time</th>\n",
       "      <th>weekday</th>\n",
       "      <th>day</th>\n",
       "      <th>month</th>\n",
       "      <th>year</th>\n",
       "      <th>change</th>\n",
       "      <th>Monday</th>\n",
       "      <th>Tuesday</th>\n",
       "      <th>Wednesday</th>\n",
       "      <th>Thursday</th>\n",
       "      <th>Friday</th>\n",
       "    </tr>\n",
       "  </thead>\n",
       "  <tbody>\n",
       "    <tr>\n",
       "      <th>0</th>\n",
       "      <td>2009-06-26</td>\n",
       "      <td>572.566</td>\n",
       "      <td>572.566</td>\n",
       "      <td>2009-06-26</td>\n",
       "      <td>4</td>\n",
       "      <td>26</td>\n",
       "      <td>6</td>\n",
       "      <td>2009</td>\n",
       "      <td>NaN</td>\n",
       "      <td>NaN</td>\n",
       "      <td>NaN</td>\n",
       "      <td>NaN</td>\n",
       "      <td>NaN</td>\n",
       "      <td>NaN</td>\n",
       "    </tr>\n",
       "    <tr>\n",
       "      <th>1</th>\n",
       "      <td>2009-06-29</td>\n",
       "      <td>570.133</td>\n",
       "      <td>570.133</td>\n",
       "      <td>2009-06-29</td>\n",
       "      <td>0</td>\n",
       "      <td>29</td>\n",
       "      <td>6</td>\n",
       "      <td>2009</td>\n",
       "      <td>-2.433</td>\n",
       "      <td>-2.433</td>\n",
       "      <td>NaN</td>\n",
       "      <td>NaN</td>\n",
       "      <td>NaN</td>\n",
       "      <td>NaN</td>\n",
       "    </tr>\n",
       "    <tr>\n",
       "      <th>2</th>\n",
       "      <td>2009-06-30</td>\n",
       "      <td>566.697</td>\n",
       "      <td>566.697</td>\n",
       "      <td>2009-06-30</td>\n",
       "      <td>1</td>\n",
       "      <td>30</td>\n",
       "      <td>6</td>\n",
       "      <td>2009</td>\n",
       "      <td>-3.436</td>\n",
       "      <td>NaN</td>\n",
       "      <td>-3.436</td>\n",
       "      <td>NaN</td>\n",
       "      <td>NaN</td>\n",
       "      <td>NaN</td>\n",
       "    </tr>\n",
       "    <tr>\n",
       "      <th>3</th>\n",
       "      <td>2009-07-01</td>\n",
       "      <td>567.296</td>\n",
       "      <td>567.296</td>\n",
       "      <td>2009-07-01</td>\n",
       "      <td>2</td>\n",
       "      <td>1</td>\n",
       "      <td>7</td>\n",
       "      <td>2009</td>\n",
       "      <td>0.599</td>\n",
       "      <td>NaN</td>\n",
       "      <td>NaN</td>\n",
       "      <td>0.599</td>\n",
       "      <td>NaN</td>\n",
       "      <td>NaN</td>\n",
       "    </tr>\n",
       "    <tr>\n",
       "      <th>4</th>\n",
       "      <td>2009-07-02</td>\n",
       "      <td>571.708</td>\n",
       "      <td>571.708</td>\n",
       "      <td>2009-07-02</td>\n",
       "      <td>3</td>\n",
       "      <td>2</td>\n",
       "      <td>7</td>\n",
       "      <td>2009</td>\n",
       "      <td>4.412</td>\n",
       "      <td>NaN</td>\n",
       "      <td>NaN</td>\n",
       "      <td>NaN</td>\n",
       "      <td>4.412</td>\n",
       "      <td>NaN</td>\n",
       "    </tr>\n",
       "  </tbody>\n",
       "</table>\n",
       "</div>"
      ],
      "text/plain": [
       "         DATE GOLDAMGBD229NLBM    price  date_time  weekday  day  month  year  \\\n",
       "0  2009-06-26          572.566  572.566 2009-06-26        4   26      6  2009   \n",
       "1  2009-06-29          570.133  570.133 2009-06-29        0   29      6  2009   \n",
       "2  2009-06-30          566.697  566.697 2009-06-30        1   30      6  2009   \n",
       "3  2009-07-01          567.296  567.296 2009-07-01        2    1      7  2009   \n",
       "4  2009-07-02          571.708  571.708 2009-07-02        3    2      7  2009   \n",
       "\n",
       "   change  Monday  Tuesday  Wednesday  Thursday  Friday  \n",
       "0     NaN     NaN      NaN        NaN       NaN     NaN  \n",
       "1  -2.433  -2.433      NaN        NaN       NaN     NaN  \n",
       "2  -3.436     NaN   -3.436        NaN       NaN     NaN  \n",
       "3   0.599     NaN      NaN      0.599       NaN     NaN  \n",
       "4   4.412     NaN      NaN        NaN     4.412     NaN  "
      ]
     },
     "execution_count": 103,
     "metadata": {},
     "output_type": "execute_result"
    }
   ],
   "source": [
    "df_gold.head()"
   ]
  },
  {
   "cell_type": "code",
   "execution_count": 104,
   "metadata": {},
   "outputs": [],
   "source": [
    "# make a copy of this dataframe for later:\n",
    "df_gold_barplot = df_gold.copy()"
   ]
  },
  {
   "cell_type": "code",
   "execution_count": 105,
   "metadata": {},
   "outputs": [],
   "source": [
    "df_gold['change'].fillna(0, inplace=True)\n",
    "\n",
    "df_gold.drop(['DATE'], axis=1, inplace=True)\n",
    "df_gold.drop(['GOLDAMGBD229NLBM'], axis=1, inplace=True)\n",
    "df_gold.drop(['price'], axis=1, inplace=True)\n",
    "df_gold.drop(['date_time'], axis=1, inplace=True)\n",
    "df_gold.drop(['year'], axis=1, inplace=True)\n",
    "df_gold.drop(['Monday'], axis=1, inplace=True)\n",
    "df_gold.drop(['Tuesday'], axis=1, inplace=True)\n",
    "df_gold.drop(['Wednesday'], axis=1, inplace=True)\n",
    "df_gold.drop(['Thursday'], axis=1, inplace=True)\n",
    "df_gold.drop(['Friday'], axis=1, inplace=True)\n",
    "df_gold.drop(['day'], axis=1, inplace=True)\n",
    "df_gold.drop(['month'], axis=1, inplace=True)"
   ]
  },
  {
   "cell_type": "code",
   "execution_count": 106,
   "metadata": {},
   "outputs": [],
   "source": [
    "# make a copy of this dataframe for later:\n",
    "df_bin = df_gold.copy()"
   ]
  },
  {
   "cell_type": "code",
   "execution_count": 107,
   "metadata": {},
   "outputs": [
    {
     "data": {
      "text/html": [
       "<div>\n",
       "<style scoped>\n",
       "    .dataframe tbody tr th:only-of-type {\n",
       "        vertical-align: middle;\n",
       "    }\n",
       "\n",
       "    .dataframe tbody tr th {\n",
       "        vertical-align: top;\n",
       "    }\n",
       "\n",
       "    .dataframe thead th {\n",
       "        text-align: right;\n",
       "    }\n",
       "</style>\n",
       "<table border=\"1\" class=\"dataframe\">\n",
       "  <thead>\n",
       "    <tr style=\"text-align: right;\">\n",
       "      <th></th>\n",
       "      <th>weekday</th>\n",
       "      <th>change</th>\n",
       "    </tr>\n",
       "  </thead>\n",
       "  <tbody>\n",
       "    <tr>\n",
       "      <th>0</th>\n",
       "      <td>4</td>\n",
       "      <td>0.000</td>\n",
       "    </tr>\n",
       "    <tr>\n",
       "      <th>1</th>\n",
       "      <td>0</td>\n",
       "      <td>-2.433</td>\n",
       "    </tr>\n",
       "    <tr>\n",
       "      <th>2</th>\n",
       "      <td>1</td>\n",
       "      <td>-3.436</td>\n",
       "    </tr>\n",
       "    <tr>\n",
       "      <th>3</th>\n",
       "      <td>2</td>\n",
       "      <td>0.599</td>\n",
       "    </tr>\n",
       "    <tr>\n",
       "      <th>4</th>\n",
       "      <td>3</td>\n",
       "      <td>4.412</td>\n",
       "    </tr>\n",
       "  </tbody>\n",
       "</table>\n",
       "</div>"
      ],
      "text/plain": [
       "   weekday  change\n",
       "0        4   0.000\n",
       "1        0  -2.433\n",
       "2        1  -3.436\n",
       "3        2   0.599\n",
       "4        3   4.412"
      ]
     },
     "execution_count": 107,
     "metadata": {},
     "output_type": "execute_result"
    }
   ],
   "source": [
    "df_gold.head()"
   ]
  },
  {
   "cell_type": "markdown",
   "metadata": {},
   "source": [
    "### Build the Gold model - Linear Regression"
   ]
  },
  {
   "cell_type": "code",
   "execution_count": 108,
   "metadata": {},
   "outputs": [],
   "source": [
    "# Create training and test sets.\n",
    "offset_gold = int(df_gold.shape[0] * 0.8)\n",
    "\n",
    "df_train_gold = df_gold[:offset_gold]\n",
    "df_test_gold = df_gold[offset_gold:]"
   ]
  },
  {
   "cell_type": "code",
   "execution_count": 109,
   "metadata": {},
   "outputs": [
    {
     "name": "stdout",
     "output_type": "stream",
     "text": [
      "(2020, 2)\n",
      "(505, 2)\n"
     ]
    }
   ],
   "source": [
    "print(df_train_gold.shape)\n",
    "print(df_test_gold.shape)"
   ]
  },
  {
   "cell_type": "code",
   "execution_count": 110,
   "metadata": {},
   "outputs": [
    {
     "name": "stdout",
     "output_type": "stream",
     "text": [
      "\n",
      "Duration: 0:00:00.129008\n"
     ]
    },
    {
     "name": "stderr",
     "output_type": "stream",
     "text": [
      "C:\\Users\\Fred\\Anaconda3\\lib\\site-packages\\pandas\\core\\frame.py:3940: SettingWithCopyWarning: \n",
      "A value is trying to be set on a copy of a slice from a DataFrame\n",
      "\n",
      "See the caveats in the documentation: http://pandas.pydata.org/pandas-docs/stable/indexing.html#indexing-view-versus-copy\n",
      "  errors=errors)\n",
      "C:\\Users\\Fred\\Anaconda3\\lib\\site-packages\\pandas\\core\\frame.py:3940: SettingWithCopyWarning: \n",
      "A value is trying to be set on a copy of a slice from a DataFrame\n",
      "\n",
      "See the caveats in the documentation: http://pandas.pydata.org/pandas-docs/stable/indexing.html#indexing-view-versus-copy\n",
      "  errors=errors)\n"
     ]
    }
   ],
   "source": [
    "# 1.  Linear Regression\n",
    "\n",
    "from datetime import datetime\n",
    "start_time = datetime.now()\n",
    "\n",
    "# Instantiate our model.\n",
    "regr_gold = linear_model.LinearRegression()\n",
    "\n",
    "# set features and dependent variable for training data\n",
    "y_train_gold = df_train_gold['change'].values\n",
    "\n",
    "# drop the 'target' column to obtain the feature inputs\n",
    "df_train_gold.drop(['change'], axis=1, inplace=True)\n",
    "\n",
    "# normalize the training data\n",
    "x_train_gold = sklearn.preprocessing.normalize(df_train_gold)\n",
    "# x_train_gold = df_train_gold\n",
    "\n",
    "# now for test...\n",
    "y_test_gold = df_test_gold['change'].values\n",
    "\n",
    "# drop the 'target' column to obtain the feature inputs\n",
    "df_test_gold.drop(['change'], axis=1, inplace=True)\n",
    "\n",
    "# normalize the test data\n",
    "x_test_gold = sklearn.preprocessing.normalize(df_test_gold)\n",
    "# x_test_gold = df_test_gold\n",
    "\n",
    "# fit model to training data\n",
    "regr_gold.fit(x_train_gold, y_train_gold)\n",
    "\n",
    "end_time = datetime.now()\n",
    "print('\\nDuration: {}'.format(end_time - start_time))"
   ]
  },
  {
   "cell_type": "code",
   "execution_count": 111,
   "metadata": {},
   "outputs": [
    {
     "name": "stdout",
     "output_type": "stream",
     "text": [
      "Coefficients: \n",
      " [-1.6376418]\n",
      "Intercept: \n",
      " 1.5375145888594113\n",
      "\n",
      "R-squared train:\n",
      "0.004379886670989763\n",
      "\n",
      "R-squared test:\n",
      "-0.022705603892639648\n"
     ]
    }
   ],
   "source": [
    "# Display the attributes calculated.\n",
    "print('Coefficients: \\n', regr_gold.coef_)\n",
    "print('Intercept: \\n', regr_gold.intercept_)\n",
    "print('\\nR-squared train:')\n",
    "print(regr_gold.score(x_train_gold, y_train_gold))\n",
    "\n",
    "print('\\nR-squared test:')\n",
    "print(regr_gold.score(x_test_gold, y_test_gold))"
   ]
  },
  {
   "cell_type": "code",
   "execution_count": 112,
   "metadata": {},
   "outputs": [
    {
     "data": {
      "text/plain": [
       "weekday      int64\n",
       "change     float64\n",
       "dtype: object"
      ]
     },
     "execution_count": 112,
     "metadata": {},
     "output_type": "execute_result"
    }
   ],
   "source": [
    "df_gold.dtypes"
   ]
  },
  {
   "cell_type": "markdown",
   "metadata": {},
   "source": [
    "### Random Forest"
   ]
  },
  {
   "cell_type": "code",
   "execution_count": 113,
   "metadata": {},
   "outputs": [
    {
     "data": {
      "text/plain": [
       "RandomForestRegressor(bootstrap=True, criterion='mse', max_depth=None,\n",
       "           max_features='auto', max_leaf_nodes=None,\n",
       "           min_impurity_decrease=0.0, min_impurity_split=None,\n",
       "           min_samples_leaf=1, min_samples_split=2,\n",
       "           min_weight_fraction_leaf=0.0, n_estimators=5000, n_jobs=None,\n",
       "           oob_score=False, random_state=None, verbose=0, warm_start=False)"
      ]
     },
     "execution_count": 113,
     "metadata": {},
     "output_type": "execute_result"
    }
   ],
   "source": [
    "# 2.  Random Forest Regressor\n",
    "\n",
    "from sklearn.ensemble import RandomForestRegressor\n",
    "\n",
    "# Instantiate our model.\n",
    "rfc_gold = RandomForestRegressor(n_estimators=5000)\n",
    "\n",
    "# fit model to data\n",
    "rfc_gold.fit(x_train_gold, y_train_gold)"
   ]
  },
  {
   "cell_type": "code",
   "execution_count": 114,
   "metadata": {},
   "outputs": [
    {
     "name": "stdout",
     "output_type": "stream",
     "text": [
      "\n",
      "R-squared train:\n",
      "0.00437977072393636\n",
      "\n",
      "R-squared test:\n",
      "-0.022533587339683914\n"
     ]
    }
   ],
   "source": [
    "# Display the attributes calculated.\n",
    "\n",
    "print('\\nR-squared train:')\n",
    "print(rfc_gold.score(x_train_gold, y_train_gold))\n",
    "\n",
    "print('\\nR-squared test:')\n",
    "print(rfc_gold.score(x_test_gold, y_test_gold))"
   ]
  },
  {
   "cell_type": "markdown",
   "metadata": {},
   "source": [
    "### Gradient Boosting"
   ]
  },
  {
   "cell_type": "code",
   "execution_count": 115,
   "metadata": {},
   "outputs": [
    {
     "data": {
      "text/plain": [
       "GradientBoostingRegressor(alpha=0.9, criterion='friedman_mse', init=None,\n",
       "             learning_rate=0.1, loss='ls', max_depth=3, max_features=None,\n",
       "             max_leaf_nodes=None, min_impurity_decrease=0.0,\n",
       "             min_impurity_split=None, min_samples_leaf=1,\n",
       "             min_samples_split=2, min_weight_fraction_leaf=0.0,\n",
       "             n_estimators=500, n_iter_no_change=None, presort='auto',\n",
       "             random_state=None, subsample=1.0, tol=0.0001,\n",
       "             validation_fraction=0.1, verbose=0, warm_start=False)"
      ]
     },
     "execution_count": 115,
     "metadata": {},
     "output_type": "execute_result"
    }
   ],
   "source": [
    "# 3.  Gradient Boosting Regression\n",
    "\n",
    "from sklearn.ensemble import GradientBoostingRegressor\n",
    "\n",
    "# Instantiate our model.\n",
    "gbr_gold = GradientBoostingRegressor(n_estimators=500)\n",
    "\n",
    "# fit model to data\n",
    "gbr_gold.fit(x_train_gold, y_train_gold)"
   ]
  },
  {
   "cell_type": "code",
   "execution_count": 116,
   "metadata": {},
   "outputs": [
    {
     "name": "stdout",
     "output_type": "stream",
     "text": [
      "\n",
      "R-squared train:\n",
      "0.004379886670989763\n",
      "\n",
      "R-squared test:\n",
      "-0.022705603892639648\n"
     ]
    }
   ],
   "source": [
    "# Display the attributes calculated.\n",
    "\n",
    "print('\\nR-squared train:')\n",
    "print(gbr_gold.score(x_train_gold, y_train_gold))\n",
    "\n",
    "print('\\nR-squared test:')\n",
    "print(gbr_gold.score(x_test_gold, y_test_gold))"
   ]
  },
  {
   "cell_type": "markdown",
   "metadata": {},
   "source": [
    "Not very impressive results !  These 3 models are showing a very poor predictive value for daily price change given the day of the week.  Strange, since the ttest showed a significant difference.  To further investigate, a barplot is displayed next:"
   ]
  },
  {
   "cell_type": "code",
   "execution_count": 117,
   "metadata": {},
   "outputs": [
    {
     "name": "stderr",
     "output_type": "stream",
     "text": [
      "C:\\Users\\Fred\\Anaconda3\\lib\\site-packages\\scipy\\stats\\stats.py:1713: FutureWarning: Using a non-tuple sequence for multidimensional indexing is deprecated; use `arr[tuple(seq)]` instead of `arr[seq]`. In the future this will be interpreted as an array index, `arr[np.array(seq)]`, which will result either in an error or a different result.\n",
      "  return np.add.reduce(sorted[indexer] * weights, axis=axis) / sumval\n"
     ]
    },
    {
     "data": {
      "image/png": "[encoded data removed]",
      "text/plain": [
       "<Figure size 720x432 with 1 Axes>"
      ]
     },
     "metadata": {},
     "output_type": "display_data"
    }
   ],
   "source": [
    "sns.set(style=\"whitegrid\", rc={'figure.figsize':(10, 6)})\n",
    "plt.xlabel('Day of Week')\n",
    "plt.ylabel('Daily Price Change')\n",
    "sns.barplot(x='weekday', y='change', ci=95, data=df_gold_barplot)\n",
    "plt.show()"
   ]
  },
  {
   "cell_type": "markdown",
   "metadata": {},
   "source": [
    "This clearly shows a difference in the day of the week for Mondays and Thursdays at the very least.  With a 95% level of confidence, this shows that the mean range (which is the average daily change over the entire 10 years) of Monday or Tuesday does not even overlap with the mean range on Thursday.  This is illustrated by the vertical black line for each day of the week above.  \n",
    "\n",
    "Maybe converting the regression models to classification will improve the accuracy.  Instead of trying to predict the specific price movement, another option would be to try to predict if the price change will be positive or negative.  Next, the change price is converted to a 1 or 0, for an increase or decrease in price, respectively."
   ]
  },
  {
   "cell_type": "code",
   "execution_count": 118,
   "metadata": {},
   "outputs": [],
   "source": [
    "# convert to binary\n",
    "df_bin['binary'] = np.where(df_bin.change > 0, 1, 0)"
   ]
  },
  {
   "cell_type": "code",
   "execution_count": 119,
   "metadata": {},
   "outputs": [
    {
     "data": {
      "text/html": [
       "<div>\n",
       "<style scoped>\n",
       "    .dataframe tbody tr th:only-of-type {\n",
       "        vertical-align: middle;\n",
       "    }\n",
       "\n",
       "    .dataframe tbody tr th {\n",
       "        vertical-align: top;\n",
       "    }\n",
       "\n",
       "    .dataframe thead th {\n",
       "        text-align: right;\n",
       "    }\n",
       "</style>\n",
       "<table border=\"1\" class=\"dataframe\">\n",
       "  <thead>\n",
       "    <tr style=\"text-align: right;\">\n",
       "      <th></th>\n",
       "      <th>weekday</th>\n",
       "      <th>change</th>\n",
       "      <th>binary</th>\n",
       "    </tr>\n",
       "  </thead>\n",
       "  <tbody>\n",
       "    <tr>\n",
       "      <th>0</th>\n",
       "      <td>4</td>\n",
       "      <td>0.000</td>\n",
       "      <td>0</td>\n",
       "    </tr>\n",
       "    <tr>\n",
       "      <th>1</th>\n",
       "      <td>0</td>\n",
       "      <td>-2.433</td>\n",
       "      <td>0</td>\n",
       "    </tr>\n",
       "    <tr>\n",
       "      <th>2</th>\n",
       "      <td>1</td>\n",
       "      <td>-3.436</td>\n",
       "      <td>0</td>\n",
       "    </tr>\n",
       "    <tr>\n",
       "      <th>3</th>\n",
       "      <td>2</td>\n",
       "      <td>0.599</td>\n",
       "      <td>1</td>\n",
       "    </tr>\n",
       "    <tr>\n",
       "      <th>4</th>\n",
       "      <td>3</td>\n",
       "      <td>4.412</td>\n",
       "      <td>1</td>\n",
       "    </tr>\n",
       "  </tbody>\n",
       "</table>\n",
       "</div>"
      ],
      "text/plain": [
       "   weekday  change  binary\n",
       "0        4   0.000       0\n",
       "1        0  -2.433       0\n",
       "2        1  -3.436       0\n",
       "3        2   0.599       1\n",
       "4        3   4.412       1"
      ]
     },
     "execution_count": 119,
     "metadata": {},
     "output_type": "execute_result"
    }
   ],
   "source": [
    "df_bin.head()"
   ]
  },
  {
   "cell_type": "markdown",
   "metadata": {},
   "source": [
    "### Logistic Regression"
   ]
  },
  {
   "cell_type": "code",
   "execution_count": 120,
   "metadata": {},
   "outputs": [
    {
     "name": "stdout",
     "output_type": "stream",
     "text": [
      "(2020, 2)\n",
      "(505, 2)\n"
     ]
    }
   ],
   "source": [
    "# drop 'change' column\n",
    "df_bin.drop(['change'], axis=1, inplace=True)\n",
    "\n",
    "# Create training and test sets.\n",
    "offset_bin = int(df_bin.shape[0] * 0.8)\n",
    "\n",
    "df_train_bin = df_bin[:offset_bin]\n",
    "df_test_bin = df_bin[offset_bin:]\n",
    "\n",
    "print(df_train_bin.shape)\n",
    "print(df_test_bin.shape)"
   ]
  },
  {
   "cell_type": "code",
   "execution_count": 121,
   "metadata": {},
   "outputs": [
    {
     "name": "stdout",
     "output_type": "stream",
     "text": [
      "\n",
      "Duration: 0:00:00.134007\n"
     ]
    },
    {
     "name": "stderr",
     "output_type": "stream",
     "text": [
      "C:\\Users\\Fred\\Anaconda3\\lib\\site-packages\\pandas\\core\\frame.py:3940: SettingWithCopyWarning: \n",
      "A value is trying to be set on a copy of a slice from a DataFrame\n",
      "\n",
      "See the caveats in the documentation: http://pandas.pydata.org/pandas-docs/stable/indexing.html#indexing-view-versus-copy\n",
      "  errors=errors)\n",
      "C:\\Users\\Fred\\Anaconda3\\lib\\site-packages\\pandas\\core\\frame.py:3940: SettingWithCopyWarning: \n",
      "A value is trying to be set on a copy of a slice from a DataFrame\n",
      "\n",
      "See the caveats in the documentation: http://pandas.pydata.org/pandas-docs/stable/indexing.html#indexing-view-versus-copy\n",
      "  errors=errors)\n",
      "C:\\Users\\Fred\\Anaconda3\\lib\\site-packages\\sklearn\\linear_model\\logistic.py:433: FutureWarning: Default solver will be changed to 'lbfgs' in 0.22. Specify a solver to silence this warning.\n",
      "  FutureWarning)\n"
     ]
    }
   ],
   "source": [
    "# 1.  Linear Regression\n",
    "\n",
    "from datetime import datetime\n",
    "start_time = datetime.now()\n",
    "\n",
    "# Instantiate our model.\n",
    "regr_bin = linear_model.LogisticRegression()\n",
    "\n",
    "# set features and dependent variable for training data\n",
    "y_train_bin = df_train_bin['binary'].values\n",
    "\n",
    "# drop the 'binary' column to obtain the feature inputs\n",
    "df_train_bin.drop(['binary'], axis=1, inplace=True)\n",
    "\n",
    "# normalize the training data\n",
    "x_train_bin = sklearn.preprocessing.normalize(df_train_bin)\n",
    "\n",
    "# now for test...\n",
    "y_test_bin = df_test_bin['binary'].values\n",
    "\n",
    "# drop the 'binary' column to obtain the feature inputs\n",
    "df_test_bin.drop(['binary'], axis=1, inplace=True)\n",
    "\n",
    "# normalize the test data\n",
    "x_test_bin = sklearn.preprocessing.normalize(df_test_bin)\n",
    "\n",
    "# fit model to training data\n",
    "regr_bin.fit(x_train_bin, y_train_bin)\n",
    "\n",
    "end_time = datetime.now()\n",
    "print('\\nDuration: {}'.format(end_time - start_time))"
   ]
  },
  {
   "cell_type": "code",
   "execution_count": 122,
   "metadata": {},
   "outputs": [
    {
     "name": "stdout",
     "output_type": "stream",
     "text": [
      "Coefficients: \n",
      " [[-0.42538643]]\n",
      "Intercept: \n",
      " [0.33994285]\n",
      "\n",
      "R-squared train:\n",
      "0.5336633663366337\n",
      "\n",
      "R-squared test:\n",
      "0.4871287128712871\n"
     ]
    }
   ],
   "source": [
    "# Display the attributes calculated.\n",
    "print('Coefficients: \\n', regr_bin.coef_)\n",
    "print('Intercept: \\n', regr_bin.intercept_)\n",
    "print('\\nR-squared train:')\n",
    "print(regr_bin.score(x_train_bin, y_train_bin))\n",
    "\n",
    "print('\\nR-squared test:')\n",
    "print(regr_bin.score(x_test_bin, y_test_bin))"
   ]
  },
  {
   "cell_type": "markdown",
   "metadata": {},
   "source": [
    "### Random Forest Classifier"
   ]
  },
  {
   "cell_type": "code",
   "execution_count": 123,
   "metadata": {},
   "outputs": [
    {
     "data": {
      "text/plain": [
       "RandomForestClassifier(bootstrap=True, class_weight=None, criterion='gini',\n",
       "            max_depth=None, max_features='auto', max_leaf_nodes=None,\n",
       "            min_impurity_decrease=0.0, min_impurity_split=None,\n",
       "            min_samples_leaf=1, min_samples_split=2,\n",
       "            min_weight_fraction_leaf=0.0, n_estimators=500, n_jobs=None,\n",
       "            oob_score=False, random_state=None, verbose=0,\n",
       "            warm_start=False)"
      ]
     },
     "execution_count": 123,
     "metadata": {},
     "output_type": "execute_result"
    }
   ],
   "source": [
    "# 2.  Random Forest Classifier\n",
    "\n",
    "from sklearn.ensemble import RandomForestClassifier\n",
    "\n",
    "# Instantiate our model.\n",
    "rfc_bin = RandomForestClassifier(n_estimators=500)\n",
    "\n",
    "# fit model to data\n",
    "rfc_bin.fit(x_train_bin, y_train_bin)"
   ]
  },
  {
   "cell_type": "code",
   "execution_count": 124,
   "metadata": {},
   "outputs": [
    {
     "name": "stdout",
     "output_type": "stream",
     "text": [
      "\n",
      "R-squared train:\n",
      "0.5336633663366337\n",
      "\n",
      "R-squared test:\n",
      "0.4871287128712871\n"
     ]
    }
   ],
   "source": [
    "# Display the attributes calculated.\n",
    "\n",
    "print('\\nR-squared train:')\n",
    "print(rfc_bin.score(x_train_bin, y_train_bin))\n",
    "\n",
    "print('\\nR-squared test:')\n",
    "print(rfc_bin.score(x_test_bin, y_test_bin))"
   ]
  },
  {
   "cell_type": "markdown",
   "metadata": {},
   "source": [
    "### Gradient Boosting Classifier"
   ]
  },
  {
   "cell_type": "code",
   "execution_count": 125,
   "metadata": {},
   "outputs": [
    {
     "data": {
      "text/plain": [
       "GradientBoostingClassifier(criterion='friedman_mse', init=None,\n",
       "              learning_rate=0.1, loss='deviance', max_depth=3,\n",
       "              max_features=None, max_leaf_nodes=None,\n",
       "              min_impurity_decrease=0.0, min_impurity_split=None,\n",
       "              min_samples_leaf=1, min_samples_split=2,\n",
       "              min_weight_fraction_leaf=0.0, n_estimators=500,\n",
       "              n_iter_no_change=None, presort='auto', random_state=None,\n",
       "              subsample=1.0, tol=0.0001, validation_fraction=0.1,\n",
       "              verbose=0, warm_start=False)"
      ]
     },
     "execution_count": 125,
     "metadata": {},
     "output_type": "execute_result"
    }
   ],
   "source": [
    "# 3.  Gradient Boosting Regression\n",
    "\n",
    "from sklearn.ensemble import GradientBoostingClassifier\n",
    "\n",
    "# Instantiate our model.\n",
    "gbc_bin = GradientBoostingClassifier(n_estimators=500)\n",
    "\n",
    "# fit model to data\n",
    "gbc_bin.fit(x_train_bin, y_train_bin)"
   ]
  },
  {
   "cell_type": "code",
   "execution_count": 126,
   "metadata": {},
   "outputs": [
    {
     "name": "stdout",
     "output_type": "stream",
     "text": [
      "\n",
      "R-squared train:\n",
      "0.5336633663366337\n",
      "\n",
      "R-squared test:\n",
      "0.4871287128712871\n"
     ]
    }
   ],
   "source": [
    "# Display the attributes calculated.\n",
    "\n",
    "print('\\nR-squared train:')\n",
    "print(gbc_bin.score(x_train_bin, y_train_bin))\n",
    "\n",
    "print('\\nR-squared test:')\n",
    "print(gbc_bin.score(x_test_bin, y_test_bin))"
   ]
  },
  {
   "cell_type": "markdown",
   "metadata": {},
   "source": [
    "Looks like converting the model to binary did not help the predictive accuracy at all.  The ground truth is 0.50 and the score for test data is less than that.  From these models, the day of the week does not appear to have any predictive value.  \n",
    "\n",
    "Next, create 5 new columns for Monday through Friday and set each column equal to 1 if it represents that day or 0 otherwise to see if this helps the predictive accuracy."
   ]
  },
  {
   "cell_type": "code",
   "execution_count": 127,
   "metadata": {},
   "outputs": [
    {
     "data": {
      "text/plain": [
       "weekday    int64\n",
       "binary     int32\n",
       "dtype: object"
      ]
     },
     "execution_count": 127,
     "metadata": {},
     "output_type": "execute_result"
    }
   ],
   "source": [
    "# check the data types for the gold binary dataframe\n",
    "df_bin.dtypes"
   ]
  },
  {
   "cell_type": "code",
   "execution_count": 128,
   "metadata": {},
   "outputs": [
    {
     "data": {
      "text/html": [
       "<div>\n",
       "<style scoped>\n",
       "    .dataframe tbody tr th:only-of-type {\n",
       "        vertical-align: middle;\n",
       "    }\n",
       "\n",
       "    .dataframe tbody tr th {\n",
       "        vertical-align: top;\n",
       "    }\n",
       "\n",
       "    .dataframe thead th {\n",
       "        text-align: right;\n",
       "    }\n",
       "</style>\n",
       "<table border=\"1\" class=\"dataframe\">\n",
       "  <thead>\n",
       "    <tr style=\"text-align: right;\">\n",
       "      <th></th>\n",
       "      <th>weekday</th>\n",
       "      <th>binary</th>\n",
       "    </tr>\n",
       "  </thead>\n",
       "  <tbody>\n",
       "    <tr>\n",
       "      <th>0</th>\n",
       "      <td>4</td>\n",
       "      <td>0</td>\n",
       "    </tr>\n",
       "    <tr>\n",
       "      <th>1</th>\n",
       "      <td>0</td>\n",
       "      <td>0</td>\n",
       "    </tr>\n",
       "    <tr>\n",
       "      <th>2</th>\n",
       "      <td>1</td>\n",
       "      <td>0</td>\n",
       "    </tr>\n",
       "    <tr>\n",
       "      <th>3</th>\n",
       "      <td>2</td>\n",
       "      <td>1</td>\n",
       "    </tr>\n",
       "    <tr>\n",
       "      <th>4</th>\n",
       "      <td>3</td>\n",
       "      <td>1</td>\n",
       "    </tr>\n",
       "  </tbody>\n",
       "</table>\n",
       "</div>"
      ],
      "text/plain": [
       "   weekday  binary\n",
       "0        4       0\n",
       "1        0       0\n",
       "2        1       0\n",
       "3        2       1\n",
       "4        3       1"
      ]
     },
     "execution_count": 128,
     "metadata": {},
     "output_type": "execute_result"
    }
   ],
   "source": [
    "df_bin.head()"
   ]
  },
  {
   "cell_type": "code",
   "execution_count": 129,
   "metadata": {},
   "outputs": [],
   "source": [
    "df_bin['zero'] = np.where(df_bin.weekday == 0, 1, 0)\n",
    "df_bin['one'] = np.where(df_bin.weekday == 1, 1, 0)\n",
    "df_bin['two'] = np.where(df_bin.weekday == 2, 1, 0)\n",
    "df_bin['three'] = np.where(df_bin.weekday == 3, 1, 0)\n",
    "df_bin['four'] = np.where(df_bin.weekday == 4, 1, 0)\n",
    "\n",
    "df_bin.drop(['weekday'], axis=1, inplace=True)"
   ]
  },
  {
   "cell_type": "code",
   "execution_count": 130,
   "metadata": {},
   "outputs": [
    {
     "data": {
      "text/html": [
       "<div>\n",
       "<style scoped>\n",
       "    .dataframe tbody tr th:only-of-type {\n",
       "        vertical-align: middle;\n",
       "    }\n",
       "\n",
       "    .dataframe tbody tr th {\n",
       "        vertical-align: top;\n",
       "    }\n",
       "\n",
       "    .dataframe thead th {\n",
       "        text-align: right;\n",
       "    }\n",
       "</style>\n",
       "<table border=\"1\" class=\"dataframe\">\n",
       "  <thead>\n",
       "    <tr style=\"text-align: right;\">\n",
       "      <th></th>\n",
       "      <th>binary</th>\n",
       "      <th>zero</th>\n",
       "      <th>one</th>\n",
       "      <th>two</th>\n",
       "      <th>three</th>\n",
       "      <th>four</th>\n",
       "    </tr>\n",
       "  </thead>\n",
       "  <tbody>\n",
       "    <tr>\n",
       "      <th>0</th>\n",
       "      <td>0</td>\n",
       "      <td>0</td>\n",
       "      <td>0</td>\n",
       "      <td>0</td>\n",
       "      <td>0</td>\n",
       "      <td>1</td>\n",
       "    </tr>\n",
       "    <tr>\n",
       "      <th>1</th>\n",
       "      <td>0</td>\n",
       "      <td>1</td>\n",
       "      <td>0</td>\n",
       "      <td>0</td>\n",
       "      <td>0</td>\n",
       "      <td>0</td>\n",
       "    </tr>\n",
       "    <tr>\n",
       "      <th>2</th>\n",
       "      <td>0</td>\n",
       "      <td>0</td>\n",
       "      <td>1</td>\n",
       "      <td>0</td>\n",
       "      <td>0</td>\n",
       "      <td>0</td>\n",
       "    </tr>\n",
       "    <tr>\n",
       "      <th>3</th>\n",
       "      <td>1</td>\n",
       "      <td>0</td>\n",
       "      <td>0</td>\n",
       "      <td>1</td>\n",
       "      <td>0</td>\n",
       "      <td>0</td>\n",
       "    </tr>\n",
       "    <tr>\n",
       "      <th>4</th>\n",
       "      <td>1</td>\n",
       "      <td>0</td>\n",
       "      <td>0</td>\n",
       "      <td>0</td>\n",
       "      <td>1</td>\n",
       "      <td>0</td>\n",
       "    </tr>\n",
       "  </tbody>\n",
       "</table>\n",
       "</div>"
      ],
      "text/plain": [
       "   binary  zero  one  two  three  four\n",
       "0       0     0    0    0      0     1\n",
       "1       0     1    0    0      0     0\n",
       "2       0     0    1    0      0     0\n",
       "3       1     0    0    1      0     0\n",
       "4       1     0    0    0      1     0"
      ]
     },
     "execution_count": 130,
     "metadata": {},
     "output_type": "execute_result"
    }
   ],
   "source": [
    "df_bin.head()"
   ]
  },
  {
   "cell_type": "code",
   "execution_count": 131,
   "metadata": {},
   "outputs": [
    {
     "name": "stdout",
     "output_type": "stream",
     "text": [
      "(2020, 6)\n",
      "(505, 6)\n"
     ]
    }
   ],
   "source": [
    "# Create training and test sets.\n",
    "offset_bin = int(df_bin.shape[0] * 0.8)\n",
    "\n",
    "df_train_bin = df_bin[:offset_bin]\n",
    "df_test_bin = df_bin[offset_bin:]\n",
    "\n",
    "print(df_train_bin.shape)\n",
    "print(df_test_bin.shape)"
   ]
  },
  {
   "cell_type": "code",
   "execution_count": 132,
   "metadata": {},
   "outputs": [
    {
     "name": "stderr",
     "output_type": "stream",
     "text": [
      "C:\\Users\\Fred\\Anaconda3\\lib\\site-packages\\pandas\\core\\frame.py:3940: SettingWithCopyWarning: \n",
      "A value is trying to be set on a copy of a slice from a DataFrame\n",
      "\n",
      "See the caveats in the documentation: http://pandas.pydata.org/pandas-docs/stable/indexing.html#indexing-view-versus-copy\n",
      "  errors=errors)\n",
      "C:\\Users\\Fred\\Anaconda3\\lib\\site-packages\\sklearn\\linear_model\\logistic.py:433: FutureWarning: Default solver will be changed to 'lbfgs' in 0.22. Specify a solver to silence this warning.\n",
      "  FutureWarning)\n"
     ]
    }
   ],
   "source": [
    "# 1.  Logistic Regression\n",
    "\n",
    "from datetime import datetime\n",
    "start_time = datetime.now()\n",
    "\n",
    "# Instantiate our model.\n",
    "regr_bin2 = linear_model.LogisticRegression()\n",
    "\n",
    "# set features and dependent variable for training data\n",
    "y_train_bin = df_train_bin['binary'].values\n",
    "\n",
    "# drop the 'binary' column to obtain the feature inputs\n",
    "df_train_bin.drop(['binary'], axis=1, inplace=True)\n",
    "\n",
    "# normalize the training data\n",
    "# x_train_bin = sklearn.preprocessing.normalize(df_train_bin)\n",
    "x_train_bin = df_train_bin\n",
    "\n",
    "# now for test...\n",
    "y_test_bin = df_test_bin['binary'].values\n",
    "\n",
    "# drop the 'binary' column to obtain the feature inputs\n",
    "df_test_bin.drop(['binary'], axis=1, inplace=True)\n",
    "\n",
    "# normalize the test data\n",
    "# x_test_bin = sklearn.preprocessing.normalize(df_test_bin)\n",
    "x_test_bin = df_test_bin\n",
    "\n",
    "# fit model to training data\n",
    "regr_bin2.fit(x_train_bin, y_train_bin)\n",
    "\n",
    "end_time = datetime.now()"
   ]
  },
  {
   "cell_type": "code",
   "execution_count": 133,
   "metadata": {},
   "outputs": [
    {
     "name": "stdout",
     "output_type": "stream",
     "text": [
      "Coefficients: \n",
      " [[ 0.34449171  0.06264548 -0.01916885 -0.23071585 -0.15721648]]\n",
      "Intercept: \n",
      " [3.60017857e-05]\n",
      "\n",
      "R-squared train:\n",
      "0.5400990099009901\n",
      "\n",
      "R-squared test:\n",
      "0.48514851485148514\n"
     ]
    }
   ],
   "source": [
    "# Display the attributes calculated.\n",
    "print('Coefficients: \\n', regr_bin2.coef_)\n",
    "print('Intercept: \\n', regr_bin2.intercept_)\n",
    "print('\\nR-squared train:')\n",
    "print(regr_bin2.score(x_train_bin, y_train_bin))\n",
    "\n",
    "print('\\nR-squared test:')\n",
    "print(regr_bin2.score(x_test_bin, y_test_bin))"
   ]
  },
  {
   "cell_type": "markdown",
   "metadata": {},
   "source": [
    "Still no evidence of any kind of predictive value for day of the week."
   ]
  },
  {
   "cell_type": "code",
   "execution_count": null,
   "metadata": {},
   "outputs": [],
   "source": []
  },
  {
   "cell_type": "code",
   "execution_count": null,
   "metadata": {},
   "outputs": [],
   "source": []
  },
  {
   "cell_type": "markdown",
   "metadata": {},
   "source": [
    "# 3.  Weather and Financial Data Combined"
   ]
  },
  {
   "cell_type": "code",
   "execution_count": 134,
   "metadata": {},
   "outputs": [
    {
     "data": {
      "text/html": [
       "<div>\n",
       "<style scoped>\n",
       "    .dataframe tbody tr th:only-of-type {\n",
       "        vertical-align: middle;\n",
       "    }\n",
       "\n",
       "    .dataframe tbody tr th {\n",
       "        vertical-align: top;\n",
       "    }\n",
       "\n",
       "    .dataframe thead th {\n",
       "        text-align: right;\n",
       "    }\n",
       "</style>\n",
       "<table border=\"1\" class=\"dataframe\">\n",
       "  <thead>\n",
       "    <tr style=\"text-align: right;\">\n",
       "      <th></th>\n",
       "      <th>Sun</th>\n",
       "    </tr>\n",
       "    <tr>\n",
       "      <th>dt</th>\n",
       "      <th></th>\n",
       "    </tr>\n",
       "  </thead>\n",
       "  <tbody>\n",
       "    <tr>\n",
       "      <th>2009-06-25</th>\n",
       "      <td>0.00</td>\n",
       "    </tr>\n",
       "    <tr>\n",
       "      <th>2009-06-26</th>\n",
       "      <td>418.70</td>\n",
       "    </tr>\n",
       "    <tr>\n",
       "      <th>2009-06-27</th>\n",
       "      <td>743.23</td>\n",
       "    </tr>\n",
       "    <tr>\n",
       "      <th>2009-06-28</th>\n",
       "      <td>436.08</td>\n",
       "    </tr>\n",
       "    <tr>\n",
       "      <th>2009-06-29</th>\n",
       "      <td>848.28</td>\n",
       "    </tr>\n",
       "  </tbody>\n",
       "</table>\n",
       "</div>"
      ],
      "text/plain": [
       "               Sun\n",
       "dt                \n",
       "2009-06-25    0.00\n",
       "2009-06-26  418.70\n",
       "2009-06-27  743.23\n",
       "2009-06-28  436.08\n",
       "2009-06-29  848.28"
      ]
     },
     "execution_count": 134,
     "metadata": {},
     "output_type": "execute_result"
    }
   ],
   "source": [
    "dfw.head()"
   ]
  },
  {
   "cell_type": "code",
   "execution_count": 135,
   "metadata": {},
   "outputs": [
    {
     "data": {
      "text/html": [
       "<div>\n",
       "<style scoped>\n",
       "    .dataframe tbody tr th:only-of-type {\n",
       "        vertical-align: middle;\n",
       "    }\n",
       "\n",
       "    .dataframe tbody tr th {\n",
       "        vertical-align: top;\n",
       "    }\n",
       "\n",
       "    .dataframe thead th {\n",
       "        text-align: right;\n",
       "    }\n",
       "</style>\n",
       "<table border=\"1\" class=\"dataframe\">\n",
       "  <thead>\n",
       "    <tr style=\"text-align: right;\">\n",
       "      <th></th>\n",
       "      <th>avg_temp</th>\n",
       "    </tr>\n",
       "    <tr>\n",
       "      <th>dt</th>\n",
       "      <th></th>\n",
       "    </tr>\n",
       "  </thead>\n",
       "  <tbody>\n",
       "    <tr>\n",
       "      <th>2009-06-25</th>\n",
       "      <td>71.72</td>\n",
       "    </tr>\n",
       "    <tr>\n",
       "      <th>2009-06-26</th>\n",
       "      <td>76.91</td>\n",
       "    </tr>\n",
       "    <tr>\n",
       "      <th>2009-06-27</th>\n",
       "      <td>76.34</td>\n",
       "    </tr>\n",
       "    <tr>\n",
       "      <th>2009-06-28</th>\n",
       "      <td>72.35</td>\n",
       "    </tr>\n",
       "    <tr>\n",
       "      <th>2009-06-29</th>\n",
       "      <td>75.43</td>\n",
       "    </tr>\n",
       "  </tbody>\n",
       "</table>\n",
       "</div>"
      ],
      "text/plain": [
       "            avg_temp\n",
       "dt                  \n",
       "2009-06-25     71.72\n",
       "2009-06-26     76.91\n",
       "2009-06-27     76.34\n",
       "2009-06-28     72.35\n",
       "2009-06-29     75.43"
      ]
     },
     "execution_count": 135,
     "metadata": {},
     "output_type": "execute_result"
    }
   ],
   "source": [
    "dft.head()"
   ]
  },
  {
   "cell_type": "markdown",
   "metadata": {},
   "source": [
    "Reset the index of this dataframe in order to merge this data with another dataframe."
   ]
  },
  {
   "cell_type": "code",
   "execution_count": 136,
   "metadata": {},
   "outputs": [],
   "source": [
    "# reset the index of this dataframe in order to merge this data with another dataframe\n",
    "dfw.reset_index(level=0, inplace=True)\n",
    "dft.reset_index(level=0, inplace=True)"
   ]
  },
  {
   "cell_type": "markdown",
   "metadata": {},
   "source": [
    "Check to make sure the data is captured for the entire horizon for S&P 500:"
   ]
  },
  {
   "cell_type": "code",
   "execution_count": 137,
   "metadata": {},
   "outputs": [
    {
     "data": {
      "text/html": [
       "<div>\n",
       "<style scoped>\n",
       "    .dataframe tbody tr th:only-of-type {\n",
       "        vertical-align: middle;\n",
       "    }\n",
       "\n",
       "    .dataframe tbody tr th {\n",
       "        vertical-align: top;\n",
       "    }\n",
       "\n",
       "    .dataframe thead th {\n",
       "        text-align: right;\n",
       "    }\n",
       "</style>\n",
       "<table border=\"1\" class=\"dataframe\">\n",
       "  <thead>\n",
       "    <tr style=\"text-align: right;\">\n",
       "      <th></th>\n",
       "      <th>weekday</th>\n",
       "      <th>day</th>\n",
       "      <th>month</th>\n",
       "      <th>change</th>\n",
       "    </tr>\n",
       "    <tr>\n",
       "      <th>DATE</th>\n",
       "      <th></th>\n",
       "      <th></th>\n",
       "      <th></th>\n",
       "      <th></th>\n",
       "    </tr>\n",
       "  </thead>\n",
       "  <tbody>\n",
       "    <tr>\n",
       "      <th>2019-06-19</th>\n",
       "      <td>2</td>\n",
       "      <td>19</td>\n",
       "      <td>6</td>\n",
       "      <td>8.71</td>\n",
       "    </tr>\n",
       "    <tr>\n",
       "      <th>2019-06-20</th>\n",
       "      <td>3</td>\n",
       "      <td>20</td>\n",
       "      <td>6</td>\n",
       "      <td>27.72</td>\n",
       "    </tr>\n",
       "    <tr>\n",
       "      <th>2019-06-21</th>\n",
       "      <td>4</td>\n",
       "      <td>21</td>\n",
       "      <td>6</td>\n",
       "      <td>-3.72</td>\n",
       "    </tr>\n",
       "    <tr>\n",
       "      <th>2019-06-24</th>\n",
       "      <td>0</td>\n",
       "      <td>24</td>\n",
       "      <td>6</td>\n",
       "      <td>-5.11</td>\n",
       "    </tr>\n",
       "    <tr>\n",
       "      <th>2019-06-25</th>\n",
       "      <td>1</td>\n",
       "      <td>25</td>\n",
       "      <td>6</td>\n",
       "      <td>-27.97</td>\n",
       "    </tr>\n",
       "  </tbody>\n",
       "</table>\n",
       "</div>"
      ],
      "text/plain": [
       "            weekday  day  month  change\n",
       "DATE                                   \n",
       "2019-06-19        2   19      6    8.71\n",
       "2019-06-20        3   20      6   27.72\n",
       "2019-06-21        4   21      6   -3.72\n",
       "2019-06-24        0   24      6   -5.11\n",
       "2019-06-25        1   25      6  -27.97"
      ]
     },
     "execution_count": 137,
     "metadata": {},
     "output_type": "execute_result"
    }
   ],
   "source": [
    "df.tail()"
   ]
  },
  {
   "cell_type": "markdown",
   "metadata": {},
   "source": [
    "Print the columns of the data frame for S&P 500 and reset the index for merging data with weather data:"
   ]
  },
  {
   "cell_type": "code",
   "execution_count": 138,
   "metadata": {},
   "outputs": [
    {
     "name": "stdout",
     "output_type": "stream",
     "text": [
      "Index(['weekday', 'day', 'month', 'change'], dtype='object')\n"
     ]
    }
   ],
   "source": [
    "# print columns and reset index\n",
    "print(df.columns)\n",
    "df.reset_index(level=0, inplace=True)"
   ]
  },
  {
   "cell_type": "code",
   "execution_count": 139,
   "metadata": {},
   "outputs": [
    {
     "data": {
      "text/html": [
       "<div>\n",
       "<style scoped>\n",
       "    .dataframe tbody tr th:only-of-type {\n",
       "        vertical-align: middle;\n",
       "    }\n",
       "\n",
       "    .dataframe tbody tr th {\n",
       "        vertical-align: top;\n",
       "    }\n",
       "\n",
       "    .dataframe thead th {\n",
       "        text-align: right;\n",
       "    }\n",
       "</style>\n",
       "<table border=\"1\" class=\"dataframe\">\n",
       "  <thead>\n",
       "    <tr style=\"text-align: right;\">\n",
       "      <th></th>\n",
       "      <th>DATE</th>\n",
       "      <th>weekday</th>\n",
       "      <th>day</th>\n",
       "      <th>month</th>\n",
       "      <th>change</th>\n",
       "    </tr>\n",
       "  </thead>\n",
       "  <tbody>\n",
       "    <tr>\n",
       "      <th>2511</th>\n",
       "      <td>2019-06-19</td>\n",
       "      <td>2</td>\n",
       "      <td>19</td>\n",
       "      <td>6</td>\n",
       "      <td>8.71</td>\n",
       "    </tr>\n",
       "    <tr>\n",
       "      <th>2512</th>\n",
       "      <td>2019-06-20</td>\n",
       "      <td>3</td>\n",
       "      <td>20</td>\n",
       "      <td>6</td>\n",
       "      <td>27.72</td>\n",
       "    </tr>\n",
       "    <tr>\n",
       "      <th>2513</th>\n",
       "      <td>2019-06-21</td>\n",
       "      <td>4</td>\n",
       "      <td>21</td>\n",
       "      <td>6</td>\n",
       "      <td>-3.72</td>\n",
       "    </tr>\n",
       "    <tr>\n",
       "      <th>2514</th>\n",
       "      <td>2019-06-24</td>\n",
       "      <td>0</td>\n",
       "      <td>24</td>\n",
       "      <td>6</td>\n",
       "      <td>-5.11</td>\n",
       "    </tr>\n",
       "    <tr>\n",
       "      <th>2515</th>\n",
       "      <td>2019-06-25</td>\n",
       "      <td>1</td>\n",
       "      <td>25</td>\n",
       "      <td>6</td>\n",
       "      <td>-27.97</td>\n",
       "    </tr>\n",
       "  </tbody>\n",
       "</table>\n",
       "</div>"
      ],
      "text/plain": [
       "           DATE  weekday  day  month  change\n",
       "2511 2019-06-19        2   19      6    8.71\n",
       "2512 2019-06-20        3   20      6   27.72\n",
       "2513 2019-06-21        4   21      6   -3.72\n",
       "2514 2019-06-24        0   24      6   -5.11\n",
       "2515 2019-06-25        1   25      6  -27.97"
      ]
     },
     "execution_count": 139,
     "metadata": {},
     "output_type": "execute_result"
    }
   ],
   "source": [
    "df.tail()"
   ]
  },
  {
   "cell_type": "markdown",
   "metadata": {},
   "source": [
    "Show the data types in the df dataframe:"
   ]
  },
  {
   "cell_type": "code",
   "execution_count": 140,
   "metadata": {},
   "outputs": [
    {
     "data": {
      "text/plain": [
       "DATE       datetime64[ns]\n",
       "weekday             int64\n",
       "day                 int64\n",
       "month               int64\n",
       "change            float64\n",
       "dtype: object"
      ]
     },
     "execution_count": 140,
     "metadata": {},
     "output_type": "execute_result"
    }
   ],
   "source": [
    "df.dtypes"
   ]
  },
  {
   "cell_type": "markdown",
   "metadata": {},
   "source": [
    "Finally, merge the weather data with the financial data for the S&P 500:"
   ]
  },
  {
   "cell_type": "code",
   "execution_count": 141,
   "metadata": {},
   "outputs": [],
   "source": [
    "df_out = (dfw.merge(df, left_on='dt', right_on='DATE')\n",
    "          .reindex(columns=['DATE', 'weekday', 'day', 'month', 'change', 'Sun']))\n",
    "\n",
    "df_out_temp = (dft.merge(df, left_on='dt', right_on='DATE')\n",
    "          .reindex(columns=['DATE', 'weekday', 'day', 'month', 'change', 'avg_temp']))"
   ]
  },
  {
   "cell_type": "code",
   "execution_count": 142,
   "metadata": {},
   "outputs": [
    {
     "data": {
      "text/html": [
       "<div>\n",
       "<style scoped>\n",
       "    .dataframe tbody tr th:only-of-type {\n",
       "        vertical-align: middle;\n",
       "    }\n",
       "\n",
       "    .dataframe tbody tr th {\n",
       "        vertical-align: top;\n",
       "    }\n",
       "\n",
       "    .dataframe thead th {\n",
       "        text-align: right;\n",
       "    }\n",
       "</style>\n",
       "<table border=\"1\" class=\"dataframe\">\n",
       "  <thead>\n",
       "    <tr style=\"text-align: right;\">\n",
       "      <th></th>\n",
       "      <th>DATE</th>\n",
       "      <th>weekday</th>\n",
       "      <th>day</th>\n",
       "      <th>month</th>\n",
       "      <th>change</th>\n",
       "      <th>avg_temp</th>\n",
       "    </tr>\n",
       "  </thead>\n",
       "  <tbody>\n",
       "    <tr>\n",
       "      <th>0</th>\n",
       "      <td>2009-06-26</td>\n",
       "      <td>4</td>\n",
       "      <td>26</td>\n",
       "      <td>6</td>\n",
       "      <td>0.00</td>\n",
       "      <td>76.91</td>\n",
       "    </tr>\n",
       "    <tr>\n",
       "      <th>1</th>\n",
       "      <td>2009-06-29</td>\n",
       "      <td>0</td>\n",
       "      <td>29</td>\n",
       "      <td>6</td>\n",
       "      <td>8.33</td>\n",
       "      <td>75.43</td>\n",
       "    </tr>\n",
       "    <tr>\n",
       "      <th>2</th>\n",
       "      <td>2009-06-30</td>\n",
       "      <td>1</td>\n",
       "      <td>30</td>\n",
       "      <td>6</td>\n",
       "      <td>-7.91</td>\n",
       "      <td>77.41</td>\n",
       "    </tr>\n",
       "    <tr>\n",
       "      <th>3</th>\n",
       "      <td>2009-07-01</td>\n",
       "      <td>2</td>\n",
       "      <td>1</td>\n",
       "      <td>7</td>\n",
       "      <td>4.01</td>\n",
       "      <td>73.40</td>\n",
       "    </tr>\n",
       "    <tr>\n",
       "      <th>4</th>\n",
       "      <td>2009-07-02</td>\n",
       "      <td>3</td>\n",
       "      <td>2</td>\n",
       "      <td>7</td>\n",
       "      <td>-26.91</td>\n",
       "      <td>71.23</td>\n",
       "    </tr>\n",
       "  </tbody>\n",
       "</table>\n",
       "</div>"
      ],
      "text/plain": [
       "        DATE  weekday  day  month  change  avg_temp\n",
       "0 2009-06-26        4   26      6    0.00     76.91\n",
       "1 2009-06-29        0   29      6    8.33     75.43\n",
       "2 2009-06-30        1   30      6   -7.91     77.41\n",
       "3 2009-07-01        2    1      7    4.01     73.40\n",
       "4 2009-07-02        3    2      7  -26.91     71.23"
      ]
     },
     "execution_count": 142,
     "metadata": {},
     "output_type": "execute_result"
    }
   ],
   "source": [
    "df_out_temp.head()"
   ]
  },
  {
   "cell_type": "markdown",
   "metadata": {},
   "source": [
    "The above dataframe shows the merged S&P data with the temperature data.  Next, print the average of the average daily temps:"
   ]
  },
  {
   "cell_type": "code",
   "execution_count": 143,
   "metadata": {},
   "outputs": [
    {
     "name": "stdout",
     "output_type": "stream",
     "text": [
      "55.04181240063589\n"
     ]
    }
   ],
   "source": [
    "print(df_out_temp.avg_temp.mean())"
   ]
  },
  {
   "cell_type": "code",
   "execution_count": 144,
   "metadata": {},
   "outputs": [
    {
     "data": {
      "text/html": [
       "<div>\n",
       "<style scoped>\n",
       "    .dataframe tbody tr th:only-of-type {\n",
       "        vertical-align: middle;\n",
       "    }\n",
       "\n",
       "    .dataframe tbody tr th {\n",
       "        vertical-align: top;\n",
       "    }\n",
       "\n",
       "    .dataframe thead th {\n",
       "        text-align: right;\n",
       "    }\n",
       "</style>\n",
       "<table border=\"1\" class=\"dataframe\">\n",
       "  <thead>\n",
       "    <tr style=\"text-align: right;\">\n",
       "      <th></th>\n",
       "      <th>DATE</th>\n",
       "      <th>weekday</th>\n",
       "      <th>day</th>\n",
       "      <th>month</th>\n",
       "      <th>change</th>\n",
       "      <th>Sun</th>\n",
       "    </tr>\n",
       "  </thead>\n",
       "  <tbody>\n",
       "    <tr>\n",
       "      <th>0</th>\n",
       "      <td>2009-06-26</td>\n",
       "      <td>4</td>\n",
       "      <td>26</td>\n",
       "      <td>6</td>\n",
       "      <td>0.00</td>\n",
       "      <td>418.70</td>\n",
       "    </tr>\n",
       "    <tr>\n",
       "      <th>1</th>\n",
       "      <td>2009-06-29</td>\n",
       "      <td>0</td>\n",
       "      <td>29</td>\n",
       "      <td>6</td>\n",
       "      <td>8.33</td>\n",
       "      <td>848.28</td>\n",
       "    </tr>\n",
       "    <tr>\n",
       "      <th>2</th>\n",
       "      <td>2009-06-30</td>\n",
       "      <td>1</td>\n",
       "      <td>30</td>\n",
       "      <td>6</td>\n",
       "      <td>-7.91</td>\n",
       "      <td>608.00</td>\n",
       "    </tr>\n",
       "    <tr>\n",
       "      <th>3</th>\n",
       "      <td>2009-07-01</td>\n",
       "      <td>2</td>\n",
       "      <td>1</td>\n",
       "      <td>7</td>\n",
       "      <td>4.01</td>\n",
       "      <td>168.86</td>\n",
       "    </tr>\n",
       "    <tr>\n",
       "      <th>4</th>\n",
       "      <td>2009-07-02</td>\n",
       "      <td>3</td>\n",
       "      <td>2</td>\n",
       "      <td>7</td>\n",
       "      <td>-26.91</td>\n",
       "      <td>225.66</td>\n",
       "    </tr>\n",
       "  </tbody>\n",
       "</table>\n",
       "</div>"
      ],
      "text/plain": [
       "        DATE  weekday  day  month  change     Sun\n",
       "0 2009-06-26        4   26      6    0.00  418.70\n",
       "1 2009-06-29        0   29      6    8.33  848.28\n",
       "2 2009-06-30        1   30      6   -7.91  608.00\n",
       "3 2009-07-01        2    1      7    4.01  168.86\n",
       "4 2009-07-02        3    2      7  -26.91  225.66"
      ]
     },
     "execution_count": 144,
     "metadata": {},
     "output_type": "execute_result"
    }
   ],
   "source": [
    "df_out.head()"
   ]
  },
  {
   "cell_type": "markdown",
   "metadata": {},
   "source": [
    "The above dataframe shows the \"change\" for the S&P 500 and the \"Sun\" for the number of hours of sunshine by date.\n",
    "\n",
    "This next step counts the number of hours when the hours of **sunshine is greater than 300** and less than 300.  This cutoff of 300 is a good number because it has roughly the same amount of days above and below the threshold, keeping our data balanced."
   ]
  },
  {
   "cell_type": "code",
   "execution_count": 145,
   "metadata": {},
   "outputs": [],
   "source": [
    "# Creae 4 new columns in the df_out dataframe\n",
    "df_out['sun_300'] = np.where(df_out.Sun >= 300.0, 1, 0)\n",
    "df_out['less_300'] = np.where(df_out.Sun < 300.0, 1, 0)\n",
    "df_out['value_3'] = np.where(df_out.Sun >= 300.0, df_out.change, 0)\n",
    "df_out['value_3_less'] = np.where(df_out.Sun < 300.0, df_out.change, 0)\n",
    "\n",
    "# Creae 4 new columns in the df_out_temp dataframe\n",
    "df_out_temp['tmp_55'] = np.where(df_out_temp.avg_temp >= 55.0, 1, 0)\n",
    "df_out_temp['less_55'] = np.where(df_out_temp.avg_temp < 55.0, 1, 0)\n",
    "df_out_temp['value_55'] = np.where(df_out_temp.avg_temp >= 55.0, df_out_temp.avg_temp, 0)\n",
    "df_out_temp['value_55_less'] = np.where(df_out_temp.avg_temp < 55.0, df_out_temp.avg_temp, 0)"
   ]
  },
  {
   "cell_type": "code",
   "execution_count": 146,
   "metadata": {},
   "outputs": [
    {
     "data": {
      "text/html": [
       "<div>\n",
       "<style scoped>\n",
       "    .dataframe tbody tr th:only-of-type {\n",
       "        vertical-align: middle;\n",
       "    }\n",
       "\n",
       "    .dataframe tbody tr th {\n",
       "        vertical-align: top;\n",
       "    }\n",
       "\n",
       "    .dataframe thead th {\n",
       "        text-align: right;\n",
       "    }\n",
       "</style>\n",
       "<table border=\"1\" class=\"dataframe\">\n",
       "  <thead>\n",
       "    <tr style=\"text-align: right;\">\n",
       "      <th></th>\n",
       "      <th>DATE</th>\n",
       "      <th>weekday</th>\n",
       "      <th>day</th>\n",
       "      <th>month</th>\n",
       "      <th>change</th>\n",
       "      <th>Sun</th>\n",
       "      <th>sun_300</th>\n",
       "      <th>less_300</th>\n",
       "      <th>value_3</th>\n",
       "      <th>value_3_less</th>\n",
       "    </tr>\n",
       "  </thead>\n",
       "  <tbody>\n",
       "    <tr>\n",
       "      <th>0</th>\n",
       "      <td>2009-06-26</td>\n",
       "      <td>4</td>\n",
       "      <td>26</td>\n",
       "      <td>6</td>\n",
       "      <td>0.00</td>\n",
       "      <td>418.70</td>\n",
       "      <td>1</td>\n",
       "      <td>0</td>\n",
       "      <td>0.00</td>\n",
       "      <td>0.00</td>\n",
       "    </tr>\n",
       "    <tr>\n",
       "      <th>1</th>\n",
       "      <td>2009-06-29</td>\n",
       "      <td>0</td>\n",
       "      <td>29</td>\n",
       "      <td>6</td>\n",
       "      <td>8.33</td>\n",
       "      <td>848.28</td>\n",
       "      <td>1</td>\n",
       "      <td>0</td>\n",
       "      <td>8.33</td>\n",
       "      <td>0.00</td>\n",
       "    </tr>\n",
       "    <tr>\n",
       "      <th>2</th>\n",
       "      <td>2009-06-30</td>\n",
       "      <td>1</td>\n",
       "      <td>30</td>\n",
       "      <td>6</td>\n",
       "      <td>-7.91</td>\n",
       "      <td>608.00</td>\n",
       "      <td>1</td>\n",
       "      <td>0</td>\n",
       "      <td>-7.91</td>\n",
       "      <td>0.00</td>\n",
       "    </tr>\n",
       "    <tr>\n",
       "      <th>3</th>\n",
       "      <td>2009-07-01</td>\n",
       "      <td>2</td>\n",
       "      <td>1</td>\n",
       "      <td>7</td>\n",
       "      <td>4.01</td>\n",
       "      <td>168.86</td>\n",
       "      <td>0</td>\n",
       "      <td>1</td>\n",
       "      <td>0.00</td>\n",
       "      <td>4.01</td>\n",
       "    </tr>\n",
       "    <tr>\n",
       "      <th>4</th>\n",
       "      <td>2009-07-02</td>\n",
       "      <td>3</td>\n",
       "      <td>2</td>\n",
       "      <td>7</td>\n",
       "      <td>-26.91</td>\n",
       "      <td>225.66</td>\n",
       "      <td>0</td>\n",
       "      <td>1</td>\n",
       "      <td>0.00</td>\n",
       "      <td>-26.91</td>\n",
       "    </tr>\n",
       "    <tr>\n",
       "      <th>5</th>\n",
       "      <td>2009-07-06</td>\n",
       "      <td>0</td>\n",
       "      <td>6</td>\n",
       "      <td>7</td>\n",
       "      <td>2.30</td>\n",
       "      <td>787.34</td>\n",
       "      <td>1</td>\n",
       "      <td>0</td>\n",
       "      <td>2.30</td>\n",
       "      <td>0.00</td>\n",
       "    </tr>\n",
       "    <tr>\n",
       "      <th>6</th>\n",
       "      <td>2009-07-07</td>\n",
       "      <td>1</td>\n",
       "      <td>7</td>\n",
       "      <td>7</td>\n",
       "      <td>-17.69</td>\n",
       "      <td>291.83</td>\n",
       "      <td>0</td>\n",
       "      <td>1</td>\n",
       "      <td>0.00</td>\n",
       "      <td>-17.69</td>\n",
       "    </tr>\n",
       "    <tr>\n",
       "      <th>7</th>\n",
       "      <td>2009-07-08</td>\n",
       "      <td>2</td>\n",
       "      <td>8</td>\n",
       "      <td>7</td>\n",
       "      <td>-1.47</td>\n",
       "      <td>636.53</td>\n",
       "      <td>1</td>\n",
       "      <td>0</td>\n",
       "      <td>-1.47</td>\n",
       "      <td>0.00</td>\n",
       "    </tr>\n",
       "    <tr>\n",
       "      <th>8</th>\n",
       "      <td>2009-07-09</td>\n",
       "      <td>3</td>\n",
       "      <td>9</td>\n",
       "      <td>7</td>\n",
       "      <td>3.12</td>\n",
       "      <td>639.93</td>\n",
       "      <td>1</td>\n",
       "      <td>0</td>\n",
       "      <td>3.12</td>\n",
       "      <td>0.00</td>\n",
       "    </tr>\n",
       "    <tr>\n",
       "      <th>9</th>\n",
       "      <td>2009-07-10</td>\n",
       "      <td>4</td>\n",
       "      <td>10</td>\n",
       "      <td>7</td>\n",
       "      <td>-3.55</td>\n",
       "      <td>895.12</td>\n",
       "      <td>1</td>\n",
       "      <td>0</td>\n",
       "      <td>-3.55</td>\n",
       "      <td>0.00</td>\n",
       "    </tr>\n",
       "  </tbody>\n",
       "</table>\n",
       "</div>"
      ],
      "text/plain": [
       "        DATE  weekday  day  month  change     Sun  sun_300  less_300  value_3  \\\n",
       "0 2009-06-26        4   26      6    0.00  418.70        1         0     0.00   \n",
       "1 2009-06-29        0   29      6    8.33  848.28        1         0     8.33   \n",
       "2 2009-06-30        1   30      6   -7.91  608.00        1         0    -7.91   \n",
       "3 2009-07-01        2    1      7    4.01  168.86        0         1     0.00   \n",
       "4 2009-07-02        3    2      7  -26.91  225.66        0         1     0.00   \n",
       "5 2009-07-06        0    6      7    2.30  787.34        1         0     2.30   \n",
       "6 2009-07-07        1    7      7  -17.69  291.83        0         1     0.00   \n",
       "7 2009-07-08        2    8      7   -1.47  636.53        1         0    -1.47   \n",
       "8 2009-07-09        3    9      7    3.12  639.93        1         0     3.12   \n",
       "9 2009-07-10        4   10      7   -3.55  895.12        1         0    -3.55   \n",
       "\n",
       "   value_3_less  \n",
       "0          0.00  \n",
       "1          0.00  \n",
       "2          0.00  \n",
       "3          4.01  \n",
       "4        -26.91  \n",
       "5          0.00  \n",
       "6        -17.69  \n",
       "7          0.00  \n",
       "8          0.00  \n",
       "9          0.00  "
      ]
     },
     "execution_count": 146,
     "metadata": {},
     "output_type": "execute_result"
    }
   ],
   "source": [
    "df_out.head(10)"
   ]
  },
  {
   "cell_type": "code",
   "execution_count": 147,
   "metadata": {},
   "outputs": [
    {
     "data": {
      "text/html": [
       "<div>\n",
       "<style scoped>\n",
       "    .dataframe tbody tr th:only-of-type {\n",
       "        vertical-align: middle;\n",
       "    }\n",
       "\n",
       "    .dataframe tbody tr th {\n",
       "        vertical-align: top;\n",
       "    }\n",
       "\n",
       "    .dataframe thead th {\n",
       "        text-align: right;\n",
       "    }\n",
       "</style>\n",
       "<table border=\"1\" class=\"dataframe\">\n",
       "  <thead>\n",
       "    <tr style=\"text-align: right;\">\n",
       "      <th></th>\n",
       "      <th>DATE</th>\n",
       "      <th>weekday</th>\n",
       "      <th>day</th>\n",
       "      <th>month</th>\n",
       "      <th>change</th>\n",
       "      <th>avg_temp</th>\n",
       "      <th>tmp_55</th>\n",
       "      <th>less_55</th>\n",
       "      <th>value_55</th>\n",
       "      <th>value_55_less</th>\n",
       "    </tr>\n",
       "  </thead>\n",
       "  <tbody>\n",
       "    <tr>\n",
       "      <th>0</th>\n",
       "      <td>2009-06-26</td>\n",
       "      <td>4</td>\n",
       "      <td>26</td>\n",
       "      <td>6</td>\n",
       "      <td>0.00</td>\n",
       "      <td>76.91</td>\n",
       "      <td>1</td>\n",
       "      <td>0</td>\n",
       "      <td>76.91</td>\n",
       "      <td>0.0</td>\n",
       "    </tr>\n",
       "    <tr>\n",
       "      <th>1</th>\n",
       "      <td>2009-06-29</td>\n",
       "      <td>0</td>\n",
       "      <td>29</td>\n",
       "      <td>6</td>\n",
       "      <td>8.33</td>\n",
       "      <td>75.43</td>\n",
       "      <td>1</td>\n",
       "      <td>0</td>\n",
       "      <td>75.43</td>\n",
       "      <td>0.0</td>\n",
       "    </tr>\n",
       "    <tr>\n",
       "      <th>2</th>\n",
       "      <td>2009-06-30</td>\n",
       "      <td>1</td>\n",
       "      <td>30</td>\n",
       "      <td>6</td>\n",
       "      <td>-7.91</td>\n",
       "      <td>77.41</td>\n",
       "      <td>1</td>\n",
       "      <td>0</td>\n",
       "      <td>77.41</td>\n",
       "      <td>0.0</td>\n",
       "    </tr>\n",
       "    <tr>\n",
       "      <th>3</th>\n",
       "      <td>2009-07-01</td>\n",
       "      <td>2</td>\n",
       "      <td>1</td>\n",
       "      <td>7</td>\n",
       "      <td>4.01</td>\n",
       "      <td>73.40</td>\n",
       "      <td>1</td>\n",
       "      <td>0</td>\n",
       "      <td>73.40</td>\n",
       "      <td>0.0</td>\n",
       "    </tr>\n",
       "    <tr>\n",
       "      <th>4</th>\n",
       "      <td>2009-07-02</td>\n",
       "      <td>3</td>\n",
       "      <td>2</td>\n",
       "      <td>7</td>\n",
       "      <td>-26.91</td>\n",
       "      <td>71.23</td>\n",
       "      <td>1</td>\n",
       "      <td>0</td>\n",
       "      <td>71.23</td>\n",
       "      <td>0.0</td>\n",
       "    </tr>\n",
       "  </tbody>\n",
       "</table>\n",
       "</div>"
      ],
      "text/plain": [
       "        DATE  weekday  day  month  change  avg_temp  tmp_55  less_55  \\\n",
       "0 2009-06-26        4   26      6    0.00     76.91       1        0   \n",
       "1 2009-06-29        0   29      6    8.33     75.43       1        0   \n",
       "2 2009-06-30        1   30      6   -7.91     77.41       1        0   \n",
       "3 2009-07-01        2    1      7    4.01     73.40       1        0   \n",
       "4 2009-07-02        3    2      7  -26.91     71.23       1        0   \n",
       "\n",
       "   value_55  value_55_less  \n",
       "0     76.91            0.0  \n",
       "1     75.43            0.0  \n",
       "2     77.41            0.0  \n",
       "3     73.40            0.0  \n",
       "4     71.23            0.0  "
      ]
     },
     "execution_count": 147,
     "metadata": {},
     "output_type": "execute_result"
    }
   ],
   "source": [
    "df_out_temp.head()"
   ]
  },
  {
   "cell_type": "markdown",
   "metadata": {},
   "source": [
    "This next step defines some variables to count the number of days when the sunshine hours is above or below a specific threshold; and defines variables that counts the actual points gained or loss over the horizon for each of the two groups."
   ]
  },
  {
   "cell_type": "code",
   "execution_count": 148,
   "metadata": {},
   "outputs": [],
   "source": [
    "# FOR SUNSHINE\n",
    "# count number of days where sunshine is at least 300 hours\n",
    "a = df_out.sun_300.sum()\n",
    "\n",
    "# count number of days where sunshine is less than 300 hours\n",
    "a_less = df_out.less_300.sum()\n",
    "\n",
    "# calculate the points gained when sunshine is at least 300 hours\n",
    "b = np.where(df_out.Sun >= 300.0, df_out.change, 0).sum()\n",
    "\n",
    "# calculate the points gained when sunshine is less than 300 hours\n",
    "c = np.where(df_out.Sun < 300.0, df_out.change, 0).sum()\n",
    "\n",
    "# FOR TEMPERATURE \n",
    "# count number of days where temp is at least 55 degrees F\n",
    "at = df_out_temp.tmp_55.sum()\n",
    "\n",
    "# count number of days where temp is less than 55\n",
    "at_less = df_out_temp.less_55.sum()\n",
    "\n",
    "# calculate the points gained when temp is at least 55\n",
    "bt = np.where(df_out_temp.avg_temp >= 55.0, df_out_temp.change, 0).sum()\n",
    "\n",
    "# calculate the points gained when temp is less than 55\n",
    "ct = np.where(df_out_temp.avg_temp < 55.0, df_out_temp.change, 0).sum()"
   ]
  },
  {
   "cell_type": "markdown",
   "metadata": {},
   "source": [
    "Print the results:"
   ]
  },
  {
   "cell_type": "code",
   "execution_count": 149,
   "metadata": {},
   "outputs": [
    {
     "name": "stdout",
     "output_type": "stream",
     "text": [
      "\n",
      "Total number of days when sun hours is greater than 300:\n",
      "1295\n",
      "\n",
      "Total number of days when sun hours is less than 300:\n",
      "1221\n",
      "\n",
      "Total points gained in S&P 500 when number of sun hours is greater than 300:\n",
      "1159.2999999999988\n",
      "\n",
      "Total points gained in S&P 500 when number of sun hours is less than 300:\n",
      "839.1800000000013\n",
      "\n",
      "Total number of days when temperature is greater than or equal to 55:\n",
      "1314\n",
      "\n",
      "Total number of days when temp is less than 55:\n",
      "1202\n",
      "\n",
      "Total points gained in S&P 500 when temp is greater than 55:\n",
      "1038.2800000000007\n",
      "\n",
      "Total points gained in S&P 500 when temp is less than 55:\n",
      "960.1999999999994\n"
     ]
    }
   ],
   "source": [
    "# FOR SUNSHINE\n",
    "print('\\nTotal number of days when sun hours is greater than 300:')\n",
    "print(a)\n",
    "print('\\nTotal number of days when sun hours is less than 300:')\n",
    "print(a_less)\n",
    "print('\\nTotal points gained in S&P 500 when number of sun hours is greater than 300:')\n",
    "print(b)\n",
    "print('\\nTotal points gained in S&P 500 when number of sun hours is less than 300:')\n",
    "print(c)\n",
    "\n",
    "# FOR TEMPERATURE\n",
    "print('\\nTotal number of days when temperature is greater than or equal to 55:')\n",
    "print(at)\n",
    "print('\\nTotal number of days when temp is less than 55:')\n",
    "print(at_less)\n",
    "print('\\nTotal points gained in S&P 500 when temp is greater than 55:')\n",
    "print(bt)\n",
    "print('\\nTotal points gained in S&P 500 when temp is less than 55:')\n",
    "print(ct)"
   ]
  },
  {
   "cell_type": "markdown",
   "metadata": {},
   "source": [
    "Next, compare the average daily gain / loss of S&P 500 when sunshine hours is greater or less than 300 minutes per day."
   ]
  },
  {
   "cell_type": "code",
   "execution_count": 150,
   "metadata": {},
   "outputs": [
    {
     "name": "stdout",
     "output_type": "stream",
     "text": [
      "\n",
      "Average daily gain of S&P 500 when sun hours is greater than 300:\n",
      "0.8952123552123543\n",
      "\n",
      "Average daily gain of S&P 500 when sun hours is less than 300:\n",
      "0.6872891072891084\n",
      "\n",
      "Average daily gain of S&P 500 when avg temperature is greater than 55:\n",
      "0.7901674277016748\n",
      "\n",
      "Average daily gain of S&P 500 when avg temp is less than 55:\n",
      "0.7988352745424288\n"
     ]
    }
   ],
   "source": [
    "# FOR SUNSHINE\n",
    "print('\\nAverage daily gain of S&P 500 when sun hours is greater than 300:')\n",
    "print(b/a)\n",
    "\n",
    "print('\\nAverage daily gain of S&P 500 when sun hours is less than 300:')\n",
    "print(c/a_less)\n",
    "\n",
    "# FOR TEMPERATURE\n",
    "print('\\nAverage daily gain of S&P 500 when avg temperature is greater than 55:')\n",
    "print(bt/at)\n",
    "\n",
    "print('\\nAverage daily gain of S&P 500 when avg temp is less than 55:')\n",
    "print(ct/at_less)"
   ]
  },
  {
   "cell_type": "markdown",
   "metadata": {},
   "source": [
    "Is this difference signficant for the sunshine data ?  Remember that the overall average for all days over the 10 year period is **0.794** calculated earlier in this notebook.  \n",
    "\n",
    "Obviously, the difference in average price gain / loss for the two different distributions is not significant.  The avg daily gain is **0.790** and **0.800** for days above 55 degrees F and below 55, respectively. \n",
    "\n",
    "Let's quickly try the differences for a 75 degree F vs 35 degree F cutoff:"
   ]
  },
  {
   "cell_type": "code",
   "execution_count": 151,
   "metadata": {},
   "outputs": [],
   "source": [
    "# Creae 4 new columns in the df_out_temp dataframe\n",
    "df_out_temp['tmp_75'] = np.where(df_out_temp.avg_temp > 75.0, 1, 0)\n",
    "df_out_temp['tmp_35'] = np.where(df_out_temp.avg_temp < 35.0, 1, 0)\n",
    "df_out_temp['value_75'] = np.where(df_out_temp.avg_temp > 75.0, df_out_temp.avg_temp, 0)\n",
    "df_out_temp['value_35'] = np.where(df_out_temp.avg_temp < 35.0, df_out_temp.avg_temp, 0)\n",
    "df_out_temp['change_75'] = np.where(df_out_temp.avg_temp > 75.0, df_out_temp.change, 0)\n",
    "df_out_temp['change_35'] = np.where(df_out_temp.avg_temp < 35.0, df_out_temp.change, 0)\n",
    "\n",
    "# drop unnecessary columns\n",
    "df_out_temp.drop(['tmp_55'], axis=1, inplace=True)\n",
    "df_out_temp.drop(['less_55'], axis=1, inplace=True)\n",
    "df_out_temp.drop(['value_55'], axis=1, inplace=True)\n",
    "df_out_temp.drop(['value_55_less'], axis=1, inplace=True)"
   ]
  },
  {
   "cell_type": "code",
   "execution_count": 152,
   "metadata": {},
   "outputs": [
    {
     "data": {
      "text/html": [
       "<div>\n",
       "<style scoped>\n",
       "    .dataframe tbody tr th:only-of-type {\n",
       "        vertical-align: middle;\n",
       "    }\n",
       "\n",
       "    .dataframe tbody tr th {\n",
       "        vertical-align: top;\n",
       "    }\n",
       "\n",
       "    .dataframe thead th {\n",
       "        text-align: right;\n",
       "    }\n",
       "</style>\n",
       "<table border=\"1\" class=\"dataframe\">\n",
       "  <thead>\n",
       "    <tr style=\"text-align: right;\">\n",
       "      <th></th>\n",
       "      <th>DATE</th>\n",
       "      <th>weekday</th>\n",
       "      <th>day</th>\n",
       "      <th>month</th>\n",
       "      <th>change</th>\n",
       "      <th>avg_temp</th>\n",
       "      <th>tmp_75</th>\n",
       "      <th>tmp_35</th>\n",
       "      <th>value_75</th>\n",
       "      <th>value_35</th>\n",
       "      <th>change_75</th>\n",
       "      <th>change_35</th>\n",
       "    </tr>\n",
       "  </thead>\n",
       "  <tbody>\n",
       "    <tr>\n",
       "      <th>0</th>\n",
       "      <td>2009-06-26</td>\n",
       "      <td>4</td>\n",
       "      <td>26</td>\n",
       "      <td>6</td>\n",
       "      <td>0.00</td>\n",
       "      <td>76.91</td>\n",
       "      <td>1</td>\n",
       "      <td>0</td>\n",
       "      <td>76.91</td>\n",
       "      <td>0.0</td>\n",
       "      <td>0.00</td>\n",
       "      <td>0.0</td>\n",
       "    </tr>\n",
       "    <tr>\n",
       "      <th>1</th>\n",
       "      <td>2009-06-29</td>\n",
       "      <td>0</td>\n",
       "      <td>29</td>\n",
       "      <td>6</td>\n",
       "      <td>8.33</td>\n",
       "      <td>75.43</td>\n",
       "      <td>1</td>\n",
       "      <td>0</td>\n",
       "      <td>75.43</td>\n",
       "      <td>0.0</td>\n",
       "      <td>8.33</td>\n",
       "      <td>0.0</td>\n",
       "    </tr>\n",
       "    <tr>\n",
       "      <th>2</th>\n",
       "      <td>2009-06-30</td>\n",
       "      <td>1</td>\n",
       "      <td>30</td>\n",
       "      <td>6</td>\n",
       "      <td>-7.91</td>\n",
       "      <td>77.41</td>\n",
       "      <td>1</td>\n",
       "      <td>0</td>\n",
       "      <td>77.41</td>\n",
       "      <td>0.0</td>\n",
       "      <td>-7.91</td>\n",
       "      <td>0.0</td>\n",
       "    </tr>\n",
       "    <tr>\n",
       "      <th>3</th>\n",
       "      <td>2009-07-01</td>\n",
       "      <td>2</td>\n",
       "      <td>1</td>\n",
       "      <td>7</td>\n",
       "      <td>4.01</td>\n",
       "      <td>73.40</td>\n",
       "      <td>0</td>\n",
       "      <td>0</td>\n",
       "      <td>0.00</td>\n",
       "      <td>0.0</td>\n",
       "      <td>0.00</td>\n",
       "      <td>0.0</td>\n",
       "    </tr>\n",
       "    <tr>\n",
       "      <th>4</th>\n",
       "      <td>2009-07-02</td>\n",
       "      <td>3</td>\n",
       "      <td>2</td>\n",
       "      <td>7</td>\n",
       "      <td>-26.91</td>\n",
       "      <td>71.23</td>\n",
       "      <td>0</td>\n",
       "      <td>0</td>\n",
       "      <td>0.00</td>\n",
       "      <td>0.0</td>\n",
       "      <td>0.00</td>\n",
       "      <td>0.0</td>\n",
       "    </tr>\n",
       "  </tbody>\n",
       "</table>\n",
       "</div>"
      ],
      "text/plain": [
       "        DATE  weekday  day  month  change  avg_temp  tmp_75  tmp_35  value_75  \\\n",
       "0 2009-06-26        4   26      6    0.00     76.91       1       0     76.91   \n",
       "1 2009-06-29        0   29      6    8.33     75.43       1       0     75.43   \n",
       "2 2009-06-30        1   30      6   -7.91     77.41       1       0     77.41   \n",
       "3 2009-07-01        2    1      7    4.01     73.40       0       0      0.00   \n",
       "4 2009-07-02        3    2      7  -26.91     71.23       0       0      0.00   \n",
       "\n",
       "   value_35  change_75  change_35  \n",
       "0       0.0       0.00        0.0  \n",
       "1       0.0       8.33        0.0  \n",
       "2       0.0      -7.91        0.0  \n",
       "3       0.0       0.00        0.0  \n",
       "4       0.0       0.00        0.0  "
      ]
     },
     "execution_count": 152,
     "metadata": {},
     "output_type": "execute_result"
    }
   ],
   "source": [
    "df_out_temp.head()"
   ]
  },
  {
   "cell_type": "code",
   "execution_count": 153,
   "metadata": {},
   "outputs": [],
   "source": [
    "# FOR TEMPERATURE \n",
    "# count number of days where temp is at least 55 degrees F\n",
    "a_75 = df_out_temp.tmp_75.sum()\n",
    "\n",
    "# count number of days where temp is less than 55\n",
    "a_35 = df_out_temp.tmp_35.sum()\n",
    "\n",
    "# calculate the points gained when temp is at least 55\n",
    "b_75 = np.where(df_out_temp.avg_temp > 75.0, df_out_temp.change, 0).sum()\n",
    "\n",
    "# calculate the points gained when temp is less than 55\n",
    "c_35 = np.where(df_out_temp.avg_temp < 35.0, df_out_temp.change, 0).sum()"
   ]
  },
  {
   "cell_type": "code",
   "execution_count": 154,
   "metadata": {},
   "outputs": [
    {
     "data": {
      "text/html": [
       "<div>\n",
       "<style scoped>\n",
       "    .dataframe tbody tr th:only-of-type {\n",
       "        vertical-align: middle;\n",
       "    }\n",
       "\n",
       "    .dataframe tbody tr th {\n",
       "        vertical-align: top;\n",
       "    }\n",
       "\n",
       "    .dataframe thead th {\n",
       "        text-align: right;\n",
       "    }\n",
       "</style>\n",
       "<table border=\"1\" class=\"dataframe\">\n",
       "  <thead>\n",
       "    <tr style=\"text-align: right;\">\n",
       "      <th></th>\n",
       "      <th>DATE</th>\n",
       "      <th>weekday</th>\n",
       "      <th>day</th>\n",
       "      <th>month</th>\n",
       "      <th>change</th>\n",
       "      <th>avg_temp</th>\n",
       "      <th>tmp_75</th>\n",
       "      <th>tmp_35</th>\n",
       "      <th>value_75</th>\n",
       "      <th>value_35</th>\n",
       "      <th>change_75</th>\n",
       "      <th>change_35</th>\n",
       "    </tr>\n",
       "  </thead>\n",
       "  <tbody>\n",
       "    <tr>\n",
       "      <th>0</th>\n",
       "      <td>2009-06-26</td>\n",
       "      <td>4</td>\n",
       "      <td>26</td>\n",
       "      <td>6</td>\n",
       "      <td>0.00</td>\n",
       "      <td>76.91</td>\n",
       "      <td>1</td>\n",
       "      <td>0</td>\n",
       "      <td>76.91</td>\n",
       "      <td>0.0</td>\n",
       "      <td>0.00</td>\n",
       "      <td>0.0</td>\n",
       "    </tr>\n",
       "    <tr>\n",
       "      <th>1</th>\n",
       "      <td>2009-06-29</td>\n",
       "      <td>0</td>\n",
       "      <td>29</td>\n",
       "      <td>6</td>\n",
       "      <td>8.33</td>\n",
       "      <td>75.43</td>\n",
       "      <td>1</td>\n",
       "      <td>0</td>\n",
       "      <td>75.43</td>\n",
       "      <td>0.0</td>\n",
       "      <td>8.33</td>\n",
       "      <td>0.0</td>\n",
       "    </tr>\n",
       "    <tr>\n",
       "      <th>2</th>\n",
       "      <td>2009-06-30</td>\n",
       "      <td>1</td>\n",
       "      <td>30</td>\n",
       "      <td>6</td>\n",
       "      <td>-7.91</td>\n",
       "      <td>77.41</td>\n",
       "      <td>1</td>\n",
       "      <td>0</td>\n",
       "      <td>77.41</td>\n",
       "      <td>0.0</td>\n",
       "      <td>-7.91</td>\n",
       "      <td>0.0</td>\n",
       "    </tr>\n",
       "    <tr>\n",
       "      <th>3</th>\n",
       "      <td>2009-07-01</td>\n",
       "      <td>2</td>\n",
       "      <td>1</td>\n",
       "      <td>7</td>\n",
       "      <td>4.01</td>\n",
       "      <td>73.40</td>\n",
       "      <td>0</td>\n",
       "      <td>0</td>\n",
       "      <td>0.00</td>\n",
       "      <td>0.0</td>\n",
       "      <td>0.00</td>\n",
       "      <td>0.0</td>\n",
       "    </tr>\n",
       "    <tr>\n",
       "      <th>4</th>\n",
       "      <td>2009-07-02</td>\n",
       "      <td>3</td>\n",
       "      <td>2</td>\n",
       "      <td>7</td>\n",
       "      <td>-26.91</td>\n",
       "      <td>71.23</td>\n",
       "      <td>0</td>\n",
       "      <td>0</td>\n",
       "      <td>0.00</td>\n",
       "      <td>0.0</td>\n",
       "      <td>0.00</td>\n",
       "      <td>0.0</td>\n",
       "    </tr>\n",
       "  </tbody>\n",
       "</table>\n",
       "</div>"
      ],
      "text/plain": [
       "        DATE  weekday  day  month  change  avg_temp  tmp_75  tmp_35  value_75  \\\n",
       "0 2009-06-26        4   26      6    0.00     76.91       1       0     76.91   \n",
       "1 2009-06-29        0   29      6    8.33     75.43       1       0     75.43   \n",
       "2 2009-06-30        1   30      6   -7.91     77.41       1       0     77.41   \n",
       "3 2009-07-01        2    1      7    4.01     73.40       0       0      0.00   \n",
       "4 2009-07-02        3    2      7  -26.91     71.23       0       0      0.00   \n",
       "\n",
       "   value_35  change_75  change_35  \n",
       "0       0.0       0.00        0.0  \n",
       "1       0.0       8.33        0.0  \n",
       "2       0.0      -7.91        0.0  \n",
       "3       0.0       0.00        0.0  \n",
       "4       0.0       0.00        0.0  "
      ]
     },
     "execution_count": 154,
     "metadata": {},
     "output_type": "execute_result"
    }
   ],
   "source": [
    "df_out_temp.head()"
   ]
  },
  {
   "cell_type": "code",
   "execution_count": 155,
   "metadata": {},
   "outputs": [
    {
     "name": "stdout",
     "output_type": "stream",
     "text": [
      "\n",
      "Total number of days when temperature is greater than 75:\n",
      "364\n",
      "\n",
      "Total number of days when temp is less than 35:\n",
      "405\n",
      "\n",
      "Total points gained in S&P 500 when temp is greater than 75:\n",
      "-83.90999999999872\n",
      "\n",
      "Total points gained in S&P 500 when temp is less than 35:\n",
      "411.7500000000002\n"
     ]
    }
   ],
   "source": [
    "# FOR TEMPERATURE\n",
    "print('\\nTotal number of days when temperature is greater than 75:')\n",
    "print(a_75)\n",
    "print('\\nTotal number of days when temp is less than 35:')\n",
    "print(a_35)\n",
    "print('\\nTotal points gained in S&P 500 when temp is greater than 75:')\n",
    "print(b_75)\n",
    "print('\\nTotal points gained in S&P 500 when temp is less than 35:')\n",
    "print(c_35)"
   ]
  },
  {
   "cell_type": "code",
   "execution_count": 156,
   "metadata": {},
   "outputs": [
    {
     "name": "stdout",
     "output_type": "stream",
     "text": [
      "\n",
      "Average daily gain of S&P 500 when avg temperature is greater than 75:\n",
      "-0.2305219780219745\n",
      "\n",
      "Average daily gain of S&P 500 when avg temp is less than 35:\n",
      "1.0166666666666673\n"
     ]
    }
   ],
   "source": [
    "# FOR TEMPERATURE\n",
    "print('\\nAverage daily gain of S&P 500 when avg temperature is greater than 75:')\n",
    "print(b_75/a_75)\n",
    "\n",
    "print('\\nAverage daily gain of S&P 500 when avg temp is less than 35:')\n",
    "print(c_35/a_35)"
   ]
  },
  {
   "cell_type": "markdown",
   "metadata": {},
   "source": [
    "Is this significant ?  The next step is to compute the pvalue with a ttest:"
   ]
  },
  {
   "cell_type": "code",
   "execution_count": 157,
   "metadata": {},
   "outputs": [
    {
     "data": {
      "text/plain": [
       "Ttest_indResult(statistic=-1.0460206812846735, pvalue=0.29560174677866946)"
      ]
     },
     "execution_count": 157,
     "metadata": {},
     "output_type": "execute_result"
    }
   ],
   "source": [
    "# For temp greater than 75 vs less than 35\n",
    "ttest_ind(df_out_temp['change_75'].dropna(), df_out_temp['change_35'].dropna())"
   ]
  },
  {
   "cell_type": "markdown",
   "metadata": {},
   "source": [
    "Since the pvalue is **0.295**, the difference in daily price change values is not significant.  This calculation shows that there is about a 30% chance that the difference in the results were due to randam chance.\n",
    "\n",
    "The next graph shows the visual relationship between the temperature and all of the daily change values.  From a quick scan, it looks like the returns above and below the 35 and 75 thresholds are fairly evenly distributed:  "
   ]
  },
  {
   "cell_type": "code",
   "execution_count": 158,
   "metadata": {},
   "outputs": [
    {
     "name": "stderr",
     "output_type": "stream",
     "text": [
      "'c' argument looks like a single numeric RGB or RGBA sequence, which should be avoided as value-mapping will have precedence in case its length matches with 'x' & 'y'.  Please use a 2-D array with a single row if you really want to specify the same RGB or RGBA value for all points.\n"
     ]
    },
    {
     "data": {
      "text/plain": [
       "<matplotlib.lines.Line2D at 0xe6b7e80>"
      ]
     },
     "execution_count": 158,
     "metadata": {},
     "output_type": "execute_result"
    },
    {
     "data": {
      "image/png": "[encoded data removed]",
      "text/plain": [
       "<Figure size 864x576 with 1 Axes>"
      ]
     },
     "metadata": {},
     "output_type": "display_data"
    }
   ],
   "source": [
    "df_out_temp.plot(kind='scatter', x='avg_temp', y='change', title='Temperature vs daily price change', \n",
    "                 figsize=(12, 8), grid=True)\n",
    "plt.axvline(x=35.0, color='green')\n",
    "plt.axvline(x=75.0, color='red')"
   ]
  },
  {
   "cell_type": "markdown",
   "metadata": {},
   "source": [
    "As stated above, this scatter plot shows a fairly even distibution of daily price change above and below the thresholds.\n",
    "\n",
    "Now, compare the results using a **500 daily minutes** of sun cutoff.  This is the same process and code as above only using a cutoff value of 500 instead of 300."
   ]
  },
  {
   "cell_type": "code",
   "execution_count": 159,
   "metadata": {},
   "outputs": [],
   "source": [
    "df_out['sun_500'] = np.where(df_out.Sun >= 500.0, 1, 0)\n",
    "df_out['less_500'] = np.where(df_out.Sun < 500.0, 1, 0)\n",
    "df_out['value_5'] = np.where(df_out.Sun >= 500.0, df_out.change, 0)\n",
    "df_out['value_5_less'] = np.where(df_out.Sun < 500.0, df_out.change, 0)"
   ]
  },
  {
   "cell_type": "code",
   "execution_count": 160,
   "metadata": {},
   "outputs": [],
   "source": [
    "x = df_out.sun_500.sum()\n",
    "x_less = df_out.less_500.sum()\n",
    "y = np.where(df_out.Sun >= 500.0, df_out.change, 0).sum()\n",
    "z = np.where(df_out.Sun < 500.0, df_out.change, 0).sum()"
   ]
  },
  {
   "cell_type": "markdown",
   "metadata": {},
   "source": [
    "Print the results:"
   ]
  },
  {
   "cell_type": "code",
   "execution_count": 161,
   "metadata": {},
   "outputs": [
    {
     "name": "stdout",
     "output_type": "stream",
     "text": [
      "\n",
      "Total number of days when sun hours is greater than 500:\n",
      "902\n",
      "\n",
      "Total number of days when sun hours is less than 500:\n",
      "1614\n",
      "\n",
      "Total points gained in S&P 500 when number of sun hours is greater than 500:\n",
      "589.170000000003\n",
      "\n",
      "Total points gained in S&P 500 when number of sun hours is less than 500:\n",
      "1409.3099999999972\n"
     ]
    }
   ],
   "source": [
    "print('\\nTotal number of days when sun hours is greater than 500:')\n",
    "print(x)\n",
    "\n",
    "print('\\nTotal number of days when sun hours is less than 500:')\n",
    "print(x_less)\n",
    "\n",
    "print('\\nTotal points gained in S&P 500 when number of sun hours is greater than 500:')\n",
    "print(y)\n",
    "\n",
    "print('\\nTotal points gained in S&P 500 when number of sun hours is less than 500:')\n",
    "print(z)"
   ]
  },
  {
   "cell_type": "markdown",
   "metadata": {},
   "source": [
    "Print the average daily gains of the two different groups."
   ]
  },
  {
   "cell_type": "code",
   "execution_count": 162,
   "metadata": {},
   "outputs": [
    {
     "name": "stdout",
     "output_type": "stream",
     "text": [
      "\n",
      "Average daily gain of S&P 500 when sun hours is greater than 500:\n",
      "0.6531818181818215\n",
      "\n",
      "Average daily gain of S&P 500 when sun hours is less than 500:\n",
      "0.8731784386617083\n"
     ]
    }
   ],
   "source": [
    "print('\\nAverage daily gain of S&P 500 when sun hours is greater than 500:')\n",
    "print(y/x)\n",
    "\n",
    "print('\\nAverage daily gain of S&P 500 when sun hours is less than 500:')\n",
    "print(z/x_less)"
   ]
  },
  {
   "cell_type": "markdown",
   "metadata": {},
   "source": [
    "Are these daily differences significant ?  This is strange: now the average is greater in the 'less than' group.\n",
    "\n",
    "What about the days when the number of sunsine hours is greater or less **700** ?  This is the same process and code as above only using a cutoff value of 700 instead of 300 or 500."
   ]
  },
  {
   "cell_type": "code",
   "execution_count": 163,
   "metadata": {},
   "outputs": [],
   "source": [
    "df_out['sun_700'] = np.where(df_out.Sun >= 700.0, 1, 0)\n",
    "df_out['less_700'] = np.where(df_out.Sun < 700.0, 1, 0)\n",
    "df_out['value_7'] = np.where(df_out.Sun >= 700.0, df_out.change, 0)\n",
    "df_out['value_7_less'] = np.where(df_out.Sun < 700.0, df_out.change, 0)\n",
    "\n",
    "d = df_out.sun_700.sum()\n",
    "d_less = df_out.less_700.sum()\n",
    "e = np.where(df_out.Sun >= 700.0, df_out.change, 0).sum()\n",
    "f = np.where(df_out.Sun < 700.0, df_out.change, 0).sum()"
   ]
  },
  {
   "cell_type": "markdown",
   "metadata": {},
   "source": [
    "Print the results:"
   ]
  },
  {
   "cell_type": "code",
   "execution_count": 164,
   "metadata": {},
   "outputs": [
    {
     "name": "stdout",
     "output_type": "stream",
     "text": [
      "\n",
      "Total number of days when sun hours is greater than 700:\n",
      "373\n",
      "\n",
      "Total number of days when sun hours is less than 700:\n",
      "2143\n",
      "\n",
      "Total points gained in S&P 500 when number of sun hours is greater than 700:\n",
      "211.11999999999966\n",
      "\n",
      "Total points gained in S&P 500 when number of sun hours is less than 700:\n",
      "1787.3600000000006\n"
     ]
    }
   ],
   "source": [
    "print('\\nTotal number of days when sun hours is greater than 700:')\n",
    "print(d)\n",
    "\n",
    "print('\\nTotal number of days when sun hours is less than 700:')\n",
    "print(d_less)\n",
    "\n",
    "print('\\nTotal points gained in S&P 500 when number of sun hours is greater than 700:')\n",
    "print(e)\n",
    "\n",
    "print('\\nTotal points gained in S&P 500 when number of sun hours is less than 700:')\n",
    "print(f)"
   ]
  },
  {
   "cell_type": "markdown",
   "metadata": {},
   "source": [
    "Print the average daily gains of the two different groups."
   ]
  },
  {
   "cell_type": "code",
   "execution_count": 165,
   "metadata": {},
   "outputs": [
    {
     "name": "stdout",
     "output_type": "stream",
     "text": [
      "\n",
      "Average daily gain of S&P 500 when sun hours is greater than 700:\n",
      "0.566005361930294\n",
      "\n",
      "Average daily gain of S&P 500 when sun hours is less than 700:\n",
      "0.834045730284648\n"
     ]
    }
   ],
   "source": [
    "print('\\nAverage daily gain of S&P 500 when sun hours is greater than 700:')\n",
    "print(e/d)\n",
    "\n",
    "print('\\nAverage daily gain of S&P 500 when sun hours is less than 700:')\n",
    "print(f/d_less)"
   ]
  },
  {
   "cell_type": "markdown",
   "metadata": {},
   "source": [
    "Are these daily averge differences significant ?  It seems odd that the daily average gain for days with more than 300 minutes is larger than those days with less than 300.  However, the reverse is true for days where the cutoff of sunshine hours is 500 and 700.  In other words, the average daily price where sunshine hours is more than 500 and 700, is less than the gain on days where there is less than 500 and 700 hours of sun, respectively.  What is going on here ?"
   ]
  },
  {
   "cell_type": "code",
   "execution_count": 166,
   "metadata": {},
   "outputs": [
    {
     "data": {
      "text/html": [
       "<div>\n",
       "<style scoped>\n",
       "    .dataframe tbody tr th:only-of-type {\n",
       "        vertical-align: middle;\n",
       "    }\n",
       "\n",
       "    .dataframe tbody tr th {\n",
       "        vertical-align: top;\n",
       "    }\n",
       "\n",
       "    .dataframe thead th {\n",
       "        text-align: right;\n",
       "    }\n",
       "</style>\n",
       "<table border=\"1\" class=\"dataframe\">\n",
       "  <thead>\n",
       "    <tr style=\"text-align: right;\">\n",
       "      <th></th>\n",
       "      <th>DATE</th>\n",
       "      <th>weekday</th>\n",
       "      <th>day</th>\n",
       "      <th>month</th>\n",
       "      <th>change</th>\n",
       "      <th>Sun</th>\n",
       "      <th>sun_300</th>\n",
       "      <th>less_300</th>\n",
       "      <th>value_3</th>\n",
       "      <th>value_3_less</th>\n",
       "      <th>sun_500</th>\n",
       "      <th>less_500</th>\n",
       "      <th>value_5</th>\n",
       "      <th>value_5_less</th>\n",
       "      <th>sun_700</th>\n",
       "      <th>less_700</th>\n",
       "      <th>value_7</th>\n",
       "      <th>value_7_less</th>\n",
       "    </tr>\n",
       "  </thead>\n",
       "  <tbody>\n",
       "    <tr>\n",
       "      <th>0</th>\n",
       "      <td>2009-06-26</td>\n",
       "      <td>4</td>\n",
       "      <td>26</td>\n",
       "      <td>6</td>\n",
       "      <td>0.00</td>\n",
       "      <td>418.70</td>\n",
       "      <td>1</td>\n",
       "      <td>0</td>\n",
       "      <td>0.00</td>\n",
       "      <td>0.00</td>\n",
       "      <td>0</td>\n",
       "      <td>1</td>\n",
       "      <td>0.00</td>\n",
       "      <td>0.00</td>\n",
       "      <td>0</td>\n",
       "      <td>1</td>\n",
       "      <td>0.00</td>\n",
       "      <td>0.00</td>\n",
       "    </tr>\n",
       "    <tr>\n",
       "      <th>1</th>\n",
       "      <td>2009-06-29</td>\n",
       "      <td>0</td>\n",
       "      <td>29</td>\n",
       "      <td>6</td>\n",
       "      <td>8.33</td>\n",
       "      <td>848.28</td>\n",
       "      <td>1</td>\n",
       "      <td>0</td>\n",
       "      <td>8.33</td>\n",
       "      <td>0.00</td>\n",
       "      <td>1</td>\n",
       "      <td>0</td>\n",
       "      <td>8.33</td>\n",
       "      <td>0.00</td>\n",
       "      <td>1</td>\n",
       "      <td>0</td>\n",
       "      <td>8.33</td>\n",
       "      <td>0.00</td>\n",
       "    </tr>\n",
       "    <tr>\n",
       "      <th>2</th>\n",
       "      <td>2009-06-30</td>\n",
       "      <td>1</td>\n",
       "      <td>30</td>\n",
       "      <td>6</td>\n",
       "      <td>-7.91</td>\n",
       "      <td>608.00</td>\n",
       "      <td>1</td>\n",
       "      <td>0</td>\n",
       "      <td>-7.91</td>\n",
       "      <td>0.00</td>\n",
       "      <td>1</td>\n",
       "      <td>0</td>\n",
       "      <td>-7.91</td>\n",
       "      <td>0.00</td>\n",
       "      <td>0</td>\n",
       "      <td>1</td>\n",
       "      <td>0.00</td>\n",
       "      <td>-7.91</td>\n",
       "    </tr>\n",
       "    <tr>\n",
       "      <th>3</th>\n",
       "      <td>2009-07-01</td>\n",
       "      <td>2</td>\n",
       "      <td>1</td>\n",
       "      <td>7</td>\n",
       "      <td>4.01</td>\n",
       "      <td>168.86</td>\n",
       "      <td>0</td>\n",
       "      <td>1</td>\n",
       "      <td>0.00</td>\n",
       "      <td>4.01</td>\n",
       "      <td>0</td>\n",
       "      <td>1</td>\n",
       "      <td>0.00</td>\n",
       "      <td>4.01</td>\n",
       "      <td>0</td>\n",
       "      <td>1</td>\n",
       "      <td>0.00</td>\n",
       "      <td>4.01</td>\n",
       "    </tr>\n",
       "    <tr>\n",
       "      <th>4</th>\n",
       "      <td>2009-07-02</td>\n",
       "      <td>3</td>\n",
       "      <td>2</td>\n",
       "      <td>7</td>\n",
       "      <td>-26.91</td>\n",
       "      <td>225.66</td>\n",
       "      <td>0</td>\n",
       "      <td>1</td>\n",
       "      <td>0.00</td>\n",
       "      <td>-26.91</td>\n",
       "      <td>0</td>\n",
       "      <td>1</td>\n",
       "      <td>0.00</td>\n",
       "      <td>-26.91</td>\n",
       "      <td>0</td>\n",
       "      <td>1</td>\n",
       "      <td>0.00</td>\n",
       "      <td>-26.91</td>\n",
       "    </tr>\n",
       "  </tbody>\n",
       "</table>\n",
       "</div>"
      ],
      "text/plain": [
       "        DATE  weekday  day  month  change     Sun  sun_300  less_300  value_3  \\\n",
       "0 2009-06-26        4   26      6    0.00  418.70        1         0     0.00   \n",
       "1 2009-06-29        0   29      6    8.33  848.28        1         0     8.33   \n",
       "2 2009-06-30        1   30      6   -7.91  608.00        1         0    -7.91   \n",
       "3 2009-07-01        2    1      7    4.01  168.86        0         1     0.00   \n",
       "4 2009-07-02        3    2      7  -26.91  225.66        0         1     0.00   \n",
       "\n",
       "   value_3_less  sun_500  less_500  value_5  value_5_less  sun_700  less_700  \\\n",
       "0          0.00        0         1     0.00          0.00        0         1   \n",
       "1          0.00        1         0     8.33          0.00        1         0   \n",
       "2          0.00        1         0    -7.91          0.00        0         1   \n",
       "3          4.01        0         1     0.00          4.01        0         1   \n",
       "4        -26.91        0         1     0.00        -26.91        0         1   \n",
       "\n",
       "   value_7  value_7_less  \n",
       "0     0.00          0.00  \n",
       "1     8.33          0.00  \n",
       "2     0.00         -7.91  \n",
       "3     0.00          4.01  \n",
       "4     0.00        -26.91  "
      ]
     },
     "execution_count": 166,
     "metadata": {},
     "output_type": "execute_result"
    }
   ],
   "source": [
    "df_out.head()"
   ]
  },
  {
   "cell_type": "code",
   "execution_count": 167,
   "metadata": {},
   "outputs": [
    {
     "data": {
      "text/plain": [
       "Ttest_indResult(statistic=0.3810877859627107, pvalue=0.7031542048478165)"
      ]
     },
     "execution_count": 167,
     "metadata": {},
     "output_type": "execute_result"
    }
   ],
   "source": [
    "# For sunshine more than 300 vs less than 300\n",
    "ttest_ind(df_out['value_3'].dropna(), df_out['value_3_less'].dropna())"
   ]
  },
  {
   "cell_type": "code",
   "execution_count": 168,
   "metadata": {},
   "outputs": [
    {
     "data": {
      "text/plain": [
       "Ttest_indResult(statistic=-0.9764164785096374, pvalue=0.328905074534642)"
      ]
     },
     "execution_count": 168,
     "metadata": {},
     "output_type": "execute_result"
    }
   ],
   "source": [
    "# For sunshine more than 500 vs less than 500\n",
    "ttest_ind(df_out['value_5'].dropna(), df_out['value_5_less'].dropna())"
   ]
  },
  {
   "cell_type": "code",
   "execution_count": 169,
   "metadata": {},
   "outputs": [
    {
     "data": {
      "text/plain": [
       "Ttest_indResult(statistic=-1.877069483932292, pvalue=0.06056640489040069)"
      ]
     },
     "execution_count": 169,
     "metadata": {},
     "output_type": "execute_result"
    }
   ],
   "source": [
    "# For sunshine more than 700 vs less than 700\n",
    "ttest_ind(df_out['value_7'].dropna(), df_out['value_7_less'].dropna())"
   ]
  },
  {
   "cell_type": "markdown",
   "metadata": {},
   "source": [
    "From these Ttests, none of the differences are significant; all could have happened due to random chance.  However, for days more or less than 700 minutes of sun, the pvalue is just slightly above 0.05 (actual value = 0.061).  Remember, the average gain was higher where number of sunshine minutes was less than 700.  This could be due to the fact that the winter months in general perform better than the summer months.  This fact was established earlier in this notebook.  This is further evidence that maybe it is better to \"sell in May and go away\".  This assumes of course that there is more sunshine in the summer months than the winter months, which is true after looking at the seasonal sunshine plot at the beginning of this notebook.  Here again, summer is defined as May 1st to October 31st.  \n",
    "\n",
    "Why would the summer months see worse returns ?  Maybe traders and wall street professionals take more vacation in the summer and therefore less active in the markets -- and less activity means less bullish or lower price increases.  Maybe people are less tempted with outside activities in general in the winter and focus more on the markets, thus are more active and more bullish.  When traders and investors are more active, many believe that this increases risk.  It follows that if risk increases, expected returns need to increase and generally exhibiting more risk means buying more stocks.  These are just guesses.  It does seem, however, that in general the winter months perform better than the summer months.  This temporary conclusion was not the hypothesis of this study, nor was it the objective to prove or disprove this claim.  \n",
    "\n",
    "The following plot shows the relationship between amount of daily sunhine vs. daily price change.  This should help to further clarify whether a true difference exists."
   ]
  },
  {
   "cell_type": "code",
   "execution_count": 170,
   "metadata": {},
   "outputs": [
    {
     "name": "stderr",
     "output_type": "stream",
     "text": [
      "'c' argument looks like a single numeric RGB or RGBA sequence, which should be avoided as value-mapping will have precedence in case its length matches with 'x' & 'y'.  Please use a 2-D array with a single row if you really want to specify the same RGB or RGBA value for all points.\n"
     ]
    },
    {
     "data": {
      "text/plain": [
       "<matplotlib.lines.Line2D at 0xe7ad7f0>"
      ]
     },
     "execution_count": 170,
     "metadata": {},
     "output_type": "execute_result"
    },
    {
     "data": {
      "image/png": "[encoded data removed]",
      "text/plain": [
       "<Figure size 864x576 with 1 Axes>"
      ]
     },
     "metadata": {},
     "output_type": "display_data"
    }
   ],
   "source": [
    "df_out.plot(kind='scatter', x='Sun', y='change', title='Amount of sunshine per day vs daily price change', \n",
    "                 figsize=(12, 8), grid=True)\n",
    "plt.axvline(x=300, color='yellow')\n",
    "plt.axvline(x=500, color='orange')\n",
    "plt.axvline(x=700, color='red')"
   ]
  },
  {
   "cell_type": "markdown",
   "metadata": {},
   "source": [
    "As the calculations and significance tests above show, it looks like there really is not asignificant correlation between the amount of daily sunshine in New York City and the price change of the S&P 500 over the last 10 years.  The winter (and thus less sunny) months might perform slightly better, but very difficult to see any evidence of that in the above scatter plot.  The safest conclusion and the conclusion best supported by the data is that there really is no signficant difference in daily returns regardless of the season or the amount of sunshine or the average daily temperature. "
   ]
  },
  {
   "cell_type": "code",
   "execution_count": null,
   "metadata": {},
   "outputs": [],
   "source": []
  }
 ],
 "metadata": {
  "kernelspec": {
   "display_name": "Python 3",
   "language": "python",
   "name": "python3"
  },
  "language_info": {
   "codemirror_mode": {
    "name": "ipython",
    "version": 3
   },
   "file_extension": ".py",
   "mimetype": "text/x-python",
   "name": "python",
   "nbconvert_exporter": "python",
   "pygments_lexer": "ipython3",
   "version": "3.7.3"
  }
 },
 "nbformat": 4,
 "nbformat_minor": 2
}
