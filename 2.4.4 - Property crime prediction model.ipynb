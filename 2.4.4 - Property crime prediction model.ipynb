{
 "cells": [
  {
   "cell_type": "markdown",
   "metadata": {},
   "source": [
    "## Introduction\n",
    "In this notebook, we build a model that predicts property crime in New York based on the 3 features of population, murders, and robberies.  We have modeled another feature that simply squares the population of each particular city.  The number of murders and robberies were converted to categorical values of 0 (if not a single instance occurred) and 1 (if at least one instance occurred)."
   ]
  },
  {
   "cell_type": "markdown",
   "metadata": {},
   "source": [
    "## Importing and cleaning the data"
   ]
  },
  {
   "cell_type": "code",
   "execution_count": 181,
   "metadata": {},
   "outputs": [],
   "source": [
    "# importing pnadas modules\n",
    "import pandas as pd\n",
    "from matplotlib import pyplot as plt\n",
    "import numpy as np\n",
    "from sklearn import linear_model\n",
    "import seaborn as sns\n",
    "%matplotlib inline\n",
    "pd.options.display.float_format = '{:.3f}'.format\n",
    "\n",
    "# Suppress annoying harmless error.\n",
    "import warnings\n",
    "warnings.filterwarnings(action=\"ignore\", module=\"scipy\", message=\"^internal gelsd\")"
   ]
  },
  {
   "cell_type": "code",
   "execution_count": 182,
   "metadata": {},
   "outputs": [
    {
     "data": {
      "text/html": [
       "<div>\n",
       "<style scoped>\n",
       "    .dataframe tbody tr th:only-of-type {\n",
       "        vertical-align: middle;\n",
       "    }\n",
       "\n",
       "    .dataframe tbody tr th {\n",
       "        vertical-align: top;\n",
       "    }\n",
       "\n",
       "    .dataframe thead th {\n",
       "        text-align: right;\n",
       "    }\n",
       "</style>\n",
       "<table border=\"1\" class=\"dataframe\">\n",
       "  <thead>\n",
       "    <tr style=\"text-align: right;\">\n",
       "      <th></th>\n",
       "      <th>Table 8</th>\n",
       "      <th>Unnamed: 1</th>\n",
       "      <th>Unnamed: 2</th>\n",
       "      <th>Unnamed: 3</th>\n",
       "      <th>Unnamed: 4</th>\n",
       "      <th>Unnamed: 5</th>\n",
       "      <th>Unnamed: 6</th>\n",
       "      <th>Unnamed: 7</th>\n",
       "      <th>Unnamed: 8</th>\n",
       "      <th>Unnamed: 9</th>\n",
       "      <th>Unnamed: 10</th>\n",
       "      <th>Unnamed: 11</th>\n",
       "      <th>Unnamed: 12</th>\n",
       "    </tr>\n",
       "  </thead>\n",
       "  <tbody>\n",
       "    <tr>\n",
       "      <th>0</th>\n",
       "      <td>NEW YORK</td>\n",
       "      <td>NaN</td>\n",
       "      <td>NaN</td>\n",
       "      <td>NaN</td>\n",
       "      <td>NaN</td>\n",
       "      <td>NaN</td>\n",
       "      <td>NaN</td>\n",
       "      <td>NaN</td>\n",
       "      <td>NaN</td>\n",
       "      <td>NaN</td>\n",
       "      <td>NaN</td>\n",
       "      <td>NaN</td>\n",
       "      <td>NaN</td>\n",
       "    </tr>\n",
       "    <tr>\n",
       "      <th>1</th>\n",
       "      <td>Offenses Known to Law Enforcement</td>\n",
       "      <td>NaN</td>\n",
       "      <td>NaN</td>\n",
       "      <td>NaN</td>\n",
       "      <td>NaN</td>\n",
       "      <td></td>\n",
       "      <td>NaN</td>\n",
       "      <td>NaN</td>\n",
       "      <td>NaN</td>\n",
       "      <td>NaN</td>\n",
       "      <td>NaN</td>\n",
       "      <td>NaN</td>\n",
       "      <td>NaN</td>\n",
       "    </tr>\n",
       "    <tr>\n",
       "      <th>2</th>\n",
       "      <td>by City, 2013</td>\n",
       "      <td>NaN</td>\n",
       "      <td>NaN</td>\n",
       "      <td>NaN</td>\n",
       "      <td>NaN</td>\n",
       "      <td>NaN</td>\n",
       "      <td>NaN</td>\n",
       "      <td>NaN</td>\n",
       "      <td>NaN</td>\n",
       "      <td>NaN</td>\n",
       "      <td>NaN</td>\n",
       "      <td>NaN</td>\n",
       "      <td>NaN</td>\n",
       "    </tr>\n",
       "    <tr>\n",
       "      <th>3</th>\n",
       "      <td>City</td>\n",
       "      <td>Population</td>\n",
       "      <td>Violent\\ncrime</td>\n",
       "      <td>Murder and\\nnonnegligent\\nmanslaughter</td>\n",
       "      <td>Rape\\n(revised\\ndefinition)1</td>\n",
       "      <td>Rape\\n(legacy\\ndefinition)2</td>\n",
       "      <td>Robbery</td>\n",
       "      <td>Aggravated\\nassault</td>\n",
       "      <td>Property\\ncrime</td>\n",
       "      <td>Burglary</td>\n",
       "      <td>Larceny-\\ntheft</td>\n",
       "      <td>Motor\\nvehicle\\ntheft</td>\n",
       "      <td>Arson3</td>\n",
       "    </tr>\n",
       "    <tr>\n",
       "      <th>4</th>\n",
       "      <td>Adams Village</td>\n",
       "      <td>1861</td>\n",
       "      <td>0</td>\n",
       "      <td>0</td>\n",
       "      <td>NaN</td>\n",
       "      <td>0</td>\n",
       "      <td>0</td>\n",
       "      <td>0</td>\n",
       "      <td>12</td>\n",
       "      <td>2</td>\n",
       "      <td>10</td>\n",
       "      <td>0</td>\n",
       "      <td>0</td>\n",
       "    </tr>\n",
       "    <tr>\n",
       "      <th>5</th>\n",
       "      <td>Addison Town and Village</td>\n",
       "      <td>2577</td>\n",
       "      <td>3</td>\n",
       "      <td>0</td>\n",
       "      <td>NaN</td>\n",
       "      <td>0</td>\n",
       "      <td>0</td>\n",
       "      <td>3</td>\n",
       "      <td>24</td>\n",
       "      <td>3</td>\n",
       "      <td>20</td>\n",
       "      <td>1</td>\n",
       "      <td>0</td>\n",
       "    </tr>\n",
       "    <tr>\n",
       "      <th>6</th>\n",
       "      <td>Akron Village</td>\n",
       "      <td>2846</td>\n",
       "      <td>3</td>\n",
       "      <td>0</td>\n",
       "      <td>NaN</td>\n",
       "      <td>0</td>\n",
       "      <td>0</td>\n",
       "      <td>3</td>\n",
       "      <td>16</td>\n",
       "      <td>1</td>\n",
       "      <td>15</td>\n",
       "      <td>0</td>\n",
       "      <td>0</td>\n",
       "    </tr>\n",
       "    <tr>\n",
       "      <th>7</th>\n",
       "      <td>Albany</td>\n",
       "      <td>97956</td>\n",
       "      <td>791</td>\n",
       "      <td>8</td>\n",
       "      <td>NaN</td>\n",
       "      <td>30</td>\n",
       "      <td>227</td>\n",
       "      <td>526</td>\n",
       "      <td>4090</td>\n",
       "      <td>705</td>\n",
       "      <td>3243</td>\n",
       "      <td>142</td>\n",
       "      <td>NaN</td>\n",
       "    </tr>\n",
       "    <tr>\n",
       "      <th>8</th>\n",
       "      <td>Albion Village</td>\n",
       "      <td>6388</td>\n",
       "      <td>23</td>\n",
       "      <td>0</td>\n",
       "      <td>NaN</td>\n",
       "      <td>3</td>\n",
       "      <td>4</td>\n",
       "      <td>16</td>\n",
       "      <td>223</td>\n",
       "      <td>53</td>\n",
       "      <td>165</td>\n",
       "      <td>5</td>\n",
       "      <td>NaN</td>\n",
       "    </tr>\n",
       "    <tr>\n",
       "      <th>9</th>\n",
       "      <td>Alfred Village</td>\n",
       "      <td>4089</td>\n",
       "      <td>5</td>\n",
       "      <td>0</td>\n",
       "      <td>NaN</td>\n",
       "      <td>0</td>\n",
       "      <td>3</td>\n",
       "      <td>2</td>\n",
       "      <td>46</td>\n",
       "      <td>10</td>\n",
       "      <td>36</td>\n",
       "      <td>0</td>\n",
       "      <td>NaN</td>\n",
       "    </tr>\n",
       "  </tbody>\n",
       "</table>\n",
       "</div>"
      ],
      "text/plain": [
       "                             Table 8  Unnamed: 1      Unnamed: 2  \\\n",
       "0                           NEW YORK         NaN             NaN   \n",
       "1  Offenses Known to Law Enforcement         NaN             NaN   \n",
       "2                      by City, 2013         NaN             NaN   \n",
       "3                               City  Population  Violent\\ncrime   \n",
       "4                      Adams Village        1861               0   \n",
       "5           Addison Town and Village        2577               3   \n",
       "6                      Akron Village        2846               3   \n",
       "7                             Albany       97956             791   \n",
       "8                     Albion Village        6388              23   \n",
       "9                     Alfred Village        4089               5   \n",
       "\n",
       "                               Unnamed: 3                    Unnamed: 4  \\\n",
       "0                                     NaN                           NaN   \n",
       "1                                     NaN                           NaN   \n",
       "2                                     NaN                           NaN   \n",
       "3  Murder and\\nnonnegligent\\nmanslaughter  Rape\\n(revised\\ndefinition)1   \n",
       "4                                       0                           NaN   \n",
       "5                                       0                           NaN   \n",
       "6                                       0                           NaN   \n",
       "7                                       8                           NaN   \n",
       "8                                       0                           NaN   \n",
       "9                                       0                           NaN   \n",
       "\n",
       "                    Unnamed: 5 Unnamed: 6           Unnamed: 7  \\\n",
       "0                          NaN        NaN                  NaN   \n",
       "1                                     NaN                  NaN   \n",
       "2                          NaN        NaN                  NaN   \n",
       "3  Rape\\n(legacy\\ndefinition)2    Robbery  Aggravated\\nassault   \n",
       "4                            0          0                    0   \n",
       "5                            0          0                    3   \n",
       "6                            0          0                    3   \n",
       "7                           30        227                  526   \n",
       "8                            3          4                   16   \n",
       "9                            0          3                    2   \n",
       "\n",
       "        Unnamed: 8 Unnamed: 9      Unnamed: 10            Unnamed: 11  \\\n",
       "0              NaN        NaN              NaN                    NaN   \n",
       "1              NaN        NaN              NaN                    NaN   \n",
       "2              NaN        NaN              NaN                    NaN   \n",
       "3  Property\\ncrime   Burglary  Larceny-\\ntheft  Motor\\nvehicle\\ntheft   \n",
       "4               12          2               10                      0   \n",
       "5               24          3               20                      1   \n",
       "6               16          1               15                      0   \n",
       "7             4090        705             3243                    142   \n",
       "8              223         53              165                      5   \n",
       "9               46         10               36                      0   \n",
       "\n",
       "  Unnamed: 12  \n",
       "0         NaN  \n",
       "1         NaN  \n",
       "2         NaN  \n",
       "3      Arson3  \n",
       "4           0  \n",
       "5           0  \n",
       "6           0  \n",
       "7         NaN  \n",
       "8         NaN  \n",
       "9         NaN  "
      ]
     },
     "execution_count": 182,
     "metadata": {},
     "output_type": "execute_result"
    }
   ],
   "source": [
    "# importing raw data from excel into a pandas dataframe\n",
    "df_raw = pd.read_excel('table_8_offenses_known_to_law_enforcement_new_york_by_city_2013.xls')\n",
    "\n",
    "# display raw file\n",
    "df_raw.head(n=10)"
   ]
  },
  {
   "cell_type": "markdown",
   "metadata": {},
   "source": [
    "As you can see here, we have some extra rows at the top and we need to label the columns in accordance with row 3 which gives the column headings."
   ]
  },
  {
   "cell_type": "code",
   "execution_count": 183,
   "metadata": {},
   "outputs": [
    {
     "data": {
      "text/html": [
       "<div>\n",
       "<style scoped>\n",
       "    .dataframe tbody tr th:only-of-type {\n",
       "        vertical-align: middle;\n",
       "    }\n",
       "\n",
       "    .dataframe tbody tr th {\n",
       "        vertical-align: top;\n",
       "    }\n",
       "\n",
       "    .dataframe thead th {\n",
       "        text-align: right;\n",
       "    }\n",
       "</style>\n",
       "<table border=\"1\" class=\"dataframe\">\n",
       "  <thead>\n",
       "    <tr style=\"text-align: right;\">\n",
       "      <th></th>\n",
       "      <th>Table 8</th>\n",
       "      <th>Unnamed: 1</th>\n",
       "      <th>Unnamed: 2</th>\n",
       "      <th>Unnamed: 3</th>\n",
       "      <th>Unnamed: 4</th>\n",
       "      <th>Unnamed: 5</th>\n",
       "      <th>Unnamed: 6</th>\n",
       "      <th>Unnamed: 7</th>\n",
       "      <th>Unnamed: 8</th>\n",
       "      <th>Unnamed: 9</th>\n",
       "      <th>Unnamed: 10</th>\n",
       "      <th>Unnamed: 11</th>\n",
       "      <th>Unnamed: 12</th>\n",
       "    </tr>\n",
       "  </thead>\n",
       "  <tbody>\n",
       "    <tr>\n",
       "      <th>350</th>\n",
       "      <td>Yonkers</td>\n",
       "      <td>199134</td>\n",
       "      <td>1036</td>\n",
       "      <td>6</td>\n",
       "      <td>NaN</td>\n",
       "      <td>25</td>\n",
       "      <td>390</td>\n",
       "      <td>615</td>\n",
       "      <td>2368</td>\n",
       "      <td>470</td>\n",
       "      <td>1662</td>\n",
       "      <td>236</td>\n",
       "      <td>10</td>\n",
       "    </tr>\n",
       "    <tr>\n",
       "      <th>351</th>\n",
       "      <td>Yorktown Town</td>\n",
       "      <td>36643</td>\n",
       "      <td>15</td>\n",
       "      <td>0</td>\n",
       "      <td>NaN</td>\n",
       "      <td>0</td>\n",
       "      <td>2</td>\n",
       "      <td>13</td>\n",
       "      <td>334</td>\n",
       "      <td>45</td>\n",
       "      <td>287</td>\n",
       "      <td>2</td>\n",
       "      <td>NaN</td>\n",
       "    </tr>\n",
       "    <tr>\n",
       "      <th>352</th>\n",
       "      <td>1 The figures shown in this column for the off...</td>\n",
       "      <td>NaN</td>\n",
       "      <td>NaN</td>\n",
       "      <td>NaN</td>\n",
       "      <td>NaN</td>\n",
       "      <td>NaN</td>\n",
       "      <td>NaN</td>\n",
       "      <td>NaN</td>\n",
       "      <td>NaN</td>\n",
       "      <td>NaN</td>\n",
       "      <td>NaN</td>\n",
       "      <td>NaN</td>\n",
       "      <td>NaN</td>\n",
       "    </tr>\n",
       "    <tr>\n",
       "      <th>353</th>\n",
       "      <td>2 The figures shown in this column for the off...</td>\n",
       "      <td>NaN</td>\n",
       "      <td>NaN</td>\n",
       "      <td>NaN</td>\n",
       "      <td>NaN</td>\n",
       "      <td>NaN</td>\n",
       "      <td>NaN</td>\n",
       "      <td>NaN</td>\n",
       "      <td>NaN</td>\n",
       "      <td>NaN</td>\n",
       "      <td>NaN</td>\n",
       "      <td>NaN</td>\n",
       "      <td>NaN</td>\n",
       "    </tr>\n",
       "    <tr>\n",
       "      <th>354</th>\n",
       "      <td>3 The FBI does not publish arson data unless i...</td>\n",
       "      <td>NaN</td>\n",
       "      <td>NaN</td>\n",
       "      <td>NaN</td>\n",
       "      <td>NaN</td>\n",
       "      <td>NaN</td>\n",
       "      <td>NaN</td>\n",
       "      <td>NaN</td>\n",
       "      <td>NaN</td>\n",
       "      <td>NaN</td>\n",
       "      <td>NaN</td>\n",
       "      <td>NaN</td>\n",
       "      <td>NaN</td>\n",
       "    </tr>\n",
       "  </tbody>\n",
       "</table>\n",
       "</div>"
      ],
      "text/plain": [
       "                                               Table 8 Unnamed: 1 Unnamed: 2  \\\n",
       "350                                            Yonkers     199134       1036   \n",
       "351                                      Yorktown Town      36643         15   \n",
       "352  1 The figures shown in this column for the off...        NaN        NaN   \n",
       "353  2 The figures shown in this column for the off...        NaN        NaN   \n",
       "354  3 The FBI does not publish arson data unless i...        NaN        NaN   \n",
       "\n",
       "    Unnamed: 3 Unnamed: 4 Unnamed: 5 Unnamed: 6 Unnamed: 7 Unnamed: 8  \\\n",
       "350          6        NaN         25        390        615       2368   \n",
       "351          0        NaN          0          2         13        334   \n",
       "352        NaN        NaN        NaN        NaN        NaN        NaN   \n",
       "353        NaN        NaN        NaN        NaN        NaN        NaN   \n",
       "354        NaN        NaN        NaN        NaN        NaN        NaN   \n",
       "\n",
       "    Unnamed: 9 Unnamed: 10 Unnamed: 11 Unnamed: 12  \n",
       "350        470        1662         236          10  \n",
       "351         45         287           2         NaN  \n",
       "352        NaN         NaN         NaN         NaN  \n",
       "353        NaN         NaN         NaN         NaN  \n",
       "354        NaN         NaN         NaN         NaN  "
      ]
     },
     "execution_count": 183,
     "metadata": {},
     "output_type": "execute_result"
    }
   ],
   "source": [
    "# show last 5 lines of raw file; last 3 lines need to be removed\n",
    "df_raw.tail()"
   ]
  },
  {
   "cell_type": "markdown",
   "metadata": {},
   "source": [
    "The last few rows here need to be deleted since they contain no data.  We also need to check for missing or NaN values in the data."
   ]
  },
  {
   "cell_type": "code",
   "execution_count": 184,
   "metadata": {},
   "outputs": [],
   "source": [
    "# setting the proper heading from the 4th row of raw data\n",
    "headers = df_raw.iloc[3]\n",
    "\n",
    "# exclude rows 1 through 4 (or rows 0, 1, 2, 3)\n",
    "df_ny = pd.DataFrame(df_raw.values[4:], columns=headers)\n",
    "\n",
    "# renaming columns\n",
    "df_ny.columns = ['city', 'pop', 'vc', 'murder', 'rape1', 'rape2', 'robbery', 'aa', 'pc', 'burglary', 'lt', 'mvt', 'arson3']\n",
    "df_ny_all = df_ny\n",
    "\n",
    "# dropping unnecessary columns\n",
    "df_ny = df_ny.drop(['vc', 'rape1', 'rape2', 'aa', 'burglary', 'lt', 'mvt', 'arson3'], axis=1)\n",
    "\n",
    "# drop some of the columns for later use\n",
    "df_ny_some = df_ny_all.drop(['vc', 'rape1', 'rape2', 'lt', 'mvt', 'arson3'], axis=1)\n",
    "\n",
    "# removing last 3 rows of instructional data\n",
    "df_ny = df_ny.drop([348, 349, 350], axis=0)"
   ]
  },
  {
   "cell_type": "code",
   "execution_count": 185,
   "metadata": {},
   "outputs": [
    {
     "data": {
      "text/html": [
       "<div>\n",
       "<style scoped>\n",
       "    .dataframe tbody tr th:only-of-type {\n",
       "        vertical-align: middle;\n",
       "    }\n",
       "\n",
       "    .dataframe tbody tr th {\n",
       "        vertical-align: top;\n",
       "    }\n",
       "\n",
       "    .dataframe thead th {\n",
       "        text-align: right;\n",
       "    }\n",
       "</style>\n",
       "<table border=\"1\" class=\"dataframe\">\n",
       "  <thead>\n",
       "    <tr style=\"text-align: right;\">\n",
       "      <th></th>\n",
       "      <th>city</th>\n",
       "      <th>pop</th>\n",
       "      <th>murder</th>\n",
       "      <th>robbery</th>\n",
       "      <th>pc</th>\n",
       "    </tr>\n",
       "  </thead>\n",
       "  <tbody>\n",
       "    <tr>\n",
       "      <th>0</th>\n",
       "      <td>Adams Village</td>\n",
       "      <td>1861</td>\n",
       "      <td>0</td>\n",
       "      <td>0</td>\n",
       "      <td>12</td>\n",
       "    </tr>\n",
       "    <tr>\n",
       "      <th>1</th>\n",
       "      <td>Addison Town and Village</td>\n",
       "      <td>2577</td>\n",
       "      <td>0</td>\n",
       "      <td>0</td>\n",
       "      <td>24</td>\n",
       "    </tr>\n",
       "    <tr>\n",
       "      <th>2</th>\n",
       "      <td>Akron Village</td>\n",
       "      <td>2846</td>\n",
       "      <td>0</td>\n",
       "      <td>0</td>\n",
       "      <td>16</td>\n",
       "    </tr>\n",
       "    <tr>\n",
       "      <th>3</th>\n",
       "      <td>Albany</td>\n",
       "      <td>97956</td>\n",
       "      <td>8</td>\n",
       "      <td>227</td>\n",
       "      <td>4090</td>\n",
       "    </tr>\n",
       "    <tr>\n",
       "      <th>4</th>\n",
       "      <td>Albion Village</td>\n",
       "      <td>6388</td>\n",
       "      <td>0</td>\n",
       "      <td>4</td>\n",
       "      <td>223</td>\n",
       "    </tr>\n",
       "  </tbody>\n",
       "</table>\n",
       "</div>"
      ],
      "text/plain": [
       "                       city    pop murder robbery    pc\n",
       "0             Adams Village   1861      0       0    12\n",
       "1  Addison Town and Village   2577      0       0    24\n",
       "2             Akron Village   2846      0       0    16\n",
       "3                    Albany  97956      8     227  4090\n",
       "4            Albion Village   6388      0       4   223"
      ]
     },
     "execution_count": 185,
     "metadata": {},
     "output_type": "execute_result"
    }
   ],
   "source": [
    "df_ny.head()"
   ]
  },
  {
   "cell_type": "markdown",
   "metadata": {},
   "source": [
    "This is much better.  Now, you can see that we have dropped some unnecessary columns as we are only concerned with the city, population, murder and robbery.  These columns have been renamed from the raw data for ease of use and convenience.  We also dropped the last 3 explanatory rows from the dataframe.  The next step is to convert the numbers to floats and add another feature called 'pop2' which is the population squared for each city."
   ]
  },
  {
   "cell_type": "code",
   "execution_count": 186,
   "metadata": {},
   "outputs": [],
   "source": [
    "#converting string values to float and creating 'pop2' column which is pop squared\n",
    "\n",
    "df_ny[\"pop\"] = [np.float(x) for x in df_ny[\"pop\"]]\n",
    "df_ny[\"pop2\"] = [np.float(x*x) for x in df_ny[\"pop\"]]\n",
    "df_ny[\"murder\"] = [np.float(x) for x in df_ny[\"murder\"]]\n",
    "df_ny[\"robbery\"] = [np.float(x) for x in df_ny[\"robbery\"]]\n",
    "df_ny[\"pc\"] = [np.float(x) for x in df_ny[\"pc\"]]"
   ]
  },
  {
   "cell_type": "code",
   "execution_count": 187,
   "metadata": {},
   "outputs": [
    {
     "data": {
      "text/plain": [
       "city        object\n",
       "pop        float64\n",
       "murder     float64\n",
       "robbery    float64\n",
       "pc         float64\n",
       "pop2       float64\n",
       "dtype: object"
      ]
     },
     "execution_count": 187,
     "metadata": {},
     "output_type": "execute_result"
    }
   ],
   "source": [
    "df_ny.dtypes"
   ]
  },
  {
   "cell_type": "markdown",
   "metadata": {},
   "source": [
    "Next, we'll convert the murder and robbery features to categorical values."
   ]
  },
  {
   "cell_type": "code",
   "execution_count": 188,
   "metadata": {},
   "outputs": [
    {
     "data": {
      "text/html": [
       "<div>\n",
       "<style scoped>\n",
       "    .dataframe tbody tr th:only-of-type {\n",
       "        vertical-align: middle;\n",
       "    }\n",
       "\n",
       "    .dataframe tbody tr th {\n",
       "        vertical-align: top;\n",
       "    }\n",
       "\n",
       "    .dataframe thead th {\n",
       "        text-align: right;\n",
       "    }\n",
       "</style>\n",
       "<table border=\"1\" class=\"dataframe\">\n",
       "  <thead>\n",
       "    <tr style=\"text-align: right;\">\n",
       "      <th></th>\n",
       "      <th>city</th>\n",
       "      <th>pop</th>\n",
       "      <th>murder</th>\n",
       "      <th>robbery</th>\n",
       "      <th>pc</th>\n",
       "      <th>pop2</th>\n",
       "    </tr>\n",
       "  </thead>\n",
       "  <tbody>\n",
       "    <tr>\n",
       "      <th>0</th>\n",
       "      <td>Adams Village</td>\n",
       "      <td>1861.000</td>\n",
       "      <td>0</td>\n",
       "      <td>0</td>\n",
       "      <td>12.000</td>\n",
       "      <td>3463321.000</td>\n",
       "    </tr>\n",
       "    <tr>\n",
       "      <th>1</th>\n",
       "      <td>Addison Town and Village</td>\n",
       "      <td>2577.000</td>\n",
       "      <td>0</td>\n",
       "      <td>0</td>\n",
       "      <td>24.000</td>\n",
       "      <td>6640929.000</td>\n",
       "    </tr>\n",
       "    <tr>\n",
       "      <th>2</th>\n",
       "      <td>Akron Village</td>\n",
       "      <td>2846.000</td>\n",
       "      <td>0</td>\n",
       "      <td>0</td>\n",
       "      <td>16.000</td>\n",
       "      <td>8099716.000</td>\n",
       "    </tr>\n",
       "    <tr>\n",
       "      <th>3</th>\n",
       "      <td>Albany</td>\n",
       "      <td>97956.000</td>\n",
       "      <td>1</td>\n",
       "      <td>1</td>\n",
       "      <td>4090.000</td>\n",
       "      <td>9595377936.000</td>\n",
       "    </tr>\n",
       "    <tr>\n",
       "      <th>4</th>\n",
       "      <td>Albion Village</td>\n",
       "      <td>6388.000</td>\n",
       "      <td>0</td>\n",
       "      <td>1</td>\n",
       "      <td>223.000</td>\n",
       "      <td>40806544.000</td>\n",
       "    </tr>\n",
       "  </tbody>\n",
       "</table>\n",
       "</div>"
      ],
      "text/plain": [
       "                       city       pop  murder  robbery       pc           pop2\n",
       "0             Adams Village  1861.000       0        0   12.000    3463321.000\n",
       "1  Addison Town and Village  2577.000       0        0   24.000    6640929.000\n",
       "2             Akron Village  2846.000       0        0   16.000    8099716.000\n",
       "3                    Albany 97956.000       1        1 4090.000 9595377936.000\n",
       "4            Albion Village  6388.000       0        1  223.000   40806544.000"
      ]
     },
     "execution_count": 188,
     "metadata": {},
     "output_type": "execute_result"
    }
   ],
   "source": [
    "# If murders or robberies in greater than 0, convert to 1 else leave at 0\n",
    "df_ny['murder'] = df_ny['murder'].apply(lambda x : 1 if x>0 else 0)\n",
    "df_ny['robbery'] = df_ny['robbery'].apply(lambda x : 1 if x>0 else 0)\n",
    "df_ny.head()"
   ]
  },
  {
   "cell_type": "markdown",
   "metadata": {},
   "source": [
    "We've now got all of the data needed at this point and in the correct format to begin constructing our model."
   ]
  },
  {
   "cell_type": "markdown",
   "metadata": {},
   "source": [
    "## Data exploration"
   ]
  },
  {
   "cell_type": "markdown",
   "metadata": {},
   "source": [
    "First, look for any missing or NaN values."
   ]
  },
  {
   "cell_type": "code",
   "execution_count": 189,
   "metadata": {},
   "outputs": [
    {
     "data": {
      "text/plain": [
       "city       0\n",
       "pop        0\n",
       "murder     0\n",
       "robbery    0\n",
       "pc         0\n",
       "pop2       0\n",
       "dtype: int64"
      ]
     },
     "execution_count": 189,
     "metadata": {},
     "output_type": "execute_result"
    }
   ],
   "source": [
    "df_ny.isnull().sum()"
   ]
  },
  {
   "cell_type": "markdown",
   "metadata": {},
   "source": [
    "Looks good so far, no missing values.  \n",
    "\n",
    "Next, let's just look at the property crime versus population with a scatterplot."
   ]
  },
  {
   "cell_type": "code",
   "execution_count": 190,
   "metadata": {},
   "outputs": [
    {
     "data": {
      "text/plain": [
       "<matplotlib.collections.PathCollection at 0x1ebb4e50>"
      ]
     },
     "execution_count": 190,
     "metadata": {},
     "output_type": "execute_result"
    },
    {
     "data": {
      "image/png": "[encoded data removed]",
      "text/plain": [
       "<Figure size 432x288 with 1 Axes>"
      ]
     },
     "metadata": {
      "needs_background": "light"
     },
     "output_type": "display_data"
    }
   ],
   "source": [
    "plt.scatter(df_ny['pop'], df_ny['pc'])"
   ]
  },
  {
   "cell_type": "markdown",
   "metadata": {},
   "source": [
    "It looks like we have a massive outlier here that could easily cause problems building a reliable model.  Let's find out what this outlier is and remove it and look again at the scatterplot."
   ]
  },
  {
   "cell_type": "code",
   "execution_count": 191,
   "metadata": {},
   "outputs": [
    {
     "name": "stdout",
     "output_type": "stream",
     "text": [
      "526.0\n",
      "141971.0\n",
      "         city         pop  murder  robbery         pc               pop2\n",
      "216  New York 8396126.000       1        1 141971.000 70494931807876.000\n",
      "\n",
      "\n",
      "                  city     pop  murder  robbery    pc       pop2\n",
      "118  Glen Park Village 526.000       0        0 5.000 276676.000\n"
     ]
    }
   ],
   "source": [
    "print(min(df_ny['pop']))\n",
    "print(max(df_ny['pc']))\n",
    "print(df_ny.loc[df_ny['city'] == 'New York'])\n",
    "print('\\n')\n",
    "print(df_ny.loc[df_ny['pop'] == 526.0])"
   ]
  },
  {
   "cell_type": "markdown",
   "metadata": {},
   "source": [
    "So the city in question is New York City which has a population of 141,971."
   ]
  },
  {
   "cell_type": "code",
   "execution_count": 192,
   "metadata": {},
   "outputs": [
    {
     "data": {
      "text/plain": [
       "<matplotlib.collections.PathCollection at 0x1e387730>"
      ]
     },
     "execution_count": 192,
     "metadata": {},
     "output_type": "execute_result"
    },
    {
     "data": {
      "image/png": "[encoded data removed]",
      "text/plain": [
       "<Figure size 432x288 with 1 Axes>"
      ]
     },
     "metadata": {
      "needs_background": "light"
     },
     "output_type": "display_data"
    }
   ],
   "source": [
    "# drop nyc data\n",
    "df_no_nyc = df_ny.drop([216])\n",
    "\n",
    "# produce new scatterplot\n",
    "plt.scatter(df_no_nyc['pop'], df_no_nyc['pc'])"
   ]
  },
  {
   "cell_type": "markdown",
   "metadata": {},
   "source": [
    "This looks much better; more conducive to building an accurate model.  Next, let's look to see if there are any strong correlations between all of the features to see if some are redundant and unnecessary."
   ]
  },
  {
   "cell_type": "code",
   "execution_count": 193,
   "metadata": {},
   "outputs": [
    {
     "data": {
      "text/html": [
       "<div>\n",
       "<style scoped>\n",
       "    .dataframe tbody tr th:only-of-type {\n",
       "        vertical-align: middle;\n",
       "    }\n",
       "\n",
       "    .dataframe tbody tr th {\n",
       "        vertical-align: top;\n",
       "    }\n",
       "\n",
       "    .dataframe thead th {\n",
       "        text-align: right;\n",
       "    }\n",
       "</style>\n",
       "<table border=\"1\" class=\"dataframe\">\n",
       "  <thead>\n",
       "    <tr style=\"text-align: right;\">\n",
       "      <th></th>\n",
       "      <th>city</th>\n",
       "      <th>pop</th>\n",
       "      <th>vc</th>\n",
       "      <th>murder</th>\n",
       "      <th>rape1</th>\n",
       "      <th>rape2</th>\n",
       "      <th>robbery</th>\n",
       "      <th>aa</th>\n",
       "      <th>pc</th>\n",
       "      <th>burglary</th>\n",
       "      <th>lt</th>\n",
       "      <th>mvt</th>\n",
       "      <th>arson3</th>\n",
       "    </tr>\n",
       "  </thead>\n",
       "  <tbody>\n",
       "    <tr>\n",
       "      <th>346</th>\n",
       "      <td>Yonkers</td>\n",
       "      <td>199134</td>\n",
       "      <td>1036</td>\n",
       "      <td>6</td>\n",
       "      <td>NaN</td>\n",
       "      <td>25</td>\n",
       "      <td>390</td>\n",
       "      <td>615</td>\n",
       "      <td>2368</td>\n",
       "      <td>470</td>\n",
       "      <td>1662</td>\n",
       "      <td>236</td>\n",
       "      <td>10</td>\n",
       "    </tr>\n",
       "    <tr>\n",
       "      <th>347</th>\n",
       "      <td>Yorktown Town</td>\n",
       "      <td>36643</td>\n",
       "      <td>15</td>\n",
       "      <td>0</td>\n",
       "      <td>NaN</td>\n",
       "      <td>0</td>\n",
       "      <td>2</td>\n",
       "      <td>13</td>\n",
       "      <td>334</td>\n",
       "      <td>45</td>\n",
       "      <td>287</td>\n",
       "      <td>2</td>\n",
       "      <td>NaN</td>\n",
       "    </tr>\n",
       "    <tr>\n",
       "      <th>348</th>\n",
       "      <td>1 The figures shown in this column for the off...</td>\n",
       "      <td>NaN</td>\n",
       "      <td>NaN</td>\n",
       "      <td>NaN</td>\n",
       "      <td>NaN</td>\n",
       "      <td>NaN</td>\n",
       "      <td>NaN</td>\n",
       "      <td>NaN</td>\n",
       "      <td>NaN</td>\n",
       "      <td>NaN</td>\n",
       "      <td>NaN</td>\n",
       "      <td>NaN</td>\n",
       "      <td>NaN</td>\n",
       "    </tr>\n",
       "    <tr>\n",
       "      <th>349</th>\n",
       "      <td>2 The figures shown in this column for the off...</td>\n",
       "      <td>NaN</td>\n",
       "      <td>NaN</td>\n",
       "      <td>NaN</td>\n",
       "      <td>NaN</td>\n",
       "      <td>NaN</td>\n",
       "      <td>NaN</td>\n",
       "      <td>NaN</td>\n",
       "      <td>NaN</td>\n",
       "      <td>NaN</td>\n",
       "      <td>NaN</td>\n",
       "      <td>NaN</td>\n",
       "      <td>NaN</td>\n",
       "    </tr>\n",
       "    <tr>\n",
       "      <th>350</th>\n",
       "      <td>3 The FBI does not publish arson data unless i...</td>\n",
       "      <td>NaN</td>\n",
       "      <td>NaN</td>\n",
       "      <td>NaN</td>\n",
       "      <td>NaN</td>\n",
       "      <td>NaN</td>\n",
       "      <td>NaN</td>\n",
       "      <td>NaN</td>\n",
       "      <td>NaN</td>\n",
       "      <td>NaN</td>\n",
       "      <td>NaN</td>\n",
       "      <td>NaN</td>\n",
       "      <td>NaN</td>\n",
       "    </tr>\n",
       "  </tbody>\n",
       "</table>\n",
       "</div>"
      ],
      "text/plain": [
       "                                                  city     pop    vc murder  \\\n",
       "346                                            Yonkers  199134  1036      6   \n",
       "347                                      Yorktown Town   36643    15      0   \n",
       "348  1 The figures shown in this column for the off...     NaN   NaN    NaN   \n",
       "349  2 The figures shown in this column for the off...     NaN   NaN    NaN   \n",
       "350  3 The FBI does not publish arson data unless i...     NaN   NaN    NaN   \n",
       "\n",
       "    rape1 rape2 robbery   aa    pc burglary    lt  mvt arson3  \n",
       "346   NaN    25     390  615  2368      470  1662  236     10  \n",
       "347   NaN     0       2   13   334       45   287    2    NaN  \n",
       "348   NaN   NaN     NaN  NaN   NaN      NaN   NaN  NaN    NaN  \n",
       "349   NaN   NaN     NaN  NaN   NaN      NaN   NaN  NaN    NaN  \n",
       "350   NaN   NaN     NaN  NaN   NaN      NaN   NaN  NaN    NaN  "
      ]
     },
     "execution_count": 193,
     "metadata": {},
     "output_type": "execute_result"
    }
   ],
   "source": [
    "df_ny_all.tail()"
   ]
  },
  {
   "cell_type": "code",
   "execution_count": 194,
   "metadata": {},
   "outputs": [
    {
     "data": {
      "text/html": [
       "<div>\n",
       "<style scoped>\n",
       "    .dataframe tbody tr th:only-of-type {\n",
       "        vertical-align: middle;\n",
       "    }\n",
       "\n",
       "    .dataframe tbody tr th {\n",
       "        vertical-align: top;\n",
       "    }\n",
       "\n",
       "    .dataframe thead th {\n",
       "        text-align: right;\n",
       "    }\n",
       "</style>\n",
       "<table border=\"1\" class=\"dataframe\">\n",
       "  <thead>\n",
       "    <tr style=\"text-align: right;\">\n",
       "      <th></th>\n",
       "      <th>city</th>\n",
       "      <th>pop</th>\n",
       "      <th>vc</th>\n",
       "      <th>murder</th>\n",
       "      <th>rape2</th>\n",
       "      <th>robbery</th>\n",
       "      <th>aa</th>\n",
       "      <th>pc</th>\n",
       "      <th>burglary</th>\n",
       "      <th>lt</th>\n",
       "      <th>mvt</th>\n",
       "    </tr>\n",
       "  </thead>\n",
       "  <tbody>\n",
       "    <tr>\n",
       "      <th>0</th>\n",
       "      <td>Adams Village</td>\n",
       "      <td>1861</td>\n",
       "      <td>0</td>\n",
       "      <td>0</td>\n",
       "      <td>0</td>\n",
       "      <td>0</td>\n",
       "      <td>0</td>\n",
       "      <td>12</td>\n",
       "      <td>2</td>\n",
       "      <td>10</td>\n",
       "      <td>0</td>\n",
       "    </tr>\n",
       "    <tr>\n",
       "      <th>1</th>\n",
       "      <td>Addison Town and Village</td>\n",
       "      <td>2577</td>\n",
       "      <td>3</td>\n",
       "      <td>0</td>\n",
       "      <td>0</td>\n",
       "      <td>0</td>\n",
       "      <td>3</td>\n",
       "      <td>24</td>\n",
       "      <td>3</td>\n",
       "      <td>20</td>\n",
       "      <td>1</td>\n",
       "    </tr>\n",
       "    <tr>\n",
       "      <th>2</th>\n",
       "      <td>Akron Village</td>\n",
       "      <td>2846</td>\n",
       "      <td>3</td>\n",
       "      <td>0</td>\n",
       "      <td>0</td>\n",
       "      <td>0</td>\n",
       "      <td>3</td>\n",
       "      <td>16</td>\n",
       "      <td>1</td>\n",
       "      <td>15</td>\n",
       "      <td>0</td>\n",
       "    </tr>\n",
       "    <tr>\n",
       "      <th>3</th>\n",
       "      <td>Albany</td>\n",
       "      <td>97956</td>\n",
       "      <td>791</td>\n",
       "      <td>8</td>\n",
       "      <td>30</td>\n",
       "      <td>227</td>\n",
       "      <td>526</td>\n",
       "      <td>4090</td>\n",
       "      <td>705</td>\n",
       "      <td>3243</td>\n",
       "      <td>142</td>\n",
       "    </tr>\n",
       "    <tr>\n",
       "      <th>4</th>\n",
       "      <td>Albion Village</td>\n",
       "      <td>6388</td>\n",
       "      <td>23</td>\n",
       "      <td>0</td>\n",
       "      <td>3</td>\n",
       "      <td>4</td>\n",
       "      <td>16</td>\n",
       "      <td>223</td>\n",
       "      <td>53</td>\n",
       "      <td>165</td>\n",
       "      <td>5</td>\n",
       "    </tr>\n",
       "  </tbody>\n",
       "</table>\n",
       "</div>"
      ],
      "text/plain": [
       "                       city    pop   vc murder rape2 robbery   aa    pc  \\\n",
       "0             Adams Village   1861    0      0     0       0    0    12   \n",
       "1  Addison Town and Village   2577    3      0     0       0    3    24   \n",
       "2             Akron Village   2846    3      0     0       0    3    16   \n",
       "3                    Albany  97956  791      8    30     227  526  4090   \n",
       "4            Albion Village   6388   23      0     3       4   16   223   \n",
       "\n",
       "  burglary    lt  mvt  \n",
       "0        2    10    0  \n",
       "1        3    20    1  \n",
       "2        1    15    0  \n",
       "3      705  3243  142  \n",
       "4       53   165    5  "
      ]
     },
     "execution_count": 194,
     "metadata": {},
     "output_type": "execute_result"
    }
   ],
   "source": [
    "df_ny_all = df_ny_all.drop(['rape1', 'arson3'], axis=1)\n",
    "\n",
    "# removing last 3 rows of instructional data\n",
    "df_ny_all = df_ny_all.drop([348, 349, 350], axis=0)\n",
    "\n",
    "df_ny_all.isnull().sum()\n",
    "\n",
    "df_ny_all.head()"
   ]
  },
  {
   "cell_type": "code",
   "execution_count": 195,
   "metadata": {},
   "outputs": [],
   "source": [
    "#converting string values to float and creating 'pop2' column which is pop squared\n",
    "\n",
    "df_ny_all[\"pop\"] = [np.float(x) for x in df_ny_all[\"pop\"]]\n",
    "df_ny_all[\"pop2\"] = [np.float(x*x) for x in df_ny_all[\"pop\"]]\n",
    "df_ny_all[\"vc\"] = [np.float(x) for x in df_ny_all[\"vc\"]]\n",
    "df_ny_all[\"murder\"] = [np.float(x) for x in df_ny_all[\"murder\"]]\n",
    "df_ny_all[\"rape2\"] = [np.float(x) for x in df_ny_all[\"rape2\"]]\n",
    "df_ny_all[\"robbery\"] = [np.float(x) for x in df_ny_all[\"robbery\"]]\n",
    "df_ny_all[\"aa\"] = [np.float(x) for x in df_ny_all[\"aa\"]]\n",
    "df_ny_all[\"pc\"] = [np.float(x) for x in df_ny_all[\"pc\"]]\n",
    "df_ny_all[\"burglary\"] = [np.float(x) for x in df_ny_all[\"burglary\"]]\n",
    "df_ny_all[\"lt\"] = [np.float(x) for x in df_ny_all[\"lt\"]]\n",
    "df_ny_all[\"mvt\"] = [np.float(x) for x in df_ny_all[\"mvt\"]]\n"
   ]
  },
  {
   "cell_type": "code",
   "execution_count": 196,
   "metadata": {},
   "outputs": [
    {
     "data": {
      "text/plain": [
       "<matplotlib.axes._subplots.AxesSubplot at 0x1e55ee50>"
      ]
     },
     "execution_count": 196,
     "metadata": {},
     "output_type": "execute_result"
    },
    {
     "data": {
      "image/png": "[encoded data removed]",
      "text/plain": [
       "<Figure size 432x288 with 2 Axes>"
      ]
     },
     "metadata": {
      "needs_background": "light"
     },
     "output_type": "display_data"
    }
   ],
   "source": [
    "# Compute pairwise correlation of columns, excluding NA/null values (with .corr); then create the heatmap.\n",
    "sns.heatmap(df_ny_all.corr())\n"
   ]
  },
  {
   "cell_type": "markdown",
   "metadata": {},
   "source": [
    "This is the heatmap with NYC data.  Everything is extremely highly correlated (probably overfit).  We can also see that pop and pop2 are practically perfectly correlated, so we can drop pop2."
   ]
  },
  {
   "cell_type": "code",
   "execution_count": 197,
   "metadata": {},
   "outputs": [],
   "source": [
    "# drop nyc data\n",
    "df_ny_all_no_nyc = df_ny_all.drop([216])"
   ]
  },
  {
   "cell_type": "code",
   "execution_count": 198,
   "metadata": {},
   "outputs": [
    {
     "data": {
      "text/plain": [
       "<matplotlib.axes._subplots.AxesSubplot at 0x1fc15750>"
      ]
     },
     "execution_count": 198,
     "metadata": {},
     "output_type": "execute_result"
    },
    {
     "data": {
      "image/png": "[encoded data removed]",
      "text/plain": [
       "<Figure size 432x288 with 2 Axes>"
      ]
     },
     "metadata": {
      "needs_background": "light"
     },
     "output_type": "display_data"
    }
   ],
   "source": [
    "# Compute pairwise correlation of columns, excluding NA/null values (with .corr); then create the heatmap.\n",
    "sns.heatmap(df_ny_all_no_nyc.corr())\n"
   ]
  },
  {
   "cell_type": "markdown",
   "metadata": {},
   "source": [
    "This heatmap leave out NYC data.  We can see the strong positive correlation between population (pop) and property crime (pc) which looks like about 0.90.  Also, we see that the model does not look to be overfit as correlations go as low as 0.75.  It looks like aggravated assault (aa) is the least correlated feature here, so maybe this feature is the best one to use next time to build a better model."
   ]
  },
  {
   "cell_type": "code",
   "execution_count": 199,
   "metadata": {},
   "outputs": [
    {
     "data": {
      "text/html": [
       "<div>\n",
       "<style scoped>\n",
       "    .dataframe tbody tr th:only-of-type {\n",
       "        vertical-align: middle;\n",
       "    }\n",
       "\n",
       "    .dataframe tbody tr th {\n",
       "        vertical-align: top;\n",
       "    }\n",
       "\n",
       "    .dataframe thead th {\n",
       "        text-align: right;\n",
       "    }\n",
       "</style>\n",
       "<table border=\"1\" class=\"dataframe\">\n",
       "  <thead>\n",
       "    <tr style=\"text-align: right;\">\n",
       "      <th></th>\n",
       "      <th>city</th>\n",
       "      <th>pop</th>\n",
       "      <th>vc</th>\n",
       "      <th>murder</th>\n",
       "      <th>rape2</th>\n",
       "      <th>robbery</th>\n",
       "      <th>aa</th>\n",
       "      <th>pc</th>\n",
       "      <th>burglary</th>\n",
       "      <th>lt</th>\n",
       "      <th>mvt</th>\n",
       "      <th>pop2</th>\n",
       "    </tr>\n",
       "  </thead>\n",
       "  <tbody>\n",
       "    <tr>\n",
       "      <th>0</th>\n",
       "      <td>Adams Village</td>\n",
       "      <td>1861.000</td>\n",
       "      <td>0.000</td>\n",
       "      <td>0.000</td>\n",
       "      <td>0.000</td>\n",
       "      <td>0.000</td>\n",
       "      <td>0.000</td>\n",
       "      <td>12.000</td>\n",
       "      <td>2.000</td>\n",
       "      <td>10.000</td>\n",
       "      <td>0.000</td>\n",
       "      <td>3463321.000</td>\n",
       "    </tr>\n",
       "    <tr>\n",
       "      <th>1</th>\n",
       "      <td>Addison Town and Village</td>\n",
       "      <td>2577.000</td>\n",
       "      <td>3.000</td>\n",
       "      <td>0.000</td>\n",
       "      <td>0.000</td>\n",
       "      <td>0.000</td>\n",
       "      <td>3.000</td>\n",
       "      <td>24.000</td>\n",
       "      <td>3.000</td>\n",
       "      <td>20.000</td>\n",
       "      <td>1.000</td>\n",
       "      <td>6640929.000</td>\n",
       "    </tr>\n",
       "    <tr>\n",
       "      <th>2</th>\n",
       "      <td>Akron Village</td>\n",
       "      <td>2846.000</td>\n",
       "      <td>3.000</td>\n",
       "      <td>0.000</td>\n",
       "      <td>0.000</td>\n",
       "      <td>0.000</td>\n",
       "      <td>3.000</td>\n",
       "      <td>16.000</td>\n",
       "      <td>1.000</td>\n",
       "      <td>15.000</td>\n",
       "      <td>0.000</td>\n",
       "      <td>8099716.000</td>\n",
       "    </tr>\n",
       "    <tr>\n",
       "      <th>3</th>\n",
       "      <td>Albany</td>\n",
       "      <td>97956.000</td>\n",
       "      <td>791.000</td>\n",
       "      <td>8.000</td>\n",
       "      <td>30.000</td>\n",
       "      <td>227.000</td>\n",
       "      <td>526.000</td>\n",
       "      <td>4090.000</td>\n",
       "      <td>705.000</td>\n",
       "      <td>3243.000</td>\n",
       "      <td>142.000</td>\n",
       "      <td>9595377936.000</td>\n",
       "    </tr>\n",
       "    <tr>\n",
       "      <th>4</th>\n",
       "      <td>Albion Village</td>\n",
       "      <td>6388.000</td>\n",
       "      <td>23.000</td>\n",
       "      <td>0.000</td>\n",
       "      <td>3.000</td>\n",
       "      <td>4.000</td>\n",
       "      <td>16.000</td>\n",
       "      <td>223.000</td>\n",
       "      <td>53.000</td>\n",
       "      <td>165.000</td>\n",
       "      <td>5.000</td>\n",
       "      <td>40806544.000</td>\n",
       "    </tr>\n",
       "  </tbody>\n",
       "</table>\n",
       "</div>"
      ],
      "text/plain": [
       "                       city       pop      vc  murder  rape2  robbery      aa  \\\n",
       "0             Adams Village  1861.000   0.000   0.000  0.000    0.000   0.000   \n",
       "1  Addison Town and Village  2577.000   3.000   0.000  0.000    0.000   3.000   \n",
       "2             Akron Village  2846.000   3.000   0.000  0.000    0.000   3.000   \n",
       "3                    Albany 97956.000 791.000   8.000 30.000  227.000 526.000   \n",
       "4            Albion Village  6388.000  23.000   0.000  3.000    4.000  16.000   \n",
       "\n",
       "        pc  burglary       lt     mvt           pop2  \n",
       "0   12.000     2.000   10.000   0.000    3463321.000  \n",
       "1   24.000     3.000   20.000   1.000    6640929.000  \n",
       "2   16.000     1.000   15.000   0.000    8099716.000  \n",
       "3 4090.000   705.000 3243.000 142.000 9595377936.000  \n",
       "4  223.000    53.000  165.000   5.000   40806544.000  "
      ]
     },
     "execution_count": 199,
     "metadata": {},
     "output_type": "execute_result"
    }
   ],
   "source": [
    "df_ny_all.head()"
   ]
  },
  {
   "cell_type": "code",
   "execution_count": 200,
   "metadata": {},
   "outputs": [
    {
     "data": {
      "text/html": [
       "<div>\n",
       "<style scoped>\n",
       "    .dataframe tbody tr th:only-of-type {\n",
       "        vertical-align: middle;\n",
       "    }\n",
       "\n",
       "    .dataframe tbody tr th {\n",
       "        vertical-align: top;\n",
       "    }\n",
       "\n",
       "    .dataframe thead th {\n",
       "        text-align: right;\n",
       "    }\n",
       "</style>\n",
       "<table border=\"1\" class=\"dataframe\">\n",
       "  <thead>\n",
       "    <tr style=\"text-align: right;\">\n",
       "      <th></th>\n",
       "      <th>city</th>\n",
       "      <th>pop</th>\n",
       "      <th>murder</th>\n",
       "      <th>robbery</th>\n",
       "      <th>aa</th>\n",
       "      <th>pc</th>\n",
       "      <th>burglary</th>\n",
       "    </tr>\n",
       "  </thead>\n",
       "  <tbody>\n",
       "    <tr>\n",
       "      <th>0</th>\n",
       "      <td>Adams Village</td>\n",
       "      <td>1861</td>\n",
       "      <td>0</td>\n",
       "      <td>0</td>\n",
       "      <td>0</td>\n",
       "      <td>12</td>\n",
       "      <td>2</td>\n",
       "    </tr>\n",
       "    <tr>\n",
       "      <th>1</th>\n",
       "      <td>Addison Town and Village</td>\n",
       "      <td>2577</td>\n",
       "      <td>0</td>\n",
       "      <td>0</td>\n",
       "      <td>3</td>\n",
       "      <td>24</td>\n",
       "      <td>3</td>\n",
       "    </tr>\n",
       "    <tr>\n",
       "      <th>2</th>\n",
       "      <td>Akron Village</td>\n",
       "      <td>2846</td>\n",
       "      <td>0</td>\n",
       "      <td>0</td>\n",
       "      <td>3</td>\n",
       "      <td>16</td>\n",
       "      <td>1</td>\n",
       "    </tr>\n",
       "    <tr>\n",
       "      <th>3</th>\n",
       "      <td>Albany</td>\n",
       "      <td>97956</td>\n",
       "      <td>8</td>\n",
       "      <td>227</td>\n",
       "      <td>526</td>\n",
       "      <td>4090</td>\n",
       "      <td>705</td>\n",
       "    </tr>\n",
       "    <tr>\n",
       "      <th>4</th>\n",
       "      <td>Albion Village</td>\n",
       "      <td>6388</td>\n",
       "      <td>0</td>\n",
       "      <td>4</td>\n",
       "      <td>16</td>\n",
       "      <td>223</td>\n",
       "      <td>53</td>\n",
       "    </tr>\n",
       "  </tbody>\n",
       "</table>\n",
       "</div>"
      ],
      "text/plain": [
       "                       city    pop murder robbery   aa    pc burglary\n",
       "0             Adams Village   1861      0       0    0    12        2\n",
       "1  Addison Town and Village   2577      0       0    3    24        3\n",
       "2             Akron Village   2846      0       0    3    16        1\n",
       "3                    Albany  97956      8     227  526  4090      705\n",
       "4            Albion Village   6388      0       4   16   223       53"
      ]
     },
     "execution_count": 200,
     "metadata": {},
     "output_type": "execute_result"
    }
   ],
   "source": [
    "# drop some of the columns for later use\n",
    "#df_ny_some = df_ny_all.drop(['vc', 'rape1', 'lt', 'mvt', 'arson3'], axis=1)\n",
    "df_ny_some.head()"
   ]
  },
  {
   "cell_type": "code",
   "execution_count": 201,
   "metadata": {},
   "outputs": [],
   "source": [
    "#converting string values to float and creating 'pop2' column which is pop squared\n",
    "\n",
    "df_ny_some[\"pop\"] = [np.float(x) for x in df_ny_some[\"pop\"]]\n",
    "df_ny_some[\"pop2\"] = [np.float(x*x) for x in df_ny_some[\"pop\"]]\n",
    "df_ny_some[\"murder\"] = [np.float(x) for x in df_ny_some[\"murder\"]]\n",
    "df_ny_some[\"robbery\"] = [np.float(x) for x in df_ny_some[\"robbery\"]]\n",
    "df_ny_some[\"aa\"] = [np.float(x) for x in df_ny_some[\"aa\"]]\n",
    "df_ny_some[\"pc\"] = [np.float(x) for x in df_ny_some[\"pc\"]]\n",
    "df_ny_some[\"burglary\"] = [np.float(x) for x in df_ny_some[\"burglary\"]]\n"
   ]
  },
  {
   "cell_type": "code",
   "execution_count": 202,
   "metadata": {},
   "outputs": [
    {
     "data": {
      "text/html": [
       "<div>\n",
       "<style scoped>\n",
       "    .dataframe tbody tr th:only-of-type {\n",
       "        vertical-align: middle;\n",
       "    }\n",
       "\n",
       "    .dataframe tbody tr th {\n",
       "        vertical-align: top;\n",
       "    }\n",
       "\n",
       "    .dataframe thead th {\n",
       "        text-align: right;\n",
       "    }\n",
       "</style>\n",
       "<table border=\"1\" class=\"dataframe\">\n",
       "  <thead>\n",
       "    <tr style=\"text-align: right;\">\n",
       "      <th></th>\n",
       "      <th>city</th>\n",
       "      <th>pop</th>\n",
       "      <th>murder</th>\n",
       "      <th>robbery</th>\n",
       "      <th>aa</th>\n",
       "      <th>pc</th>\n",
       "      <th>burglary</th>\n",
       "      <th>pop2</th>\n",
       "    </tr>\n",
       "  </thead>\n",
       "  <tbody>\n",
       "    <tr>\n",
       "      <th>0</th>\n",
       "      <td>Adams Village</td>\n",
       "      <td>1861.000</td>\n",
       "      <td>0.000</td>\n",
       "      <td>0.000</td>\n",
       "      <td>0.000</td>\n",
       "      <td>12.000</td>\n",
       "      <td>2.000</td>\n",
       "      <td>3463321.000</td>\n",
       "    </tr>\n",
       "    <tr>\n",
       "      <th>1</th>\n",
       "      <td>Addison Town and Village</td>\n",
       "      <td>2577.000</td>\n",
       "      <td>0.000</td>\n",
       "      <td>0.000</td>\n",
       "      <td>3.000</td>\n",
       "      <td>24.000</td>\n",
       "      <td>3.000</td>\n",
       "      <td>6640929.000</td>\n",
       "    </tr>\n",
       "    <tr>\n",
       "      <th>2</th>\n",
       "      <td>Akron Village</td>\n",
       "      <td>2846.000</td>\n",
       "      <td>0.000</td>\n",
       "      <td>0.000</td>\n",
       "      <td>3.000</td>\n",
       "      <td>16.000</td>\n",
       "      <td>1.000</td>\n",
       "      <td>8099716.000</td>\n",
       "    </tr>\n",
       "    <tr>\n",
       "      <th>3</th>\n",
       "      <td>Albany</td>\n",
       "      <td>97956.000</td>\n",
       "      <td>8.000</td>\n",
       "      <td>227.000</td>\n",
       "      <td>526.000</td>\n",
       "      <td>4090.000</td>\n",
       "      <td>705.000</td>\n",
       "      <td>9595377936.000</td>\n",
       "    </tr>\n",
       "    <tr>\n",
       "      <th>4</th>\n",
       "      <td>Albion Village</td>\n",
       "      <td>6388.000</td>\n",
       "      <td>0.000</td>\n",
       "      <td>4.000</td>\n",
       "      <td>16.000</td>\n",
       "      <td>223.000</td>\n",
       "      <td>53.000</td>\n",
       "      <td>40806544.000</td>\n",
       "    </tr>\n",
       "  </tbody>\n",
       "</table>\n",
       "</div>"
      ],
      "text/plain": [
       "                       city       pop  murder  robbery      aa       pc  \\\n",
       "0             Adams Village  1861.000   0.000    0.000   0.000   12.000   \n",
       "1  Addison Town and Village  2577.000   0.000    0.000   3.000   24.000   \n",
       "2             Akron Village  2846.000   0.000    0.000   3.000   16.000   \n",
       "3                    Albany 97956.000   8.000  227.000 526.000 4090.000   \n",
       "4            Albion Village  6388.000   0.000    4.000  16.000  223.000   \n",
       "\n",
       "   burglary           pop2  \n",
       "0     2.000    3463321.000  \n",
       "1     3.000    6640929.000  \n",
       "2     1.000    8099716.000  \n",
       "3   705.000 9595377936.000  \n",
       "4    53.000   40806544.000  "
      ]
     },
     "execution_count": 202,
     "metadata": {},
     "output_type": "execute_result"
    }
   ],
   "source": [
    "df_ny_some.head()"
   ]
  },
  {
   "cell_type": "code",
   "execution_count": 203,
   "metadata": {},
   "outputs": [
    {
     "data": {
      "text/plain": [
       "city         object\n",
       "pop         float64\n",
       "murder      float64\n",
       "robbery     float64\n",
       "aa          float64\n",
       "pc          float64\n",
       "burglary    float64\n",
       "pop2        float64\n",
       "dtype: object"
      ]
     },
     "execution_count": 203,
     "metadata": {},
     "output_type": "execute_result"
    }
   ],
   "source": [
    "df_ny_some.dtypes"
   ]
  },
  {
   "cell_type": "code",
   "execution_count": 204,
   "metadata": {},
   "outputs": [
    {
     "name": "stderr",
     "output_type": "stream",
     "text": [
      "c:\\users\\fred\\appdata\\local\\programs\\python\\python37-32\\lib\\site-packages\\numpy\\lib\\histograms.py:754: RuntimeWarning: invalid value encountered in greater_equal\n",
      "  keep = (tmp_a >= first_edge)\n",
      "c:\\users\\fred\\appdata\\local\\programs\\python\\python37-32\\lib\\site-packages\\numpy\\lib\\histograms.py:755: RuntimeWarning: invalid value encountered in less_equal\n",
      "  keep &= (tmp_a <= last_edge)\n"
     ]
    },
    {
     "data": {
      "text/plain": [
       "<seaborn.axisgrid.PairGrid at 0x1fc847d0>"
      ]
     },
     "execution_count": 204,
     "metadata": {},
     "output_type": "execute_result"
    },
    {
     "data": {
      "image/png": "[encoded data removed]",
      "text/plain": [
       "<Figure size 1260x1260 with 56 Axes>"
      ]
     },
     "metadata": {
      "needs_background": "light"
     },
     "output_type": "display_data"
    }
   ],
   "source": [
    "sns.pairplot(df_ny_some)"
   ]
  },
  {
   "cell_type": "markdown",
   "metadata": {},
   "source": [
    "The above pairplot still includes NYC data which is not very helpful; it's too much of an outlier.  We have to drop NYC data.  Some features were dropped in order to read the pairplot better in accordance with the heatmap results."
   ]
  },
  {
   "cell_type": "code",
   "execution_count": 205,
   "metadata": {},
   "outputs": [],
   "source": [
    "# drop nyc data\n",
    "df_ny_some_no_nyc = df_ny_some.drop([216])"
   ]
  },
  {
   "cell_type": "code",
   "execution_count": 207,
   "metadata": {},
   "outputs": [
    {
     "data": {
      "text/plain": [
       "<seaborn.axisgrid.PairGrid at 0x1aea0050>"
      ]
     },
     "execution_count": 207,
     "metadata": {},
     "output_type": "execute_result"
    },
    {
     "data": {
      "image/png": "[encoded data removed]",
      "text/plain": [
       "<Figure size 1260x1260 with 56 Axes>"
      ]
     },
     "metadata": {
      "needs_background": "light"
     },
     "output_type": "display_data"
    }
   ],
   "source": [
    "sns.pairplot(df_ny_some_no_nyc)"
   ]
  },
  {
   "cell_type": "markdown",
   "metadata": {},
   "source": [
    "Here again, it looks like **burglary** is an excellent predictor (feature) for property crime.  You can see a very nice, very close to linear relationship with very few, if any outliers."
   ]
  },
  {
   "cell_type": "markdown",
   "metadata": {},
   "source": [
    "## Building the model"
   ]
  },
  {
   "cell_type": "markdown",
   "metadata": {},
   "source": [
    "Without doing anything to the original data (data with NYC), build a multivariable regression equation using 'pop', 'murder' and 'robbery' for the features, or independent variables, to predict the property crime ('pc')."
   ]
  },
  {
   "cell_type": "code",
   "execution_count": 13,
   "metadata": {},
   "outputs": [
    {
     "name": "stdout",
     "output_type": "stream",
     "text": [
      "\n",
      "Coefficients: \n",
      " [[1.68728222e-02 6.07383740e+02 1.06994709e+02]]\n",
      "\n",
      "Intercept: \n",
      " [-32.72226824]\n",
      "\n",
      "R-squared:\n",
      "0.99344854357257\n"
     ]
    }
   ],
   "source": [
    "# Instantiate and fit our model.\n",
    "regr = linear_model.LinearRegression()\n",
    "Y = df_ny['pc'].values.reshape(-1, 1)\n",
    "X = df_ny[['pop', 'murder', 'robbery']]\n",
    "regr.fit(X, Y)\n",
    "\n",
    "# Inspect the results.\n",
    "print('\\nCoefficients: \\n', regr.coef_)\n",
    "print('\\nIntercept: \\n', regr.intercept_)\n",
    "print('\\nR-squared:')\n",
    "print(regr.score(X, Y))"
   ]
  },
  {
   "cell_type": "markdown",
   "metadata": {},
   "source": [
    "So the equation would be:  **y = -32.7 + .017(pop) + 607(murder) + 107(robbery)**  \n",
    "\n",
    "The R-squared value is very close to 1 which might mean we have probably overfit the data.\n",
    "\n",
    "Also, the population of the city in question needs to be at least **1924**, otherwise the model will predict a negative value for property crime occurrences which is impossible."
   ]
  },
  {
   "cell_type": "markdown",
   "metadata": {},
   "source": [
    "Now, let's build a model that excludes NYC."
   ]
  },
  {
   "cell_type": "code",
   "execution_count": 14,
   "metadata": {},
   "outputs": [
    {
     "name": "stdout",
     "output_type": "stream",
     "text": [
      "\n",
      "Coefficients: \n",
      " [ 3.43860764e-02  1.43473775e+01 -9.42521334e+01]\n",
      "\n",
      "Intercept: \n",
      " -108.42335403478899\n",
      "\n",
      "R-squared:\n",
      "0.7889428000907828\n"
     ]
    }
   ],
   "source": [
    "# Instantiate and fit our model.\n",
    "regr = linear_model.LinearRegression()\n",
    "Y = df_no_nyc['pc']\n",
    "X = df_no_nyc[['pop','murder','robbery']]\n",
    "regr.fit(X, Y)\n",
    "\n",
    "# Inspect the results.\n",
    "print('\\nCoefficients: \\n', regr.coef_)\n",
    "print('\\nIntercept: \\n', regr.intercept_)\n",
    "print('\\nR-squared:')\n",
    "print(regr.score(X, Y))"
   ]
  },
  {
   "cell_type": "markdown",
   "metadata": {},
   "source": [
    "Now, the equation looks like:  **y = -108 + .034(pop) + 14.3(murder) - 94.3(robbery)**  \n",
    "\n",
    "The new R-squared value is:  **0.79**  \n",
    "\n",
    "This is probably more desirable and a better model and a good baseline equation to build on.  We must be aware that the population needs to be at least **3177**, otherwise the propery crime is negative which is impossible."
   ]
  },
  {
   "cell_type": "markdown",
   "metadata": {},
   "source": [
    "As a next step, let's just build a simple model that only uses the population feature to predict property crime with and without NYC data.  First we'll build it with NYC data included."
   ]
  },
  {
   "cell_type": "code",
   "execution_count": 15,
   "metadata": {},
   "outputs": [
    {
     "name": "stdout",
     "output_type": "stream",
     "text": [
      "Coefficients: \n",
      " [[0.01695663]]\n",
      "Intercept: \n",
      " [113.70298213]\n"
     ]
    },
    {
     "data": {
      "image/png": "[encoded data removed]",
      "text/plain": [
       "<Figure size 432x288 with 1 Axes>"
      ]
     },
     "metadata": {
      "needs_background": "light"
     },
     "output_type": "display_data"
    }
   ],
   "source": [
    "y = df_ny['pc'].values.reshape(-1, 1)\n",
    "x = df_ny['pop'].values.reshape(-1, 1)\n",
    "\n",
    "# Instantiate our model.\n",
    "regr = linear_model.LinearRegression()\n",
    "\n",
    "# Fit our model to our data.\n",
    "regr.fit(x, y)\n",
    "\n",
    "# Display the attributes we calculated.\n",
    "print('Coefficients: \\n', regr.coef_)\n",
    "print('Intercept: \\n', regr.intercept_)\n",
    "\n",
    "# Plot outputs\n",
    "plt.scatter(x, y, color='black')\n",
    "plt.plot(x, regr.predict(x), color='blue', linewidth=3)\n",
    "plt.title('Pop vs Property Crime')\n",
    "plt.xlabel('Population')\n",
    "plt.ylabel('Property Crime')\n",
    "plt.show()"
   ]
  },
  {
   "cell_type": "markdown",
   "metadata": {},
   "source": [
    "So the simple equation would be:  **y = 113.7 + .017(pop)**  \n",
    "\n",
    "This may not be too bad.  As you can see there are no values of population (assuming it is at least 0) where the property crime would be predicted as a negative number.  Next, let's build the simple linear regression model excluding NYC data."
   ]
  },
  {
   "cell_type": "code",
   "execution_count": 16,
   "metadata": {},
   "outputs": [
    {
     "name": "stdout",
     "output_type": "stream",
     "text": [
      "Coefficients: \n",
      " [[0.03389004]]\n",
      "Intercept: \n",
      " [-155.02048926]\n"
     ]
    },
    {
     "data": {
      "image/png": "[encoded data removed]",
      "text/plain": [
       "<Figure size 432x288 with 1 Axes>"
      ]
     },
     "metadata": {
      "needs_background": "light"
     },
     "output_type": "display_data"
    }
   ],
   "source": [
    "y = df_no_nyc['pc'].values.reshape(-1, 1)\n",
    "x = df_no_nyc['pop'].values.reshape(-1, 1)\n",
    "\n",
    "# Instantiate our model.\n",
    "regr = linear_model.LinearRegression()\n",
    "\n",
    "# Fit our model to our data.\n",
    "regr.fit(x, y)\n",
    "\n",
    "# Display the attributes we calculated.\n",
    "print('Coefficients: \\n', regr.coef_)\n",
    "print('Intercept: \\n', regr.intercept_)\n",
    "\n",
    "# Plot outputs\n",
    "plt.scatter(x, y, color='black')\n",
    "plt.plot(x, regr.predict(x), color='blue', linewidth=3)\n",
    "plt.title('Pop vs Property Crime')\n",
    "plt.xlabel('Population')\n",
    "plt.ylabel('Property Crime')\n",
    "plt.show()"
   ]
  },
  {
   "cell_type": "markdown",
   "metadata": {},
   "source": [
    "So the new equation, excluding NYC data, would be:  **y = -155 + .034(pop)**  \n",
    "\n",
    "The population in this case has to be at least **4559** to yield a positive property crime prediction."
   ]
  },
  {
   "cell_type": "markdown",
   "metadata": {},
   "source": [
    "## Evaluating the model\n",
    "The error from a multivariable model (calculated by subtracting the model-predicted values from the real outcome values) should be normally distributed.  Let's check to make sure this is the case for our 2 models where we use 3 features to predict the outcome.  First we'll check the model with NYC data included."
   ]
  },
  {
   "cell_type": "code",
   "execution_count": 17,
   "metadata": {},
   "outputs": [
    {
     "name": "stdout",
     "output_type": "stream",
     "text": [
      "\n",
      "Coefficients: \n",
      " [[1.68728222e-02 6.07383740e+02 1.06994709e+02]]\n",
      "\n",
      "Intercept: \n",
      " [-32.72226824]\n",
      "\n",
      "R-squared:\n",
      "0.99344854357257\n"
     ]
    },
    {
     "data": {
      "image/png": "[encoded data removed]",
      "text/plain": [
       "<Figure size 432x288 with 1 Axes>"
      ]
     },
     "metadata": {
      "needs_background": "light"
     },
     "output_type": "display_data"
    }
   ],
   "source": [
    "# Instantiate and fit our model.\n",
    "regr = linear_model.LinearRegression()\n",
    "Y = df_ny['pc'].values.reshape(-1, 1)\n",
    "X = df_ny[['pop', 'murder', 'robbery']]\n",
    "regr.fit(X, Y)\n",
    "\n",
    "# Inspect the results.\n",
    "print('\\nCoefficients: \\n', regr.coef_)\n",
    "print('\\nIntercept: \\n', regr.intercept_)\n",
    "print('\\nR-squared:')\n",
    "print(regr.score(X, Y))\n",
    "\n",
    "# Extract predicted values.\n",
    "predicted = regr.predict(X).ravel()\n",
    "actual = df_ny['pc']\n",
    "\n",
    "# Calculate the error, also called the residual.\n",
    "residual = actual - predicted\n",
    "\n",
    "# Creating histogram.\n",
    "plt.hist(residual)\n",
    "plt.title('Residual counts')\n",
    "plt.xlabel('Residual')\n",
    "plt.ylabel('Count')\n",
    "plt.show()"
   ]
  },
  {
   "cell_type": "markdown",
   "metadata": {},
   "source": [
    "Here we can see that residual data is fairly normally distributed; however it is slightly skewed to the right.  Next, let's look at the residual distribution after dropping NYC data."
   ]
  },
  {
   "cell_type": "code",
   "execution_count": 18,
   "metadata": {},
   "outputs": [
    {
     "name": "stdout",
     "output_type": "stream",
     "text": [
      "\n",
      "Coefficients: \n",
      " [[ 3.43860764e-02  1.43473775e+01 -9.42521334e+01]]\n",
      "\n",
      "Intercept: \n",
      " [-108.42335403]\n",
      "\n",
      "R-squared:\n",
      "0.7889428000907828\n"
     ]
    },
    {
     "data": {
      "image/png": "[encoded data removed]",
      "text/plain": [
       "<Figure size 432x288 with 1 Axes>"
      ]
     },
     "metadata": {
      "needs_background": "light"
     },
     "output_type": "display_data"
    }
   ],
   "source": [
    "# Instantiate and fit our model.\n",
    "regr = linear_model.LinearRegression()\n",
    "Y = df_no_nyc['pc'].values.reshape(-1, 1)\n",
    "X = df_no_nyc[['pop', 'murder', 'robbery']]\n",
    "regr.fit(X, Y)\n",
    "\n",
    "# Inspect the results.\n",
    "print('\\nCoefficients: \\n', regr.coef_)\n",
    "print('\\nIntercept: \\n', regr.intercept_)\n",
    "print('\\nR-squared:')\n",
    "print(regr.score(X, Y))\n",
    "\n",
    "# Extract predicted values.\n",
    "predicted = regr.predict(X).ravel()\n",
    "actual = df_no_nyc['pc']\n",
    "\n",
    "# Calculate the error, also called the residual.\n",
    "residual = actual - predicted\n",
    "\n",
    "# Creating histogram.\n",
    "plt.hist(residual)\n",
    "plt.title('Residual counts')\n",
    "plt.xlabel('Residual')\n",
    "plt.ylabel('Count')\n",
    "plt.show()"
   ]
  },
  {
   "cell_type": "markdown",
   "metadata": {},
   "source": [
    "This is much, much better.  It is more normally distributed and therefore much more helpful for prediction purposes.\n",
    "\n",
    "As one last step, let's look at the scatterplots for the data with NYC and without NYC."
   ]
  },
  {
   "cell_type": "code",
   "execution_count": 19,
   "metadata": {},
   "outputs": [
    {
     "name": "stdout",
     "output_type": "stream",
     "text": [
      "\n",
      "Coefficients: \n",
      " [[1.68728222e-02 6.07383740e+02 1.06994709e+02]]\n",
      "\n",
      "Intercept: \n",
      " [-32.72226824]\n",
      "\n",
      "R-squared:\n",
      "0.99344854357257\n"
     ]
    },
    {
     "data": {
      "image/png": "[encoded data removed]",
      "text/plain": [
       "<Figure size 432x288 with 1 Axes>"
      ]
     },
     "metadata": {
      "needs_background": "light"
     },
     "output_type": "display_data"
    }
   ],
   "source": [
    "# Instantiate and fit our model.\n",
    "regr = linear_model.LinearRegression()\n",
    "Y = df_ny['pc'].values.reshape(-1, 1)\n",
    "X = df_ny[['pop', 'murder', 'robbery']]\n",
    "regr.fit(X, Y)\n",
    "\n",
    "# Inspect the results.\n",
    "print('\\nCoefficients: \\n', regr.coef_)\n",
    "print('\\nIntercept: \\n', regr.intercept_)\n",
    "print('\\nR-squared:')\n",
    "print(regr.score(X, Y))\n",
    "\n",
    "# Extract predicted values.\n",
    "predicted = regr.predict(X).ravel()\n",
    "actual = df_ny['pc']\n",
    "\n",
    "# Calculate the error, also called the residual.\n",
    "residual = actual - predicted\n",
    "\n",
    "# creating a scatterplot\n",
    "plt.scatter(predicted, residual)\n",
    "plt.xlabel('Predicted')\n",
    "plt.ylabel('Residual')\n",
    "plt.axhline(y=0)\n",
    "plt.title('Residual vs. Predicted')\n",
    "plt.show()"
   ]
  },
  {
   "cell_type": "markdown",
   "metadata": {},
   "source": [
    "As expected, we have a significant heteroskedasticity issue.  NYC data is the culprit.  Next, let's look at the plot without NYC data."
   ]
  },
  {
   "cell_type": "code",
   "execution_count": 20,
   "metadata": {
    "scrolled": true
   },
   "outputs": [
    {
     "name": "stdout",
     "output_type": "stream",
     "text": [
      "\n",
      "Coefficients: \n",
      " [[ 3.43860764e-02  1.43473775e+01 -9.42521334e+01]]\n",
      "\n",
      "Intercept: \n",
      " [-108.42335403]\n",
      "\n",
      "R-squared:\n",
      "0.7889428000907828\n"
     ]
    },
    {
     "data": {
      "image/png": "[encoded data removed]",
      "text/plain": [
       "<Figure size 432x288 with 1 Axes>"
      ]
     },
     "metadata": {
      "needs_background": "light"
     },
     "output_type": "display_data"
    }
   ],
   "source": [
    "# Instantiate and fit our model.\n",
    "regr = linear_model.LinearRegression()\n",
    "Y = df_no_nyc['pc'].values.reshape(-1, 1)\n",
    "X = df_no_nyc[['pop', 'murder', 'robbery']]\n",
    "regr.fit(X, Y)\n",
    "\n",
    "# Inspect the results.\n",
    "print('\\nCoefficients: \\n', regr.coef_)\n",
    "print('\\nIntercept: \\n', regr.intercept_)\n",
    "print('\\nR-squared:')\n",
    "print(regr.score(X, Y))\n",
    "\n",
    "# Extract predicted values.\n",
    "predicted = regr.predict(X).ravel()\n",
    "actual = df_no_nyc['pc']\n",
    "\n",
    "# Calculate the error, also called the residual.\n",
    "residual = actual - predicted\n",
    "\n",
    "# creating a scatterplot\n",
    "plt.scatter(predicted, residual)\n",
    "plt.xlabel('Predicted')\n",
    "plt.ylabel('Residual')\n",
    "plt.axhline(y=0)\n",
    "plt.title('Residual vs. Predicted')\n",
    "plt.show()"
   ]
  },
  {
   "cell_type": "markdown",
   "metadata": {},
   "source": [
    "This is much more homoskedastic.  However, it is somewhoat cone shaped as the predicted values become larger, so it might be worth looking at ways to reduce this for further research."
   ]
  },
  {
   "cell_type": "markdown",
   "metadata": {},
   "source": [
    "## Discussion and conclusion"
   ]
  },
  {
   "cell_type": "markdown",
   "metadata": {},
   "source": [
    "The main finding of this study to predict property crime with the inputs of population, murder and robbery is that the outlier - in this case NYC - significantly overfit the model and significantly reduces the effectiveness of this model if we were to use it to predict property crime in other states.  The obvious solution would be to remove NYC data, which we have done, in order to build a more robust and versatile model for future predictions.  \n",
    "\n",
    "Sometimes a very simple model with just one input variable can be better than using multiple inputs.  We have shown that simply using population as a single input can yield a fiarly effective model, but here again, it In probably wise to omit NYC data because it overwhelms all of the other data.  \n",
    "\n",
    "It is important to know the goals and future uses of the model and in this exercise we were not provided with those explanations.  For future model building and model validation, we need to consider the purpose of the model in order to test the results / predictions more effectively."
   ]
  },
  {
   "cell_type": "code",
   "execution_count": null,
   "metadata": {},
   "outputs": [],
   "source": []
  }
 ],
 "metadata": {
  "kernelspec": {
   "display_name": "Python 3",
   "language": "python",
   "name": "python3"
  },
  "language_info": {
   "codemirror_mode": {
    "name": "ipython",
    "version": 3
   },
   "file_extension": ".py",
   "mimetype": "text/x-python",
   "name": "python",
   "nbconvert_exporter": "python",
   "pygments_lexer": "ipython3",
   "version": "3.7.2"
  }
 },
 "nbformat": 4,
 "nbformat_minor": 2
}
