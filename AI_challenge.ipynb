{
 "cells": [
  {
   "cell_type": "markdown",
   "metadata": {},
   "source": [
    "# Introduction\n",
    "This notebook analyzes data of a charity (client of AI) and its supporters.  Email broadcast data (sent in March) is given along with supporter transactional data for March, April and May.  The transactional data includes additional transactions that have different broadcasts/campaigns than the email broadcast data sent at the beginning of March.  \n",
    "\n",
    "by Fred Etter - November, 2019\n",
    "\n",
    "Here are the **questions given** that are addressed:\n",
    "\n",
    "1.  Find all unique broadcasts in sends.csv.\n",
    "\n",
    "    - Use these broadcast identifiers and analyse the transactions data (march.csv,april.csv,may.csv) for each of these broadcasts.  \n",
    "    \n",
    "    - Produce summary statistics and figures to represent the numbers/types of transactions for individual broadcasts as well as looking across all broadcasts.\n",
    "\n",
    "2.  Write a function to identify all transactions and sends received by any given supporter.  \n",
    "\n",
    "    - Choose a single supporter ID and produce summary statistics (eg. number of emails opened) and figures (plots such as histograms) summarising the supporters activity over the three month period.  \n",
    "\n",
    "3.  Produce analytics for FCS and FUR activities over the three months of data given.\n",
    "\n",
    "**Additional questions:**\n",
    "\n",
    "4.  What happens to emails that do not make the transaction data ?  \n",
    "\n",
    "    - Is there simply not a response from reporters' email system ? \n",
    "    \n",
    "5.  How many single contributers became recurring contributers ?  \n",
    "\n",
    "6.  What is the best feature to identify recurring contributers ?\n",
    "\n",
    "7.  What is the best feature to identify single contributers ?\n",
    "\n",
    "8.  What are the differences between the non FCS (or FUR) transactions vs. the FCS transactions ?  \n",
    "\n",
    "9.  Why do all March broadcasts (from sends data) have 'R' and no 'P' ?\n"
   ]
  },
  {
   "cell_type": "markdown",
   "metadata": {},
   "source": [
    "#### Import modules"
   ]
  },
  {
   "cell_type": "code",
   "execution_count": 1,
   "metadata": {},
   "outputs": [],
   "source": [
    "import numpy as np\n",
    "import pandas as pd\n",
    "import matplotlib.pyplot as plt\n",
    "import seaborn as sns\n",
    "import numpy as np"
   ]
  },
  {
   "cell_type": "markdown",
   "metadata": {},
   "source": [
    "#### Read in the data"
   ]
  },
  {
   "cell_type": "code",
   "execution_count": 2,
   "metadata": {},
   "outputs": [],
   "source": [
    "df = pd.read_csv('sends.csv', low_memory=False)\n",
    "df_march = pd.read_csv('march.csv', low_memory=False)\n",
    "df_april = pd.read_csv('april.csv', low_memory=False)\n",
    "df_may = pd.read_csv('may.csv', low_memory=False)"
   ]
  },
  {
   "cell_type": "markdown",
   "metadata": {},
   "source": [
    "# Explore the data"
   ]
  },
  {
   "cell_type": "code",
   "execution_count": 3,
   "metadata": {},
   "outputs": [
    {
     "data": {
      "text/html": [
       "<div>\n",
       "<style scoped>\n",
       "    .dataframe tbody tr th:only-of-type {\n",
       "        vertical-align: middle;\n",
       "    }\n",
       "\n",
       "    .dataframe tbody tr th {\n",
       "        vertical-align: top;\n",
       "    }\n",
       "\n",
       "    .dataframe thead th {\n",
       "        text-align: right;\n",
       "    }\n",
       "</style>\n",
       "<table border=\"1\" class=\"dataframe\">\n",
       "  <thead>\n",
       "    <tr style=\"text-align: right;\">\n",
       "      <th></th>\n",
       "      <th>CAMPAIGNER_ID</th>\n",
       "      <th>BROADCAST_ID</th>\n",
       "    </tr>\n",
       "  </thead>\n",
       "  <tbody>\n",
       "    <tr>\n",
       "      <td>0</td>\n",
       "      <td>qMPJbluhCXQ=</td>\n",
       "      <td>158828</td>\n",
       "    </tr>\n",
       "    <tr>\n",
       "      <td>1</td>\n",
       "      <td>BDoflNnPHog=</td>\n",
       "      <td>154395</td>\n",
       "    </tr>\n",
       "    <tr>\n",
       "      <td>2</td>\n",
       "      <td>BDoflNnPHog=</td>\n",
       "      <td>157751</td>\n",
       "    </tr>\n",
       "    <tr>\n",
       "      <td>3</td>\n",
       "      <td>BDoflNnPHog=</td>\n",
       "      <td>158310</td>\n",
       "    </tr>\n",
       "    <tr>\n",
       "      <td>4</td>\n",
       "      <td>BDoflNnPHog=</td>\n",
       "      <td>158828</td>\n",
       "    </tr>\n",
       "  </tbody>\n",
       "</table>\n",
       "</div>"
      ],
      "text/plain": [
       "   CAMPAIGNER_ID  BROADCAST_ID\n",
       "0   qMPJbluhCXQ=        158828\n",
       "1   BDoflNnPHog=        154395\n",
       "2   BDoflNnPHog=        157751\n",
       "3   BDoflNnPHog=        158310\n",
       "4   BDoflNnPHog=        158828"
      ]
     },
     "execution_count": 3,
     "metadata": {},
     "output_type": "execute_result"
    }
   ],
   "source": [
    "df.head()"
   ]
  },
  {
   "cell_type": "code",
   "execution_count": 4,
   "metadata": {},
   "outputs": [
    {
     "data": {
      "text/plain": [
       "(9302069, 2)"
      ]
     },
     "execution_count": 4,
     "metadata": {},
     "output_type": "execute_result"
    }
   ],
   "source": [
    "# number of rows and columns\n",
    "df.shape"
   ]
  },
  {
   "cell_type": "code",
   "execution_count": 5,
   "metadata": {},
   "outputs": [
    {
     "data": {
      "text/plain": [
       "0"
      ]
     },
     "execution_count": 5,
     "metadata": {},
     "output_type": "execute_result"
    }
   ],
   "source": [
    "# check number of null values\n",
    "df.isnull().sum().sum()"
   ]
  },
  {
   "cell_type": "code",
   "execution_count": 6,
   "metadata": {},
   "outputs": [],
   "source": [
    "# change culumn names\n",
    "df.columns = ['cid', 'bid']"
   ]
  },
  {
   "cell_type": "markdown",
   "metadata": {},
   "source": [
    "#### Unique ID's"
   ]
  },
  {
   "cell_type": "code",
   "execution_count": 7,
   "metadata": {},
   "outputs": [],
   "source": [
    "a = df.bid.unique()"
   ]
  },
  {
   "cell_type": "code",
   "execution_count": 8,
   "metadata": {},
   "outputs": [
    {
     "name": "stdout",
     "output_type": "stream",
     "text": [
      "[154395, 157243, 157563, 157751, 157848, 158308, 158309, 158310, 158311, 158313, 158477, 158822, 158828, 158976, 159076, 159077, 159079, 159219, 159222, 159229, 159328, 159329, 159331, 159888, 160147, 160150, 160353, 160558, 160604, 160975, 161032, 161151, 161581, 161582, 161583, 161584, 161655, 161768, 161951, 162032, 162035, 162036, 162037]\n"
     ]
    }
   ],
   "source": [
    "print(sorted(a))"
   ]
  },
  {
   "cell_type": "code",
   "execution_count": 9,
   "metadata": {},
   "outputs": [
    {
     "name": "stdout",
     "output_type": "stream",
     "text": [
      "43\n"
     ]
    }
   ],
   "source": [
    "print(len(a))"
   ]
  },
  {
   "cell_type": "markdown",
   "metadata": {},
   "source": [
    "There are **43** unique broadcast ID's."
   ]
  },
  {
   "cell_type": "code",
   "execution_count": 10,
   "metadata": {},
   "outputs": [
    {
     "data": {
      "text/plain": [
       "count    9.302069e+06\n",
       "mean     1.589158e+05\n",
       "std      2.499475e+03\n",
       "min      1.543950e+05\n",
       "25%      1.577510e+05\n",
       "50%      1.588280e+05\n",
       "75%      1.615810e+05\n",
       "max      1.620370e+05\n",
       "Name: bid, dtype: float64"
      ]
     },
     "execution_count": 10,
     "metadata": {},
     "output_type": "execute_result"
    }
   ],
   "source": [
    "# print the statistics for BIDs\n",
    "df.bid.describe()"
   ]
  },
  {
   "cell_type": "code",
   "execution_count": 11,
   "metadata": {},
   "outputs": [
    {
     "data": {
      "text/plain": [
       "154395    1467098\n",
       "157751    1438285\n",
       "158311     695373\n",
       "161581     640461\n",
       "162032     622499\n",
       "160975     366445\n",
       "158309     353945\n",
       "159331     335805\n",
       "161582     315903\n",
       "162035     290800\n",
       "158308     275546\n",
       "161584     269957\n",
       "159079     262666\n",
       "162037     248200\n",
       "158828     175989\n",
       "159229     156475\n",
       "158310     146695\n",
       "161768     140005\n",
       "157563     137802\n",
       "159888     137357\n",
       "161583     132261\n",
       "159328     127903\n",
       "162036     121521\n",
       "159329     117704\n",
       "159076     100449\n",
       "159077      95164\n",
       "160150      29874\n",
       "160604      11009\n",
       "160558      11008\n",
       "158477      10466\n",
       "158822       9351\n",
       "157848       9297\n",
       "158976       9291\n",
       "160147       9269\n",
       "161151       9259\n",
       "161951       9252\n",
       "158313       2502\n",
       "160353       2367\n",
       "157243       2357\n",
       "161032       2327\n",
       "161655       1836\n",
       "159222        223\n",
       "159219         73\n",
       "Name: bid, dtype: int64"
      ]
     },
     "execution_count": 11,
     "metadata": {},
     "output_type": "execute_result"
    }
   ],
   "source": [
    "# show the number occurrences for each broadcast id in descending order\n",
    "df.bid.value_counts()"
   ]
  },
  {
   "cell_type": "markdown",
   "metadata": {},
   "source": [
    "#### Histogram of broadcast IDs sent in March"
   ]
  },
  {
   "cell_type": "code",
   "execution_count": 12,
   "metadata": {},
   "outputs": [
    {
     "data": {
      "text/plain": [
       "Text(0.5, 1.0, 'All broadcasts')"
      ]
     },
     "execution_count": 12,
     "metadata": {},
     "output_type": "execute_result"
    },
    {
     "data": {
      "image/png": "[encoded data removed]",
      "text/plain": [
       "<Figure size 864x432 with 1 Axes>"
      ]
     },
     "metadata": {
      "needs_background": "light"
     },
     "output_type": "display_data"
    }
   ],
   "source": [
    "df.bid.hist(figsize=(12, 6))\n",
    "plt.xlabel(\"Broadcast ID (in 1000's)\")\n",
    "plt.ylabel('Occurrences')\n",
    "plt.title('All broadcasts')"
   ]
  },
  {
   "cell_type": "code",
   "execution_count": 13,
   "metadata": {},
   "outputs": [
    {
     "data": {
      "text/plain": [
       "1603371"
      ]
     },
     "execution_count": 13,
     "metadata": {},
     "output_type": "execute_result"
    }
   ],
   "source": [
    "# print number of unique campaign ids\n",
    "len(df.cid.unique())"
   ]
  },
  {
   "cell_type": "markdown",
   "metadata": {},
   "source": [
    "There are **1,603,371** unique campaign IDs sent in March.  (This is not transaction data, this is from the sends data in March)"
   ]
  },
  {
   "cell_type": "markdown",
   "metadata": {},
   "source": [
    "## March transaction data"
   ]
  },
  {
   "cell_type": "code",
   "execution_count": 14,
   "metadata": {},
   "outputs": [
    {
     "data": {
      "text/html": [
       "<div>\n",
       "<style scoped>\n",
       "    .dataframe tbody tr th:only-of-type {\n",
       "        vertical-align: middle;\n",
       "    }\n",
       "\n",
       "    .dataframe tbody tr th {\n",
       "        vertical-align: top;\n",
       "    }\n",
       "\n",
       "    .dataframe thead th {\n",
       "        text-align: right;\n",
       "    }\n",
       "</style>\n",
       "<table border=\"1\" class=\"dataframe\">\n",
       "  <thead>\n",
       "    <tr style=\"text-align: right;\">\n",
       "      <th></th>\n",
       "      <th>SUPPORTER_ID</th>\n",
       "      <th>COUNTRY</th>\n",
       "      <th>ACTIVITY_TYPE</th>\n",
       "      <th>ACTIVITY_DATETIME</th>\n",
       "      <th>ACTIVITY_ID</th>\n",
       "      <th>ACTIVITY_STATUS</th>\n",
       "      <th>ACTIVITY_DATA_1</th>\n",
       "      <th>ACTIVITY_DATA_2</th>\n",
       "      <th>ACTIVITY_DATA_3</th>\n",
       "      <th>ACTIVITY_DATA_4</th>\n",
       "      <th>...</th>\n",
       "      <th>ACTIVITY_DATA_6</th>\n",
       "      <th>ACTIVITY_DATA_7</th>\n",
       "      <th>ACTIVITY_DATA_8</th>\n",
       "      <th>ACTIVITY_DATA_9</th>\n",
       "      <th>ACTIVITY_DATA_10</th>\n",
       "      <th>ACTIVITY_DATA_26</th>\n",
       "      <th>ACTIVITY_DATA_27</th>\n",
       "      <th>ACTIVITY_DATA_28</th>\n",
       "      <th>ACTIVITY_DATA_29</th>\n",
       "      <th>ACTIVITY_DATA_30</th>\n",
       "    </tr>\n",
       "  </thead>\n",
       "  <tbody>\n",
       "    <tr>\n",
       "      <td>1379521</td>\n",
       "      <td>CC%2Bt02X9yH6zFWMrHGgntg==</td>\n",
       "      <td>ZA</td>\n",
       "      <td>EBC</td>\n",
       "      <td>2017-03-01 23:22:08</td>\n",
       "      <td>157751</td>\n",
       "      <td>R</td>\n",
       "      <td>open</td>\n",
       "      <td>NaN</td>\n",
       "      <td>NaN</td>\n",
       "      <td>NaN</td>\n",
       "      <td>...</td>\n",
       "      <td>NaN</td>\n",
       "      <td>NaN</td>\n",
       "      <td>NaN</td>\n",
       "      <td>134772</td>\n",
       "      <td>NaN</td>\n",
       "      <td>NaN</td>\n",
       "      <td>NaN</td>\n",
       "      <td>NaN</td>\n",
       "      <td>NaN</td>\n",
       "      <td>NaN</td>\n",
       "    </tr>\n",
       "    <tr>\n",
       "      <td>632489</td>\n",
       "      <td>%2BGkgt6x6DCOZkArzVWMSmA==</td>\n",
       "      <td>AUS</td>\n",
       "      <td>EBC</td>\n",
       "      <td>2017-03-06 21:10:19</td>\n",
       "      <td>154395</td>\n",
       "      <td>R</td>\n",
       "      <td>open</td>\n",
       "      <td>NaN</td>\n",
       "      <td>NaN</td>\n",
       "      <td>NaN</td>\n",
       "      <td>...</td>\n",
       "      <td>NaN</td>\n",
       "      <td>NaN</td>\n",
       "      <td>NaN</td>\n",
       "      <td>131397</td>\n",
       "      <td>NaN</td>\n",
       "      <td>NaN</td>\n",
       "      <td>NaN</td>\n",
       "      <td>NaN</td>\n",
       "      <td>NaN</td>\n",
       "      <td>NaN</td>\n",
       "    </tr>\n",
       "    <tr>\n",
       "      <td>1800893</td>\n",
       "      <td>zfGH%2F%2FYrTAuha0eWUOvjsw==</td>\n",
       "      <td>GBR</td>\n",
       "      <td>EBC</td>\n",
       "      <td>2017-03-10 16:19:04</td>\n",
       "      <td>158309</td>\n",
       "      <td>R</td>\n",
       "      <td>open</td>\n",
       "      <td>NaN</td>\n",
       "      <td>NaN</td>\n",
       "      <td>NaN</td>\n",
       "      <td>...</td>\n",
       "      <td>NaN</td>\n",
       "      <td>NaN</td>\n",
       "      <td>NaN</td>\n",
       "      <td>135339</td>\n",
       "      <td>NaN</td>\n",
       "      <td>NaN</td>\n",
       "      <td>NaN</td>\n",
       "      <td>NaN</td>\n",
       "      <td>NaN</td>\n",
       "      <td>NaN</td>\n",
       "    </tr>\n",
       "    <tr>\n",
       "      <td>1293325</td>\n",
       "      <td>RqG9Hgkj0gUUHgIT5m4sfA==</td>\n",
       "      <td>AU</td>\n",
       "      <td>EBC</td>\n",
       "      <td>2017-03-13 21:37:05</td>\n",
       "      <td>154395</td>\n",
       "      <td>R</td>\n",
       "      <td>open</td>\n",
       "      <td>NaN</td>\n",
       "      <td>NaN</td>\n",
       "      <td>NaN</td>\n",
       "      <td>...</td>\n",
       "      <td>NaN</td>\n",
       "      <td>NaN</td>\n",
       "      <td>NaN</td>\n",
       "      <td>131397</td>\n",
       "      <td>NaN</td>\n",
       "      <td>NaN</td>\n",
       "      <td>NaN</td>\n",
       "      <td>NaN</td>\n",
       "      <td>NaN</td>\n",
       "      <td>NaN</td>\n",
       "    </tr>\n",
       "    <tr>\n",
       "      <td>779203</td>\n",
       "      <td>0EyezaIgT1%2BZkArzVWMSmA==</td>\n",
       "      <td>GB</td>\n",
       "      <td>EBC</td>\n",
       "      <td>2017-03-15 22:28:15</td>\n",
       "      <td>159328</td>\n",
       "      <td>R</td>\n",
       "      <td>open</td>\n",
       "      <td>click</td>\n",
       "      <td>formsub</td>\n",
       "      <td>NaN</td>\n",
       "      <td>...</td>\n",
       "      <td>NaN</td>\n",
       "      <td>NaN</td>\n",
       "      <td>NaN</td>\n",
       "      <td>136356</td>\n",
       "      <td>NaN</td>\n",
       "      <td>NaN</td>\n",
       "      <td>NaN</td>\n",
       "      <td>NaN</td>\n",
       "      <td>NaN</td>\n",
       "      <td>NaN</td>\n",
       "    </tr>\n",
       "  </tbody>\n",
       "</table>\n",
       "<p>5 rows × 21 columns</p>\n",
       "</div>"
      ],
      "text/plain": [
       "                         SUPPORTER_ID COUNTRY ACTIVITY_TYPE  \\\n",
       "1379521    CC%2Bt02X9yH6zFWMrHGgntg==      ZA           EBC   \n",
       "632489     %2BGkgt6x6DCOZkArzVWMSmA==     AUS           EBC   \n",
       "1800893  zfGH%2F%2FYrTAuha0eWUOvjsw==     GBR           EBC   \n",
       "1293325      RqG9Hgkj0gUUHgIT5m4sfA==      AU           EBC   \n",
       "779203     0EyezaIgT1%2BZkArzVWMSmA==      GB           EBC   \n",
       "\n",
       "           ACTIVITY_DATETIME  ACTIVITY_ID ACTIVITY_STATUS ACTIVITY_DATA_1  \\\n",
       "1379521  2017-03-01 23:22:08       157751               R            open   \n",
       "632489   2017-03-06 21:10:19       154395               R            open   \n",
       "1800893  2017-03-10 16:19:04       158309               R            open   \n",
       "1293325  2017-03-13 21:37:05       154395               R            open   \n",
       "779203   2017-03-15 22:28:15       159328               R            open   \n",
       "\n",
       "        ACTIVITY_DATA_2 ACTIVITY_DATA_3 ACTIVITY_DATA_4  ... ACTIVITY_DATA_6  \\\n",
       "1379521             NaN             NaN             NaN  ...             NaN   \n",
       "632489              NaN             NaN             NaN  ...             NaN   \n",
       "1800893             NaN             NaN             NaN  ...             NaN   \n",
       "1293325             NaN             NaN             NaN  ...             NaN   \n",
       "779203            click         formsub             NaN  ...             NaN   \n",
       "\n",
       "        ACTIVITY_DATA_7 ACTIVITY_DATA_8  ACTIVITY_DATA_9 ACTIVITY_DATA_10  \\\n",
       "1379521             NaN             NaN           134772              NaN   \n",
       "632489              NaN             NaN           131397              NaN   \n",
       "1800893             NaN             NaN           135339              NaN   \n",
       "1293325             NaN             NaN           131397              NaN   \n",
       "779203              NaN             NaN           136356              NaN   \n",
       "\n",
       "        ACTIVITY_DATA_26  ACTIVITY_DATA_27  ACTIVITY_DATA_28  \\\n",
       "1379521              NaN               NaN               NaN   \n",
       "632489               NaN               NaN               NaN   \n",
       "1800893              NaN               NaN               NaN   \n",
       "1293325              NaN               NaN               NaN   \n",
       "779203               NaN               NaN               NaN   \n",
       "\n",
       "         ACTIVITY_DATA_29  ACTIVITY_DATA_30  \n",
       "1379521               NaN               NaN  \n",
       "632489                NaN               NaN  \n",
       "1800893               NaN               NaN  \n",
       "1293325               NaN               NaN  \n",
       "779203                NaN               NaN  \n",
       "\n",
       "[5 rows x 21 columns]"
      ]
     },
     "execution_count": 14,
     "metadata": {},
     "output_type": "execute_result"
    }
   ],
   "source": [
    "# sample of 5 rows of data\n",
    "df_march.sample(5)"
   ]
  },
  {
   "cell_type": "code",
   "execution_count": 15,
   "metadata": {},
   "outputs": [
    {
     "data": {
      "text/plain": [
       "(1826389, 21)"
      ]
     },
     "execution_count": 15,
     "metadata": {},
     "output_type": "execute_result"
    }
   ],
   "source": [
    "# print number of rows and columns for March transactional data\n",
    "df_march.shape"
   ]
  },
  {
   "cell_type": "code",
   "execution_count": 16,
   "metadata": {},
   "outputs": [
    {
     "name": "stdout",
     "output_type": "stream",
     "text": [
      "1007\n"
     ]
    }
   ],
   "source": [
    "# print the number of unique broadcast ids in March\n",
    "m = df_march.ACTIVITY_ID.unique()\n",
    "print(len(df_march.ACTIVITY_ID.unique()))"
   ]
  },
  {
   "cell_type": "code",
   "execution_count": 17,
   "metadata": {},
   "outputs": [
    {
     "name": "stdout",
     "output_type": "stream",
     "text": [
      "count    1.826389e+06\n",
      "mean     1.402132e+05\n",
      "std      3.912519e+04\n",
      "min      1.936000e+03\n",
      "25%      1.543950e+05\n",
      "50%      1.577510e+05\n",
      "75%      1.593290e+05\n",
      "max      1.620370e+05\n",
      "Name: ACTIVITY_ID, dtype: float64\n"
     ]
    }
   ],
   "source": [
    "# print statistics for March transactional broadcast id data\n",
    "print(df_march.ACTIVITY_ID.describe())"
   ]
  },
  {
   "cell_type": "code",
   "execution_count": 18,
   "metadata": {},
   "outputs": [
    {
     "name": "stdout",
     "output_type": "stream",
     "text": [
      "43\n"
     ]
    }
   ],
   "source": [
    "# create list of broadcast ids that exist in both the sends data and March transactional data\n",
    "a_int_m = list(set(a).intersection(m))\n",
    "\n",
    "# print the number of this set\n",
    "print(len(a_int_m))"
   ]
  },
  {
   "cell_type": "markdown",
   "metadata": {},
   "source": [
    "So, all of the broadcast id's are present in the March transactional data."
   ]
  },
  {
   "cell_type": "markdown",
   "metadata": {},
   "source": [
    "#### Histogram of all March broadcast IDs"
   ]
  },
  {
   "cell_type": "code",
   "execution_count": 19,
   "metadata": {},
   "outputs": [
    {
     "data": {
      "text/plain": [
       "Text(0.5, 1.0, 'All March transactions')"
      ]
     },
     "execution_count": 19,
     "metadata": {},
     "output_type": "execute_result"
    },
    {
     "data": {
      "image/png": "[encoded data removed]",
      "text/plain": [
       "<Figure size 864x432 with 1 Axes>"
      ]
     },
     "metadata": {
      "needs_background": "light"
     },
     "output_type": "display_data"
    }
   ],
   "source": [
    "df_march.ACTIVITY_ID.hist(figsize=(12, 6))\n",
    "plt.xlabel(\"Broadcast ID\")\n",
    "plt.ylabel('Occurrences')\n",
    "plt.title('All March transactions')"
   ]
  },
  {
   "cell_type": "code",
   "execution_count": 20,
   "metadata": {},
   "outputs": [],
   "source": [
    "# Reduce all March transactions to those that include sends BIDs\n",
    "df_march_cut = df_march.loc[df_march['ACTIVITY_ID'].isin(a)]"
   ]
  },
  {
   "cell_type": "markdown",
   "metadata": {},
   "source": [
    "#### Histogram of March transaction IDs indcluding only sends BIDs"
   ]
  },
  {
   "cell_type": "code",
   "execution_count": 21,
   "metadata": {},
   "outputs": [
    {
     "data": {
      "text/plain": [
       "Text(0.5, 1.0, 'March broadcasts')"
      ]
     },
     "execution_count": 21,
     "metadata": {},
     "output_type": "execute_result"
    },
    {
     "data": {
      "image/png": "[encoded data removed]",
      "text/plain": [
       "<Figure size 864x432 with 1 Axes>"
      ]
     },
     "metadata": {
      "needs_background": "light"
     },
     "output_type": "display_data"
    }
   ],
   "source": [
    "df_march_cut.ACTIVITY_ID.hist(figsize=(12, 6))\n",
    "plt.xlabel(\"Broadcast ID\")\n",
    "plt.ylabel('Occurrences')\n",
    "plt.title('March broadcasts')"
   ]
  },
  {
   "cell_type": "code",
   "execution_count": 22,
   "metadata": {},
   "outputs": [
    {
     "data": {
      "text/plain": [
       "(1435793, 21)"
      ]
     },
     "execution_count": 22,
     "metadata": {},
     "output_type": "execute_result"
    }
   ],
   "source": [
    "# print number of rows and columns of March BIDs from sends data\n",
    "df_march_cut.shape"
   ]
  },
  {
   "cell_type": "code",
   "execution_count": 23,
   "metadata": {},
   "outputs": [
    {
     "data": {
      "text/plain": [
       "count    1.435793e+06\n",
       "mean     1.584793e+05\n",
       "std      2.407752e+03\n",
       "min      1.543950e+05\n",
       "25%      1.577510e+05\n",
       "50%      1.583110e+05\n",
       "75%      1.606040e+05\n",
       "max      1.620370e+05\n",
       "Name: ACTIVITY_ID, dtype: float64"
      ]
     },
     "execution_count": 23,
     "metadata": {},
     "output_type": "execute_result"
    }
   ],
   "source": [
    "# print statistics for March BIDs that are included in sends data\n",
    "df_march_cut.ACTIVITY_ID.describe()"
   ]
  },
  {
   "cell_type": "code",
   "execution_count": 24,
   "metadata": {},
   "outputs": [
    {
     "data": {
      "text/html": [
       "<div>\n",
       "<style scoped>\n",
       "    .dataframe tbody tr th:only-of-type {\n",
       "        vertical-align: middle;\n",
       "    }\n",
       "\n",
       "    .dataframe tbody tr th {\n",
       "        vertical-align: top;\n",
       "    }\n",
       "\n",
       "    .dataframe thead th {\n",
       "        text-align: right;\n",
       "    }\n",
       "</style>\n",
       "<table border=\"1\" class=\"dataframe\">\n",
       "  <thead>\n",
       "    <tr style=\"text-align: right;\">\n",
       "      <th></th>\n",
       "      <th>SUPPORTER_ID</th>\n",
       "      <th>COUNTRY</th>\n",
       "      <th>ACTIVITY_TYPE</th>\n",
       "      <th>ACTIVITY_DATETIME</th>\n",
       "      <th>ACTIVITY_ID</th>\n",
       "      <th>ACTIVITY_STATUS</th>\n",
       "      <th>ACTIVITY_DATA_1</th>\n",
       "      <th>ACTIVITY_DATA_2</th>\n",
       "      <th>ACTIVITY_DATA_3</th>\n",
       "      <th>ACTIVITY_DATA_4</th>\n",
       "      <th>...</th>\n",
       "      <th>ACTIVITY_DATA_6</th>\n",
       "      <th>ACTIVITY_DATA_7</th>\n",
       "      <th>ACTIVITY_DATA_8</th>\n",
       "      <th>ACTIVITY_DATA_9</th>\n",
       "      <th>ACTIVITY_DATA_10</th>\n",
       "      <th>ACTIVITY_DATA_26</th>\n",
       "      <th>ACTIVITY_DATA_27</th>\n",
       "      <th>ACTIVITY_DATA_28</th>\n",
       "      <th>ACTIVITY_DATA_29</th>\n",
       "      <th>ACTIVITY_DATA_30</th>\n",
       "    </tr>\n",
       "  </thead>\n",
       "  <tbody>\n",
       "    <tr>\n",
       "      <td>1573970</td>\n",
       "      <td>i9R%2Fib1cEJWha0eWUOvjsw==</td>\n",
       "      <td>GB</td>\n",
       "      <td>EBC</td>\n",
       "      <td>2017-03-06 23:10:01</td>\n",
       "      <td>154395</td>\n",
       "      <td>R</td>\n",
       "      <td>open</td>\n",
       "      <td>NaN</td>\n",
       "      <td>NaN</td>\n",
       "      <td>NaN</td>\n",
       "      <td>...</td>\n",
       "      <td>NaN</td>\n",
       "      <td>NaN</td>\n",
       "      <td>NaN</td>\n",
       "      <td>131397</td>\n",
       "      <td>NaN</td>\n",
       "      <td>NaN</td>\n",
       "      <td>NaN</td>\n",
       "      <td>NaN</td>\n",
       "      <td>NaN</td>\n",
       "      <td>NaN</td>\n",
       "    </tr>\n",
       "    <tr>\n",
       "      <td>977101</td>\n",
       "      <td>X%2BPnlVoLA3GZkArzVWMSmA==</td>\n",
       "      <td>GB</td>\n",
       "      <td>EBC</td>\n",
       "      <td>2017-03-10 05:07:03</td>\n",
       "      <td>158309</td>\n",
       "      <td>R</td>\n",
       "      <td>open</td>\n",
       "      <td>NaN</td>\n",
       "      <td>NaN</td>\n",
       "      <td>NaN</td>\n",
       "      <td>...</td>\n",
       "      <td>NaN</td>\n",
       "      <td>NaN</td>\n",
       "      <td>NaN</td>\n",
       "      <td>135339</td>\n",
       "      <td>NaN</td>\n",
       "      <td>NaN</td>\n",
       "      <td>NaN</td>\n",
       "      <td>NaN</td>\n",
       "      <td>NaN</td>\n",
       "      <td>NaN</td>\n",
       "    </tr>\n",
       "    <tr>\n",
       "      <td>1680805</td>\n",
       "      <td>rydS6W3NosSBKFlzN0740Q==</td>\n",
       "      <td>BEL</td>\n",
       "      <td>EBC</td>\n",
       "      <td>2017-03-02 02:13:04</td>\n",
       "      <td>157751</td>\n",
       "      <td>R</td>\n",
       "      <td>open</td>\n",
       "      <td>NaN</td>\n",
       "      <td>NaN</td>\n",
       "      <td>NaN</td>\n",
       "      <td>...</td>\n",
       "      <td>NaN</td>\n",
       "      <td>NaN</td>\n",
       "      <td>NaN</td>\n",
       "      <td>134772</td>\n",
       "      <td>NaN</td>\n",
       "      <td>NaN</td>\n",
       "      <td>NaN</td>\n",
       "      <td>NaN</td>\n",
       "      <td>NaN</td>\n",
       "      <td>NaN</td>\n",
       "    </tr>\n",
       "    <tr>\n",
       "      <td>1822985</td>\n",
       "      <td>WqDLorDFL2%2B15xl1A%2FXc2A==</td>\n",
       "      <td>GB</td>\n",
       "      <td>EBC</td>\n",
       "      <td>2017-03-26 04:30:03</td>\n",
       "      <td>160975</td>\n",
       "      <td>R</td>\n",
       "      <td>NaN</td>\n",
       "      <td>NaN</td>\n",
       "      <td>NaN</td>\n",
       "      <td>hbounce</td>\n",
       "      <td>...</td>\n",
       "      <td>NaN</td>\n",
       "      <td>NaN</td>\n",
       "      <td>NaN</td>\n",
       "      <td>138001</td>\n",
       "      <td>NaN</td>\n",
       "      <td>NaN</td>\n",
       "      <td>NaN</td>\n",
       "      <td>NaN</td>\n",
       "      <td>NaN</td>\n",
       "      <td>NaN</td>\n",
       "    </tr>\n",
       "    <tr>\n",
       "      <td>903136</td>\n",
       "      <td>K9wZXOgnRjmZkArzVWMSmA==</td>\n",
       "      <td>GB</td>\n",
       "      <td>EBC</td>\n",
       "      <td>2017-03-09 18:13:13</td>\n",
       "      <td>158309</td>\n",
       "      <td>R</td>\n",
       "      <td>open</td>\n",
       "      <td>NaN</td>\n",
       "      <td>NaN</td>\n",
       "      <td>NaN</td>\n",
       "      <td>...</td>\n",
       "      <td>NaN</td>\n",
       "      <td>NaN</td>\n",
       "      <td>NaN</td>\n",
       "      <td>135339</td>\n",
       "      <td>NaN</td>\n",
       "      <td>NaN</td>\n",
       "      <td>NaN</td>\n",
       "      <td>NaN</td>\n",
       "      <td>NaN</td>\n",
       "      <td>NaN</td>\n",
       "    </tr>\n",
       "  </tbody>\n",
       "</table>\n",
       "<p>5 rows × 21 columns</p>\n",
       "</div>"
      ],
      "text/plain": [
       "                         SUPPORTER_ID COUNTRY ACTIVITY_TYPE  \\\n",
       "1573970    i9R%2Fib1cEJWha0eWUOvjsw==      GB           EBC   \n",
       "977101     X%2BPnlVoLA3GZkArzVWMSmA==      GB           EBC   \n",
       "1680805      rydS6W3NosSBKFlzN0740Q==     BEL           EBC   \n",
       "1822985  WqDLorDFL2%2B15xl1A%2FXc2A==      GB           EBC   \n",
       "903136       K9wZXOgnRjmZkArzVWMSmA==      GB           EBC   \n",
       "\n",
       "           ACTIVITY_DATETIME  ACTIVITY_ID ACTIVITY_STATUS ACTIVITY_DATA_1  \\\n",
       "1573970  2017-03-06 23:10:01       154395               R            open   \n",
       "977101   2017-03-10 05:07:03       158309               R            open   \n",
       "1680805  2017-03-02 02:13:04       157751               R            open   \n",
       "1822985  2017-03-26 04:30:03       160975               R             NaN   \n",
       "903136   2017-03-09 18:13:13       158309               R            open   \n",
       "\n",
       "        ACTIVITY_DATA_2 ACTIVITY_DATA_3 ACTIVITY_DATA_4  ... ACTIVITY_DATA_6  \\\n",
       "1573970             NaN             NaN             NaN  ...             NaN   \n",
       "977101              NaN             NaN             NaN  ...             NaN   \n",
       "1680805             NaN             NaN             NaN  ...             NaN   \n",
       "1822985             NaN             NaN         hbounce  ...             NaN   \n",
       "903136              NaN             NaN             NaN  ...             NaN   \n",
       "\n",
       "        ACTIVITY_DATA_7 ACTIVITY_DATA_8  ACTIVITY_DATA_9 ACTIVITY_DATA_10  \\\n",
       "1573970             NaN             NaN           131397              NaN   \n",
       "977101              NaN             NaN           135339              NaN   \n",
       "1680805             NaN             NaN           134772              NaN   \n",
       "1822985             NaN             NaN           138001              NaN   \n",
       "903136              NaN             NaN           135339              NaN   \n",
       "\n",
       "        ACTIVITY_DATA_26  ACTIVITY_DATA_27  ACTIVITY_DATA_28  \\\n",
       "1573970              NaN               NaN               NaN   \n",
       "977101               NaN               NaN               NaN   \n",
       "1680805              NaN               NaN               NaN   \n",
       "1822985              NaN               NaN               NaN   \n",
       "903136               NaN               NaN               NaN   \n",
       "\n",
       "         ACTIVITY_DATA_29  ACTIVITY_DATA_30  \n",
       "1573970               NaN               NaN  \n",
       "977101                NaN               NaN  \n",
       "1680805               NaN               NaN  \n",
       "1822985               NaN               NaN  \n",
       "903136                NaN               NaN  \n",
       "\n",
       "[5 rows x 21 columns]"
      ]
     },
     "execution_count": 24,
     "metadata": {},
     "output_type": "execute_result"
    }
   ],
   "source": [
    "# sample of 5 rows of the \"March_cut\" data\n",
    "df_march_cut.sample(5)"
   ]
  },
  {
   "cell_type": "code",
   "execution_count": 25,
   "metadata": {},
   "outputs": [
    {
     "name": "stderr",
     "output_type": "stream",
     "text": [
      "C:\\Users\\Fred\\Anaconda3\\lib\\site-packages\\ipykernel_launcher.py:2: SettingWithCopyWarning: \n",
      "A value is trying to be set on a copy of a slice from a DataFrame.\n",
      "Try using .loc[row_indexer,col_indexer] = value instead\n",
      "\n",
      "See the caveats in the documentation: http://pandas.pydata.org/pandas-docs/stable/user_guide/indexing.html#returning-a-view-versus-a-copy\n",
      "  \n",
      "C:\\Users\\Fred\\Anaconda3\\lib\\site-packages\\ipykernel_launcher.py:3: SettingWithCopyWarning: \n",
      "A value is trying to be set on a copy of a slice from a DataFrame.\n",
      "Try using .loc[row_indexer,col_indexer] = value instead\n",
      "\n",
      "See the caveats in the documentation: http://pandas.pydata.org/pandas-docs/stable/user_guide/indexing.html#returning-a-view-versus-a-copy\n",
      "  This is separate from the ipykernel package so we can avoid doing imports until\n"
     ]
    }
   ],
   "source": [
    "# adding a \"day\" column to capture day of the month for later plotting\n",
    "df_march_cut['day'] = df_march_cut['ACTIVITY_DATETIME'].str.slice(8, 10)\n",
    "df_march_cut['day'] = pd.to_numeric(df_march_cut.day)"
   ]
  },
  {
   "cell_type": "markdown",
   "metadata": {},
   "source": [
    "#### March supporter actions by day of the month"
   ]
  },
  {
   "cell_type": "code",
   "execution_count": 26,
   "metadata": {},
   "outputs": [
    {
     "data": {
      "text/plain": [
       "Text(0.5, 1.0, 'March supporter actions')"
      ]
     },
     "execution_count": 26,
     "metadata": {},
     "output_type": "execute_result"
    },
    {
     "data": {
      "image/png": "[encoded data removed]",
      "text/plain": [
       "<Figure size 864x432 with 1 Axes>"
      ]
     },
     "metadata": {
      "needs_background": "light"
     },
     "output_type": "display_data"
    }
   ],
   "source": [
    "df_march_cut.day.hist(figsize = (12, 6), bins = range(0, 32))\n",
    "plt.xlabel(\"Day of month\")\n",
    "plt.ylabel('Occurrences')\n",
    "plt.title('March supporter actions')"
   ]
  },
  {
   "cell_type": "markdown",
   "metadata": {},
   "source": [
    "Interestingly, there are a lot of actions that took place towards the end of the month."
   ]
  },
  {
   "cell_type": "markdown",
   "metadata": {},
   "source": [
    "## April transaction data"
   ]
  },
  {
   "cell_type": "code",
   "execution_count": 27,
   "metadata": {},
   "outputs": [
    {
     "data": {
      "text/html": [
       "<div>\n",
       "<style scoped>\n",
       "    .dataframe tbody tr th:only-of-type {\n",
       "        vertical-align: middle;\n",
       "    }\n",
       "\n",
       "    .dataframe tbody tr th {\n",
       "        vertical-align: top;\n",
       "    }\n",
       "\n",
       "    .dataframe thead th {\n",
       "        text-align: right;\n",
       "    }\n",
       "</style>\n",
       "<table border=\"1\" class=\"dataframe\">\n",
       "  <thead>\n",
       "    <tr style=\"text-align: right;\">\n",
       "      <th></th>\n",
       "      <th>SUPPORTER_ID</th>\n",
       "      <th>COUNTRY</th>\n",
       "      <th>ACTIVITY_TYPE</th>\n",
       "      <th>ACTIVITY_DATETIME</th>\n",
       "      <th>ACTIVITY_ID</th>\n",
       "      <th>ACTIVITY_STATUS</th>\n",
       "      <th>ACTIVITY_DATA_1</th>\n",
       "      <th>ACTIVITY_DATA_2</th>\n",
       "      <th>ACTIVITY_DATA_3</th>\n",
       "      <th>ACTIVITY_DATA_4</th>\n",
       "      <th>...</th>\n",
       "      <th>ACTIVITY_DATA_6</th>\n",
       "      <th>ACTIVITY_DATA_7</th>\n",
       "      <th>ACTIVITY_DATA_8</th>\n",
       "      <th>ACTIVITY_DATA_9</th>\n",
       "      <th>ACTIVITY_DATA_10</th>\n",
       "      <th>ACTIVITY_DATA_26</th>\n",
       "      <th>ACTIVITY_DATA_27</th>\n",
       "      <th>ACTIVITY_DATA_28</th>\n",
       "      <th>ACTIVITY_DATA_29</th>\n",
       "      <th>ACTIVITY_DATA_30</th>\n",
       "    </tr>\n",
       "  </thead>\n",
       "  <tbody>\n",
       "    <tr>\n",
       "      <td>0</td>\n",
       "      <td>nY8jgGWxUeA=</td>\n",
       "      <td>CA</td>\n",
       "      <td>ETT</td>\n",
       "      <td>2017-04-04 17:02:58</td>\n",
       "      <td>66281</td>\n",
       "      <td>P</td>\n",
       "      <td>Justin</td>\n",
       "      <td>Trudeau</td>\n",
       "      <td>NaN</td>\n",
       "      <td>NaN</td>\n",
       "      <td>...</td>\n",
       "      <td>NaN</td>\n",
       "      <td>NaN</td>\n",
       "      <td>NaN</td>\n",
       "      <td>NaN</td>\n",
       "      <td>NaN</td>\n",
       "      <td>NaN</td>\n",
       "      <td>NaN</td>\n",
       "      <td>NaN</td>\n",
       "      <td>NaN</td>\n",
       "      <td>NaN</td>\n",
       "    </tr>\n",
       "    <tr>\n",
       "      <td>1</td>\n",
       "      <td>nY8jgGWxUeA=</td>\n",
       "      <td>CA</td>\n",
       "      <td>ETT</td>\n",
       "      <td>2017-04-03 16:20:54</td>\n",
       "      <td>67130</td>\n",
       "      <td>P</td>\n",
       "      <td>Dummy</td>\n",
       "      <td>Target</td>\n",
       "      <td>NaN</td>\n",
       "      <td>NaN</td>\n",
       "      <td>...</td>\n",
       "      <td>NaN</td>\n",
       "      <td>NaN</td>\n",
       "      <td>NaN</td>\n",
       "      <td>NaN</td>\n",
       "      <td>NaN</td>\n",
       "      <td>NaN</td>\n",
       "      <td>NaN</td>\n",
       "      <td>NaN</td>\n",
       "      <td>NaN</td>\n",
       "      <td>NaN</td>\n",
       "    </tr>\n",
       "    <tr>\n",
       "      <td>2</td>\n",
       "      <td>5Aia2InAifo=</td>\n",
       "      <td>GBR</td>\n",
       "      <td>ETT</td>\n",
       "      <td>2017-04-06 07:56:55</td>\n",
       "      <td>66281</td>\n",
       "      <td>P</td>\n",
       "      <td>Justin</td>\n",
       "      <td>Trudeau</td>\n",
       "      <td>NaN</td>\n",
       "      <td>NaN</td>\n",
       "      <td>...</td>\n",
       "      <td>NaN</td>\n",
       "      <td>NaN</td>\n",
       "      <td>NaN</td>\n",
       "      <td>NaN</td>\n",
       "      <td>NaN</td>\n",
       "      <td>NaN</td>\n",
       "      <td>NaN</td>\n",
       "      <td>NaN</td>\n",
       "      <td>NaN</td>\n",
       "      <td>NaN</td>\n",
       "    </tr>\n",
       "    <tr>\n",
       "      <td>3</td>\n",
       "      <td>kudFmD%2ByF7w=</td>\n",
       "      <td>CAN</td>\n",
       "      <td>ETT</td>\n",
       "      <td>2017-04-04 08:17:15</td>\n",
       "      <td>66281</td>\n",
       "      <td>P</td>\n",
       "      <td>Justin</td>\n",
       "      <td>Trudeau</td>\n",
       "      <td>NaN</td>\n",
       "      <td>NaN</td>\n",
       "      <td>...</td>\n",
       "      <td>NaN</td>\n",
       "      <td>NaN</td>\n",
       "      <td>NaN</td>\n",
       "      <td>NaN</td>\n",
       "      <td>NaN</td>\n",
       "      <td>NaN</td>\n",
       "      <td>NaN</td>\n",
       "      <td>NaN</td>\n",
       "      <td>NaN</td>\n",
       "      <td>NaN</td>\n",
       "    </tr>\n",
       "    <tr>\n",
       "      <td>4</td>\n",
       "      <td>nEgT0q6l4MY=</td>\n",
       "      <td>CAN</td>\n",
       "      <td>ETT</td>\n",
       "      <td>2017-04-04 15:34:07</td>\n",
       "      <td>66281</td>\n",
       "      <td>P</td>\n",
       "      <td>Justin</td>\n",
       "      <td>Trudeau</td>\n",
       "      <td>NaN</td>\n",
       "      <td>NaN</td>\n",
       "      <td>...</td>\n",
       "      <td>NaN</td>\n",
       "      <td>NaN</td>\n",
       "      <td>NaN</td>\n",
       "      <td>NaN</td>\n",
       "      <td>NaN</td>\n",
       "      <td>NaN</td>\n",
       "      <td>NaN</td>\n",
       "      <td>NaN</td>\n",
       "      <td>NaN</td>\n",
       "      <td>NaN</td>\n",
       "    </tr>\n",
       "  </tbody>\n",
       "</table>\n",
       "<p>5 rows × 21 columns</p>\n",
       "</div>"
      ],
      "text/plain": [
       "     SUPPORTER_ID COUNTRY ACTIVITY_TYPE    ACTIVITY_DATETIME  ACTIVITY_ID  \\\n",
       "0    nY8jgGWxUeA=      CA           ETT  2017-04-04 17:02:58        66281   \n",
       "1    nY8jgGWxUeA=      CA           ETT  2017-04-03 16:20:54        67130   \n",
       "2    5Aia2InAifo=     GBR           ETT  2017-04-06 07:56:55        66281   \n",
       "3  kudFmD%2ByF7w=     CAN           ETT  2017-04-04 08:17:15        66281   \n",
       "4    nEgT0q6l4MY=     CAN           ETT  2017-04-04 15:34:07        66281   \n",
       "\n",
       "  ACTIVITY_STATUS ACTIVITY_DATA_1 ACTIVITY_DATA_2 ACTIVITY_DATA_3  \\\n",
       "0               P          Justin         Trudeau             NaN   \n",
       "1               P           Dummy          Target             NaN   \n",
       "2               P          Justin         Trudeau             NaN   \n",
       "3               P          Justin         Trudeau             NaN   \n",
       "4               P          Justin         Trudeau             NaN   \n",
       "\n",
       "  ACTIVITY_DATA_4  ... ACTIVITY_DATA_6 ACTIVITY_DATA_7 ACTIVITY_DATA_8  \\\n",
       "0             NaN  ...             NaN             NaN             NaN   \n",
       "1             NaN  ...             NaN             NaN             NaN   \n",
       "2             NaN  ...             NaN             NaN             NaN   \n",
       "3             NaN  ...             NaN             NaN             NaN   \n",
       "4             NaN  ...             NaN             NaN             NaN   \n",
       "\n",
       "   ACTIVITY_DATA_9 ACTIVITY_DATA_10 ACTIVITY_DATA_26  ACTIVITY_DATA_27  \\\n",
       "0              NaN              NaN              NaN               NaN   \n",
       "1              NaN              NaN              NaN               NaN   \n",
       "2              NaN              NaN              NaN               NaN   \n",
       "3              NaN              NaN              NaN               NaN   \n",
       "4              NaN              NaN              NaN               NaN   \n",
       "\n",
       "   ACTIVITY_DATA_28  ACTIVITY_DATA_29  ACTIVITY_DATA_30  \n",
       "0               NaN               NaN               NaN  \n",
       "1               NaN               NaN               NaN  \n",
       "2               NaN               NaN               NaN  \n",
       "3               NaN               NaN               NaN  \n",
       "4               NaN               NaN               NaN  \n",
       "\n",
       "[5 rows x 21 columns]"
      ]
     },
     "execution_count": 27,
     "metadata": {},
     "output_type": "execute_result"
    }
   ],
   "source": [
    "# first 5 rows of April transactions\n",
    "df_april.head()"
   ]
  },
  {
   "cell_type": "code",
   "execution_count": 28,
   "metadata": {},
   "outputs": [
    {
     "data": {
      "text/plain": [
       "(1425965, 21)"
      ]
     },
     "execution_count": 28,
     "metadata": {},
     "output_type": "execute_result"
    }
   ],
   "source": [
    "# number of rows and columns of April transaction data\n",
    "df_april.shape"
   ]
  },
  {
   "cell_type": "code",
   "execution_count": 29,
   "metadata": {},
   "outputs": [
    {
     "name": "stdout",
     "output_type": "stream",
     "text": [
      "1006\n"
     ]
    }
   ],
   "source": [
    "# print the number of unique April BIDs\n",
    "april = df_april.ACTIVITY_ID.unique()\n",
    "print(len(april))"
   ]
  },
  {
   "cell_type": "code",
   "execution_count": 30,
   "metadata": {},
   "outputs": [
    {
     "name": "stdout",
     "output_type": "stream",
     "text": [
      "count    1.425965e+06\n",
      "mean     1.408707e+05\n",
      "std      4.354861e+04\n",
      "min      7.383000e+03\n",
      "25%      1.615840e+05\n",
      "50%      1.629740e+05\n",
      "75%      1.633120e+05\n",
      "max      1.666220e+05\n",
      "Name: ACTIVITY_ID, dtype: float64\n"
     ]
    }
   ],
   "source": [
    "# April transaction data statistics\n",
    "print(df_april.ACTIVITY_ID.describe())"
   ]
  },
  {
   "cell_type": "code",
   "execution_count": 31,
   "metadata": {},
   "outputs": [
    {
     "name": "stdout",
     "output_type": "stream",
     "text": [
      "42\n"
     ]
    }
   ],
   "source": [
    "# print April ID' common in sends data\n",
    "a_int_april = list(set(a).intersection(april))\n",
    "print(len(a_int_april))"
   ]
  },
  {
   "cell_type": "markdown",
   "metadata": {},
   "source": [
    "There is one ID missing."
   ]
  },
  {
   "cell_type": "code",
   "execution_count": 32,
   "metadata": {},
   "outputs": [
    {
     "data": {
      "text/plain": [
       "{159222}"
      ]
     },
     "execution_count": 32,
     "metadata": {},
     "output_type": "execute_result"
    }
   ],
   "source": [
    "# find missing ID not in April transactions\n",
    "set(a) - set(a_int_april)"
   ]
  },
  {
   "cell_type": "markdown",
   "metadata": {},
   "source": [
    "BID **159222** is not in the April transactions."
   ]
  },
  {
   "cell_type": "markdown",
   "metadata": {},
   "source": [
    "#### Histogram of all April transactions"
   ]
  },
  {
   "cell_type": "code",
   "execution_count": 33,
   "metadata": {},
   "outputs": [
    {
     "data": {
      "text/plain": [
       "Text(0.5, 1.0, 'All April transactions')"
      ]
     },
     "execution_count": 33,
     "metadata": {},
     "output_type": "execute_result"
    },
    {
     "data": {
      "image/png": "[encoded data removed]",
      "text/plain": [
       "<Figure size 864x432 with 1 Axes>"
      ]
     },
     "metadata": {
      "needs_background": "light"
     },
     "output_type": "display_data"
    }
   ],
   "source": [
    "df_april.ACTIVITY_ID.hist(figsize=(12, 6))\n",
    "plt.xlabel(\"Broadcast ID\")\n",
    "plt.ylabel('Occurrences')\n",
    "plt.title('All April transactions')"
   ]
  },
  {
   "cell_type": "markdown",
   "metadata": {},
   "source": [
    "#### Histogram of April transactions with BID in sends data"
   ]
  },
  {
   "cell_type": "code",
   "execution_count": 34,
   "metadata": {},
   "outputs": [
    {
     "data": {
      "text/plain": [
       "Text(0.5, 1.0, 'April broadcasts')"
      ]
     },
     "execution_count": 34,
     "metadata": {},
     "output_type": "execute_result"
    },
    {
     "data": {
      "image/png": "[encoded data removed]",
      "text/plain": [
       "<Figure size 864x432 with 1 Axes>"
      ]
     },
     "metadata": {
      "needs_background": "light"
     },
     "output_type": "display_data"
    }
   ],
   "source": [
    "df_april_cut = df_april.loc[df_april['ACTIVITY_ID'].isin(a)]\n",
    "\n",
    "df_april_cut.ACTIVITY_ID.hist(figsize=(12, 6))\n",
    "plt.xlabel(\"Broadcast ID\")\n",
    "plt.ylabel('Occurrences')\n",
    "plt.title('April broadcasts')"
   ]
  },
  {
   "cell_type": "code",
   "execution_count": 35,
   "metadata": {},
   "outputs": [
    {
     "data": {
      "text/plain": [
       "(56360, 21)"
      ]
     },
     "execution_count": 35,
     "metadata": {},
     "output_type": "execute_result"
    }
   ],
   "source": [
    "# number of rows and columns for \"April_cut\"\n",
    "df_april_cut.shape"
   ]
  },
  {
   "cell_type": "code",
   "execution_count": 36,
   "metadata": {},
   "outputs": [
    {
     "data": {
      "text/plain": [
       "count     56360.000000\n",
       "mean     160644.224698\n",
       "std        2083.626385\n",
       "min      154395.000000\n",
       "25%      159329.000000\n",
       "50%      161583.000000\n",
       "75%      162032.000000\n",
       "max      162037.000000\n",
       "Name: ACTIVITY_ID, dtype: float64"
      ]
     },
     "execution_count": 36,
     "metadata": {},
     "output_type": "execute_result"
    }
   ],
   "source": [
    "# April statistical data\n",
    "df_april_cut.ACTIVITY_ID.describe()"
   ]
  },
  {
   "cell_type": "code",
   "execution_count": 37,
   "metadata": {},
   "outputs": [
    {
     "data": {
      "text/html": [
       "<div>\n",
       "<style scoped>\n",
       "    .dataframe tbody tr th:only-of-type {\n",
       "        vertical-align: middle;\n",
       "    }\n",
       "\n",
       "    .dataframe tbody tr th {\n",
       "        vertical-align: top;\n",
       "    }\n",
       "\n",
       "    .dataframe thead th {\n",
       "        text-align: right;\n",
       "    }\n",
       "</style>\n",
       "<table border=\"1\" class=\"dataframe\">\n",
       "  <thead>\n",
       "    <tr style=\"text-align: right;\">\n",
       "      <th></th>\n",
       "      <th>SUPPORTER_ID</th>\n",
       "      <th>COUNTRY</th>\n",
       "      <th>ACTIVITY_TYPE</th>\n",
       "      <th>ACTIVITY_DATETIME</th>\n",
       "      <th>ACTIVITY_ID</th>\n",
       "      <th>ACTIVITY_STATUS</th>\n",
       "      <th>ACTIVITY_DATA_1</th>\n",
       "      <th>ACTIVITY_DATA_2</th>\n",
       "      <th>ACTIVITY_DATA_3</th>\n",
       "      <th>ACTIVITY_DATA_4</th>\n",
       "      <th>...</th>\n",
       "      <th>ACTIVITY_DATA_6</th>\n",
       "      <th>ACTIVITY_DATA_7</th>\n",
       "      <th>ACTIVITY_DATA_8</th>\n",
       "      <th>ACTIVITY_DATA_9</th>\n",
       "      <th>ACTIVITY_DATA_10</th>\n",
       "      <th>ACTIVITY_DATA_26</th>\n",
       "      <th>ACTIVITY_DATA_27</th>\n",
       "      <th>ACTIVITY_DATA_28</th>\n",
       "      <th>ACTIVITY_DATA_29</th>\n",
       "      <th>ACTIVITY_DATA_30</th>\n",
       "    </tr>\n",
       "  </thead>\n",
       "  <tbody>\n",
       "    <tr>\n",
       "      <td>670546</td>\n",
       "      <td>LNIt1DMf7FqZkArzVWMSmA==</td>\n",
       "      <td>GBR</td>\n",
       "      <td>EBC</td>\n",
       "      <td>2017-04-18 09:19:05</td>\n",
       "      <td>160975</td>\n",
       "      <td>R</td>\n",
       "      <td>open</td>\n",
       "      <td>NaN</td>\n",
       "      <td>NaN</td>\n",
       "      <td>NaN</td>\n",
       "      <td>...</td>\n",
       "      <td>NaN</td>\n",
       "      <td>NaN</td>\n",
       "      <td>NaN</td>\n",
       "      <td>138001</td>\n",
       "      <td>NaN</td>\n",
       "      <td>NaN</td>\n",
       "      <td>NaN</td>\n",
       "      <td>NaN</td>\n",
       "      <td>NaN</td>\n",
       "      <td>NaN</td>\n",
       "    </tr>\n",
       "    <tr>\n",
       "      <td>657148</td>\n",
       "      <td>4AjrQK4i9gOZkArzVWMSmA==</td>\n",
       "      <td>CO</td>\n",
       "      <td>EBC</td>\n",
       "      <td>2017-04-03 17:13:19</td>\n",
       "      <td>161768</td>\n",
       "      <td>R</td>\n",
       "      <td>open</td>\n",
       "      <td>NaN</td>\n",
       "      <td>NaN</td>\n",
       "      <td>NaN</td>\n",
       "      <td>...</td>\n",
       "      <td>NaN</td>\n",
       "      <td>NaN</td>\n",
       "      <td>NaN</td>\n",
       "      <td>138800</td>\n",
       "      <td>NaN</td>\n",
       "      <td>NaN</td>\n",
       "      <td>NaN</td>\n",
       "      <td>NaN</td>\n",
       "      <td>NaN</td>\n",
       "      <td>NaN</td>\n",
       "    </tr>\n",
       "    <tr>\n",
       "      <td>524129</td>\n",
       "      <td>%2B2bG59DM2smZkArzVWMSmA==</td>\n",
       "      <td>GBR</td>\n",
       "      <td>EBC</td>\n",
       "      <td>2017-04-10 14:28:01</td>\n",
       "      <td>162035</td>\n",
       "      <td>R</td>\n",
       "      <td>open</td>\n",
       "      <td>NaN</td>\n",
       "      <td>NaN</td>\n",
       "      <td>NaN</td>\n",
       "      <td>...</td>\n",
       "      <td>NaN</td>\n",
       "      <td>NaN</td>\n",
       "      <td>NaN</td>\n",
       "      <td>139068</td>\n",
       "      <td>NaN</td>\n",
       "      <td>NaN</td>\n",
       "      <td>NaN</td>\n",
       "      <td>NaN</td>\n",
       "      <td>NaN</td>\n",
       "      <td>NaN</td>\n",
       "    </tr>\n",
       "    <tr>\n",
       "      <td>1285028</td>\n",
       "      <td>EMZ%2B3nN%2Bw3CzFWMrHGgntg==</td>\n",
       "      <td>GB</td>\n",
       "      <td>EBC</td>\n",
       "      <td>2017-04-10 15:22:13</td>\n",
       "      <td>162035</td>\n",
       "      <td>R</td>\n",
       "      <td>open</td>\n",
       "      <td>NaN</td>\n",
       "      <td>NaN</td>\n",
       "      <td>NaN</td>\n",
       "      <td>...</td>\n",
       "      <td>NaN</td>\n",
       "      <td>NaN</td>\n",
       "      <td>NaN</td>\n",
       "      <td>139068</td>\n",
       "      <td>NaN</td>\n",
       "      <td>NaN</td>\n",
       "      <td>NaN</td>\n",
       "      <td>NaN</td>\n",
       "      <td>NaN</td>\n",
       "      <td>NaN</td>\n",
       "    </tr>\n",
       "    <tr>\n",
       "      <td>708843</td>\n",
       "      <td>upXTq5gthSeZkArzVWMSmA==</td>\n",
       "      <td>GB</td>\n",
       "      <td>EBC</td>\n",
       "      <td>2017-04-03 13:52:04</td>\n",
       "      <td>159076</td>\n",
       "      <td>R</td>\n",
       "      <td>open</td>\n",
       "      <td>NaN</td>\n",
       "      <td>NaN</td>\n",
       "      <td>NaN</td>\n",
       "      <td>...</td>\n",
       "      <td>NaN</td>\n",
       "      <td>NaN</td>\n",
       "      <td>NaN</td>\n",
       "      <td>136103</td>\n",
       "      <td>NaN</td>\n",
       "      <td>NaN</td>\n",
       "      <td>NaN</td>\n",
       "      <td>NaN</td>\n",
       "      <td>NaN</td>\n",
       "      <td>NaN</td>\n",
       "    </tr>\n",
       "  </tbody>\n",
       "</table>\n",
       "<p>5 rows × 21 columns</p>\n",
       "</div>"
      ],
      "text/plain": [
       "                         SUPPORTER_ID COUNTRY ACTIVITY_TYPE  \\\n",
       "670546       LNIt1DMf7FqZkArzVWMSmA==     GBR           EBC   \n",
       "657148       4AjrQK4i9gOZkArzVWMSmA==      CO           EBC   \n",
       "524129     %2B2bG59DM2smZkArzVWMSmA==     GBR           EBC   \n",
       "1285028  EMZ%2B3nN%2Bw3CzFWMrHGgntg==      GB           EBC   \n",
       "708843       upXTq5gthSeZkArzVWMSmA==      GB           EBC   \n",
       "\n",
       "           ACTIVITY_DATETIME  ACTIVITY_ID ACTIVITY_STATUS ACTIVITY_DATA_1  \\\n",
       "670546   2017-04-18 09:19:05       160975               R            open   \n",
       "657148   2017-04-03 17:13:19       161768               R            open   \n",
       "524129   2017-04-10 14:28:01       162035               R            open   \n",
       "1285028  2017-04-10 15:22:13       162035               R            open   \n",
       "708843   2017-04-03 13:52:04       159076               R            open   \n",
       "\n",
       "        ACTIVITY_DATA_2 ACTIVITY_DATA_3 ACTIVITY_DATA_4  ... ACTIVITY_DATA_6  \\\n",
       "670546              NaN             NaN             NaN  ...             NaN   \n",
       "657148              NaN             NaN             NaN  ...             NaN   \n",
       "524129              NaN             NaN             NaN  ...             NaN   \n",
       "1285028             NaN             NaN             NaN  ...             NaN   \n",
       "708843              NaN             NaN             NaN  ...             NaN   \n",
       "\n",
       "        ACTIVITY_DATA_7 ACTIVITY_DATA_8  ACTIVITY_DATA_9 ACTIVITY_DATA_10  \\\n",
       "670546              NaN             NaN           138001              NaN   \n",
       "657148              NaN             NaN           138800              NaN   \n",
       "524129              NaN             NaN           139068              NaN   \n",
       "1285028             NaN             NaN           139068              NaN   \n",
       "708843              NaN             NaN           136103              NaN   \n",
       "\n",
       "        ACTIVITY_DATA_26  ACTIVITY_DATA_27  ACTIVITY_DATA_28  \\\n",
       "670546               NaN               NaN               NaN   \n",
       "657148               NaN               NaN               NaN   \n",
       "524129               NaN               NaN               NaN   \n",
       "1285028              NaN               NaN               NaN   \n",
       "708843               NaN               NaN               NaN   \n",
       "\n",
       "         ACTIVITY_DATA_29  ACTIVITY_DATA_30  \n",
       "670546                NaN               NaN  \n",
       "657148                NaN               NaN  \n",
       "524129                NaN               NaN  \n",
       "1285028               NaN               NaN  \n",
       "708843                NaN               NaN  \n",
       "\n",
       "[5 rows x 21 columns]"
      ]
     },
     "execution_count": 37,
     "metadata": {},
     "output_type": "execute_result"
    }
   ],
   "source": [
    "# list a sample of 5 rows from April_cut\n",
    "df_april_cut.sample(5)"
   ]
  },
  {
   "cell_type": "code",
   "execution_count": 38,
   "metadata": {},
   "outputs": [
    {
     "name": "stderr",
     "output_type": "stream",
     "text": [
      "C:\\Users\\Fred\\Anaconda3\\lib\\site-packages\\ipykernel_launcher.py:2: SettingWithCopyWarning: \n",
      "A value is trying to be set on a copy of a slice from a DataFrame.\n",
      "Try using .loc[row_indexer,col_indexer] = value instead\n",
      "\n",
      "See the caveats in the documentation: http://pandas.pydata.org/pandas-docs/stable/user_guide/indexing.html#returning-a-view-versus-a-copy\n",
      "  \n",
      "C:\\Users\\Fred\\Anaconda3\\lib\\site-packages\\ipykernel_launcher.py:3: SettingWithCopyWarning: \n",
      "A value is trying to be set on a copy of a slice from a DataFrame.\n",
      "Try using .loc[row_indexer,col_indexer] = value instead\n",
      "\n",
      "See the caveats in the documentation: http://pandas.pydata.org/pandas-docs/stable/user_guide/indexing.html#returning-a-view-versus-a-copy\n",
      "  This is separate from the ipykernel package so we can avoid doing imports until\n"
     ]
    }
   ],
   "source": [
    "# Again, create a day column for April\n",
    "df_april_cut['day'] = df_april_cut['ACTIVITY_DATETIME'].str.slice(8, 10)\n",
    "df_april_cut['day'] = pd.to_numeric(df_april_cut.day)"
   ]
  },
  {
   "cell_type": "markdown",
   "metadata": {},
   "source": [
    "#### Histogram of April supporter actions "
   ]
  },
  {
   "cell_type": "code",
   "execution_count": 39,
   "metadata": {},
   "outputs": [
    {
     "data": {
      "text/plain": [
       "Text(0.5, 1.0, 'April supporter actions')"
      ]
     },
     "execution_count": 39,
     "metadata": {},
     "output_type": "execute_result"
    },
    {
     "data": {
      "image/png": "[encoded data removed]",
      "text/plain": [
       "<Figure size 864x432 with 1 Axes>"
      ]
     },
     "metadata": {
      "needs_background": "light"
     },
     "output_type": "display_data"
    }
   ],
   "source": [
    "df_april_cut.day.hist(figsize = (12, 6), bins = 30)\n",
    "plt.xlabel(\"Day of month\")\n",
    "plt.ylabel('Occurrences')\n",
    "plt.title('April supporter actions')"
   ]
  },
  {
   "cell_type": "markdown",
   "metadata": {},
   "source": [
    "This the shape expected; however, March and May have different shapes.  Later, the transaction for 1 specific activity (such as 'open') will be analyzed."
   ]
  },
  {
   "cell_type": "markdown",
   "metadata": {},
   "source": [
    "## May transactional data"
   ]
  },
  {
   "cell_type": "code",
   "execution_count": 40,
   "metadata": {},
   "outputs": [
    {
     "data": {
      "text/html": [
       "<div>\n",
       "<style scoped>\n",
       "    .dataframe tbody tr th:only-of-type {\n",
       "        vertical-align: middle;\n",
       "    }\n",
       "\n",
       "    .dataframe tbody tr th {\n",
       "        vertical-align: top;\n",
       "    }\n",
       "\n",
       "    .dataframe thead th {\n",
       "        text-align: right;\n",
       "    }\n",
       "</style>\n",
       "<table border=\"1\" class=\"dataframe\">\n",
       "  <thead>\n",
       "    <tr style=\"text-align: right;\">\n",
       "      <th></th>\n",
       "      <th>SUPPORTER_ID</th>\n",
       "      <th>COUNTRY</th>\n",
       "      <th>ACTIVITY_TYPE</th>\n",
       "      <th>ACTIVITY_DATETIME</th>\n",
       "      <th>ACTIVITY_ID</th>\n",
       "      <th>ACTIVITY_STATUS</th>\n",
       "      <th>ACTIVITY_DATA_1</th>\n",
       "      <th>ACTIVITY_DATA_2</th>\n",
       "      <th>ACTIVITY_DATA_3</th>\n",
       "      <th>ACTIVITY_DATA_4</th>\n",
       "      <th>...</th>\n",
       "      <th>ACTIVITY_DATA_6</th>\n",
       "      <th>ACTIVITY_DATA_7</th>\n",
       "      <th>ACTIVITY_DATA_8</th>\n",
       "      <th>ACTIVITY_DATA_9</th>\n",
       "      <th>ACTIVITY_DATA_10</th>\n",
       "      <th>ACTIVITY_DATA_26</th>\n",
       "      <th>ACTIVITY_DATA_27</th>\n",
       "      <th>ACTIVITY_DATA_28</th>\n",
       "      <th>ACTIVITY_DATA_29</th>\n",
       "      <th>ACTIVITY_DATA_30</th>\n",
       "    </tr>\n",
       "  </thead>\n",
       "  <tbody>\n",
       "    <tr>\n",
       "      <td>27550</td>\n",
       "      <td>OyC4%2BBZTKxiZkArzVWMSmA==</td>\n",
       "      <td>CAN</td>\n",
       "      <td>ETT</td>\n",
       "      <td>2017-05-31 08:17:18</td>\n",
       "      <td>69589</td>\n",
       "      <td>P</td>\n",
       "      <td>Dummy</td>\n",
       "      <td>Target</td>\n",
       "      <td>NaN</td>\n",
       "      <td>NaN</td>\n",
       "      <td>...</td>\n",
       "      <td>NaN</td>\n",
       "      <td>NaN</td>\n",
       "      <td>NaN</td>\n",
       "      <td>NaN</td>\n",
       "      <td>NaN</td>\n",
       "      <td>NaN</td>\n",
       "      <td>NaN</td>\n",
       "      <td>NaN</td>\n",
       "      <td>NaN</td>\n",
       "      <td>NaN</td>\n",
       "    </tr>\n",
       "    <tr>\n",
       "      <td>654003</td>\n",
       "      <td>pnZe7WRGrwKZkArzVWMSmA==</td>\n",
       "      <td>GB</td>\n",
       "      <td>EBC</td>\n",
       "      <td>2017-05-11 03:37:01</td>\n",
       "      <td>168274</td>\n",
       "      <td>R</td>\n",
       "      <td>open</td>\n",
       "      <td>NaN</td>\n",
       "      <td>NaN</td>\n",
       "      <td>NaN</td>\n",
       "      <td>...</td>\n",
       "      <td>NaN</td>\n",
       "      <td>NaN</td>\n",
       "      <td>NaN</td>\n",
       "      <td>145335</td>\n",
       "      <td>NaN</td>\n",
       "      <td>NaN</td>\n",
       "      <td>NaN</td>\n",
       "      <td>NaN</td>\n",
       "      <td>NaN</td>\n",
       "      <td>NaN</td>\n",
       "    </tr>\n",
       "    <tr>\n",
       "      <td>844870</td>\n",
       "      <td>qAJzAuiQDUWZkArzVWMSmA==</td>\n",
       "      <td>DE</td>\n",
       "      <td>EBC</td>\n",
       "      <td>2017-05-25 17:25:05</td>\n",
       "      <td>170373</td>\n",
       "      <td>R</td>\n",
       "      <td>open</td>\n",
       "      <td>NaN</td>\n",
       "      <td>NaN</td>\n",
       "      <td>NaN</td>\n",
       "      <td>...</td>\n",
       "      <td>NaN</td>\n",
       "      <td>NaN</td>\n",
       "      <td>NaN</td>\n",
       "      <td>147386</td>\n",
       "      <td>NaN</td>\n",
       "      <td>NaN</td>\n",
       "      <td>NaN</td>\n",
       "      <td>NaN</td>\n",
       "      <td>NaN</td>\n",
       "      <td>NaN</td>\n",
       "    </tr>\n",
       "    <tr>\n",
       "      <td>270539</td>\n",
       "      <td>G9X1G5yjV3uZkArzVWMSmA==</td>\n",
       "      <td>ESP</td>\n",
       "      <td>EBC</td>\n",
       "      <td>2017-05-17 16:10:07</td>\n",
       "      <td>169319</td>\n",
       "      <td>R</td>\n",
       "      <td>open</td>\n",
       "      <td>NaN</td>\n",
       "      <td>NaN</td>\n",
       "      <td>NaN</td>\n",
       "      <td>...</td>\n",
       "      <td>NaN</td>\n",
       "      <td>NaN</td>\n",
       "      <td>NaN</td>\n",
       "      <td>146350</td>\n",
       "      <td>NaN</td>\n",
       "      <td>NaN</td>\n",
       "      <td>NaN</td>\n",
       "      <td>NaN</td>\n",
       "      <td>NaN</td>\n",
       "      <td>NaN</td>\n",
       "    </tr>\n",
       "    <tr>\n",
       "      <td>82629</td>\n",
       "      <td>E6oFpXWxjn6ZkArzVWMSmA==</td>\n",
       "      <td>USA</td>\n",
       "      <td>PET</td>\n",
       "      <td>2017-05-04 22:30:42</td>\n",
       "      <td>37410</td>\n",
       "      <td>P</td>\n",
       "      <td>NaN</td>\n",
       "      <td>NaN</td>\n",
       "      <td>NaN</td>\n",
       "      <td>NaN</td>\n",
       "      <td>...</td>\n",
       "      <td>NaN</td>\n",
       "      <td>NaN</td>\n",
       "      <td>NaN</td>\n",
       "      <td>NaN</td>\n",
       "      <td>NaN</td>\n",
       "      <td>NaN</td>\n",
       "      <td>NaN</td>\n",
       "      <td>NaN</td>\n",
       "      <td>NaN</td>\n",
       "      <td>NaN</td>\n",
       "    </tr>\n",
       "  </tbody>\n",
       "</table>\n",
       "<p>5 rows × 21 columns</p>\n",
       "</div>"
      ],
      "text/plain": [
       "                      SUPPORTER_ID COUNTRY ACTIVITY_TYPE    ACTIVITY_DATETIME  \\\n",
       "27550   OyC4%2BBZTKxiZkArzVWMSmA==     CAN           ETT  2017-05-31 08:17:18   \n",
       "654003    pnZe7WRGrwKZkArzVWMSmA==      GB           EBC  2017-05-11 03:37:01   \n",
       "844870    qAJzAuiQDUWZkArzVWMSmA==      DE           EBC  2017-05-25 17:25:05   \n",
       "270539    G9X1G5yjV3uZkArzVWMSmA==     ESP           EBC  2017-05-17 16:10:07   \n",
       "82629     E6oFpXWxjn6ZkArzVWMSmA==     USA           PET  2017-05-04 22:30:42   \n",
       "\n",
       "        ACTIVITY_ID ACTIVITY_STATUS ACTIVITY_DATA_1 ACTIVITY_DATA_2  \\\n",
       "27550         69589               P           Dummy          Target   \n",
       "654003       168274               R            open             NaN   \n",
       "844870       170373               R            open             NaN   \n",
       "270539       169319               R            open             NaN   \n",
       "82629         37410               P             NaN             NaN   \n",
       "\n",
       "       ACTIVITY_DATA_3 ACTIVITY_DATA_4  ... ACTIVITY_DATA_6 ACTIVITY_DATA_7  \\\n",
       "27550              NaN             NaN  ...             NaN             NaN   \n",
       "654003             NaN             NaN  ...             NaN             NaN   \n",
       "844870             NaN             NaN  ...             NaN             NaN   \n",
       "270539             NaN             NaN  ...             NaN             NaN   \n",
       "82629              NaN             NaN  ...             NaN             NaN   \n",
       "\n",
       "       ACTIVITY_DATA_8  ACTIVITY_DATA_9 ACTIVITY_DATA_10 ACTIVITY_DATA_26  \\\n",
       "27550              NaN              NaN              NaN              NaN   \n",
       "654003             NaN           145335              NaN              NaN   \n",
       "844870             NaN           147386              NaN              NaN   \n",
       "270539             NaN           146350              NaN              NaN   \n",
       "82629              NaN              NaN              NaN              NaN   \n",
       "\n",
       "        ACTIVITY_DATA_27  ACTIVITY_DATA_28  ACTIVITY_DATA_29  ACTIVITY_DATA_30  \n",
       "27550                NaN               NaN               NaN               NaN  \n",
       "654003               NaN               NaN               NaN               NaN  \n",
       "844870               NaN               NaN               NaN               NaN  \n",
       "270539               NaN               NaN               NaN               NaN  \n",
       "82629                NaN               NaN               NaN               NaN  \n",
       "\n",
       "[5 rows x 21 columns]"
      ]
     },
     "execution_count": 40,
     "metadata": {},
     "output_type": "execute_result"
    }
   ],
   "source": [
    "# sample of 5 rows\n",
    "df_may.sample(5)"
   ]
  },
  {
   "cell_type": "code",
   "execution_count": 41,
   "metadata": {},
   "outputs": [
    {
     "data": {
      "text/plain": [
       "(1682862, 21)"
      ]
     },
     "execution_count": 41,
     "metadata": {},
     "output_type": "execute_result"
    }
   ],
   "source": [
    "# shape of all May transactions\n",
    "df_may.shape"
   ]
  },
  {
   "cell_type": "code",
   "execution_count": 42,
   "metadata": {},
   "outputs": [
    {
     "name": "stdout",
     "output_type": "stream",
     "text": [
      "1002\n"
     ]
    }
   ],
   "source": [
    "# prin number of unique May IDs\n",
    "may = df_may.ACTIVITY_ID.unique()\n",
    "print(len(may))"
   ]
  },
  {
   "cell_type": "code",
   "execution_count": 43,
   "metadata": {},
   "outputs": [
    {
     "name": "stdout",
     "output_type": "stream",
     "text": [
      "count    1.682862e+06\n",
      "mean     1.535763e+05\n",
      "std      3.837502e+04\n",
      "min      1.389200e+04\n",
      "25%      1.674000e+05\n",
      "50%      1.682740e+05\n",
      "75%      1.696790e+05\n",
      "max      1.704660e+05\n",
      "Name: ACTIVITY_ID, dtype: float64\n"
     ]
    }
   ],
   "source": [
    "# May statistics\n",
    "print(df_may.ACTIVITY_ID.describe())"
   ]
  },
  {
   "cell_type": "code",
   "execution_count": 44,
   "metadata": {},
   "outputs": [
    {
     "name": "stdout",
     "output_type": "stream",
     "text": [
      "42\n"
     ]
    }
   ],
   "source": [
    "# get number of May IDs common with sends data\n",
    "a_int_may = list(set(a).intersection(may))\n",
    "print(len(a_int_may))"
   ]
  },
  {
   "cell_type": "code",
   "execution_count": 45,
   "metadata": {},
   "outputs": [
    {
     "data": {
      "text/plain": [
       "{159219}"
      ]
     },
     "execution_count": 45,
     "metadata": {},
     "output_type": "execute_result"
    }
   ],
   "source": [
    "# get missing ID\n",
    "set(a) - set(a_int_may)"
   ]
  },
  {
   "cell_type": "markdown",
   "metadata": {},
   "source": [
    "ID **159219** is missing from May transactional data."
   ]
  },
  {
   "cell_type": "markdown",
   "metadata": {},
   "source": [
    "#### Histogram of all May transactions by BID"
   ]
  },
  {
   "cell_type": "code",
   "execution_count": 46,
   "metadata": {},
   "outputs": [
    {
     "data": {
      "text/plain": [
       "Text(0.5, 1.0, 'All May transactions')"
      ]
     },
     "execution_count": 46,
     "metadata": {},
     "output_type": "execute_result"
    },
    {
     "data": {
      "image/png": "[encoded data removed]",
      "text/plain": [
       "<Figure size 864x432 with 1 Axes>"
      ]
     },
     "metadata": {
      "needs_background": "light"
     },
     "output_type": "display_data"
    }
   ],
   "source": [
    "df_may.ACTIVITY_ID.hist(figsize=(12, 6))\n",
    "plt.xlabel(\"Broadcast ID\")\n",
    "plt.ylabel('Occurrences')\n",
    "plt.title('All May transactions')"
   ]
  },
  {
   "cell_type": "markdown",
   "metadata": {},
   "source": [
    "#### Histogram of May by BID common in sends data"
   ]
  },
  {
   "cell_type": "code",
   "execution_count": 47,
   "metadata": {},
   "outputs": [
    {
     "data": {
      "text/plain": [
       "Text(0.5, 1.0, 'May broadcasts')"
      ]
     },
     "execution_count": 47,
     "metadata": {},
     "output_type": "execute_result"
    },
    {
     "data": {
      "image/png": "[encoded data removed]",
      "text/plain": [
       "<Figure size 864x432 with 1 Axes>"
      ]
     },
     "metadata": {
      "needs_background": "light"
     },
     "output_type": "display_data"
    }
   ],
   "source": [
    "df_may_cut = df_may.loc[df_may['ACTIVITY_ID'].isin(a)]\n",
    "\n",
    "df_may_cut.ACTIVITY_ID.hist(figsize=(12, 6))\n",
    "plt.xlabel(\"Broadcast ID\")\n",
    "plt.ylabel('Occurrences')\n",
    "plt.title('May broadcasts')"
   ]
  },
  {
   "cell_type": "code",
   "execution_count": 48,
   "metadata": {},
   "outputs": [
    {
     "data": {
      "text/plain": [
       "(11203, 21)"
      ]
     },
     "execution_count": 48,
     "metadata": {},
     "output_type": "execute_result"
    }
   ],
   "source": [
    "# list shape of \"May_cut\" data (only BIDs in common in May and sends)\n",
    "df_may_cut.shape"
   ]
  },
  {
   "cell_type": "code",
   "execution_count": 49,
   "metadata": {},
   "outputs": [
    {
     "data": {
      "text/plain": [
       "count     11203.000000\n",
       "mean     159297.519682\n",
       "std        2438.659385\n",
       "min      154395.000000\n",
       "25%      157751.000000\n",
       "50%      159328.000000\n",
       "75%      161583.000000\n",
       "max      162037.000000\n",
       "Name: ACTIVITY_ID, dtype: float64"
      ]
     },
     "execution_count": 49,
     "metadata": {},
     "output_type": "execute_result"
    }
   ],
   "source": [
    "# Stats of May data\n",
    "df_may_cut.ACTIVITY_ID.describe()"
   ]
  },
  {
   "cell_type": "code",
   "execution_count": 50,
   "metadata": {},
   "outputs": [
    {
     "data": {
      "text/html": [
       "<div>\n",
       "<style scoped>\n",
       "    .dataframe tbody tr th:only-of-type {\n",
       "        vertical-align: middle;\n",
       "    }\n",
       "\n",
       "    .dataframe tbody tr th {\n",
       "        vertical-align: top;\n",
       "    }\n",
       "\n",
       "    .dataframe thead th {\n",
       "        text-align: right;\n",
       "    }\n",
       "</style>\n",
       "<table border=\"1\" class=\"dataframe\">\n",
       "  <thead>\n",
       "    <tr style=\"text-align: right;\">\n",
       "      <th></th>\n",
       "      <th>SUPPORTER_ID</th>\n",
       "      <th>COUNTRY</th>\n",
       "      <th>ACTIVITY_TYPE</th>\n",
       "      <th>ACTIVITY_DATETIME</th>\n",
       "      <th>ACTIVITY_ID</th>\n",
       "      <th>ACTIVITY_STATUS</th>\n",
       "      <th>ACTIVITY_DATA_1</th>\n",
       "      <th>ACTIVITY_DATA_2</th>\n",
       "      <th>ACTIVITY_DATA_3</th>\n",
       "      <th>ACTIVITY_DATA_4</th>\n",
       "      <th>...</th>\n",
       "      <th>ACTIVITY_DATA_6</th>\n",
       "      <th>ACTIVITY_DATA_7</th>\n",
       "      <th>ACTIVITY_DATA_8</th>\n",
       "      <th>ACTIVITY_DATA_9</th>\n",
       "      <th>ACTIVITY_DATA_10</th>\n",
       "      <th>ACTIVITY_DATA_26</th>\n",
       "      <th>ACTIVITY_DATA_27</th>\n",
       "      <th>ACTIVITY_DATA_28</th>\n",
       "      <th>ACTIVITY_DATA_29</th>\n",
       "      <th>ACTIVITY_DATA_30</th>\n",
       "    </tr>\n",
       "  </thead>\n",
       "  <tbody>\n",
       "    <tr>\n",
       "      <td>221338</td>\n",
       "      <td>gfEzSP0HgSM=</td>\n",
       "      <td>CAN</td>\n",
       "      <td>EBC</td>\n",
       "      <td>2017-05-24 13:52:01</td>\n",
       "      <td>159888</td>\n",
       "      <td>R</td>\n",
       "      <td>open</td>\n",
       "      <td>NaN</td>\n",
       "      <td>NaN</td>\n",
       "      <td>NaN</td>\n",
       "      <td>...</td>\n",
       "      <td>NaN</td>\n",
       "      <td>NaN</td>\n",
       "      <td>NaN</td>\n",
       "      <td>136916</td>\n",
       "      <td>NaN</td>\n",
       "      <td>NaN</td>\n",
       "      <td>NaN</td>\n",
       "      <td>NaN</td>\n",
       "      <td>NaN</td>\n",
       "      <td>NaN</td>\n",
       "    </tr>\n",
       "    <tr>\n",
       "      <td>221488</td>\n",
       "      <td>lYwVO8O9fX4=</td>\n",
       "      <td>CAN</td>\n",
       "      <td>EBC</td>\n",
       "      <td>2017-05-01 01:46:01</td>\n",
       "      <td>161768</td>\n",
       "      <td>R</td>\n",
       "      <td>open</td>\n",
       "      <td>NaN</td>\n",
       "      <td>NaN</td>\n",
       "      <td>NaN</td>\n",
       "      <td>...</td>\n",
       "      <td>NaN</td>\n",
       "      <td>NaN</td>\n",
       "      <td>NaN</td>\n",
       "      <td>138800</td>\n",
       "      <td>NaN</td>\n",
       "      <td>NaN</td>\n",
       "      <td>NaN</td>\n",
       "      <td>NaN</td>\n",
       "      <td>NaN</td>\n",
       "      <td>NaN</td>\n",
       "    </tr>\n",
       "    <tr>\n",
       "      <td>221489</td>\n",
       "      <td>lYwVO8O9fX4=</td>\n",
       "      <td>CAN</td>\n",
       "      <td>EBC</td>\n",
       "      <td>2017-05-01 01:46:01</td>\n",
       "      <td>162036</td>\n",
       "      <td>R</td>\n",
       "      <td>open</td>\n",
       "      <td>NaN</td>\n",
       "      <td>NaN</td>\n",
       "      <td>NaN</td>\n",
       "      <td>...</td>\n",
       "      <td>NaN</td>\n",
       "      <td>NaN</td>\n",
       "      <td>NaN</td>\n",
       "      <td>139069</td>\n",
       "      <td>NaN</td>\n",
       "      <td>NaN</td>\n",
       "      <td>NaN</td>\n",
       "      <td>NaN</td>\n",
       "      <td>NaN</td>\n",
       "      <td>NaN</td>\n",
       "    </tr>\n",
       "    <tr>\n",
       "      <td>221560</td>\n",
       "      <td>BhIcQaXnjO4=</td>\n",
       "      <td>CAN</td>\n",
       "      <td>EBC</td>\n",
       "      <td>2017-05-28 17:46:01</td>\n",
       "      <td>159229</td>\n",
       "      <td>R</td>\n",
       "      <td>open</td>\n",
       "      <td>click</td>\n",
       "      <td>formsub</td>\n",
       "      <td>NaN</td>\n",
       "      <td>...</td>\n",
       "      <td>NaN</td>\n",
       "      <td>NaN</td>\n",
       "      <td>NaN</td>\n",
       "      <td>136256</td>\n",
       "      <td>NaN</td>\n",
       "      <td>NaN</td>\n",
       "      <td>NaN</td>\n",
       "      <td>NaN</td>\n",
       "      <td>NaN</td>\n",
       "      <td>NaN</td>\n",
       "    </tr>\n",
       "    <tr>\n",
       "      <td>221699</td>\n",
       "      <td>7BF0kVEHgh8=</td>\n",
       "      <td>CA</td>\n",
       "      <td>EBC</td>\n",
       "      <td>2017-05-04 14:49:01</td>\n",
       "      <td>157751</td>\n",
       "      <td>R</td>\n",
       "      <td>open</td>\n",
       "      <td>NaN</td>\n",
       "      <td>NaN</td>\n",
       "      <td>NaN</td>\n",
       "      <td>...</td>\n",
       "      <td>NaN</td>\n",
       "      <td>NaN</td>\n",
       "      <td>NaN</td>\n",
       "      <td>134772</td>\n",
       "      <td>NaN</td>\n",
       "      <td>NaN</td>\n",
       "      <td>NaN</td>\n",
       "      <td>NaN</td>\n",
       "      <td>NaN</td>\n",
       "      <td>NaN</td>\n",
       "    </tr>\n",
       "  </tbody>\n",
       "</table>\n",
       "<p>5 rows × 21 columns</p>\n",
       "</div>"
      ],
      "text/plain": [
       "        SUPPORTER_ID COUNTRY ACTIVITY_TYPE    ACTIVITY_DATETIME  ACTIVITY_ID  \\\n",
       "221338  gfEzSP0HgSM=     CAN           EBC  2017-05-24 13:52:01       159888   \n",
       "221488  lYwVO8O9fX4=     CAN           EBC  2017-05-01 01:46:01       161768   \n",
       "221489  lYwVO8O9fX4=     CAN           EBC  2017-05-01 01:46:01       162036   \n",
       "221560  BhIcQaXnjO4=     CAN           EBC  2017-05-28 17:46:01       159229   \n",
       "221699  7BF0kVEHgh8=      CA           EBC  2017-05-04 14:49:01       157751   \n",
       "\n",
       "       ACTIVITY_STATUS ACTIVITY_DATA_1 ACTIVITY_DATA_2 ACTIVITY_DATA_3  \\\n",
       "221338               R            open             NaN             NaN   \n",
       "221488               R            open             NaN             NaN   \n",
       "221489               R            open             NaN             NaN   \n",
       "221560               R            open           click         formsub   \n",
       "221699               R            open             NaN             NaN   \n",
       "\n",
       "       ACTIVITY_DATA_4  ... ACTIVITY_DATA_6 ACTIVITY_DATA_7 ACTIVITY_DATA_8  \\\n",
       "221338             NaN  ...             NaN             NaN             NaN   \n",
       "221488             NaN  ...             NaN             NaN             NaN   \n",
       "221489             NaN  ...             NaN             NaN             NaN   \n",
       "221560             NaN  ...             NaN             NaN             NaN   \n",
       "221699             NaN  ...             NaN             NaN             NaN   \n",
       "\n",
       "        ACTIVITY_DATA_9 ACTIVITY_DATA_10 ACTIVITY_DATA_26  ACTIVITY_DATA_27  \\\n",
       "221338           136916              NaN              NaN               NaN   \n",
       "221488           138800              NaN              NaN               NaN   \n",
       "221489           139069              NaN              NaN               NaN   \n",
       "221560           136256              NaN              NaN               NaN   \n",
       "221699           134772              NaN              NaN               NaN   \n",
       "\n",
       "        ACTIVITY_DATA_28  ACTIVITY_DATA_29  ACTIVITY_DATA_30  \n",
       "221338               NaN               NaN               NaN  \n",
       "221488               NaN               NaN               NaN  \n",
       "221489               NaN               NaN               NaN  \n",
       "221560               NaN               NaN               NaN  \n",
       "221699               NaN               NaN               NaN  \n",
       "\n",
       "[5 rows x 21 columns]"
      ]
     },
     "execution_count": 50,
     "metadata": {},
     "output_type": "execute_result"
    }
   ],
   "source": [
    "# first 5 rows of may IDs common in sends IDs\n",
    "df_may_cut.head()"
   ]
  },
  {
   "cell_type": "code",
   "execution_count": 51,
   "metadata": {},
   "outputs": [
    {
     "data": {
      "text/html": [
       "<div>\n",
       "<style scoped>\n",
       "    .dataframe tbody tr th:only-of-type {\n",
       "        vertical-align: middle;\n",
       "    }\n",
       "\n",
       "    .dataframe tbody tr th {\n",
       "        vertical-align: top;\n",
       "    }\n",
       "\n",
       "    .dataframe thead th {\n",
       "        text-align: right;\n",
       "    }\n",
       "</style>\n",
       "<table border=\"1\" class=\"dataframe\">\n",
       "  <thead>\n",
       "    <tr style=\"text-align: right;\">\n",
       "      <th></th>\n",
       "      <th>SUPPORTER_ID</th>\n",
       "      <th>COUNTRY</th>\n",
       "      <th>ACTIVITY_TYPE</th>\n",
       "      <th>ACTIVITY_DATETIME</th>\n",
       "      <th>ACTIVITY_ID</th>\n",
       "      <th>ACTIVITY_STATUS</th>\n",
       "      <th>ACTIVITY_DATA_1</th>\n",
       "      <th>ACTIVITY_DATA_2</th>\n",
       "      <th>ACTIVITY_DATA_3</th>\n",
       "      <th>ACTIVITY_DATA_4</th>\n",
       "      <th>...</th>\n",
       "      <th>ACTIVITY_DATA_6</th>\n",
       "      <th>ACTIVITY_DATA_7</th>\n",
       "      <th>ACTIVITY_DATA_8</th>\n",
       "      <th>ACTIVITY_DATA_9</th>\n",
       "      <th>ACTIVITY_DATA_10</th>\n",
       "      <th>ACTIVITY_DATA_26</th>\n",
       "      <th>ACTIVITY_DATA_27</th>\n",
       "      <th>ACTIVITY_DATA_28</th>\n",
       "      <th>ACTIVITY_DATA_29</th>\n",
       "      <th>ACTIVITY_DATA_30</th>\n",
       "    </tr>\n",
       "  </thead>\n",
       "  <tbody>\n",
       "  </tbody>\n",
       "</table>\n",
       "<p>0 rows × 21 columns</p>\n",
       "</div>"
      ],
      "text/plain": [
       "Empty DataFrame\n",
       "Columns: [SUPPORTER_ID, COUNTRY, ACTIVITY_TYPE, ACTIVITY_DATETIME, ACTIVITY_ID, ACTIVITY_STATUS, ACTIVITY_DATA_1, ACTIVITY_DATA_2, ACTIVITY_DATA_3, ACTIVITY_DATA_4, ACTIVITY_DATA_5, ACTIVITY_DATA_6, ACTIVITY_DATA_7, ACTIVITY_DATA_8, ACTIVITY_DATA_9, ACTIVITY_DATA_10, ACTIVITY_DATA_26, ACTIVITY_DATA_27, ACTIVITY_DATA_28, ACTIVITY_DATA_29, ACTIVITY_DATA_30]\n",
       "Index: []\n",
       "\n",
       "[0 rows x 21 columns]"
      ]
     },
     "execution_count": 51,
     "metadata": {},
     "output_type": "execute_result"
    }
   ],
   "source": [
    "# checking for FCS data in May_cut\n",
    "df_may_cut.loc[df_may_cut['ACTIVITY_TYPE'] == 'FCS']"
   ]
  },
  {
   "cell_type": "code",
   "execution_count": 52,
   "metadata": {},
   "outputs": [
    {
     "data": {
      "text/html": [
       "<div>\n",
       "<style scoped>\n",
       "    .dataframe tbody tr th:only-of-type {\n",
       "        vertical-align: middle;\n",
       "    }\n",
       "\n",
       "    .dataframe tbody tr th {\n",
       "        vertical-align: top;\n",
       "    }\n",
       "\n",
       "    .dataframe thead th {\n",
       "        text-align: right;\n",
       "    }\n",
       "</style>\n",
       "<table border=\"1\" class=\"dataframe\">\n",
       "  <thead>\n",
       "    <tr style=\"text-align: right;\">\n",
       "      <th></th>\n",
       "      <th>SUPPORTER_ID</th>\n",
       "      <th>COUNTRY</th>\n",
       "      <th>ACTIVITY_TYPE</th>\n",
       "      <th>ACTIVITY_DATETIME</th>\n",
       "      <th>ACTIVITY_ID</th>\n",
       "      <th>ACTIVITY_STATUS</th>\n",
       "      <th>ACTIVITY_DATA_1</th>\n",
       "      <th>ACTIVITY_DATA_2</th>\n",
       "      <th>ACTIVITY_DATA_3</th>\n",
       "      <th>ACTIVITY_DATA_4</th>\n",
       "      <th>...</th>\n",
       "      <th>ACTIVITY_DATA_6</th>\n",
       "      <th>ACTIVITY_DATA_7</th>\n",
       "      <th>ACTIVITY_DATA_8</th>\n",
       "      <th>ACTIVITY_DATA_9</th>\n",
       "      <th>ACTIVITY_DATA_10</th>\n",
       "      <th>ACTIVITY_DATA_26</th>\n",
       "      <th>ACTIVITY_DATA_27</th>\n",
       "      <th>ACTIVITY_DATA_28</th>\n",
       "      <th>ACTIVITY_DATA_29</th>\n",
       "      <th>ACTIVITY_DATA_30</th>\n",
       "    </tr>\n",
       "  </thead>\n",
       "  <tbody>\n",
       "  </tbody>\n",
       "</table>\n",
       "<p>0 rows × 21 columns</p>\n",
       "</div>"
      ],
      "text/plain": [
       "Empty DataFrame\n",
       "Columns: [SUPPORTER_ID, COUNTRY, ACTIVITY_TYPE, ACTIVITY_DATETIME, ACTIVITY_ID, ACTIVITY_STATUS, ACTIVITY_DATA_1, ACTIVITY_DATA_2, ACTIVITY_DATA_3, ACTIVITY_DATA_4, ACTIVITY_DATA_5, ACTIVITY_DATA_6, ACTIVITY_DATA_7, ACTIVITY_DATA_8, ACTIVITY_DATA_9, ACTIVITY_DATA_10, ACTIVITY_DATA_26, ACTIVITY_DATA_27, ACTIVITY_DATA_28, ACTIVITY_DATA_29, ACTIVITY_DATA_30]\n",
       "Index: []\n",
       "\n",
       "[0 rows x 21 columns]"
      ]
     },
     "execution_count": 52,
     "metadata": {},
     "output_type": "execute_result"
    }
   ],
   "source": [
    "# checking for FUR data in May_cut\n",
    "df_may_cut.loc[df_may_cut['ACTIVITY_TYPE'] == 'FUR']"
   ]
  },
  {
   "cell_type": "code",
   "execution_count": 53,
   "metadata": {},
   "outputs": [
    {
     "name": "stderr",
     "output_type": "stream",
     "text": [
      "C:\\Users\\Fred\\Anaconda3\\lib\\site-packages\\ipykernel_launcher.py:2: SettingWithCopyWarning: \n",
      "A value is trying to be set on a copy of a slice from a DataFrame.\n",
      "Try using .loc[row_indexer,col_indexer] = value instead\n",
      "\n",
      "See the caveats in the documentation: http://pandas.pydata.org/pandas-docs/stable/user_guide/indexing.html#returning-a-view-versus-a-copy\n",
      "  \n"
     ]
    }
   ],
   "source": [
    "# create day column for plotting\n",
    "df_may_cut['day'] = df_may_cut['ACTIVITY_DATETIME'].str.slice(8, 10)"
   ]
  },
  {
   "cell_type": "code",
   "execution_count": 54,
   "metadata": {},
   "outputs": [
    {
     "data": {
      "text/plain": [
       "dtype('O')"
      ]
     },
     "execution_count": 54,
     "metadata": {},
     "output_type": "execute_result"
    }
   ],
   "source": [
    "# check data type for day column\n",
    "df_may_cut.day.dtypes"
   ]
  },
  {
   "cell_type": "code",
   "execution_count": 55,
   "metadata": {},
   "outputs": [
    {
     "name": "stderr",
     "output_type": "stream",
     "text": [
      "C:\\Users\\Fred\\Anaconda3\\lib\\site-packages\\pandas\\core\\generic.py:5208: SettingWithCopyWarning: \n",
      "A value is trying to be set on a copy of a slice from a DataFrame.\n",
      "Try using .loc[row_indexer,col_indexer] = value instead\n",
      "\n",
      "See the caveats in the documentation: http://pandas.pydata.org/pandas-docs/stable/user_guide/indexing.html#returning-a-view-versus-a-copy\n",
      "  self[name] = value\n"
     ]
    }
   ],
   "source": [
    "# convert day to numberic\n",
    "df_may_cut.day = pd.to_numeric(df_may_cut.day)"
   ]
  },
  {
   "cell_type": "markdown",
   "metadata": {},
   "source": [
    "#### Histogram of May supporter actions by day of month"
   ]
  },
  {
   "cell_type": "code",
   "execution_count": 56,
   "metadata": {},
   "outputs": [
    {
     "data": {
      "text/plain": [
       "Text(0.5, 1.0, 'May supporter actions')"
      ]
     },
     "execution_count": 56,
     "metadata": {},
     "output_type": "execute_result"
    },
    {
     "data": {
      "image/png": "[encoded data removed]",
      "text/plain": [
       "<Figure size 864x432 with 1 Axes>"
      ]
     },
     "metadata": {
      "needs_background": "light"
     },
     "output_type": "display_data"
    }
   ],
   "source": [
    "df_may_cut.day.hist(figsize = (12, 6), bins = 31)\n",
    "plt.xlabel(\"Day of month\")\n",
    "plt.ylabel('Occurrences')\n",
    "plt.title('May supporter actions')"
   ]
  },
  {
   "cell_type": "markdown",
   "metadata": {},
   "source": [
    "The following line graph shows the total campaigns sent in March (9,302,069) and the subsequent actions that supporters took in March, April, and May."
   ]
  },
  {
   "cell_type": "code",
   "execution_count": 57,
   "metadata": {},
   "outputs": [
    {
     "data": {
      "text/plain": [
       "Text(0.5, 1.0, 'Actions by month')"
      ]
     },
     "execution_count": 57,
     "metadata": {},
     "output_type": "execute_result"
    },
    {
     "data": {
      "image/png": "[encoded data removed]",
      "text/plain": [
       "<Figure size 864x576 with 1 Axes>"
      ]
     },
     "metadata": {
      "needs_background": "light"
     },
     "output_type": "display_data"
    }
   ],
   "source": [
    "# create the datafram and produce the line chart\n",
    "df_t = pd.DataFrame({\n",
    "    'actions': [9302069, 1435793, 56360, 11203]\n",
    "}, index=['campaigns sent', 'march actions', 'april actions', 'may actions'])\n",
    "lines = df_t.plot.line(figsize=(12, 8))\n",
    "lines.set_xlabel(\"Supporter actions\")\n",
    "lines.set_ylabel(\"Occurences\")\n",
    "lines.set_title(\"Actions by month\")"
   ]
  },
  {
   "cell_type": "markdown",
   "metadata": {},
   "source": [
    "As expected, the number of actions supporters took in subsequent months dropped from month to month."
   ]
  },
  {
   "cell_type": "markdown",
   "metadata": {},
   "source": [
    "#### Next, building a dataframe to show the number of supporter actions that correspond to each broadcast ID in sends data:"
   ]
  },
  {
   "cell_type": "code",
   "execution_count": 58,
   "metadata": {},
   "outputs": [],
   "source": [
    "# building a datafram to capture actions taken in each month compared to starting number of broadcasts\n",
    "df2 = df_march_cut.ACTIVITY_ID.value_counts().to_frame('counts_march')\n",
    "df3 = df_april_cut.ACTIVITY_ID.value_counts().to_frame('counts_april')\n",
    "df4 = df_may_cut.ACTIVITY_ID.value_counts().to_frame('counts_may')\n",
    "df5 = df2.join(df3)\n",
    "df_temp = pd.concat([df2, df3], axis=1)\n",
    "df_all = pd.concat([df_temp, df4], axis=1)"
   ]
  },
  {
   "cell_type": "code",
   "execution_count": 59,
   "metadata": {},
   "outputs": [
    {
     "data": {
      "text/html": [
       "<div>\n",
       "<style scoped>\n",
       "    .dataframe tbody tr th:only-of-type {\n",
       "        vertical-align: middle;\n",
       "    }\n",
       "\n",
       "    .dataframe tbody tr th {\n",
       "        vertical-align: top;\n",
       "    }\n",
       "\n",
       "    .dataframe thead th {\n",
       "        text-align: right;\n",
       "    }\n",
       "</style>\n",
       "<table border=\"1\" class=\"dataframe\">\n",
       "  <thead>\n",
       "    <tr style=\"text-align: right;\">\n",
       "      <th></th>\n",
       "      <th>counts_march</th>\n",
       "      <th>counts_april</th>\n",
       "      <th>counts_may</th>\n",
       "    </tr>\n",
       "  </thead>\n",
       "  <tbody>\n",
       "    <tr>\n",
       "      <td>154395</td>\n",
       "      <td>261808</td>\n",
       "      <td>3293.0</td>\n",
       "      <td>1428.0</td>\n",
       "    </tr>\n",
       "    <tr>\n",
       "      <td>157243</td>\n",
       "      <td>256</td>\n",
       "      <td>6.0</td>\n",
       "      <td>4.0</td>\n",
       "    </tr>\n",
       "    <tr>\n",
       "      <td>157563</td>\n",
       "      <td>74411</td>\n",
       "      <td>659.0</td>\n",
       "      <td>269.0</td>\n",
       "    </tr>\n",
       "    <tr>\n",
       "      <td>157751</td>\n",
       "      <td>246378</td>\n",
       "      <td>2897.0</td>\n",
       "      <td>1429.0</td>\n",
       "    </tr>\n",
       "    <tr>\n",
       "      <td>157848</td>\n",
       "      <td>2982</td>\n",
       "      <td>65.0</td>\n",
       "      <td>47.0</td>\n",
       "    </tr>\n",
       "  </tbody>\n",
       "</table>\n",
       "</div>"
      ],
      "text/plain": [
       "        counts_march  counts_april  counts_may\n",
       "154395        261808        3293.0      1428.0\n",
       "157243           256           6.0         4.0\n",
       "157563         74411         659.0       269.0\n",
       "157751        246378        2897.0      1429.0\n",
       "157848          2982          65.0        47.0"
      ]
     },
     "execution_count": 59,
     "metadata": {},
     "output_type": "execute_result"
    }
   ],
   "source": [
    "# show datafram for actions taken in March, April and May for each BID\n",
    "df_all.head()"
   ]
  },
  {
   "cell_type": "code",
   "execution_count": 60,
   "metadata": {},
   "outputs": [],
   "source": [
    "# one more concatenation\n",
    "df_start = df.bid.value_counts().to_frame('counts_start')\n",
    "df_final = pd.concat([df_all, df_start], axis=1)\n",
    "\n",
    "# re-arrange columns\n",
    "df_final = df_final[['counts_start', 'counts_march', 'counts_april', 'counts_may']]"
   ]
  },
  {
   "cell_type": "code",
   "execution_count": 61,
   "metadata": {},
   "outputs": [
    {
     "data": {
      "text/html": [
       "<div>\n",
       "<style scoped>\n",
       "    .dataframe tbody tr th:only-of-type {\n",
       "        vertical-align: middle;\n",
       "    }\n",
       "\n",
       "    .dataframe tbody tr th {\n",
       "        vertical-align: top;\n",
       "    }\n",
       "\n",
       "    .dataframe thead th {\n",
       "        text-align: right;\n",
       "    }\n",
       "</style>\n",
       "<table border=\"1\" class=\"dataframe\">\n",
       "  <thead>\n",
       "    <tr style=\"text-align: right;\">\n",
       "      <th></th>\n",
       "      <th>counts_start</th>\n",
       "      <th>counts_march</th>\n",
       "      <th>counts_april</th>\n",
       "      <th>counts_may</th>\n",
       "    </tr>\n",
       "  </thead>\n",
       "  <tbody>\n",
       "    <tr>\n",
       "      <td>154395</td>\n",
       "      <td>1467098</td>\n",
       "      <td>261808</td>\n",
       "      <td>3293.0</td>\n",
       "      <td>1428.0</td>\n",
       "    </tr>\n",
       "    <tr>\n",
       "      <td>157243</td>\n",
       "      <td>2357</td>\n",
       "      <td>256</td>\n",
       "      <td>6.0</td>\n",
       "      <td>4.0</td>\n",
       "    </tr>\n",
       "    <tr>\n",
       "      <td>157563</td>\n",
       "      <td>137802</td>\n",
       "      <td>74411</td>\n",
       "      <td>659.0</td>\n",
       "      <td>269.0</td>\n",
       "    </tr>\n",
       "    <tr>\n",
       "      <td>157751</td>\n",
       "      <td>1438285</td>\n",
       "      <td>246378</td>\n",
       "      <td>2897.0</td>\n",
       "      <td>1429.0</td>\n",
       "    </tr>\n",
       "    <tr>\n",
       "      <td>157848</td>\n",
       "      <td>9297</td>\n",
       "      <td>2982</td>\n",
       "      <td>65.0</td>\n",
       "      <td>47.0</td>\n",
       "    </tr>\n",
       "  </tbody>\n",
       "</table>\n",
       "</div>"
      ],
      "text/plain": [
       "        counts_start  counts_march  counts_april  counts_may\n",
       "154395       1467098        261808        3293.0      1428.0\n",
       "157243          2357           256           6.0         4.0\n",
       "157563        137802         74411         659.0       269.0\n",
       "157751       1438285        246378        2897.0      1429.0\n",
       "157848          9297          2982          65.0        47.0"
      ]
     },
     "execution_count": 61,
     "metadata": {},
     "output_type": "execute_result"
    }
   ],
   "source": [
    "# show 'final' dataframe\n",
    "df_final.head()"
   ]
  },
  {
   "cell_type": "code",
   "execution_count": 62,
   "metadata": {},
   "outputs": [
    {
     "data": {
      "text/plain": [
       "2"
      ]
     },
     "execution_count": 62,
     "metadata": {},
     "output_type": "execute_result"
    }
   ],
   "source": [
    "# count all null / nan values\n",
    "df_final.isnull().sum().sum()"
   ]
  },
  {
   "cell_type": "markdown",
   "metadata": {},
   "source": [
    "This value of 2 makes sense because there was 1 BID in original sends data that was not present in April and another BID not present in May. "
   ]
  },
  {
   "cell_type": "code",
   "execution_count": 63,
   "metadata": {},
   "outputs": [],
   "source": [
    "# fill nan's with 0\n",
    "df_final = df_final.fillna(0)"
   ]
  },
  {
   "cell_type": "code",
   "execution_count": 64,
   "metadata": {},
   "outputs": [],
   "source": [
    "# calculate 'best_return' by adding all transactions in March, April, May and dividing by total sends\n",
    "df_final['best_return'] = (df_final.counts_march + df_final.counts_april + df_final.counts_may) / df_final.counts_start*100"
   ]
  },
  {
   "cell_type": "code",
   "execution_count": 65,
   "metadata": {},
   "outputs": [
    {
     "data": {
      "text/html": [
       "<div>\n",
       "<style scoped>\n",
       "    .dataframe tbody tr th:only-of-type {\n",
       "        vertical-align: middle;\n",
       "    }\n",
       "\n",
       "    .dataframe tbody tr th {\n",
       "        vertical-align: top;\n",
       "    }\n",
       "\n",
       "    .dataframe thead th {\n",
       "        text-align: right;\n",
       "    }\n",
       "</style>\n",
       "<table border=\"1\" class=\"dataframe\">\n",
       "  <thead>\n",
       "    <tr style=\"text-align: right;\">\n",
       "      <th></th>\n",
       "      <th>counts_start</th>\n",
       "      <th>counts_march</th>\n",
       "      <th>counts_april</th>\n",
       "      <th>counts_may</th>\n",
       "      <th>best_return</th>\n",
       "    </tr>\n",
       "  </thead>\n",
       "  <tbody>\n",
       "    <tr>\n",
       "      <td>157563</td>\n",
       "      <td>137802</td>\n",
       "      <td>74411</td>\n",
       "      <td>659.0</td>\n",
       "      <td>269.0</td>\n",
       "      <td>54.671921</td>\n",
       "    </tr>\n",
       "    <tr>\n",
       "      <td>159222</td>\n",
       "      <td>223</td>\n",
       "      <td>106</td>\n",
       "      <td>0.0</td>\n",
       "      <td>1.0</td>\n",
       "      <td>47.982063</td>\n",
       "    </tr>\n",
       "    <tr>\n",
       "      <td>161032</td>\n",
       "      <td>2327</td>\n",
       "      <td>840</td>\n",
       "      <td>32.0</td>\n",
       "      <td>9.0</td>\n",
       "      <td>37.859905</td>\n",
       "    </tr>\n",
       "    <tr>\n",
       "      <td>161655</td>\n",
       "      <td>1836</td>\n",
       "      <td>587</td>\n",
       "      <td>37.0</td>\n",
       "      <td>9.0</td>\n",
       "      <td>34.477124</td>\n",
       "    </tr>\n",
       "    <tr>\n",
       "      <td>159219</td>\n",
       "      <td>73</td>\n",
       "      <td>24</td>\n",
       "      <td>1.0</td>\n",
       "      <td>0.0</td>\n",
       "      <td>34.246575</td>\n",
       "    </tr>\n",
       "  </tbody>\n",
       "</table>\n",
       "</div>"
      ],
      "text/plain": [
       "        counts_start  counts_march  counts_april  counts_may  best_return\n",
       "157563        137802         74411         659.0       269.0    54.671921\n",
       "159222           223           106           0.0         1.0    47.982063\n",
       "161032          2327           840          32.0         9.0    37.859905\n",
       "161655          1836           587          37.0         9.0    34.477124\n",
       "159219            73            24           1.0         0.0    34.246575"
      ]
     },
     "execution_count": 65,
     "metadata": {},
     "output_type": "execute_result"
    }
   ],
   "source": [
    "# show final dataframe\n",
    "df_final = df_final.sort_values('best_return', ascending=False)\n",
    "df_final.head()"
   ]
  },
  {
   "cell_type": "markdown",
   "metadata": {},
   "source": [
    "So, the above dataframe shows that the BID 157563 had the greatest amount of actions taken by supporters relative to the number of broadcasts orginally sent.  This may not be too useful because an action could be 'moved to spam' and supporters could have performed actions on one BID in March and then again in May.  \n",
    "\n",
    "The actions need to broken down into each action, such as 'open' to get a clearer picture on the supporter response.  Furthermore, the action of 'formsub' could be something to isolate and understand when and why supporters submitted a form."
   ]
  },
  {
   "cell_type": "code",
   "execution_count": 66,
   "metadata": {},
   "outputs": [],
   "source": [
    "# just a spot check on March emails where the supporter 'Participated'\n",
    "df_march_p = df_march_cut.loc[df_march_cut['ACTIVITY_STATUS'] == 'P']"
   ]
  },
  {
   "cell_type": "code",
   "execution_count": 67,
   "metadata": {},
   "outputs": [
    {
     "data": {
      "text/plain": [
       "(0, 22)"
      ]
     },
     "execution_count": 67,
     "metadata": {},
     "output_type": "execute_result"
    }
   ],
   "source": [
    "# number of rows where supporter participated\n",
    "df_march_p.shape"
   ]
  },
  {
   "cell_type": "markdown",
   "metadata": {},
   "source": [
    "No supporters had an activity status of 'P' for March transactions with activity ID in the sends data.\n",
    "\n",
    "This next dataframe shows some of the actions that were taken for each of the ACTIVITY_DATA_X info and counts the number of actions taken.  \n",
    "\n",
    "This is just to get a sense of what kind of actions exist for each ACTIVITY_DATA."
   ]
  },
  {
   "cell_type": "code",
   "execution_count": 68,
   "metadata": {},
   "outputs": [
    {
     "data": {
      "text/html": [
       "<div>\n",
       "<style scoped>\n",
       "    .dataframe tbody tr th:only-of-type {\n",
       "        vertical-align: middle;\n",
       "    }\n",
       "\n",
       "    .dataframe tbody tr th {\n",
       "        vertical-align: top;\n",
       "    }\n",
       "\n",
       "    .dataframe thead th {\n",
       "        text-align: right;\n",
       "    }\n",
       "</style>\n",
       "<table border=\"1\" class=\"dataframe\">\n",
       "  <thead>\n",
       "    <tr style=\"text-align: right;\">\n",
       "      <th></th>\n",
       "      <th>ACTIVITY_DATA_1</th>\n",
       "      <th>ACTIVITY_DATA_2</th>\n",
       "      <th>ACTIVITY_DATA_3</th>\n",
       "      <th>ACTIVITY_DATA_4</th>\n",
       "      <th>ACTIVITY_DATA_5</th>\n",
       "      <th>ACTIVITY_ID</th>\n",
       "    </tr>\n",
       "  </thead>\n",
       "  <tbody>\n",
       "    <tr>\n",
       "      <td>0</td>\n",
       "      <td>open</td>\n",
       "      <td>na</td>\n",
       "      <td>na</td>\n",
       "      <td>na</td>\n",
       "      <td>na</td>\n",
       "      <td>1278932</td>\n",
       "    </tr>\n",
       "    <tr>\n",
       "      <td>1</td>\n",
       "      <td>open</td>\n",
       "      <td>click</td>\n",
       "      <td>formsub</td>\n",
       "      <td>na</td>\n",
       "      <td>na</td>\n",
       "      <td>94854</td>\n",
       "    </tr>\n",
       "    <tr>\n",
       "      <td>2</td>\n",
       "      <td>open</td>\n",
       "      <td>click</td>\n",
       "      <td>na</td>\n",
       "      <td>na</td>\n",
       "      <td>na</td>\n",
       "      <td>47982</td>\n",
       "    </tr>\n",
       "    <tr>\n",
       "      <td>3</td>\n",
       "      <td>na</td>\n",
       "      <td>na</td>\n",
       "      <td>na</td>\n",
       "      <td>hbounce</td>\n",
       "      <td>na</td>\n",
       "      <td>8125</td>\n",
       "    </tr>\n",
       "    <tr>\n",
       "      <td>4</td>\n",
       "      <td>na</td>\n",
       "      <td>na</td>\n",
       "      <td>na</td>\n",
       "      <td>na</td>\n",
       "      <td>sbounce</td>\n",
       "      <td>2997</td>\n",
       "    </tr>\n",
       "    <tr>\n",
       "      <td>5</td>\n",
       "      <td>na</td>\n",
       "      <td>na</td>\n",
       "      <td>na</td>\n",
       "      <td>na</td>\n",
       "      <td>na</td>\n",
       "      <td>2122</td>\n",
       "    </tr>\n",
       "    <tr>\n",
       "      <td>6</td>\n",
       "      <td>na</td>\n",
       "      <td>click</td>\n",
       "      <td>formsub</td>\n",
       "      <td>na</td>\n",
       "      <td>na</td>\n",
       "      <td>289</td>\n",
       "    </tr>\n",
       "    <tr>\n",
       "      <td>7</td>\n",
       "      <td>na</td>\n",
       "      <td>na</td>\n",
       "      <td>formsub</td>\n",
       "      <td>na</td>\n",
       "      <td>na</td>\n",
       "      <td>241</td>\n",
       "    </tr>\n",
       "    <tr>\n",
       "      <td>8</td>\n",
       "      <td>na</td>\n",
       "      <td>click</td>\n",
       "      <td>na</td>\n",
       "      <td>na</td>\n",
       "      <td>na</td>\n",
       "      <td>187</td>\n",
       "    </tr>\n",
       "    <tr>\n",
       "      <td>9</td>\n",
       "      <td>open</td>\n",
       "      <td>na</td>\n",
       "      <td>formsub</td>\n",
       "      <td>na</td>\n",
       "      <td>na</td>\n",
       "      <td>34</td>\n",
       "    </tr>\n",
       "    <tr>\n",
       "      <td>10</td>\n",
       "      <td>open</td>\n",
       "      <td>na</td>\n",
       "      <td>na</td>\n",
       "      <td>na</td>\n",
       "      <td>sbounce</td>\n",
       "      <td>12</td>\n",
       "    </tr>\n",
       "    <tr>\n",
       "      <td>11</td>\n",
       "      <td>open</td>\n",
       "      <td>click</td>\n",
       "      <td>na</td>\n",
       "      <td>hbounce</td>\n",
       "      <td>na</td>\n",
       "      <td>10</td>\n",
       "    </tr>\n",
       "    <tr>\n",
       "      <td>12</td>\n",
       "      <td>open</td>\n",
       "      <td>na</td>\n",
       "      <td>na</td>\n",
       "      <td>hbounce</td>\n",
       "      <td>na</td>\n",
       "      <td>4</td>\n",
       "    </tr>\n",
       "    <tr>\n",
       "      <td>13</td>\n",
       "      <td>open</td>\n",
       "      <td>click</td>\n",
       "      <td>na</td>\n",
       "      <td>na</td>\n",
       "      <td>sbounce</td>\n",
       "      <td>3</td>\n",
       "    </tr>\n",
       "    <tr>\n",
       "      <td>14</td>\n",
       "      <td>open</td>\n",
       "      <td>click</td>\n",
       "      <td>formsub</td>\n",
       "      <td>na</td>\n",
       "      <td>sbounce</td>\n",
       "      <td>1</td>\n",
       "    </tr>\n",
       "  </tbody>\n",
       "</table>\n",
       "</div>"
      ],
      "text/plain": [
       "   ACTIVITY_DATA_1 ACTIVITY_DATA_2 ACTIVITY_DATA_3 ACTIVITY_DATA_4  \\\n",
       "0             open              na              na              na   \n",
       "1             open           click         formsub              na   \n",
       "2             open           click              na              na   \n",
       "3               na              na              na         hbounce   \n",
       "4               na              na              na              na   \n",
       "5               na              na              na              na   \n",
       "6               na           click         formsub              na   \n",
       "7               na              na         formsub              na   \n",
       "8               na           click              na              na   \n",
       "9             open              na         formsub              na   \n",
       "10            open              na              na              na   \n",
       "11            open           click              na         hbounce   \n",
       "12            open              na              na         hbounce   \n",
       "13            open           click              na              na   \n",
       "14            open           click         formsub              na   \n",
       "\n",
       "   ACTIVITY_DATA_5  ACTIVITY_ID  \n",
       "0               na      1278932  \n",
       "1               na        94854  \n",
       "2               na        47982  \n",
       "3               na         8125  \n",
       "4          sbounce         2997  \n",
       "5               na         2122  \n",
       "6               na          289  \n",
       "7               na          241  \n",
       "8               na          187  \n",
       "9               na           34  \n",
       "10         sbounce           12  \n",
       "11              na           10  \n",
       "12              na            4  \n",
       "13         sbounce            3  \n",
       "14         sbounce            1  "
      ]
     },
     "execution_count": 68,
     "metadata": {},
     "output_type": "execute_result"
    }
   ],
   "source": [
    "# create a dataframe grouped by activity to get a feel for the number and types of activities performed by supporters in March\n",
    "df_march_cut.fillna('na').groupby(['ACTIVITY_DATA_1', 'ACTIVITY_DATA_2', 'ACTIVITY_DATA_3', 'ACTIVITY_DATA_4', 'ACTIVITY_DATA_5']).ACTIVITY_ID.count().sort_values(ascending=False).reset_index()"
   ]
  },
  {
   "cell_type": "code",
   "execution_count": 69,
   "metadata": {},
   "outputs": [
    {
     "data": {
      "text/html": [
       "<div>\n",
       "<style scoped>\n",
       "    .dataframe tbody tr th:only-of-type {\n",
       "        vertical-align: middle;\n",
       "    }\n",
       "\n",
       "    .dataframe tbody tr th {\n",
       "        vertical-align: top;\n",
       "    }\n",
       "\n",
       "    .dataframe thead th {\n",
       "        text-align: right;\n",
       "    }\n",
       "</style>\n",
       "<table border=\"1\" class=\"dataframe\">\n",
       "  <thead>\n",
       "    <tr style=\"text-align: right;\">\n",
       "      <th></th>\n",
       "      <th>ACTIVITY_DATA_6</th>\n",
       "      <th>ACTIVITY_DATA_7</th>\n",
       "      <th>ACTIVITY_DATA_8</th>\n",
       "      <th>ACTIVITY_DATA_9</th>\n",
       "      <th>ACTIVITY_DATA_10</th>\n",
       "      <th>ACTIVITY_ID</th>\n",
       "    </tr>\n",
       "  </thead>\n",
       "  <tbody>\n",
       "    <tr>\n",
       "      <td>0</td>\n",
       "      <td>na</td>\n",
       "      <td>na</td>\n",
       "      <td>na</td>\n",
       "      <td>131397</td>\n",
       "      <td>na</td>\n",
       "      <td>261614</td>\n",
       "    </tr>\n",
       "    <tr>\n",
       "      <td>1</td>\n",
       "      <td>na</td>\n",
       "      <td>na</td>\n",
       "      <td>na</td>\n",
       "      <td>134772</td>\n",
       "      <td>na</td>\n",
       "      <td>246209</td>\n",
       "    </tr>\n",
       "    <tr>\n",
       "      <td>2</td>\n",
       "      <td>na</td>\n",
       "      <td>na</td>\n",
       "      <td>na</td>\n",
       "      <td>135341</td>\n",
       "      <td>na</td>\n",
       "      <td>82715</td>\n",
       "    </tr>\n",
       "    <tr>\n",
       "      <td>3</td>\n",
       "      <td>na</td>\n",
       "      <td>na</td>\n",
       "      <td>na</td>\n",
       "      <td>134585</td>\n",
       "      <td>na</td>\n",
       "      <td>74024</td>\n",
       "    </tr>\n",
       "    <tr>\n",
       "      <td>4</td>\n",
       "      <td>na</td>\n",
       "      <td>na</td>\n",
       "      <td>na</td>\n",
       "      <td>138611</td>\n",
       "      <td>na</td>\n",
       "      <td>69566</td>\n",
       "    </tr>\n",
       "    <tr>\n",
       "      <td>5</td>\n",
       "      <td>na</td>\n",
       "      <td>na</td>\n",
       "      <td>na</td>\n",
       "      <td>136359</td>\n",
       "      <td>na</td>\n",
       "      <td>56378</td>\n",
       "    </tr>\n",
       "    <tr>\n",
       "      <td>6</td>\n",
       "      <td>na</td>\n",
       "      <td>na</td>\n",
       "      <td>na</td>\n",
       "      <td>138001</td>\n",
       "      <td>na</td>\n",
       "      <td>52340</td>\n",
       "    </tr>\n",
       "    <tr>\n",
       "      <td>7</td>\n",
       "      <td>na</td>\n",
       "      <td>na</td>\n",
       "      <td>na</td>\n",
       "      <td>135857</td>\n",
       "      <td>na</td>\n",
       "      <td>51781</td>\n",
       "    </tr>\n",
       "    <tr>\n",
       "      <td>8</td>\n",
       "      <td>na</td>\n",
       "      <td>na</td>\n",
       "      <td>na</td>\n",
       "      <td>135339</td>\n",
       "      <td>na</td>\n",
       "      <td>49031</td>\n",
       "    </tr>\n",
       "    <tr>\n",
       "      <td>9</td>\n",
       "      <td>na</td>\n",
       "      <td>na</td>\n",
       "      <td>na</td>\n",
       "      <td>138612</td>\n",
       "      <td>na</td>\n",
       "      <td>48899</td>\n",
       "    </tr>\n",
       "  </tbody>\n",
       "</table>\n",
       "</div>"
      ],
      "text/plain": [
       "  ACTIVITY_DATA_6 ACTIVITY_DATA_7 ACTIVITY_DATA_8 ACTIVITY_DATA_9  \\\n",
       "0              na              na              na          131397   \n",
       "1              na              na              na          134772   \n",
       "2              na              na              na          135341   \n",
       "3              na              na              na          134585   \n",
       "4              na              na              na          138611   \n",
       "5              na              na              na          136359   \n",
       "6              na              na              na          138001   \n",
       "7              na              na              na          135857   \n",
       "8              na              na              na          135339   \n",
       "9              na              na              na          138612   \n",
       "\n",
       "  ACTIVITY_DATA_10  ACTIVITY_ID  \n",
       "0               na       261614  \n",
       "1               na       246209  \n",
       "2               na        82715  \n",
       "3               na        74024  \n",
       "4               na        69566  \n",
       "5               na        56378  \n",
       "6               na        52340  \n",
       "7               na        51781  \n",
       "8               na        49031  \n",
       "9               na        48899  "
      ]
     },
     "execution_count": 69,
     "metadata": {},
     "output_type": "execute_result"
    }
   ],
   "source": [
    "# create a dataframe grouped by activity to get a feel for the number and types of activities performed by supporters in March\n",
    "df_march_cut.fillna('na').groupby(['ACTIVITY_DATA_6', 'ACTIVITY_DATA_7', 'ACTIVITY_DATA_8', 'ACTIVITY_DATA_9', 'ACTIVITY_DATA_10']).ACTIVITY_ID.count().sort_values(ascending=False).reset_index().head(10)"
   ]
  },
  {
   "cell_type": "markdown",
   "metadata": {},
   "source": [
    "The above dataframe has numbers in ACTIVITY_DATA_9 which needs more investigation.  For instance, 131397 occurred 259,977 times."
   ]
  },
  {
   "cell_type": "code",
   "execution_count": 70,
   "metadata": {},
   "outputs": [
    {
     "data": {
      "text/html": [
       "<div>\n",
       "<style scoped>\n",
       "    .dataframe tbody tr th:only-of-type {\n",
       "        vertical-align: middle;\n",
       "    }\n",
       "\n",
       "    .dataframe tbody tr th {\n",
       "        vertical-align: top;\n",
       "    }\n",
       "\n",
       "    .dataframe thead th {\n",
       "        text-align: right;\n",
       "    }\n",
       "</style>\n",
       "<table border=\"1\" class=\"dataframe\">\n",
       "  <thead>\n",
       "    <tr style=\"text-align: right;\">\n",
       "      <th></th>\n",
       "      <th>0</th>\n",
       "      <th>1</th>\n",
       "      <th>2</th>\n",
       "      <th>3</th>\n",
       "      <th>4</th>\n",
       "      <th>5</th>\n",
       "      <th>6</th>\n",
       "      <th>7</th>\n",
       "      <th>8</th>\n",
       "      <th>9</th>\n",
       "      <th>...</th>\n",
       "      <th>40</th>\n",
       "      <th>41</th>\n",
       "      <th>42</th>\n",
       "      <th>43</th>\n",
       "      <th>44</th>\n",
       "      <th>45</th>\n",
       "      <th>46</th>\n",
       "      <th>47</th>\n",
       "      <th>48</th>\n",
       "      <th>49</th>\n",
       "    </tr>\n",
       "  </thead>\n",
       "  <tbody>\n",
       "    <tr>\n",
       "      <td>ACTIVITY_DATA_1</td>\n",
       "      <td>open</td>\n",
       "      <td>open</td>\n",
       "      <td>na</td>\n",
       "      <td>open</td>\n",
       "      <td>Warnel May</td>\n",
       "      <td>open</td>\n",
       "      <td>open</td>\n",
       "      <td>open</td>\n",
       "      <td>open</td>\n",
       "      <td>open</td>\n",
       "      <td>...</td>\n",
       "      <td>open</td>\n",
       "      <td>open</td>\n",
       "      <td>open</td>\n",
       "      <td>open</td>\n",
       "      <td>open</td>\n",
       "      <td>open</td>\n",
       "      <td>open</td>\n",
       "      <td>open</td>\n",
       "      <td>open</td>\n",
       "      <td>open</td>\n",
       "    </tr>\n",
       "    <tr>\n",
       "      <td>ACTIVITY_DATA_2</td>\n",
       "      <td>na</td>\n",
       "      <td>na</td>\n",
       "      <td>na</td>\n",
       "      <td>na</td>\n",
       "      <td>Escobar</td>\n",
       "      <td>click</td>\n",
       "      <td>na</td>\n",
       "      <td>na</td>\n",
       "      <td>na</td>\n",
       "      <td>na</td>\n",
       "      <td>...</td>\n",
       "      <td>na</td>\n",
       "      <td>click</td>\n",
       "      <td>na</td>\n",
       "      <td>na</td>\n",
       "      <td>na</td>\n",
       "      <td>na</td>\n",
       "      <td>click</td>\n",
       "      <td>click</td>\n",
       "      <td>click</td>\n",
       "      <td>na</td>\n",
       "    </tr>\n",
       "    <tr>\n",
       "      <td>ACTIVITY_DATA_3</td>\n",
       "      <td>na</td>\n",
       "      <td>na</td>\n",
       "      <td>na</td>\n",
       "      <td>na</td>\n",
       "      <td>na</td>\n",
       "      <td>formsub</td>\n",
       "      <td>na</td>\n",
       "      <td>na</td>\n",
       "      <td>na</td>\n",
       "      <td>na</td>\n",
       "      <td>...</td>\n",
       "      <td>na</td>\n",
       "      <td>na</td>\n",
       "      <td>na</td>\n",
       "      <td>na</td>\n",
       "      <td>na</td>\n",
       "      <td>na</td>\n",
       "      <td>na</td>\n",
       "      <td>na</td>\n",
       "      <td>formsub</td>\n",
       "      <td>na</td>\n",
       "    </tr>\n",
       "    <tr>\n",
       "      <td>ACTIVITY_DATA_4</td>\n",
       "      <td>na</td>\n",
       "      <td>na</td>\n",
       "      <td>na</td>\n",
       "      <td>na</td>\n",
       "      <td>na</td>\n",
       "      <td>na</td>\n",
       "      <td>na</td>\n",
       "      <td>na</td>\n",
       "      <td>na</td>\n",
       "      <td>na</td>\n",
       "      <td>...</td>\n",
       "      <td>na</td>\n",
       "      <td>na</td>\n",
       "      <td>na</td>\n",
       "      <td>na</td>\n",
       "      <td>na</td>\n",
       "      <td>na</td>\n",
       "      <td>na</td>\n",
       "      <td>na</td>\n",
       "      <td>na</td>\n",
       "      <td>na</td>\n",
       "    </tr>\n",
       "    <tr>\n",
       "      <td>ACTIVITY_DATA_5</td>\n",
       "      <td>na</td>\n",
       "      <td>na</td>\n",
       "      <td>na</td>\n",
       "      <td>na</td>\n",
       "      <td>na</td>\n",
       "      <td>na</td>\n",
       "      <td>na</td>\n",
       "      <td>na</td>\n",
       "      <td>na</td>\n",
       "      <td>na</td>\n",
       "      <td>...</td>\n",
       "      <td>na</td>\n",
       "      <td>na</td>\n",
       "      <td>na</td>\n",
       "      <td>na</td>\n",
       "      <td>na</td>\n",
       "      <td>na</td>\n",
       "      <td>na</td>\n",
       "      <td>na</td>\n",
       "      <td>na</td>\n",
       "      <td>na</td>\n",
       "    </tr>\n",
       "    <tr>\n",
       "      <td>ACTIVITY_DATA_6</td>\n",
       "      <td>na</td>\n",
       "      <td>na</td>\n",
       "      <td>na</td>\n",
       "      <td>na</td>\n",
       "      <td>na</td>\n",
       "      <td>na</td>\n",
       "      <td>na</td>\n",
       "      <td>na</td>\n",
       "      <td>na</td>\n",
       "      <td>na</td>\n",
       "      <td>...</td>\n",
       "      <td>na</td>\n",
       "      <td>na</td>\n",
       "      <td>na</td>\n",
       "      <td>na</td>\n",
       "      <td>na</td>\n",
       "      <td>na</td>\n",
       "      <td>na</td>\n",
       "      <td>na</td>\n",
       "      <td>na</td>\n",
       "      <td>na</td>\n",
       "    </tr>\n",
       "    <tr>\n",
       "      <td>ACTIVITY_DATA_7</td>\n",
       "      <td>na</td>\n",
       "      <td>na</td>\n",
       "      <td>na</td>\n",
       "      <td>na</td>\n",
       "      <td>na</td>\n",
       "      <td>na</td>\n",
       "      <td>na</td>\n",
       "      <td>na</td>\n",
       "      <td>na</td>\n",
       "      <td>na</td>\n",
       "      <td>...</td>\n",
       "      <td>na</td>\n",
       "      <td>na</td>\n",
       "      <td>na</td>\n",
       "      <td>na</td>\n",
       "      <td>na</td>\n",
       "      <td>na</td>\n",
       "      <td>na</td>\n",
       "      <td>na</td>\n",
       "      <td>na</td>\n",
       "      <td>na</td>\n",
       "    </tr>\n",
       "    <tr>\n",
       "      <td>ACTIVITY_DATA_8</td>\n",
       "      <td>na</td>\n",
       "      <td>na</td>\n",
       "      <td>na</td>\n",
       "      <td>na</td>\n",
       "      <td>na</td>\n",
       "      <td>na</td>\n",
       "      <td>na</td>\n",
       "      <td>na</td>\n",
       "      <td>na</td>\n",
       "      <td>na</td>\n",
       "      <td>...</td>\n",
       "      <td>na</td>\n",
       "      <td>na</td>\n",
       "      <td>na</td>\n",
       "      <td>na</td>\n",
       "      <td>na</td>\n",
       "      <td>na</td>\n",
       "      <td>na</td>\n",
       "      <td>na</td>\n",
       "      <td>na</td>\n",
       "      <td>na</td>\n",
       "    </tr>\n",
       "    <tr>\n",
       "      <td>ACTIVITY_DATA_9</td>\n",
       "      <td>134772</td>\n",
       "      <td>131397</td>\n",
       "      <td>na</td>\n",
       "      <td>135341</td>\n",
       "      <td>na</td>\n",
       "      <td>131397</td>\n",
       "      <td>138611</td>\n",
       "      <td>134585</td>\n",
       "      <td>136359</td>\n",
       "      <td>138001</td>\n",
       "      <td>...</td>\n",
       "      <td>132154</td>\n",
       "      <td>131397</td>\n",
       "      <td>137172</td>\n",
       "      <td>134869</td>\n",
       "      <td>138177</td>\n",
       "      <td>136004</td>\n",
       "      <td>136106</td>\n",
       "      <td>135341</td>\n",
       "      <td>133189</td>\n",
       "      <td>138984</td>\n",
       "    </tr>\n",
       "    <tr>\n",
       "      <td>ACTIVITY_DATA_10</td>\n",
       "      <td>na</td>\n",
       "      <td>na</td>\n",
       "      <td>na</td>\n",
       "      <td>na</td>\n",
       "      <td>na</td>\n",
       "      <td>na</td>\n",
       "      <td>na</td>\n",
       "      <td>na</td>\n",
       "      <td>na</td>\n",
       "      <td>na</td>\n",
       "      <td>...</td>\n",
       "      <td>na</td>\n",
       "      <td>na</td>\n",
       "      <td>na</td>\n",
       "      <td>na</td>\n",
       "      <td>na</td>\n",
       "      <td>na</td>\n",
       "      <td>na</td>\n",
       "      <td>na</td>\n",
       "      <td>na</td>\n",
       "      <td>na</td>\n",
       "    </tr>\n",
       "    <tr>\n",
       "      <td>ACTIVITY_DATA_26</td>\n",
       "      <td>na</td>\n",
       "      <td>na</td>\n",
       "      <td>na</td>\n",
       "      <td>na</td>\n",
       "      <td>na</td>\n",
       "      <td>na</td>\n",
       "      <td>na</td>\n",
       "      <td>na</td>\n",
       "      <td>na</td>\n",
       "      <td>na</td>\n",
       "      <td>...</td>\n",
       "      <td>na</td>\n",
       "      <td>na</td>\n",
       "      <td>na</td>\n",
       "      <td>na</td>\n",
       "      <td>na</td>\n",
       "      <td>na</td>\n",
       "      <td>na</td>\n",
       "      <td>na</td>\n",
       "      <td>na</td>\n",
       "      <td>na</td>\n",
       "    </tr>\n",
       "    <tr>\n",
       "      <td>ACTIVITY_DATA_27</td>\n",
       "      <td>na</td>\n",
       "      <td>na</td>\n",
       "      <td>na</td>\n",
       "      <td>na</td>\n",
       "      <td>na</td>\n",
       "      <td>na</td>\n",
       "      <td>na</td>\n",
       "      <td>na</td>\n",
       "      <td>na</td>\n",
       "      <td>na</td>\n",
       "      <td>...</td>\n",
       "      <td>na</td>\n",
       "      <td>na</td>\n",
       "      <td>na</td>\n",
       "      <td>na</td>\n",
       "      <td>na</td>\n",
       "      <td>na</td>\n",
       "      <td>na</td>\n",
       "      <td>na</td>\n",
       "      <td>na</td>\n",
       "      <td>na</td>\n",
       "    </tr>\n",
       "    <tr>\n",
       "      <td>ACTIVITY_DATA_28</td>\n",
       "      <td>na</td>\n",
       "      <td>na</td>\n",
       "      <td>na</td>\n",
       "      <td>na</td>\n",
       "      <td>na</td>\n",
       "      <td>na</td>\n",
       "      <td>na</td>\n",
       "      <td>na</td>\n",
       "      <td>na</td>\n",
       "      <td>na</td>\n",
       "      <td>...</td>\n",
       "      <td>na</td>\n",
       "      <td>na</td>\n",
       "      <td>na</td>\n",
       "      <td>na</td>\n",
       "      <td>na</td>\n",
       "      <td>na</td>\n",
       "      <td>na</td>\n",
       "      <td>na</td>\n",
       "      <td>na</td>\n",
       "      <td>na</td>\n",
       "    </tr>\n",
       "    <tr>\n",
       "      <td>ACTIVITY_DATA_29</td>\n",
       "      <td>na</td>\n",
       "      <td>na</td>\n",
       "      <td>na</td>\n",
       "      <td>na</td>\n",
       "      <td>na</td>\n",
       "      <td>na</td>\n",
       "      <td>na</td>\n",
       "      <td>na</td>\n",
       "      <td>na</td>\n",
       "      <td>na</td>\n",
       "      <td>...</td>\n",
       "      <td>na</td>\n",
       "      <td>na</td>\n",
       "      <td>na</td>\n",
       "      <td>na</td>\n",
       "      <td>na</td>\n",
       "      <td>na</td>\n",
       "      <td>na</td>\n",
       "      <td>na</td>\n",
       "      <td>na</td>\n",
       "      <td>na</td>\n",
       "    </tr>\n",
       "    <tr>\n",
       "      <td>ACTIVITY_DATA_30</td>\n",
       "      <td>na</td>\n",
       "      <td>na</td>\n",
       "      <td>na</td>\n",
       "      <td>na</td>\n",
       "      <td>na</td>\n",
       "      <td>na</td>\n",
       "      <td>na</td>\n",
       "      <td>na</td>\n",
       "      <td>na</td>\n",
       "      <td>na</td>\n",
       "      <td>...</td>\n",
       "      <td>na</td>\n",
       "      <td>na</td>\n",
       "      <td>na</td>\n",
       "      <td>na</td>\n",
       "      <td>na</td>\n",
       "      <td>na</td>\n",
       "      <td>na</td>\n",
       "      <td>na</td>\n",
       "      <td>na</td>\n",
       "      <td>na</td>\n",
       "    </tr>\n",
       "    <tr>\n",
       "      <td>ACTIVITY_ID</td>\n",
       "      <td>244863</td>\n",
       "      <td>184094</td>\n",
       "      <td>105451</td>\n",
       "      <td>78109</td>\n",
       "      <td>76175</td>\n",
       "      <td>71506</td>\n",
       "      <td>66380</td>\n",
       "      <td>63331</td>\n",
       "      <td>52857</td>\n",
       "      <td>50846</td>\n",
       "      <td>...</td>\n",
       "      <td>4691</td>\n",
       "      <td>3949</td>\n",
       "      <td>2995</td>\n",
       "      <td>2957</td>\n",
       "      <td>2910</td>\n",
       "      <td>2857</td>\n",
       "      <td>2855</td>\n",
       "      <td>2779</td>\n",
       "      <td>2464</td>\n",
       "      <td>2212</td>\n",
       "    </tr>\n",
       "  </tbody>\n",
       "</table>\n",
       "<p>16 rows × 50 columns</p>\n",
       "</div>"
      ],
      "text/plain": [
       "                      0       1       2       3           4        5       6   \\\n",
       "ACTIVITY_DATA_1     open    open      na    open  Warnel May     open    open   \n",
       "ACTIVITY_DATA_2       na      na      na      na     Escobar    click      na   \n",
       "ACTIVITY_DATA_3       na      na      na      na          na  formsub      na   \n",
       "ACTIVITY_DATA_4       na      na      na      na          na       na      na   \n",
       "ACTIVITY_DATA_5       na      na      na      na          na       na      na   \n",
       "ACTIVITY_DATA_6       na      na      na      na          na       na      na   \n",
       "ACTIVITY_DATA_7       na      na      na      na          na       na      na   \n",
       "ACTIVITY_DATA_8       na      na      na      na          na       na      na   \n",
       "ACTIVITY_DATA_9   134772  131397      na  135341          na   131397  138611   \n",
       "ACTIVITY_DATA_10      na      na      na      na          na       na      na   \n",
       "ACTIVITY_DATA_26      na      na      na      na          na       na      na   \n",
       "ACTIVITY_DATA_27      na      na      na      na          na       na      na   \n",
       "ACTIVITY_DATA_28      na      na      na      na          na       na      na   \n",
       "ACTIVITY_DATA_29      na      na      na      na          na       na      na   \n",
       "ACTIVITY_DATA_30      na      na      na      na          na       na      na   \n",
       "ACTIVITY_ID       244863  184094  105451   78109       76175    71506   66380   \n",
       "\n",
       "                      7       8       9   ...      40      41      42      43  \\\n",
       "ACTIVITY_DATA_1     open    open    open  ...    open    open    open    open   \n",
       "ACTIVITY_DATA_2       na      na      na  ...      na   click      na      na   \n",
       "ACTIVITY_DATA_3       na      na      na  ...      na      na      na      na   \n",
       "ACTIVITY_DATA_4       na      na      na  ...      na      na      na      na   \n",
       "ACTIVITY_DATA_5       na      na      na  ...      na      na      na      na   \n",
       "ACTIVITY_DATA_6       na      na      na  ...      na      na      na      na   \n",
       "ACTIVITY_DATA_7       na      na      na  ...      na      na      na      na   \n",
       "ACTIVITY_DATA_8       na      na      na  ...      na      na      na      na   \n",
       "ACTIVITY_DATA_9   134585  136359  138001  ...  132154  131397  137172  134869   \n",
       "ACTIVITY_DATA_10      na      na      na  ...      na      na      na      na   \n",
       "ACTIVITY_DATA_26      na      na      na  ...      na      na      na      na   \n",
       "ACTIVITY_DATA_27      na      na      na  ...      na      na      na      na   \n",
       "ACTIVITY_DATA_28      na      na      na  ...      na      na      na      na   \n",
       "ACTIVITY_DATA_29      na      na      na  ...      na      na      na      na   \n",
       "ACTIVITY_DATA_30      na      na      na  ...      na      na      na      na   \n",
       "ACTIVITY_ID        63331   52857   50846  ...    4691    3949    2995    2957   \n",
       "\n",
       "                      44      45      46      47       48      49  \n",
       "ACTIVITY_DATA_1     open    open    open    open     open    open  \n",
       "ACTIVITY_DATA_2       na      na   click   click    click      na  \n",
       "ACTIVITY_DATA_3       na      na      na      na  formsub      na  \n",
       "ACTIVITY_DATA_4       na      na      na      na       na      na  \n",
       "ACTIVITY_DATA_5       na      na      na      na       na      na  \n",
       "ACTIVITY_DATA_6       na      na      na      na       na      na  \n",
       "ACTIVITY_DATA_7       na      na      na      na       na      na  \n",
       "ACTIVITY_DATA_8       na      na      na      na       na      na  \n",
       "ACTIVITY_DATA_9   138177  136004  136106  135341   133189  138984  \n",
       "ACTIVITY_DATA_10      na      na      na      na       na      na  \n",
       "ACTIVITY_DATA_26      na      na      na      na       na      na  \n",
       "ACTIVITY_DATA_27      na      na      na      na       na      na  \n",
       "ACTIVITY_DATA_28      na      na      na      na       na      na  \n",
       "ACTIVITY_DATA_29      na      na      na      na       na      na  \n",
       "ACTIVITY_DATA_30      na      na      na      na       na      na  \n",
       "ACTIVITY_ID         2910    2857    2855    2779     2464    2212  \n",
       "\n",
       "[16 rows x 50 columns]"
      ]
     },
     "execution_count": 70,
     "metadata": {},
     "output_type": "execute_result"
    }
   ],
   "source": [
    "df_march.fillna('na').groupby(['ACTIVITY_DATA_1', 'ACTIVITY_DATA_2', 'ACTIVITY_DATA_3', 'ACTIVITY_DATA_4', 'ACTIVITY_DATA_5', 'ACTIVITY_DATA_6', 'ACTIVITY_DATA_7', 'ACTIVITY_DATA_8', 'ACTIVITY_DATA_9', 'ACTIVITY_DATA_10', 'ACTIVITY_DATA_26', 'ACTIVITY_DATA_27', 'ACTIVITY_DATA_28', 'ACTIVITY_DATA_29', 'ACTIVITY_DATA_30']).ACTIVITY_ID.count().sort_values(ascending=False).reset_index().head(50).T"
   ]
  },
  {
   "cell_type": "code",
   "execution_count": 71,
   "metadata": {},
   "outputs": [
    {
     "data": {
      "text/html": [
       "<div>\n",
       "<style scoped>\n",
       "    .dataframe tbody tr th:only-of-type {\n",
       "        vertical-align: middle;\n",
       "    }\n",
       "\n",
       "    .dataframe tbody tr th {\n",
       "        vertical-align: top;\n",
       "    }\n",
       "\n",
       "    .dataframe thead th {\n",
       "        text-align: right;\n",
       "    }\n",
       "</style>\n",
       "<table border=\"1\" class=\"dataframe\">\n",
       "  <thead>\n",
       "    <tr style=\"text-align: right;\">\n",
       "      <th></th>\n",
       "      <th>SUPPORTER_ID</th>\n",
       "      <th>COUNTRY</th>\n",
       "      <th>ACTIVITY_TYPE</th>\n",
       "      <th>ACTIVITY_DATETIME</th>\n",
       "      <th>ACTIVITY_ID</th>\n",
       "      <th>ACTIVITY_STATUS</th>\n",
       "      <th>ACTIVITY_DATA_1</th>\n",
       "      <th>ACTIVITY_DATA_2</th>\n",
       "      <th>ACTIVITY_DATA_3</th>\n",
       "      <th>ACTIVITY_DATA_4</th>\n",
       "      <th>...</th>\n",
       "      <th>ACTIVITY_DATA_6</th>\n",
       "      <th>ACTIVITY_DATA_7</th>\n",
       "      <th>ACTIVITY_DATA_8</th>\n",
       "      <th>ACTIVITY_DATA_9</th>\n",
       "      <th>ACTIVITY_DATA_10</th>\n",
       "      <th>ACTIVITY_DATA_26</th>\n",
       "      <th>ACTIVITY_DATA_27</th>\n",
       "      <th>ACTIVITY_DATA_28</th>\n",
       "      <th>ACTIVITY_DATA_29</th>\n",
       "      <th>ACTIVITY_DATA_30</th>\n",
       "    </tr>\n",
       "  </thead>\n",
       "  <tbody>\n",
       "    <tr>\n",
       "      <td>0</td>\n",
       "      <td>BDoflNnPHog=</td>\n",
       "      <td>CA</td>\n",
       "      <td>ETT</td>\n",
       "      <td>2017-03-07 09:36:52</td>\n",
       "      <td>63955</td>\n",
       "      <td>P</td>\n",
       "      <td>Warnel May</td>\n",
       "      <td>Escobar</td>\n",
       "      <td>NaN</td>\n",
       "      <td>NaN</td>\n",
       "      <td>...</td>\n",
       "      <td>NaN</td>\n",
       "      <td>NaN</td>\n",
       "      <td>NaN</td>\n",
       "      <td>NaN</td>\n",
       "      <td>NaN</td>\n",
       "      <td>NaN</td>\n",
       "      <td>NaN</td>\n",
       "      <td>NaN</td>\n",
       "      <td>NaN</td>\n",
       "      <td>NaN</td>\n",
       "    </tr>\n",
       "    <tr>\n",
       "      <td>1</td>\n",
       "      <td>kudFmD%2ByF7w=</td>\n",
       "      <td>CAN</td>\n",
       "      <td>ETT</td>\n",
       "      <td>2017-03-06 15:05:34</td>\n",
       "      <td>63955</td>\n",
       "      <td>P</td>\n",
       "      <td>Warnel May</td>\n",
       "      <td>Escobar</td>\n",
       "      <td>NaN</td>\n",
       "      <td>NaN</td>\n",
       "      <td>...</td>\n",
       "      <td>NaN</td>\n",
       "      <td>NaN</td>\n",
       "      <td>NaN</td>\n",
       "      <td>NaN</td>\n",
       "      <td>NaN</td>\n",
       "      <td>NaN</td>\n",
       "      <td>NaN</td>\n",
       "      <td>NaN</td>\n",
       "      <td>NaN</td>\n",
       "      <td>NaN</td>\n",
       "    </tr>\n",
       "    <tr>\n",
       "      <td>2</td>\n",
       "      <td>r58OmfDBRm8=</td>\n",
       "      <td>CA</td>\n",
       "      <td>PET</td>\n",
       "      <td>2017-03-02 22:46:26</td>\n",
       "      <td>37410</td>\n",
       "      <td>P</td>\n",
       "      <td>NaN</td>\n",
       "      <td>NaN</td>\n",
       "      <td>NaN</td>\n",
       "      <td>NaN</td>\n",
       "      <td>...</td>\n",
       "      <td>NaN</td>\n",
       "      <td>NaN</td>\n",
       "      <td>NaN</td>\n",
       "      <td>NaN</td>\n",
       "      <td>NaN</td>\n",
       "      <td>NaN</td>\n",
       "      <td>NaN</td>\n",
       "      <td>NaN</td>\n",
       "      <td>NaN</td>\n",
       "      <td>NaN</td>\n",
       "    </tr>\n",
       "    <tr>\n",
       "      <td>3</td>\n",
       "      <td>ALJUUgR5fOs=</td>\n",
       "      <td>CAN</td>\n",
       "      <td>ETT</td>\n",
       "      <td>2017-03-20 16:15:17</td>\n",
       "      <td>66158</td>\n",
       "      <td>P</td>\n",
       "      <td>Christy</td>\n",
       "      <td>Clark</td>\n",
       "      <td>NaN</td>\n",
       "      <td>NaN</td>\n",
       "      <td>...</td>\n",
       "      <td>NaN</td>\n",
       "      <td>NaN</td>\n",
       "      <td>NaN</td>\n",
       "      <td>NaN</td>\n",
       "      <td>NaN</td>\n",
       "      <td>NaN</td>\n",
       "      <td>NaN</td>\n",
       "      <td>NaN</td>\n",
       "      <td>NaN</td>\n",
       "      <td>NaN</td>\n",
       "    </tr>\n",
       "    <tr>\n",
       "      <td>4</td>\n",
       "      <td>nEgT0q6l4MY=</td>\n",
       "      <td>CAN</td>\n",
       "      <td>ETT</td>\n",
       "      <td>2017-03-06 19:15:09</td>\n",
       "      <td>63955</td>\n",
       "      <td>P</td>\n",
       "      <td>Warnel May</td>\n",
       "      <td>Escobar</td>\n",
       "      <td>NaN</td>\n",
       "      <td>NaN</td>\n",
       "      <td>...</td>\n",
       "      <td>NaN</td>\n",
       "      <td>NaN</td>\n",
       "      <td>NaN</td>\n",
       "      <td>NaN</td>\n",
       "      <td>NaN</td>\n",
       "      <td>NaN</td>\n",
       "      <td>NaN</td>\n",
       "      <td>NaN</td>\n",
       "      <td>NaN</td>\n",
       "      <td>NaN</td>\n",
       "    </tr>\n",
       "  </tbody>\n",
       "</table>\n",
       "<p>5 rows × 21 columns</p>\n",
       "</div>"
      ],
      "text/plain": [
       "     SUPPORTER_ID COUNTRY ACTIVITY_TYPE    ACTIVITY_DATETIME  ACTIVITY_ID  \\\n",
       "0    BDoflNnPHog=      CA           ETT  2017-03-07 09:36:52        63955   \n",
       "1  kudFmD%2ByF7w=     CAN           ETT  2017-03-06 15:05:34        63955   \n",
       "2    r58OmfDBRm8=      CA           PET  2017-03-02 22:46:26        37410   \n",
       "3    ALJUUgR5fOs=     CAN           ETT  2017-03-20 16:15:17        66158   \n",
       "4    nEgT0q6l4MY=     CAN           ETT  2017-03-06 19:15:09        63955   \n",
       "\n",
       "  ACTIVITY_STATUS ACTIVITY_DATA_1 ACTIVITY_DATA_2 ACTIVITY_DATA_3  \\\n",
       "0               P      Warnel May         Escobar             NaN   \n",
       "1               P      Warnel May         Escobar             NaN   \n",
       "2               P             NaN             NaN             NaN   \n",
       "3               P         Christy           Clark             NaN   \n",
       "4               P      Warnel May         Escobar             NaN   \n",
       "\n",
       "  ACTIVITY_DATA_4  ... ACTIVITY_DATA_6 ACTIVITY_DATA_7 ACTIVITY_DATA_8  \\\n",
       "0             NaN  ...             NaN             NaN             NaN   \n",
       "1             NaN  ...             NaN             NaN             NaN   \n",
       "2             NaN  ...             NaN             NaN             NaN   \n",
       "3             NaN  ...             NaN             NaN             NaN   \n",
       "4             NaN  ...             NaN             NaN             NaN   \n",
       "\n",
       "   ACTIVITY_DATA_9 ACTIVITY_DATA_10 ACTIVITY_DATA_26  ACTIVITY_DATA_27  \\\n",
       "0              NaN              NaN              NaN               NaN   \n",
       "1              NaN              NaN              NaN               NaN   \n",
       "2              NaN              NaN              NaN               NaN   \n",
       "3              NaN              NaN              NaN               NaN   \n",
       "4              NaN              NaN              NaN               NaN   \n",
       "\n",
       "   ACTIVITY_DATA_28  ACTIVITY_DATA_29  ACTIVITY_DATA_30  \n",
       "0               NaN               NaN               NaN  \n",
       "1               NaN               NaN               NaN  \n",
       "2               NaN               NaN               NaN  \n",
       "3               NaN               NaN               NaN  \n",
       "4               NaN               NaN               NaN  \n",
       "\n",
       "[5 rows x 21 columns]"
      ]
     },
     "execution_count": 71,
     "metadata": {},
     "output_type": "execute_result"
    }
   ],
   "source": [
    "df_march.head()"
   ]
  },
  {
   "cell_type": "markdown",
   "metadata": {},
   "source": [
    "#### Build a dataframe for just the action of 'formsub'"
   ]
  },
  {
   "cell_type": "code",
   "execution_count": 72,
   "metadata": {},
   "outputs": [],
   "source": [
    "# df_march_cut_o = df_march_cut.drop(df_march_cut[df_march_cut.ACTIVITY_DATA_1 == 'open'].index)\n",
    "df_march_cut_f = df_march_cut.drop(df_march_cut[df_march_cut.ACTIVITY_DATA_3 != 'formsub'].index)\n",
    "df_may_cut_f = df_may_cut.drop(df_may_cut[df_may_cut.ACTIVITY_DATA_3 != 'formsub'].index)\n",
    "df_april_cut_f = df_april_cut.drop(df_april_cut[df_april_cut.ACTIVITY_DATA_3 != 'formsub'].index)"
   ]
  },
  {
   "cell_type": "code",
   "execution_count": 73,
   "metadata": {},
   "outputs": [
    {
     "data": {
      "text/plain": [
       "(1435793, 22)"
      ]
     },
     "execution_count": 73,
     "metadata": {},
     "output_type": "execute_result"
    }
   ],
   "source": [
    "df_march_cut.shape"
   ]
  },
  {
   "cell_type": "code",
   "execution_count": 74,
   "metadata": {},
   "outputs": [
    {
     "data": {
      "text/plain": [
       "(95419, 22)"
      ]
     },
     "execution_count": 74,
     "metadata": {},
     "output_type": "execute_result"
    }
   ],
   "source": [
    "df_march_cut_f.shape"
   ]
  },
  {
   "cell_type": "markdown",
   "metadata": {},
   "source": [
    "95419 out of 1435793 had a formsub action in March (with sends data BID).  This is 6.6%."
   ]
  },
  {
   "cell_type": "code",
   "execution_count": 75,
   "metadata": {},
   "outputs": [
    {
     "data": {
      "text/html": [
       "<div>\n",
       "<style scoped>\n",
       "    .dataframe tbody tr th:only-of-type {\n",
       "        vertical-align: middle;\n",
       "    }\n",
       "\n",
       "    .dataframe tbody tr th {\n",
       "        vertical-align: top;\n",
       "    }\n",
       "\n",
       "    .dataframe thead th {\n",
       "        text-align: right;\n",
       "    }\n",
       "</style>\n",
       "<table border=\"1\" class=\"dataframe\">\n",
       "  <thead>\n",
       "    <tr style=\"text-align: right;\">\n",
       "      <th></th>\n",
       "      <th>SUPPORTER_ID</th>\n",
       "      <th>COUNTRY</th>\n",
       "      <th>ACTIVITY_TYPE</th>\n",
       "      <th>ACTIVITY_DATETIME</th>\n",
       "      <th>ACTIVITY_ID</th>\n",
       "      <th>ACTIVITY_STATUS</th>\n",
       "      <th>ACTIVITY_DATA_1</th>\n",
       "      <th>ACTIVITY_DATA_2</th>\n",
       "      <th>ACTIVITY_DATA_3</th>\n",
       "      <th>ACTIVITY_DATA_4</th>\n",
       "      <th>...</th>\n",
       "      <th>ACTIVITY_DATA_7</th>\n",
       "      <th>ACTIVITY_DATA_8</th>\n",
       "      <th>ACTIVITY_DATA_9</th>\n",
       "      <th>ACTIVITY_DATA_10</th>\n",
       "      <th>ACTIVITY_DATA_26</th>\n",
       "      <th>ACTIVITY_DATA_27</th>\n",
       "      <th>ACTIVITY_DATA_28</th>\n",
       "      <th>ACTIVITY_DATA_29</th>\n",
       "      <th>ACTIVITY_DATA_30</th>\n",
       "      <th>day</th>\n",
       "    </tr>\n",
       "  </thead>\n",
       "  <tbody>\n",
       "    <tr>\n",
       "      <td>315531</td>\n",
       "      <td>BDoflNnPHog=</td>\n",
       "      <td>CA</td>\n",
       "      <td>EBC</td>\n",
       "      <td>2017-03-07 09:37:06</td>\n",
       "      <td>154395</td>\n",
       "      <td>R</td>\n",
       "      <td>open</td>\n",
       "      <td>click</td>\n",
       "      <td>formsub</td>\n",
       "      <td>NaN</td>\n",
       "      <td>...</td>\n",
       "      <td>NaN</td>\n",
       "      <td>NaN</td>\n",
       "      <td>131397</td>\n",
       "      <td>NaN</td>\n",
       "      <td>NaN</td>\n",
       "      <td>NaN</td>\n",
       "      <td>NaN</td>\n",
       "      <td>NaN</td>\n",
       "      <td>NaN</td>\n",
       "      <td>7</td>\n",
       "    </tr>\n",
       "    <tr>\n",
       "      <td>315541</td>\n",
       "      <td>kudFmD%2ByF7w=</td>\n",
       "      <td>CAN</td>\n",
       "      <td>EBC</td>\n",
       "      <td>2017-03-06 15:07:12</td>\n",
       "      <td>154395</td>\n",
       "      <td>R</td>\n",
       "      <td>open</td>\n",
       "      <td>click</td>\n",
       "      <td>formsub</td>\n",
       "      <td>NaN</td>\n",
       "      <td>...</td>\n",
       "      <td>NaN</td>\n",
       "      <td>NaN</td>\n",
       "      <td>131397</td>\n",
       "      <td>NaN</td>\n",
       "      <td>NaN</td>\n",
       "      <td>NaN</td>\n",
       "      <td>NaN</td>\n",
       "      <td>NaN</td>\n",
       "      <td>NaN</td>\n",
       "      <td>6</td>\n",
       "    </tr>\n",
       "    <tr>\n",
       "      <td>315556</td>\n",
       "      <td>ALJUUgR5fOs=</td>\n",
       "      <td>CAN</td>\n",
       "      <td>EBC</td>\n",
       "      <td>2017-03-20 10:07:03</td>\n",
       "      <td>159229</td>\n",
       "      <td>R</td>\n",
       "      <td>open</td>\n",
       "      <td>click</td>\n",
       "      <td>formsub</td>\n",
       "      <td>NaN</td>\n",
       "      <td>...</td>\n",
       "      <td>NaN</td>\n",
       "      <td>NaN</td>\n",
       "      <td>136256</td>\n",
       "      <td>NaN</td>\n",
       "      <td>NaN</td>\n",
       "      <td>NaN</td>\n",
       "      <td>NaN</td>\n",
       "      <td>NaN</td>\n",
       "      <td>NaN</td>\n",
       "      <td>20</td>\n",
       "    </tr>\n",
       "    <tr>\n",
       "      <td>315561</td>\n",
       "      <td>nEgT0q6l4MY=</td>\n",
       "      <td>CAN</td>\n",
       "      <td>EBC</td>\n",
       "      <td>2017-03-06 16:28:24</td>\n",
       "      <td>154395</td>\n",
       "      <td>R</td>\n",
       "      <td>open</td>\n",
       "      <td>click</td>\n",
       "      <td>formsub</td>\n",
       "      <td>NaN</td>\n",
       "      <td>...</td>\n",
       "      <td>NaN</td>\n",
       "      <td>NaN</td>\n",
       "      <td>131397</td>\n",
       "      <td>NaN</td>\n",
       "      <td>NaN</td>\n",
       "      <td>NaN</td>\n",
       "      <td>NaN</td>\n",
       "      <td>NaN</td>\n",
       "      <td>NaN</td>\n",
       "      <td>6</td>\n",
       "    </tr>\n",
       "    <tr>\n",
       "      <td>315566</td>\n",
       "      <td>nEgT0q6l4MY=</td>\n",
       "      <td>CAN</td>\n",
       "      <td>EBC</td>\n",
       "      <td>2017-03-20 12:40:05</td>\n",
       "      <td>159229</td>\n",
       "      <td>R</td>\n",
       "      <td>open</td>\n",
       "      <td>click</td>\n",
       "      <td>formsub</td>\n",
       "      <td>NaN</td>\n",
       "      <td>...</td>\n",
       "      <td>NaN</td>\n",
       "      <td>NaN</td>\n",
       "      <td>136256</td>\n",
       "      <td>NaN</td>\n",
       "      <td>NaN</td>\n",
       "      <td>NaN</td>\n",
       "      <td>NaN</td>\n",
       "      <td>NaN</td>\n",
       "      <td>NaN</td>\n",
       "      <td>20</td>\n",
       "    </tr>\n",
       "  </tbody>\n",
       "</table>\n",
       "<p>5 rows × 22 columns</p>\n",
       "</div>"
      ],
      "text/plain": [
       "          SUPPORTER_ID COUNTRY ACTIVITY_TYPE    ACTIVITY_DATETIME  \\\n",
       "315531    BDoflNnPHog=      CA           EBC  2017-03-07 09:37:06   \n",
       "315541  kudFmD%2ByF7w=     CAN           EBC  2017-03-06 15:07:12   \n",
       "315556    ALJUUgR5fOs=     CAN           EBC  2017-03-20 10:07:03   \n",
       "315561    nEgT0q6l4MY=     CAN           EBC  2017-03-06 16:28:24   \n",
       "315566    nEgT0q6l4MY=     CAN           EBC  2017-03-20 12:40:05   \n",
       "\n",
       "        ACTIVITY_ID ACTIVITY_STATUS ACTIVITY_DATA_1 ACTIVITY_DATA_2  \\\n",
       "315531       154395               R            open           click   \n",
       "315541       154395               R            open           click   \n",
       "315556       159229               R            open           click   \n",
       "315561       154395               R            open           click   \n",
       "315566       159229               R            open           click   \n",
       "\n",
       "       ACTIVITY_DATA_3 ACTIVITY_DATA_4  ... ACTIVITY_DATA_7 ACTIVITY_DATA_8  \\\n",
       "315531         formsub             NaN  ...             NaN             NaN   \n",
       "315541         formsub             NaN  ...             NaN             NaN   \n",
       "315556         formsub             NaN  ...             NaN             NaN   \n",
       "315561         formsub             NaN  ...             NaN             NaN   \n",
       "315566         formsub             NaN  ...             NaN             NaN   \n",
       "\n",
       "       ACTIVITY_DATA_9  ACTIVITY_DATA_10 ACTIVITY_DATA_26 ACTIVITY_DATA_27  \\\n",
       "315531          131397               NaN              NaN              NaN   \n",
       "315541          131397               NaN              NaN              NaN   \n",
       "315556          136256               NaN              NaN              NaN   \n",
       "315561          131397               NaN              NaN              NaN   \n",
       "315566          136256               NaN              NaN              NaN   \n",
       "\n",
       "        ACTIVITY_DATA_28  ACTIVITY_DATA_29  ACTIVITY_DATA_30  day  \n",
       "315531               NaN               NaN               NaN    7  \n",
       "315541               NaN               NaN               NaN    6  \n",
       "315556               NaN               NaN               NaN   20  \n",
       "315561               NaN               NaN               NaN    6  \n",
       "315566               NaN               NaN               NaN   20  \n",
       "\n",
       "[5 rows x 22 columns]"
      ]
     },
     "execution_count": 75,
     "metadata": {},
     "output_type": "execute_result"
    }
   ],
   "source": [
    "df_march_cut_f.head()"
   ]
  },
  {
   "cell_type": "code",
   "execution_count": 76,
   "metadata": {},
   "outputs": [],
   "source": [
    "df2_f = df_march_cut_f.ACTIVITY_ID.value_counts().to_frame('countf_march')\n",
    "df3_f = df_april_cut_f.ACTIVITY_ID.value_counts().to_frame('countf_april')\n",
    "df4_f = df_may_cut_f.ACTIVITY_ID.value_counts().to_frame('countf_may')\n",
    "df5_f = df2_f.join(df3_f)\n",
    "df_temp_f = pd.concat([df2_f, df3_f], axis=1)\n",
    "df_all_f = pd.concat([df_temp_f, df4_f], axis=1)"
   ]
  },
  {
   "cell_type": "code",
   "execution_count": 77,
   "metadata": {},
   "outputs": [],
   "source": [
    "# one more concatenation\n",
    "df_start_f = df.bid.value_counts().to_frame('countf_start')\n",
    "df_final_f = pd.concat([df_all_f, df_start_f], axis=1)\n",
    "\n",
    "# re-arrange columns\n",
    "df_final_f = df_final_f[['countf_start', 'countf_march', 'countf_april', 'countf_may']]"
   ]
  },
  {
   "cell_type": "code",
   "execution_count": 78,
   "metadata": {},
   "outputs": [
    {
     "data": {
      "text/html": [
       "<div>\n",
       "<style scoped>\n",
       "    .dataframe tbody tr th:only-of-type {\n",
       "        vertical-align: middle;\n",
       "    }\n",
       "\n",
       "    .dataframe tbody tr th {\n",
       "        vertical-align: top;\n",
       "    }\n",
       "\n",
       "    .dataframe thead th {\n",
       "        text-align: right;\n",
       "    }\n",
       "</style>\n",
       "<table border=\"1\" class=\"dataframe\">\n",
       "  <thead>\n",
       "    <tr style=\"text-align: right;\">\n",
       "      <th></th>\n",
       "      <th>countf_start</th>\n",
       "      <th>countf_march</th>\n",
       "      <th>countf_april</th>\n",
       "      <th>countf_may</th>\n",
       "    </tr>\n",
       "  </thead>\n",
       "  <tbody>\n",
       "    <tr>\n",
       "      <td>154395</td>\n",
       "      <td>1467098</td>\n",
       "      <td>71860.0</td>\n",
       "      <td>511.0</td>\n",
       "      <td>8.0</td>\n",
       "    </tr>\n",
       "    <tr>\n",
       "      <td>157243</td>\n",
       "      <td>2357</td>\n",
       "      <td>NaN</td>\n",
       "      <td>NaN</td>\n",
       "      <td>NaN</td>\n",
       "    </tr>\n",
       "    <tr>\n",
       "      <td>157563</td>\n",
       "      <td>137802</td>\n",
       "      <td>472.0</td>\n",
       "      <td>3.0</td>\n",
       "      <td>4.0</td>\n",
       "    </tr>\n",
       "    <tr>\n",
       "      <td>157751</td>\n",
       "      <td>1438285</td>\n",
       "      <td>NaN</td>\n",
       "      <td>NaN</td>\n",
       "      <td>NaN</td>\n",
       "    </tr>\n",
       "    <tr>\n",
       "      <td>157848</td>\n",
       "      <td>9297</td>\n",
       "      <td>3.0</td>\n",
       "      <td>NaN</td>\n",
       "      <td>NaN</td>\n",
       "    </tr>\n",
       "  </tbody>\n",
       "</table>\n",
       "</div>"
      ],
      "text/plain": [
       "        countf_start  countf_march  countf_april  countf_may\n",
       "154395       1467098       71860.0         511.0         8.0\n",
       "157243          2357           NaN           NaN         NaN\n",
       "157563        137802         472.0           3.0         4.0\n",
       "157751       1438285           NaN           NaN         NaN\n",
       "157848          9297           3.0           NaN         NaN"
      ]
     },
     "execution_count": 78,
     "metadata": {},
     "output_type": "execute_result"
    }
   ],
   "source": [
    "df_final_f.head()"
   ]
  },
  {
   "cell_type": "markdown",
   "metadata": {},
   "source": [
    "The above dataframe counts all of the 'formsub' actions in March, April and May.  It also contains the original number of broadcasts sent in March by Activity_ID."
   ]
  },
  {
   "cell_type": "code",
   "execution_count": 79,
   "metadata": {},
   "outputs": [],
   "source": [
    "# fill nans with\n",
    "df_final_f = df_final_f.fillna(0)\n",
    "\n",
    "# calculate 'best_return' by adding all transactions in March, April, May and dividing by total sends\n",
    "df_final_f['best_return_f'] = (df_final_f.countf_march + df_final_f.countf_april + df_final_f.countf_may) / df_final_f.countf_start*100\n",
    "\n",
    "# sprt final dataframe\n",
    "df_final_f = df_final_f.sort_values('best_return_f', ascending=False)"
   ]
  },
  {
   "cell_type": "code",
   "execution_count": 80,
   "metadata": {},
   "outputs": [
    {
     "data": {
      "text/html": [
       "<div>\n",
       "<style scoped>\n",
       "    .dataframe tbody tr th:only-of-type {\n",
       "        vertical-align: middle;\n",
       "    }\n",
       "\n",
       "    .dataframe tbody tr th {\n",
       "        vertical-align: top;\n",
       "    }\n",
       "\n",
       "    .dataframe thead th {\n",
       "        text-align: right;\n",
       "    }\n",
       "</style>\n",
       "<table border=\"1\" class=\"dataframe\">\n",
       "  <thead>\n",
       "    <tr style=\"text-align: right;\">\n",
       "      <th></th>\n",
       "      <th>countf_start</th>\n",
       "      <th>countf_march</th>\n",
       "      <th>countf_april</th>\n",
       "      <th>countf_may</th>\n",
       "      <th>best_return_f</th>\n",
       "    </tr>\n",
       "  </thead>\n",
       "  <tbody>\n",
       "    <tr>\n",
       "      <td>159229</td>\n",
       "      <td>156475</td>\n",
       "      <td>10025.0</td>\n",
       "      <td>200.0</td>\n",
       "      <td>33.0</td>\n",
       "      <td>6.555680</td>\n",
       "    </tr>\n",
       "    <tr>\n",
       "      <td>159888</td>\n",
       "      <td>137357</td>\n",
       "      <td>7224.0</td>\n",
       "      <td>100.0</td>\n",
       "      <td>17.0</td>\n",
       "      <td>5.344467</td>\n",
       "    </tr>\n",
       "    <tr>\n",
       "      <td>154395</td>\n",
       "      <td>1467098</td>\n",
       "      <td>71860.0</td>\n",
       "      <td>511.0</td>\n",
       "      <td>8.0</td>\n",
       "      <td>4.933481</td>\n",
       "    </tr>\n",
       "    <tr>\n",
       "      <td>158313</td>\n",
       "      <td>2502</td>\n",
       "      <td>95.0</td>\n",
       "      <td>0.0</td>\n",
       "      <td>0.0</td>\n",
       "      <td>3.796962</td>\n",
       "    </tr>\n",
       "    <tr>\n",
       "      <td>158477</td>\n",
       "      <td>10466</td>\n",
       "      <td>376.0</td>\n",
       "      <td>11.0</td>\n",
       "      <td>0.0</td>\n",
       "      <td>3.697688</td>\n",
       "    </tr>\n",
       "    <tr>\n",
       "      <td>161655</td>\n",
       "      <td>1836</td>\n",
       "      <td>18.0</td>\n",
       "      <td>1.0</td>\n",
       "      <td>0.0</td>\n",
       "      <td>1.034858</td>\n",
       "    </tr>\n",
       "    <tr>\n",
       "      <td>159328</td>\n",
       "      <td>127903</td>\n",
       "      <td>515.0</td>\n",
       "      <td>6.0</td>\n",
       "      <td>0.0</td>\n",
       "      <td>0.407340</td>\n",
       "    </tr>\n",
       "    <tr>\n",
       "      <td>157563</td>\n",
       "      <td>137802</td>\n",
       "      <td>472.0</td>\n",
       "      <td>3.0</td>\n",
       "      <td>4.0</td>\n",
       "      <td>0.347600</td>\n",
       "    </tr>\n",
       "    <tr>\n",
       "      <td>159331</td>\n",
       "      <td>335805</td>\n",
       "      <td>907.0</td>\n",
       "      <td>13.0</td>\n",
       "      <td>5.0</td>\n",
       "      <td>0.275457</td>\n",
       "    </tr>\n",
       "    <tr>\n",
       "      <td>161768</td>\n",
       "      <td>140005</td>\n",
       "      <td>329.0</td>\n",
       "      <td>29.0</td>\n",
       "      <td>1.0</td>\n",
       "      <td>0.256419</td>\n",
       "    </tr>\n",
       "  </tbody>\n",
       "</table>\n",
       "</div>"
      ],
      "text/plain": [
       "        countf_start  countf_march  countf_april  countf_may  best_return_f\n",
       "159229        156475       10025.0         200.0        33.0       6.555680\n",
       "159888        137357        7224.0         100.0        17.0       5.344467\n",
       "154395       1467098       71860.0         511.0         8.0       4.933481\n",
       "158313          2502          95.0           0.0         0.0       3.796962\n",
       "158477         10466         376.0          11.0         0.0       3.697688\n",
       "161655          1836          18.0           1.0         0.0       1.034858\n",
       "159328        127903         515.0           6.0         0.0       0.407340\n",
       "157563        137802         472.0           3.0         4.0       0.347600\n",
       "159331        335805         907.0          13.0         5.0       0.275457\n",
       "161768        140005         329.0          29.0         1.0       0.256419"
      ]
     },
     "execution_count": 80,
     "metadata": {},
     "output_type": "execute_result"
    }
   ],
   "source": [
    "df_final_f.head(10)"
   ]
  },
  {
   "cell_type": "markdown",
   "metadata": {},
   "source": [
    "This is probably starting to get more useful.  So, BID 159229 has had a **6.6%** rate of 'formsub' - which is assumed to meen submitting a form which is probably a good thing for the compaign / broadcast.  \n",
    "\n",
    "The above dataframe only includes BIDs from the original sends data."
   ]
  },
  {
   "cell_type": "code",
   "execution_count": 81,
   "metadata": {},
   "outputs": [
    {
     "data": {
      "text/html": [
       "<div>\n",
       "<style scoped>\n",
       "    .dataframe tbody tr th:only-of-type {\n",
       "        vertical-align: middle;\n",
       "    }\n",
       "\n",
       "    .dataframe tbody tr th {\n",
       "        vertical-align: top;\n",
       "    }\n",
       "\n",
       "    .dataframe thead th {\n",
       "        text-align: right;\n",
       "    }\n",
       "</style>\n",
       "<table border=\"1\" class=\"dataframe\">\n",
       "  <thead>\n",
       "    <tr style=\"text-align: right;\">\n",
       "      <th></th>\n",
       "      <th>countf_start</th>\n",
       "      <th>countf_march</th>\n",
       "      <th>countf_april</th>\n",
       "      <th>countf_may</th>\n",
       "      <th>best_return_f</th>\n",
       "    </tr>\n",
       "  </thead>\n",
       "  <tbody>\n",
       "    <tr>\n",
       "      <td>160975</td>\n",
       "      <td>366445</td>\n",
       "      <td>0.0</td>\n",
       "      <td>0.0</td>\n",
       "      <td>0.0</td>\n",
       "      <td>0.0</td>\n",
       "    </tr>\n",
       "    <tr>\n",
       "      <td>161032</td>\n",
       "      <td>2327</td>\n",
       "      <td>0.0</td>\n",
       "      <td>0.0</td>\n",
       "      <td>0.0</td>\n",
       "      <td>0.0</td>\n",
       "    </tr>\n",
       "    <tr>\n",
       "      <td>161151</td>\n",
       "      <td>9259</td>\n",
       "      <td>0.0</td>\n",
       "      <td>0.0</td>\n",
       "      <td>0.0</td>\n",
       "      <td>0.0</td>\n",
       "    </tr>\n",
       "    <tr>\n",
       "      <td>160147</td>\n",
       "      <td>9269</td>\n",
       "      <td>0.0</td>\n",
       "      <td>0.0</td>\n",
       "      <td>0.0</td>\n",
       "      <td>0.0</td>\n",
       "    </tr>\n",
       "    <tr>\n",
       "      <td>157243</td>\n",
       "      <td>2357</td>\n",
       "      <td>0.0</td>\n",
       "      <td>0.0</td>\n",
       "      <td>0.0</td>\n",
       "      <td>0.0</td>\n",
       "    </tr>\n",
       "    <tr>\n",
       "      <td>159222</td>\n",
       "      <td>223</td>\n",
       "      <td>0.0</td>\n",
       "      <td>0.0</td>\n",
       "      <td>0.0</td>\n",
       "      <td>0.0</td>\n",
       "    </tr>\n",
       "    <tr>\n",
       "      <td>159219</td>\n",
       "      <td>73</td>\n",
       "      <td>0.0</td>\n",
       "      <td>0.0</td>\n",
       "      <td>0.0</td>\n",
       "      <td>0.0</td>\n",
       "    </tr>\n",
       "    <tr>\n",
       "      <td>157751</td>\n",
       "      <td>1438285</td>\n",
       "      <td>0.0</td>\n",
       "      <td>0.0</td>\n",
       "      <td>0.0</td>\n",
       "      <td>0.0</td>\n",
       "    </tr>\n",
       "    <tr>\n",
       "      <td>161951</td>\n",
       "      <td>9252</td>\n",
       "      <td>0.0</td>\n",
       "      <td>0.0</td>\n",
       "      <td>0.0</td>\n",
       "      <td>0.0</td>\n",
       "    </tr>\n",
       "    <tr>\n",
       "      <td>158822</td>\n",
       "      <td>9351</td>\n",
       "      <td>0.0</td>\n",
       "      <td>0.0</td>\n",
       "      <td>0.0</td>\n",
       "      <td>0.0</td>\n",
       "    </tr>\n",
       "  </tbody>\n",
       "</table>\n",
       "</div>"
      ],
      "text/plain": [
       "        countf_start  countf_march  countf_april  countf_may  best_return_f\n",
       "160975        366445           0.0           0.0         0.0            0.0\n",
       "161032          2327           0.0           0.0         0.0            0.0\n",
       "161151          9259           0.0           0.0         0.0            0.0\n",
       "160147          9269           0.0           0.0         0.0            0.0\n",
       "157243          2357           0.0           0.0         0.0            0.0\n",
       "159222           223           0.0           0.0         0.0            0.0\n",
       "159219            73           0.0           0.0         0.0            0.0\n",
       "157751       1438285           0.0           0.0         0.0            0.0\n",
       "161951          9252           0.0           0.0         0.0            0.0\n",
       "158822          9351           0.0           0.0         0.0            0.0"
      ]
     },
     "execution_count": 81,
     "metadata": {},
     "output_type": "execute_result"
    }
   ],
   "source": [
    "df_final_f.tail(10)"
   ]
  },
  {
   "cell_type": "markdown",
   "metadata": {},
   "source": [
    "The above campaigns appear to be the weakest as they have the lowest percentage of 'formsubs' throughout the 3 month period."
   ]
  },
  {
   "cell_type": "markdown",
   "metadata": {},
   "source": [
    "#### Histogram of 'formsub' actions as a percentage of original Broadcast"
   ]
  },
  {
   "cell_type": "code",
   "execution_count": 82,
   "metadata": {},
   "outputs": [
    {
     "data": {
      "text/plain": [
       "Text(0.5, 1.0, 'Formsub supporter actions')"
      ]
     },
     "execution_count": 82,
     "metadata": {},
     "output_type": "execute_result"
    },
    {
     "data": {
      "image/png": "[encoded data removed]",
      "text/plain": [
       "<Figure size 864x432 with 1 Axes>"
      ]
     },
     "metadata": {
      "needs_background": "light"
     },
     "output_type": "display_data"
    }
   ],
   "source": [
    "df_final_f.best_return_f.hist(figsize = (12, 6), bins = 40)\n",
    "plt.xlabel(\"Percentage of formsub actions\")\n",
    "plt.ylabel('Frequency')\n",
    "plt.title('Formsub supporter actions')"
   ]
  },
  {
   "cell_type": "markdown",
   "metadata": {},
   "source": [
    "Most broadcasts are getting a 'formsub' in the 0 to .5 percent range.  However, there are some broadcasts that are getting as high as over 6%.  \n",
    "\n",
    "Does a formsub meen that a contribution has been made or will be made in the future ?  (Question for Gordon)"
   ]
  },
  {
   "cell_type": "code",
   "execution_count": 83,
   "metadata": {},
   "outputs": [
    {
     "data": {
      "text/plain": [
       "count    43.000000\n",
       "mean      0.659160\n",
       "std       1.596185\n",
       "min       0.000000\n",
       "25%       0.005382\n",
       "50%       0.045417\n",
       "75%       0.211881\n",
       "max       6.555680\n",
       "Name: best_return_f, dtype: float64"
      ]
     },
     "execution_count": 83,
     "metadata": {},
     "output_type": "execute_result"
    }
   ],
   "source": [
    "# formsub statistics\n",
    "df_final_f.best_return_f.describe()"
   ]
  },
  {
   "cell_type": "markdown",
   "metadata": {},
   "source": [
    "So, the average rate of a 'formsub' action by a supporter across all months is about 0.66% for the BIDs in the sends data."
   ]
  },
  {
   "cell_type": "markdown",
   "metadata": {},
   "source": [
    "There are no 'FCS' or 'FUR' activity types in the transactions data for the Broadcasts in the sends data, so these types will have to be analyzed using other Broadcasts that presumably happened before March."
   ]
  },
  {
   "cell_type": "markdown",
   "metadata": {},
   "source": [
    "#### Histogram of 'formsub' by day of month"
   ]
  },
  {
   "cell_type": "code",
   "execution_count": 84,
   "metadata": {},
   "outputs": [],
   "source": [
    "# create day column for plotting\n",
    "df_march_cut_f['day'] = df_march_cut_f['ACTIVITY_DATETIME'].str.slice(8, 10)"
   ]
  },
  {
   "cell_type": "code",
   "execution_count": 85,
   "metadata": {},
   "outputs": [],
   "source": [
    "# convert day to numberic\n",
    "df_march_cut_f.day = pd.to_numeric(df_march_cut_f.day)"
   ]
  },
  {
   "cell_type": "code",
   "execution_count": 86,
   "metadata": {},
   "outputs": [
    {
     "data": {
      "text/plain": [
       "Text(0.5, 1.0, 'March supporter formsub actions')"
      ]
     },
     "execution_count": 86,
     "metadata": {},
     "output_type": "execute_result"
    },
    {
     "data": {
      "image/png": "[encoded data removed]",
      "text/plain": [
       "<Figure size 864x432 with 1 Axes>"
      ]
     },
     "metadata": {
      "needs_background": "light"
     },
     "output_type": "display_data"
    }
   ],
   "source": [
    "df_march_cut_f.day.hist(figsize = (12, 6), bins = 31)\n",
    "plt.xlabel(\"Day of month\")\n",
    "plt.ylabel('Occurrences')\n",
    "plt.title('March supporter formsub actions')"
   ]
  },
  {
   "cell_type": "markdown",
   "metadata": {},
   "source": [
    "This is interesting because there are jumps in the histogram.  A smoother curve is expected...  unless the sends data in March were not all sent at the beginning of March (which they weren't).  In order to get a smoother curve, the sent date needs to be subtracted from the 'formsub' action date.  This is performed below.  Also all of the months are combined to look at 'formsub' occurrences from the beginning of March to the end of May."
   ]
  },
  {
   "cell_type": "code",
   "execution_count": 87,
   "metadata": {},
   "outputs": [],
   "source": [
    "# create day column for plotting\n",
    "df_april_cut_f['day'] = df_april_cut_f['ACTIVITY_DATETIME'].str.slice(8, 10)\n",
    "\n",
    "# convert day to numberic\n",
    "df_april_cut_f.day = pd.to_numeric(df_april_cut_f.day)"
   ]
  },
  {
   "cell_type": "code",
   "execution_count": 88,
   "metadata": {},
   "outputs": [
    {
     "data": {
      "text/plain": [
       "Text(0.5, 1.0, 'April supporter formsub actions')"
      ]
     },
     "execution_count": 88,
     "metadata": {},
     "output_type": "execute_result"
    },
    {
     "data": {
      "image/png": "[encoded data removed]",
      "text/plain": [
       "<Figure size 864x432 with 1 Axes>"
      ]
     },
     "metadata": {
      "needs_background": "light"
     },
     "output_type": "display_data"
    }
   ],
   "source": [
    "df_april_cut_f.day.hist(figsize = (12, 6), bins = 30)\n",
    "plt.xlabel(\"Day of month\")\n",
    "plt.ylabel('Occurrences')\n",
    "plt.title('April supporter formsub actions')"
   ]
  },
  {
   "cell_type": "code",
   "execution_count": 89,
   "metadata": {},
   "outputs": [],
   "source": [
    "# create day column for plotting\n",
    "df_may_cut_f['day'] = df_may_cut_f['ACTIVITY_DATETIME'].str.slice(8, 10)\n",
    "\n",
    "# convert day to numberic\n",
    "df_may_cut_f.day = pd.to_numeric(df_may_cut_f.day)"
   ]
  },
  {
   "cell_type": "code",
   "execution_count": 90,
   "metadata": {},
   "outputs": [
    {
     "data": {
      "text/plain": [
       "Text(0.5, 1.0, 'May supporter formsub actions')"
      ]
     },
     "execution_count": 90,
     "metadata": {},
     "output_type": "execute_result"
    },
    {
     "data": {
      "image/png": "[encoded data removed]",
      "text/plain": [
       "<Figure size 864x432 with 1 Axes>"
      ]
     },
     "metadata": {
      "needs_background": "light"
     },
     "output_type": "display_data"
    }
   ],
   "source": [
    "df_may_cut_f.day.hist(figsize = (12, 6), bins = 31)\n",
    "plt.xlabel(\"Day of month\")\n",
    "plt.ylabel('Occurrences')\n",
    "plt.title('May supporter formsub actions')"
   ]
  },
  {
   "cell_type": "code",
   "execution_count": 91,
   "metadata": {},
   "outputs": [
    {
     "data": {
      "text/html": [
       "<div>\n",
       "<style scoped>\n",
       "    .dataframe tbody tr th:only-of-type {\n",
       "        vertical-align: middle;\n",
       "    }\n",
       "\n",
       "    .dataframe tbody tr th {\n",
       "        vertical-align: top;\n",
       "    }\n",
       "\n",
       "    .dataframe thead th {\n",
       "        text-align: right;\n",
       "    }\n",
       "</style>\n",
       "<table border=\"1\" class=\"dataframe\">\n",
       "  <thead>\n",
       "    <tr style=\"text-align: right;\">\n",
       "      <th></th>\n",
       "      <th>ACTIVITY_ID</th>\n",
       "      <th>t_zero</th>\n",
       "      <th>n_actions</th>\n",
       "    </tr>\n",
       "  </thead>\n",
       "  <tbody>\n",
       "    <tr>\n",
       "      <td>947</td>\n",
       "      <td>154395</td>\n",
       "      <td>2017-03-06 15:04:00</td>\n",
       "      <td>261808</td>\n",
       "    </tr>\n",
       "    <tr>\n",
       "      <td>965</td>\n",
       "      <td>157243</td>\n",
       "      <td>2017-03-03 06:04:11</td>\n",
       "      <td>256</td>\n",
       "    </tr>\n",
       "    <tr>\n",
       "      <td>966</td>\n",
       "      <td>157563</td>\n",
       "      <td>2017-03-03 06:04:00</td>\n",
       "      <td>74411</td>\n",
       "    </tr>\n",
       "    <tr>\n",
       "      <td>967</td>\n",
       "      <td>157751</td>\n",
       "      <td>2017-03-01 16:04:00</td>\n",
       "      <td>246378</td>\n",
       "    </tr>\n",
       "    <tr>\n",
       "      <td>968</td>\n",
       "      <td>157848</td>\n",
       "      <td>2017-03-03 07:04:00</td>\n",
       "      <td>2982</td>\n",
       "    </tr>\n",
       "    <tr>\n",
       "      <td>969</td>\n",
       "      <td>158308</td>\n",
       "      <td>2017-03-09 14:37:00</td>\n",
       "      <td>39420</td>\n",
       "    </tr>\n",
       "    <tr>\n",
       "      <td>970</td>\n",
       "      <td>158309</td>\n",
       "      <td>2017-03-09 13:10:00</td>\n",
       "      <td>49714</td>\n",
       "    </tr>\n",
       "    <tr>\n",
       "      <td>971</td>\n",
       "      <td>158310</td>\n",
       "      <td>2017-03-09 14:52:00</td>\n",
       "      <td>21394</td>\n",
       "    </tr>\n",
       "    <tr>\n",
       "      <td>972</td>\n",
       "      <td>158311</td>\n",
       "      <td>2017-03-09 15:01:00</td>\n",
       "      <td>84166</td>\n",
       "    </tr>\n",
       "    <tr>\n",
       "      <td>973</td>\n",
       "      <td>158313</td>\n",
       "      <td>2017-03-09 12:55:00</td>\n",
       "      <td>756</td>\n",
       "    </tr>\n",
       "  </tbody>\n",
       "</table>\n",
       "</div>"
      ],
      "text/plain": [
       "     ACTIVITY_ID               t_zero  n_actions\n",
       "947       154395  2017-03-06 15:04:00     261808\n",
       "965       157243  2017-03-03 06:04:11        256\n",
       "966       157563  2017-03-03 06:04:00      74411\n",
       "967       157751  2017-03-01 16:04:00     246378\n",
       "968       157848  2017-03-03 07:04:00       2982\n",
       "969       158308  2017-03-09 14:37:00      39420\n",
       "970       158309  2017-03-09 13:10:00      49714\n",
       "971       158310  2017-03-09 14:52:00      21394\n",
       "972       158311  2017-03-09 15:01:00      84166\n",
       "973       158313  2017-03-09 12:55:00        756"
      ]
     },
     "execution_count": 91,
     "metadata": {},
     "output_type": "execute_result"
    }
   ],
   "source": [
    "# This series of actions creates a dataframe that lists the beginning time (t_zero) for each Broadcast along with the \n",
    "# total number of actions for each March Broadcast.\n",
    "\n",
    "df_march_first = (\n",
    "    df_march\n",
    "    .sort_values('ACTIVITY_DATETIME')\n",
    "    .groupby('ACTIVITY_ID')\n",
    "    .first()\n",
    "    .reset_index()[['ACTIVITY_ID', 'ACTIVITY_DATETIME']]\n",
    ")\n",
    "\n",
    "df_march_first.columns = ['ACTIVITY_ID', 't_zero']\n",
    "\n",
    "df_march_count = (\n",
    "    df_march\n",
    "    .ACTIVITY_ID\n",
    "    .value_counts()\n",
    "    .reset_index()\n",
    ")\n",
    "\n",
    "df_march_count.columns = ['ACTIVITY_ID', 'n_actions']\n",
    "df_march_summ = df_march_first.merge(df_march_count, how='outer', on='ACTIVITY_ID')\n",
    "df_march_summ = df_march_summ[df_march_summ.ACTIVITY_ID.isin(df.bid.values)]\n",
    "df_march_summ.head(10)"
   ]
  },
  {
   "cell_type": "code",
   "execution_count": 92,
   "metadata": {},
   "outputs": [],
   "source": [
    "# converting t_zero to an integer\n",
    "df_march_summ['t_zero'] = df_march_summ['t_zero'].str.slice(8, 10)\n",
    "df_march_summ['t_zero'] = pd.to_numeric(df_march_summ.t_zero)"
   ]
  },
  {
   "cell_type": "code",
   "execution_count": 93,
   "metadata": {},
   "outputs": [
    {
     "data": {
      "text/html": [
       "<div>\n",
       "<style scoped>\n",
       "    .dataframe tbody tr th:only-of-type {\n",
       "        vertical-align: middle;\n",
       "    }\n",
       "\n",
       "    .dataframe tbody tr th {\n",
       "        vertical-align: top;\n",
       "    }\n",
       "\n",
       "    .dataframe thead th {\n",
       "        text-align: right;\n",
       "    }\n",
       "</style>\n",
       "<table border=\"1\" class=\"dataframe\">\n",
       "  <thead>\n",
       "    <tr style=\"text-align: right;\">\n",
       "      <th></th>\n",
       "      <th>ACTIVITY_ID</th>\n",
       "      <th>t_zero</th>\n",
       "      <th>n_actions</th>\n",
       "    </tr>\n",
       "  </thead>\n",
       "  <tbody>\n",
       "    <tr>\n",
       "      <td>947</td>\n",
       "      <td>154395</td>\n",
       "      <td>6</td>\n",
       "      <td>261808</td>\n",
       "    </tr>\n",
       "    <tr>\n",
       "      <td>965</td>\n",
       "      <td>157243</td>\n",
       "      <td>3</td>\n",
       "      <td>256</td>\n",
       "    </tr>\n",
       "    <tr>\n",
       "      <td>966</td>\n",
       "      <td>157563</td>\n",
       "      <td>3</td>\n",
       "      <td>74411</td>\n",
       "    </tr>\n",
       "    <tr>\n",
       "      <td>967</td>\n",
       "      <td>157751</td>\n",
       "      <td>1</td>\n",
       "      <td>246378</td>\n",
       "    </tr>\n",
       "    <tr>\n",
       "      <td>968</td>\n",
       "      <td>157848</td>\n",
       "      <td>3</td>\n",
       "      <td>2982</td>\n",
       "    </tr>\n",
       "  </tbody>\n",
       "</table>\n",
       "</div>"
      ],
      "text/plain": [
       "     ACTIVITY_ID  t_zero  n_actions\n",
       "947       154395       6     261808\n",
       "965       157243       3        256\n",
       "966       157563       3      74411\n",
       "967       157751       1     246378\n",
       "968       157848       3       2982"
      ]
     },
     "execution_count": 93,
     "metadata": {},
     "output_type": "execute_result"
    }
   ],
   "source": [
    "df_march_summ.head()"
   ]
  },
  {
   "cell_type": "code",
   "execution_count": 94,
   "metadata": {},
   "outputs": [],
   "source": [
    "# add days in April and May to account for the start time of day 0 on March 1st\n",
    "df_april_cut_f['day'] = df_april_cut_f['day'] + 31\n",
    "df_may_cut_f['day'] = df_may_cut_f['day'] + 61"
   ]
  },
  {
   "cell_type": "code",
   "execution_count": 95,
   "metadata": {},
   "outputs": [],
   "source": [
    "# merge march data with march_summ to subtract t_zero later\n",
    "df_march_zero = df_march_cut_f.merge(df_march_summ, how = 'inner', on = 'ACTIVITY_ID')"
   ]
  },
  {
   "cell_type": "code",
   "execution_count": 96,
   "metadata": {},
   "outputs": [
    {
     "data": {
      "text/html": [
       "<div>\n",
       "<style scoped>\n",
       "    .dataframe tbody tr th:only-of-type {\n",
       "        vertical-align: middle;\n",
       "    }\n",
       "\n",
       "    .dataframe tbody tr th {\n",
       "        vertical-align: top;\n",
       "    }\n",
       "\n",
       "    .dataframe thead th {\n",
       "        text-align: right;\n",
       "    }\n",
       "</style>\n",
       "<table border=\"1\" class=\"dataframe\">\n",
       "  <thead>\n",
       "    <tr style=\"text-align: right;\">\n",
       "      <th></th>\n",
       "      <th>SUPPORTER_ID</th>\n",
       "      <th>COUNTRY</th>\n",
       "      <th>ACTIVITY_TYPE</th>\n",
       "      <th>ACTIVITY_DATETIME</th>\n",
       "      <th>ACTIVITY_ID</th>\n",
       "      <th>ACTIVITY_STATUS</th>\n",
       "      <th>ACTIVITY_DATA_1</th>\n",
       "      <th>ACTIVITY_DATA_2</th>\n",
       "      <th>ACTIVITY_DATA_3</th>\n",
       "      <th>ACTIVITY_DATA_4</th>\n",
       "      <th>...</th>\n",
       "      <th>ACTIVITY_DATA_9</th>\n",
       "      <th>ACTIVITY_DATA_10</th>\n",
       "      <th>ACTIVITY_DATA_26</th>\n",
       "      <th>ACTIVITY_DATA_27</th>\n",
       "      <th>ACTIVITY_DATA_28</th>\n",
       "      <th>ACTIVITY_DATA_29</th>\n",
       "      <th>ACTIVITY_DATA_30</th>\n",
       "      <th>day</th>\n",
       "      <th>t_zero</th>\n",
       "      <th>n_actions</th>\n",
       "    </tr>\n",
       "  </thead>\n",
       "  <tbody>\n",
       "    <tr>\n",
       "      <td>0</td>\n",
       "      <td>BDoflNnPHog=</td>\n",
       "      <td>CA</td>\n",
       "      <td>EBC</td>\n",
       "      <td>2017-03-07 09:37:06</td>\n",
       "      <td>154395</td>\n",
       "      <td>R</td>\n",
       "      <td>open</td>\n",
       "      <td>click</td>\n",
       "      <td>formsub</td>\n",
       "      <td>NaN</td>\n",
       "      <td>...</td>\n",
       "      <td>131397</td>\n",
       "      <td>NaN</td>\n",
       "      <td>NaN</td>\n",
       "      <td>NaN</td>\n",
       "      <td>NaN</td>\n",
       "      <td>NaN</td>\n",
       "      <td>NaN</td>\n",
       "      <td>7</td>\n",
       "      <td>6</td>\n",
       "      <td>261808</td>\n",
       "    </tr>\n",
       "    <tr>\n",
       "      <td>1</td>\n",
       "      <td>kudFmD%2ByF7w=</td>\n",
       "      <td>CAN</td>\n",
       "      <td>EBC</td>\n",
       "      <td>2017-03-06 15:07:12</td>\n",
       "      <td>154395</td>\n",
       "      <td>R</td>\n",
       "      <td>open</td>\n",
       "      <td>click</td>\n",
       "      <td>formsub</td>\n",
       "      <td>NaN</td>\n",
       "      <td>...</td>\n",
       "      <td>131397</td>\n",
       "      <td>NaN</td>\n",
       "      <td>NaN</td>\n",
       "      <td>NaN</td>\n",
       "      <td>NaN</td>\n",
       "      <td>NaN</td>\n",
       "      <td>NaN</td>\n",
       "      <td>6</td>\n",
       "      <td>6</td>\n",
       "      <td>261808</td>\n",
       "    </tr>\n",
       "    <tr>\n",
       "      <td>2</td>\n",
       "      <td>nEgT0q6l4MY=</td>\n",
       "      <td>CAN</td>\n",
       "      <td>EBC</td>\n",
       "      <td>2017-03-06 16:28:24</td>\n",
       "      <td>154395</td>\n",
       "      <td>R</td>\n",
       "      <td>open</td>\n",
       "      <td>click</td>\n",
       "      <td>formsub</td>\n",
       "      <td>NaN</td>\n",
       "      <td>...</td>\n",
       "      <td>131397</td>\n",
       "      <td>NaN</td>\n",
       "      <td>NaN</td>\n",
       "      <td>NaN</td>\n",
       "      <td>NaN</td>\n",
       "      <td>NaN</td>\n",
       "      <td>NaN</td>\n",
       "      <td>6</td>\n",
       "      <td>6</td>\n",
       "      <td>261808</td>\n",
       "    </tr>\n",
       "    <tr>\n",
       "      <td>3</td>\n",
       "      <td>MpbERpuNCk0=</td>\n",
       "      <td>CA</td>\n",
       "      <td>EBC</td>\n",
       "      <td>2017-03-06 15:04:01</td>\n",
       "      <td>154395</td>\n",
       "      <td>R</td>\n",
       "      <td>open</td>\n",
       "      <td>click</td>\n",
       "      <td>formsub</td>\n",
       "      <td>NaN</td>\n",
       "      <td>...</td>\n",
       "      <td>131397</td>\n",
       "      <td>NaN</td>\n",
       "      <td>NaN</td>\n",
       "      <td>NaN</td>\n",
       "      <td>NaN</td>\n",
       "      <td>NaN</td>\n",
       "      <td>NaN</td>\n",
       "      <td>6</td>\n",
       "      <td>6</td>\n",
       "      <td>261808</td>\n",
       "    </tr>\n",
       "    <tr>\n",
       "      <td>4</td>\n",
       "      <td>yWg1o0ksoTw=</td>\n",
       "      <td>CA</td>\n",
       "      <td>EBC</td>\n",
       "      <td>2017-03-06 15:34:00</td>\n",
       "      <td>154395</td>\n",
       "      <td>R</td>\n",
       "      <td>open</td>\n",
       "      <td>click</td>\n",
       "      <td>formsub</td>\n",
       "      <td>NaN</td>\n",
       "      <td>...</td>\n",
       "      <td>131397</td>\n",
       "      <td>NaN</td>\n",
       "      <td>NaN</td>\n",
       "      <td>NaN</td>\n",
       "      <td>NaN</td>\n",
       "      <td>NaN</td>\n",
       "      <td>NaN</td>\n",
       "      <td>6</td>\n",
       "      <td>6</td>\n",
       "      <td>261808</td>\n",
       "    </tr>\n",
       "  </tbody>\n",
       "</table>\n",
       "<p>5 rows × 24 columns</p>\n",
       "</div>"
      ],
      "text/plain": [
       "     SUPPORTER_ID COUNTRY ACTIVITY_TYPE    ACTIVITY_DATETIME  ACTIVITY_ID  \\\n",
       "0    BDoflNnPHog=      CA           EBC  2017-03-07 09:37:06       154395   \n",
       "1  kudFmD%2ByF7w=     CAN           EBC  2017-03-06 15:07:12       154395   \n",
       "2    nEgT0q6l4MY=     CAN           EBC  2017-03-06 16:28:24       154395   \n",
       "3    MpbERpuNCk0=      CA           EBC  2017-03-06 15:04:01       154395   \n",
       "4    yWg1o0ksoTw=      CA           EBC  2017-03-06 15:34:00       154395   \n",
       "\n",
       "  ACTIVITY_STATUS ACTIVITY_DATA_1 ACTIVITY_DATA_2 ACTIVITY_DATA_3  \\\n",
       "0               R            open           click         formsub   \n",
       "1               R            open           click         formsub   \n",
       "2               R            open           click         formsub   \n",
       "3               R            open           click         formsub   \n",
       "4               R            open           click         formsub   \n",
       "\n",
       "  ACTIVITY_DATA_4  ... ACTIVITY_DATA_9 ACTIVITY_DATA_10 ACTIVITY_DATA_26  \\\n",
       "0             NaN  ...          131397              NaN              NaN   \n",
       "1             NaN  ...          131397              NaN              NaN   \n",
       "2             NaN  ...          131397              NaN              NaN   \n",
       "3             NaN  ...          131397              NaN              NaN   \n",
       "4             NaN  ...          131397              NaN              NaN   \n",
       "\n",
       "   ACTIVITY_DATA_27 ACTIVITY_DATA_28 ACTIVITY_DATA_29  ACTIVITY_DATA_30  day  \\\n",
       "0               NaN              NaN              NaN               NaN    7   \n",
       "1               NaN              NaN              NaN               NaN    6   \n",
       "2               NaN              NaN              NaN               NaN    6   \n",
       "3               NaN              NaN              NaN               NaN    6   \n",
       "4               NaN              NaN              NaN               NaN    6   \n",
       "\n",
       "   t_zero  n_actions  \n",
       "0       6     261808  \n",
       "1       6     261808  \n",
       "2       6     261808  \n",
       "3       6     261808  \n",
       "4       6     261808  \n",
       "\n",
       "[5 rows x 24 columns]"
      ]
     },
     "execution_count": 96,
     "metadata": {},
     "output_type": "execute_result"
    }
   ],
   "source": [
    "df_march_zero.head()"
   ]
  },
  {
   "cell_type": "markdown",
   "metadata": {},
   "source": [
    "#### Plot of March days where a 'formsub' action occurred"
   ]
  },
  {
   "cell_type": "code",
   "execution_count": 97,
   "metadata": {},
   "outputs": [
    {
     "data": {
      "text/plain": [
       "Text(0.5, 1.0, 'March transactions formsub actions')"
      ]
     },
     "execution_count": 97,
     "metadata": {},
     "output_type": "execute_result"
    },
    {
     "data": {
      "image/png": "[encoded data removed]",
      "text/plain": [
       "<Figure size 864x432 with 1 Axes>"
      ]
     },
     "metadata": {
      "needs_background": "light"
     },
     "output_type": "display_data"
    }
   ],
   "source": [
    "(df_march_zero.day - df_march_zero.t_zero).hist(figsize = (12, 6), bins = 31)\n",
    "plt.xlabel(\"Days after start of campaign\")\n",
    "plt.ylabel('Occurrences')\n",
    "plt.title('March transactions formsub actions')"
   ]
  },
  {
   "cell_type": "markdown",
   "metadata": {},
   "source": [
    "#### Below is the histogram on log scale for March 'formsub' actions"
   ]
  },
  {
   "cell_type": "code",
   "execution_count": 98,
   "metadata": {},
   "outputs": [
    {
     "data": {
      "text/plain": [
       "Text(0.5, 1.0, 'March transactions formsub actions')"
      ]
     },
     "execution_count": 98,
     "metadata": {},
     "output_type": "execute_result"
    },
    {
     "data": {
      "image/png": "[encoded data removed]",
      "text/plain": [
       "<Figure size 864x432 with 1 Axes>"
      ]
     },
     "metadata": {
      "needs_background": "light"
     },
     "output_type": "display_data"
    }
   ],
   "source": [
    "(df_march_zero.day - df_march_zero.t_zero).hist(figsize = (12, 6), bins = range(0, 32), log=True)\n",
    "plt.xlabel(\"Days after start of campaign\")\n",
    "plt.ylabel('Occurrences - log scale')\n",
    "plt.title('March transactions formsub actions')"
   ]
  },
  {
   "cell_type": "code",
   "execution_count": 99,
   "metadata": {},
   "outputs": [],
   "source": [
    "# merging April and May data into March to look at all of the formsubs actions across all 3 months\n",
    "df_april_zero = df_april_cut_f.merge(df_march_summ, how = 'inner', on = 'ACTIVITY_ID')\n",
    "df_may_zero = df_may_cut_f.merge(df_march_summ, how = 'inner', on = 'ACTIVITY_ID')\n",
    "\n",
    "# add April and May dataframe to March\n",
    "df_zero = pd.concat([df_march_zero, df_april_zero])\n",
    "df_zero_all = pd.concat([df_zero, df_may_zero])"
   ]
  },
  {
   "cell_type": "markdown",
   "metadata": {},
   "source": [
    "#### Histogram of 'formsubs' across all 3 months on log scale"
   ]
  },
  {
   "cell_type": "code",
   "execution_count": 100,
   "metadata": {},
   "outputs": [
    {
     "data": {
      "text/plain": [
       "Text(0.5, 1.0, 'All supporter formsub actions')"
      ]
     },
     "execution_count": 100,
     "metadata": {},
     "output_type": "execute_result"
    },
    {
     "data": {
      "image/png": "[encoded data removed]",
      "text/plain": [
       "<Figure size 864x432 with 1 Axes>"
      ]
     },
     "metadata": {
      "needs_background": "light"
     },
     "output_type": "display_data"
    }
   ],
   "source": [
    "# subtracting t_zero from the day where the formsubs occur and show histogram\n",
    "(df_zero_all.day - df_zero_all.t_zero).hist(figsize = (12, 6), bins = range(0, 93), log=True)\n",
    "plt.xlabel(\"Days after start of campaign\")\n",
    "plt.ylabel('Occurrences - log scale')\n",
    "plt.title('All supporter formsub actions')"
   ]
  },
  {
   "cell_type": "markdown",
   "metadata": {},
   "source": [
    "The above histogram is what one would expect:  the number of 'formsub' actions logorithmically decreases from the initially sends data to the end of May.  **This shows that there were are very large proportion of 'formsub' actions that happened early in the lifecycle of the compaign**."
   ]
  },
  {
   "cell_type": "code",
   "execution_count": 101,
   "metadata": {},
   "outputs": [
    {
     "name": "stdout",
     "output_type": "stream",
     "text": [
      "(96471, 24)\n",
      "(95419, 24)\n",
      "(973, 24)\n",
      "(79, 24)\n"
     ]
    }
   ],
   "source": [
    "# just checking all rows in march, april, may is equal to number of rows in 'df_zero_all' (yes they are equal)\n",
    "print(df_zero_all.shape)\n",
    "print(df_march_zero.shape)\n",
    "print(df_april_zero.shape)\n",
    "print(df_may_zero.shape)"
   ]
  },
  {
   "cell_type": "code",
   "execution_count": 102,
   "metadata": {},
   "outputs": [
    {
     "data": {
      "text/html": [
       "<div>\n",
       "<style scoped>\n",
       "    .dataframe tbody tr th:only-of-type {\n",
       "        vertical-align: middle;\n",
       "    }\n",
       "\n",
       "    .dataframe tbody tr th {\n",
       "        vertical-align: top;\n",
       "    }\n",
       "\n",
       "    .dataframe thead th {\n",
       "        text-align: right;\n",
       "    }\n",
       "</style>\n",
       "<table border=\"1\" class=\"dataframe\">\n",
       "  <thead>\n",
       "    <tr style=\"text-align: right;\">\n",
       "      <th></th>\n",
       "      <th>SUPPORTER_ID</th>\n",
       "      <th>ACTIVITY_TYPE</th>\n",
       "      <th>ACTIVITY_DATETIME</th>\n",
       "      <th>ACTIVITY_ID</th>\n",
       "      <th>ACTIVITY_STATUS</th>\n",
       "      <th>ACTIVITY_DATA_1</th>\n",
       "      <th>ACTIVITY_DATA_2</th>\n",
       "      <th>ACTIVITY_DATA_3</th>\n",
       "      <th>ACTIVITY_DATA_4</th>\n",
       "      <th>ACTIVITY_DATA_5</th>\n",
       "      <th>...</th>\n",
       "      <th>ACTIVITY_DATA_7</th>\n",
       "      <th>ACTIVITY_DATA_8</th>\n",
       "      <th>ACTIVITY_DATA_9</th>\n",
       "      <th>ACTIVITY_DATA_10</th>\n",
       "      <th>ACTIVITY_DATA_26</th>\n",
       "      <th>ACTIVITY_DATA_27</th>\n",
       "      <th>ACTIVITY_DATA_28</th>\n",
       "      <th>ACTIVITY_DATA_29</th>\n",
       "      <th>ACTIVITY_DATA_30</th>\n",
       "      <th>day</th>\n",
       "    </tr>\n",
       "    <tr>\n",
       "      <th>COUNTRY</th>\n",
       "      <th></th>\n",
       "      <th></th>\n",
       "      <th></th>\n",
       "      <th></th>\n",
       "      <th></th>\n",
       "      <th></th>\n",
       "      <th></th>\n",
       "      <th></th>\n",
       "      <th></th>\n",
       "      <th></th>\n",
       "      <th></th>\n",
       "      <th></th>\n",
       "      <th></th>\n",
       "      <th></th>\n",
       "      <th></th>\n",
       "      <th></th>\n",
       "      <th></th>\n",
       "      <th></th>\n",
       "      <th></th>\n",
       "      <th></th>\n",
       "      <th></th>\n",
       "    </tr>\n",
       "  </thead>\n",
       "  <tbody>\n",
       "    <tr>\n",
       "      <td>CA</td>\n",
       "      <td>13754</td>\n",
       "      <td>13754</td>\n",
       "      <td>13754</td>\n",
       "      <td>13754</td>\n",
       "      <td>13754</td>\n",
       "      <td>13673</td>\n",
       "      <td>13722</td>\n",
       "      <td>13754</td>\n",
       "      <td>0</td>\n",
       "      <td>0</td>\n",
       "      <td>...</td>\n",
       "      <td>0</td>\n",
       "      <td>0</td>\n",
       "      <td>13754</td>\n",
       "      <td>0</td>\n",
       "      <td>0</td>\n",
       "      <td>0</td>\n",
       "      <td>0</td>\n",
       "      <td>0</td>\n",
       "      <td>0</td>\n",
       "      <td>13754</td>\n",
       "    </tr>\n",
       "    <tr>\n",
       "      <td>USA</td>\n",
       "      <td>12597</td>\n",
       "      <td>12597</td>\n",
       "      <td>12597</td>\n",
       "      <td>12597</td>\n",
       "      <td>12597</td>\n",
       "      <td>12526</td>\n",
       "      <td>12560</td>\n",
       "      <td>12597</td>\n",
       "      <td>0</td>\n",
       "      <td>1</td>\n",
       "      <td>...</td>\n",
       "      <td>0</td>\n",
       "      <td>0</td>\n",
       "      <td>12597</td>\n",
       "      <td>0</td>\n",
       "      <td>0</td>\n",
       "      <td>0</td>\n",
       "      <td>0</td>\n",
       "      <td>0</td>\n",
       "      <td>0</td>\n",
       "      <td>12597</td>\n",
       "    </tr>\n",
       "    <tr>\n",
       "      <td>GBR</td>\n",
       "      <td>11326</td>\n",
       "      <td>11326</td>\n",
       "      <td>11326</td>\n",
       "      <td>11326</td>\n",
       "      <td>11326</td>\n",
       "      <td>11255</td>\n",
       "      <td>11291</td>\n",
       "      <td>11326</td>\n",
       "      <td>0</td>\n",
       "      <td>0</td>\n",
       "      <td>...</td>\n",
       "      <td>0</td>\n",
       "      <td>0</td>\n",
       "      <td>11326</td>\n",
       "      <td>0</td>\n",
       "      <td>0</td>\n",
       "      <td>0</td>\n",
       "      <td>0</td>\n",
       "      <td>0</td>\n",
       "      <td>0</td>\n",
       "      <td>11326</td>\n",
       "    </tr>\n",
       "    <tr>\n",
       "      <td>US</td>\n",
       "      <td>11177</td>\n",
       "      <td>11177</td>\n",
       "      <td>11177</td>\n",
       "      <td>11177</td>\n",
       "      <td>11177</td>\n",
       "      <td>11111</td>\n",
       "      <td>11137</td>\n",
       "      <td>11177</td>\n",
       "      <td>0</td>\n",
       "      <td>0</td>\n",
       "      <td>...</td>\n",
       "      <td>1</td>\n",
       "      <td>0</td>\n",
       "      <td>11177</td>\n",
       "      <td>0</td>\n",
       "      <td>0</td>\n",
       "      <td>0</td>\n",
       "      <td>0</td>\n",
       "      <td>0</td>\n",
       "      <td>0</td>\n",
       "      <td>11177</td>\n",
       "    </tr>\n",
       "    <tr>\n",
       "      <td>CAN</td>\n",
       "      <td>11030</td>\n",
       "      <td>11030</td>\n",
       "      <td>11030</td>\n",
       "      <td>11030</td>\n",
       "      <td>11030</td>\n",
       "      <td>10959</td>\n",
       "      <td>10996</td>\n",
       "      <td>11030</td>\n",
       "      <td>0</td>\n",
       "      <td>0</td>\n",
       "      <td>...</td>\n",
       "      <td>0</td>\n",
       "      <td>0</td>\n",
       "      <td>11030</td>\n",
       "      <td>0</td>\n",
       "      <td>0</td>\n",
       "      <td>0</td>\n",
       "      <td>0</td>\n",
       "      <td>0</td>\n",
       "      <td>0</td>\n",
       "      <td>11030</td>\n",
       "    </tr>\n",
       "    <tr>\n",
       "      <td>GB</td>\n",
       "      <td>7590</td>\n",
       "      <td>7590</td>\n",
       "      <td>7590</td>\n",
       "      <td>7590</td>\n",
       "      <td>7590</td>\n",
       "      <td>7547</td>\n",
       "      <td>7562</td>\n",
       "      <td>7590</td>\n",
       "      <td>0</td>\n",
       "      <td>0</td>\n",
       "      <td>...</td>\n",
       "      <td>1</td>\n",
       "      <td>0</td>\n",
       "      <td>7590</td>\n",
       "      <td>0</td>\n",
       "      <td>0</td>\n",
       "      <td>0</td>\n",
       "      <td>0</td>\n",
       "      <td>0</td>\n",
       "      <td>0</td>\n",
       "      <td>7590</td>\n",
       "    </tr>\n",
       "    <tr>\n",
       "      <td>DEU</td>\n",
       "      <td>1805</td>\n",
       "      <td>1805</td>\n",
       "      <td>1805</td>\n",
       "      <td>1805</td>\n",
       "      <td>1805</td>\n",
       "      <td>1797</td>\n",
       "      <td>1802</td>\n",
       "      <td>1805</td>\n",
       "      <td>0</td>\n",
       "      <td>0</td>\n",
       "      <td>...</td>\n",
       "      <td>0</td>\n",
       "      <td>0</td>\n",
       "      <td>1805</td>\n",
       "      <td>0</td>\n",
       "      <td>0</td>\n",
       "      <td>0</td>\n",
       "      <td>0</td>\n",
       "      <td>0</td>\n",
       "      <td>0</td>\n",
       "      <td>1805</td>\n",
       "    </tr>\n",
       "    <tr>\n",
       "      <td>AUS</td>\n",
       "      <td>1797</td>\n",
       "      <td>1797</td>\n",
       "      <td>1797</td>\n",
       "      <td>1797</td>\n",
       "      <td>1797</td>\n",
       "      <td>1786</td>\n",
       "      <td>1791</td>\n",
       "      <td>1797</td>\n",
       "      <td>0</td>\n",
       "      <td>0</td>\n",
       "      <td>...</td>\n",
       "      <td>0</td>\n",
       "      <td>0</td>\n",
       "      <td>1797</td>\n",
       "      <td>0</td>\n",
       "      <td>0</td>\n",
       "      <td>0</td>\n",
       "      <td>0</td>\n",
       "      <td>0</td>\n",
       "      <td>0</td>\n",
       "      <td>1797</td>\n",
       "    </tr>\n",
       "    <tr>\n",
       "      <td>ITA</td>\n",
       "      <td>1710</td>\n",
       "      <td>1710</td>\n",
       "      <td>1710</td>\n",
       "      <td>1710</td>\n",
       "      <td>1710</td>\n",
       "      <td>1701</td>\n",
       "      <td>1703</td>\n",
       "      <td>1710</td>\n",
       "      <td>0</td>\n",
       "      <td>0</td>\n",
       "      <td>...</td>\n",
       "      <td>0</td>\n",
       "      <td>0</td>\n",
       "      <td>1710</td>\n",
       "      <td>0</td>\n",
       "      <td>0</td>\n",
       "      <td>0</td>\n",
       "      <td>0</td>\n",
       "      <td>0</td>\n",
       "      <td>0</td>\n",
       "      <td>1710</td>\n",
       "    </tr>\n",
       "    <tr>\n",
       "      <td>FRA</td>\n",
       "      <td>1635</td>\n",
       "      <td>1635</td>\n",
       "      <td>1635</td>\n",
       "      <td>1635</td>\n",
       "      <td>1635</td>\n",
       "      <td>1627</td>\n",
       "      <td>1629</td>\n",
       "      <td>1635</td>\n",
       "      <td>0</td>\n",
       "      <td>0</td>\n",
       "      <td>...</td>\n",
       "      <td>0</td>\n",
       "      <td>0</td>\n",
       "      <td>1635</td>\n",
       "      <td>0</td>\n",
       "      <td>0</td>\n",
       "      <td>0</td>\n",
       "      <td>0</td>\n",
       "      <td>0</td>\n",
       "      <td>0</td>\n",
       "      <td>1635</td>\n",
       "    </tr>\n",
       "  </tbody>\n",
       "</table>\n",
       "<p>10 rows × 21 columns</p>\n",
       "</div>"
      ],
      "text/plain": [
       "         SUPPORTER_ID  ACTIVITY_TYPE  ACTIVITY_DATETIME  ACTIVITY_ID  \\\n",
       "COUNTRY                                                                \n",
       "CA              13754          13754              13754        13754   \n",
       "USA             12597          12597              12597        12597   \n",
       "GBR             11326          11326              11326        11326   \n",
       "US              11177          11177              11177        11177   \n",
       "CAN             11030          11030              11030        11030   \n",
       "GB               7590           7590               7590         7590   \n",
       "DEU              1805           1805               1805         1805   \n",
       "AUS              1797           1797               1797         1797   \n",
       "ITA              1710           1710               1710         1710   \n",
       "FRA              1635           1635               1635         1635   \n",
       "\n",
       "         ACTIVITY_STATUS  ACTIVITY_DATA_1  ACTIVITY_DATA_2  ACTIVITY_DATA_3  \\\n",
       "COUNTRY                                                                       \n",
       "CA                 13754            13673            13722            13754   \n",
       "USA                12597            12526            12560            12597   \n",
       "GBR                11326            11255            11291            11326   \n",
       "US                 11177            11111            11137            11177   \n",
       "CAN                11030            10959            10996            11030   \n",
       "GB                  7590             7547             7562             7590   \n",
       "DEU                 1805             1797             1802             1805   \n",
       "AUS                 1797             1786             1791             1797   \n",
       "ITA                 1710             1701             1703             1710   \n",
       "FRA                 1635             1627             1629             1635   \n",
       "\n",
       "         ACTIVITY_DATA_4  ACTIVITY_DATA_5  ...  ACTIVITY_DATA_7  \\\n",
       "COUNTRY                                    ...                    \n",
       "CA                     0                0  ...                0   \n",
       "USA                    0                1  ...                0   \n",
       "GBR                    0                0  ...                0   \n",
       "US                     0                0  ...                1   \n",
       "CAN                    0                0  ...                0   \n",
       "GB                     0                0  ...                1   \n",
       "DEU                    0                0  ...                0   \n",
       "AUS                    0                0  ...                0   \n",
       "ITA                    0                0  ...                0   \n",
       "FRA                    0                0  ...                0   \n",
       "\n",
       "         ACTIVITY_DATA_8  ACTIVITY_DATA_9  ACTIVITY_DATA_10  ACTIVITY_DATA_26  \\\n",
       "COUNTRY                                                                         \n",
       "CA                     0            13754                 0                 0   \n",
       "USA                    0            12597                 0                 0   \n",
       "GBR                    0            11326                 0                 0   \n",
       "US                     0            11177                 0                 0   \n",
       "CAN                    0            11030                 0                 0   \n",
       "GB                     0             7590                 0                 0   \n",
       "DEU                    0             1805                 0                 0   \n",
       "AUS                    0             1797                 0                 0   \n",
       "ITA                    0             1710                 0                 0   \n",
       "FRA                    0             1635                 0                 0   \n",
       "\n",
       "         ACTIVITY_DATA_27  ACTIVITY_DATA_28  ACTIVITY_DATA_29  \\\n",
       "COUNTRY                                                         \n",
       "CA                      0                 0                 0   \n",
       "USA                     0                 0                 0   \n",
       "GBR                     0                 0                 0   \n",
       "US                      0                 0                 0   \n",
       "CAN                     0                 0                 0   \n",
       "GB                      0                 0                 0   \n",
       "DEU                     0                 0                 0   \n",
       "AUS                     0                 0                 0   \n",
       "ITA                     0                 0                 0   \n",
       "FRA                     0                 0                 0   \n",
       "\n",
       "         ACTIVITY_DATA_30    day  \n",
       "COUNTRY                           \n",
       "CA                      0  13754  \n",
       "USA                     0  12597  \n",
       "GBR                     0  11326  \n",
       "US                      0  11177  \n",
       "CAN                     0  11030  \n",
       "GB                      0   7590  \n",
       "DEU                     0   1805  \n",
       "AUS                     0   1797  \n",
       "ITA                     0   1710  \n",
       "FRA                     0   1635  \n",
       "\n",
       "[10 rows x 21 columns]"
      ]
     },
     "execution_count": 102,
     "metadata": {},
     "output_type": "execute_result"
    }
   ],
   "source": [
    "# get a quick look on the number of 'formsubs' by country\n",
    "df_march_cut_f.groupby(['COUNTRY']).count().sort_values('ACTIVITY_DATA_3', ascending=False).head(10)"
   ]
  },
  {
   "cell_type": "markdown",
   "metadata": {},
   "source": [
    "Canada has the most 'formsubs', followed by USA and then GBR."
   ]
  },
  {
   "cell_type": "markdown",
   "metadata": {},
   "source": [
    "# Function for each supporter"
   ]
  },
  {
   "cell_type": "markdown",
   "metadata": {},
   "source": [
    "first, create a dataframe with the March, April and May transactions that only include the Broadcast / Activity IDs from the sends data."
   ]
  },
  {
   "cell_type": "code",
   "execution_count": 103,
   "metadata": {},
   "outputs": [],
   "source": [
    "# concatenate 3 transactional data frames\n",
    "df_t1 = pd.concat([df_march_cut, df_april_cut])\n",
    "df_t = pd.concat([df_t1, df_may_cut])"
   ]
  },
  {
   "cell_type": "code",
   "execution_count": 104,
   "metadata": {},
   "outputs": [],
   "source": [
    "# to identify all transactions and sends received by any given supporter.\n",
    "# count R's, P's and open's, etc\n",
    "\n",
    "def supporter(supporter_id):\n",
    "    df_sup = df_t.loc[df_t['SUPPORTER_ID'] == supporter_id]\n",
    "    \n",
    "    hb = np.sum(df_sup['ACTIVITY_DATA_4'] == 'hbounce')\n",
    "    sb = np.sum(df_sup['ACTIVITY_DATA_5'] == 'sbounce')\n",
    "    R = np.sum(df_sup['ACTIVITY_STATUS'] == 'R')\n",
    "    O = np.sum(df_sup['ACTIVITY_DATA_1'] == 'open')\n",
    "    click = np.sum(df_sup['ACTIVITY_DATA_2'] == 'click')\n",
    "    P = np.sum(df_sup['ACTIVITY_STATUS'] == 'P')\n",
    "    formsub = np.sum(df_sup['ACTIVITY_DATA_3'] == 'formsub')\n",
    "    single = np.sum(df_sup['ACTIVITY_TYPE'] == 'FCS')\n",
    "    monthly = np.sum(df_sup['ACTIVITY_TYPE'] == 'FUR')\n",
    "\n",
    "    print('This supporter:')\n",
    "    print('\\tHard Bounced %d Broadcasts' %(hb))\n",
    "    print('\\tSoft Bounced %d Broadcasts' %(sb))\n",
    "    print('\\tReceived %d Broadcasts' %(R))\n",
    "    print('\\tOpened %d Broadcasts' %(O))\n",
    "    print('\\tClicked in %d Broadcasts' %(click))\n",
    "    print('\\tParticipated in %d Broadcasts' %(P))\n",
    "    print('\\tSubmitted a form in %d Broadcasts' %(formsub))\n",
    "    print('\\tSingle donation %d times' %(single))\n",
    "    print('\\tRecurring donation %d times' %(monthly))  \n",
    "    \n",
    "    # set up the bar plot\n",
    "    actions = [hb, sb, R, O, click, P, formsub, single, monthly]\n",
    "    index = ['hb', 'sb', 'R', 'open', 'click', 'P', 'formsub', 'single', 'monthly']\n",
    "    df = pd.DataFrame({'actions': actions}, index=index)\n",
    "    ax = df.plot.bar(rot=0, figsize=(12, 6))\n",
    "    plt.xlabel(\"Action\")\n",
    "    plt.ylabel('Occurrences')\n",
    "    plt.title(\"Supporter '%s' actions (March BIDs only)\" %(supporter_id))"
   ]
  },
  {
   "cell_type": "code",
   "execution_count": 105,
   "metadata": {},
   "outputs": [
    {
     "name": "stdout",
     "output_type": "stream",
     "text": [
      "This supporter:\n",
      "\tHard Bounced 0 Broadcasts\n",
      "\tSoft Bounced 0 Broadcasts\n",
      "\tReceived 10 Broadcasts\n",
      "\tOpened 10 Broadcasts\n",
      "\tClicked in 2 Broadcasts\n",
      "\tParticipated in 0 Broadcasts\n",
      "\tSubmitted a form in 1 Broadcasts\n",
      "\tSingle donation 0 times\n",
      "\tRecurring donation 0 times\n"
     ]
    },
    {
     "data": {
      "image/png": "[encoded data removed]",
      "text/plain": [
       "<Figure size 864x432 with 1 Axes>"
      ]
     },
     "metadata": {
      "needs_background": "light"
     },
     "output_type": "display_data"
    }
   ],
   "source": [
    "# execute the function with a sample supporter.  Remember these only include Activity IDs in sends data.\n",
    "supporter('kudFmD%2ByF7w=')    "
   ]
  },
  {
   "cell_type": "markdown",
   "metadata": {},
   "source": [
    "#### Barplot of significant activities for all supporters"
   ]
  },
  {
   "cell_type": "code",
   "execution_count": 106,
   "metadata": {},
   "outputs": [
    {
     "data": {
      "text/plain": [
       "Text(0.5, 1.0, 'Supporter actions for all 3 months (March BIDs only)')"
      ]
     },
     "execution_count": 106,
     "metadata": {},
     "output_type": "execute_result"
    },
    {
     "data": {
      "image/png": "[encoded data removed]",
      "text/plain": [
       "<Figure size 864x432 with 1 Axes>"
      ]
     },
     "metadata": {
      "needs_background": "light"
     },
     "output_type": "display_data"
    }
   ],
   "source": [
    "    hb = np.sum(df_t['ACTIVITY_DATA_4'] == 'hbounce')\n",
    "    sb = np.sum(df_t['ACTIVITY_DATA_5'] == 'sbounce')\n",
    "    R = np.sum(df_t['ACTIVITY_STATUS'] == 'R')\n",
    "    O = np.sum(df_t['ACTIVITY_DATA_1'] == 'open')\n",
    "    click = np.sum(df_t['ACTIVITY_DATA_2'] == 'click')\n",
    "    P = np.sum(df_t['ACTIVITY_STATUS'] == 'P')\n",
    "    formsub = np.sum(df_t['ACTIVITY_DATA_3'] == 'formsub')\n",
    "    single = np.sum(df_t['ACTIVITY_TYPE'] == 'FCS')\n",
    "    monthly = np.sum(df_t['ACTIVITY_TYPE'] == 'FUR')\n",
    "\n",
    "# set up bar plot\n",
    "actions = [hb, sb, R, O, click, P, formsub, single, monthly]\n",
    "index = ['hb', 'sb', 'R', 'open', 'click', 'P', 'formsub', 'single', 'monthly']\n",
    "df = pd.DataFrame({'actions': actions}, index=index)\n",
    "ax = df.plot.bar(rot=0, figsize=(12, 6))\n",
    "plt.xlabel(\"Action\")\n",
    "plt.ylabel('Occurrences')\n",
    "plt.title('Supporter actions for all 3 months (March BIDs only)')"
   ]
  },
  {
   "cell_type": "markdown",
   "metadata": {},
   "source": [
    "# FCS and FUR  \n",
    "\n",
    "First, check to see if there are any of these occurrences in the March Broadcast_ID's."
   ]
  },
  {
   "cell_type": "code",
   "execution_count": 107,
   "metadata": {},
   "outputs": [],
   "source": [
    "# show all columns\n",
    "pd.set_option('display.max_columns', None)\n",
    "# create dataframes for just fcs and fur transactions in March\n",
    "df_fcs_march = df_march.loc[df_march['ACTIVITY_TYPE'] == 'FCS']\n",
    "df_fur_march = df_march.loc[df_march['ACTIVITY_TYPE'] == 'FUR']"
   ]
  },
  {
   "cell_type": "code",
   "execution_count": 108,
   "metadata": {},
   "outputs": [
    {
     "data": {
      "text/plain": [
       "(12107, 21)"
      ]
     },
     "execution_count": 108,
     "metadata": {},
     "output_type": "execute_result"
    }
   ],
   "source": [
    "# there were 12107 fcs transactions in March\n",
    "df_fcs_march.shape"
   ]
  },
  {
   "cell_type": "code",
   "execution_count": 109,
   "metadata": {},
   "outputs": [
    {
     "data": {
      "text/plain": [
       "(96, 21)"
      ]
     },
     "execution_count": 109,
     "metadata": {},
     "output_type": "execute_result"
    }
   ],
   "source": [
    "# there were 96 fur transactions in March\n",
    "df_fur_march.shape"
   ]
  },
  {
   "cell_type": "code",
   "execution_count": 110,
   "metadata": {},
   "outputs": [
    {
     "data": {
      "text/plain": [
       "0.00786691797099074"
      ]
     },
     "execution_count": 110,
     "metadata": {},
     "output_type": "execute_result"
    }
   ],
   "source": [
    "# percentage of FUR to FCS in March\n",
    "96/(12107 + 96)"
   ]
  },
  {
   "cell_type": "code",
   "execution_count": 111,
   "metadata": {},
   "outputs": [],
   "source": [
    "# March \"cut\"\n",
    "df_fcs_march_cut = df_march_cut.loc[df_march_cut['ACTIVITY_TYPE'] == 'FCS']\n",
    "df_fur_march_cut = df_march_cut.loc[df_march_cut['ACTIVITY_TYPE'] == 'FUR']"
   ]
  },
  {
   "cell_type": "code",
   "execution_count": 112,
   "metadata": {},
   "outputs": [
    {
     "data": {
      "text/plain": [
       "(0, 22)"
      ]
     },
     "execution_count": 112,
     "metadata": {},
     "output_type": "execute_result"
    }
   ],
   "source": [
    "# there were no fcs transactions in March for broadcast IDs from sends data\n",
    "df_fcs_march_cut.shape"
   ]
  },
  {
   "cell_type": "code",
   "execution_count": 113,
   "metadata": {},
   "outputs": [
    {
     "data": {
      "text/plain": [
       "(0, 22)"
      ]
     },
     "execution_count": 113,
     "metadata": {},
     "output_type": "execute_result"
    }
   ],
   "source": [
    "# there were no fur transactions in March for broadcast IDs from sends data\n",
    "df_fur_march_cut.shape"
   ]
  },
  {
   "cell_type": "code",
   "execution_count": 114,
   "metadata": {},
   "outputs": [],
   "source": [
    "# April\n",
    "df_fcs_april = df_april.loc[df_april['ACTIVITY_TYPE'] == 'FCS']\n",
    "df_fur_april = df_april.loc[df_april['ACTIVITY_TYPE'] == 'FUR']\n",
    "\n",
    "df_fcs_april_cut = df_april_cut.loc[df_april_cut['ACTIVITY_TYPE'] == 'FCS']\n",
    "df_fur_april_cut = df_april_cut.loc[df_april_cut['ACTIVITY_TYPE'] == 'FUR']"
   ]
  },
  {
   "cell_type": "code",
   "execution_count": 115,
   "metadata": {},
   "outputs": [
    {
     "data": {
      "text/plain": [
       "(5013, 21)"
      ]
     },
     "execution_count": 115,
     "metadata": {},
     "output_type": "execute_result"
    }
   ],
   "source": [
    "df_fcs_april.shape"
   ]
  },
  {
   "cell_type": "code",
   "execution_count": 116,
   "metadata": {},
   "outputs": [
    {
     "data": {
      "text/plain": [
       "(29, 21)"
      ]
     },
     "execution_count": 116,
     "metadata": {},
     "output_type": "execute_result"
    }
   ],
   "source": [
    "df_fur_april.shape"
   ]
  },
  {
   "cell_type": "markdown",
   "metadata": {},
   "source": [
    "There were 5013 fcs transactions in April and 29 FUR transactions in April.  This is about 0.6% fur to fcs in April."
   ]
  },
  {
   "cell_type": "code",
   "execution_count": 117,
   "metadata": {},
   "outputs": [
    {
     "data": {
      "text/plain": [
       "0.005751685838952796"
      ]
     },
     "execution_count": 117,
     "metadata": {},
     "output_type": "execute_result"
    }
   ],
   "source": [
    "# April FUR to FCS\n",
    "29/(5013 + 29)"
   ]
  },
  {
   "cell_type": "code",
   "execution_count": 118,
   "metadata": {},
   "outputs": [
    {
     "data": {
      "text/plain": [
       "(0, 22)"
      ]
     },
     "execution_count": 118,
     "metadata": {},
     "output_type": "execute_result"
    }
   ],
   "source": [
    "df_fcs_april_cut.shape"
   ]
  },
  {
   "cell_type": "code",
   "execution_count": 119,
   "metadata": {},
   "outputs": [
    {
     "data": {
      "text/plain": [
       "(0, 22)"
      ]
     },
     "execution_count": 119,
     "metadata": {},
     "output_type": "execute_result"
    }
   ],
   "source": [
    "df_fur_april_cut.shape"
   ]
  },
  {
   "cell_type": "markdown",
   "metadata": {},
   "source": [
    "As shown in the 2 cells above, there were no fcs or fur transactions in April for the BIDs in the sends data."
   ]
  },
  {
   "cell_type": "code",
   "execution_count": 120,
   "metadata": {},
   "outputs": [],
   "source": [
    "# May\n",
    "\n",
    "df_fcs_may = df_may.loc[df_may['ACTIVITY_TYPE'] == 'FCS']\n",
    "df_fur_may = df_may.loc[df_may['ACTIVITY_TYPE'] == 'FUR']\n",
    "\n",
    "df_fcs_may_cut = df_may_cut.loc[df_may_cut['ACTIVITY_TYPE'] == 'FCS']\n",
    "df_fur_may_cut = df_may_cut.loc[df_may_cut['ACTIVITY_TYPE'] == 'FUR']"
   ]
  },
  {
   "cell_type": "code",
   "execution_count": 121,
   "metadata": {},
   "outputs": [
    {
     "data": {
      "text/plain": [
       "(9851, 21)"
      ]
     },
     "execution_count": 121,
     "metadata": {},
     "output_type": "execute_result"
    }
   ],
   "source": [
    "df_fcs_may.shape"
   ]
  },
  {
   "cell_type": "code",
   "execution_count": 122,
   "metadata": {},
   "outputs": [
    {
     "data": {
      "text/plain": [
       "(63, 21)"
      ]
     },
     "execution_count": 122,
     "metadata": {},
     "output_type": "execute_result"
    }
   ],
   "source": [
    "df_fur_may.shape"
   ]
  },
  {
   "cell_type": "markdown",
   "metadata": {},
   "source": [
    "There were 9851 fcs transactions in May and 63 fur transactions in May.  This is about 0.6%."
   ]
  },
  {
   "cell_type": "code",
   "execution_count": 123,
   "metadata": {},
   "outputs": [
    {
     "data": {
      "text/plain": [
       "0.006354649989913254"
      ]
     },
     "execution_count": 123,
     "metadata": {},
     "output_type": "execute_result"
    }
   ],
   "source": [
    "63/(9851 + 63)"
   ]
  },
  {
   "cell_type": "code",
   "execution_count": 124,
   "metadata": {},
   "outputs": [
    {
     "data": {
      "text/plain": [
       "(0, 22)"
      ]
     },
     "execution_count": 124,
     "metadata": {},
     "output_type": "execute_result"
    }
   ],
   "source": [
    "df_fcs_may_cut.shape"
   ]
  },
  {
   "cell_type": "code",
   "execution_count": 125,
   "metadata": {},
   "outputs": [
    {
     "data": {
      "text/plain": [
       "(0, 22)"
      ]
     },
     "execution_count": 125,
     "metadata": {},
     "output_type": "execute_result"
    }
   ],
   "source": [
    "df_fur_may_cut.shape"
   ]
  },
  {
   "cell_type": "markdown",
   "metadata": {},
   "source": [
    "There are no FCS or FUR activities in the March (sends) Broadcasts, so all Broadcast_IDs will be considered in this section."
   ]
  },
  {
   "cell_type": "code",
   "execution_count": 126,
   "metadata": {},
   "outputs": [
    {
     "data": {
      "text/plain": [
       "(1511078, 21)"
      ]
     },
     "execution_count": 126,
     "metadata": {},
     "output_type": "execute_result"
    }
   ],
   "source": [
    "df_march.loc[df_march['ACTIVITY_STATUS'] == 'R'].shape"
   ]
  },
  {
   "cell_type": "code",
   "execution_count": 127,
   "metadata": {},
   "outputs": [
    {
     "data": {
      "text/plain": [
       "(295511, 21)"
      ]
     },
     "execution_count": 127,
     "metadata": {},
     "output_type": "execute_result"
    }
   ],
   "source": [
    "df_march.loc[df_march['ACTIVITY_STATUS'] == 'P'].shape"
   ]
  },
  {
   "cell_type": "markdown",
   "metadata": {},
   "source": [
    "The following bar plot shows the number of R actions relative to P supporter actions."
   ]
  },
  {
   "cell_type": "code",
   "execution_count": 128,
   "metadata": {},
   "outputs": [
    {
     "data": {
      "text/plain": [
       "Text(0.5, 1.0, 'R vs P actions')"
      ]
     },
     "execution_count": 128,
     "metadata": {},
     "output_type": "execute_result"
    },
    {
     "data": {
      "image/png": "[encoded data removed]",
      "text/plain": [
       "<Figure size 864x432 with 1 Axes>"
      ]
     },
     "metadata": {
      "needs_background": "light"
     },
     "output_type": "display_data"
    }
   ],
   "source": [
    "# set up the bar plot\n",
    "actions = [1511078, 295511]\n",
    "index = ['R', 'P']\n",
    "df = pd.DataFrame({'actions': actions}, index=index)\n",
    "ax = df.plot.bar(rot=0, figsize=(12, 6))\n",
    "plt.xlabel(\"Action\")\n",
    "plt.ylabel('Occurrences')\n",
    "plt.title(\"R vs P actions\")"
   ]
  },
  {
   "cell_type": "markdown",
   "metadata": {},
   "source": [
    "#### Set up another bar plot for FCS vs FUR transactions:"
   ]
  },
  {
   "cell_type": "code",
   "execution_count": 129,
   "metadata": {},
   "outputs": [],
   "source": [
    "df_t1_all = pd.concat([df_march, df_april], sort=False)\n",
    "df_t_all = pd.concat([df_t1_all, df_may], sort=False)"
   ]
  },
  {
   "cell_type": "code",
   "execution_count": 130,
   "metadata": {},
   "outputs": [
    {
     "data": {
      "text/plain": [
       "(4935216, 21)"
      ]
     },
     "execution_count": 130,
     "metadata": {},
     "output_type": "execute_result"
    }
   ],
   "source": [
    "df_t_all.shape"
   ]
  },
  {
   "cell_type": "code",
   "execution_count": 131,
   "metadata": {},
   "outputs": [
    {
     "name": "stdout",
     "output_type": "stream",
     "text": [
      "(26971, 21)\n",
      "(188, 21)\n"
     ]
    }
   ],
   "source": [
    "print(df_t_all.loc[df_t_all['ACTIVITY_TYPE'] == 'FCS'].shape)\n",
    "print(df_t_all.loc[df_t_all['ACTIVITY_TYPE'] == 'FUR'].shape)"
   ]
  },
  {
   "cell_type": "code",
   "execution_count": 132,
   "metadata": {},
   "outputs": [
    {
     "data": {
      "text/plain": [
       "Text(0.5, 1.0, 'All transactions vs. FCS vs FUR')"
      ]
     },
     "execution_count": 132,
     "metadata": {},
     "output_type": "execute_result"
    },
    {
     "data": {
      "image/png": "[encoded data removed]",
      "text/plain": [
       "<Figure size 864x432 with 1 Axes>"
      ]
     },
     "metadata": {
      "needs_background": "light"
     },
     "output_type": "display_data"
    }
   ],
   "source": [
    "actions = [4935216, 26971, 188]\n",
    "index = ['all_transactions', 'FCS_transactions', 'FUR_transactions']\n",
    "df = pd.DataFrame({'actions': actions}, index=index)\n",
    "ax = df.plot.bar(rot=0, figsize=(12, 6))\n",
    "ax.set_axisbelow(True)\n",
    "ax.minorticks_on()\n",
    "ax.grid(which='major', linestyle='-', linewidth='0.5', color='red')\n",
    "plt.xlabel(\"Transactions\")\n",
    "plt.ylabel('Occurrences')\n",
    "plt.title(\"All transactions vs. FCS vs FUR\")"
   ]
  },
  {
   "cell_type": "code",
   "execution_count": 133,
   "metadata": {},
   "outputs": [
    {
     "data": {
      "text/plain": [
       "Text(0.5, 1.0, 'All transactions vs. FCS vs FUR')"
      ]
     },
     "execution_count": 133,
     "metadata": {},
     "output_type": "execute_result"
    },
    {
     "data": {
      "image/png": "[encoded data removed]",
      "text/plain": [
       "<Figure size 864x432 with 1 Axes>"
      ]
     },
     "metadata": {
      "needs_background": "light"
     },
     "output_type": "display_data"
    }
   ],
   "source": [
    "# same as above, except log scale:\n",
    "actions = [4935216, 26971, 188]\n",
    "index = ['all_transactions', 'FCS_transactions', 'FUR_transactions']\n",
    "df = pd.DataFrame({'actions': actions}, index=index)\n",
    "ax = df.plot.bar(rot=0, figsize=(12, 6), log=True)\n",
    "ax.set_axisbelow(True)\n",
    "ax.minorticks_on()\n",
    "ax.grid(which='major', linestyle='-', linewidth='0.5', color='red')\n",
    "plt.xlabel(\"Transactions\")\n",
    "plt.ylabel('Occurrences - Log Scale')\n",
    "plt.title(\"All transactions vs. FCS vs FUR\")"
   ]
  },
  {
   "cell_type": "markdown",
   "metadata": {},
   "source": [
    "Description of columns for all of the transactional data:\n",
    "\n",
    "    - SUPORTER_ID:  alphanumeric identifier\n",
    "    - COUNTRY:  country\n",
    "    - ACTIVITY TYPE:  EBC, ETT, FCS, FUR for example\n",
    "    - ACTIVITY_DATETIME:  date and time\n",
    "    - ACTIVITY_ID:  Broadcast ID\n",
    "    - ACTIVITY_STATUS:  R, P, success, reject\n",
    "    - ACTIVITY_DATA_1:  open, Dummy, (persons name), number such as 6834763\n",
    "    - ACTIVITY_DATA_2:  click, Target, (persons name), alphanumeric such as ND8358874172174\n",
    "    - ACTIVITY_DATA_3:  formsub, Error Msg\n",
    "    - ACTIVITY_DATA_4:  hbounce, amount of donation? (5.0)\n",
    "    - ACTIVITY_DATA_5:  sbounce, currency\n",
    "    - ACTIVITY_DATA_6:  payment type\n",
    "    - ACTIVITY_DATA_7:  R, S, amount (15)\n",
    "    - ACTIVITY_DATA_8:  number\n",
    "    - ACTIVITY_DATA_9:  number (131397), 1\n",
    "    - ACTIVITY_DATA_10:  ACTIVE, SUSPENDED\n",
    "    - ACTIVITY_DATA_26:  number\n",
    "    - ACTIVITY_DATA_27:  number\n",
    "    - ACTIVITY_DATA_28:  number\n",
    "    - ACTIVITY_DATA_29:  number\n",
    "    - ACTIVITY_DATA_30:  number\n",
    "    "
   ]
  },
  {
   "cell_type": "markdown",
   "metadata": {},
   "source": [
    "The following function is for all transactions across all 3 months - Not just for broadcast IDs from sends data:"
   ]
  },
  {
   "cell_type": "code",
   "execution_count": 134,
   "metadata": {},
   "outputs": [],
   "source": [
    "# to identify all transactions and sends received by any given supporter.\n",
    "# count R's, P's and open's, etc for all transactions (not just from sends BIDs)\n",
    "\n",
    "def supporter(supporter_id):\n",
    "    df_sup = df_t_all.loc[df_t_all['SUPPORTER_ID'] == supporter_id]\n",
    "    \n",
    "    hb = np.sum(df_sup['ACTIVITY_DATA_4'] == 'hbounce')\n",
    "    sb = np.sum(df_sup['ACTIVITY_DATA_5'] == 'sbounce')\n",
    "    R = np.sum(df_sup['ACTIVITY_STATUS'] == 'R')\n",
    "    O = np.sum(df_sup['ACTIVITY_DATA_1'] == 'open')\n",
    "    click = np.sum(df_sup['ACTIVITY_DATA_2'] == 'click')\n",
    "    P = np.sum(df_sup['ACTIVITY_STATUS'] == 'P')\n",
    "    formsub = np.sum(df_sup['ACTIVITY_DATA_3'] == 'formsub')\n",
    "    single = np.sum(df_sup['ACTIVITY_TYPE'] == 'FCS')\n",
    "    monthly = np.sum(df_sup['ACTIVITY_TYPE'] == 'FUR')\n",
    "\n",
    "    print('This supporter:')\n",
    "    print('\\tHard Bounced %d Broadcasts' %(hb))\n",
    "    print('\\tSoft Bounced %d Broadcasts' %(sb))\n",
    "    print('\\tReceived %d Broadcasts' %(R))\n",
    "    print('\\tOpened %d Broadcasts' %(O))\n",
    "    print('\\tClicked in %d Broadcasts' %(click))\n",
    "    print('\\tParticipated in %d Broadcasts' %(P))\n",
    "    print('\\tSubmitted a form in %d Broadcasts' %(formsub))\n",
    "    print('\\tSingle donation %d times' %(single))\n",
    "    print('\\tRecurring donation %d times' %(monthly))  \n",
    "    \n",
    "    actions = [hb, sb, R, O, click, P, formsub, single, monthly]\n",
    "    index = ['hb', 'sb', 'R', 'open', 'click', 'P', 'formsub', 'single', 'monthly']\n",
    "    df = pd.DataFrame({'actions': actions}, index=index)\n",
    "    ax = df.plot.bar(rot=0, figsize=(12, 6))\n",
    "    plt.xlabel(\"Action\")\n",
    "    plt.ylabel('Occurrences')\n",
    "    plt.title(\"Supporter '%s' actions\" %(supporter_id))"
   ]
  },
  {
   "cell_type": "markdown",
   "metadata": {},
   "source": [
    "Run the function.  Very interesting that supporter 'Gva6hUIAKHdkwMmtusGc0w==' participated 108 times.  This barplot also has **FCS (single donation) and FUR (recurring donation)** transactions."
   ]
  },
  {
   "cell_type": "code",
   "execution_count": 135,
   "metadata": {},
   "outputs": [
    {
     "name": "stdout",
     "output_type": "stream",
     "text": [
      "This supporter:\n",
      "\tHard Bounced 0 Broadcasts\n",
      "\tSoft Bounced 0 Broadcasts\n",
      "\tReceived 18 Broadcasts\n",
      "\tOpened 18 Broadcasts\n",
      "\tClicked in 6 Broadcasts\n",
      "\tParticipated in 108 Broadcasts\n",
      "\tSubmitted a form in 3 Broadcasts\n",
      "\tSingle donation 27 times\n",
      "\tRecurring donation 0 times\n"
     ]
    },
    {
     "data": {
      "image/png": "[encoded data removed]",
      "text/plain": [
       "<Figure size 864x432 with 1 Axes>"
      ]
     },
     "metadata": {
      "needs_background": "light"
     },
     "output_type": "display_data"
    }
   ],
   "source": [
    "# supporter('Ivx8wT85KECZkArzVWMSmA==')    \n",
    "# supporter('0fvs6pPg6h6ZkArzVWMSmA==')s\n",
    "# supporter('hZftL2QRnjKZkArzVWMSmA==')\n",
    "# supporter('7304B%2Bq6esmZkArzVWMSmA==')\n",
    "# supporter('Kjo9p4wfWfS15xl1A%2FXc2A==')\n",
    "# supporter('hZftL2QRnjKZkArzVWMSmA==')\n",
    "# supporter('xW4XUujQsJyzFWMrHGgntg==')\n",
    "# supporter('JsD4VHxMpDiq8wJuoPi1Lg==')\n",
    "supporter('Gva6hUIAKHdkwMmtusGc0w==')   # Participated 108 times\n",
    "# supporter('pYmmH5UlB3SZkArzVWMSmA==')\n",
    "# supporter('suQ6hQpFqDELaZkArzVWMSmA==')"
   ]
  },
  {
   "cell_type": "markdown",
   "metadata": {},
   "source": [
    "Which supporters did a FCS and FUR ?  \n",
    "\n",
    "The FCS and FUR analysis is continued in another jupyter notebook file."
   ]
  }
 ],
 "metadata": {
  "kernelspec": {
   "display_name": "Python 3",
   "language": "python",
   "name": "python3"
  },
  "language_info": {
   "codemirror_mode": {
    "name": "ipython",
    "version": 3
   },
   "file_extension": ".py",
   "mimetype": "text/x-python",
   "name": "python",
   "nbconvert_exporter": "python",
   "pygments_lexer": "ipython3",
   "version": "3.7.4"
  }
 },
 "nbformat": 4,
 "nbformat_minor": 2
}
