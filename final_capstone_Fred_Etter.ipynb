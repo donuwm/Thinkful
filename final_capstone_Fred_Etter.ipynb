{
 "cells": [
  {
   "cell_type": "markdown",
   "metadata": {},
   "source": [
    "# Introduction - Sell in May and Go Away ?  \n",
    "\n",
    "This notebook captures 10 years of daily historical data from ST Louis Federal Reserve's database for the following 5 securities:  \n",
    "\n",
    "- S&P 500  \n",
    "- 10 Year Treaury Bond  \n",
    "- Gold  \n",
    "- Oil  \n",
    "- Bitcoin  \n",
    "\n",
    "The goal is to answer several questions that could help various firms in the financial industry capitalize on patterns in market data.  Another goal is to explain relationships among various securities and provide a better understanding of day to day movements in price.  Accurately predicting daily price change can be profitable for short term trading while predicting medium or long term price change can be very beneficial for wide ranging planning and stretegic purposes for many, many different businesses and industries.  \n",
    "\n",
    "This notebook will follow the outline:  \n",
    "\n",
    "1.  Weather Data  \n",
    "\n",
    "2.  Financial Data  \n",
    "    A.  Question:  Do different days of the week yield significant price change ?  \n",
    "    B.  Question:  Do 'winter' months perform better than 'summer' months ?  \n",
    "    \n",
    "    There has been much debate about wheather the winter months perform better than the summer.  Hence, the title of this notebook.  Many believe that the winter offers better returns overall for equities and one should consider buying equities in early November and sell in early May.  This notebook will answer the question.  \n",
    "\n",
    "    C.  Question:  Does the 3rd Presidential Year yield better results in the 'winter' months vs. 'summer' ?  \n",
    "\n",
    "    Similarly, there is at least one extensive study that makes the point that the winter of the 3rd Presidential Year performs better than any other season.  This notebook axamines this claim.  The link to the study is provided in this section.  \n",
    "    \n",
    "    D.  Question:  Does any month of the S&P 500 over the past 10 years perform significantly better than any other ?  \n",
    "    E.  Question:  Is it possible to build a supervised learning model to predict the daily price change of gold just by using day of the week as the only feature ?  \n",
    "    \n",
    "3.  Weather and Financial Data Combined  \n",
    "    A.  Question:  Does the daily temperature or amount of sunshine in NYC affect the price change of the S&P 500 ?  \n",
    "    B.  Question:  Is it possible to build a supervised learning model that uses the day of the week, month, day of month and weather data to predict daily price change of the S&P 500 ?  \n",
    "    C.  Question:  Is it possible to build an unsupervised learning model to identify relationships among the 5 securites previously analyzed in this study ?  "
   ]
  },
  {
   "cell_type": "markdown",
   "metadata": {},
   "source": [
    "Fist step -- Import necessary modules and libraries."
   ]
  },
  {
   "cell_type": "code",
   "execution_count": 1,
   "metadata": {},
   "outputs": [],
   "source": [
    "import numpy as np\n",
    "import pandas as pd\n",
    "import scipy\n",
    "from datetime import datetime\n",
    "import datetime as dt\n",
    "import matplotlib.pyplot as plt\n",
    "from scipy.stats import ttest_ind\n",
    "from scipy import stats\n",
    "import sklearn\n",
    "from sklearn import preprocessing\n",
    "from sklearn import linear_model\n",
    "import seaborn as sns\n",
    "from sklearn import metrics\n",
    "from sklearn.metrics import confusion_matrix\n",
    "from sklearn.cluster import KMeans\n",
    "from sklearn.preprocessing import normalize\n",
    "from sklearn.cluster import MeanShift, estimate_bandwidth\n",
    "%matplotlib inline"
   ]
  },
  {
   "cell_type": "markdown",
   "metadata": {},
   "source": [
    "# 1.  Weather Data  \n",
    "\n",
    "Import weather data for New York City from meteoblue.com."
   ]
  },
  {
   "cell_type": "code",
   "execution_count": 2,
   "metadata": {},
   "outputs": [
    {
     "data": {
      "text/html": [
       "<div>\n",
       "<style scoped>\n",
       "    .dataframe tbody tr th:only-of-type {\n",
       "        vertical-align: middle;\n",
       "    }\n",
       "\n",
       "    .dataframe tbody tr th {\n",
       "        vertical-align: top;\n",
       "    }\n",
       "\n",
       "    .dataframe thead th {\n",
       "        text-align: right;\n",
       "    }\n",
       "</style>\n",
       "<table border=\"1\" class=\"dataframe\">\n",
       "  <thead>\n",
       "    <tr style=\"text-align: right;\">\n",
       "      <th></th>\n",
       "      <th>Year</th>\n",
       "      <th>Month</th>\n",
       "      <th>Day</th>\n",
       "      <th>Hour</th>\n",
       "      <th>Minute</th>\n",
       "      <th>Sunshine Duration daily sum [sfc]</th>\n",
       "    </tr>\n",
       "  </thead>\n",
       "  <tbody>\n",
       "    <tr>\n",
       "      <th>0</th>\n",
       "      <td>2009</td>\n",
       "      <td>6</td>\n",
       "      <td>25</td>\n",
       "      <td>0</td>\n",
       "      <td>0</td>\n",
       "      <td>-726.93</td>\n",
       "    </tr>\n",
       "    <tr>\n",
       "      <th>1</th>\n",
       "      <td>2009</td>\n",
       "      <td>6</td>\n",
       "      <td>26</td>\n",
       "      <td>0</td>\n",
       "      <td>0</td>\n",
       "      <td>418.70</td>\n",
       "    </tr>\n",
       "    <tr>\n",
       "      <th>2</th>\n",
       "      <td>2009</td>\n",
       "      <td>6</td>\n",
       "      <td>27</td>\n",
       "      <td>0</td>\n",
       "      <td>0</td>\n",
       "      <td>743.23</td>\n",
       "    </tr>\n",
       "    <tr>\n",
       "      <th>3</th>\n",
       "      <td>2009</td>\n",
       "      <td>6</td>\n",
       "      <td>28</td>\n",
       "      <td>0</td>\n",
       "      <td>0</td>\n",
       "      <td>436.08</td>\n",
       "    </tr>\n",
       "    <tr>\n",
       "      <th>4</th>\n",
       "      <td>2009</td>\n",
       "      <td>6</td>\n",
       "      <td>29</td>\n",
       "      <td>0</td>\n",
       "      <td>0</td>\n",
       "      <td>848.28</td>\n",
       "    </tr>\n",
       "  </tbody>\n",
       "</table>\n",
       "</div>"
      ],
      "text/plain": [
       "   Year  Month  Day  Hour  Minute  Sunshine Duration daily sum [sfc]\n",
       "0  2009      6   25     0       0                            -726.93\n",
       "1  2009      6   26     0       0                             418.70\n",
       "2  2009      6   27     0       0                             743.23\n",
       "3  2009      6   28     0       0                             436.08\n",
       "4  2009      6   29     0       0                             848.28"
      ]
     },
     "execution_count": 2,
     "metadata": {},
     "output_type": "execute_result"
    }
   ],
   "source": [
    "# Use pandas read_csv command to import the local csv file\n",
    "dfw = pd.read_csv('nyc_daily.csv', skiprows=11, sep=';')\n",
    "dft = pd.read_csv('temp_and_snow.csv', skiprows=11, sep=';')\n",
    "dfw.head()"
   ]
  },
  {
   "cell_type": "code",
   "execution_count": 3,
   "metadata": {},
   "outputs": [
    {
     "data": {
      "text/html": [
       "<div>\n",
       "<style scoped>\n",
       "    .dataframe tbody tr th:only-of-type {\n",
       "        vertical-align: middle;\n",
       "    }\n",
       "\n",
       "    .dataframe tbody tr th {\n",
       "        vertical-align: top;\n",
       "    }\n",
       "\n",
       "    .dataframe thead th {\n",
       "        text-align: right;\n",
       "    }\n",
       "</style>\n",
       "<table border=\"1\" class=\"dataframe\">\n",
       "  <thead>\n",
       "    <tr style=\"text-align: right;\">\n",
       "      <th></th>\n",
       "      <th>Year</th>\n",
       "      <th>Month</th>\n",
       "      <th>Day</th>\n",
       "      <th>Hour</th>\n",
       "      <th>Minute</th>\n",
       "      <th>Temperature daily mean [2 m above gnd]</th>\n",
       "      <th>Snowfall Amount (high resolution) daily sum [sfc]</th>\n",
       "      <th>Temperature daily max [2 m above gnd]</th>\n",
       "      <th>Temperature daily min [2 m above gnd]</th>\n",
       "    </tr>\n",
       "  </thead>\n",
       "  <tbody>\n",
       "    <tr>\n",
       "      <th>0</th>\n",
       "      <td>2009</td>\n",
       "      <td>6</td>\n",
       "      <td>25</td>\n",
       "      <td>0</td>\n",
       "      <td>0</td>\n",
       "      <td>71.72</td>\n",
       "      <td>0.0</td>\n",
       "      <td>81.24</td>\n",
       "      <td>64.02</td>\n",
       "    </tr>\n",
       "    <tr>\n",
       "      <th>1</th>\n",
       "      <td>2009</td>\n",
       "      <td>6</td>\n",
       "      <td>26</td>\n",
       "      <td>0</td>\n",
       "      <td>0</td>\n",
       "      <td>76.91</td>\n",
       "      <td>0.0</td>\n",
       "      <td>88.19</td>\n",
       "      <td>66.18</td>\n",
       "    </tr>\n",
       "    <tr>\n",
       "      <th>2</th>\n",
       "      <td>2009</td>\n",
       "      <td>6</td>\n",
       "      <td>27</td>\n",
       "      <td>0</td>\n",
       "      <td>0</td>\n",
       "      <td>76.34</td>\n",
       "      <td>0.0</td>\n",
       "      <td>83.91</td>\n",
       "      <td>65.85</td>\n",
       "    </tr>\n",
       "    <tr>\n",
       "      <th>3</th>\n",
       "      <td>2009</td>\n",
       "      <td>6</td>\n",
       "      <td>28</td>\n",
       "      <td>0</td>\n",
       "      <td>0</td>\n",
       "      <td>72.35</td>\n",
       "      <td>0.0</td>\n",
       "      <td>78.78</td>\n",
       "      <td>66.54</td>\n",
       "    </tr>\n",
       "    <tr>\n",
       "      <th>4</th>\n",
       "      <td>2009</td>\n",
       "      <td>6</td>\n",
       "      <td>29</td>\n",
       "      <td>0</td>\n",
       "      <td>0</td>\n",
       "      <td>75.43</td>\n",
       "      <td>0.0</td>\n",
       "      <td>84.19</td>\n",
       "      <td>65.20</td>\n",
       "    </tr>\n",
       "  </tbody>\n",
       "</table>\n",
       "</div>"
      ],
      "text/plain": [
       "   Year  Month  Day  Hour  Minute  Temperature daily mean [2 m above gnd]  \\\n",
       "0  2009      6   25     0       0                                   71.72   \n",
       "1  2009      6   26     0       0                                   76.91   \n",
       "2  2009      6   27     0       0                                   76.34   \n",
       "3  2009      6   28     0       0                                   72.35   \n",
       "4  2009      6   29     0       0                                   75.43   \n",
       "\n",
       "   Snowfall Amount (high resolution) daily sum [sfc]  \\\n",
       "0                                                0.0   \n",
       "1                                                0.0   \n",
       "2                                                0.0   \n",
       "3                                                0.0   \n",
       "4                                                0.0   \n",
       "\n",
       "   Temperature daily max [2 m above gnd]  \\\n",
       "0                                  81.24   \n",
       "1                                  88.19   \n",
       "2                                  83.91   \n",
       "3                                  78.78   \n",
       "4                                  84.19   \n",
       "\n",
       "   Temperature daily min [2 m above gnd]  \n",
       "0                                  64.02  \n",
       "1                                  66.18  \n",
       "2                                  65.85  \n",
       "3                                  66.54  \n",
       "4                                  65.20  "
      ]
     },
     "execution_count": 3,
     "metadata": {},
     "output_type": "execute_result"
    }
   ],
   "source": [
    "dft.head()"
   ]
  },
  {
   "cell_type": "markdown",
   "metadata": {},
   "source": [
    "Drop some of the data not needed for now; rename a column and drop the first (and strange) negative number."
   ]
  },
  {
   "cell_type": "code",
   "execution_count": 4,
   "metadata": {},
   "outputs": [
    {
     "name": "stdout",
     "output_type": "stream",
     "text": [
      "Index(['Year', 'Month', 'Day', 'Sun'], dtype='object')\n",
      "Index(['Year', 'Month', 'Day', 'avg_temp'], dtype='object')\n"
     ]
    }
   ],
   "source": [
    "# drop the Hour and Minute columns\n",
    "dfw.drop(['Hour', 'Minute'], axis=1, inplace=True)\n",
    "dft.drop(['Hour', 'Minute'], axis=1, inplace=True)\n",
    "\n",
    "# change long named column to just 'Sun'\n",
    "dfw.columns = ['Year', 'Month', 'Day', 'Sun']\n",
    "dft.columns = ['Year', 'Month', 'Day', 'avg_temp', 'snow', 'max', 'min']\n",
    "\n",
    "# Convert negative numbers to zero\n",
    "dfw[dfw < 0] = 0\n",
    "dft[dft < 0] = 0\n",
    "\n",
    "# drop 'snow', 'max', 'min' for now\n",
    "dft.drop(['snow', 'max', 'min'], axis=1, inplace=True)\n",
    "\n",
    "print(dfw.columns)\n",
    "print(dft.columns)"
   ]
  },
  {
   "cell_type": "markdown",
   "metadata": {},
   "source": [
    "Next, look at the first five lines of the dataframe."
   ]
  },
  {
   "cell_type": "code",
   "execution_count": 5,
   "metadata": {},
   "outputs": [
    {
     "data": {
      "text/html": [
       "<div>\n",
       "<style scoped>\n",
       "    .dataframe tbody tr th:only-of-type {\n",
       "        vertical-align: middle;\n",
       "    }\n",
       "\n",
       "    .dataframe tbody tr th {\n",
       "        vertical-align: top;\n",
       "    }\n",
       "\n",
       "    .dataframe thead th {\n",
       "        text-align: right;\n",
       "    }\n",
       "</style>\n",
       "<table border=\"1\" class=\"dataframe\">\n",
       "  <thead>\n",
       "    <tr style=\"text-align: right;\">\n",
       "      <th></th>\n",
       "      <th>Year</th>\n",
       "      <th>Month</th>\n",
       "      <th>Day</th>\n",
       "      <th>Sun</th>\n",
       "    </tr>\n",
       "  </thead>\n",
       "  <tbody>\n",
       "    <tr>\n",
       "      <th>0</th>\n",
       "      <td>2009</td>\n",
       "      <td>6</td>\n",
       "      <td>25</td>\n",
       "      <td>0.00</td>\n",
       "    </tr>\n",
       "    <tr>\n",
       "      <th>1</th>\n",
       "      <td>2009</td>\n",
       "      <td>6</td>\n",
       "      <td>26</td>\n",
       "      <td>418.70</td>\n",
       "    </tr>\n",
       "    <tr>\n",
       "      <th>2</th>\n",
       "      <td>2009</td>\n",
       "      <td>6</td>\n",
       "      <td>27</td>\n",
       "      <td>743.23</td>\n",
       "    </tr>\n",
       "    <tr>\n",
       "      <th>3</th>\n",
       "      <td>2009</td>\n",
       "      <td>6</td>\n",
       "      <td>28</td>\n",
       "      <td>436.08</td>\n",
       "    </tr>\n",
       "    <tr>\n",
       "      <th>4</th>\n",
       "      <td>2009</td>\n",
       "      <td>6</td>\n",
       "      <td>29</td>\n",
       "      <td>848.28</td>\n",
       "    </tr>\n",
       "  </tbody>\n",
       "</table>\n",
       "</div>"
      ],
      "text/plain": [
       "   Year  Month  Day     Sun\n",
       "0  2009      6   25    0.00\n",
       "1  2009      6   26  418.70\n",
       "2  2009      6   27  743.23\n",
       "3  2009      6   28  436.08\n",
       "4  2009      6   29  848.28"
      ]
     },
     "execution_count": 5,
     "metadata": {},
     "output_type": "execute_result"
    }
   ],
   "source": [
    "dfw.head()"
   ]
  },
  {
   "cell_type": "markdown",
   "metadata": {},
   "source": [
    "Set up the data to plot the number of minutes of sun per day over the entire time horizon."
   ]
  },
  {
   "cell_type": "code",
   "execution_count": 6,
   "metadata": {},
   "outputs": [],
   "source": [
    "dfw_plot = dfw\n",
    "dfw_plot['dt'] = pd.to_datetime((dfw.Year*10000+dfw.Month*100+dfw.Day).apply(str),format='%Y%m%d')\n",
    "dfw_plot.columns = ['Year', 'Month', 'Day', 'Sun', 'dt']\n",
    "dfw_plot.index = pd.to_datetime(dfw_plot.dt)\n",
    "dfw_plot.drop(['Year'], axis=1, inplace=True)\n",
    "dfw_plot.drop(['Month'], axis=1, inplace=True)\n",
    "dfw_plot.drop(['Day'], axis=1, inplace=True)\n",
    "dfw_plot.drop(['dt'], axis=1, inplace=True)\n",
    "\n",
    "dft['dt'] = pd.to_datetime((dft.Year*10000+dft.Month*100+dft.Day).apply(str),format='%Y%m%d')\n",
    "dft.columns = ['Year', 'Month', 'Day', 'avg_temp', 'dt']\n",
    "dft.index = pd.to_datetime(dft.dt)\n",
    "dft.drop(['Year'], axis=1, inplace=True)\n",
    "dft.drop(['Month'], axis=1, inplace=True)\n",
    "dft.drop(['Day'], axis=1, inplace=True)\n",
    "dft.drop(['dt'], axis=1, inplace=True)"
   ]
  },
  {
   "cell_type": "markdown",
   "metadata": {},
   "source": [
    "The index has been changed to a date-time object.  Next, the plot shows the amount of sunshine in minutes for New York City."
   ]
  },
  {
   "cell_type": "code",
   "execution_count": 7,
   "metadata": {},
   "outputs": [
    {
     "data": {
      "image/png": "[encoded data removed]",
      "text/plain": [
       "<Figure size 1008x432 with 1 Axes>"
      ]
     },
     "metadata": {
      "needs_background": "light"
     },
     "output_type": "display_data"
    }
   ],
   "source": [
    "dfw_plot.plot(figsize=(14, 6))\n",
    "plt.title('Minutes of Sunshine Per Day in New York City')\n",
    "plt.ylabel('Minutes')\n",
    "plt.show()"
   ]
  },
  {
   "cell_type": "markdown",
   "metadata": {},
   "source": [
    "The seasonality is obvious from the plot above.  Many more minutes of sunshine in the summer months than in the winter.  Does this have any affect on trading activity or price change in the equtiy markets ?  New York City was chosen because it is a financial hub, wall street is there, the largest banks and hedge funds are there, and it's a generally a massively influencial city in the world of Finance.  "
   ]
  },
  {
   "cell_type": "markdown",
   "metadata": {},
   "source": [
    "# 2.  Financial Data  \n",
    "\n",
    "First, read in all of the data from FRED in csv format.  Then convert the price column to a number, and remove NaN values."
   ]
  },
  {
   "cell_type": "code",
   "execution_count": 8,
   "metadata": {},
   "outputs": [],
   "source": [
    "# read in all of the local csv files into pandas:\n",
    "df = pd.read_csv('SP500.csv')\n",
    "df_10 = pd.read_csv('DGS10.csv')\n",
    "df_10_10 = pd.read_csv('DGS10_10.csv')\n",
    "df_gold = pd.read_csv('gold.csv')\n",
    "\n",
    "# copy the gold dataframe for later use:\n",
    "df_goldc = df_gold.copy()\n",
    "\n",
    "df_oil = pd.read_csv('oil.csv')\n",
    "df_btc = pd.read_csv('btc.csv')\n",
    "\n",
    "\n",
    "# Convert price to a number, with coersion to throw NA's if conversion not possible\n",
    "df['price'] = pd.to_numeric(df.SP500, errors='coerce')\n",
    "df_10['price'] = pd.to_numeric(df_10.DGS10, errors='coerce')\n",
    "df_10_10['price'] = pd.to_numeric(df_10_10.DGS10, errors='coerce')\n",
    "df_gold['price'] = pd.to_numeric(df_gold.GOLDAMGBD229NLBM, errors='coerce')\n",
    "df_oil['price'] = pd.to_numeric(df_oil.DCOILWTICO, errors='coerce')\n",
    "df_btc['price'] = pd.to_numeric(df_btc.CBBTCUSD, errors='coerce')\n",
    "\n",
    "\n",
    "# Remove NA's\n",
    "df.dropna(inplace=True)\n",
    "df_10.dropna(inplace=True)\n",
    "df_10_10.dropna(inplace=True)\n",
    "df_gold.dropna(inplace=True)\n",
    "df_oil.dropna(inplace=True)\n",
    "df_btc.dropna(inplace=True)"
   ]
  },
  {
   "cell_type": "markdown",
   "metadata": {},
   "source": [
    "The next cell looks at the first 5 lines of the S&P 500 data."
   ]
  },
  {
   "cell_type": "code",
   "execution_count": 9,
   "metadata": {},
   "outputs": [
    {
     "data": {
      "text/html": [
       "<div>\n",
       "<style scoped>\n",
       "    .dataframe tbody tr th:only-of-type {\n",
       "        vertical-align: middle;\n",
       "    }\n",
       "\n",
       "    .dataframe tbody tr th {\n",
       "        vertical-align: top;\n",
       "    }\n",
       "\n",
       "    .dataframe thead th {\n",
       "        text-align: right;\n",
       "    }\n",
       "</style>\n",
       "<table border=\"1\" class=\"dataframe\">\n",
       "  <thead>\n",
       "    <tr style=\"text-align: right;\">\n",
       "      <th></th>\n",
       "      <th>DATE</th>\n",
       "      <th>SP500</th>\n",
       "      <th>price</th>\n",
       "    </tr>\n",
       "  </thead>\n",
       "  <tbody>\n",
       "    <tr>\n",
       "      <th>0</th>\n",
       "      <td>2009-06-26</td>\n",
       "      <td>918.90</td>\n",
       "      <td>918.90</td>\n",
       "    </tr>\n",
       "    <tr>\n",
       "      <th>1</th>\n",
       "      <td>2009-06-29</td>\n",
       "      <td>927.23</td>\n",
       "      <td>927.23</td>\n",
       "    </tr>\n",
       "    <tr>\n",
       "      <th>2</th>\n",
       "      <td>2009-06-30</td>\n",
       "      <td>919.32</td>\n",
       "      <td>919.32</td>\n",
       "    </tr>\n",
       "    <tr>\n",
       "      <th>3</th>\n",
       "      <td>2009-07-01</td>\n",
       "      <td>923.33</td>\n",
       "      <td>923.33</td>\n",
       "    </tr>\n",
       "    <tr>\n",
       "      <th>4</th>\n",
       "      <td>2009-07-02</td>\n",
       "      <td>896.42</td>\n",
       "      <td>896.42</td>\n",
       "    </tr>\n",
       "  </tbody>\n",
       "</table>\n",
       "</div>"
      ],
      "text/plain": [
       "         DATE   SP500   price\n",
       "0  2009-06-26  918.90  918.90\n",
       "1  2009-06-29  927.23  927.23\n",
       "2  2009-06-30  919.32  919.32\n",
       "3  2009-07-01  923.33  923.33\n",
       "4  2009-07-02  896.42  896.42"
      ]
     },
     "execution_count": 9,
     "metadata": {},
     "output_type": "execute_result"
    }
   ],
   "source": [
    "df.head()"
   ]
  },
  {
   "cell_type": "markdown",
   "metadata": {},
   "source": [
    "The next plot, shows the graph of the S&P 500 data as an example.  "
   ]
  },
  {
   "cell_type": "code",
   "execution_count": 10,
   "metadata": {},
   "outputs": [
    {
     "data": {
      "image/png": "[encoded data removed]",
      "text/plain": [
       "<Figure size 864x432 with 1 Axes>"
      ]
     },
     "metadata": {
      "needs_background": "light"
     },
     "output_type": "display_data"
    }
   ],
   "source": [
    "df.index = pd.to_datetime(df.DATE)\n",
    "df.plot(figsize=(12, 6))\n",
    "plt.title('S&P 500 Time Series')\n",
    "plt.show()"
   ]
  },
  {
   "cell_type": "markdown",
   "metadata": {},
   "source": [
    "As seen in the plot above, in the middle of 2009, the price was about 900 and then rises to the value of about 3000 by the end of June, 2019.  The next plot shows the 10 Yr Bond prices from the mid-1960's to June, 2019."
   ]
  },
  {
   "cell_type": "code",
   "execution_count": 11,
   "metadata": {},
   "outputs": [
    {
     "data": {
      "image/png": "[encoded data removed]",
      "text/plain": [
       "<Figure size 864x432 with 1 Axes>"
      ]
     },
     "metadata": {
      "needs_background": "light"
     },
     "output_type": "display_data"
    }
   ],
   "source": [
    "df_10.index = pd.to_datetime(df_10.DATE)\n",
    "df_10.plot(figsize=(12, 6))\n",
    "plt.title('10 Yr Bond Time Series')\n",
    "plt.show()"
   ]
  },
  {
   "cell_type": "markdown",
   "metadata": {},
   "source": [
    "The next step separates the weekday, day of month, month and year from the date object for all 5 securities studied in this notebook:  \n",
    "- S&P 500  \n",
    "- 10 Yr Bond \n",
    "- Gold  \n",
    "- Oil  \n",
    "- Bitcoin"
   ]
  },
  {
   "cell_type": "code",
   "execution_count": 12,
   "metadata": {},
   "outputs": [],
   "source": [
    "# For S&P 500\n",
    "df['date_time'] = pd.to_datetime(df['DATE'])\n",
    "\n",
    "df['weekday'] = df.date_time.dt.weekday\n",
    "df['day'] = df.date_time.dt.day\n",
    "df['month'] = df.date_time.dt.month\n",
    "df['year'] = df.date_time.dt.year\n",
    "\n",
    "# For 10 Yr Bond\n",
    "df_10['date_time'] = pd.to_datetime(df_10['DATE'])\n",
    "\n",
    "df_10['weekday'] = df_10.date_time.dt.weekday\n",
    "df_10['day'] = df_10.date_time.dt.day\n",
    "df_10['month'] = df_10.date_time.dt.month\n",
    "df_10['year'] = df_10.date_time.dt.year\n",
    "\n",
    "# For 10 Yr Bond (last 10 years only)\n",
    "df_10_10['date_time'] = pd.to_datetime(df_10_10['DATE'])\n",
    "\n",
    "df_10_10['weekday'] = df_10_10.date_time.dt.weekday\n",
    "df_10_10['day'] = df_10_10.date_time.dt.day\n",
    "df_10_10['month'] = df_10_10.date_time.dt.month\n",
    "df_10_10['year'] = df_10_10.date_time.dt.year\n",
    "\n",
    "# For gold (last 10 years only)\n",
    "df_gold['date_time'] = pd.to_datetime(df_gold['DATE'])\n",
    "\n",
    "df_gold['weekday'] = df_gold.date_time.dt.weekday\n",
    "df_gold['day'] = df_gold.date_time.dt.day\n",
    "df_gold['month'] = df_gold.date_time.dt.month\n",
    "df_gold['year'] = df_gold.date_time.dt.year\n",
    "\n",
    "# For oil (last 10 years only)\n",
    "df_oil['date_time'] = pd.to_datetime(df_oil['DATE'])\n",
    "\n",
    "df_oil['weekday'] = df_oil.date_time.dt.weekday\n",
    "df_oil['day'] = df_oil.date_time.dt.day\n",
    "df_oil['month'] = df_oil.date_time.dt.month\n",
    "df_oil['year'] = df_oil.date_time.dt.year\n",
    "\n",
    "# For bitcoin\n",
    "df_btc['date_time'] = pd.to_datetime(df_btc['DATE'])\n",
    "\n",
    "df_btc['weekday'] = df_btc.date_time.dt.weekday\n",
    "df_btc['day'] = df_btc.date_time.dt.day\n",
    "df_btc['month'] = df_btc.date_time.dt.month\n",
    "df_btc['year'] = df_btc.date_time.dt.year"
   ]
  },
  {
   "cell_type": "markdown",
   "metadata": {},
   "source": [
    "0 = Monday  \n",
    "1 = Tuesday  \n",
    "2 = Wednesday  \n",
    "3 = Thursday  \n",
    "4 = Friday  \n",
    "\n",
    "Prices are the closing price for the day listed.  The next cell shows the last few lines of the S&P 500 dataframe."
   ]
  },
  {
   "cell_type": "code",
   "execution_count": 13,
   "metadata": {},
   "outputs": [
    {
     "data": {
      "text/html": [
       "<div>\n",
       "<style scoped>\n",
       "    .dataframe tbody tr th:only-of-type {\n",
       "        vertical-align: middle;\n",
       "    }\n",
       "\n",
       "    .dataframe tbody tr th {\n",
       "        vertical-align: top;\n",
       "    }\n",
       "\n",
       "    .dataframe thead th {\n",
       "        text-align: right;\n",
       "    }\n",
       "</style>\n",
       "<table border=\"1\" class=\"dataframe\">\n",
       "  <thead>\n",
       "    <tr style=\"text-align: right;\">\n",
       "      <th></th>\n",
       "      <th>DATE</th>\n",
       "      <th>SP500</th>\n",
       "      <th>price</th>\n",
       "      <th>date_time</th>\n",
       "      <th>weekday</th>\n",
       "      <th>day</th>\n",
       "      <th>month</th>\n",
       "      <th>year</th>\n",
       "    </tr>\n",
       "    <tr>\n",
       "      <th>DATE</th>\n",
       "      <th></th>\n",
       "      <th></th>\n",
       "      <th></th>\n",
       "      <th></th>\n",
       "      <th></th>\n",
       "      <th></th>\n",
       "      <th></th>\n",
       "      <th></th>\n",
       "    </tr>\n",
       "  </thead>\n",
       "  <tbody>\n",
       "    <tr>\n",
       "      <th>2019-06-19</th>\n",
       "      <td>2019-06-19</td>\n",
       "      <td>2926.46</td>\n",
       "      <td>2926.46</td>\n",
       "      <td>2019-06-19</td>\n",
       "      <td>2</td>\n",
       "      <td>19</td>\n",
       "      <td>6</td>\n",
       "      <td>2019</td>\n",
       "    </tr>\n",
       "    <tr>\n",
       "      <th>2019-06-20</th>\n",
       "      <td>2019-06-20</td>\n",
       "      <td>2954.18</td>\n",
       "      <td>2954.18</td>\n",
       "      <td>2019-06-20</td>\n",
       "      <td>3</td>\n",
       "      <td>20</td>\n",
       "      <td>6</td>\n",
       "      <td>2019</td>\n",
       "    </tr>\n",
       "    <tr>\n",
       "      <th>2019-06-21</th>\n",
       "      <td>2019-06-21</td>\n",
       "      <td>2950.46</td>\n",
       "      <td>2950.46</td>\n",
       "      <td>2019-06-21</td>\n",
       "      <td>4</td>\n",
       "      <td>21</td>\n",
       "      <td>6</td>\n",
       "      <td>2019</td>\n",
       "    </tr>\n",
       "    <tr>\n",
       "      <th>2019-06-24</th>\n",
       "      <td>2019-06-24</td>\n",
       "      <td>2945.35</td>\n",
       "      <td>2945.35</td>\n",
       "      <td>2019-06-24</td>\n",
       "      <td>0</td>\n",
       "      <td>24</td>\n",
       "      <td>6</td>\n",
       "      <td>2019</td>\n",
       "    </tr>\n",
       "    <tr>\n",
       "      <th>2019-06-25</th>\n",
       "      <td>2019-06-25</td>\n",
       "      <td>2917.38</td>\n",
       "      <td>2917.38</td>\n",
       "      <td>2019-06-25</td>\n",
       "      <td>1</td>\n",
       "      <td>25</td>\n",
       "      <td>6</td>\n",
       "      <td>2019</td>\n",
       "    </tr>\n",
       "  </tbody>\n",
       "</table>\n",
       "</div>"
      ],
      "text/plain": [
       "                  DATE    SP500    price  date_time  weekday  day  month  year\n",
       "DATE                                                                          \n",
       "2019-06-19  2019-06-19  2926.46  2926.46 2019-06-19        2   19      6  2019\n",
       "2019-06-20  2019-06-20  2954.18  2954.18 2019-06-20        3   20      6  2019\n",
       "2019-06-21  2019-06-21  2950.46  2950.46 2019-06-21        4   21      6  2019\n",
       "2019-06-24  2019-06-24  2945.35  2945.35 2019-06-24        0   24      6  2019\n",
       "2019-06-25  2019-06-25  2917.38  2917.38 2019-06-25        1   25      6  2019"
      ]
     },
     "execution_count": 13,
     "metadata": {},
     "output_type": "execute_result"
    }
   ],
   "source": [
    "df.tail()"
   ]
  },
  {
   "cell_type": "markdown",
   "metadata": {},
   "source": [
    "This next step creates a new column in the dataframe that represents the change in price per day - for all 5 securities."
   ]
  },
  {
   "cell_type": "code",
   "execution_count": 14,
   "metadata": {},
   "outputs": [],
   "source": [
    "# add a column for the change in price each day\n",
    "df['change'] = df.price - df.price.shift()\n",
    "df_10['change'] = df_10.price - df_10.price.shift()\n",
    "df_10_10['change'] = df_10_10.price - df_10_10.price.shift()\n",
    "df_gold['change'] = df_gold.price - df_gold.price.shift()\n",
    "df_goldc['change_g'] = df_gold.price - df_gold.price.shift()\n",
    "df_oil['change'] = df_oil.price - df_oil.price.shift()\n",
    "df_btc['change'] = df_btc.price - df_btc.price.shift()"
   ]
  },
  {
   "cell_type": "markdown",
   "metadata": {},
   "source": [
    "Show the new dataframe for S&P 500 with the 'change' column:"
   ]
  },
  {
   "cell_type": "code",
   "execution_count": 15,
   "metadata": {},
   "outputs": [
    {
     "data": {
      "text/html": [
       "<div>\n",
       "<style scoped>\n",
       "    .dataframe tbody tr th:only-of-type {\n",
       "        vertical-align: middle;\n",
       "    }\n",
       "\n",
       "    .dataframe tbody tr th {\n",
       "        vertical-align: top;\n",
       "    }\n",
       "\n",
       "    .dataframe thead th {\n",
       "        text-align: right;\n",
       "    }\n",
       "</style>\n",
       "<table border=\"1\" class=\"dataframe\">\n",
       "  <thead>\n",
       "    <tr style=\"text-align: right;\">\n",
       "      <th></th>\n",
       "      <th>DATE</th>\n",
       "      <th>SP500</th>\n",
       "      <th>price</th>\n",
       "      <th>date_time</th>\n",
       "      <th>weekday</th>\n",
       "      <th>day</th>\n",
       "      <th>month</th>\n",
       "      <th>year</th>\n",
       "      <th>change</th>\n",
       "    </tr>\n",
       "    <tr>\n",
       "      <th>DATE</th>\n",
       "      <th></th>\n",
       "      <th></th>\n",
       "      <th></th>\n",
       "      <th></th>\n",
       "      <th></th>\n",
       "      <th></th>\n",
       "      <th></th>\n",
       "      <th></th>\n",
       "      <th></th>\n",
       "    </tr>\n",
       "  </thead>\n",
       "  <tbody>\n",
       "    <tr>\n",
       "      <th>2019-06-19</th>\n",
       "      <td>2019-06-19</td>\n",
       "      <td>2926.46</td>\n",
       "      <td>2926.46</td>\n",
       "      <td>2019-06-19</td>\n",
       "      <td>2</td>\n",
       "      <td>19</td>\n",
       "      <td>6</td>\n",
       "      <td>2019</td>\n",
       "      <td>8.71</td>\n",
       "    </tr>\n",
       "    <tr>\n",
       "      <th>2019-06-20</th>\n",
       "      <td>2019-06-20</td>\n",
       "      <td>2954.18</td>\n",
       "      <td>2954.18</td>\n",
       "      <td>2019-06-20</td>\n",
       "      <td>3</td>\n",
       "      <td>20</td>\n",
       "      <td>6</td>\n",
       "      <td>2019</td>\n",
       "      <td>27.72</td>\n",
       "    </tr>\n",
       "    <tr>\n",
       "      <th>2019-06-21</th>\n",
       "      <td>2019-06-21</td>\n",
       "      <td>2950.46</td>\n",
       "      <td>2950.46</td>\n",
       "      <td>2019-06-21</td>\n",
       "      <td>4</td>\n",
       "      <td>21</td>\n",
       "      <td>6</td>\n",
       "      <td>2019</td>\n",
       "      <td>-3.72</td>\n",
       "    </tr>\n",
       "    <tr>\n",
       "      <th>2019-06-24</th>\n",
       "      <td>2019-06-24</td>\n",
       "      <td>2945.35</td>\n",
       "      <td>2945.35</td>\n",
       "      <td>2019-06-24</td>\n",
       "      <td>0</td>\n",
       "      <td>24</td>\n",
       "      <td>6</td>\n",
       "      <td>2019</td>\n",
       "      <td>-5.11</td>\n",
       "    </tr>\n",
       "    <tr>\n",
       "      <th>2019-06-25</th>\n",
       "      <td>2019-06-25</td>\n",
       "      <td>2917.38</td>\n",
       "      <td>2917.38</td>\n",
       "      <td>2019-06-25</td>\n",
       "      <td>1</td>\n",
       "      <td>25</td>\n",
       "      <td>6</td>\n",
       "      <td>2019</td>\n",
       "      <td>-27.97</td>\n",
       "    </tr>\n",
       "  </tbody>\n",
       "</table>\n",
       "</div>"
      ],
      "text/plain": [
       "                  DATE    SP500    price  date_time  weekday  day  month  \\\n",
       "DATE                                                                       \n",
       "2019-06-19  2019-06-19  2926.46  2926.46 2019-06-19        2   19      6   \n",
       "2019-06-20  2019-06-20  2954.18  2954.18 2019-06-20        3   20      6   \n",
       "2019-06-21  2019-06-21  2950.46  2950.46 2019-06-21        4   21      6   \n",
       "2019-06-24  2019-06-24  2945.35  2945.35 2019-06-24        0   24      6   \n",
       "2019-06-25  2019-06-25  2917.38  2917.38 2019-06-25        1   25      6   \n",
       "\n",
       "            year  change  \n",
       "DATE                      \n",
       "2019-06-19  2019    8.71  \n",
       "2019-06-20  2019   27.72  \n",
       "2019-06-21  2019   -3.72  \n",
       "2019-06-24  2019   -5.11  \n",
       "2019-06-25  2019  -27.97  "
      ]
     },
     "execution_count": 15,
     "metadata": {},
     "output_type": "execute_result"
    }
   ],
   "source": [
    "df.tail()"
   ]
  },
  {
   "cell_type": "markdown",
   "metadata": {},
   "source": [
    "Print the overall mean of the price change per day over the 10 year period for the S&P 500.  This gives a benchmark for camparing other metrics later."
   ]
  },
  {
   "cell_type": "code",
   "execution_count": 16,
   "metadata": {},
   "outputs": [
    {
     "name": "stdout",
     "output_type": "stream",
     "text": [
      "0.7946242544731611\n"
     ]
    }
   ],
   "source": [
    "# print mean of 'change' column\n",
    "print(df.change.mean())"
   ]
  },
  {
   "cell_type": "markdown",
   "metadata": {},
   "source": [
    "### 2. A.  Question:  Do different days of the week yield significant price change ?  \n",
    "\n",
    "**Answer:**  Yes, for the 10 Yr Bond (last 50 years and last 10 years), Gold and Bitcoin.  No, for S&P 500 and Oil.  The security with the most significant difference over just the past 10 years was **gold**.  The data and steps taken to determine follow:  first, sum the daily price changes for each security.\n"
   ]
  },
  {
   "cell_type": "code",
   "execution_count": 17,
   "metadata": {},
   "outputs": [
    {
     "name": "stdout",
     "output_type": "stream",
     "text": [
      "101.3599999999933\n",
      "641.9000000000053\n",
      "601.8699999999991\n",
      "320.37999999999533\n",
      "332.9700000000071\n"
     ]
    }
   ],
   "source": [
    "# For S&P 500\n",
    "print(df.loc[df['weekday'] == 0, 'change'].sum())\n",
    "print(df.loc[df['weekday'] == 1, 'change'].sum())\n",
    "print(df.loc[df['weekday'] == 2, 'change'].sum())\n",
    "print(df.loc[df['weekday'] == 3, 'change'].sum())\n",
    "print(df.loc[df['weekday'] == 4, 'change'].sum())"
   ]
  },
  {
   "cell_type": "markdown",
   "metadata": {},
   "source": [
    "So, this means that on Mondays, the total change in the value of the S&P 500 index was about +100.  The total change on all Tuesdays was about +640."
   ]
  },
  {
   "cell_type": "code",
   "execution_count": 18,
   "metadata": {},
   "outputs": [
    {
     "name": "stdout",
     "output_type": "stream",
     "text": [
      "13.210000000000022\n",
      "-6.320000000000043\n",
      "1.0500000000000325\n",
      "-2.120000000000004\n",
      "-7.880000000000006\n"
     ]
    }
   ],
   "source": [
    "# For 10 Yr Bond\n",
    "print(df_10.loc[df_10['weekday'] == 0, 'change'].sum())\n",
    "print(df_10.loc[df_10['weekday'] == 1, 'change'].sum())\n",
    "print(df_10.loc[df_10['weekday'] == 2, 'change'].sum())\n",
    "print(df_10.loc[df_10['weekday'] == 3, 'change'].sum())\n",
    "print(df_10.loc[df_10['weekday'] == 4, 'change'].sum())"
   ]
  },
  {
   "cell_type": "code",
   "execution_count": 19,
   "metadata": {},
   "outputs": [
    {
     "name": "stdout",
     "output_type": "stream",
     "text": [
      "-0.2999999999999974\n",
      "-0.09999999999999942\n",
      "1.7399999999999969\n",
      "-0.8699999999999986\n",
      "-1.9900000000000015\n"
     ]
    }
   ],
   "source": [
    "# For 10 Yr Bond (just last 10 years)\n",
    "print(df_10_10.loc[df_10_10['weekday'] == 0, 'change'].sum())\n",
    "print(df_10_10.loc[df_10_10['weekday'] == 1, 'change'].sum())\n",
    "print(df_10_10.loc[df_10_10['weekday'] == 2, 'change'].sum())\n",
    "print(df_10_10.loc[df_10_10['weekday'] == 3, 'change'].sum())\n",
    "print(df_10_10.loc[df_10_10['weekday'] == 4, 'change'].sum())"
   ]
  },
  {
   "cell_type": "code",
   "execution_count": 20,
   "metadata": {},
   "outputs": [
    {
     "name": "stdout",
     "output_type": "stream",
     "text": [
      "538.5429999999996\n",
      "415.8369999999994\n",
      "-40.4830000000004\n",
      "-459.0160000000003\n",
      "93.1730000000016\n",
      "0\n",
      "0\n"
     ]
    }
   ],
   "source": [
    "# For gold (just last 10 years)\n",
    "print(df_gold.loc[df_gold['weekday'] == 0, 'change'].sum())\n",
    "print(df_gold.loc[df_gold['weekday'] == 1, 'change'].sum())\n",
    "print(df_gold.loc[df_gold['weekday'] == 2, 'change'].sum())\n",
    "print(df_gold.loc[df_gold['weekday'] == 3, 'change'].sum())\n",
    "print(df_gold.loc[df_gold['weekday'] == 4, 'change'].sum())\n",
    "\n",
    "# count the number of days where there was no change.\n",
    "print(df_gold.loc[df_gold['change'] == 0.0, 'change'].count())\n",
    "print(df_gold.loc[df_gold['change'] == 0.000, 'change'].count())"
   ]
  },
  {
   "cell_type": "code",
   "execution_count": 21,
   "metadata": {},
   "outputs": [
    {
     "name": "stdout",
     "output_type": "stream",
     "text": [
      "-21.540000000000035\n",
      "31.520000000000003\n",
      "23.049999999999805\n",
      "-30.409999999999826\n",
      "-13.029999999999951\n"
     ]
    }
   ],
   "source": [
    "# For oil (just last 10 years)\n",
    "print(df_oil.loc[df_oil['weekday'] == 0, 'change'].sum())\n",
    "print(df_oil.loc[df_oil['weekday'] == 1, 'change'].sum())\n",
    "print(df_oil.loc[df_oil['weekday'] == 2, 'change'].sum())\n",
    "print(df_oil.loc[df_oil['weekday'] == 3, 'change'].sum())\n",
    "print(df_oil.loc[df_oil['weekday'] == 4, 'change'].sum())"
   ]
  },
  {
   "cell_type": "code",
   "execution_count": 22,
   "metadata": {},
   "outputs": [
    {
     "name": "stdout",
     "output_type": "stream",
     "text": [
      "1421.7199999999955\n",
      "978.4300000000011\n",
      "-338.36000000000377\n",
      "-1088.6800000000028\n",
      "5006.700000000002\n",
      "6821.430000000004\n",
      "-853.5099999999965\n"
     ]
    }
   ],
   "source": [
    "# For bitcoin\n",
    "print(df_btc.loc[df_btc['weekday'] == 0, 'change'].sum())\n",
    "print(df_btc.loc[df_btc['weekday'] == 1, 'change'].sum())\n",
    "print(df_btc.loc[df_btc['weekday'] == 2, 'change'].sum())\n",
    "print(df_btc.loc[df_btc['weekday'] == 3, 'change'].sum())\n",
    "print(df_btc.loc[df_btc['weekday'] == 4, 'change'].sum())\n",
    "print(df_btc.loc[df_btc['weekday'] == 5, 'change'].sum())\n",
    "print(df_btc.loc[df_btc['weekday'] == 6, 'change'].sum())"
   ]
  },
  {
   "cell_type": "markdown",
   "metadata": {},
   "source": [
    "The next step is to use a t-test to calculate the p-value of the two days of the week that had the biggest price difference.  In order to do this, create the dataframe for each security with new columns for each trading day of the week.  That way, the entire distribution of the data is captured when running the t-test."
   ]
  },
  {
   "cell_type": "code",
   "execution_count": 23,
   "metadata": {},
   "outputs": [],
   "source": [
    "# For S&P 500\n",
    "df['Monday'] = df.change.where(df.weekday == 0)\n",
    "df['Tuesday'] = df.change.where(df.weekday == 1)\n",
    "df['Wednesday'] = df.change.where(df.weekday == 2)\n",
    "df['Thursday'] = df.change.where(df.weekday == 3)\n",
    "df['Friday'] = df.change.where(df.weekday == 4)\n",
    "\n",
    "# For 10 Yr Bond\n",
    "df_10['Monday'] = df_10.change.where(df_10.weekday == 0)\n",
    "df_10['Tuesday'] = df_10.change.where(df_10.weekday == 1)\n",
    "df_10['Wednesday'] = df_10.change.where(df_10.weekday == 2)\n",
    "df_10['Thursday'] = df_10.change.where(df_10.weekday == 3)\n",
    "df_10['Friday'] = df_10.change.where(df_10.weekday == 4)\n",
    "\n",
    "# For 10 Yr Bond (last 10 years)\n",
    "df_10_10['Monday'] = df_10_10.change.where(df_10_10.weekday == 0)\n",
    "df_10_10['Tuesday'] = df_10_10.change.where(df_10_10.weekday == 1)\n",
    "df_10_10['Wednesday'] = df_10_10.change.where(df_10_10.weekday == 2)\n",
    "df_10_10['Thursday'] = df_10_10.change.where(df_10_10.weekday == 3)\n",
    "df_10_10['Friday'] = df_10_10.change.where(df_10_10.weekday == 4)\n",
    "\n",
    "# For gold (last 10 years)\n",
    "df_gold['Monday'] = df_gold.change.where(df_gold.weekday == 0)\n",
    "df_gold['Tuesday'] = df_gold.change.where(df_gold.weekday == 1)\n",
    "df_gold['Wednesday'] = df_gold.change.where(df_gold.weekday == 2)\n",
    "df_gold['Thursday'] = df_gold.change.where(df_gold.weekday == 3)\n",
    "df_gold['Friday'] = df_gold.change.where(df_gold.weekday == 4)  \n",
    "\n",
    "# For oil (last 10 years)\n",
    "df_oil['Monday'] = df_oil.change.where(df_oil.weekday == 0)\n",
    "df_oil['Tuesday'] = df_oil.change.where(df_oil.weekday == 1)\n",
    "df_oil['Wednesday'] = df_oil.change.where(df_oil.weekday == 2)\n",
    "df_oil['Thursday'] = df_oil.change.where(df_oil.weekday == 3)\n",
    "df_oil['Friday'] = df_oil.change.where(df_oil.weekday == 4)\n",
    "\n",
    "# For bitcoin\n",
    "df_btc['Monday'] = df_btc.change.where(df_oil.weekday == 0)\n",
    "df_btc['Tuesday'] = df_btc.change.where(df_oil.weekday == 1)\n",
    "df_btc['Wednesday'] = df_btc.change.where(df_oil.weekday == 2)\n",
    "df_btc['Thursday'] = df_btc.change.where(df_oil.weekday == 3)\n",
    "df_btc['Friday'] = df_btc.change.where(df_oil.weekday == 4)\n",
    "df_btc['Saturday'] = df_btc.change.where(df_oil.weekday == 5)\n",
    "df_btc['Sunday'] = df_btc.change.where(df_oil.weekday == 6)"
   ]
  },
  {
   "cell_type": "markdown",
   "metadata": {},
   "source": [
    "Now, t-test and p-values:"
   ]
  },
  {
   "cell_type": "code",
   "execution_count": 24,
   "metadata": {},
   "outputs": [
    {
     "name": "stdout",
     "output_type": "stream",
     "text": [
      "For S&P 500:\n",
      "Ttest_indResult(statistic=-0.9729604233090785, pvalue=0.3308115971409148)\n",
      "\n",
      "For 10 Yr Bond:\n",
      "Ttest_indResult(statistic=4.070425782579718, pvalue=4.757789969930339e-05)\n",
      "\n",
      "For 10 Yr Bond just last 10 years:\n",
      "Ttest_indResult(statistic=2.2201929261497884, pvalue=0.026625706685281653)\n",
      "\n",
      "For gold:\n",
      "Ttest_indResult(statistic=3.3440189329939844, pvalue=0.0008567701430384474)\n",
      "\n",
      "For oil:\n",
      "Ttest_indResult(statistic=1.371972242519745, pvalue=0.17037285733436644)\n",
      "\n",
      "For bitcoin:\n",
      "Ttest_indResult(statistic=2.3029987853710954, pvalue=0.02134134968122411)\n"
     ]
    }
   ],
   "source": [
    "# For S&P 500\n",
    "print('For S&P 500:')\n",
    "print(ttest_ind(df['Monday'].dropna(), df['Tuesday'].dropna()))\n",
    "\n",
    "# For 10 Yr Bond\n",
    "print('\\nFor 10 Yr Bond:')\n",
    "print(ttest_ind(df_10['Monday'].dropna(), df_10['Friday'].dropna()))\n",
    "\n",
    "print('\\nFor 10 Yr Bond just last 10 years:')\n",
    "# For 10 Yr Bond (last 10 years only)\n",
    "print(ttest_ind(df_10_10['Wednesday'].dropna(), df_10_10['Friday'].dropna()))\n",
    "\n",
    "print('\\nFor gold:')\n",
    "print(ttest_ind(df_gold['Monday'].dropna(), df_gold['Thursday'].dropna()))\n",
    "\n",
    "print('\\nFor oil:')\n",
    "print(ttest_ind(df_oil['Tuesday'].dropna(), df_oil['Thursday'].dropna()))\n",
    "\n",
    "print('\\nFor bitcoin:')\n",
    "# For bitcoin\n",
    "df_btc = df_btc.fillna(0)\n",
    "print(ttest_ind(df_btc['Thursday'].dropna(), df_btc['Saturday'].dropna()))"
   ]
  },
  {
   "cell_type": "markdown",
   "metadata": {},
   "source": [
    "Next, calculate the F statistics for gold to further prove the significant difference in days of the week return."
   ]
  },
  {
   "cell_type": "code",
   "execution_count": 25,
   "metadata": {},
   "outputs": [
    {
     "name": "stdout",
     "output_type": "stream",
     "text": [
      "3.8675627733544693\n",
      "0.0038892555965370883\n"
     ]
    }
   ],
   "source": [
    "# Calc F statistic for gold (last 10 years only)\n",
    "F, p = stats.f_oneway(\n",
    "    df_gold['Monday'].dropna(),\n",
    "    df_gold['Tuesday'].dropna(),\n",
    "    df_gold['Wednesday'].dropna(),\n",
    "    df_gold['Thursday'].dropna(),\n",
    "    df_gold['Friday'].dropna(),\n",
    ")\n",
    "\n",
    "# The F statistic.\n",
    "print(F)\n",
    "\n",
    "# The probability. A p < .05 would lead us to believe the group means were\n",
    "# not all similar in the population.\n",
    "print(p)"
   ]
  },
  {
   "cell_type": "markdown",
   "metadata": {},
   "source": [
    "A high F value means that the data does not well support the null hypothesis. ... So a large F value indicates that a linear model is more compatible with the data than a constant average model. These predictors have high F values leading to small p values so they are sufficient for predicting the response.  \n",
    "\n",
    "A null hypothesis is a hypothesis that says there is no statistical significance between the two variables in the hypothesis.  In the case of gold, there is a roughly **0.3%** probability that the different sums for the day of the week could have happened due to chance.  Therefore, it is likely that there really is a significant difference in the distributions.  \n",
    "\n",
    "While t-test is used to compare two related samples, f-test is used to test the equality of two populations.\n",
    "\n",
    "**To summarize the t-test calculations:**"
   ]
  },
  {
   "cell_type": "markdown",
   "metadata": {},
   "source": [
    "For S&P 500:  \n",
    "So, this means that on Mondays, the total change in the value of the S&P 500 index was about +100.  The total change on all Tuesdays was about +640.  \n",
    "\n",
    "For 10 Yr Bond:  \n",
    "The pvalue here is much less than .05.  Therefore, the difference in price from Monday and Friday, which are the two most extreme price changes in the data, is significant.  In other words the difference here is probably NOT just due to chance and the values are taken from the DIFFERENT populations.  \n",
    "\n",
    "For Gold:  \n",
    "A null hypothesis is a hypothesis that says there is no statistical significance between the two variables in the hypothesis.  In the case of gold, since the pvalue is less than 0.05, the null hypotheses cannot be rejected and it would be likely that the two variables indeed have a statistically significant difference.  \n",
    "\n",
    "For Bitcoin:  \n",
    "For the case of bitcoin, there is an approximately **2.1%** probability that the difference in sums of Thursday vs. Saturday happened randomly.  Thursday was the lowest value, Saturday was the highest.  \n",
    "\n",
    "### 2. B.  Question:  Do 'winter' months perform better than 'summer' months ?  \n",
    "\n",
    "**Answer:**  No, winter did have a slightly higher average daily return, but was found to be insignificant.  The data analysis follows:  \n",
    "\n",
    "First group by month to see the total sum of the daily price changes by month:\n"
   ]
  },
  {
   "cell_type": "code",
   "execution_count": 26,
   "metadata": {},
   "outputs": [
    {
     "data": {
      "text/html": [
       "<div>\n",
       "<style scoped>\n",
       "    .dataframe tbody tr th:only-of-type {\n",
       "        vertical-align: middle;\n",
       "    }\n",
       "\n",
       "    .dataframe tbody tr th {\n",
       "        vertical-align: top;\n",
       "    }\n",
       "\n",
       "    .dataframe thead th {\n",
       "        text-align: right;\n",
       "    }\n",
       "</style>\n",
       "<table border=\"1\" class=\"dataframe\">\n",
       "  <thead>\n",
       "    <tr style=\"text-align: right;\">\n",
       "      <th></th>\n",
       "      <th>price</th>\n",
       "      <th>weekday</th>\n",
       "      <th>day</th>\n",
       "      <th>year</th>\n",
       "      <th>change</th>\n",
       "      <th>Monday</th>\n",
       "      <th>Tuesday</th>\n",
       "      <th>Wednesday</th>\n",
       "      <th>Thursday</th>\n",
       "      <th>Friday</th>\n",
       "    </tr>\n",
       "    <tr>\n",
       "      <th>month</th>\n",
       "      <th></th>\n",
       "      <th></th>\n",
       "      <th></th>\n",
       "      <th></th>\n",
       "      <th></th>\n",
       "      <th></th>\n",
       "      <th></th>\n",
       "      <th></th>\n",
       "      <th></th>\n",
       "      <th></th>\n",
       "    </tr>\n",
       "  </thead>\n",
       "  <tbody>\n",
       "    <tr>\n",
       "      <th>1</th>\n",
       "      <td>378230.08</td>\n",
       "      <td>426</td>\n",
       "      <td>3338</td>\n",
       "      <td>406938</td>\n",
       "      <td>268.09</td>\n",
       "      <td>-135.64</td>\n",
       "      <td>124.86</td>\n",
       "      <td>92.77</td>\n",
       "      <td>51.86</td>\n",
       "      <td>134.24</td>\n",
       "    </tr>\n",
       "    <tr>\n",
       "      <th>2</th>\n",
       "      <td>361761.37</td>\n",
       "      <td>402</td>\n",
       "      <td>2767</td>\n",
       "      <td>386783</td>\n",
       "      <td>375.10</td>\n",
       "      <td>-48.96</td>\n",
       "      <td>205.81</td>\n",
       "      <td>13.81</td>\n",
       "      <td>-23.71</td>\n",
       "      <td>228.15</td>\n",
       "    </tr>\n",
       "    <tr>\n",
       "      <th>3</th>\n",
       "      <td>417535.75</td>\n",
       "      <td>435</td>\n",
       "      <td>3448</td>\n",
       "      <td>439151</td>\n",
       "      <td>240.67</td>\n",
       "      <td>201.06</td>\n",
       "      <td>-44.14</td>\n",
       "      <td>-12.37</td>\n",
       "      <td>16.65</td>\n",
       "      <td>79.47</td>\n",
       "    </tr>\n",
       "    <tr>\n",
       "      <th>4</th>\n",
       "      <td>402318.47</td>\n",
       "      <td>397</td>\n",
       "      <td>3221</td>\n",
       "      <td>417001</td>\n",
       "      <td>247.74</td>\n",
       "      <td>6.40</td>\n",
       "      <td>193.27</td>\n",
       "      <td>139.98</td>\n",
       "      <td>46.25</td>\n",
       "      <td>-138.16</td>\n",
       "    </tr>\n",
       "    <tr>\n",
       "      <th>5</th>\n",
       "      <td>416424.88</td>\n",
       "      <td>446</td>\n",
       "      <td>3294</td>\n",
       "      <td>429099</td>\n",
       "      <td>-185.89</td>\n",
       "      <td>61.17</td>\n",
       "      <td>-116.86</td>\n",
       "      <td>-84.02</td>\n",
       "      <td>-75.88</td>\n",
       "      <td>29.70</td>\n",
       "    </tr>\n",
       "    <tr>\n",
       "      <th>6</th>\n",
       "      <td>408419.00</td>\n",
       "      <td>425</td>\n",
       "      <td>3315</td>\n",
       "      <td>429052</td>\n",
       "      <td>128.84</td>\n",
       "      <td>-130.05</td>\n",
       "      <td>127.44</td>\n",
       "      <td>53.69</td>\n",
       "      <td>142.01</td>\n",
       "      <td>-64.25</td>\n",
       "    </tr>\n",
       "    <tr>\n",
       "      <th>7</th>\n",
       "      <td>375239.75</td>\n",
       "      <td>424</td>\n",
       "      <td>3499</td>\n",
       "      <td>424842</td>\n",
       "      <td>438.02</td>\n",
       "      <td>46.86</td>\n",
       "      <td>94.98</td>\n",
       "      <td>96.46</td>\n",
       "      <td>74.06</td>\n",
       "      <td>125.66</td>\n",
       "    </tr>\n",
       "    <tr>\n",
       "      <th>8</th>\n",
       "      <td>397742.10</td>\n",
       "      <td>442</td>\n",
       "      <td>3557</td>\n",
       "      <td>447006</td>\n",
       "      <td>-93.05</td>\n",
       "      <td>-2.68</td>\n",
       "      <td>-18.94</td>\n",
       "      <td>18.88</td>\n",
       "      <td>-158.66</td>\n",
       "      <td>68.35</td>\n",
       "    </tr>\n",
       "    <tr>\n",
       "      <th>9</th>\n",
       "      <td>364306.26</td>\n",
       "      <td>430</td>\n",
       "      <td>3282</td>\n",
       "      <td>410745</td>\n",
       "      <td>97.79</td>\n",
       "      <td>-2.69</td>\n",
       "      <td>-20.86</td>\n",
       "      <td>181.24</td>\n",
       "      <td>52.32</td>\n",
       "      <td>-112.22</td>\n",
       "    </tr>\n",
       "    <tr>\n",
       "      <th>10</th>\n",
       "      <td>397624.42</td>\n",
       "      <td>439</td>\n",
       "      <td>3475</td>\n",
       "      <td>440966</td>\n",
       "      <td>206.16</td>\n",
       "      <td>-30.88</td>\n",
       "      <td>88.37</td>\n",
       "      <td>-102.16</td>\n",
       "      <td>132.00</td>\n",
       "      <td>118.83</td>\n",
       "    </tr>\n",
       "    <tr>\n",
       "      <th>11</th>\n",
       "      <td>375225.76</td>\n",
       "      <td>400</td>\n",
       "      <td>3088</td>\n",
       "      <td>412770</td>\n",
       "      <td>347.65</td>\n",
       "      <td>142.00</td>\n",
       "      <td>-32.32</td>\n",
       "      <td>129.16</td>\n",
       "      <td>106.62</td>\n",
       "      <td>2.19</td>\n",
       "    </tr>\n",
       "    <tr>\n",
       "      <th>12</th>\n",
       "      <td>383889.11</td>\n",
       "      <td>422</td>\n",
       "      <td>3286</td>\n",
       "      <td>422818</td>\n",
       "      <td>-72.64</td>\n",
       "      <td>-5.23</td>\n",
       "      <td>40.29</td>\n",
       "      <td>74.43</td>\n",
       "      <td>-43.14</td>\n",
       "      <td>-138.99</td>\n",
       "    </tr>\n",
       "  </tbody>\n",
       "</table>\n",
       "</div>"
      ],
      "text/plain": [
       "           price  weekday   day    year  change  Monday  Tuesday  Wednesday  \\\n",
       "month                                                                         \n",
       "1      378230.08      426  3338  406938  268.09 -135.64   124.86      92.77   \n",
       "2      361761.37      402  2767  386783  375.10  -48.96   205.81      13.81   \n",
       "3      417535.75      435  3448  439151  240.67  201.06   -44.14     -12.37   \n",
       "4      402318.47      397  3221  417001  247.74    6.40   193.27     139.98   \n",
       "5      416424.88      446  3294  429099 -185.89   61.17  -116.86     -84.02   \n",
       "6      408419.00      425  3315  429052  128.84 -130.05   127.44      53.69   \n",
       "7      375239.75      424  3499  424842  438.02   46.86    94.98      96.46   \n",
       "8      397742.10      442  3557  447006  -93.05   -2.68   -18.94      18.88   \n",
       "9      364306.26      430  3282  410745   97.79   -2.69   -20.86     181.24   \n",
       "10     397624.42      439  3475  440966  206.16  -30.88    88.37    -102.16   \n",
       "11     375225.76      400  3088  412770  347.65  142.00   -32.32     129.16   \n",
       "12     383889.11      422  3286  422818  -72.64   -5.23    40.29      74.43   \n",
       "\n",
       "       Thursday  Friday  \n",
       "month                    \n",
       "1         51.86  134.24  \n",
       "2        -23.71  228.15  \n",
       "3         16.65   79.47  \n",
       "4         46.25 -138.16  \n",
       "5        -75.88   29.70  \n",
       "6        142.01  -64.25  \n",
       "7         74.06  125.66  \n",
       "8       -158.66   68.35  \n",
       "9         52.32 -112.22  \n",
       "10       132.00  118.83  \n",
       "11       106.62    2.19  \n",
       "12       -43.14 -138.99  "
      ]
     },
     "execution_count": 26,
     "metadata": {},
     "output_type": "execute_result"
    }
   ],
   "source": [
    "df_month = df.groupby('month').sum()\n",
    "df_month.head(20)"
   ]
  },
  {
   "cell_type": "markdown",
   "metadata": {},
   "source": [
    "Looks like May has the weakest return over the past 10 years and July has the strongest.  Is this difference significant or is it just due to random chance ?  If the total return is added for months November to the end of April, the price gain is about **1407**.  This compares to a price gain of just **592** for the months of May through October over the entire 10 year horizon.  It looks like buying the index in early November and selling in early May might be a good strategy.  However, there is a gain for the \"summer\" months (May - October), so why not just buy and hold all year round ?  Well, the past 10 years has been the longest running bull market in history and 10 years happens to be the total time frame for this study.  More data is needed to examine this concept more robustly.  \n",
    "\n",
    "Next, add a 'summer' and 'winter' column to see if there is a significant difference in the rate of return:"
   ]
  },
  {
   "cell_type": "code",
   "execution_count": 27,
   "metadata": {},
   "outputs": [],
   "source": [
    "# add the column for change in the summer months:\n",
    "df['summer'] = np.where(((df.year > 2008) & ((df.month == 5) | (df.month == 6) | (df.month == 7) | \n",
    "            (df.month == 8) | (df.month == 9) | (df.month == 10))), df.change, 0)\n",
    "\n",
    "# add the column for change winter months:\n",
    "df['winter'] = np.where(((df.year < 2020) & ((df.month == 11) | (df.month == 12) | (df.month == 1) | \n",
    "            (df.month == 2) | (df.month == 3) | (df.month == 4))), df.change, 0)"
   ]
  },
  {
   "cell_type": "code",
   "execution_count": 28,
   "metadata": {},
   "outputs": [
    {
     "name": "stdout",
     "output_type": "stream",
     "text": [
      "0.23533598409542744\n"
     ]
    }
   ],
   "source": [
    "# print the average daily return for summer months:\n",
    "print(df.summer.mean())"
   ]
  },
  {
   "cell_type": "code",
   "execution_count": 29,
   "metadata": {},
   "outputs": [
    {
     "name": "stdout",
     "output_type": "stream",
     "text": [
      "0.5590659777424484\n"
     ]
    }
   ],
   "source": [
    "# print the average daily return for winter months:\n",
    "print(df.winter.mean())"
   ]
  },
  {
   "cell_type": "code",
   "execution_count": 30,
   "metadata": {},
   "outputs": [
    {
     "data": {
      "text/plain": [
       "Ttest_indResult(statistic=-0.969513403992707, pvalue=0.33233572022424096)"
      ]
     },
     "execution_count": 30,
     "metadata": {},
     "output_type": "execute_result"
    }
   ],
   "source": [
    "# execute ttest for the two different columns of summer and winter\n",
    "ttest_ind(df['summer'].dropna(), df['winter'].dropna())"
   ]
  },
  {
   "cell_type": "markdown",
   "metadata": {},
   "source": [
    "The average return for summer vs winter are **0.23** and **0.56**, respectively.  However, this difference is not significant.  The computed pvalue for the distributions is **0.332**, which is too high to conclude anything.  There is a roughly 33% chance that the data of the two distributions came from the same population.  Much too high to draw any conclusions.  \n",
    "\n",
    "### 2. C.  Question:  Does the 3rd Presidential Year yield better results in the 'winter' months vs. 'summer' ?  \n",
    "\n",
    "**Answer:**  No, again winter did have a slightly higher average daily return, but was found to be insignificant.  The data analysis follows:  \n",
    "\n",
    "Now, winter vs summer just in year 3 of Presidential term.  Create new columns to capture the 3rd year data:"
   ]
  },
  {
   "cell_type": "code",
   "execution_count": 31,
   "metadata": {},
   "outputs": [],
   "source": [
    "# add the column for change in Presidential 3rd year, summer months:\n",
    "df['yr3s'] = np.where(((df.year == 2011) | (df.year == 2015) | (df.year == 2019))\n",
    "            & ((df.month == 5) | (df.month == 6) | (df.month == 7) | \n",
    "            (df.month == 8) | (df.month == 9) | (df.month == 10)), df.change, 0)\n",
    "\n",
    "# add the column for change in Presidential 3rd year, winter months:\n",
    "df['yr3w'] = np.where(((df.year == 2011) | (df.year == 2015) | (df.year == 2019)\n",
    "                       & (df.month == 1) | (df.month == 2) | \n",
    "                       (df.month == 3) | (df.month == 4)), df.change, 0) \n",
    "df['yr3w_2'] = np.where(((df.year == 2010) | (df.year == 2014) | (df.year == 2018)\n",
    "                       & (df.month == 11) | (df.month == 12)), df.change, 0) \n",
    "df['yr3w_t'] = df.yr3w + df.yr3w_2"
   ]
  },
  {
   "cell_type": "markdown",
   "metadata": {},
   "source": [
    "Look at the new dataframe below:"
   ]
  },
  {
   "cell_type": "code",
   "execution_count": 32,
   "metadata": {},
   "outputs": [
    {
     "data": {
      "text/html": [
       "<div>\n",
       "<style scoped>\n",
       "    .dataframe tbody tr th:only-of-type {\n",
       "        vertical-align: middle;\n",
       "    }\n",
       "\n",
       "    .dataframe tbody tr th {\n",
       "        vertical-align: top;\n",
       "    }\n",
       "\n",
       "    .dataframe thead th {\n",
       "        text-align: right;\n",
       "    }\n",
       "</style>\n",
       "<table border=\"1\" class=\"dataframe\">\n",
       "  <thead>\n",
       "    <tr style=\"text-align: right;\">\n",
       "      <th></th>\n",
       "      <th>DATE</th>\n",
       "      <th>SP500</th>\n",
       "      <th>price</th>\n",
       "      <th>date_time</th>\n",
       "      <th>weekday</th>\n",
       "      <th>day</th>\n",
       "      <th>month</th>\n",
       "      <th>year</th>\n",
       "      <th>change</th>\n",
       "      <th>Monday</th>\n",
       "      <th>Tuesday</th>\n",
       "      <th>Wednesday</th>\n",
       "      <th>Thursday</th>\n",
       "      <th>Friday</th>\n",
       "      <th>summer</th>\n",
       "      <th>winter</th>\n",
       "      <th>yr3s</th>\n",
       "      <th>yr3w</th>\n",
       "      <th>yr3w_2</th>\n",
       "      <th>yr3w_t</th>\n",
       "    </tr>\n",
       "    <tr>\n",
       "      <th>DATE</th>\n",
       "      <th></th>\n",
       "      <th></th>\n",
       "      <th></th>\n",
       "      <th></th>\n",
       "      <th></th>\n",
       "      <th></th>\n",
       "      <th></th>\n",
       "      <th></th>\n",
       "      <th></th>\n",
       "      <th></th>\n",
       "      <th></th>\n",
       "      <th></th>\n",
       "      <th></th>\n",
       "      <th></th>\n",
       "      <th></th>\n",
       "      <th></th>\n",
       "      <th></th>\n",
       "      <th></th>\n",
       "      <th></th>\n",
       "      <th></th>\n",
       "    </tr>\n",
       "  </thead>\n",
       "  <tbody>\n",
       "    <tr>\n",
       "      <th>2009-06-26</th>\n",
       "      <td>2009-06-26</td>\n",
       "      <td>918.90</td>\n",
       "      <td>918.90</td>\n",
       "      <td>2009-06-26</td>\n",
       "      <td>4</td>\n",
       "      <td>26</td>\n",
       "      <td>6</td>\n",
       "      <td>2009</td>\n",
       "      <td>NaN</td>\n",
       "      <td>NaN</td>\n",
       "      <td>NaN</td>\n",
       "      <td>NaN</td>\n",
       "      <td>NaN</td>\n",
       "      <td>NaN</td>\n",
       "      <td>NaN</td>\n",
       "      <td>0.0</td>\n",
       "      <td>0.0</td>\n",
       "      <td>0.0</td>\n",
       "      <td>0.0</td>\n",
       "      <td>0.0</td>\n",
       "    </tr>\n",
       "    <tr>\n",
       "      <th>2009-06-29</th>\n",
       "      <td>2009-06-29</td>\n",
       "      <td>927.23</td>\n",
       "      <td>927.23</td>\n",
       "      <td>2009-06-29</td>\n",
       "      <td>0</td>\n",
       "      <td>29</td>\n",
       "      <td>6</td>\n",
       "      <td>2009</td>\n",
       "      <td>8.33</td>\n",
       "      <td>8.33</td>\n",
       "      <td>NaN</td>\n",
       "      <td>NaN</td>\n",
       "      <td>NaN</td>\n",
       "      <td>NaN</td>\n",
       "      <td>8.33</td>\n",
       "      <td>0.0</td>\n",
       "      <td>0.0</td>\n",
       "      <td>0.0</td>\n",
       "      <td>0.0</td>\n",
       "      <td>0.0</td>\n",
       "    </tr>\n",
       "    <tr>\n",
       "      <th>2009-06-30</th>\n",
       "      <td>2009-06-30</td>\n",
       "      <td>919.32</td>\n",
       "      <td>919.32</td>\n",
       "      <td>2009-06-30</td>\n",
       "      <td>1</td>\n",
       "      <td>30</td>\n",
       "      <td>6</td>\n",
       "      <td>2009</td>\n",
       "      <td>-7.91</td>\n",
       "      <td>NaN</td>\n",
       "      <td>-7.91</td>\n",
       "      <td>NaN</td>\n",
       "      <td>NaN</td>\n",
       "      <td>NaN</td>\n",
       "      <td>-7.91</td>\n",
       "      <td>0.0</td>\n",
       "      <td>0.0</td>\n",
       "      <td>0.0</td>\n",
       "      <td>0.0</td>\n",
       "      <td>0.0</td>\n",
       "    </tr>\n",
       "    <tr>\n",
       "      <th>2009-07-01</th>\n",
       "      <td>2009-07-01</td>\n",
       "      <td>923.33</td>\n",
       "      <td>923.33</td>\n",
       "      <td>2009-07-01</td>\n",
       "      <td>2</td>\n",
       "      <td>1</td>\n",
       "      <td>7</td>\n",
       "      <td>2009</td>\n",
       "      <td>4.01</td>\n",
       "      <td>NaN</td>\n",
       "      <td>NaN</td>\n",
       "      <td>4.01</td>\n",
       "      <td>NaN</td>\n",
       "      <td>NaN</td>\n",
       "      <td>4.01</td>\n",
       "      <td>0.0</td>\n",
       "      <td>0.0</td>\n",
       "      <td>0.0</td>\n",
       "      <td>0.0</td>\n",
       "      <td>0.0</td>\n",
       "    </tr>\n",
       "    <tr>\n",
       "      <th>2009-07-02</th>\n",
       "      <td>2009-07-02</td>\n",
       "      <td>896.42</td>\n",
       "      <td>896.42</td>\n",
       "      <td>2009-07-02</td>\n",
       "      <td>3</td>\n",
       "      <td>2</td>\n",
       "      <td>7</td>\n",
       "      <td>2009</td>\n",
       "      <td>-26.91</td>\n",
       "      <td>NaN</td>\n",
       "      <td>NaN</td>\n",
       "      <td>NaN</td>\n",
       "      <td>-26.91</td>\n",
       "      <td>NaN</td>\n",
       "      <td>-26.91</td>\n",
       "      <td>0.0</td>\n",
       "      <td>0.0</td>\n",
       "      <td>0.0</td>\n",
       "      <td>0.0</td>\n",
       "      <td>0.0</td>\n",
       "    </tr>\n",
       "  </tbody>\n",
       "</table>\n",
       "</div>"
      ],
      "text/plain": [
       "                  DATE   SP500   price  date_time  weekday  day  month  year  \\\n",
       "DATE                                                                           \n",
       "2009-06-26  2009-06-26  918.90  918.90 2009-06-26        4   26      6  2009   \n",
       "2009-06-29  2009-06-29  927.23  927.23 2009-06-29        0   29      6  2009   \n",
       "2009-06-30  2009-06-30  919.32  919.32 2009-06-30        1   30      6  2009   \n",
       "2009-07-01  2009-07-01  923.33  923.33 2009-07-01        2    1      7  2009   \n",
       "2009-07-02  2009-07-02  896.42  896.42 2009-07-02        3    2      7  2009   \n",
       "\n",
       "            change  Monday  Tuesday  Wednesday  Thursday  Friday  summer  \\\n",
       "DATE                                                                       \n",
       "2009-06-26     NaN     NaN      NaN        NaN       NaN     NaN     NaN   \n",
       "2009-06-29    8.33    8.33      NaN        NaN       NaN     NaN    8.33   \n",
       "2009-06-30   -7.91     NaN    -7.91        NaN       NaN     NaN   -7.91   \n",
       "2009-07-01    4.01     NaN      NaN       4.01       NaN     NaN    4.01   \n",
       "2009-07-02  -26.91     NaN      NaN        NaN    -26.91     NaN  -26.91   \n",
       "\n",
       "            winter  yr3s  yr3w  yr3w_2  yr3w_t  \n",
       "DATE                                            \n",
       "2009-06-26     0.0   0.0   0.0     0.0     0.0  \n",
       "2009-06-29     0.0   0.0   0.0     0.0     0.0  \n",
       "2009-06-30     0.0   0.0   0.0     0.0     0.0  \n",
       "2009-07-01     0.0   0.0   0.0     0.0     0.0  \n",
       "2009-07-02     0.0   0.0   0.0     0.0     0.0  "
      ]
     },
     "execution_count": 32,
     "metadata": {},
     "output_type": "execute_result"
    }
   ],
   "source": [
    "df.head()"
   ]
  },
  {
   "cell_type": "markdown",
   "metadata": {},
   "source": [
    "Calculate the results:"
   ]
  },
  {
   "cell_type": "code",
   "execution_count": 33,
   "metadata": {},
   "outputs": [
    {
     "name": "stdout",
     "output_type": "stream",
     "text": [
      "Average daily return for summer months in 3rd Presidential Term\n",
      "-0.057595389507154156\n"
     ]
    }
   ],
   "source": [
    "print(\"Average daily return for summer months in 3rd Presidential Term\")\n",
    "print(df.yr3s.mean())"
   ]
  },
  {
   "cell_type": "code",
   "execution_count": 34,
   "metadata": {},
   "outputs": [
    {
     "name": "stdout",
     "output_type": "stream",
     "text": [
      "Average daily return for winter months in 3rd Presidential Term\n",
      "0.4523807631160576\n"
     ]
    }
   ],
   "source": [
    "print(\"Average daily return for winter months in 3rd Presidential Term\")\n",
    "print(df.yr3w_t.mean())"
   ]
  },
  {
   "cell_type": "code",
   "execution_count": 35,
   "metadata": {},
   "outputs": [
    {
     "data": {
      "text/plain": [
       "Ttest_indResult(statistic=-1.4998938416684096, pvalue=0.13370466363760292)"
      ]
     },
     "execution_count": 35,
     "metadata": {},
     "output_type": "execute_result"
    }
   ],
   "source": [
    "ttest_ind(df['yr3s'].dropna(), df['yr3w_t'].dropna())"
   ]
  },
  {
   "cell_type": "markdown",
   "metadata": {},
   "source": [
    "The daily returns for summer and winter months in the 3rd Presidential Term are not significant.  There is definitely a bigger difference in the 3rd Presidential Term compared to overall summer vs. winter.  However, the pvalue is **0.134** which is not less than 0.05.  So, there is a 13% chance that the sample data of each distribution came from the same population.  This is interesting, but not conclusive enough to take strong action."
   ]
  },
  {
   "cell_type": "markdown",
   "metadata": {},
   "source": [
    "### 2. D.  Question:  Does any month of the S&P 500 over the past 10 years perform significantly better than any other ?  \n",
    "\n",
    "**Answer:**  Yes.  The data analysis follows:  \n",
    "\n",
    "First, look at the monthly totals, then create the month column of the dataframe to execute a t-test for significance:"
   ]
  },
  {
   "cell_type": "code",
   "execution_count": 36,
   "metadata": {},
   "outputs": [
    {
     "data": {
      "text/html": [
       "<div>\n",
       "<style scoped>\n",
       "    .dataframe tbody tr th:only-of-type {\n",
       "        vertical-align: middle;\n",
       "    }\n",
       "\n",
       "    .dataframe tbody tr th {\n",
       "        vertical-align: top;\n",
       "    }\n",
       "\n",
       "    .dataframe thead th {\n",
       "        text-align: right;\n",
       "    }\n",
       "</style>\n",
       "<table border=\"1\" class=\"dataframe\">\n",
       "  <thead>\n",
       "    <tr style=\"text-align: right;\">\n",
       "      <th></th>\n",
       "      <th>price</th>\n",
       "      <th>weekday</th>\n",
       "      <th>day</th>\n",
       "      <th>year</th>\n",
       "      <th>change</th>\n",
       "      <th>Monday</th>\n",
       "      <th>Tuesday</th>\n",
       "      <th>Wednesday</th>\n",
       "      <th>Thursday</th>\n",
       "      <th>Friday</th>\n",
       "      <th>summer</th>\n",
       "      <th>winter</th>\n",
       "      <th>yr3s</th>\n",
       "      <th>yr3w</th>\n",
       "      <th>yr3w_2</th>\n",
       "      <th>yr3w_t</th>\n",
       "    </tr>\n",
       "    <tr>\n",
       "      <th>month</th>\n",
       "      <th></th>\n",
       "      <th></th>\n",
       "      <th></th>\n",
       "      <th></th>\n",
       "      <th></th>\n",
       "      <th></th>\n",
       "      <th></th>\n",
       "      <th></th>\n",
       "      <th></th>\n",
       "      <th></th>\n",
       "      <th></th>\n",
       "      <th></th>\n",
       "      <th></th>\n",
       "      <th></th>\n",
       "      <th></th>\n",
       "      <th></th>\n",
       "    </tr>\n",
       "  </thead>\n",
       "  <tbody>\n",
       "    <tr>\n",
       "      <th>1</th>\n",
       "      <td>378230.08</td>\n",
       "      <td>426</td>\n",
       "      <td>3338</td>\n",
       "      <td>406938</td>\n",
       "      <td>268.09</td>\n",
       "      <td>-135.64</td>\n",
       "      <td>124.86</td>\n",
       "      <td>92.77</td>\n",
       "      <td>51.86</td>\n",
       "      <td>134.24</td>\n",
       "      <td>0.00</td>\n",
       "      <td>268.09</td>\n",
       "      <td>0.00</td>\n",
       "      <td>161.82</td>\n",
       "      <td>-107.00</td>\n",
       "      <td>54.82</td>\n",
       "    </tr>\n",
       "    <tr>\n",
       "      <th>2</th>\n",
       "      <td>361761.37</td>\n",
       "      <td>402</td>\n",
       "      <td>2767</td>\n",
       "      <td>386783</td>\n",
       "      <td>375.10</td>\n",
       "      <td>-48.96</td>\n",
       "      <td>205.81</td>\n",
       "      <td>13.81</td>\n",
       "      <td>-23.71</td>\n",
       "      <td>228.15</td>\n",
       "      <td>0.00</td>\n",
       "      <td>375.10</td>\n",
       "      <td>0.00</td>\n",
       "      <td>375.10</td>\n",
       "      <td>107.48</td>\n",
       "      <td>482.58</td>\n",
       "    </tr>\n",
       "    <tr>\n",
       "      <th>3</th>\n",
       "      <td>417535.75</td>\n",
       "      <td>435</td>\n",
       "      <td>3448</td>\n",
       "      <td>439151</td>\n",
       "      <td>240.67</td>\n",
       "      <td>201.06</td>\n",
       "      <td>-44.14</td>\n",
       "      <td>-12.37</td>\n",
       "      <td>16.65</td>\n",
       "      <td>79.47</td>\n",
       "      <td>0.00</td>\n",
       "      <td>240.67</td>\n",
       "      <td>0.00</td>\n",
       "      <td>240.67</td>\n",
       "      <td>77.83</td>\n",
       "      <td>318.50</td>\n",
       "    </tr>\n",
       "    <tr>\n",
       "      <th>4</th>\n",
       "      <td>402318.47</td>\n",
       "      <td>397</td>\n",
       "      <td>3221</td>\n",
       "      <td>417001</td>\n",
       "      <td>247.74</td>\n",
       "      <td>6.40</td>\n",
       "      <td>193.27</td>\n",
       "      <td>139.98</td>\n",
       "      <td>46.25</td>\n",
       "      <td>-138.16</td>\n",
       "      <td>0.00</td>\n",
       "      <td>247.74</td>\n",
       "      <td>0.00</td>\n",
       "      <td>247.74</td>\n",
       "      <td>28.87</td>\n",
       "      <td>276.61</td>\n",
       "    </tr>\n",
       "    <tr>\n",
       "      <th>5</th>\n",
       "      <td>416424.88</td>\n",
       "      <td>446</td>\n",
       "      <td>3294</td>\n",
       "      <td>429099</td>\n",
       "      <td>-185.89</td>\n",
       "      <td>61.17</td>\n",
       "      <td>-116.86</td>\n",
       "      <td>-84.02</td>\n",
       "      <td>-75.88</td>\n",
       "      <td>29.70</td>\n",
       "      <td>-185.89</td>\n",
       "      <td>0.00</td>\n",
       "      <td>-190.30</td>\n",
       "      <td>3.47</td>\n",
       "      <td>-57.66</td>\n",
       "      <td>-54.19</td>\n",
       "    </tr>\n",
       "    <tr>\n",
       "      <th>6</th>\n",
       "      <td>408419.00</td>\n",
       "      <td>425</td>\n",
       "      <td>3315</td>\n",
       "      <td>429052</td>\n",
       "      <td>128.84</td>\n",
       "      <td>-130.05</td>\n",
       "      <td>127.44</td>\n",
       "      <td>53.69</td>\n",
       "      <td>142.01</td>\n",
       "      <td>-64.25</td>\n",
       "      <td>128.84</td>\n",
       "      <td>0.00</td>\n",
       "      <td>96.48</td>\n",
       "      <td>-68.84</td>\n",
       "      <td>-22.04</td>\n",
       "      <td>-90.88</td>\n",
       "    </tr>\n",
       "    <tr>\n",
       "      <th>7</th>\n",
       "      <td>375239.75</td>\n",
       "      <td>424</td>\n",
       "      <td>3499</td>\n",
       "      <td>424842</td>\n",
       "      <td>438.02</td>\n",
       "      <td>46.86</td>\n",
       "      <td>94.98</td>\n",
       "      <td>96.46</td>\n",
       "      <td>74.06</td>\n",
       "      <td>125.66</td>\n",
       "      <td>438.02</td>\n",
       "      <td>0.00</td>\n",
       "      <td>12.37</td>\n",
       "      <td>12.37</td>\n",
       "      <td>41.33</td>\n",
       "      <td>53.70</td>\n",
       "    </tr>\n",
       "    <tr>\n",
       "      <th>8</th>\n",
       "      <td>397742.10</td>\n",
       "      <td>442</td>\n",
       "      <td>3557</td>\n",
       "      <td>447006</td>\n",
       "      <td>-93.05</td>\n",
       "      <td>-2.68</td>\n",
       "      <td>-18.94</td>\n",
       "      <td>18.88</td>\n",
       "      <td>-158.66</td>\n",
       "      <td>68.35</td>\n",
       "      <td>-93.05</td>\n",
       "      <td>0.00</td>\n",
       "      <td>-205.05</td>\n",
       "      <td>-205.05</td>\n",
       "      <td>20.43</td>\n",
       "      <td>-184.62</td>\n",
       "    </tr>\n",
       "    <tr>\n",
       "      <th>9</th>\n",
       "      <td>364306.26</td>\n",
       "      <td>430</td>\n",
       "      <td>3282</td>\n",
       "      <td>410745</td>\n",
       "      <td>97.79</td>\n",
       "      <td>-2.69</td>\n",
       "      <td>-20.86</td>\n",
       "      <td>181.24</td>\n",
       "      <td>52.32</td>\n",
       "      <td>-112.22</td>\n",
       "      <td>97.79</td>\n",
       "      <td>0.00</td>\n",
       "      <td>-139.62</td>\n",
       "      <td>-139.62</td>\n",
       "      <td>60.79</td>\n",
       "      <td>-78.83</td>\n",
       "    </tr>\n",
       "    <tr>\n",
       "      <th>10</th>\n",
       "      <td>397624.42</td>\n",
       "      <td>439</td>\n",
       "      <td>3475</td>\n",
       "      <td>440966</td>\n",
       "      <td>206.16</td>\n",
       "      <td>-30.88</td>\n",
       "      <td>88.37</td>\n",
       "      <td>-102.16</td>\n",
       "      <td>132.00</td>\n",
       "      <td>118.83</td>\n",
       "      <td>206.16</td>\n",
       "      <td>0.00</td>\n",
       "      <td>281.21</td>\n",
       "      <td>281.21</td>\n",
       "      <td>87.82</td>\n",
       "      <td>369.03</td>\n",
       "    </tr>\n",
       "    <tr>\n",
       "      <th>11</th>\n",
       "      <td>375225.76</td>\n",
       "      <td>400</td>\n",
       "      <td>3088</td>\n",
       "      <td>412770</td>\n",
       "      <td>347.65</td>\n",
       "      <td>142.00</td>\n",
       "      <td>-32.32</td>\n",
       "      <td>129.16</td>\n",
       "      <td>106.62</td>\n",
       "      <td>2.19</td>\n",
       "      <td>0.00</td>\n",
       "      <td>347.65</td>\n",
       "      <td>0.00</td>\n",
       "      <td>-5.29</td>\n",
       "      <td>95.23</td>\n",
       "      <td>89.94</td>\n",
       "    </tr>\n",
       "    <tr>\n",
       "      <th>12</th>\n",
       "      <td>383889.11</td>\n",
       "      <td>422</td>\n",
       "      <td>3286</td>\n",
       "      <td>422818</td>\n",
       "      <td>-72.64</td>\n",
       "      <td>-5.23</td>\n",
       "      <td>40.29</td>\n",
       "      <td>74.43</td>\n",
       "      <td>-43.14</td>\n",
       "      <td>-138.99</td>\n",
       "      <td>0.00</td>\n",
       "      <td>-72.64</td>\n",
       "      <td>0.00</td>\n",
       "      <td>-25.83</td>\n",
       "      <td>-72.64</td>\n",
       "      <td>-98.47</td>\n",
       "    </tr>\n",
       "  </tbody>\n",
       "</table>\n",
       "</div>"
      ],
      "text/plain": [
       "           price  weekday   day    year  change  Monday  Tuesday  Wednesday  \\\n",
       "month                                                                         \n",
       "1      378230.08      426  3338  406938  268.09 -135.64   124.86      92.77   \n",
       "2      361761.37      402  2767  386783  375.10  -48.96   205.81      13.81   \n",
       "3      417535.75      435  3448  439151  240.67  201.06   -44.14     -12.37   \n",
       "4      402318.47      397  3221  417001  247.74    6.40   193.27     139.98   \n",
       "5      416424.88      446  3294  429099 -185.89   61.17  -116.86     -84.02   \n",
       "6      408419.00      425  3315  429052  128.84 -130.05   127.44      53.69   \n",
       "7      375239.75      424  3499  424842  438.02   46.86    94.98      96.46   \n",
       "8      397742.10      442  3557  447006  -93.05   -2.68   -18.94      18.88   \n",
       "9      364306.26      430  3282  410745   97.79   -2.69   -20.86     181.24   \n",
       "10     397624.42      439  3475  440966  206.16  -30.88    88.37    -102.16   \n",
       "11     375225.76      400  3088  412770  347.65  142.00   -32.32     129.16   \n",
       "12     383889.11      422  3286  422818  -72.64   -5.23    40.29      74.43   \n",
       "\n",
       "       Thursday  Friday  summer  winter    yr3s    yr3w  yr3w_2  yr3w_t  \n",
       "month                                                                    \n",
       "1         51.86  134.24    0.00  268.09    0.00  161.82 -107.00   54.82  \n",
       "2        -23.71  228.15    0.00  375.10    0.00  375.10  107.48  482.58  \n",
       "3         16.65   79.47    0.00  240.67    0.00  240.67   77.83  318.50  \n",
       "4         46.25 -138.16    0.00  247.74    0.00  247.74   28.87  276.61  \n",
       "5        -75.88   29.70 -185.89    0.00 -190.30    3.47  -57.66  -54.19  \n",
       "6        142.01  -64.25  128.84    0.00   96.48  -68.84  -22.04  -90.88  \n",
       "7         74.06  125.66  438.02    0.00   12.37   12.37   41.33   53.70  \n",
       "8       -158.66   68.35  -93.05    0.00 -205.05 -205.05   20.43 -184.62  \n",
       "9         52.32 -112.22   97.79    0.00 -139.62 -139.62   60.79  -78.83  \n",
       "10       132.00  118.83  206.16    0.00  281.21  281.21   87.82  369.03  \n",
       "11       106.62    2.19    0.00  347.65    0.00   -5.29   95.23   89.94  \n",
       "12       -43.14 -138.99    0.00  -72.64    0.00  -25.83  -72.64  -98.47  "
      ]
     },
     "execution_count": 36,
     "metadata": {},
     "output_type": "execute_result"
    }
   ],
   "source": [
    "df.groupby('month').sum()"
   ]
  },
  {
   "cell_type": "markdown",
   "metadata": {},
   "source": [
    "For the last 10 years, May performed the worst while July performed the best (see 5th column, 'change')"
   ]
  },
  {
   "cell_type": "code",
   "execution_count": 37,
   "metadata": {},
   "outputs": [],
   "source": [
    "# For S&P 500 grouped by month\n",
    "df['Jan'] = df.change.where(df.month == 1)\n",
    "df['Feb'] = df.change.where(df.month == 2)\n",
    "df['Mar'] = df.change.where(df.month == 3)\n",
    "df['Apr'] = df.change.where(df.month == 4)\n",
    "df['May'] = df.change.where(df.month == 5)\n",
    "df['June'] = df.change.where(df.month == 6)\n",
    "df['July'] = df.change.where(df.month == 7)\n",
    "df['Aug'] = df.change.where(df.month == 8)\n",
    "df['Sep'] = df.change.where(df.month == 9)\n",
    "df['Oct'] = df.change.where(df.month == 10)\n",
    "df['Nov'] = df.change.where(df.month == 11)\n",
    "df['Dec'] = df.change.where(df.month == 12)"
   ]
  },
  {
   "cell_type": "markdown",
   "metadata": {},
   "source": [
    "Calculate the p-value by comparing May vs. July which were the worst and best months, respectively."
   ]
  },
  {
   "cell_type": "code",
   "execution_count": 38,
   "metadata": {},
   "outputs": [
    {
     "data": {
      "text/plain": [
       "Ttest_indResult(statistic=-2.1657996427395316, pvalue=0.030885931123197312)"
      ]
     },
     "execution_count": 38,
     "metadata": {},
     "output_type": "execute_result"
    }
   ],
   "source": [
    "# For S&P 500 groupby month\n",
    "ttest_ind(df['May'].dropna(), df['July'].dropna())"
   ]
  },
  {
   "cell_type": "markdown",
   "metadata": {},
   "source": [
    "The above ttest does show that May is significantly weaker than July for the S&P 500 over the last 10 years.  The calculated pvalue is **0.03** which is less than 0.05, so the differences are likely to be real, rather than just due to chance.  This same process could be performed for all 5 securities to determine if any month or months behaved significantly different from one or more of the others.  \n",
    "\n",
    "The following histogram shows the distribution of the 'change' values for the S&P 500 to make sure they are close to normally distributed.  If they are, then using standard measures of statistics, such as the mean and using a t-test is an acceptable method to measure significance."
   ]
  },
  {
   "cell_type": "code",
   "execution_count": 39,
   "metadata": {},
   "outputs": [
    {
     "data": {
      "image/png": "[encoded data removed]",
      "text/plain": [
       "<Figure size 432x288 with 1 Axes>"
      ]
     },
     "metadata": {
      "needs_background": "light"
     },
     "output_type": "display_data"
    }
   ],
   "source": [
    "df.change.hist()\n",
    "ax = df.change.hist()\n",
    "ax.set(xlabel='daily change', ylabel='frequency', title='Histogram of daily price change for S&P 500')\n",
    "plt.show()"
   ]
  },
  {
   "cell_type": "markdown",
   "metadata": {},
   "source": [
    "The above plot is definitely close to normally distributed.  Next, check one more security - gold, for example to see if it has normally distributed data also."
   ]
  },
  {
   "cell_type": "code",
   "execution_count": 40,
   "metadata": {},
   "outputs": [
    {
     "data": {
      "image/png": "[encoded data removed]",
      "text/plain": [
       "<Figure size 432x288 with 1 Axes>"
      ]
     },
     "metadata": {
      "needs_background": "light"
     },
     "output_type": "display_data"
    }
   ],
   "source": [
    "df_gold.change.hist()\n",
    "ax = df_gold.change.hist()\n",
    "ax.set(xlabel='daily change', ylabel='frequency', title='Histogram of daily price change for Gold')\n",
    "plt.show()"
   ]
  },
  {
   "cell_type": "markdown",
   "metadata": {},
   "source": [
    "This looks close to normal as well.  \n",
    "\n",
    "Finally, compute the F statistice for the S&P 500 grouped by month:"
   ]
  },
  {
   "cell_type": "code",
   "execution_count": 41,
   "metadata": {},
   "outputs": [
    {
     "name": "stdout",
     "output_type": "stream",
     "text": [
      "0.6825850026550205\n",
      "0.7563506335281399\n"
     ]
    }
   ],
   "source": [
    "# Calc F statistic for S&P 500 grouped by month\n",
    "F, p = stats.f_oneway(\n",
    "    df['Jan'].dropna(),\n",
    "    df['Feb'].dropna(),\n",
    "    df['Mar'].dropna(),\n",
    "    df['Apr'].dropna(),\n",
    "    df['May'].dropna(),\n",
    "    df['June'].dropna(),\n",
    "    df['July'].dropna(),\n",
    "    df['Aug'].dropna(),\n",
    "    df['Sep'].dropna(),\n",
    "    df['Oct'].dropna(),\n",
    "    df['Nov'].dropna(),\n",
    "    df['Dec'].dropna(),\n",
    ")\n",
    "\n",
    "# The F statistic.\n",
    "print(F)\n",
    "\n",
    "# The probability. A p < .05 would lead us to believe the group means were\n",
    "# not all similar in the population.\n",
    "print(p)"
   ]
  },
  {
   "cell_type": "markdown",
   "metadata": {},
   "source": [
    "Well, the F value is not very high (compared to gold, for example) and the p-value is **0.75** which means there really is no significant difference between the months.  This conflicts with the t-test.  Which one is correct ?  It depends.  If the study comprises the entire population of the data - in other words, all of the returns since its inception - the F statistic is the most relevant metric.  However, it can be argued that the last 10 years of S&P 500 data is just a sample of the overall population - in which case the t-test is the most relevant metric.  \n",
    "\n",
    "### 2. E.  Question:  Is it possible to build a supervised learning model to predict the daily price change of gold just by using day of the week as the only feature ?  \n",
    "\n",
    "**Answer:**  Possibly.  The data analysis follows:  \n",
    "\n",
    "First, set up the dataframe so the change per day is a 1 for positive change and 0 for negative change.  In other words the threshold is 0.  There is only 1 value of 0 in the data, so no need to worry about that.  Next, create columns for each day of the week and signify the day for each row with a 1 (while all other values will be 0).  Note:  It might be reasonable to keep only the 2 most signigicant summations which are Mondays and Thursdays in this case - this was performed and yielded the same results as looking at all 5 days. "
   ]
  },
  {
   "cell_type": "markdown",
   "metadata": {},
   "source": [
    "#### Prepare Gold data for building a Supervised Learning model to predict the price change."
   ]
  },
  {
   "cell_type": "code",
   "execution_count": 42,
   "metadata": {},
   "outputs": [
    {
     "data": {
      "text/html": [
       "<div>\n",
       "<style scoped>\n",
       "    .dataframe tbody tr th:only-of-type {\n",
       "        vertical-align: middle;\n",
       "    }\n",
       "\n",
       "    .dataframe tbody tr th {\n",
       "        vertical-align: top;\n",
       "    }\n",
       "\n",
       "    .dataframe thead th {\n",
       "        text-align: right;\n",
       "    }\n",
       "</style>\n",
       "<table border=\"1\" class=\"dataframe\">\n",
       "  <thead>\n",
       "    <tr style=\"text-align: right;\">\n",
       "      <th></th>\n",
       "      <th>DATE</th>\n",
       "      <th>GOLDAMGBD229NLBM</th>\n",
       "      <th>price</th>\n",
       "      <th>date_time</th>\n",
       "      <th>weekday</th>\n",
       "      <th>day</th>\n",
       "      <th>month</th>\n",
       "      <th>year</th>\n",
       "      <th>change</th>\n",
       "      <th>Monday</th>\n",
       "      <th>Tuesday</th>\n",
       "      <th>Wednesday</th>\n",
       "      <th>Thursday</th>\n",
       "      <th>Friday</th>\n",
       "    </tr>\n",
       "  </thead>\n",
       "  <tbody>\n",
       "    <tr>\n",
       "      <th>0</th>\n",
       "      <td>2009-06-26</td>\n",
       "      <td>572.566</td>\n",
       "      <td>572.566</td>\n",
       "      <td>2009-06-26</td>\n",
       "      <td>4</td>\n",
       "      <td>26</td>\n",
       "      <td>6</td>\n",
       "      <td>2009</td>\n",
       "      <td>NaN</td>\n",
       "      <td>NaN</td>\n",
       "      <td>NaN</td>\n",
       "      <td>NaN</td>\n",
       "      <td>NaN</td>\n",
       "      <td>NaN</td>\n",
       "    </tr>\n",
       "    <tr>\n",
       "      <th>1</th>\n",
       "      <td>2009-06-29</td>\n",
       "      <td>570.133</td>\n",
       "      <td>570.133</td>\n",
       "      <td>2009-06-29</td>\n",
       "      <td>0</td>\n",
       "      <td>29</td>\n",
       "      <td>6</td>\n",
       "      <td>2009</td>\n",
       "      <td>-2.433</td>\n",
       "      <td>-2.433</td>\n",
       "      <td>NaN</td>\n",
       "      <td>NaN</td>\n",
       "      <td>NaN</td>\n",
       "      <td>NaN</td>\n",
       "    </tr>\n",
       "    <tr>\n",
       "      <th>2</th>\n",
       "      <td>2009-06-30</td>\n",
       "      <td>566.697</td>\n",
       "      <td>566.697</td>\n",
       "      <td>2009-06-30</td>\n",
       "      <td>1</td>\n",
       "      <td>30</td>\n",
       "      <td>6</td>\n",
       "      <td>2009</td>\n",
       "      <td>-3.436</td>\n",
       "      <td>NaN</td>\n",
       "      <td>-3.436</td>\n",
       "      <td>NaN</td>\n",
       "      <td>NaN</td>\n",
       "      <td>NaN</td>\n",
       "    </tr>\n",
       "    <tr>\n",
       "      <th>3</th>\n",
       "      <td>2009-07-01</td>\n",
       "      <td>567.296</td>\n",
       "      <td>567.296</td>\n",
       "      <td>2009-07-01</td>\n",
       "      <td>2</td>\n",
       "      <td>1</td>\n",
       "      <td>7</td>\n",
       "      <td>2009</td>\n",
       "      <td>0.599</td>\n",
       "      <td>NaN</td>\n",
       "      <td>NaN</td>\n",
       "      <td>0.599</td>\n",
       "      <td>NaN</td>\n",
       "      <td>NaN</td>\n",
       "    </tr>\n",
       "    <tr>\n",
       "      <th>4</th>\n",
       "      <td>2009-07-02</td>\n",
       "      <td>571.708</td>\n",
       "      <td>571.708</td>\n",
       "      <td>2009-07-02</td>\n",
       "      <td>3</td>\n",
       "      <td>2</td>\n",
       "      <td>7</td>\n",
       "      <td>2009</td>\n",
       "      <td>4.412</td>\n",
       "      <td>NaN</td>\n",
       "      <td>NaN</td>\n",
       "      <td>NaN</td>\n",
       "      <td>4.412</td>\n",
       "      <td>NaN</td>\n",
       "    </tr>\n",
       "  </tbody>\n",
       "</table>\n",
       "</div>"
      ],
      "text/plain": [
       "         DATE GOLDAMGBD229NLBM    price  date_time  weekday  day  month  year  \\\n",
       "0  2009-06-26          572.566  572.566 2009-06-26        4   26      6  2009   \n",
       "1  2009-06-29          570.133  570.133 2009-06-29        0   29      6  2009   \n",
       "2  2009-06-30          566.697  566.697 2009-06-30        1   30      6  2009   \n",
       "3  2009-07-01          567.296  567.296 2009-07-01        2    1      7  2009   \n",
       "4  2009-07-02          571.708  571.708 2009-07-02        3    2      7  2009   \n",
       "\n",
       "   change  Monday  Tuesday  Wednesday  Thursday  Friday  \n",
       "0     NaN     NaN      NaN        NaN       NaN     NaN  \n",
       "1  -2.433  -2.433      NaN        NaN       NaN     NaN  \n",
       "2  -3.436     NaN   -3.436        NaN       NaN     NaN  \n",
       "3   0.599     NaN      NaN      0.599       NaN     NaN  \n",
       "4   4.412     NaN      NaN        NaN     4.412     NaN  "
      ]
     },
     "execution_count": 42,
     "metadata": {},
     "output_type": "execute_result"
    }
   ],
   "source": [
    "df_gold.head()"
   ]
  },
  {
   "cell_type": "code",
   "execution_count": 43,
   "metadata": {},
   "outputs": [],
   "source": [
    "# make a copy of this dataframe for later:\n",
    "df_gold_barplot = df_gold.copy()"
   ]
  },
  {
   "cell_type": "code",
   "execution_count": 44,
   "metadata": {},
   "outputs": [],
   "source": [
    "df_gold['change'].fillna(0, inplace=True)\n",
    "\n",
    "df_gold.drop(['DATE'], axis=1, inplace=True)\n",
    "df_gold.drop(['GOLDAMGBD229NLBM'], axis=1, inplace=True)\n",
    "df_gold.drop(['price'], axis=1, inplace=True)\n",
    "df_gold.drop(['date_time'], axis=1, inplace=True)\n",
    "df_gold.drop(['year'], axis=1, inplace=True)\n",
    "df_gold.drop(['Monday'], axis=1, inplace=True)\n",
    "df_gold.drop(['Tuesday'], axis=1, inplace=True)\n",
    "df_gold.drop(['Wednesday'], axis=1, inplace=True)\n",
    "df_gold.drop(['Thursday'], axis=1, inplace=True)\n",
    "df_gold.drop(['Friday'], axis=1, inplace=True)\n",
    "df_gold.drop(['day'], axis=1, inplace=True)\n",
    "df_gold.drop(['month'], axis=1, inplace=True)"
   ]
  },
  {
   "cell_type": "code",
   "execution_count": 45,
   "metadata": {},
   "outputs": [],
   "source": [
    "# make a copy of this dataframe for later:\n",
    "df_bin = df_gold.copy()"
   ]
  },
  {
   "cell_type": "code",
   "execution_count": 46,
   "metadata": {},
   "outputs": [
    {
     "data": {
      "text/html": [
       "<div>\n",
       "<style scoped>\n",
       "    .dataframe tbody tr th:only-of-type {\n",
       "        vertical-align: middle;\n",
       "    }\n",
       "\n",
       "    .dataframe tbody tr th {\n",
       "        vertical-align: top;\n",
       "    }\n",
       "\n",
       "    .dataframe thead th {\n",
       "        text-align: right;\n",
       "    }\n",
       "</style>\n",
       "<table border=\"1\" class=\"dataframe\">\n",
       "  <thead>\n",
       "    <tr style=\"text-align: right;\">\n",
       "      <th></th>\n",
       "      <th>weekday</th>\n",
       "      <th>change</th>\n",
       "    </tr>\n",
       "  </thead>\n",
       "  <tbody>\n",
       "    <tr>\n",
       "      <th>0</th>\n",
       "      <td>4</td>\n",
       "      <td>0.000</td>\n",
       "    </tr>\n",
       "    <tr>\n",
       "      <th>1</th>\n",
       "      <td>0</td>\n",
       "      <td>-2.433</td>\n",
       "    </tr>\n",
       "    <tr>\n",
       "      <th>2</th>\n",
       "      <td>1</td>\n",
       "      <td>-3.436</td>\n",
       "    </tr>\n",
       "    <tr>\n",
       "      <th>3</th>\n",
       "      <td>2</td>\n",
       "      <td>0.599</td>\n",
       "    </tr>\n",
       "    <tr>\n",
       "      <th>4</th>\n",
       "      <td>3</td>\n",
       "      <td>4.412</td>\n",
       "    </tr>\n",
       "  </tbody>\n",
       "</table>\n",
       "</div>"
      ],
      "text/plain": [
       "   weekday  change\n",
       "0        4   0.000\n",
       "1        0  -2.433\n",
       "2        1  -3.436\n",
       "3        2   0.599\n",
       "4        3   4.412"
      ]
     },
     "execution_count": 46,
     "metadata": {},
     "output_type": "execute_result"
    }
   ],
   "source": [
    "df_gold.head()"
   ]
  },
  {
   "cell_type": "markdown",
   "metadata": {},
   "source": [
    "Set up the new format for the gold dataframe:"
   ]
  },
  {
   "cell_type": "code",
   "execution_count": 47,
   "metadata": {},
   "outputs": [],
   "source": [
    "# Create the 'binary column for positive or negative change\n",
    "df_gold['binary'] = np.where(df_gold.change >= 0, 1, 0)\n",
    "\n",
    "# Create the 5 columns for each day of the week\n",
    "df_gold['zero'] = np.where(df_gold.weekday == 0, 1, 0)\n",
    "df_gold['one'] = np.where(df_gold.weekday == 1, 1, 0)\n",
    "df_gold['two'] = np.where(df_gold.weekday == 2, 1, 0)\n",
    "df_gold['three'] = np.where(df_gold.weekday == 3, 1, 0)\n",
    "df_gold['four'] = np.where(df_gold.weekday == 4, 1, 0)\n",
    "\n",
    "# drop 'weekday and change columns'\n",
    "df_gold.drop(['weekday'], axis=1, inplace=True)\n",
    "df_gold.drop(['change'], axis=1, inplace=True)"
   ]
  },
  {
   "cell_type": "code",
   "execution_count": 48,
   "metadata": {},
   "outputs": [
    {
     "data": {
      "text/html": [
       "<div>\n",
       "<style scoped>\n",
       "    .dataframe tbody tr th:only-of-type {\n",
       "        vertical-align: middle;\n",
       "    }\n",
       "\n",
       "    .dataframe tbody tr th {\n",
       "        vertical-align: top;\n",
       "    }\n",
       "\n",
       "    .dataframe thead th {\n",
       "        text-align: right;\n",
       "    }\n",
       "</style>\n",
       "<table border=\"1\" class=\"dataframe\">\n",
       "  <thead>\n",
       "    <tr style=\"text-align: right;\">\n",
       "      <th></th>\n",
       "      <th>binary</th>\n",
       "      <th>zero</th>\n",
       "      <th>one</th>\n",
       "      <th>two</th>\n",
       "      <th>three</th>\n",
       "      <th>four</th>\n",
       "    </tr>\n",
       "  </thead>\n",
       "  <tbody>\n",
       "    <tr>\n",
       "      <th>0</th>\n",
       "      <td>1</td>\n",
       "      <td>0</td>\n",
       "      <td>0</td>\n",
       "      <td>0</td>\n",
       "      <td>0</td>\n",
       "      <td>1</td>\n",
       "    </tr>\n",
       "    <tr>\n",
       "      <th>1</th>\n",
       "      <td>0</td>\n",
       "      <td>1</td>\n",
       "      <td>0</td>\n",
       "      <td>0</td>\n",
       "      <td>0</td>\n",
       "      <td>0</td>\n",
       "    </tr>\n",
       "    <tr>\n",
       "      <th>2</th>\n",
       "      <td>0</td>\n",
       "      <td>0</td>\n",
       "      <td>1</td>\n",
       "      <td>0</td>\n",
       "      <td>0</td>\n",
       "      <td>0</td>\n",
       "    </tr>\n",
       "    <tr>\n",
       "      <th>3</th>\n",
       "      <td>1</td>\n",
       "      <td>0</td>\n",
       "      <td>0</td>\n",
       "      <td>1</td>\n",
       "      <td>0</td>\n",
       "      <td>0</td>\n",
       "    </tr>\n",
       "    <tr>\n",
       "      <th>4</th>\n",
       "      <td>1</td>\n",
       "      <td>0</td>\n",
       "      <td>0</td>\n",
       "      <td>0</td>\n",
       "      <td>1</td>\n",
       "      <td>0</td>\n",
       "    </tr>\n",
       "  </tbody>\n",
       "</table>\n",
       "</div>"
      ],
      "text/plain": [
       "   binary  zero  one  two  three  four\n",
       "0       1     0    0    0      0     1\n",
       "1       0     1    0    0      0     0\n",
       "2       0     0    1    0      0     0\n",
       "3       1     0    0    1      0     0\n",
       "4       1     0    0    0      1     0"
      ]
     },
     "execution_count": 48,
     "metadata": {},
     "output_type": "execute_result"
    }
   ],
   "source": [
    "df_gold.head()"
   ]
  },
  {
   "cell_type": "markdown",
   "metadata": {},
   "source": [
    "Create the training and test data sets:"
   ]
  },
  {
   "cell_type": "code",
   "execution_count": 49,
   "metadata": {},
   "outputs": [
    {
     "name": "stdout",
     "output_type": "stream",
     "text": [
      "(2020, 6)\n",
      "(505, 6)\n"
     ]
    }
   ],
   "source": [
    "# Create training and test sets.\n",
    "offset_gold = int(df_gold.shape[0] * 0.8)\n",
    "\n",
    "df_train_gold = df_gold[:offset_gold]\n",
    "df_test_gold = df_gold[offset_gold:]\n",
    "\n",
    "print(df_train_gold.shape)\n",
    "print(df_test_gold.shape)"
   ]
  },
  {
   "cell_type": "markdown",
   "metadata": {},
   "source": [
    "Try Logistic Regression first:"
   ]
  },
  {
   "cell_type": "code",
   "execution_count": 50,
   "metadata": {},
   "outputs": [
    {
     "name": "stdout",
     "output_type": "stream",
     "text": [
      "\n",
      "Duration: 0:00:00.117007\n"
     ]
    },
    {
     "name": "stderr",
     "output_type": "stream",
     "text": [
      "C:\\Users\\Fred\\Anaconda3\\lib\\site-packages\\pandas\\core\\frame.py:3940: SettingWithCopyWarning: \n",
      "A value is trying to be set on a copy of a slice from a DataFrame\n",
      "\n",
      "See the caveats in the documentation: http://pandas.pydata.org/pandas-docs/stable/indexing.html#indexing-view-versus-copy\n",
      "  errors=errors)\n",
      "C:\\Users\\Fred\\Anaconda3\\lib\\site-packages\\sklearn\\linear_model\\logistic.py:433: FutureWarning: Default solver will be changed to 'lbfgs' in 0.22. Specify a solver to silence this warning.\n",
      "  FutureWarning)\n"
     ]
    }
   ],
   "source": [
    "# 1.  Logistic Regression\n",
    "\n",
    "from datetime import datetime\n",
    "start_time = datetime.now()\n",
    "\n",
    "# Instantiate our model.\n",
    "regr_gold = linear_model.LogisticRegression()\n",
    "\n",
    "# set features and dependent variable for training data\n",
    "y_train_gold = df_train_gold['binary'].values\n",
    "\n",
    "# drop the 'binary' column to obtain the feature inputs\n",
    "df_train_gold.drop(['binary'], axis=1, inplace=True)\n",
    "\n",
    "# normalize the training data\n",
    "# x_train_bin = sklearn.preprocessing.normalize(df_train_bin)\n",
    "x_train_gold = df_train_gold\n",
    "\n",
    "# now for test...\n",
    "y_test_gold = df_test_gold['binary'].values\n",
    "\n",
    "# drop the 'binary' column to obtain the feature inputs\n",
    "df_test_gold.drop(['binary'], axis=1, inplace=True)\n",
    "\n",
    "# normalize the test data\n",
    "# x_test_bin = sklearn.preprocessing.normalize(df_test_bin)\n",
    "x_test_gold = df_test_gold\n",
    "\n",
    "# fit model to training data\n",
    "regr_gold.fit(x_train_gold, y_train_gold)\n",
    "\n",
    "end_time = datetime.now()\n",
    "print('\\nDuration: {}'.format(end_time - start_time))"
   ]
  },
  {
   "cell_type": "markdown",
   "metadata": {},
   "source": [
    "Print the results:"
   ]
  },
  {
   "cell_type": "code",
   "execution_count": 51,
   "metadata": {},
   "outputs": [
    {
     "name": "stdout",
     "output_type": "stream",
     "text": [
      "Coefficients: \n",
      " [[ 0.34285275  0.06100424 -0.02081022 -0.23235677 -0.14899687]]\n",
      "Intercept: \n",
      " [0.00169314]\n",
      "0.4866967871485944\n"
     ]
    },
    {
     "data": {
      "text/plain": [
       "array([[149, 100],\n",
       "       [160,  96]], dtype=int64)"
      ]
     },
     "execution_count": 51,
     "metadata": {},
     "output_type": "execute_result"
    }
   ],
   "source": [
    "# Display the attributes calculated.\n",
    "print('Coefficients: \\n', regr_gold.coef_)\n",
    "print('Intercept: \\n', regr_gold.intercept_)\n",
    "\n",
    "# print the area under the curve score for the accuracy metric\n",
    "y_test_pred = regr_gold.predict(x_test_gold)\n",
    "print(sklearn.metrics.roc_auc_score(y_test_gold, y_test_pred))\n",
    "\n",
    "# print the consfusion matrix\n",
    "sklearn.metrics.confusion_matrix(y_test_gold, y_test_pred, labels=None, sample_weight=None)"
   ]
  },
  {
   "cell_type": "markdown",
   "metadata": {},
   "source": [
    "The ROC accuracy score is **0.49** which is just slightly less than the ground truth of 0.50.  Looks like there are a large number of False Positives from the Confusion Matrix (160) relative to the other quadrants.  The Random Forest Classifier algorithm is next:"
   ]
  },
  {
   "cell_type": "code",
   "execution_count": 52,
   "metadata": {},
   "outputs": [
    {
     "data": {
      "text/plain": [
       "RandomForestClassifier(bootstrap=True, class_weight=None, criterion='gini',\n",
       "            max_depth=50, max_features='auto', max_leaf_nodes=None,\n",
       "            min_impurity_decrease=0.0, min_impurity_split=None,\n",
       "            min_samples_leaf=1, min_samples_split=2,\n",
       "            min_weight_fraction_leaf=0.0, n_estimators=500, n_jobs=None,\n",
       "            oob_score=False, random_state=None, verbose=0,\n",
       "            warm_start=False)"
      ]
     },
     "execution_count": 52,
     "metadata": {},
     "output_type": "execute_result"
    }
   ],
   "source": [
    "# 2.  Random Forest Classifier\n",
    "\n",
    "from sklearn.ensemble import RandomForestClassifier\n",
    "\n",
    "# Instantiate our model.\n",
    "rfc_gold = RandomForestClassifier(n_estimators=500, max_depth=50)\n",
    "\n",
    "# fit model to data\n",
    "rfc_gold.fit(x_train_gold, y_train_gold)"
   ]
  },
  {
   "cell_type": "markdown",
   "metadata": {},
   "source": [
    "Print the results:"
   ]
  },
  {
   "cell_type": "code",
   "execution_count": 53,
   "metadata": {},
   "outputs": [
    {
     "name": "stdout",
     "output_type": "stream",
     "text": [
      "0.4866967871485944\n"
     ]
    },
    {
     "data": {
      "text/plain": [
       "array([[149, 100],\n",
       "       [160,  96]], dtype=int64)"
      ]
     },
     "execution_count": 53,
     "metadata": {},
     "output_type": "execute_result"
    }
   ],
   "source": [
    "# print the area under the curve score for the accuracy metric\n",
    "y_test_pred = rfc_gold.predict(x_test_gold)\n",
    "print(sklearn.metrics.roc_auc_score(y_test_gold, y_test_pred))\n",
    "\n",
    "# print the consfusion matrix\n",
    "sklearn.metrics.confusion_matrix(y_test_gold, y_test_pred, labels=None, sample_weight=None)"
   ]
  },
  {
   "cell_type": "markdown",
   "metadata": {},
   "source": [
    "Same result as Logistic Regression.  Maybe Gradient Boosting Classifier will work better:"
   ]
  },
  {
   "cell_type": "code",
   "execution_count": 54,
   "metadata": {},
   "outputs": [
    {
     "data": {
      "text/plain": [
       "GradientBoostingClassifier(criterion='friedman_mse', init=None,\n",
       "              learning_rate=0.1, loss='deviance', max_depth=3,\n",
       "              max_features=None, max_leaf_nodes=None,\n",
       "              min_impurity_decrease=0.0, min_impurity_split=None,\n",
       "              min_samples_leaf=1, min_samples_split=2,\n",
       "              min_weight_fraction_leaf=0.0, n_estimators=500,\n",
       "              n_iter_no_change=None, presort='auto', random_state=None,\n",
       "              subsample=1.0, tol=0.0001, validation_fraction=0.1,\n",
       "              verbose=0, warm_start=False)"
      ]
     },
     "execution_count": 54,
     "metadata": {},
     "output_type": "execute_result"
    }
   ],
   "source": [
    "# 3.  Gradient Boosting Classifier\n",
    "\n",
    "from sklearn.ensemble import GradientBoostingClassifier\n",
    "\n",
    "# Instantiate our model.\n",
    "gbc_gold = GradientBoostingClassifier(n_estimators=500)\n",
    "\n",
    "# fit model to data\n",
    "gbc_gold.fit(x_train_gold, y_train_gold)"
   ]
  },
  {
   "cell_type": "code",
   "execution_count": 55,
   "metadata": {},
   "outputs": [
    {
     "name": "stdout",
     "output_type": "stream",
     "text": [
      "0.4866967871485944\n"
     ]
    },
    {
     "data": {
      "text/plain": [
       "array([[149, 100],\n",
       "       [160,  96]], dtype=int64)"
      ]
     },
     "execution_count": 55,
     "metadata": {},
     "output_type": "execute_result"
    }
   ],
   "source": [
    "# print the area under the curve score for the accuracy metric\n",
    "y_test_pred = gbc_gold.predict(x_test_gold)\n",
    "print(sklearn.metrics.roc_auc_score(y_test_gold, y_test_pred))\n",
    "\n",
    "# print the consfusion matrix\n",
    "sklearn.metrics.confusion_matrix(y_test_gold, y_test_pred, labels=None, sample_weight=None)"
   ]
  },
  {
   "cell_type": "markdown",
   "metadata": {},
   "source": [
    "Hmmmmm.  Same results.  These machine learning methods are not predicting the price change very well.  Is the data balanced ?  In other words, are the number of 1's and 0's about the same ?"
   ]
  },
  {
   "cell_type": "code",
   "execution_count": 56,
   "metadata": {},
   "outputs": [
    {
     "name": "stdout",
     "output_type": "stream",
     "text": [
      "1264\n",
      "1261\n"
     ]
    }
   ],
   "source": [
    "print(df_gold.loc[df_gold['binary'] == 1, 'binary'].count())\n",
    "print(df_gold.loc[df_gold['binary'] == 0, 'binary'].count())"
   ]
  },
  {
   "cell_type": "markdown",
   "metadata": {},
   "source": [
    "Yes, the data is balanced.  Next, check in another way to see if the days of the week really can be reasonable features for a predictive machine learning model.  See the barplot below (the dataframe used here is called df_gold_barplot which was copied from the original gold dataframe to perserve the actual 'change' values):"
   ]
  },
  {
   "cell_type": "code",
   "execution_count": 57,
   "metadata": {},
   "outputs": [
    {
     "name": "stderr",
     "output_type": "stream",
     "text": [
      "C:\\Users\\Fred\\Anaconda3\\lib\\site-packages\\scipy\\stats\\stats.py:1713: FutureWarning: Using a non-tuple sequence for multidimensional indexing is deprecated; use `arr[tuple(seq)]` instead of `arr[seq]`. In the future this will be interpreted as an array index, `arr[np.array(seq)]`, which will result either in an error or a different result.\n",
      "  return np.add.reduce(sorted[indexer] * weights, axis=axis) / sumval\n"
     ]
    },
    {
     "data": {
      "image/png": "[encoded data removed]",
      "text/plain": [
       "<Figure size 720x432 with 1 Axes>"
      ]
     },
     "metadata": {},
     "output_type": "display_data"
    }
   ],
   "source": [
    "sns.set(style=\"whitegrid\", rc={'figure.figsize':(10, 6)})\n",
    "sns.barplot(x='weekday', y='change', ci=95, data=df_gold_barplot)\n",
    "plt.xlabel('Day of Week: 0 = Monday')\n",
    "plt.ylabel('Daily Price Change')\n",
    "plt.title('Average daily price change - Gold')\n",
    "plt.show()"
   ]
  },
  {
   "cell_type": "markdown",
   "metadata": {},
   "source": [
    "This clearly shows a difference in the day of the week for Mondays and Thursdays at the very least.  With a 95% level of confidence, this shows that the mean range (which is the average daily change over the entire 10 years) of Monday or Tuesday does not even overlap with the mean range on Thursday.  This is illustrated by the vertical black line for each day of the week above.  \n",
    "\n",
    "There are probably better modeling techniques using machine learning for predicting this price discrepancy.  Many methods were experimented with besides the one shown above.  Using the actual change numbers for a continuous model yielded the same results. "
   ]
  },
  {
   "cell_type": "markdown",
   "metadata": {},
   "source": [
    "# 3.  Weather and Financial Data Combined  \n",
    "\n",
    "This notebook captures the amount of sunshine (in minutes) per day and the daily temperature (in degrees F) in New York City.  The weather data is combined with the 'change' from the financial data above for the S&P 500.  The hypothesis is that there will be better returns on sunny days on average.  There are numerous theories that suggest this correlation.  For example, the following study:  \n",
    "https://news.fordham.edu/inside-fordham-category/the-sunshine-effect-financial-markets-respond-to-the-weather/  \n",
    "\n",
    "To validate or invalidate these claims, see the following analysis.  First, the amount of sunhine and its affects is covered; then, the daily temperature data is compared to the daily returns.  \n",
    "\n",
    "### 3.A. Question:  Does the daily temperature or amount of sunshine in NYC affect the price change of the S&P 500 ?  \n",
    "\n",
    "**Answer:**  No.  See analysis below.\n",
    "\n",
    "Set up the data for the two new dataframes - 'dfw' for Sunshine and 'dft' for Temperature.\n"
   ]
  },
  {
   "cell_type": "code",
   "execution_count": 58,
   "metadata": {},
   "outputs": [
    {
     "data": {
      "text/html": [
       "<div>\n",
       "<style scoped>\n",
       "    .dataframe tbody tr th:only-of-type {\n",
       "        vertical-align: middle;\n",
       "    }\n",
       "\n",
       "    .dataframe tbody tr th {\n",
       "        vertical-align: top;\n",
       "    }\n",
       "\n",
       "    .dataframe thead th {\n",
       "        text-align: right;\n",
       "    }\n",
       "</style>\n",
       "<table border=\"1\" class=\"dataframe\">\n",
       "  <thead>\n",
       "    <tr style=\"text-align: right;\">\n",
       "      <th></th>\n",
       "      <th>Sun</th>\n",
       "    </tr>\n",
       "    <tr>\n",
       "      <th>dt</th>\n",
       "      <th></th>\n",
       "    </tr>\n",
       "  </thead>\n",
       "  <tbody>\n",
       "    <tr>\n",
       "      <th>2009-06-25</th>\n",
       "      <td>0.00</td>\n",
       "    </tr>\n",
       "    <tr>\n",
       "      <th>2009-06-26</th>\n",
       "      <td>418.70</td>\n",
       "    </tr>\n",
       "    <tr>\n",
       "      <th>2009-06-27</th>\n",
       "      <td>743.23</td>\n",
       "    </tr>\n",
       "    <tr>\n",
       "      <th>2009-06-28</th>\n",
       "      <td>436.08</td>\n",
       "    </tr>\n",
       "    <tr>\n",
       "      <th>2009-06-29</th>\n",
       "      <td>848.28</td>\n",
       "    </tr>\n",
       "  </tbody>\n",
       "</table>\n",
       "</div>"
      ],
      "text/plain": [
       "               Sun\n",
       "dt                \n",
       "2009-06-25    0.00\n",
       "2009-06-26  418.70\n",
       "2009-06-27  743.23\n",
       "2009-06-28  436.08\n",
       "2009-06-29  848.28"
      ]
     },
     "execution_count": 58,
     "metadata": {},
     "output_type": "execute_result"
    }
   ],
   "source": [
    "dfw.head()"
   ]
  },
  {
   "cell_type": "code",
   "execution_count": 59,
   "metadata": {},
   "outputs": [
    {
     "data": {
      "text/html": [
       "<div>\n",
       "<style scoped>\n",
       "    .dataframe tbody tr th:only-of-type {\n",
       "        vertical-align: middle;\n",
       "    }\n",
       "\n",
       "    .dataframe tbody tr th {\n",
       "        vertical-align: top;\n",
       "    }\n",
       "\n",
       "    .dataframe thead th {\n",
       "        text-align: right;\n",
       "    }\n",
       "</style>\n",
       "<table border=\"1\" class=\"dataframe\">\n",
       "  <thead>\n",
       "    <tr style=\"text-align: right;\">\n",
       "      <th></th>\n",
       "      <th>avg_temp</th>\n",
       "    </tr>\n",
       "    <tr>\n",
       "      <th>dt</th>\n",
       "      <th></th>\n",
       "    </tr>\n",
       "  </thead>\n",
       "  <tbody>\n",
       "    <tr>\n",
       "      <th>2009-06-25</th>\n",
       "      <td>71.72</td>\n",
       "    </tr>\n",
       "    <tr>\n",
       "      <th>2009-06-26</th>\n",
       "      <td>76.91</td>\n",
       "    </tr>\n",
       "    <tr>\n",
       "      <th>2009-06-27</th>\n",
       "      <td>76.34</td>\n",
       "    </tr>\n",
       "    <tr>\n",
       "      <th>2009-06-28</th>\n",
       "      <td>72.35</td>\n",
       "    </tr>\n",
       "    <tr>\n",
       "      <th>2009-06-29</th>\n",
       "      <td>75.43</td>\n",
       "    </tr>\n",
       "  </tbody>\n",
       "</table>\n",
       "</div>"
      ],
      "text/plain": [
       "            avg_temp\n",
       "dt                  \n",
       "2009-06-25     71.72\n",
       "2009-06-26     76.91\n",
       "2009-06-27     76.34\n",
       "2009-06-28     72.35\n",
       "2009-06-29     75.43"
      ]
     },
     "execution_count": 59,
     "metadata": {},
     "output_type": "execute_result"
    }
   ],
   "source": [
    "dft.head()"
   ]
  },
  {
   "cell_type": "markdown",
   "metadata": {},
   "source": [
    "Reset the index of these dataframe in order to merge this data with another dataframe."
   ]
  },
  {
   "cell_type": "code",
   "execution_count": 60,
   "metadata": {},
   "outputs": [],
   "source": [
    "# reset the index of this dataframe in order to merge this data with another dataframe\n",
    "dfw.reset_index(level=0, inplace=True)\n",
    "dft.reset_index(level=0, inplace=True)"
   ]
  },
  {
   "cell_type": "markdown",
   "metadata": {},
   "source": [
    "Print the columns of the data frame for S&P 500, drop some unnecessary columns and reset the index for merging data with weather data:"
   ]
  },
  {
   "cell_type": "code",
   "execution_count": 61,
   "metadata": {},
   "outputs": [
    {
     "name": "stdout",
     "output_type": "stream",
     "text": [
      "Index(['DATE', 'SP500', 'price', 'date_time', 'weekday', 'day', 'month',\n",
      "       'year', 'change', 'Monday', 'Tuesday', 'Wednesday', 'Thursday',\n",
      "       'Friday', 'summer', 'winter', 'yr3s', 'yr3w', 'yr3w_2', 'yr3w_t', 'Jan',\n",
      "       'Feb', 'Mar', 'Apr', 'May', 'June', 'July', 'Aug', 'Sep', 'Oct', 'Nov',\n",
      "       'Dec'],\n",
      "      dtype='object')\n"
     ]
    }
   ],
   "source": [
    "# print columns and reset index\n",
    "print(df.columns)\n",
    "\n",
    "# Fill Nan values with 0\n",
    "df['change'].fillna(0, inplace=True)\n",
    "\n",
    "# drop unnecessary columns \n",
    "df.drop(['DATE'], axis=1, inplace=True)\n",
    "df.drop(['SP500'], axis=1, inplace=True)\n",
    "df.drop(['price'], axis=1, inplace=True)\n",
    "df.drop(['date_time'], axis=1, inplace=True)\n",
    "df.drop(['year'], axis=1, inplace=True)\n",
    "df.drop(['Monday'], axis=1, inplace=True)\n",
    "df.drop(['Tuesday'], axis=1, inplace=True)\n",
    "df.drop(['Wednesday'], axis=1, inplace=True)\n",
    "df.drop(['Thursday'], axis=1, inplace=True)\n",
    "df.drop(['Friday'], axis=1, inplace=True)\n",
    "df.drop(['Jan'], axis=1, inplace=True)\n",
    "df.drop(['Feb'], axis=1, inplace=True)\n",
    "df.drop(['Mar'], axis=1, inplace=True)\n",
    "df.drop(['Apr'], axis=1, inplace=True)\n",
    "df.drop(['May'], axis=1, inplace=True)\n",
    "df.drop(['June'], axis=1, inplace=True)\n",
    "df.drop(['July'], axis=1, inplace=True)\n",
    "df.drop(['Aug'], axis=1, inplace=True)\n",
    "df.drop(['Sep'], axis=1, inplace=True)\n",
    "df.drop(['Oct'], axis=1, inplace=True)\n",
    "df.drop(['Nov'], axis=1, inplace=True)\n",
    "df.drop(['Dec'], axis=1, inplace=True)\n",
    "df.drop(['summer'], axis=1, inplace=True)\n",
    "df.drop(['winter'], axis=1, inplace=True)\n",
    "df.drop(['yr3s'], axis=1, inplace=True)\n",
    "df.drop(['yr3w'], axis=1, inplace=True)\n",
    "df.drop(['yr3w_2'], axis=1, inplace=True)\n",
    "df.drop(['yr3w_t'], axis=1, inplace=True)\n",
    "\n",
    "# reset index for merging data with weather data\n",
    "df.reset_index(level=0, inplace=True)"
   ]
  },
  {
   "cell_type": "code",
   "execution_count": 62,
   "metadata": {},
   "outputs": [
    {
     "data": {
      "text/html": [
       "<div>\n",
       "<style scoped>\n",
       "    .dataframe tbody tr th:only-of-type {\n",
       "        vertical-align: middle;\n",
       "    }\n",
       "\n",
       "    .dataframe tbody tr th {\n",
       "        vertical-align: top;\n",
       "    }\n",
       "\n",
       "    .dataframe thead th {\n",
       "        text-align: right;\n",
       "    }\n",
       "</style>\n",
       "<table border=\"1\" class=\"dataframe\">\n",
       "  <thead>\n",
       "    <tr style=\"text-align: right;\">\n",
       "      <th></th>\n",
       "      <th>DATE</th>\n",
       "      <th>weekday</th>\n",
       "      <th>day</th>\n",
       "      <th>month</th>\n",
       "      <th>change</th>\n",
       "    </tr>\n",
       "  </thead>\n",
       "  <tbody>\n",
       "    <tr>\n",
       "      <th>2511</th>\n",
       "      <td>2019-06-19</td>\n",
       "      <td>2</td>\n",
       "      <td>19</td>\n",
       "      <td>6</td>\n",
       "      <td>8.71</td>\n",
       "    </tr>\n",
       "    <tr>\n",
       "      <th>2512</th>\n",
       "      <td>2019-06-20</td>\n",
       "      <td>3</td>\n",
       "      <td>20</td>\n",
       "      <td>6</td>\n",
       "      <td>27.72</td>\n",
       "    </tr>\n",
       "    <tr>\n",
       "      <th>2513</th>\n",
       "      <td>2019-06-21</td>\n",
       "      <td>4</td>\n",
       "      <td>21</td>\n",
       "      <td>6</td>\n",
       "      <td>-3.72</td>\n",
       "    </tr>\n",
       "    <tr>\n",
       "      <th>2514</th>\n",
       "      <td>2019-06-24</td>\n",
       "      <td>0</td>\n",
       "      <td>24</td>\n",
       "      <td>6</td>\n",
       "      <td>-5.11</td>\n",
       "    </tr>\n",
       "    <tr>\n",
       "      <th>2515</th>\n",
       "      <td>2019-06-25</td>\n",
       "      <td>1</td>\n",
       "      <td>25</td>\n",
       "      <td>6</td>\n",
       "      <td>-27.97</td>\n",
       "    </tr>\n",
       "  </tbody>\n",
       "</table>\n",
       "</div>"
      ],
      "text/plain": [
       "           DATE  weekday  day  month  change\n",
       "2511 2019-06-19        2   19      6    8.71\n",
       "2512 2019-06-20        3   20      6   27.72\n",
       "2513 2019-06-21        4   21      6   -3.72\n",
       "2514 2019-06-24        0   24      6   -5.11\n",
       "2515 2019-06-25        1   25      6  -27.97"
      ]
     },
     "execution_count": 62,
     "metadata": {},
     "output_type": "execute_result"
    }
   ],
   "source": [
    "df.tail()"
   ]
  },
  {
   "cell_type": "markdown",
   "metadata": {},
   "source": [
    "The dataframe shown above has the financial data needed.  The next step is to merge the weather data with the financial data for the S&P 500:"
   ]
  },
  {
   "cell_type": "code",
   "execution_count": 63,
   "metadata": {},
   "outputs": [],
   "source": [
    "# create dataframe for S&P 500 and Sunshine in NYC in minutes\n",
    "df_sun = (dfw.merge(df, left_on='dt', right_on='DATE')\n",
    "          .reindex(columns=['DATE', 'weekday', 'day', 'month', 'change', 'Sun']))\n",
    "\n",
    "# create dataframe for S&P 500 and Temperature in NYC\n",
    "df_temp = (dft.merge(df, left_on='dt', right_on='DATE')\n",
    "          .reindex(columns=['DATE', 'weekday', 'day', 'month', 'change', 'avg_temp']))\n",
    "\n",
    "# create dataframe for S&P 500, Temperature and Sunshine in NYC\n",
    "df_both = (dft.merge(df_sun, left_on='dt', right_on='DATE')\n",
    "          .reindex(columns=['DATE', 'weekday', 'month', 'day', 'change', 'avg_temp', 'Sun']))\n"
   ]
  },
  {
   "cell_type": "code",
   "execution_count": 64,
   "metadata": {},
   "outputs": [
    {
     "data": {
      "text/html": [
       "<div>\n",
       "<style scoped>\n",
       "    .dataframe tbody tr th:only-of-type {\n",
       "        vertical-align: middle;\n",
       "    }\n",
       "\n",
       "    .dataframe tbody tr th {\n",
       "        vertical-align: top;\n",
       "    }\n",
       "\n",
       "    .dataframe thead th {\n",
       "        text-align: right;\n",
       "    }\n",
       "</style>\n",
       "<table border=\"1\" class=\"dataframe\">\n",
       "  <thead>\n",
       "    <tr style=\"text-align: right;\">\n",
       "      <th></th>\n",
       "      <th>DATE</th>\n",
       "      <th>weekday</th>\n",
       "      <th>day</th>\n",
       "      <th>month</th>\n",
       "      <th>change</th>\n",
       "      <th>avg_temp</th>\n",
       "    </tr>\n",
       "  </thead>\n",
       "  <tbody>\n",
       "    <tr>\n",
       "      <th>0</th>\n",
       "      <td>2009-06-26</td>\n",
       "      <td>4</td>\n",
       "      <td>26</td>\n",
       "      <td>6</td>\n",
       "      <td>0.00</td>\n",
       "      <td>76.91</td>\n",
       "    </tr>\n",
       "    <tr>\n",
       "      <th>1</th>\n",
       "      <td>2009-06-29</td>\n",
       "      <td>0</td>\n",
       "      <td>29</td>\n",
       "      <td>6</td>\n",
       "      <td>8.33</td>\n",
       "      <td>75.43</td>\n",
       "    </tr>\n",
       "    <tr>\n",
       "      <th>2</th>\n",
       "      <td>2009-06-30</td>\n",
       "      <td>1</td>\n",
       "      <td>30</td>\n",
       "      <td>6</td>\n",
       "      <td>-7.91</td>\n",
       "      <td>77.41</td>\n",
       "    </tr>\n",
       "    <tr>\n",
       "      <th>3</th>\n",
       "      <td>2009-07-01</td>\n",
       "      <td>2</td>\n",
       "      <td>1</td>\n",
       "      <td>7</td>\n",
       "      <td>4.01</td>\n",
       "      <td>73.40</td>\n",
       "    </tr>\n",
       "    <tr>\n",
       "      <th>4</th>\n",
       "      <td>2009-07-02</td>\n",
       "      <td>3</td>\n",
       "      <td>2</td>\n",
       "      <td>7</td>\n",
       "      <td>-26.91</td>\n",
       "      <td>71.23</td>\n",
       "    </tr>\n",
       "  </tbody>\n",
       "</table>\n",
       "</div>"
      ],
      "text/plain": [
       "        DATE  weekday  day  month  change  avg_temp\n",
       "0 2009-06-26        4   26      6    0.00     76.91\n",
       "1 2009-06-29        0   29      6    8.33     75.43\n",
       "2 2009-06-30        1   30      6   -7.91     77.41\n",
       "3 2009-07-01        2    1      7    4.01     73.40\n",
       "4 2009-07-02        3    2      7  -26.91     71.23"
      ]
     },
     "execution_count": 64,
     "metadata": {},
     "output_type": "execute_result"
    }
   ],
   "source": [
    "df_temp.head()"
   ]
  },
  {
   "cell_type": "markdown",
   "metadata": {},
   "source": [
    "The above dataframe shows the merged S&P data with the temperature data.  Next, print the average of the average daily temps:"
   ]
  },
  {
   "cell_type": "code",
   "execution_count": 65,
   "metadata": {},
   "outputs": [
    {
     "name": "stdout",
     "output_type": "stream",
     "text": [
      "55.04181240063589\n"
     ]
    }
   ],
   "source": [
    "print(df_temp.avg_temp.mean())"
   ]
  },
  {
   "cell_type": "code",
   "execution_count": 66,
   "metadata": {},
   "outputs": [
    {
     "data": {
      "text/html": [
       "<div>\n",
       "<style scoped>\n",
       "    .dataframe tbody tr th:only-of-type {\n",
       "        vertical-align: middle;\n",
       "    }\n",
       "\n",
       "    .dataframe tbody tr th {\n",
       "        vertical-align: top;\n",
       "    }\n",
       "\n",
       "    .dataframe thead th {\n",
       "        text-align: right;\n",
       "    }\n",
       "</style>\n",
       "<table border=\"1\" class=\"dataframe\">\n",
       "  <thead>\n",
       "    <tr style=\"text-align: right;\">\n",
       "      <th></th>\n",
       "      <th>DATE</th>\n",
       "      <th>weekday</th>\n",
       "      <th>day</th>\n",
       "      <th>month</th>\n",
       "      <th>change</th>\n",
       "      <th>Sun</th>\n",
       "    </tr>\n",
       "  </thead>\n",
       "  <tbody>\n",
       "    <tr>\n",
       "      <th>0</th>\n",
       "      <td>2009-06-26</td>\n",
       "      <td>4</td>\n",
       "      <td>26</td>\n",
       "      <td>6</td>\n",
       "      <td>0.00</td>\n",
       "      <td>418.70</td>\n",
       "    </tr>\n",
       "    <tr>\n",
       "      <th>1</th>\n",
       "      <td>2009-06-29</td>\n",
       "      <td>0</td>\n",
       "      <td>29</td>\n",
       "      <td>6</td>\n",
       "      <td>8.33</td>\n",
       "      <td>848.28</td>\n",
       "    </tr>\n",
       "    <tr>\n",
       "      <th>2</th>\n",
       "      <td>2009-06-30</td>\n",
       "      <td>1</td>\n",
       "      <td>30</td>\n",
       "      <td>6</td>\n",
       "      <td>-7.91</td>\n",
       "      <td>608.00</td>\n",
       "    </tr>\n",
       "    <tr>\n",
       "      <th>3</th>\n",
       "      <td>2009-07-01</td>\n",
       "      <td>2</td>\n",
       "      <td>1</td>\n",
       "      <td>7</td>\n",
       "      <td>4.01</td>\n",
       "      <td>168.86</td>\n",
       "    </tr>\n",
       "    <tr>\n",
       "      <th>4</th>\n",
       "      <td>2009-07-02</td>\n",
       "      <td>3</td>\n",
       "      <td>2</td>\n",
       "      <td>7</td>\n",
       "      <td>-26.91</td>\n",
       "      <td>225.66</td>\n",
       "    </tr>\n",
       "  </tbody>\n",
       "</table>\n",
       "</div>"
      ],
      "text/plain": [
       "        DATE  weekday  day  month  change     Sun\n",
       "0 2009-06-26        4   26      6    0.00  418.70\n",
       "1 2009-06-29        0   29      6    8.33  848.28\n",
       "2 2009-06-30        1   30      6   -7.91  608.00\n",
       "3 2009-07-01        2    1      7    4.01  168.86\n",
       "4 2009-07-02        3    2      7  -26.91  225.66"
      ]
     },
     "execution_count": 66,
     "metadata": {},
     "output_type": "execute_result"
    }
   ],
   "source": [
    "df_sun.head()"
   ]
  },
  {
   "cell_type": "markdown",
   "metadata": {},
   "source": [
    "The above dataframe shows the \"change\" for the S&P 500 and the \"Sun\" for the number of hours of sunshine by date.\n",
    "\n",
    "This next step counts the number of hours when the hours of **sunshine is greater than 300** and less than 300.  This cutoff of 300 is a good number because it has roughly the same amount of days above and below the threshold, keeping our data balanced.  \n",
    "\n",
    "Also, 4 new columns in the temperature dataframe are created to separate the data above and below the average temperature of **55 degrees Farenheit**."
   ]
  },
  {
   "cell_type": "code",
   "execution_count": 67,
   "metadata": {},
   "outputs": [],
   "source": [
    "# Creae 4 new columns in the df_out dataframe\n",
    "df_sun['sun_300'] = np.where(df_sun.Sun >= 300.0, 1, 0)\n",
    "df_sun['less_300'] = np.where(df_sun.Sun < 300.0, 1, 0)\n",
    "df_sun['value_3'] = np.where(df_sun.Sun >= 300.0, df_sun.change, 0)\n",
    "df_sun['value_3_less'] = np.where(df_sun.Sun < 300.0, df_sun.change, 0)\n",
    "\n",
    "# Creae 4 new columns in the df_out_temp dataframe\n",
    "df_temp['tmp_55'] = np.where(df_temp.avg_temp >= 55.0, 1, 0)\n",
    "df_temp['less_55'] = np.where(df_temp.avg_temp < 55.0, 1, 0)\n",
    "df_temp['value_55'] = np.where(df_temp.avg_temp >= 55.0, df_temp.avg_temp, 0)\n",
    "df_temp['value_55_less'] = np.where(df_temp.avg_temp < 55.0, df_temp.avg_temp, 0)"
   ]
  },
  {
   "cell_type": "code",
   "execution_count": 68,
   "metadata": {},
   "outputs": [
    {
     "data": {
      "text/html": [
       "<div>\n",
       "<style scoped>\n",
       "    .dataframe tbody tr th:only-of-type {\n",
       "        vertical-align: middle;\n",
       "    }\n",
       "\n",
       "    .dataframe tbody tr th {\n",
       "        vertical-align: top;\n",
       "    }\n",
       "\n",
       "    .dataframe thead th {\n",
       "        text-align: right;\n",
       "    }\n",
       "</style>\n",
       "<table border=\"1\" class=\"dataframe\">\n",
       "  <thead>\n",
       "    <tr style=\"text-align: right;\">\n",
       "      <th></th>\n",
       "      <th>DATE</th>\n",
       "      <th>weekday</th>\n",
       "      <th>day</th>\n",
       "      <th>month</th>\n",
       "      <th>change</th>\n",
       "      <th>Sun</th>\n",
       "      <th>sun_300</th>\n",
       "      <th>less_300</th>\n",
       "      <th>value_3</th>\n",
       "      <th>value_3_less</th>\n",
       "    </tr>\n",
       "  </thead>\n",
       "  <tbody>\n",
       "    <tr>\n",
       "      <th>0</th>\n",
       "      <td>2009-06-26</td>\n",
       "      <td>4</td>\n",
       "      <td>26</td>\n",
       "      <td>6</td>\n",
       "      <td>0.00</td>\n",
       "      <td>418.70</td>\n",
       "      <td>1</td>\n",
       "      <td>0</td>\n",
       "      <td>0.00</td>\n",
       "      <td>0.00</td>\n",
       "    </tr>\n",
       "    <tr>\n",
       "      <th>1</th>\n",
       "      <td>2009-06-29</td>\n",
       "      <td>0</td>\n",
       "      <td>29</td>\n",
       "      <td>6</td>\n",
       "      <td>8.33</td>\n",
       "      <td>848.28</td>\n",
       "      <td>1</td>\n",
       "      <td>0</td>\n",
       "      <td>8.33</td>\n",
       "      <td>0.00</td>\n",
       "    </tr>\n",
       "    <tr>\n",
       "      <th>2</th>\n",
       "      <td>2009-06-30</td>\n",
       "      <td>1</td>\n",
       "      <td>30</td>\n",
       "      <td>6</td>\n",
       "      <td>-7.91</td>\n",
       "      <td>608.00</td>\n",
       "      <td>1</td>\n",
       "      <td>0</td>\n",
       "      <td>-7.91</td>\n",
       "      <td>0.00</td>\n",
       "    </tr>\n",
       "    <tr>\n",
       "      <th>3</th>\n",
       "      <td>2009-07-01</td>\n",
       "      <td>2</td>\n",
       "      <td>1</td>\n",
       "      <td>7</td>\n",
       "      <td>4.01</td>\n",
       "      <td>168.86</td>\n",
       "      <td>0</td>\n",
       "      <td>1</td>\n",
       "      <td>0.00</td>\n",
       "      <td>4.01</td>\n",
       "    </tr>\n",
       "    <tr>\n",
       "      <th>4</th>\n",
       "      <td>2009-07-02</td>\n",
       "      <td>3</td>\n",
       "      <td>2</td>\n",
       "      <td>7</td>\n",
       "      <td>-26.91</td>\n",
       "      <td>225.66</td>\n",
       "      <td>0</td>\n",
       "      <td>1</td>\n",
       "      <td>0.00</td>\n",
       "      <td>-26.91</td>\n",
       "    </tr>\n",
       "    <tr>\n",
       "      <th>5</th>\n",
       "      <td>2009-07-06</td>\n",
       "      <td>0</td>\n",
       "      <td>6</td>\n",
       "      <td>7</td>\n",
       "      <td>2.30</td>\n",
       "      <td>787.34</td>\n",
       "      <td>1</td>\n",
       "      <td>0</td>\n",
       "      <td>2.30</td>\n",
       "      <td>0.00</td>\n",
       "    </tr>\n",
       "    <tr>\n",
       "      <th>6</th>\n",
       "      <td>2009-07-07</td>\n",
       "      <td>1</td>\n",
       "      <td>7</td>\n",
       "      <td>7</td>\n",
       "      <td>-17.69</td>\n",
       "      <td>291.83</td>\n",
       "      <td>0</td>\n",
       "      <td>1</td>\n",
       "      <td>0.00</td>\n",
       "      <td>-17.69</td>\n",
       "    </tr>\n",
       "    <tr>\n",
       "      <th>7</th>\n",
       "      <td>2009-07-08</td>\n",
       "      <td>2</td>\n",
       "      <td>8</td>\n",
       "      <td>7</td>\n",
       "      <td>-1.47</td>\n",
       "      <td>636.53</td>\n",
       "      <td>1</td>\n",
       "      <td>0</td>\n",
       "      <td>-1.47</td>\n",
       "      <td>0.00</td>\n",
       "    </tr>\n",
       "    <tr>\n",
       "      <th>8</th>\n",
       "      <td>2009-07-09</td>\n",
       "      <td>3</td>\n",
       "      <td>9</td>\n",
       "      <td>7</td>\n",
       "      <td>3.12</td>\n",
       "      <td>639.93</td>\n",
       "      <td>1</td>\n",
       "      <td>0</td>\n",
       "      <td>3.12</td>\n",
       "      <td>0.00</td>\n",
       "    </tr>\n",
       "    <tr>\n",
       "      <th>9</th>\n",
       "      <td>2009-07-10</td>\n",
       "      <td>4</td>\n",
       "      <td>10</td>\n",
       "      <td>7</td>\n",
       "      <td>-3.55</td>\n",
       "      <td>895.12</td>\n",
       "      <td>1</td>\n",
       "      <td>0</td>\n",
       "      <td>-3.55</td>\n",
       "      <td>0.00</td>\n",
       "    </tr>\n",
       "  </tbody>\n",
       "</table>\n",
       "</div>"
      ],
      "text/plain": [
       "        DATE  weekday  day  month  change     Sun  sun_300  less_300  value_3  \\\n",
       "0 2009-06-26        4   26      6    0.00  418.70        1         0     0.00   \n",
       "1 2009-06-29        0   29      6    8.33  848.28        1         0     8.33   \n",
       "2 2009-06-30        1   30      6   -7.91  608.00        1         0    -7.91   \n",
       "3 2009-07-01        2    1      7    4.01  168.86        0         1     0.00   \n",
       "4 2009-07-02        3    2      7  -26.91  225.66        0         1     0.00   \n",
       "5 2009-07-06        0    6      7    2.30  787.34        1         0     2.30   \n",
       "6 2009-07-07        1    7      7  -17.69  291.83        0         1     0.00   \n",
       "7 2009-07-08        2    8      7   -1.47  636.53        1         0    -1.47   \n",
       "8 2009-07-09        3    9      7    3.12  639.93        1         0     3.12   \n",
       "9 2009-07-10        4   10      7   -3.55  895.12        1         0    -3.55   \n",
       "\n",
       "   value_3_less  \n",
       "0          0.00  \n",
       "1          0.00  \n",
       "2          0.00  \n",
       "3          4.01  \n",
       "4        -26.91  \n",
       "5          0.00  \n",
       "6        -17.69  \n",
       "7          0.00  \n",
       "8          0.00  \n",
       "9          0.00  "
      ]
     },
     "execution_count": 68,
     "metadata": {},
     "output_type": "execute_result"
    }
   ],
   "source": [
    "df_sun.head(10)"
   ]
  },
  {
   "cell_type": "code",
   "execution_count": 69,
   "metadata": {},
   "outputs": [
    {
     "data": {
      "text/html": [
       "<div>\n",
       "<style scoped>\n",
       "    .dataframe tbody tr th:only-of-type {\n",
       "        vertical-align: middle;\n",
       "    }\n",
       "\n",
       "    .dataframe tbody tr th {\n",
       "        vertical-align: top;\n",
       "    }\n",
       "\n",
       "    .dataframe thead th {\n",
       "        text-align: right;\n",
       "    }\n",
       "</style>\n",
       "<table border=\"1\" class=\"dataframe\">\n",
       "  <thead>\n",
       "    <tr style=\"text-align: right;\">\n",
       "      <th></th>\n",
       "      <th>DATE</th>\n",
       "      <th>weekday</th>\n",
       "      <th>day</th>\n",
       "      <th>month</th>\n",
       "      <th>change</th>\n",
       "      <th>avg_temp</th>\n",
       "      <th>tmp_55</th>\n",
       "      <th>less_55</th>\n",
       "      <th>value_55</th>\n",
       "      <th>value_55_less</th>\n",
       "    </tr>\n",
       "  </thead>\n",
       "  <tbody>\n",
       "    <tr>\n",
       "      <th>0</th>\n",
       "      <td>2009-06-26</td>\n",
       "      <td>4</td>\n",
       "      <td>26</td>\n",
       "      <td>6</td>\n",
       "      <td>0.00</td>\n",
       "      <td>76.91</td>\n",
       "      <td>1</td>\n",
       "      <td>0</td>\n",
       "      <td>76.91</td>\n",
       "      <td>0.0</td>\n",
       "    </tr>\n",
       "    <tr>\n",
       "      <th>1</th>\n",
       "      <td>2009-06-29</td>\n",
       "      <td>0</td>\n",
       "      <td>29</td>\n",
       "      <td>6</td>\n",
       "      <td>8.33</td>\n",
       "      <td>75.43</td>\n",
       "      <td>1</td>\n",
       "      <td>0</td>\n",
       "      <td>75.43</td>\n",
       "      <td>0.0</td>\n",
       "    </tr>\n",
       "    <tr>\n",
       "      <th>2</th>\n",
       "      <td>2009-06-30</td>\n",
       "      <td>1</td>\n",
       "      <td>30</td>\n",
       "      <td>6</td>\n",
       "      <td>-7.91</td>\n",
       "      <td>77.41</td>\n",
       "      <td>1</td>\n",
       "      <td>0</td>\n",
       "      <td>77.41</td>\n",
       "      <td>0.0</td>\n",
       "    </tr>\n",
       "    <tr>\n",
       "      <th>3</th>\n",
       "      <td>2009-07-01</td>\n",
       "      <td>2</td>\n",
       "      <td>1</td>\n",
       "      <td>7</td>\n",
       "      <td>4.01</td>\n",
       "      <td>73.40</td>\n",
       "      <td>1</td>\n",
       "      <td>0</td>\n",
       "      <td>73.40</td>\n",
       "      <td>0.0</td>\n",
       "    </tr>\n",
       "    <tr>\n",
       "      <th>4</th>\n",
       "      <td>2009-07-02</td>\n",
       "      <td>3</td>\n",
       "      <td>2</td>\n",
       "      <td>7</td>\n",
       "      <td>-26.91</td>\n",
       "      <td>71.23</td>\n",
       "      <td>1</td>\n",
       "      <td>0</td>\n",
       "      <td>71.23</td>\n",
       "      <td>0.0</td>\n",
       "    </tr>\n",
       "  </tbody>\n",
       "</table>\n",
       "</div>"
      ],
      "text/plain": [
       "        DATE  weekday  day  month  change  avg_temp  tmp_55  less_55  \\\n",
       "0 2009-06-26        4   26      6    0.00     76.91       1        0   \n",
       "1 2009-06-29        0   29      6    8.33     75.43       1        0   \n",
       "2 2009-06-30        1   30      6   -7.91     77.41       1        0   \n",
       "3 2009-07-01        2    1      7    4.01     73.40       1        0   \n",
       "4 2009-07-02        3    2      7  -26.91     71.23       1        0   \n",
       "\n",
       "   value_55  value_55_less  \n",
       "0     76.91            0.0  \n",
       "1     75.43            0.0  \n",
       "2     77.41            0.0  \n",
       "3     73.40            0.0  \n",
       "4     71.23            0.0  "
      ]
     },
     "execution_count": 69,
     "metadata": {},
     "output_type": "execute_result"
    }
   ],
   "source": [
    "df_temp.head()"
   ]
  },
  {
   "cell_type": "markdown",
   "metadata": {},
   "source": [
    "This next step defines some variables to count the number of days when the sunshine hours is above or below a specific threshold; and defines variables that counts the actual points gained or loss over the horizon for each of the two groups.  \n",
    "\n",
    "Temperature data is counted, summed and analyzed as well."
   ]
  },
  {
   "cell_type": "code",
   "execution_count": 70,
   "metadata": {},
   "outputs": [],
   "source": [
    "# FOR SUNSHINE\n",
    "# count number of days where sunshine is at least 300 hours\n",
    "a = df_sun.sun_300.sum()\n",
    "\n",
    "# count number of days where sunshine is less than 300 hours\n",
    "a_less = df_sun.less_300.sum()\n",
    "\n",
    "# calculate the points gained when sunshine is at least 300 hours\n",
    "b = np.where(df_sun.Sun >= 300.0, df_sun.change, 0).sum()\n",
    "\n",
    "# calculate the points gained when sunshine is less than 300 hours\n",
    "c = np.where(df_sun.Sun < 300.0, df_sun.change, 0).sum()\n",
    "\n",
    "# FOR TEMPERATURE \n",
    "# count number of days where temp is at least 55 degrees F\n",
    "at = df_temp.tmp_55.sum()\n",
    "\n",
    "# count number of days where temp is less than 55\n",
    "at_less = df_temp.less_55.sum()\n",
    "\n",
    "# calculate the points gained when temp is at least 55\n",
    "bt = np.where(df_temp.avg_temp >= 55.0, df_temp.change, 0).sum()\n",
    "\n",
    "# calculate the points gained when temp is less than 55\n",
    "ct = np.where(df_temp.avg_temp < 55.0, df_temp.change, 0).sum()"
   ]
  },
  {
   "cell_type": "markdown",
   "metadata": {},
   "source": [
    "Print the results:"
   ]
  },
  {
   "cell_type": "code",
   "execution_count": 71,
   "metadata": {},
   "outputs": [
    {
     "name": "stdout",
     "output_type": "stream",
     "text": [
      "\n",
      "Total number of days when sun hours is greater than 300:\n",
      "1295\n",
      "\n",
      "Total number of days when sun hours is less than 300:\n",
      "1221\n",
      "\n",
      "Total points gained in S&P 500 when number of sun hours is greater than 300:\n",
      "1159.2999999999988\n",
      "\n",
      "Total points gained in S&P 500 when number of sun hours is less than 300:\n",
      "839.1800000000013\n",
      "\n",
      "Total number of days when temperature is greater than or equal to 55:\n",
      "1314\n",
      "\n",
      "Total number of days when temp is less than 55:\n",
      "1202\n",
      "\n",
      "Total points gained in S&P 500 when temp is greater than 55:\n",
      "1038.2800000000007\n",
      "\n",
      "Total points gained in S&P 500 when temp is less than 55:\n",
      "960.1999999999994\n"
     ]
    }
   ],
   "source": [
    "# FOR SUNSHINE\n",
    "print('\\nTotal number of days when sun hours is greater than 300:')\n",
    "print(a)\n",
    "print('\\nTotal number of days when sun hours is less than 300:')\n",
    "print(a_less)\n",
    "print('\\nTotal points gained in S&P 500 when number of sun hours is greater than 300:')\n",
    "print(b)\n",
    "print('\\nTotal points gained in S&P 500 when number of sun hours is less than 300:')\n",
    "print(c)\n",
    "\n",
    "# FOR TEMPERATURE\n",
    "print('\\nTotal number of days when temperature is greater than or equal to 55:')\n",
    "print(at)\n",
    "print('\\nTotal number of days when temp is less than 55:')\n",
    "print(at_less)\n",
    "print('\\nTotal points gained in S&P 500 when temp is greater than 55:')\n",
    "print(bt)\n",
    "print('\\nTotal points gained in S&P 500 when temp is less than 55:')\n",
    "print(ct)"
   ]
  },
  {
   "cell_type": "markdown",
   "metadata": {},
   "source": [
    "Next, compare the average daily gain / loss of S&P 500 when sunshine hours is greater or less than 300 minutes per day."
   ]
  },
  {
   "cell_type": "code",
   "execution_count": 72,
   "metadata": {},
   "outputs": [
    {
     "name": "stdout",
     "output_type": "stream",
     "text": [
      "\n",
      "Average daily gain of S&P 500 when sun hours is greater than 300:\n",
      "0.8952123552123543\n",
      "\n",
      "Average daily gain of S&P 500 when sun hours is less than 300:\n",
      "0.6872891072891084\n",
      "\n",
      "Average daily gain of S&P 500 when avg temperature is greater than 55:\n",
      "0.7901674277016748\n",
      "\n",
      "Average daily gain of S&P 500 when avg temp is less than 55:\n",
      "0.7988352745424288\n"
     ]
    }
   ],
   "source": [
    "# FOR SUNSHINE\n",
    "print('\\nAverage daily gain of S&P 500 when sun hours is greater than 300:')\n",
    "print(b/a)\n",
    "\n",
    "print('\\nAverage daily gain of S&P 500 when sun hours is less than 300:')\n",
    "print(c/a_less)\n",
    "\n",
    "# FOR TEMPERATURE\n",
    "print('\\nAverage daily gain of S&P 500 when avg temperature is greater than 55:')\n",
    "print(bt/at)\n",
    "\n",
    "print('\\nAverage daily gain of S&P 500 when avg temp is less than 55:')\n",
    "print(ct/at_less)"
   ]
  },
  {
   "cell_type": "markdown",
   "metadata": {},
   "source": [
    "Is this difference signficant for the **sunshine** data ?  Remember that the overall average for all days over the 10 year period is **0.794** calculated earlier in this notebook.  \n",
    "\n",
    "Obviously, the difference in average price gain / loss for the two different **temperature** distributions is not significant.  The avg daily gain is **0.790** and **0.800** for days above 55 degrees F and below 55, respectively. \n",
    "\n",
    "Let's quickly try the differences for over 75 degree F vs under 35 degree F cutoff:"
   ]
  },
  {
   "cell_type": "code",
   "execution_count": 73,
   "metadata": {},
   "outputs": [],
   "source": [
    "# Creae 4 new columns in the df_out_temp dataframe\n",
    "df_temp['tmp_75'] = np.where(df_temp.avg_temp > 75.0, 1, 0)\n",
    "df_temp['tmp_35'] = np.where(df_temp.avg_temp < 35.0, 1, 0)\n",
    "df_temp['value_75'] = np.where(df_temp.avg_temp > 75.0, df_temp.avg_temp, 0)\n",
    "df_temp['value_35'] = np.where(df_temp.avg_temp < 35.0, df_temp.avg_temp, 0)\n",
    "df_temp['change_75'] = np.where(df_temp.avg_temp > 75.0, df_temp.change, 0)\n",
    "df_temp['change_35'] = np.where(df_temp.avg_temp < 35.0, df_temp.change, 0)\n",
    "\n",
    "# drop unnecessary columns\n",
    "df_temp.drop(['tmp_55'], axis=1, inplace=True)\n",
    "df_temp.drop(['less_55'], axis=1, inplace=True)\n",
    "df_temp.drop(['value_55'], axis=1, inplace=True)\n",
    "df_temp.drop(['value_55_less'], axis=1, inplace=True)"
   ]
  },
  {
   "cell_type": "markdown",
   "metadata": {},
   "source": [
    "The dataframe below was created to count the days when the temp is above 75 or below 35 and to compare the two distributions with statistical tests later."
   ]
  },
  {
   "cell_type": "code",
   "execution_count": 74,
   "metadata": {},
   "outputs": [
    {
     "data": {
      "text/html": [
       "<div>\n",
       "<style scoped>\n",
       "    .dataframe tbody tr th:only-of-type {\n",
       "        vertical-align: middle;\n",
       "    }\n",
       "\n",
       "    .dataframe tbody tr th {\n",
       "        vertical-align: top;\n",
       "    }\n",
       "\n",
       "    .dataframe thead th {\n",
       "        text-align: right;\n",
       "    }\n",
       "</style>\n",
       "<table border=\"1\" class=\"dataframe\">\n",
       "  <thead>\n",
       "    <tr style=\"text-align: right;\">\n",
       "      <th></th>\n",
       "      <th>DATE</th>\n",
       "      <th>weekday</th>\n",
       "      <th>day</th>\n",
       "      <th>month</th>\n",
       "      <th>change</th>\n",
       "      <th>avg_temp</th>\n",
       "      <th>tmp_75</th>\n",
       "      <th>tmp_35</th>\n",
       "      <th>value_75</th>\n",
       "      <th>value_35</th>\n",
       "      <th>change_75</th>\n",
       "      <th>change_35</th>\n",
       "    </tr>\n",
       "  </thead>\n",
       "  <tbody>\n",
       "    <tr>\n",
       "      <th>0</th>\n",
       "      <td>2009-06-26</td>\n",
       "      <td>4</td>\n",
       "      <td>26</td>\n",
       "      <td>6</td>\n",
       "      <td>0.00</td>\n",
       "      <td>76.91</td>\n",
       "      <td>1</td>\n",
       "      <td>0</td>\n",
       "      <td>76.91</td>\n",
       "      <td>0.0</td>\n",
       "      <td>0.00</td>\n",
       "      <td>0.0</td>\n",
       "    </tr>\n",
       "    <tr>\n",
       "      <th>1</th>\n",
       "      <td>2009-06-29</td>\n",
       "      <td>0</td>\n",
       "      <td>29</td>\n",
       "      <td>6</td>\n",
       "      <td>8.33</td>\n",
       "      <td>75.43</td>\n",
       "      <td>1</td>\n",
       "      <td>0</td>\n",
       "      <td>75.43</td>\n",
       "      <td>0.0</td>\n",
       "      <td>8.33</td>\n",
       "      <td>0.0</td>\n",
       "    </tr>\n",
       "    <tr>\n",
       "      <th>2</th>\n",
       "      <td>2009-06-30</td>\n",
       "      <td>1</td>\n",
       "      <td>30</td>\n",
       "      <td>6</td>\n",
       "      <td>-7.91</td>\n",
       "      <td>77.41</td>\n",
       "      <td>1</td>\n",
       "      <td>0</td>\n",
       "      <td>77.41</td>\n",
       "      <td>0.0</td>\n",
       "      <td>-7.91</td>\n",
       "      <td>0.0</td>\n",
       "    </tr>\n",
       "    <tr>\n",
       "      <th>3</th>\n",
       "      <td>2009-07-01</td>\n",
       "      <td>2</td>\n",
       "      <td>1</td>\n",
       "      <td>7</td>\n",
       "      <td>4.01</td>\n",
       "      <td>73.40</td>\n",
       "      <td>0</td>\n",
       "      <td>0</td>\n",
       "      <td>0.00</td>\n",
       "      <td>0.0</td>\n",
       "      <td>0.00</td>\n",
       "      <td>0.0</td>\n",
       "    </tr>\n",
       "    <tr>\n",
       "      <th>4</th>\n",
       "      <td>2009-07-02</td>\n",
       "      <td>3</td>\n",
       "      <td>2</td>\n",
       "      <td>7</td>\n",
       "      <td>-26.91</td>\n",
       "      <td>71.23</td>\n",
       "      <td>0</td>\n",
       "      <td>0</td>\n",
       "      <td>0.00</td>\n",
       "      <td>0.0</td>\n",
       "      <td>0.00</td>\n",
       "      <td>0.0</td>\n",
       "    </tr>\n",
       "  </tbody>\n",
       "</table>\n",
       "</div>"
      ],
      "text/plain": [
       "        DATE  weekday  day  month  change  avg_temp  tmp_75  tmp_35  value_75  \\\n",
       "0 2009-06-26        4   26      6    0.00     76.91       1       0     76.91   \n",
       "1 2009-06-29        0   29      6    8.33     75.43       1       0     75.43   \n",
       "2 2009-06-30        1   30      6   -7.91     77.41       1       0     77.41   \n",
       "3 2009-07-01        2    1      7    4.01     73.40       0       0      0.00   \n",
       "4 2009-07-02        3    2      7  -26.91     71.23       0       0      0.00   \n",
       "\n",
       "   value_35  change_75  change_35  \n",
       "0       0.0       0.00        0.0  \n",
       "1       0.0       8.33        0.0  \n",
       "2       0.0      -7.91        0.0  \n",
       "3       0.0       0.00        0.0  \n",
       "4       0.0       0.00        0.0  "
      ]
     },
     "execution_count": 74,
     "metadata": {},
     "output_type": "execute_result"
    }
   ],
   "source": [
    "df_temp.head()"
   ]
  },
  {
   "cell_type": "code",
   "execution_count": 75,
   "metadata": {},
   "outputs": [],
   "source": [
    "# FOR TEMPERATURE \n",
    "# count number of days where temp is at least 55 degrees F\n",
    "a_75 = df_temp.tmp_75.sum()\n",
    "\n",
    "# count number of days where temp is less than 55\n",
    "a_35 = df_temp.tmp_35.sum()\n",
    "\n",
    "# calculate the points gained when temp is at least 55\n",
    "b_75 = np.where(df_temp.avg_temp > 75.0, df_temp.change, 0).sum()\n",
    "\n",
    "# calculate the points gained when temp is less than 55\n",
    "c_35 = np.where(df_temp.avg_temp < 35.0, df_temp.change, 0).sum()"
   ]
  },
  {
   "cell_type": "markdown",
   "metadata": {},
   "source": [
    "Next, print the results for comparing the two distributions."
   ]
  },
  {
   "cell_type": "code",
   "execution_count": 76,
   "metadata": {},
   "outputs": [
    {
     "name": "stdout",
     "output_type": "stream",
     "text": [
      "\n",
      "Total number of days when temperature is greater than 75:\n",
      "364\n",
      "\n",
      "Total number of days when temp is less than 35:\n",
      "405\n",
      "\n",
      "Total points gained in S&P 500 when temp is greater than 75:\n",
      "-83.90999999999872\n",
      "\n",
      "Total points gained in S&P 500 when temp is less than 35:\n",
      "411.7500000000002\n"
     ]
    }
   ],
   "source": [
    "# FOR TEMPERATURE\n",
    "print('\\nTotal number of days when temperature is greater than 75:')\n",
    "print(a_75)\n",
    "print('\\nTotal number of days when temp is less than 35:')\n",
    "print(a_35)\n",
    "print('\\nTotal points gained in S&P 500 when temp is greater than 75:')\n",
    "print(b_75)\n",
    "print('\\nTotal points gained in S&P 500 when temp is less than 35:')\n",
    "print(c_35)"
   ]
  },
  {
   "cell_type": "code",
   "execution_count": 77,
   "metadata": {},
   "outputs": [
    {
     "name": "stdout",
     "output_type": "stream",
     "text": [
      "\n",
      "Average daily gain of S&P 500 when avg temperature is greater than 75:\n",
      "-0.2305219780219745\n",
      "\n",
      "Average daily gain of S&P 500 when avg temp is less than 35:\n",
      "1.0166666666666673\n"
     ]
    }
   ],
   "source": [
    "# FOR TEMPERATURE\n",
    "print('\\nAverage daily gain of S&P 500 when avg temperature is greater than 75:')\n",
    "print(b_75/a_75)\n",
    "\n",
    "print('\\nAverage daily gain of S&P 500 when avg temp is less than 35:')\n",
    "print(c_35/a_35)"
   ]
  },
  {
   "cell_type": "markdown",
   "metadata": {},
   "source": [
    "Is this significant ?  The next step is to compute the pvalue with a ttest:"
   ]
  },
  {
   "cell_type": "code",
   "execution_count": 78,
   "metadata": {},
   "outputs": [
    {
     "data": {
      "text/plain": [
       "Ttest_indResult(statistic=-1.0460206812846735, pvalue=0.29560174677866946)"
      ]
     },
     "execution_count": 78,
     "metadata": {},
     "output_type": "execute_result"
    }
   ],
   "source": [
    "# For temp greater than 75 vs less than 35\n",
    "ttest_ind(df_temp['change_75'].dropna(), df_temp['change_35'].dropna())"
   ]
  },
  {
   "cell_type": "markdown",
   "metadata": {},
   "source": [
    "Since the pvalue is **0.295**, the difference in daily price change values is not significant.  This calculation shows that there is about a 30% chance that the difference in the results were due to randam chance.\n",
    "\n",
    "The next graph shows the visual relationship between the temperature and all of the daily change values.  From a quick scan, it looks like the returns above and below the 35 and 75 thresholds are fairly evenly distributed:  "
   ]
  },
  {
   "cell_type": "code",
   "execution_count": 79,
   "metadata": {},
   "outputs": [
    {
     "name": "stderr",
     "output_type": "stream",
     "text": [
      "'c' argument looks like a single numeric RGB or RGBA sequence, which should be avoided as value-mapping will have precedence in case its length matches with 'x' & 'y'.  Please use a 2-D array with a single row if you really want to specify the same RGB or RGBA value for all points.\n"
     ]
    },
    {
     "data": {
      "text/plain": [
       "<matplotlib.lines.Line2D at 0xde11278>"
      ]
     },
     "execution_count": 79,
     "metadata": {},
     "output_type": "execute_result"
    },
    {
     "data": {
      "image/png": "[encoded data removed]",
      "text/plain": [
       "<Figure size 864x576 with 1 Axes>"
      ]
     },
     "metadata": {},
     "output_type": "display_data"
    }
   ],
   "source": [
    "df_temp.plot(kind='scatter', x='avg_temp', y='change', title='Temperature vs daily price change', \n",
    "                 figsize=(12, 8), grid=True)\n",
    "plt.axvline(x=35.0, color='green')\n",
    "plt.axvline(x=75.0, color='red')"
   ]
  },
  {
   "cell_type": "markdown",
   "metadata": {},
   "source": [
    "As stated above, this scatter plot shows a fairly even distibution of daily price change above and below the thresholds.\n",
    "\n",
    "Now, going back to analyzing Sunshine, compare the results using a **500 daily minutes** of sun cutoff.  This is the same process and code as above only using a cutoff value of 500 instead of 300."
   ]
  },
  {
   "cell_type": "code",
   "execution_count": 80,
   "metadata": {},
   "outputs": [],
   "source": [
    "df_sun['sun_500'] = np.where(df_sun.Sun >= 500.0, 1, 0)\n",
    "df_sun['less_500'] = np.where(df_sun.Sun < 500.0, 1, 0)\n",
    "df_sun['value_5'] = np.where(df_sun.Sun >= 500.0, df_sun.change, 0)\n",
    "df_sun['value_5_less'] = np.where(df_sun.Sun < 500.0, df_sun.change, 0)"
   ]
  },
  {
   "cell_type": "code",
   "execution_count": 81,
   "metadata": {},
   "outputs": [],
   "source": [
    "x = df_sun.sun_500.sum()\n",
    "x_less = df_sun.less_500.sum()\n",
    "y = np.where(df_sun.Sun >= 500.0, df_sun.change, 0).sum()\n",
    "z = np.where(df_sun.Sun < 500.0, df_sun.change, 0).sum()"
   ]
  },
  {
   "cell_type": "markdown",
   "metadata": {},
   "source": [
    "Print the results:"
   ]
  },
  {
   "cell_type": "code",
   "execution_count": 82,
   "metadata": {},
   "outputs": [
    {
     "name": "stdout",
     "output_type": "stream",
     "text": [
      "\n",
      "Total number of days when sun hours is greater than 500:\n",
      "902\n",
      "\n",
      "Total number of days when sun hours is less than 500:\n",
      "1614\n",
      "\n",
      "Total points gained in S&P 500 when number of sun hours is greater than 500:\n",
      "589.170000000003\n",
      "\n",
      "Total points gained in S&P 500 when number of sun hours is less than 500:\n",
      "1409.3099999999972\n"
     ]
    }
   ],
   "source": [
    "print('\\nTotal number of days when sun hours is greater than 500:')\n",
    "print(x)\n",
    "\n",
    "print('\\nTotal number of days when sun hours is less than 500:')\n",
    "print(x_less)\n",
    "\n",
    "print('\\nTotal points gained in S&P 500 when number of sun hours is greater than 500:')\n",
    "print(y)\n",
    "\n",
    "print('\\nTotal points gained in S&P 500 when number of sun hours is less than 500:')\n",
    "print(z)"
   ]
  },
  {
   "cell_type": "markdown",
   "metadata": {},
   "source": [
    "Print the average daily gains of the two different groups."
   ]
  },
  {
   "cell_type": "code",
   "execution_count": 83,
   "metadata": {},
   "outputs": [
    {
     "name": "stdout",
     "output_type": "stream",
     "text": [
      "\n",
      "Average daily gain of S&P 500 when sun hours is greater than 500:\n",
      "0.6531818181818215\n",
      "\n",
      "Average daily gain of S&P 500 when sun hours is less than 500:\n",
      "0.8731784386617083\n"
     ]
    }
   ],
   "source": [
    "print('\\nAverage daily gain of S&P 500 when sun hours is greater than 500:')\n",
    "print(y/x)\n",
    "\n",
    "print('\\nAverage daily gain of S&P 500 when sun hours is less than 500:')\n",
    "print(z/x_less)"
   ]
  },
  {
   "cell_type": "markdown",
   "metadata": {},
   "source": [
    "Are these daily differences significant ?  This is strange: now the average is greater in the 'less than' group.\n",
    "\n",
    "What about the days when the number of sunsine hours is greater or less than **700** ?  This is the same process and code as above only using a cutoff value of 700/300 instead of 300 or 500.  Create the new columns in the dataframe:"
   ]
  },
  {
   "cell_type": "code",
   "execution_count": 84,
   "metadata": {},
   "outputs": [],
   "source": [
    "df_sun['sun_700'] = np.where(df_sun.Sun >= 700.0, 1, 0)\n",
    "df_sun['less_700'] = np.where(df_sun.Sun < 700.0, 1, 0)\n",
    "df_sun['value_7'] = np.where(df_sun.Sun >= 700.0, df_sun.change, 0)\n",
    "df_sun['value_7_less'] = np.where(df_sun.Sun < 700.0, df_sun.change, 0)\n",
    "\n",
    "d = df_sun.sun_700.sum()\n",
    "d_less = df_sun.less_700.sum()\n",
    "e = np.where(df_sun.Sun >= 700.0, df_sun.change, 0).sum()\n",
    "f = np.where(df_sun.Sun < 700.0, df_sun.change, 0).sum()"
   ]
  },
  {
   "cell_type": "markdown",
   "metadata": {},
   "source": [
    "Print the results:"
   ]
  },
  {
   "cell_type": "code",
   "execution_count": 85,
   "metadata": {},
   "outputs": [
    {
     "name": "stdout",
     "output_type": "stream",
     "text": [
      "\n",
      "Total number of days when sun hours is greater than 700:\n",
      "373\n",
      "\n",
      "Total number of days when sun hours is less than 700:\n",
      "2143\n",
      "\n",
      "Total points gained in S&P 500 when number of sun hours is greater than 700:\n",
      "211.11999999999966\n",
      "\n",
      "Total points gained in S&P 500 when number of sun hours is less than 700:\n",
      "1787.3600000000006\n"
     ]
    }
   ],
   "source": [
    "print('\\nTotal number of days when sun hours is greater than 700:')\n",
    "print(d)\n",
    "\n",
    "print('\\nTotal number of days when sun hours is less than 700:')\n",
    "print(d_less)\n",
    "\n",
    "print('\\nTotal points gained in S&P 500 when number of sun hours is greater than 700:')\n",
    "print(e)\n",
    "\n",
    "print('\\nTotal points gained in S&P 500 when number of sun hours is less than 700:')\n",
    "print(f)"
   ]
  },
  {
   "cell_type": "markdown",
   "metadata": {},
   "source": [
    "Print the average daily gains of the two different groups."
   ]
  },
  {
   "cell_type": "code",
   "execution_count": 86,
   "metadata": {},
   "outputs": [
    {
     "name": "stdout",
     "output_type": "stream",
     "text": [
      "\n",
      "Average daily gain of S&P 500 when sun hours is greater than 700:\n",
      "0.566005361930294\n",
      "\n",
      "Average daily gain of S&P 500 when sun hours is less than 700:\n",
      "0.834045730284648\n"
     ]
    }
   ],
   "source": [
    "print('\\nAverage daily gain of S&P 500 when sun hours is greater than 700:')\n",
    "print(e/d)\n",
    "\n",
    "print('\\nAverage daily gain of S&P 500 when sun hours is less than 700:')\n",
    "print(f/d_less)"
   ]
  },
  {
   "cell_type": "markdown",
   "metadata": {},
   "source": [
    "Are these daily averge differences significant ?  It seems odd that the daily average gain for days with more than 300 minutes is larger than those days with less than 300.  However, the reverse is true for days where the cutoff of sunshine hours is 500 and 700.  In other words, the average daily price where sunshine hours is more than 500 and 700, is less than the gain on days where there is less than 500 and 700 hours of sun, respectively.  What is going on here ?  The next step uses a t-test to determine the significance of the results."
   ]
  },
  {
   "cell_type": "code",
   "execution_count": 87,
   "metadata": {},
   "outputs": [
    {
     "data": {
      "text/plain": [
       "Ttest_indResult(statistic=0.3810877859627107, pvalue=0.7031542048478165)"
      ]
     },
     "execution_count": 87,
     "metadata": {},
     "output_type": "execute_result"
    }
   ],
   "source": [
    "# For sunshine more than 300 vs less than 300\n",
    "ttest_ind(df_sun['value_3'].dropna(), df_sun['value_3_less'].dropna())"
   ]
  },
  {
   "cell_type": "code",
   "execution_count": 88,
   "metadata": {},
   "outputs": [
    {
     "data": {
      "text/plain": [
       "Ttest_indResult(statistic=-0.9764164785096374, pvalue=0.328905074534642)"
      ]
     },
     "execution_count": 88,
     "metadata": {},
     "output_type": "execute_result"
    }
   ],
   "source": [
    "# For sunshine more than 500 vs less than 500\n",
    "ttest_ind(df_sun['value_5'].dropna(), df_sun['value_5_less'].dropna())"
   ]
  },
  {
   "cell_type": "code",
   "execution_count": 89,
   "metadata": {},
   "outputs": [
    {
     "data": {
      "text/plain": [
       "Ttest_indResult(statistic=-1.877069483932292, pvalue=0.06056640489040069)"
      ]
     },
     "execution_count": 89,
     "metadata": {},
     "output_type": "execute_result"
    }
   ],
   "source": [
    "# For sunshine more than 700 vs less than 700\n",
    "ttest_ind(df_sun['value_7'].dropna(), df_sun['value_7_less'].dropna())"
   ]
  },
  {
   "cell_type": "markdown",
   "metadata": {},
   "source": [
    "From these Ttests, none of the differences are significant; all could have happened due to random chance.  However, for days more or less than 700 minutes of sun, the pvalue is just slightly above 0.05 (actual value = 0.061).  Remember, the average gain was higher where number of sunshine minutes was less than 700.  This could be due to the fact that the winter months in general perform better than the summer months, but it could also de due to randome chance.  The p-value is not low enough to draw a concrete conclusion.   \n",
    "\n",
    "The following plot shows the relationship between amount of daily sunhine vs. daily price change.  This should help to further clarify whether a true difference exists."
   ]
  },
  {
   "cell_type": "code",
   "execution_count": 90,
   "metadata": {},
   "outputs": [
    {
     "name": "stderr",
     "output_type": "stream",
     "text": [
      "'c' argument looks like a single numeric RGB or RGBA sequence, which should be avoided as value-mapping will have precedence in case its length matches with 'x' & 'y'.  Please use a 2-D array with a single row if you really want to specify the same RGB or RGBA value for all points.\n"
     ]
    },
    {
     "data": {
      "text/plain": [
       "<matplotlib.lines.Line2D at 0xdeb6cc0>"
      ]
     },
     "execution_count": 90,
     "metadata": {},
     "output_type": "execute_result"
    },
    {
     "data": {
      "image/png": "[encoded data removed]",
      "text/plain": [
       "<Figure size 864x576 with 1 Axes>"
      ]
     },
     "metadata": {},
     "output_type": "display_data"
    }
   ],
   "source": [
    "df_sun.plot(kind='scatter', x='Sun', y='change', title='Amount of sunshine per day vs daily price change', \n",
    "                 figsize=(12, 8), grid=True)\n",
    "plt.axvline(x=300, color='yellow')\n",
    "plt.axvline(x=500, color='orange')\n",
    "plt.axvline(x=700, color='red')"
   ]
  },
  {
   "cell_type": "markdown",
   "metadata": {},
   "source": [
    "As the calculations and significance tests above show, it looks like there really is not a significant correlation between the amount of daily sunshine in New York City and the price change of the S&P 500 over the last 10 years.  The winter (and thus less sunny) months might perform slightly better, but very difficult to see any evidence of that in the above scatter plot.  **The safest conclusion and the conclusion best supported by the data is that there really is no signficant difference in daily returns regardless of the season or the amount of sunshine or the average daily temperature**. "
   ]
  },
  {
   "cell_type": "markdown",
   "metadata": {},
   "source": [
    "### 3.B.  Question: Is it possible to build a supervised learning model that uses the day of the week, month, day of month and weather data to predict daily price change of the S&P 500 ?"
   ]
  },
  {
   "cell_type": "markdown",
   "metadata": {},
   "source": [
    "First, show the dataframe created earlier that has the day of week, month and day of month - along with the daily price change, average daily temperature and daily sunshine minutes."
   ]
  },
  {
   "cell_type": "code",
   "execution_count": 91,
   "metadata": {},
   "outputs": [
    {
     "data": {
      "text/html": [
       "<div>\n",
       "<style scoped>\n",
       "    .dataframe tbody tr th:only-of-type {\n",
       "        vertical-align: middle;\n",
       "    }\n",
       "\n",
       "    .dataframe tbody tr th {\n",
       "        vertical-align: top;\n",
       "    }\n",
       "\n",
       "    .dataframe thead th {\n",
       "        text-align: right;\n",
       "    }\n",
       "</style>\n",
       "<table border=\"1\" class=\"dataframe\">\n",
       "  <thead>\n",
       "    <tr style=\"text-align: right;\">\n",
       "      <th></th>\n",
       "      <th>DATE</th>\n",
       "      <th>weekday</th>\n",
       "      <th>month</th>\n",
       "      <th>day</th>\n",
       "      <th>change</th>\n",
       "      <th>avg_temp</th>\n",
       "      <th>Sun</th>\n",
       "    </tr>\n",
       "  </thead>\n",
       "  <tbody>\n",
       "    <tr>\n",
       "      <th>0</th>\n",
       "      <td>2009-06-26</td>\n",
       "      <td>4</td>\n",
       "      <td>6</td>\n",
       "      <td>26</td>\n",
       "      <td>0.00</td>\n",
       "      <td>76.91</td>\n",
       "      <td>418.70</td>\n",
       "    </tr>\n",
       "    <tr>\n",
       "      <th>1</th>\n",
       "      <td>2009-06-29</td>\n",
       "      <td>0</td>\n",
       "      <td>6</td>\n",
       "      <td>29</td>\n",
       "      <td>8.33</td>\n",
       "      <td>75.43</td>\n",
       "      <td>848.28</td>\n",
       "    </tr>\n",
       "    <tr>\n",
       "      <th>2</th>\n",
       "      <td>2009-06-30</td>\n",
       "      <td>1</td>\n",
       "      <td>6</td>\n",
       "      <td>30</td>\n",
       "      <td>-7.91</td>\n",
       "      <td>77.41</td>\n",
       "      <td>608.00</td>\n",
       "    </tr>\n",
       "    <tr>\n",
       "      <th>3</th>\n",
       "      <td>2009-07-01</td>\n",
       "      <td>2</td>\n",
       "      <td>7</td>\n",
       "      <td>1</td>\n",
       "      <td>4.01</td>\n",
       "      <td>73.40</td>\n",
       "      <td>168.86</td>\n",
       "    </tr>\n",
       "    <tr>\n",
       "      <th>4</th>\n",
       "      <td>2009-07-02</td>\n",
       "      <td>3</td>\n",
       "      <td>7</td>\n",
       "      <td>2</td>\n",
       "      <td>-26.91</td>\n",
       "      <td>71.23</td>\n",
       "      <td>225.66</td>\n",
       "    </tr>\n",
       "  </tbody>\n",
       "</table>\n",
       "</div>"
      ],
      "text/plain": [
       "        DATE  weekday  month  day  change  avg_temp     Sun\n",
       "0 2009-06-26        4      6   26    0.00     76.91  418.70\n",
       "1 2009-06-29        0      6   29    8.33     75.43  848.28\n",
       "2 2009-06-30        1      6   30   -7.91     77.41  608.00\n",
       "3 2009-07-01        2      7    1    4.01     73.40  168.86\n",
       "4 2009-07-02        3      7    2  -26.91     71.23  225.66"
      ]
     },
     "execution_count": 91,
     "metadata": {},
     "output_type": "execute_result"
    }
   ],
   "source": [
    "df_both.head()"
   ]
  },
  {
   "cell_type": "markdown",
   "metadata": {},
   "source": [
    "These will be regression models because the dependent variable that will be predicted is daily price change, which is continuous.  First, set up the training and test data sets like we did before."
   ]
  },
  {
   "cell_type": "code",
   "execution_count": 92,
   "metadata": {},
   "outputs": [
    {
     "name": "stdout",
     "output_type": "stream",
     "text": [
      "(2012, 6)\n",
      "(504, 6)\n"
     ]
    }
   ],
   "source": [
    "# drop the 'DATE' column because it is not needed; the date elements are already included\n",
    "df_both.drop(['DATE'], axis=1, inplace=True)\n",
    "\n",
    "# Create training and test sets.\n",
    "offset_both = int(df_both.shape[0] * 0.8)\n",
    "\n",
    "# set the training and test set dataframes according to the split in the previous line of code\n",
    "df_train_both = df_both[:offset_both]\n",
    "df_test_both = df_both[offset_both:]\n",
    "\n",
    "# print the number of rows and columns for the new dataframes\n",
    "print(df_train_both.shape)\n",
    "print(df_test_both.shape)"
   ]
  },
  {
   "cell_type": "markdown",
   "metadata": {},
   "source": [
    "As shown above, the new dataframs have 7 columns and the training consists of 80% of the data while 20% is reserved for the test set.  \n",
    "\n",
    "Try **Linear Regression** first:"
   ]
  },
  {
   "cell_type": "code",
   "execution_count": 93,
   "metadata": {},
   "outputs": [
    {
     "name": "stdout",
     "output_type": "stream",
     "text": [
      "\n",
      "Duration: 0:00:00.115007\n"
     ]
    },
    {
     "name": "stderr",
     "output_type": "stream",
     "text": [
      "C:\\Users\\Fred\\Anaconda3\\lib\\site-packages\\pandas\\core\\frame.py:3940: SettingWithCopyWarning: \n",
      "A value is trying to be set on a copy of a slice from a DataFrame\n",
      "\n",
      "See the caveats in the documentation: http://pandas.pydata.org/pandas-docs/stable/indexing.html#indexing-view-versus-copy\n",
      "  errors=errors)\n",
      "C:\\Users\\Fred\\Anaconda3\\lib\\site-packages\\pandas\\core\\frame.py:3940: SettingWithCopyWarning: \n",
      "A value is trying to be set on a copy of a slice from a DataFrame\n",
      "\n",
      "See the caveats in the documentation: http://pandas.pydata.org/pandas-docs/stable/indexing.html#indexing-view-versus-copy\n",
      "  errors=errors)\n"
     ]
    }
   ],
   "source": [
    "# 1.  Linear Regression\n",
    "\n",
    "from datetime import datetime\n",
    "start_time = datetime.now()\n",
    "\n",
    "# Instantiate our model.\n",
    "regr_both = linear_model.LinearRegression()\n",
    "\n",
    "# set features and dependent variable for training data\n",
    "y_train_both = df_train_both['change'].values\n",
    "\n",
    "# drop the 'change' column to obtain the feature inputs\n",
    "df_train_both.drop(['change'], axis=1, inplace=True)\n",
    "\n",
    "# normalize the training data\n",
    "x_train_both = sklearn.preprocessing.normalize(df_train_both)\n",
    "# x_train_gold = df_train_gold\n",
    "\n",
    "# now for test...\n",
    "y_test_both = df_test_both['change'].values\n",
    "\n",
    "# drop the 'change' column to obtain the feature inputs\n",
    "df_test_both.drop(['change'], axis=1, inplace=True)\n",
    "\n",
    "# normalize the test data\n",
    "x_test_both = sklearn.preprocessing.normalize(df_test_both)\n",
    "# x_test_gold = df_test_gold\n",
    "\n",
    "# fit model to training data\n",
    "regr_both.fit(x_train_both, y_train_both)\n",
    "\n",
    "end_time = datetime.now()\n",
    "print('\\nDuration: {}'.format(end_time - start_time))"
   ]
  },
  {
   "cell_type": "markdown",
   "metadata": {},
   "source": [
    "After fitting the model above, print the results below:"
   ]
  },
  {
   "cell_type": "code",
   "execution_count": 94,
   "metadata": {},
   "outputs": [
    {
     "name": "stdout",
     "output_type": "stream",
     "text": [
      "Coefficients: \n",
      " [ 3.57756166  3.10150904 -1.47460292  2.47753905  2.06545587]\n",
      "Intercept: \n",
      " -1.7000859217184647\n",
      "\n",
      "R-squared train:\n",
      "0.0006136080436329738\n",
      "\n",
      "R-squared test:\n",
      "-0.0020524175019946966\n"
     ]
    }
   ],
   "source": [
    "# Display the attributes we calculated.\n",
    "print('Coefficients: \\n', regr_both.coef_)\n",
    "print('Intercept: \\n', regr_both.intercept_)\n",
    "print('\\nR-squared train:')\n",
    "print(regr_both.score(x_train_both, y_train_both))\n",
    "\n",
    "print('\\nR-squared test:')\n",
    "print(regr_both.score(x_test_both, y_test_both))"
   ]
  },
  {
   "cell_type": "markdown",
   "metadata": {},
   "source": [
    "Not too surprising.  The prediction scores are close to zero.  Since there was no correlation with the weather data and the supervised model created and executed earlier in this notebook did not yield useful results, this model as well, is not very helpful.  The Random Forest Regressor algorithm and Gradient Boosting Regression are shown next.  The expectation is that these models also will not yield helpful results, however, a check is needed in the following steps just to make sure.  **Random Forest Regressor** is next:"
   ]
  },
  {
   "cell_type": "code",
   "execution_count": 95,
   "metadata": {},
   "outputs": [
    {
     "data": {
      "text/plain": [
       "RandomForestRegressor(bootstrap=True, criterion='mse', max_depth=10,\n",
       "           max_features='auto', max_leaf_nodes=None,\n",
       "           min_impurity_decrease=0.0, min_impurity_split=None,\n",
       "           min_samples_leaf=1, min_samples_split=2,\n",
       "           min_weight_fraction_leaf=0.0, n_estimators=500, n_jobs=None,\n",
       "           oob_score=False, random_state=None, verbose=0, warm_start=False)"
      ]
     },
     "execution_count": 95,
     "metadata": {},
     "output_type": "execute_result"
    }
   ],
   "source": [
    "# 2.  Random Forest Regressor\n",
    "\n",
    "from sklearn.ensemble import RandomForestRegressor\n",
    "\n",
    "# Instantiate our model.\n",
    "rfr_both = RandomForestRegressor(n_estimators=500, max_depth=10)\n",
    "\n",
    "# fit model to data\n",
    "rfr_both.fit(x_train_both, y_train_both)"
   ]
  },
  {
   "cell_type": "markdown",
   "metadata": {},
   "source": [
    "The fit is performed above, the results are next:"
   ]
  },
  {
   "cell_type": "code",
   "execution_count": 96,
   "metadata": {},
   "outputs": [
    {
     "name": "stdout",
     "output_type": "stream",
     "text": [
      "\n",
      "R-squared train:\n",
      "0.3115781775211953\n",
      "\n",
      "R-squared test:\n",
      "-0.01245617691722778\n"
     ]
    }
   ],
   "source": [
    "# Display the score for training and test:\n",
    "\n",
    "print('\\nR-squared train:')\n",
    "print(rfr_both.score(x_train_both, y_train_both))\n",
    "\n",
    "print('\\nR-squared test:')\n",
    "print(rfr_both.score(x_test_both, y_test_both))"
   ]
  },
  {
   "cell_type": "markdown",
   "metadata": {},
   "source": [
    "This is interesting - the score for training is reasonably high, however, score for test is very low.  Looks like the model is overfit.  Note:  A hyperparameter of max_depth=50 was used and the R-square for train came out to be 0.84 which is even more overfit.  **Gradient Boosting** is next:"
   ]
  },
  {
   "cell_type": "code",
   "execution_count": 97,
   "metadata": {},
   "outputs": [
    {
     "data": {
      "text/plain": [
       "GradientBoostingRegressor(alpha=0.9, criterion='friedman_mse', init=None,\n",
       "             learning_rate=0.1, loss='ls', max_depth=3, max_features=None,\n",
       "             max_leaf_nodes=None, min_impurity_decrease=0.0,\n",
       "             min_impurity_split=None, min_samples_leaf=1,\n",
       "             min_samples_split=2, min_weight_fraction_leaf=0.0,\n",
       "             n_estimators=500, n_iter_no_change=None, presort='auto',\n",
       "             random_state=None, subsample=1.0, tol=0.0001,\n",
       "             validation_fraction=0.1, verbose=0, warm_start=False)"
      ]
     },
     "execution_count": 97,
     "metadata": {},
     "output_type": "execute_result"
    }
   ],
   "source": [
    "# 3.  Gradient Boosting Regressor\n",
    "\n",
    "from sklearn.ensemble import GradientBoostingRegressor\n",
    "\n",
    "# Instantiate our model\n",
    "gbr_both = GradientBoostingRegressor(n_estimators=500)\n",
    "\n",
    "# fit model to data\n",
    "gbr_both.fit(x_train_both, y_train_both)"
   ]
  },
  {
   "cell_type": "code",
   "execution_count": 98,
   "metadata": {},
   "outputs": [
    {
     "name": "stdout",
     "output_type": "stream",
     "text": [
      "\n",
      "R-squared train:\n",
      "0.6025383942041649\n",
      "\n",
      "R-squared test:\n",
      "-0.08144184855013004\n"
     ]
    }
   ],
   "source": [
    "# Display the score for training and test:\n",
    "\n",
    "print('\\nR-squared train:')\n",
    "print(gbr_both.score(x_train_both, y_train_both))\n",
    "\n",
    "print('\\nR-squared test:')\n",
    "print(gbr_both.score(x_test_both, y_test_both))"
   ]
  },
  {
   "cell_type": "markdown",
   "metadata": {},
   "source": [
    "Here again, a solid accuracy score for the training data, but not useful for test data.  The two dataframes - training and test - have a high degree of variance with these particular parameters.  In conclusion, it is very hard to build a supervised model to predict the daily change in price for the S&P 500 given data data and weather data.  \n",
    "\n",
    "A final section of this notebook is dedicated to supervised learning methods to determine if some kind of relationship or relationships can be derived by looking at the price change for each of the 5 securities (S&P 500, 10 Yr Bond, Gold, Oil, Bitcoin) over the past 10 years.  In other words, maybe one or more of these securities move together or maybe some move in opposite directions and are thus negatively correlated.  The goal is to look for some kind of cluster or grouping of securities in order to take strategic action in the future.  For example, if gold and oil move together - since they are both commodities - maybe holding both of these commodities in a portfolio is not necessary.  Or, another strategy could be to buy one of the commodities if the other has moved up considerably (comparatively) in the recent past.  \n",
    "\n",
    "### 3.C. Question:  Is it possible to build an unsupervised learning model to identify relationships among the 4 securites previously analyzed in this study ?  \n",
    "\n",
    "**Answer:**  Possibly.  See analysis below.\n",
    "\n",
    "Set up the new dataframe which will constist of all of the daily 'change' values for each of the 4 securities over the past 10 years.  Bitcoin 'change' data is not included because the data only covers about 4.5 years.  \n",
    "\n",
    "First, look at the dataframes and rename some columns to merge the dataframes with the relevent information."
   ]
  },
  {
   "cell_type": "code",
   "execution_count": 99,
   "metadata": {},
   "outputs": [
    {
     "data": {
      "text/html": [
       "<div>\n",
       "<style scoped>\n",
       "    .dataframe tbody tr th:only-of-type {\n",
       "        vertical-align: middle;\n",
       "    }\n",
       "\n",
       "    .dataframe tbody tr th {\n",
       "        vertical-align: top;\n",
       "    }\n",
       "\n",
       "    .dataframe thead th {\n",
       "        text-align: right;\n",
       "    }\n",
       "</style>\n",
       "<table border=\"1\" class=\"dataframe\">\n",
       "  <thead>\n",
       "    <tr style=\"text-align: right;\">\n",
       "      <th></th>\n",
       "      <th>DATE</th>\n",
       "      <th>weekday</th>\n",
       "      <th>day</th>\n",
       "      <th>month</th>\n",
       "      <th>change</th>\n",
       "    </tr>\n",
       "  </thead>\n",
       "  <tbody>\n",
       "    <tr>\n",
       "      <th>0</th>\n",
       "      <td>2009-06-26</td>\n",
       "      <td>4</td>\n",
       "      <td>26</td>\n",
       "      <td>6</td>\n",
       "      <td>0.00</td>\n",
       "    </tr>\n",
       "    <tr>\n",
       "      <th>1</th>\n",
       "      <td>2009-06-29</td>\n",
       "      <td>0</td>\n",
       "      <td>29</td>\n",
       "      <td>6</td>\n",
       "      <td>8.33</td>\n",
       "    </tr>\n",
       "    <tr>\n",
       "      <th>2</th>\n",
       "      <td>2009-06-30</td>\n",
       "      <td>1</td>\n",
       "      <td>30</td>\n",
       "      <td>6</td>\n",
       "      <td>-7.91</td>\n",
       "    </tr>\n",
       "    <tr>\n",
       "      <th>3</th>\n",
       "      <td>2009-07-01</td>\n",
       "      <td>2</td>\n",
       "      <td>1</td>\n",
       "      <td>7</td>\n",
       "      <td>4.01</td>\n",
       "    </tr>\n",
       "    <tr>\n",
       "      <th>4</th>\n",
       "      <td>2009-07-02</td>\n",
       "      <td>3</td>\n",
       "      <td>2</td>\n",
       "      <td>7</td>\n",
       "      <td>-26.91</td>\n",
       "    </tr>\n",
       "  </tbody>\n",
       "</table>\n",
       "</div>"
      ],
      "text/plain": [
       "        DATE  weekday  day  month  change\n",
       "0 2009-06-26        4   26      6    0.00\n",
       "1 2009-06-29        0   29      6    8.33\n",
       "2 2009-06-30        1   30      6   -7.91\n",
       "3 2009-07-01        2    1      7    4.01\n",
       "4 2009-07-02        3    2      7  -26.91"
      ]
     },
     "execution_count": 99,
     "metadata": {},
     "output_type": "execute_result"
    }
   ],
   "source": [
    "df.head()"
   ]
  },
  {
   "cell_type": "code",
   "execution_count": 100,
   "metadata": {},
   "outputs": [
    {
     "data": {
      "text/html": [
       "<div>\n",
       "<style scoped>\n",
       "    .dataframe tbody tr th:only-of-type {\n",
       "        vertical-align: middle;\n",
       "    }\n",
       "\n",
       "    .dataframe tbody tr th {\n",
       "        vertical-align: top;\n",
       "    }\n",
       "\n",
       "    .dataframe thead th {\n",
       "        text-align: right;\n",
       "    }\n",
       "</style>\n",
       "<table border=\"1\" class=\"dataframe\">\n",
       "  <thead>\n",
       "    <tr style=\"text-align: right;\">\n",
       "      <th></th>\n",
       "      <th>DATE</th>\n",
       "      <th>DGS10</th>\n",
       "      <th>price</th>\n",
       "      <th>date_time</th>\n",
       "      <th>weekday</th>\n",
       "      <th>day</th>\n",
       "      <th>month</th>\n",
       "      <th>year</th>\n",
       "      <th>change</th>\n",
       "      <th>Monday</th>\n",
       "      <th>Tuesday</th>\n",
       "      <th>Wednesday</th>\n",
       "      <th>Thursday</th>\n",
       "      <th>Friday</th>\n",
       "    </tr>\n",
       "  </thead>\n",
       "  <tbody>\n",
       "    <tr>\n",
       "      <th>0</th>\n",
       "      <td>2009-06-26</td>\n",
       "      <td>3.52</td>\n",
       "      <td>3.52</td>\n",
       "      <td>2009-06-26</td>\n",
       "      <td>4</td>\n",
       "      <td>26</td>\n",
       "      <td>6</td>\n",
       "      <td>2009</td>\n",
       "      <td>NaN</td>\n",
       "      <td>NaN</td>\n",
       "      <td>NaN</td>\n",
       "      <td>NaN</td>\n",
       "      <td>NaN</td>\n",
       "      <td>NaN</td>\n",
       "    </tr>\n",
       "    <tr>\n",
       "      <th>1</th>\n",
       "      <td>2009-06-29</td>\n",
       "      <td>3.51</td>\n",
       "      <td>3.51</td>\n",
       "      <td>2009-06-29</td>\n",
       "      <td>0</td>\n",
       "      <td>29</td>\n",
       "      <td>6</td>\n",
       "      <td>2009</td>\n",
       "      <td>-0.01</td>\n",
       "      <td>-0.01</td>\n",
       "      <td>NaN</td>\n",
       "      <td>NaN</td>\n",
       "      <td>NaN</td>\n",
       "      <td>NaN</td>\n",
       "    </tr>\n",
       "    <tr>\n",
       "      <th>2</th>\n",
       "      <td>2009-06-30</td>\n",
       "      <td>3.53</td>\n",
       "      <td>3.53</td>\n",
       "      <td>2009-06-30</td>\n",
       "      <td>1</td>\n",
       "      <td>30</td>\n",
       "      <td>6</td>\n",
       "      <td>2009</td>\n",
       "      <td>0.02</td>\n",
       "      <td>NaN</td>\n",
       "      <td>0.02</td>\n",
       "      <td>NaN</td>\n",
       "      <td>NaN</td>\n",
       "      <td>NaN</td>\n",
       "    </tr>\n",
       "    <tr>\n",
       "      <th>3</th>\n",
       "      <td>2009-07-01</td>\n",
       "      <td>3.55</td>\n",
       "      <td>3.55</td>\n",
       "      <td>2009-07-01</td>\n",
       "      <td>2</td>\n",
       "      <td>1</td>\n",
       "      <td>7</td>\n",
       "      <td>2009</td>\n",
       "      <td>0.02</td>\n",
       "      <td>NaN</td>\n",
       "      <td>NaN</td>\n",
       "      <td>0.02</td>\n",
       "      <td>NaN</td>\n",
       "      <td>NaN</td>\n",
       "    </tr>\n",
       "    <tr>\n",
       "      <th>4</th>\n",
       "      <td>2009-07-02</td>\n",
       "      <td>3.51</td>\n",
       "      <td>3.51</td>\n",
       "      <td>2009-07-02</td>\n",
       "      <td>3</td>\n",
       "      <td>2</td>\n",
       "      <td>7</td>\n",
       "      <td>2009</td>\n",
       "      <td>-0.04</td>\n",
       "      <td>NaN</td>\n",
       "      <td>NaN</td>\n",
       "      <td>NaN</td>\n",
       "      <td>-0.04</td>\n",
       "      <td>NaN</td>\n",
       "    </tr>\n",
       "  </tbody>\n",
       "</table>\n",
       "</div>"
      ],
      "text/plain": [
       "         DATE DGS10  price  date_time  weekday  day  month  year  change  \\\n",
       "0  2009-06-26  3.52   3.52 2009-06-26        4   26      6  2009     NaN   \n",
       "1  2009-06-29  3.51   3.51 2009-06-29        0   29      6  2009   -0.01   \n",
       "2  2009-06-30  3.53   3.53 2009-06-30        1   30      6  2009    0.02   \n",
       "3  2009-07-01  3.55   3.55 2009-07-01        2    1      7  2009    0.02   \n",
       "4  2009-07-02  3.51   3.51 2009-07-02        3    2      7  2009   -0.04   \n",
       "\n",
       "   Monday  Tuesday  Wednesday  Thursday  Friday  \n",
       "0     NaN      NaN        NaN       NaN     NaN  \n",
       "1   -0.01      NaN        NaN       NaN     NaN  \n",
       "2     NaN     0.02        NaN       NaN     NaN  \n",
       "3     NaN      NaN       0.02       NaN     NaN  \n",
       "4     NaN      NaN        NaN     -0.04     NaN  "
      ]
     },
     "execution_count": 100,
     "metadata": {},
     "output_type": "execute_result"
    }
   ],
   "source": [
    "df_10_10.head()"
   ]
  },
  {
   "cell_type": "markdown",
   "metadata": {},
   "source": [
    "The 'change' column of the above 2 dataframes needs to be combined into 1 dataframe and labeled correctly.  The following code renames the 'change' column for the appropriate security; then the 10 Yr Bond data is merged with the S&P data; then the gold and oil 'change' values are added to the final dataframe."
   ]
  },
  {
   "cell_type": "code",
   "execution_count": 101,
   "metadata": {},
   "outputs": [
    {
     "data": {
      "text/html": [
       "<div>\n",
       "<style scoped>\n",
       "    .dataframe tbody tr th:only-of-type {\n",
       "        vertical-align: middle;\n",
       "    }\n",
       "\n",
       "    .dataframe tbody tr th {\n",
       "        vertical-align: top;\n",
       "    }\n",
       "\n",
       "    .dataframe thead th {\n",
       "        text-align: right;\n",
       "    }\n",
       "</style>\n",
       "<table border=\"1\" class=\"dataframe\">\n",
       "  <thead>\n",
       "    <tr style=\"text-align: right;\">\n",
       "      <th></th>\n",
       "      <th>DATE</th>\n",
       "      <th>DGS10</th>\n",
       "      <th>price</th>\n",
       "      <th>date_time</th>\n",
       "      <th>weekday</th>\n",
       "      <th>day</th>\n",
       "      <th>month</th>\n",
       "      <th>year</th>\n",
       "      <th>change</th>\n",
       "      <th>Monday</th>\n",
       "      <th>Tuesday</th>\n",
       "      <th>Wednesday</th>\n",
       "      <th>Thursday</th>\n",
       "      <th>Friday</th>\n",
       "    </tr>\n",
       "  </thead>\n",
       "  <tbody>\n",
       "    <tr>\n",
       "      <th>0</th>\n",
       "      <td>2009-06-26</td>\n",
       "      <td>3.52</td>\n",
       "      <td>3.52</td>\n",
       "      <td>2009-06-26</td>\n",
       "      <td>4</td>\n",
       "      <td>26</td>\n",
       "      <td>6</td>\n",
       "      <td>2009</td>\n",
       "      <td>NaN</td>\n",
       "      <td>NaN</td>\n",
       "      <td>NaN</td>\n",
       "      <td>NaN</td>\n",
       "      <td>NaN</td>\n",
       "      <td>NaN</td>\n",
       "    </tr>\n",
       "    <tr>\n",
       "      <th>1</th>\n",
       "      <td>2009-06-29</td>\n",
       "      <td>3.51</td>\n",
       "      <td>3.51</td>\n",
       "      <td>2009-06-29</td>\n",
       "      <td>0</td>\n",
       "      <td>29</td>\n",
       "      <td>6</td>\n",
       "      <td>2009</td>\n",
       "      <td>-0.01</td>\n",
       "      <td>-0.01</td>\n",
       "      <td>NaN</td>\n",
       "      <td>NaN</td>\n",
       "      <td>NaN</td>\n",
       "      <td>NaN</td>\n",
       "    </tr>\n",
       "    <tr>\n",
       "      <th>2</th>\n",
       "      <td>2009-06-30</td>\n",
       "      <td>3.53</td>\n",
       "      <td>3.53</td>\n",
       "      <td>2009-06-30</td>\n",
       "      <td>1</td>\n",
       "      <td>30</td>\n",
       "      <td>6</td>\n",
       "      <td>2009</td>\n",
       "      <td>0.02</td>\n",
       "      <td>NaN</td>\n",
       "      <td>0.02</td>\n",
       "      <td>NaN</td>\n",
       "      <td>NaN</td>\n",
       "      <td>NaN</td>\n",
       "    </tr>\n",
       "    <tr>\n",
       "      <th>3</th>\n",
       "      <td>2009-07-01</td>\n",
       "      <td>3.55</td>\n",
       "      <td>3.55</td>\n",
       "      <td>2009-07-01</td>\n",
       "      <td>2</td>\n",
       "      <td>1</td>\n",
       "      <td>7</td>\n",
       "      <td>2009</td>\n",
       "      <td>0.02</td>\n",
       "      <td>NaN</td>\n",
       "      <td>NaN</td>\n",
       "      <td>0.02</td>\n",
       "      <td>NaN</td>\n",
       "      <td>NaN</td>\n",
       "    </tr>\n",
       "    <tr>\n",
       "      <th>4</th>\n",
       "      <td>2009-07-02</td>\n",
       "      <td>3.51</td>\n",
       "      <td>3.51</td>\n",
       "      <td>2009-07-02</td>\n",
       "      <td>3</td>\n",
       "      <td>2</td>\n",
       "      <td>7</td>\n",
       "      <td>2009</td>\n",
       "      <td>-0.04</td>\n",
       "      <td>NaN</td>\n",
       "      <td>NaN</td>\n",
       "      <td>NaN</td>\n",
       "      <td>-0.04</td>\n",
       "      <td>NaN</td>\n",
       "    </tr>\n",
       "  </tbody>\n",
       "</table>\n",
       "</div>"
      ],
      "text/plain": [
       "         DATE DGS10  price  date_time  weekday  day  month  year  change  \\\n",
       "0  2009-06-26  3.52   3.52 2009-06-26        4   26      6  2009     NaN   \n",
       "1  2009-06-29  3.51   3.51 2009-06-29        0   29      6  2009   -0.01   \n",
       "2  2009-06-30  3.53   3.53 2009-06-30        1   30      6  2009    0.02   \n",
       "3  2009-07-01  3.55   3.55 2009-07-01        2    1      7  2009    0.02   \n",
       "4  2009-07-02  3.51   3.51 2009-07-02        3    2      7  2009   -0.04   \n",
       "\n",
       "   Monday  Tuesday  Wednesday  Thursday  Friday  \n",
       "0     NaN      NaN        NaN       NaN     NaN  \n",
       "1   -0.01      NaN        NaN       NaN     NaN  \n",
       "2     NaN     0.02        NaN       NaN     NaN  \n",
       "3     NaN      NaN       0.02       NaN     NaN  \n",
       "4     NaN      NaN        NaN     -0.04     NaN  "
      ]
     },
     "execution_count": 101,
     "metadata": {},
     "output_type": "execute_result"
    }
   ],
   "source": [
    "df_10_10.head()"
   ]
  },
  {
   "cell_type": "code",
   "execution_count": 102,
   "metadata": {},
   "outputs": [],
   "source": [
    "# change the 'change' column of the following dataframes:\n",
    "df_10_10.rename(columns={'change': 'change_10'}, inplace=True)\n",
    "df_goldc.rename(columns={'change': 'change_g'}, inplace=True)\n",
    "df_oil.rename(columns={'change': 'change_o'}, inplace=True)\n",
    "df_btc.rename(columns={'change': 'change_b'}, inplace=True)\n",
    "\n",
    "# add the 'dt' column to merge:\n",
    "df['dt'] = df['DATE']\n",
    "\n",
    "# drop the ambiquous 'DATE' columns for merging:\n",
    "# df_10_10.drop(['DATE'], axis=1, inplace=True)\n",
    "\n",
    "# create dataframe for all 5 securites:\n",
    "df_all = (df_10_10.merge(df, left_on='date_time', right_on='dt')\n",
    "          .reindex(columns=['dt', 'change', 'change_10']))\n",
    "\n",
    "# create the columns for gold and oil:\n",
    "df_all['change_g'] = df_goldc['change_g']\n",
    "df_all['change_o'] = df_oil['change_o']\n",
    "\n",
    "# Fill Nan values with 0\n",
    "df_all['change_g'].fillna(0, inplace=True)\n",
    "df_all['change_o'].fillna(0, inplace=True)\n",
    "df_all['change_10'].fillna(0, inplace=True)"
   ]
  },
  {
   "cell_type": "markdown",
   "metadata": {},
   "source": [
    "The dataframe with 10 years of daily historical price change for the S&P 500, 10 Yr Bond, Gold, and Oil is shown below:"
   ]
  },
  {
   "cell_type": "code",
   "execution_count": 103,
   "metadata": {},
   "outputs": [
    {
     "data": {
      "text/html": [
       "<div>\n",
       "<style scoped>\n",
       "    .dataframe tbody tr th:only-of-type {\n",
       "        vertical-align: middle;\n",
       "    }\n",
       "\n",
       "    .dataframe tbody tr th {\n",
       "        vertical-align: top;\n",
       "    }\n",
       "\n",
       "    .dataframe thead th {\n",
       "        text-align: right;\n",
       "    }\n",
       "</style>\n",
       "<table border=\"1\" class=\"dataframe\">\n",
       "  <thead>\n",
       "    <tr style=\"text-align: right;\">\n",
       "      <th></th>\n",
       "      <th>dt</th>\n",
       "      <th>change</th>\n",
       "      <th>change_10</th>\n",
       "      <th>change_g</th>\n",
       "      <th>change_o</th>\n",
       "    </tr>\n",
       "  </thead>\n",
       "  <tbody>\n",
       "    <tr>\n",
       "      <th>2492</th>\n",
       "      <td>2019-06-19</td>\n",
       "      <td>8.71</td>\n",
       "      <td>-0.03</td>\n",
       "      <td>-4.03</td>\n",
       "      <td>-0.98</td>\n",
       "    </tr>\n",
       "    <tr>\n",
       "      <th>2493</th>\n",
       "      <td>2019-06-20</td>\n",
       "      <td>27.72</td>\n",
       "      <td>-0.02</td>\n",
       "      <td>-0.53</td>\n",
       "      <td>-1.13</td>\n",
       "    </tr>\n",
       "    <tr>\n",
       "      <th>2494</th>\n",
       "      <td>2019-06-21</td>\n",
       "      <td>-3.72</td>\n",
       "      <td>0.06</td>\n",
       "      <td>2.46</td>\n",
       "      <td>1.49</td>\n",
       "    </tr>\n",
       "    <tr>\n",
       "      <th>2495</th>\n",
       "      <td>2019-06-24</td>\n",
       "      <td>-5.11</td>\n",
       "      <td>-0.05</td>\n",
       "      <td>-11.58</td>\n",
       "      <td>0.28</td>\n",
       "    </tr>\n",
       "    <tr>\n",
       "      <th>2496</th>\n",
       "      <td>2019-06-25</td>\n",
       "      <td>-27.97</td>\n",
       "      <td>-0.02</td>\n",
       "      <td>1.74</td>\n",
       "      <td>-0.25</td>\n",
       "    </tr>\n",
       "  </tbody>\n",
       "</table>\n",
       "</div>"
      ],
      "text/plain": [
       "             dt  change  change_10  change_g  change_o\n",
       "2492 2019-06-19    8.71      -0.03     -4.03     -0.98\n",
       "2493 2019-06-20   27.72      -0.02     -0.53     -1.13\n",
       "2494 2019-06-21   -3.72       0.06      2.46      1.49\n",
       "2495 2019-06-24   -5.11      -0.05    -11.58      0.28\n",
       "2496 2019-06-25  -27.97      -0.02      1.74     -0.25"
      ]
     },
     "execution_count": 103,
     "metadata": {},
     "output_type": "execute_result"
    }
   ],
   "source": [
    "df_all.tail()"
   ]
  },
  {
   "cell_type": "markdown",
   "metadata": {},
   "source": [
    "Next, look at a pairplot to check out the relationships:"
   ]
  },
  {
   "cell_type": "code",
   "execution_count": 104,
   "metadata": {},
   "outputs": [
    {
     "data": {
      "image/png": "[encoded data removed]",
      "text/plain": [
       "<Figure size 720x720 with 20 Axes>"
      ]
     },
     "metadata": {},
     "output_type": "display_data"
    }
   ],
   "source": [
    "# set the pairplot parameters\n",
    "sns.set(font_scale=1.3)\n",
    "sns.pairplot(df_all)\n",
    "plt.show()"
   ]
  },
  {
   "cell_type": "markdown",
   "metadata": {},
   "source": [
    "The plot above shows that there might be a significant relationship between 'change' and 'change_10' - that is, as the daily change of the S&P 500 moves higher, the daily change in interest rate of the 10 Yr bond moves higher as well.  It doesn't look like an extremely strong correlation, but it does appear to exist.  The other relationships look fairly random."
   ]
  },
  {
   "cell_type": "markdown",
   "metadata": {},
   "source": [
    "#### Unsupervised:  K-Means  \n",
    "\n",
    "The features for these unsupervised models will be the change values for the 10 Yr Bond, Gold, and Oil.  Then, the change value of the S&P 500 is converted to binary (1 for up, 0 for down) and is captured for the dependent variable.  The idea is to explore if there are clusters of data that correspond to a positive or negative daily move of the S&P 500.  \n",
    "\n",
    "First, define the features and the dependent variable."
   ]
  },
  {
   "cell_type": "code",
   "execution_count": 105,
   "metadata": {},
   "outputs": [],
   "source": [
    "# Define the features and the outcome.\n",
    "x = df_all.iloc[:, 2:5]\n",
    "y = df_all['change'].values\n",
    "\n",
    "# Binarize y so that 1 means the S&P 500 went up; 0 means it went down or stayed at 0.\n",
    "y = np.where(y > 0, 1, 0)"
   ]
  },
  {
   "cell_type": "markdown",
   "metadata": {},
   "source": [
    "Next, normalize the data, fit the KMeans clustering algorithm to the data and analyze the results using the actual value of the y value with the predicted y value for each cluster.  Three clusters was chosen because there are 3 columns of features. "
   ]
  },
  {
   "cell_type": "code",
   "execution_count": 106,
   "metadata": {},
   "outputs": [
    {
     "name": "stdout",
     "output_type": "stream",
     "text": [
      "Comparing k-means clusters against the data:\n",
      "col_0    0    1   2   3   4    5   6    7   8   9\n",
      "row_0                                            \n",
      "0      288  277  44  38  42  130  64  131  74  42\n",
      "1      353  343  69  49  52  163  71  145  79  43\n"
     ]
    }
   ],
   "source": [
    "# Normalize the data.\n",
    "x_norm = normalize(x)\n",
    "\n",
    "# Calculate predicted values.\n",
    "y_pred = KMeans(n_clusters=10, random_state=42).fit_predict(x_norm)\n",
    "\n",
    "# Check the solution against the data.\n",
    "print('Comparing k-means clusters against the data:')\n",
    "print(pd.crosstab(y, y_pred))"
   ]
  },
  {
   "cell_type": "markdown",
   "metadata": {},
   "source": [
    "Here, it looks like there really is not a significant clustering of the data into the 0 or 1 target.  For cluster 0, there were 288 data points for a 0 label and 353 data points for the 1 label.  Similarly, the other clusters were fairly evenly distributed.\n",
    "\n",
    "#### Unsupervised:  Mean Shift  \n",
    "\n",
    "Mean Shift is another clustering method which will determine the number of clusters that best fit the data."
   ]
  },
  {
   "cell_type": "code",
   "execution_count": 107,
   "metadata": {},
   "outputs": [
    {
     "name": "stdout",
     "output_type": "stream",
     "text": [
      "Number of estimated clusters: 8\n"
     ]
    }
   ],
   "source": [
    "# Here we set the bandwidth. This function automatically derives a bandwidth\n",
    "# number based on an inspection of the distances among points in the data.\n",
    "bandwidth = estimate_bandwidth(x_norm, quantile=0.2, n_samples=500)\n",
    "\n",
    "# Declare and fit the model.\n",
    "ms = MeanShift(bandwidth=bandwidth, bin_seeding=True)\n",
    "ms.fit(x_norm)\n",
    "\n",
    "# Extract cluster assignments for each data point.\n",
    "labels = ms.labels_\n",
    "\n",
    "# Coordinates of the cluster centers.\n",
    "cluster_centers = ms.cluster_centers_\n",
    "\n",
    "# Count our clusters.\n",
    "n_clusters_ = len(np.unique(labels))\n",
    "\n",
    "print(\"Number of estimated clusters: {}\".format(n_clusters_))\n"
   ]
  },
  {
   "cell_type": "markdown",
   "metadata": {},
   "source": [
    "So, the number of clusters came to be 8 and the crosstab results are given below:"
   ]
  },
  {
   "cell_type": "code",
   "execution_count": 108,
   "metadata": {},
   "outputs": [
    {
     "name": "stdout",
     "output_type": "stream",
     "text": [
      "Comparing the assigned categories to the ones in the data:\n",
      "col_0    0    1   2   3  4   5  6  7\n",
      "row_0                               \n",
      "0      480  481  54  83  1  28  1  2\n",
      "1      576  583  88  93  2  25  0  0\n"
     ]
    }
   ],
   "source": [
    "print('Comparing the assigned categories to the ones in the data:')\n",
    "print(pd.crosstab(y, labels))"
   ]
  },
  {
   "cell_type": "markdown",
   "metadata": {},
   "source": [
    "From the 8 clusters above, most of the data points were placed in either cluster 0 or cluster 1.  \n",
    "\n",
    "# Conclusion  \n",
    "\n",
    "In conclusion, the questions asked at the beginning of this notebook and the answers are summarized below:  \n",
    "\n",
    "2.A.  Do different days of the week yield significant price change ?  \n",
    "\n",
    "Definitely yes, for some securities.  For the 10 Yr Bond - Wednesdays were better than Friday with a p-value of **0.0266**; for gold - Mondays were better than Thursdays with p-value of **0.0009**; for bitcoin - Saturdays were better than Thursdays with p-value of **0.0213**.  \n",
    "\n",
    "2.B.  Do 'winter' months perform better than 'summer' months ?  \n",
    "\n",
    "No, although the winter months did have a slightly higher average rate of return per day, the p-value to compare the two was **0.3323**.  This is definitely not low enough to conclude there really is a statistical difference.  \n",
    "\n",
    "2.C.  Does the 3rd Presidential Year yield better results in the 'winter' months vs. 'summer' ?  \n",
    "\n",
    "No, again, the winter months performed better, but not enough to concluded there is a significant difference.  The p-value was **0.1337**. \n",
    "\n",
    "2.D.  Does any month of the S&P 500 over the past 10 years perform significantly better than any other ?  \n",
    "\n",
    "Yes, July - which was the best performing month - performed statistically signigicantly better than May - which was the worst performing month.  The calculated p-value is **0.0309**.  This isn't a slam dunk metric of significance, but it is less than 0.05 which is the common cutoff for defining significance.\n",
    "\n",
    "2.E.  Is it possible to build a supervised learning model to predict the daily price change of gold just by using day of the week as the only feature ?  \n",
    "\n",
    "Possibly, however, the methods used in this study were not conclusive.\n",
    "\n",
    "3.A.  Does the daily temperature or amount of sunshine in NYC affect the price change of the S&P 500 ?  \n",
    "\n",
    "**No**, this notebook found no correlation between the amount of sunshine or temperature in NYC ove the last 10 years with the daily price change of the S&P 500.  All of the p-values were found to be above 0.05.  (It might be interesting to check if the amount of snowfall has an impact on daily price change for the S&P 500.)\n",
    "\n",
    "3.B.  Is it possible to build a supervised learning model that uses the day of the week, month, day of month and weather data to predict daily price change of the S&P 500 ?  \n",
    "\n",
    "It might be possible, but certainly difficult.  The day of the week mattered as found above, but the month, day of month and weather data may introduce too much noise to build a reasonably affective model.\n",
    "\n",
    "3.C.  Is it possible to build an unsupervised learning model to identify relationships among the 5 securites previously analyzed in this study ?  \n",
    "\n",
    "Possibly, more study is needed.  There are cetainly many different ways to structure the model.  Only one method was explored in this notebook.  For instance, a separate feature could be introduced that binarizes daily gold prices, uses that as the dependent variable and uses the actual daily price change of all 5 securities introduced in this notebook as the features.  It could be possible, however, that there is not a predictable pattern.  Furthermore, the pairplot does not show any kind of positive or negative correlation between the 10 Yr Bond, Gold or Oil.   \n",
    "\n",
    "As a final summary, it was interesting to see that the day of the week appears to play a signigicant role among certain securities.  This could be converted to profitable trading or investing opportunity.  Also, it was interesting and surprising to see that the amount of sunshine or temperature in NYC had virtually no affect on daily price change.  The barplots presented in that corresponding section above provides a quick and easy to read visual of this statistical finding. "
   ]
  }
 ],
 "metadata": {
  "kernelspec": {
   "display_name": "Python 3",
   "language": "python",
   "name": "python3"
  },
  "language_info": {
   "codemirror_mode": {
    "name": "ipython",
    "version": 3
   },
   "file_extension": ".py",
   "mimetype": "text/x-python",
   "name": "python",
   "nbconvert_exporter": "python",
   "pygments_lexer": "ipython3",
   "version": "3.7.3"
  }
 },
 "nbformat": 4,
 "nbformat_minor": 2
}
