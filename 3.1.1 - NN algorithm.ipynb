{
 "cells": [
  {
   "cell_type": "markdown",
   "metadata": {},
   "source": [
    "## Introduction\n",
    "This python program tries to predict if a specific combination of 'duration' and 'loudness' for a song is more closely related to a jazz song or a rock song.  If it predicts a jazz song, the result of the funtion will return a 1, otherwise it will be classified as a rock song and return a 0.  \n",
    "\n",
    "This program is the calculation occurring under the hood of the Nearest Neighbor algorithm from SciKit Learn."
   ]
  },
  {
   "cell_type": "markdown",
   "metadata": {},
   "source": [
    "## Import python modules"
   ]
  },
  {
   "cell_type": "code",
   "execution_count": 81,
   "metadata": {},
   "outputs": [],
   "source": [
    "import numpy as np\n",
    "import pandas as pd\n",
    "import matplotlib.pyplot as plt\n",
    "import scipy\n",
    "import math\n",
    "%matplotlib inline"
   ]
  },
  {
   "cell_type": "markdown",
   "metadata": {},
   "source": [
    "## Create the dataframe "
   ]
  },
  {
   "cell_type": "code",
   "execution_count": 82,
   "metadata": {},
   "outputs": [],
   "source": [
    "music = pd.DataFrame()\n",
    "\n",
    "# Some data to play with.\n",
    "music['duration'] = [184, 134, 243, 186, 122, 197, 294, 382, 102, 264, \n",
    "                     205, 110, 307, 110, 397, 153, 190, 192, 210, 403,\n",
    "                     164, 198, 204, 253, 234, 190, 182, 401, 376, 102]\n",
    "music['loudness'] = [18, 34, 43, 36, 22, 9, 29, 22, 10, 24, \n",
    "                     20, 10, 17, 51, 7, 13, 19, 12, 21, 22,\n",
    "                     16, 18, 4, 23, 34, 19, 14, 11, 37, 42]\n",
    "\n",
    "# We know whether the songs in our training data are jazz or not.\n",
    "music['jazz'] = [ 1, 0, 0, 0, 1, 1, 0, 1, 1, 0,\n",
    "                  0, 1, 1, 0, 1, 1, 0, 1, 1, 1,\n",
    "                  1, 1, 1, 1, 0, 0, 1, 1, 0, 0]\n",
    "\n"
   ]
  },
  {
   "cell_type": "code",
   "execution_count": 83,
   "metadata": {},
   "outputs": [],
   "source": [
    "# convert the colums of the dataframe to lists\n",
    "dur = list(music['duration'])\n",
    "loud = list(music['loudness'])\n",
    "jazz = list(music['jazz'])"
   ]
  },
  {
   "cell_type": "markdown",
   "metadata": {},
   "source": [
    "## Build the program"
   ]
  },
  {
   "cell_type": "code",
   "execution_count": 84,
   "metadata": {},
   "outputs": [
    {
     "name": "stdout",
     "output_type": "stream",
     "text": [
      "(2.23606797749979, 0)\n",
      "(2.6457513110645907, 1)\n",
      "(3.3166247903554, 1)\n",
      "(3.4641016151377544, 0)\n"
     ]
    }
   ],
   "source": [
    "# set intitial list, 'list_distance' equal to an empty list.\n",
    "list_distance = []\n",
    "\n",
    "# create the nn (neirest neighbor) function\n",
    "def nn(d, l):\n",
    "    list_distance = []\n",
    "    for x, y in zip(dur, loud):\n",
    "        \n",
    "        # calculate distance between all training points from the new inputs\n",
    "        distance = math.sqrt((d - x)**2 + math.sqrt((l - y)**2))\n",
    "        \n",
    "        # append the distances to 'list_distance'\n",
    "        list_distance.append(distance)\n",
    "        \n",
    "        # find the minimum distance in list_distance\n",
    "        min_distance = min(list_distance) \n",
    "        \n",
    "        # capture the index for the min_distance value\n",
    "        index = list_distance.index(min_distance)\n",
    "    \n",
    "    # return the minimum distance betweeen the user input data and the closest training data\n",
    "    # then return the corresponding jazz or not jazz value\n",
    "    return min_distance, jazz[index]                          \n",
    "                                 \n",
    "# run some tests; if the second returned value is a 1 we can classify as jazz, otherwise we classify as rock\n",
    "print(nn(190, 24))\n",
    "print(nn(400, 5))\n",
    "print(nn(100, 3))\n",
    "print(nn(100, 50))\n"
   ]
  },
  {
   "cell_type": "markdown",
   "metadata": {},
   "source": [
    "## Evaluate the program"
   ]
  },
  {
   "cell_type": "code",
   "execution_count": 85,
   "metadata": {},
   "outputs": [
    {
     "name": "stdout",
     "output_type": "stream",
     "text": [
      "(2.23606797749979, 0)\n",
      "(2.6457513110645907, 1)\n",
      "(3.3166247903554, 1)\n",
      "(3.4641016151377544, 0)\n"
     ]
    }
   ],
   "source": [
    "# run some tests; if the second returned value is a 1 we can classify as jazz, otherwise we classify as rock\n",
    "print(nn(190, 24))\n",
    "print(nn(400, 5))\n",
    "print(nn(100, 3))\n",
    "print(nn(100, 50))\n"
   ]
  },
  {
   "cell_type": "code",
   "execution_count": 88,
   "metadata": {},
   "outputs": [
    {
     "name": "stdout",
     "output_type": "stream",
     "text": [
      "[0]\n",
      "[1]\n",
      "[1]\n",
      "[0]\n"
     ]
    }
   ],
   "source": [
    "from sklearn.neighbors import KNeighborsClassifier\n",
    "neighbors = KNeighborsClassifier(n_neighbors=1)\n",
    "X = music[['loudness', 'duration']]\n",
    "Y = music.jazz\n",
    "neighbors.fit(X,Y)\n",
    "\n",
    "## Predict for a song with 24 loudness that's 190 seconds long.\n",
    "print(neighbors.predict([[24, 190]]))\n",
    "print(neighbors.predict([[5, 400]]))\n",
    "print(neighbors.predict([[3, 100]]))\n",
    "print(neighbors.predict([[50, 100]]))\n"
   ]
  },
  {
   "cell_type": "markdown",
   "metadata": {},
   "source": [
    "As you can see, the results from the code matches the results from the Nearest Neighbor algo from SKLearn."
   ]
  },
  {
   "cell_type": "markdown",
   "metadata": {},
   "source": [
    "## Conclusion and discussion\n",
    "As you can see, the Nearest Neighbor algorithm is fairly simple and can be easily coded out by hand in this robust manner by checking all of the distances between the training data and input data.  If the training data has millions of data points, we might in the future select a random sample to use as the training dataset to extract our prediction."
   ]
  }
 ],
 "metadata": {
  "kernelspec": {
   "display_name": "Python 3",
   "language": "python",
   "name": "python3"
  },
  "language_info": {
   "codemirror_mode": {
    "name": "ipython",
    "version": 3
   },
   "file_extension": ".py",
   "mimetype": "text/x-python",
   "name": "python",
   "nbconvert_exporter": "python",
   "pygments_lexer": "ipython3",
   "version": "3.7.2"
  }
 },
 "nbformat": 4,
 "nbformat_minor": 2
}
