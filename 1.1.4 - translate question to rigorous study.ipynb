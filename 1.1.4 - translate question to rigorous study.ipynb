{
 "cells": [
  {
   "cell_type": "markdown",
   "metadata": {},
   "source": [
    "### 1.  You work at an e-commerce company that sells three goods: widgets, doodads, and fizzbangs.  The head of advertising asks you which they should feature in their new advertising campaign.  You have data on individual visitors' sessions (activity on a website, pageviews, and purchases), as well as whether or not those users converted from an advertisement for that session.  You also have the cost and price information for the goods.\n",
    "\n",
    "Answer:  Determine the users who have the highest average conversion rate over the past 3 months and rank them by quartile.  Target the highest 25% with adds for the product that they have never bouught or bought the least amount over the past 3 months.  In other words, if one user bought 5 widgets and 6 doodads and 1 fizzbang over this period, then target them with fizzbang adds.   "
   ]
  },
  {
   "cell_type": "markdown",
   "metadata": {},
   "source": [
    "### 2.  You work at a web design company that offers to build websites for clients. Signups have slowed, and you are tasked with finding out why. The onboarding funnel has three steps: email and password signup, plan choice, and payment. On a user level you have information on what steps they have completed as well as timestamps for all of those events for the past 3 years. You also have information on marketing spend on a weekly level.\n",
    "\n",
    "Answer:  Determine the number of signups over the past 3 years and group them into quarterly buckets.  Next, determine the percentage of users who went on to the next step of the onboarding funnel and group into quarterly buckets.  From this data, determine where the process has decreased the most.  Also, group the marketing spend in quarterly buckets over the past 3 years and note any significant changes.  Discuss any physcal changes to the web page in general and regarding each of the 3 onboarding funnel steps.  Compare the marketing spend as an average amount spent per user and notice any major discrepencies - maybe present a line graph in monthly buckets over the 3 year period."
   ]
  },
  {
   "cell_type": "markdown",
   "metadata": {},
   "source": [
    "### 3.  You work at a hotel website and currently the website ranks search results by price. For simplicity's sake, let's say it's a website for one city with 100 hotels. You are tasked with proposing a better ranking system. You have session information, price information for the hotels, and whether each hotel is currently available.\n",
    "\n",
    "Answer:  First of all, if the hotel does not have vacancies for the date(s) the user selects, then don't include those hotels in the main result; maybe list the fully booked hotels separately by price.  Next, present the user with an option to rank by number of stars the hotel is rated in terms of overall satisfaction of past customers or the overall elegance of the hotel ranked by an industry group.  Finally, present an option to rank the hotels that are available and give the users an ability to rate the characteristics by price and number of stars.  For instance, a user may want price to be weighted 7/10, therefore the number of stars would be weighted 3/10 and return the results accordingly."
   ]
  },
  {
   "cell_type": "markdown",
   "metadata": {},
   "source": [
    "### 4.  You work at a social network, and the management is worried about churn (users stopping using the product). You are tasked with finding out if their churn is atypical. You have three years of data for users with an entry for every time they've logged in, including the timestamp and length of session.\n",
    "\n",
    "Answer:  Plot the average amount of times each user has logged in - in monthly buckets - in a line graph for the entire horizon.  Next, plot the average amount of time each user is logged in - in weekly buckets - over the entire horizon.  Only use data for when the user a memeber of the social network.  Use the data for the past 60 days and compare this to the average data for the entire time horizon.  Use statistical tests to determine if the sample is indeed reprentative of the entire 3 year population and how confident management can be (using confidence intervales) of the results of the study."
   ]
  }
 ],
 "metadata": {
  "kernelspec": {
   "display_name": "Python 2",
   "language": "python",
   "name": "python2"
  },
  "language_info": {
   "codemirror_mode": {
    "name": "ipython",
    "version": 2
   },
   "file_extension": ".py",
   "mimetype": "text/x-python",
   "name": "python",
   "nbconvert_exporter": "python",
   "pygments_lexer": "ipython2",
   "version": "2.7.13"
  }
 },
 "nbformat": 4,
 "nbformat_minor": 2
}
