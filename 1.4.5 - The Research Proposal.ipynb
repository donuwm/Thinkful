{
 "cells": [
  {
   "cell_type": "markdown",
   "metadata": {},
   "source": [
    "### Look back to the potential experiments in the previous assignment. For one of those experiments, write up the essential points of a research proposal for an improved version of that experiment.\n",
    "\n",
    "#### In the past, the Jedi have had difficulty with public relations. They send two envoys, Jar Jar Binks and Mace Windu, to four friendly and four unfriendly planets respectively, with the goal of promoting favorable feelings toward the Jedi. Upon their return, the envoys learn that Jar Jar was much more effective than Windu: Over 75% of the people surveyed said their attitudes had become more favorable after speaking with Jar Jar, while only 65% said their attitudes had become more favorable after speaking with Windu. This makes Windu angry, because he is sure that he had a better success rate than Jar Jar on every planet. The Jedi choose Jar Jar to be their representative in the future.\n",
    "\n",
    "### Essential Points\n",
    "#### The Problem:\n",
    "* How to improve favorable feelings toward the Jedi ?\n",
    "\n",
    "#### The Potential Solution:\n",
    "* Sending an envoy (either Jar Jar Binks or Mace Windu) to each of the 8 planets to promote favorable feelings toward the Jedi will significantly improve favorable feelings toward the Jedi.\n",
    "\n",
    "#### The Method of Testing the Solution:\n",
    "* Determine the current \"favorableness\" for all 8 planets with a survey administered in the same way at the same time to all 8 planets.  \n",
    "* The survey should ask the people on each planet to rate how favorable their feelings are towards the Jedi on a scale of 1 to 10 (10 being extremely favorable).\n",
    "* Randomly assign Jar Jar and Mace 4 planets to go to with each having 2 friendly and 2 unfriendly 3 months after the initial survey.  Give them the same amount of resources, time and support to complete their tasks.\n",
    "* Wait 3 months after the return of Jar Jar and Mace and administer the initial survey again to obtain a new favorable score for each planet.\n",
    "* If the favorable score improved by at least 10% for at least 6 out of the 8 planets, conclude that sending envoys is effective and continue to do so once per year in the future.\n",
    "* If the favorable score improved by at least 10% for at least 3 of the planets, but less than 6 planets, conclude that more testing is needed.\n",
    "* If the favorable score did not improve by at least 10% for at least 3 of the planets, conclude that sending an envoy is either not an effective method of improving favorable feelings or that the effects are not sufficient to justify sending an envoy to each of the 8 planets in the future."
   ]
  },
  {
   "cell_type": "code",
   "execution_count": null,
   "metadata": {},
   "outputs": [],
   "source": []
  }
 ],
 "metadata": {
  "kernelspec": {
   "display_name": "Python 3",
   "language": "python",
   "name": "python3"
  },
  "language_info": {
   "codemirror_mode": {
    "name": "ipython",
    "version": 3
   },
   "file_extension": ".py",
   "mimetype": "text/x-python",
   "name": "python",
   "nbconvert_exporter": "python",
   "pygments_lexer": "ipython3",
   "version": "3.7.2"
  }
 },
 "nbformat": 4,
 "nbformat_minor": 2
}
