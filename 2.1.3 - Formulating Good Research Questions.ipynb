{
 "cells": [
  {
   "cell_type": "markdown",
   "metadata": {},
   "source": [
    "### Categorize each of the following research questions as \"good\" or \"bad\", and provide alternative formulations for the bad ones."
   ]
  },
  {
   "cell_type": "markdown",
   "metadata": {},
   "source": [
    "### 1.  What is the 1994 rate of juvenile delinquency in the U.S.?\n",
    "#### Definition:  juvenile delinquency:  the habitual committing of criminal acts or offenses by a young person, especially one below the age at which ordinary criminal prosecution is possible.\n",
    "- Answer:  Bad\n",
    "- This could vary significantly between states or even counties within a state because a \"juvenile\" could have different meaing.\n",
    "- You would need to difine what it means to be a \"juvenile deliquent\" such as:\n",
    "    - what does habitual mean ?\n",
    "    - how agregious do the crimes need to be ?\n",
    "- Alternative formulation:\n",
    "    - How many people, per 1000, under the age of 18 have committed at least 2 crimes at the misdemeanor level or greater in 1994 ? "
   ]
  },
  {
   "cell_type": "markdown",
   "metadata": {},
   "source": [
    "### 2.  What can we do to reduce juvenile delinquency in the U.S.?\n",
    "- Answer:  Bad\n",
    "- It's too broad.\n",
    "- Alternative:\n",
    "    - Does requiring 80 hours of community service (commencing immediately following conviction of 1st misdemeaner) reduce juvenile delinquency in the state of South Carolina ?"
   ]
  },
  {
   "cell_type": "markdown",
   "metadata": {},
   "source": [
    "### 3.  Does education play a role in reducing juvenile delinquents' return to crime?\n",
    "- Answer:  Bad again because it's too broad and general.\n",
    "- Alternative:\n",
    "    - What is the probability of someone under 18 - in school - of committing a second offense compared to a jevenile - not in school - of committing a second offense in 2018 in Colorado ?"
   ]
  },
  {
   "cell_type": "markdown",
   "metadata": {},
   "source": [
    "### 4.  How many customers does AT&T currently serve in Washington, DC?\n",
    "- Answer:  This is ok, but you probably need to better define \"customer\" and/or \"serve\".\n",
    "- Alternative:\n",
    "    - How many people currently use AT&T's landline or mobile phone service in Washington, DC ? "
   ]
  },
  {
   "cell_type": "markdown",
   "metadata": {},
   "source": [
    "### 5.  What factors lead consumers to choose AT&T over other service providers?\n",
    "- Answer:  Bad; it's too broad.\n",
    "- Alternative:\n",
    "    - What percentage of customers will switch to AT&T is they are given a discount of 30% from their current provider ?"
   ]
  },
  {
   "cell_type": "markdown",
   "metadata": {},
   "source": [
    "### 6.  How can AT&T attract more customers?\n",
    "- Answer:  Bad\n",
    "- Alternative:\n",
    "    - What feature is most important to AT&T mobile customers between cost, reliability of service, and accessibility to an AT&T store ?"
   ]
  },
  {
   "cell_type": "markdown",
   "metadata": {},
   "source": [
    "### 7.  Why did the Challenger Shuttle explode?\n",
    "- Answer:  Not great\n",
    "- much more research is needed about what is already known about the explosion and possible causes.\n",
    "- Alternative:\n",
    "    - Did leakage of the oxygen tanks in the Challenger cause it to explode ?"
   ]
  },
  {
   "cell_type": "markdown",
   "metadata": {},
   "source": [
    "### 8.  Which genes are associated with increased risk of breast cancer?\n",
    "- Answer:  Probably too broad\n",
    "- Alternative:\n",
    "    - For all of the people diagnosed with breast cancer in California in 2010, which genes were present that are not common in the larger population of the U.S. ?  (common would need to be defined better)"
   ]
  },
  {
   "cell_type": "markdown",
   "metadata": {},
   "source": [
    "### 9.  Is it better to read to children at night or in the morning?\n",
    "- Answer: Bad; it depends on what you mean by \"better\".\n",
    "- Alternative:\n",
    "    - Do children of age 5 in California perform better on a reading comrehension test if they were read to the previous 7 nights or read to the previous 7 mornings (for 30 minutes per session) ?"
   ]
  },
  {
   "cell_type": "markdown",
   "metadata": {},
   "source": [
    "### 10.  How does Google’s search algorithm work?\n",
    "- Answer:  Bad\n",
    "- This subject matter, like the space shuttle question, requires a depth of knowledge.  This question is too broad.  The subject needs to be studied extensively and many tiny experiments conducted continuosly throughout the process to answer this question adequately.\n",
    "- It also depends on what you are trying to investigate.  Are you looking for quality of the results, quanity or timeliness ?\n",
    "- Alternative:\n",
    "    - How much faster or slower is Google's search algo to yield at least 20 results compared to Bing for 50 different phrases or words ? \n",
    "    - What is the most common type of algorithm employed by Google's search algorithm ?  Possibilities might include:\n",
    "        - Simple recursive algorithms.\n",
    "        - Backtracking algorithms.\n",
    "        - Divide and conquer algorithms.\n",
    "        - Dynamic programming algorithms.\n",
    "        - Greedy algorithms.\n",
    "        - Branch and bound algorithms.\n",
    "        - Brute force algorithms.\n",
    "        - Randomized algorithms."
   ]
  },
  {
   "cell_type": "code",
   "execution_count": null,
   "metadata": {},
   "outputs": [],
   "source": []
  }
 ],
 "metadata": {
  "kernelspec": {
   "display_name": "Python 3",
   "language": "python",
   "name": "python3"
  },
  "language_info": {
   "codemirror_mode": {
    "name": "ipython",
    "version": 3
   },
   "file_extension": ".py",
   "mimetype": "text/x-python",
   "name": "python",
   "nbconvert_exporter": "python",
   "pygments_lexer": "ipython3",
   "version": "3.7.2"
  }
 },
 "nbformat": 4,
 "nbformat_minor": 2
}
