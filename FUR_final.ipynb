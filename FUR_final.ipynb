{
 "cells": [
  {
   "cell_type": "markdown",
   "metadata": {},
   "source": [
    "# Focus on FUR and FCS Transactions  \n",
    "\n",
    "by Fred Etter - November, 2019"
   ]
  },
  {
   "cell_type": "code",
   "execution_count": 1,
   "metadata": {},
   "outputs": [],
   "source": [
    "# Import modules\n",
    "\n",
    "import numpy as np\n",
    "import pandas as pd\n",
    "import matplotlib.pyplot as plt\n",
    "import seaborn as sns\n",
    "import numpy as np\n",
    "from sklearn import linear_model\n",
    "from sklearn.ensemble import ExtraTreesClassifier\n",
    "from sklearn.ensemble import RandomForestClassifier\n",
    "from sklearn import preprocessing\n",
    "import sklearn\n",
    "from sklearn.feature_selection import SelectFromModel\n",
    "from datetime import datetime\n",
    "from sklearn.metrics import confusion_matrix\n",
    "from sklearn import metrics"
   ]
  },
  {
   "cell_type": "code",
   "execution_count": 2,
   "metadata": {},
   "outputs": [],
   "source": [
    "# Read in the data\n",
    "\n",
    "df = pd.read_csv('sends.csv', low_memory=False)\n",
    "df_march = pd.read_csv('march.csv', low_memory=False)\n",
    "df_april = pd.read_csv('april.csv', low_memory=False)\n",
    "df_may = pd.read_csv('may.csv', low_memory=False)"
   ]
  },
  {
   "cell_type": "code",
   "execution_count": 3,
   "metadata": {},
   "outputs": [],
   "source": [
    "# create new dataframs for fcs and fur transactions - JUST FOR MARCH\n",
    "df_fcs = df_march.loc[df_march['ACTIVITY_TYPE'] == 'FCS']\n",
    "df_fur = df_march.loc[df_march['ACTIVITY_TYPE'] == 'FUR']"
   ]
  },
  {
   "cell_type": "code",
   "execution_count": 4,
   "metadata": {},
   "outputs": [],
   "source": [
    "# create a dataframe that captures all transactions for all 3 months\n",
    "df_t1_all = pd.concat([df_march, df_april], sort=False)\n",
    "df_t_all = pd.concat([df_t1_all, df_may], sort=False)"
   ]
  },
  {
   "cell_type": "code",
   "execution_count": 5,
   "metadata": {},
   "outputs": [
    {
     "data": {
      "text/plain": [
       "(4935216, 21)"
      ]
     },
     "execution_count": 5,
     "metadata": {},
     "output_type": "execute_result"
    }
   ],
   "source": [
    "# all transactions has almost 5 million rows\n",
    "df_t_all.shape"
   ]
  },
  {
   "cell_type": "code",
   "execution_count": 6,
   "metadata": {},
   "outputs": [],
   "source": [
    "# build new dataframe for all months for fcs and fur\n",
    "df_t_all_fcs = df_t_all.loc[df_t_all['ACTIVITY_TYPE'] == 'FCS']\n",
    "df_t_all_fur = df_t_all.loc[df_t_all['ACTIVITY_TYPE'] == 'FUR']"
   ]
  },
  {
   "cell_type": "code",
   "execution_count": 7,
   "metadata": {},
   "outputs": [
    {
     "name": "stdout",
     "output_type": "stream",
     "text": [
      "(26971, 21)\n"
     ]
    },
    {
     "data": {
      "text/html": [
       "<div>\n",
       "<style scoped>\n",
       "    .dataframe tbody tr th:only-of-type {\n",
       "        vertical-align: middle;\n",
       "    }\n",
       "\n",
       "    .dataframe tbody tr th {\n",
       "        vertical-align: top;\n",
       "    }\n",
       "\n",
       "    .dataframe thead th {\n",
       "        text-align: right;\n",
       "    }\n",
       "</style>\n",
       "<table border=\"1\" class=\"dataframe\">\n",
       "  <thead>\n",
       "    <tr style=\"text-align: right;\">\n",
       "      <th></th>\n",
       "      <th>SUPPORTER_ID</th>\n",
       "      <th>COUNTRY</th>\n",
       "      <th>ACTIVITY_TYPE</th>\n",
       "      <th>ACTIVITY_DATETIME</th>\n",
       "      <th>ACTIVITY_ID</th>\n",
       "      <th>ACTIVITY_STATUS</th>\n",
       "      <th>ACTIVITY_DATA_1</th>\n",
       "      <th>ACTIVITY_DATA_2</th>\n",
       "      <th>ACTIVITY_DATA_3</th>\n",
       "      <th>ACTIVITY_DATA_4</th>\n",
       "      <th>ACTIVITY_DATA_5</th>\n",
       "      <th>ACTIVITY_DATA_6</th>\n",
       "      <th>ACTIVITY_DATA_7</th>\n",
       "      <th>ACTIVITY_DATA_8</th>\n",
       "      <th>ACTIVITY_DATA_9</th>\n",
       "      <th>ACTIVITY_DATA_10</th>\n",
       "      <th>ACTIVITY_DATA_26</th>\n",
       "      <th>ACTIVITY_DATA_27</th>\n",
       "      <th>ACTIVITY_DATA_28</th>\n",
       "      <th>ACTIVITY_DATA_29</th>\n",
       "      <th>ACTIVITY_DATA_30</th>\n",
       "    </tr>\n",
       "  </thead>\n",
       "  <tbody>\n",
       "    <tr>\n",
       "      <th>309134</th>\n",
       "      <td>0buoEPGFtZK15xl1A%2FXc2A==</td>\n",
       "      <td>GB</td>\n",
       "      <td>FCS</td>\n",
       "      <td>2017-03-28 14:40:47</td>\n",
       "      <td>19536</td>\n",
       "      <td>success</td>\n",
       "      <td>0</td>\n",
       "      <td>0</td>\n",
       "      <td>NaN</td>\n",
       "      <td>10.00</td>\n",
       "      <td>GBP</td>\n",
       "      <td>PayPal</td>\n",
       "      <td>S</td>\n",
       "      <td>NaN</td>\n",
       "      <td>NaN</td>\n",
       "      <td>NaN</td>\n",
       "      <td>12.45</td>\n",
       "      <td>10.00</td>\n",
       "      <td>11.52</td>\n",
       "      <td>16.66</td>\n",
       "      <td>16.30</td>\n",
       "    </tr>\n",
       "    <tr>\n",
       "      <th>218558</th>\n",
       "      <td>zBlH14joqcC15xl1A%2FXc2A==</td>\n",
       "      <td>US</td>\n",
       "      <td>FCS</td>\n",
       "      <td>2017-05-02 17:11:42</td>\n",
       "      <td>28592</td>\n",
       "      <td>success</td>\n",
       "      <td>0</td>\n",
       "      <td>0</td>\n",
       "      <td>NaN</td>\n",
       "      <td>35.00</td>\n",
       "      <td>USD</td>\n",
       "      <td>Visa</td>\n",
       "      <td>S</td>\n",
       "      <td>NaN</td>\n",
       "      <td>NaN</td>\n",
       "      <td>NaN</td>\n",
       "      <td>35.00</td>\n",
       "      <td>27.05</td>\n",
       "      <td>32.03</td>\n",
       "      <td>47.99</td>\n",
       "      <td>46.45</td>\n",
       "    </tr>\n",
       "    <tr>\n",
       "      <th>280670</th>\n",
       "      <td>uZPAakgyVCmZkArzVWMSmA==</td>\n",
       "      <td>AUT</td>\n",
       "      <td>FCS</td>\n",
       "      <td>2017-04-20 09:17:35</td>\n",
       "      <td>19536</td>\n",
       "      <td>success</td>\n",
       "      <td>0</td>\n",
       "      <td>0</td>\n",
       "      <td>NaN</td>\n",
       "      <td>25.00</td>\n",
       "      <td>EUR</td>\n",
       "      <td>Visa</td>\n",
       "      <td>S</td>\n",
       "      <td>NaN</td>\n",
       "      <td>NaN</td>\n",
       "      <td>NaN</td>\n",
       "      <td>26.92</td>\n",
       "      <td>21.02</td>\n",
       "      <td>25.00</td>\n",
       "      <td>36.31</td>\n",
       "      <td>35.75</td>\n",
       "    </tr>\n",
       "    <tr>\n",
       "      <th>308283</th>\n",
       "      <td>btdiJjGioFiZkArzVWMSmA==</td>\n",
       "      <td>GB</td>\n",
       "      <td>FCS</td>\n",
       "      <td>2017-03-10 23:16:15</td>\n",
       "      <td>64120</td>\n",
       "      <td>success</td>\n",
       "      <td>0</td>\n",
       "      <td>0</td>\n",
       "      <td>NaN</td>\n",
       "      <td>5.00</td>\n",
       "      <td>GBP</td>\n",
       "      <td>Visa</td>\n",
       "      <td>S</td>\n",
       "      <td>NaN</td>\n",
       "      <td>NaN</td>\n",
       "      <td>NaN</td>\n",
       "      <td>6.08</td>\n",
       "      <td>5.00</td>\n",
       "      <td>5.70</td>\n",
       "      <td>8.20</td>\n",
       "      <td>8.07</td>\n",
       "    </tr>\n",
       "    <tr>\n",
       "      <th>219910</th>\n",
       "      <td>4Lzzi7CCFvG15xl1A%2FXc2A==</td>\n",
       "      <td>USA</td>\n",
       "      <td>FCS</td>\n",
       "      <td>2017-05-23 10:05:50</td>\n",
       "      <td>28592</td>\n",
       "      <td>success</td>\n",
       "      <td>0</td>\n",
       "      <td>0</td>\n",
       "      <td>NaN</td>\n",
       "      <td>10.00</td>\n",
       "      <td>USD</td>\n",
       "      <td>PayPal</td>\n",
       "      <td>S</td>\n",
       "      <td>NaN</td>\n",
       "      <td>NaN</td>\n",
       "      <td>NaN</td>\n",
       "      <td>10.00</td>\n",
       "      <td>7.70</td>\n",
       "      <td>8.91</td>\n",
       "      <td>13.48</td>\n",
       "      <td>13.34</td>\n",
       "    </tr>\n",
       "  </tbody>\n",
       "</table>\n",
       "</div>"
      ],
      "text/plain": [
       "                      SUPPORTER_ID COUNTRY ACTIVITY_TYPE    ACTIVITY_DATETIME  \\\n",
       "309134  0buoEPGFtZK15xl1A%2FXc2A==      GB           FCS  2017-03-28 14:40:47   \n",
       "218558  zBlH14joqcC15xl1A%2FXc2A==      US           FCS  2017-05-02 17:11:42   \n",
       "280670    uZPAakgyVCmZkArzVWMSmA==     AUT           FCS  2017-04-20 09:17:35   \n",
       "308283    btdiJjGioFiZkArzVWMSmA==      GB           FCS  2017-03-10 23:16:15   \n",
       "219910  4Lzzi7CCFvG15xl1A%2FXc2A==     USA           FCS  2017-05-23 10:05:50   \n",
       "\n",
       "        ACTIVITY_ID ACTIVITY_STATUS ACTIVITY_DATA_1 ACTIVITY_DATA_2  \\\n",
       "309134        19536         success               0               0   \n",
       "218558        28592         success               0               0   \n",
       "280670        19536         success               0               0   \n",
       "308283        64120         success               0               0   \n",
       "219910        28592         success               0               0   \n",
       "\n",
       "       ACTIVITY_DATA_3 ACTIVITY_DATA_4 ACTIVITY_DATA_5 ACTIVITY_DATA_6  \\\n",
       "309134             NaN           10.00             GBP          PayPal   \n",
       "218558             NaN           35.00             USD            Visa   \n",
       "280670             NaN           25.00             EUR            Visa   \n",
       "308283             NaN            5.00             GBP            Visa   \n",
       "219910             NaN           10.00             USD          PayPal   \n",
       "\n",
       "       ACTIVITY_DATA_7  ACTIVITY_DATA_8 ACTIVITY_DATA_9 ACTIVITY_DATA_10  \\\n",
       "309134               S              NaN             NaN              NaN   \n",
       "218558               S              NaN             NaN              NaN   \n",
       "280670               S              NaN             NaN              NaN   \n",
       "308283               S              NaN             NaN              NaN   \n",
       "219910               S              NaN             NaN              NaN   \n",
       "\n",
       "        ACTIVITY_DATA_26  ACTIVITY_DATA_27  ACTIVITY_DATA_28  \\\n",
       "309134             12.45             10.00             11.52   \n",
       "218558             35.00             27.05             32.03   \n",
       "280670             26.92             21.02             25.00   \n",
       "308283              6.08              5.00              5.70   \n",
       "219910             10.00              7.70              8.91   \n",
       "\n",
       "        ACTIVITY_DATA_29  ACTIVITY_DATA_30  \n",
       "309134             16.66             16.30  \n",
       "218558             47.99             46.45  \n",
       "280670             36.31             35.75  \n",
       "308283              8.20              8.07  \n",
       "219910             13.48             13.34  "
      ]
     },
     "execution_count": 7,
     "metadata": {},
     "output_type": "execute_result"
    }
   ],
   "source": [
    "# look at sample data for all fcs transactions\n",
    "\n",
    "pd.set_option('display.max_columns', None)\n",
    "print(df_t_all_fcs.shape)\n",
    "df_t_all_fcs.sample(5)"
   ]
  },
  {
   "cell_type": "code",
   "execution_count": 8,
   "metadata": {},
   "outputs": [],
   "source": [
    "# getting unique supporter_ids for all fcs transactions\n",
    "df_dd = df_t_all_fcs.drop_duplicates(subset='SUPPORTER_ID')"
   ]
  },
  {
   "cell_type": "code",
   "execution_count": 9,
   "metadata": {},
   "outputs": [
    {
     "data": {
      "text/plain": [
       "(22433, 21)"
      ]
     },
     "execution_count": 9,
     "metadata": {},
     "output_type": "execute_result"
    }
   ],
   "source": [
    "# This is the number of unique supporters who made a FCS transaction - 22433\n",
    "df_dd.shape"
   ]
  },
  {
   "cell_type": "code",
   "execution_count": 10,
   "metadata": {},
   "outputs": [
    {
     "data": {
      "text/html": [
       "<div>\n",
       "<style scoped>\n",
       "    .dataframe tbody tr th:only-of-type {\n",
       "        vertical-align: middle;\n",
       "    }\n",
       "\n",
       "    .dataframe tbody tr th {\n",
       "        vertical-align: top;\n",
       "    }\n",
       "\n",
       "    .dataframe thead th {\n",
       "        text-align: right;\n",
       "    }\n",
       "</style>\n",
       "<table border=\"1\" class=\"dataframe\">\n",
       "  <thead>\n",
       "    <tr style=\"text-align: right;\">\n",
       "      <th></th>\n",
       "      <th>SUPPORTER_ID</th>\n",
       "      <th>COUNTRY</th>\n",
       "      <th>ACTIVITY_TYPE</th>\n",
       "      <th>ACTIVITY_DATETIME</th>\n",
       "      <th>ACTIVITY_ID</th>\n",
       "      <th>ACTIVITY_STATUS</th>\n",
       "      <th>ACTIVITY_DATA_1</th>\n",
       "      <th>ACTIVITY_DATA_2</th>\n",
       "      <th>ACTIVITY_DATA_3</th>\n",
       "      <th>ACTIVITY_DATA_4</th>\n",
       "      <th>ACTIVITY_DATA_5</th>\n",
       "      <th>ACTIVITY_DATA_6</th>\n",
       "      <th>ACTIVITY_DATA_7</th>\n",
       "      <th>ACTIVITY_DATA_8</th>\n",
       "      <th>ACTIVITY_DATA_9</th>\n",
       "      <th>ACTIVITY_DATA_10</th>\n",
       "      <th>ACTIVITY_DATA_26</th>\n",
       "      <th>ACTIVITY_DATA_27</th>\n",
       "      <th>ACTIVITY_DATA_28</th>\n",
       "      <th>ACTIVITY_DATA_29</th>\n",
       "      <th>ACTIVITY_DATA_30</th>\n",
       "    </tr>\n",
       "  </thead>\n",
       "  <tbody>\n",
       "    <tr>\n",
       "      <th>295731</th>\n",
       "      <td>kudFmD%2ByF7w=</td>\n",
       "      <td>CAN</td>\n",
       "      <td>FCS</td>\n",
       "      <td>2017-03-26 13:51:52</td>\n",
       "      <td>17381</td>\n",
       "      <td>success</td>\n",
       "      <td>0</td>\n",
       "      <td>0</td>\n",
       "      <td>NaN</td>\n",
       "      <td>35.00</td>\n",
       "      <td>CAD</td>\n",
       "      <td>PayPal</td>\n",
       "      <td>S</td>\n",
       "      <td>NaN</td>\n",
       "      <td>NaN</td>\n",
       "      <td>NaN</td>\n",
       "      <td>26.16</td>\n",
       "      <td>20.98</td>\n",
       "      <td>24.21</td>\n",
       "      <td>35.0</td>\n",
       "      <td>34.32</td>\n",
       "    </tr>\n",
       "    <tr>\n",
       "      <th>295732</th>\n",
       "      <td>MpbERpuNCk0=</td>\n",
       "      <td>CA</td>\n",
       "      <td>FCS</td>\n",
       "      <td>2017-03-28 13:01:09</td>\n",
       "      <td>16977</td>\n",
       "      <td>success</td>\n",
       "      <td>0</td>\n",
       "      <td>0</td>\n",
       "      <td>NaN</td>\n",
       "      <td>35.00</td>\n",
       "      <td>CAD</td>\n",
       "      <td>PayPal</td>\n",
       "      <td>S</td>\n",
       "      <td>NaN</td>\n",
       "      <td>NaN</td>\n",
       "      <td>NaN</td>\n",
       "      <td>26.19</td>\n",
       "      <td>21.00</td>\n",
       "      <td>24.19</td>\n",
       "      <td>35.0</td>\n",
       "      <td>34.27</td>\n",
       "    </tr>\n",
       "    <tr>\n",
       "      <th>295733</th>\n",
       "      <td>GJbnFkIn6SY=</td>\n",
       "      <td>CAN</td>\n",
       "      <td>FCS</td>\n",
       "      <td>2017-03-24 13:29:51</td>\n",
       "      <td>64120</td>\n",
       "      <td>success</td>\n",
       "      <td>0</td>\n",
       "      <td>0</td>\n",
       "      <td>NaN</td>\n",
       "      <td>20.00</td>\n",
       "      <td>CAD</td>\n",
       "      <td>MasterCard</td>\n",
       "      <td>S</td>\n",
       "      <td>NaN</td>\n",
       "      <td>NaN</td>\n",
       "      <td>NaN</td>\n",
       "      <td>14.96</td>\n",
       "      <td>11.96</td>\n",
       "      <td>13.84</td>\n",
       "      <td>20.0</td>\n",
       "      <td>19.63</td>\n",
       "    </tr>\n",
       "    <tr>\n",
       "      <th>295734</th>\n",
       "      <td>4CmZuezC6hw=</td>\n",
       "      <td>CAN</td>\n",
       "      <td>FCS</td>\n",
       "      <td>2017-03-09 16:06:38</td>\n",
       "      <td>64120</td>\n",
       "      <td>success</td>\n",
       "      <td>0</td>\n",
       "      <td>0</td>\n",
       "      <td>NaN</td>\n",
       "      <td>55.00</td>\n",
       "      <td>CAD</td>\n",
       "      <td>PayPal</td>\n",
       "      <td>S</td>\n",
       "      <td>NaN</td>\n",
       "      <td>NaN</td>\n",
       "      <td>NaN</td>\n",
       "      <td>40.73</td>\n",
       "      <td>33.45</td>\n",
       "      <td>38.49</td>\n",
       "      <td>55.0</td>\n",
       "      <td>54.25</td>\n",
       "    </tr>\n",
       "    <tr>\n",
       "      <th>295735</th>\n",
       "      <td>ga9c44p8S04=</td>\n",
       "      <td>CA</td>\n",
       "      <td>FCS</td>\n",
       "      <td>2017-03-28 14:51:58</td>\n",
       "      <td>19536</td>\n",
       "      <td>success</td>\n",
       "      <td>0</td>\n",
       "      <td>0</td>\n",
       "      <td>NaN</td>\n",
       "      <td>50.00</td>\n",
       "      <td>CAD</td>\n",
       "      <td>PayPal</td>\n",
       "      <td>S</td>\n",
       "      <td>NaN</td>\n",
       "      <td>NaN</td>\n",
       "      <td>NaN</td>\n",
       "      <td>37.36</td>\n",
       "      <td>30.01</td>\n",
       "      <td>34.58</td>\n",
       "      <td>50.0</td>\n",
       "      <td>48.94</td>\n",
       "    </tr>\n",
       "  </tbody>\n",
       "</table>\n",
       "</div>"
      ],
      "text/plain": [
       "          SUPPORTER_ID COUNTRY ACTIVITY_TYPE    ACTIVITY_DATETIME  \\\n",
       "295731  kudFmD%2ByF7w=     CAN           FCS  2017-03-26 13:51:52   \n",
       "295732    MpbERpuNCk0=      CA           FCS  2017-03-28 13:01:09   \n",
       "295733    GJbnFkIn6SY=     CAN           FCS  2017-03-24 13:29:51   \n",
       "295734    4CmZuezC6hw=     CAN           FCS  2017-03-09 16:06:38   \n",
       "295735    ga9c44p8S04=      CA           FCS  2017-03-28 14:51:58   \n",
       "\n",
       "        ACTIVITY_ID ACTIVITY_STATUS ACTIVITY_DATA_1 ACTIVITY_DATA_2  \\\n",
       "295731        17381         success               0               0   \n",
       "295732        16977         success               0               0   \n",
       "295733        64120         success               0               0   \n",
       "295734        64120         success               0               0   \n",
       "295735        19536         success               0               0   \n",
       "\n",
       "       ACTIVITY_DATA_3 ACTIVITY_DATA_4 ACTIVITY_DATA_5 ACTIVITY_DATA_6  \\\n",
       "295731             NaN           35.00             CAD          PayPal   \n",
       "295732             NaN           35.00             CAD          PayPal   \n",
       "295733             NaN           20.00             CAD      MasterCard   \n",
       "295734             NaN           55.00             CAD          PayPal   \n",
       "295735             NaN           50.00             CAD          PayPal   \n",
       "\n",
       "       ACTIVITY_DATA_7  ACTIVITY_DATA_8 ACTIVITY_DATA_9 ACTIVITY_DATA_10  \\\n",
       "295731               S              NaN             NaN              NaN   \n",
       "295732               S              NaN             NaN              NaN   \n",
       "295733               S              NaN             NaN              NaN   \n",
       "295734               S              NaN             NaN              NaN   \n",
       "295735               S              NaN             NaN              NaN   \n",
       "\n",
       "        ACTIVITY_DATA_26  ACTIVITY_DATA_27  ACTIVITY_DATA_28  \\\n",
       "295731             26.16             20.98             24.21   \n",
       "295732             26.19             21.00             24.19   \n",
       "295733             14.96             11.96             13.84   \n",
       "295734             40.73             33.45             38.49   \n",
       "295735             37.36             30.01             34.58   \n",
       "\n",
       "        ACTIVITY_DATA_29  ACTIVITY_DATA_30  \n",
       "295731              35.0             34.32  \n",
       "295732              35.0             34.27  \n",
       "295733              20.0             19.63  \n",
       "295734              55.0             54.25  \n",
       "295735              50.0             48.94  "
      ]
     },
     "execution_count": 10,
     "metadata": {},
     "output_type": "execute_result"
    }
   ],
   "source": [
    "df_dd.head()"
   ]
  },
  {
   "cell_type": "code",
   "execution_count": 11,
   "metadata": {},
   "outputs": [
    {
     "data": {
      "text/plain": [
       "(22433, 21)"
      ]
     },
     "execution_count": 11,
     "metadata": {},
     "output_type": "execute_result"
    }
   ],
   "source": [
    "df_dd.shape"
   ]
  },
  {
   "cell_type": "code",
   "execution_count": 12,
   "metadata": {},
   "outputs": [],
   "source": [
    "df_dd.reset_index(inplace=True)"
   ]
  },
  {
   "cell_type": "code",
   "execution_count": 13,
   "metadata": {},
   "outputs": [
    {
     "data": {
      "text/html": [
       "<div>\n",
       "<style scoped>\n",
       "    .dataframe tbody tr th:only-of-type {\n",
       "        vertical-align: middle;\n",
       "    }\n",
       "\n",
       "    .dataframe tbody tr th {\n",
       "        vertical-align: top;\n",
       "    }\n",
       "\n",
       "    .dataframe thead th {\n",
       "        text-align: right;\n",
       "    }\n",
       "</style>\n",
       "<table border=\"1\" class=\"dataframe\">\n",
       "  <thead>\n",
       "    <tr style=\"text-align: right;\">\n",
       "      <th></th>\n",
       "      <th>index</th>\n",
       "      <th>SUPPORTER_ID</th>\n",
       "      <th>COUNTRY</th>\n",
       "      <th>ACTIVITY_TYPE</th>\n",
       "      <th>ACTIVITY_DATETIME</th>\n",
       "      <th>ACTIVITY_ID</th>\n",
       "      <th>ACTIVITY_STATUS</th>\n",
       "      <th>ACTIVITY_DATA_1</th>\n",
       "      <th>ACTIVITY_DATA_2</th>\n",
       "      <th>ACTIVITY_DATA_3</th>\n",
       "      <th>ACTIVITY_DATA_4</th>\n",
       "      <th>ACTIVITY_DATA_5</th>\n",
       "      <th>ACTIVITY_DATA_6</th>\n",
       "      <th>ACTIVITY_DATA_7</th>\n",
       "      <th>ACTIVITY_DATA_8</th>\n",
       "      <th>ACTIVITY_DATA_9</th>\n",
       "      <th>ACTIVITY_DATA_10</th>\n",
       "      <th>ACTIVITY_DATA_26</th>\n",
       "      <th>ACTIVITY_DATA_27</th>\n",
       "      <th>ACTIVITY_DATA_28</th>\n",
       "      <th>ACTIVITY_DATA_29</th>\n",
       "      <th>ACTIVITY_DATA_30</th>\n",
       "    </tr>\n",
       "  </thead>\n",
       "  <tbody>\n",
       "    <tr>\n",
       "      <th>0</th>\n",
       "      <td>295731</td>\n",
       "      <td>kudFmD%2ByF7w=</td>\n",
       "      <td>CAN</td>\n",
       "      <td>FCS</td>\n",
       "      <td>2017-03-26 13:51:52</td>\n",
       "      <td>17381</td>\n",
       "      <td>success</td>\n",
       "      <td>0</td>\n",
       "      <td>0</td>\n",
       "      <td>NaN</td>\n",
       "      <td>35.00</td>\n",
       "      <td>CAD</td>\n",
       "      <td>PayPal</td>\n",
       "      <td>S</td>\n",
       "      <td>NaN</td>\n",
       "      <td>NaN</td>\n",
       "      <td>NaN</td>\n",
       "      <td>26.16</td>\n",
       "      <td>20.98</td>\n",
       "      <td>24.21</td>\n",
       "      <td>35.0</td>\n",
       "      <td>34.32</td>\n",
       "    </tr>\n",
       "    <tr>\n",
       "      <th>1</th>\n",
       "      <td>295732</td>\n",
       "      <td>MpbERpuNCk0=</td>\n",
       "      <td>CA</td>\n",
       "      <td>FCS</td>\n",
       "      <td>2017-03-28 13:01:09</td>\n",
       "      <td>16977</td>\n",
       "      <td>success</td>\n",
       "      <td>0</td>\n",
       "      <td>0</td>\n",
       "      <td>NaN</td>\n",
       "      <td>35.00</td>\n",
       "      <td>CAD</td>\n",
       "      <td>PayPal</td>\n",
       "      <td>S</td>\n",
       "      <td>NaN</td>\n",
       "      <td>NaN</td>\n",
       "      <td>NaN</td>\n",
       "      <td>26.19</td>\n",
       "      <td>21.00</td>\n",
       "      <td>24.19</td>\n",
       "      <td>35.0</td>\n",
       "      <td>34.27</td>\n",
       "    </tr>\n",
       "    <tr>\n",
       "      <th>2</th>\n",
       "      <td>295733</td>\n",
       "      <td>GJbnFkIn6SY=</td>\n",
       "      <td>CAN</td>\n",
       "      <td>FCS</td>\n",
       "      <td>2017-03-24 13:29:51</td>\n",
       "      <td>64120</td>\n",
       "      <td>success</td>\n",
       "      <td>0</td>\n",
       "      <td>0</td>\n",
       "      <td>NaN</td>\n",
       "      <td>20.00</td>\n",
       "      <td>CAD</td>\n",
       "      <td>MasterCard</td>\n",
       "      <td>S</td>\n",
       "      <td>NaN</td>\n",
       "      <td>NaN</td>\n",
       "      <td>NaN</td>\n",
       "      <td>14.96</td>\n",
       "      <td>11.96</td>\n",
       "      <td>13.84</td>\n",
       "      <td>20.0</td>\n",
       "      <td>19.63</td>\n",
       "    </tr>\n",
       "    <tr>\n",
       "      <th>3</th>\n",
       "      <td>295734</td>\n",
       "      <td>4CmZuezC6hw=</td>\n",
       "      <td>CAN</td>\n",
       "      <td>FCS</td>\n",
       "      <td>2017-03-09 16:06:38</td>\n",
       "      <td>64120</td>\n",
       "      <td>success</td>\n",
       "      <td>0</td>\n",
       "      <td>0</td>\n",
       "      <td>NaN</td>\n",
       "      <td>55.00</td>\n",
       "      <td>CAD</td>\n",
       "      <td>PayPal</td>\n",
       "      <td>S</td>\n",
       "      <td>NaN</td>\n",
       "      <td>NaN</td>\n",
       "      <td>NaN</td>\n",
       "      <td>40.73</td>\n",
       "      <td>33.45</td>\n",
       "      <td>38.49</td>\n",
       "      <td>55.0</td>\n",
       "      <td>54.25</td>\n",
       "    </tr>\n",
       "    <tr>\n",
       "      <th>4</th>\n",
       "      <td>295735</td>\n",
       "      <td>ga9c44p8S04=</td>\n",
       "      <td>CA</td>\n",
       "      <td>FCS</td>\n",
       "      <td>2017-03-28 14:51:58</td>\n",
       "      <td>19536</td>\n",
       "      <td>success</td>\n",
       "      <td>0</td>\n",
       "      <td>0</td>\n",
       "      <td>NaN</td>\n",
       "      <td>50.00</td>\n",
       "      <td>CAD</td>\n",
       "      <td>PayPal</td>\n",
       "      <td>S</td>\n",
       "      <td>NaN</td>\n",
       "      <td>NaN</td>\n",
       "      <td>NaN</td>\n",
       "      <td>37.36</td>\n",
       "      <td>30.01</td>\n",
       "      <td>34.58</td>\n",
       "      <td>50.0</td>\n",
       "      <td>48.94</td>\n",
       "    </tr>\n",
       "  </tbody>\n",
       "</table>\n",
       "</div>"
      ],
      "text/plain": [
       "    index    SUPPORTER_ID COUNTRY ACTIVITY_TYPE    ACTIVITY_DATETIME  \\\n",
       "0  295731  kudFmD%2ByF7w=     CAN           FCS  2017-03-26 13:51:52   \n",
       "1  295732    MpbERpuNCk0=      CA           FCS  2017-03-28 13:01:09   \n",
       "2  295733    GJbnFkIn6SY=     CAN           FCS  2017-03-24 13:29:51   \n",
       "3  295734    4CmZuezC6hw=     CAN           FCS  2017-03-09 16:06:38   \n",
       "4  295735    ga9c44p8S04=      CA           FCS  2017-03-28 14:51:58   \n",
       "\n",
       "   ACTIVITY_ID ACTIVITY_STATUS ACTIVITY_DATA_1 ACTIVITY_DATA_2  \\\n",
       "0        17381         success               0               0   \n",
       "1        16977         success               0               0   \n",
       "2        64120         success               0               0   \n",
       "3        64120         success               0               0   \n",
       "4        19536         success               0               0   \n",
       "\n",
       "  ACTIVITY_DATA_3 ACTIVITY_DATA_4 ACTIVITY_DATA_5 ACTIVITY_DATA_6  \\\n",
       "0             NaN           35.00             CAD          PayPal   \n",
       "1             NaN           35.00             CAD          PayPal   \n",
       "2             NaN           20.00             CAD      MasterCard   \n",
       "3             NaN           55.00             CAD          PayPal   \n",
       "4             NaN           50.00             CAD          PayPal   \n",
       "\n",
       "  ACTIVITY_DATA_7  ACTIVITY_DATA_8 ACTIVITY_DATA_9 ACTIVITY_DATA_10  \\\n",
       "0               S              NaN             NaN              NaN   \n",
       "1               S              NaN             NaN              NaN   \n",
       "2               S              NaN             NaN              NaN   \n",
       "3               S              NaN             NaN              NaN   \n",
       "4               S              NaN             NaN              NaN   \n",
       "\n",
       "   ACTIVITY_DATA_26  ACTIVITY_DATA_27  ACTIVITY_DATA_28  ACTIVITY_DATA_29  \\\n",
       "0             26.16             20.98             24.21              35.0   \n",
       "1             26.19             21.00             24.19              35.0   \n",
       "2             14.96             11.96             13.84              20.0   \n",
       "3             40.73             33.45             38.49              55.0   \n",
       "4             37.36             30.01             34.58              50.0   \n",
       "\n",
       "   ACTIVITY_DATA_30  \n",
       "0             34.32  \n",
       "1             34.27  \n",
       "2             19.63  \n",
       "3             54.25  \n",
       "4             48.94  "
      ]
     },
     "execution_count": 13,
     "metadata": {},
     "output_type": "execute_result"
    }
   ],
   "source": [
    "df_dd.head()"
   ]
  },
  {
   "cell_type": "code",
   "execution_count": 14,
   "metadata": {},
   "outputs": [
    {
     "name": "stderr",
     "output_type": "stream",
     "text": [
      "C:\\Users\\Fred\\Anaconda3\\lib\\site-packages\\pandas\\core\\frame.py:3940: SettingWithCopyWarning: \n",
      "A value is trying to be set on a copy of a slice from a DataFrame\n",
      "\n",
      "See the caveats in the documentation: http://pandas.pydata.org/pandas-docs/stable/indexing.html#indexing-view-versus-copy\n",
      "  errors=errors)\n"
     ]
    }
   ],
   "source": [
    "df_dd.drop(columns=['index', 'COUNTRY', 'ACTIVITY_TYPE', 'ACTIVITY_DATETIME', 'ACTIVITY_ID', 'ACTIVITY_STATUS', 'ACTIVITY_DATA_1', \n",
    "                   'ACTIVITY_DATA_2', 'ACTIVITY_DATA_3', 'ACTIVITY_DATA_4', 'ACTIVITY_DATA_6', 'ACTIVITY_DATA_7', 'ACTIVITY_DATA_8',\n",
    "                   'ACTIVITY_DATA_9', 'ACTIVITY_DATA_10', 'ACTIVITY_DATA_26', 'ACTIVITY_DATA_27', 'ACTIVITY_DATA_28', \n",
    "                   'ACTIVITY_DATA_29', 'ACTIVITY_DATA_30'], inplace=True)"
   ]
  },
  {
   "cell_type": "code",
   "execution_count": 15,
   "metadata": {},
   "outputs": [],
   "source": [
    "df1 = df_dd.copy()"
   ]
  },
  {
   "cell_type": "code",
   "execution_count": 16,
   "metadata": {},
   "outputs": [
    {
     "data": {
      "text/plain": [
       "(22433, 2)"
      ]
     },
     "execution_count": 16,
     "metadata": {},
     "output_type": "execute_result"
    }
   ],
   "source": [
    "df1.shape"
   ]
  },
  {
   "cell_type": "code",
   "execution_count": 17,
   "metadata": {},
   "outputs": [
    {
     "data": {
      "text/html": [
       "<div>\n",
       "<style scoped>\n",
       "    .dataframe tbody tr th:only-of-type {\n",
       "        vertical-align: middle;\n",
       "    }\n",
       "\n",
       "    .dataframe tbody tr th {\n",
       "        vertical-align: top;\n",
       "    }\n",
       "\n",
       "    .dataframe thead th {\n",
       "        text-align: right;\n",
       "    }\n",
       "</style>\n",
       "<table border=\"1\" class=\"dataframe\">\n",
       "  <thead>\n",
       "    <tr style=\"text-align: right;\">\n",
       "      <th></th>\n",
       "      <th>SUPPORTER_ID</th>\n",
       "      <th>ACTIVITY_DATA_5</th>\n",
       "    </tr>\n",
       "  </thead>\n",
       "  <tbody>\n",
       "    <tr>\n",
       "      <th>0</th>\n",
       "      <td>kudFmD%2ByF7w=</td>\n",
       "      <td>CAD</td>\n",
       "    </tr>\n",
       "    <tr>\n",
       "      <th>1</th>\n",
       "      <td>MpbERpuNCk0=</td>\n",
       "      <td>CAD</td>\n",
       "    </tr>\n",
       "    <tr>\n",
       "      <th>2</th>\n",
       "      <td>GJbnFkIn6SY=</td>\n",
       "      <td>CAD</td>\n",
       "    </tr>\n",
       "    <tr>\n",
       "      <th>3</th>\n",
       "      <td>4CmZuezC6hw=</td>\n",
       "      <td>CAD</td>\n",
       "    </tr>\n",
       "    <tr>\n",
       "      <th>4</th>\n",
       "      <td>ga9c44p8S04=</td>\n",
       "      <td>CAD</td>\n",
       "    </tr>\n",
       "  </tbody>\n",
       "</table>\n",
       "</div>"
      ],
      "text/plain": [
       "     SUPPORTER_ID ACTIVITY_DATA_5\n",
       "0  kudFmD%2ByF7w=             CAD\n",
       "1    MpbERpuNCk0=             CAD\n",
       "2    GJbnFkIn6SY=             CAD\n",
       "3    4CmZuezC6hw=             CAD\n",
       "4    ga9c44p8S04=             CAD"
      ]
     },
     "execution_count": 17,
     "metadata": {},
     "output_type": "execute_result"
    }
   ],
   "source": [
    "df1.head()"
   ]
  },
  {
   "cell_type": "code",
   "execution_count": 18,
   "metadata": {},
   "outputs": [
    {
     "data": {
      "text/plain": [
       "22433"
      ]
     },
     "execution_count": 18,
     "metadata": {},
     "output_type": "execute_result"
    }
   ],
   "source": [
    "df1.SUPPORTER_ID.nunique()"
   ]
  },
  {
   "cell_type": "code",
   "execution_count": 19,
   "metadata": {},
   "outputs": [],
   "source": [
    "# renaming some columns\n",
    "df1 = df1.rename(columns={'SUPPORTER_ID': 'supp_id', 'ACTIVITY_DATA_5': 'currency'})"
   ]
  },
  {
   "cell_type": "code",
   "execution_count": 20,
   "metadata": {},
   "outputs": [
    {
     "data": {
      "text/html": [
       "<div>\n",
       "<style scoped>\n",
       "    .dataframe tbody tr th:only-of-type {\n",
       "        vertical-align: middle;\n",
       "    }\n",
       "\n",
       "    .dataframe tbody tr th {\n",
       "        vertical-align: top;\n",
       "    }\n",
       "\n",
       "    .dataframe thead th {\n",
       "        text-align: right;\n",
       "    }\n",
       "</style>\n",
       "<table border=\"1\" class=\"dataframe\">\n",
       "  <thead>\n",
       "    <tr style=\"text-align: right;\">\n",
       "      <th></th>\n",
       "      <th>supp_id</th>\n",
       "      <th>currency</th>\n",
       "    </tr>\n",
       "  </thead>\n",
       "  <tbody>\n",
       "    <tr>\n",
       "      <th>0</th>\n",
       "      <td>kudFmD%2ByF7w=</td>\n",
       "      <td>CAD</td>\n",
       "    </tr>\n",
       "    <tr>\n",
       "      <th>1</th>\n",
       "      <td>MpbERpuNCk0=</td>\n",
       "      <td>CAD</td>\n",
       "    </tr>\n",
       "    <tr>\n",
       "      <th>2</th>\n",
       "      <td>GJbnFkIn6SY=</td>\n",
       "      <td>CAD</td>\n",
       "    </tr>\n",
       "    <tr>\n",
       "      <th>3</th>\n",
       "      <td>4CmZuezC6hw=</td>\n",
       "      <td>CAD</td>\n",
       "    </tr>\n",
       "    <tr>\n",
       "      <th>4</th>\n",
       "      <td>ga9c44p8S04=</td>\n",
       "      <td>CAD</td>\n",
       "    </tr>\n",
       "  </tbody>\n",
       "</table>\n",
       "</div>"
      ],
      "text/plain": [
       "          supp_id currency\n",
       "0  kudFmD%2ByF7w=      CAD\n",
       "1    MpbERpuNCk0=      CAD\n",
       "2    GJbnFkIn6SY=      CAD\n",
       "3    4CmZuezC6hw=      CAD\n",
       "4    ga9c44p8S04=      CAD"
      ]
     },
     "execution_count": 20,
     "metadata": {},
     "output_type": "execute_result"
    }
   ],
   "source": [
    "df1.head()"
   ]
  },
  {
   "cell_type": "markdown",
   "metadata": {},
   "source": [
    "#### FUR or not ?  (1 or 0):"
   ]
  },
  {
   "cell_type": "code",
   "execution_count": 21,
   "metadata": {},
   "outputs": [],
   "source": [
    "# Add the column 'fur' where it equals 1 if the supporter also contributed monthly (has a FUR transaction)\n",
    "df1['fur'] = np.where(df1.supp_id.isin(df_t_all_fur.SUPPORTER_ID), 1, 0)"
   ]
  },
  {
   "cell_type": "code",
   "execution_count": 22,
   "metadata": {},
   "outputs": [
    {
     "data": {
      "text/plain": [
       "(22433, 3)"
      ]
     },
     "execution_count": 22,
     "metadata": {},
     "output_type": "execute_result"
    }
   ],
   "source": [
    "df1.shape"
   ]
  },
  {
   "cell_type": "code",
   "execution_count": 23,
   "metadata": {},
   "outputs": [
    {
     "data": {
      "text/html": [
       "<div>\n",
       "<style scoped>\n",
       "    .dataframe tbody tr th:only-of-type {\n",
       "        vertical-align: middle;\n",
       "    }\n",
       "\n",
       "    .dataframe tbody tr th {\n",
       "        vertical-align: top;\n",
       "    }\n",
       "\n",
       "    .dataframe thead th {\n",
       "        text-align: right;\n",
       "    }\n",
       "</style>\n",
       "<table border=\"1\" class=\"dataframe\">\n",
       "  <thead>\n",
       "    <tr style=\"text-align: right;\">\n",
       "      <th></th>\n",
       "      <th>supp_id</th>\n",
       "      <th>currency</th>\n",
       "      <th>fur</th>\n",
       "    </tr>\n",
       "  </thead>\n",
       "  <tbody>\n",
       "    <tr>\n",
       "      <th>0</th>\n",
       "      <td>kudFmD%2ByF7w=</td>\n",
       "      <td>CAD</td>\n",
       "      <td>0</td>\n",
       "    </tr>\n",
       "    <tr>\n",
       "      <th>1</th>\n",
       "      <td>MpbERpuNCk0=</td>\n",
       "      <td>CAD</td>\n",
       "      <td>0</td>\n",
       "    </tr>\n",
       "    <tr>\n",
       "      <th>2</th>\n",
       "      <td>GJbnFkIn6SY=</td>\n",
       "      <td>CAD</td>\n",
       "      <td>0</td>\n",
       "    </tr>\n",
       "    <tr>\n",
       "      <th>3</th>\n",
       "      <td>4CmZuezC6hw=</td>\n",
       "      <td>CAD</td>\n",
       "      <td>0</td>\n",
       "    </tr>\n",
       "    <tr>\n",
       "      <th>4</th>\n",
       "      <td>ga9c44p8S04=</td>\n",
       "      <td>CAD</td>\n",
       "      <td>0</td>\n",
       "    </tr>\n",
       "  </tbody>\n",
       "</table>\n",
       "</div>"
      ],
      "text/plain": [
       "          supp_id currency  fur\n",
       "0  kudFmD%2ByF7w=      CAD    0\n",
       "1    MpbERpuNCk0=      CAD    0\n",
       "2    GJbnFkIn6SY=      CAD    0\n",
       "3    4CmZuezC6hw=      CAD    0\n",
       "4    ga9c44p8S04=      CAD    0"
      ]
     },
     "execution_count": 23,
     "metadata": {},
     "output_type": "execute_result"
    }
   ],
   "source": [
    "df1.head() "
   ]
  },
  {
   "cell_type": "code",
   "execution_count": 24,
   "metadata": {},
   "outputs": [
    {
     "data": {
      "text/plain": [
       "(21, 3)"
      ]
     },
     "execution_count": 24,
     "metadata": {},
     "output_type": "execute_result"
    }
   ],
   "source": [
    "# display number of rows, columns for supporters who made a FCS and FUR transaction\n",
    "df1.loc[df1['fur'] == 1].shape"
   ]
  },
  {
   "cell_type": "markdown",
   "metadata": {},
   "source": [
    "#### Number of FCS transactions by unique supporter:"
   ]
  },
  {
   "cell_type": "code",
   "execution_count": 25,
   "metadata": {},
   "outputs": [],
   "source": [
    "\n",
    "df_temp = df_t_all_fcs.groupby('SUPPORTER_ID').count()"
   ]
  },
  {
   "cell_type": "code",
   "execution_count": 26,
   "metadata": {},
   "outputs": [],
   "source": [
    "df1 = df1.merge(df_temp[['ACTIVITY_ID']], left_on=df1.supp_id, right_on=df_temp.index)"
   ]
  },
  {
   "cell_type": "code",
   "execution_count": 27,
   "metadata": {},
   "outputs": [
    {
     "data": {
      "text/plain": [
       "(22433, 5)"
      ]
     },
     "execution_count": 27,
     "metadata": {},
     "output_type": "execute_result"
    }
   ],
   "source": [
    "df1.shape"
   ]
  },
  {
   "cell_type": "code",
   "execution_count": 28,
   "metadata": {},
   "outputs": [
    {
     "data": {
      "text/html": [
       "<div>\n",
       "<style scoped>\n",
       "    .dataframe tbody tr th:only-of-type {\n",
       "        vertical-align: middle;\n",
       "    }\n",
       "\n",
       "    .dataframe tbody tr th {\n",
       "        vertical-align: top;\n",
       "    }\n",
       "\n",
       "    .dataframe thead th {\n",
       "        text-align: right;\n",
       "    }\n",
       "</style>\n",
       "<table border=\"1\" class=\"dataframe\">\n",
       "  <thead>\n",
       "    <tr style=\"text-align: right;\">\n",
       "      <th></th>\n",
       "      <th>key_0</th>\n",
       "      <th>supp_id</th>\n",
       "      <th>currency</th>\n",
       "      <th>fur</th>\n",
       "      <th>ACTIVITY_ID</th>\n",
       "    </tr>\n",
       "  </thead>\n",
       "  <tbody>\n",
       "    <tr>\n",
       "      <th>0</th>\n",
       "      <td>kudFmD%2ByF7w=</td>\n",
       "      <td>kudFmD%2ByF7w=</td>\n",
       "      <td>CAD</td>\n",
       "      <td>0</td>\n",
       "      <td>2</td>\n",
       "    </tr>\n",
       "    <tr>\n",
       "      <th>1</th>\n",
       "      <td>MpbERpuNCk0=</td>\n",
       "      <td>MpbERpuNCk0=</td>\n",
       "      <td>CAD</td>\n",
       "      <td>0</td>\n",
       "      <td>3</td>\n",
       "    </tr>\n",
       "    <tr>\n",
       "      <th>2</th>\n",
       "      <td>GJbnFkIn6SY=</td>\n",
       "      <td>GJbnFkIn6SY=</td>\n",
       "      <td>CAD</td>\n",
       "      <td>0</td>\n",
       "      <td>2</td>\n",
       "    </tr>\n",
       "    <tr>\n",
       "      <th>3</th>\n",
       "      <td>4CmZuezC6hw=</td>\n",
       "      <td>4CmZuezC6hw=</td>\n",
       "      <td>CAD</td>\n",
       "      <td>0</td>\n",
       "      <td>2</td>\n",
       "    </tr>\n",
       "    <tr>\n",
       "      <th>4</th>\n",
       "      <td>ga9c44p8S04=</td>\n",
       "      <td>ga9c44p8S04=</td>\n",
       "      <td>CAD</td>\n",
       "      <td>0</td>\n",
       "      <td>2</td>\n",
       "    </tr>\n",
       "  </tbody>\n",
       "</table>\n",
       "</div>"
      ],
      "text/plain": [
       "            key_0         supp_id currency  fur  ACTIVITY_ID\n",
       "0  kudFmD%2ByF7w=  kudFmD%2ByF7w=      CAD    0            2\n",
       "1    MpbERpuNCk0=    MpbERpuNCk0=      CAD    0            3\n",
       "2    GJbnFkIn6SY=    GJbnFkIn6SY=      CAD    0            2\n",
       "3    4CmZuezC6hw=    4CmZuezC6hw=      CAD    0            2\n",
       "4    ga9c44p8S04=    ga9c44p8S04=      CAD    0            2"
      ]
     },
     "execution_count": 28,
     "metadata": {},
     "output_type": "execute_result"
    }
   ],
   "source": [
    "df1.head()"
   ]
  },
  {
   "cell_type": "code",
   "execution_count": 29,
   "metadata": {},
   "outputs": [],
   "source": [
    "df1.drop(columns=['key_0'], inplace=True)"
   ]
  },
  {
   "cell_type": "code",
   "execution_count": 30,
   "metadata": {},
   "outputs": [
    {
     "data": {
      "text/html": [
       "<div>\n",
       "<style scoped>\n",
       "    .dataframe tbody tr th:only-of-type {\n",
       "        vertical-align: middle;\n",
       "    }\n",
       "\n",
       "    .dataframe tbody tr th {\n",
       "        vertical-align: top;\n",
       "    }\n",
       "\n",
       "    .dataframe thead th {\n",
       "        text-align: right;\n",
       "    }\n",
       "</style>\n",
       "<table border=\"1\" class=\"dataframe\">\n",
       "  <thead>\n",
       "    <tr style=\"text-align: right;\">\n",
       "      <th></th>\n",
       "      <th>supp_id</th>\n",
       "      <th>currency</th>\n",
       "      <th>fur</th>\n",
       "      <th>ACTIVITY_ID</th>\n",
       "    </tr>\n",
       "  </thead>\n",
       "  <tbody>\n",
       "    <tr>\n",
       "      <th>0</th>\n",
       "      <td>kudFmD%2ByF7w=</td>\n",
       "      <td>CAD</td>\n",
       "      <td>0</td>\n",
       "      <td>2</td>\n",
       "    </tr>\n",
       "    <tr>\n",
       "      <th>1</th>\n",
       "      <td>MpbERpuNCk0=</td>\n",
       "      <td>CAD</td>\n",
       "      <td>0</td>\n",
       "      <td>3</td>\n",
       "    </tr>\n",
       "    <tr>\n",
       "      <th>2</th>\n",
       "      <td>GJbnFkIn6SY=</td>\n",
       "      <td>CAD</td>\n",
       "      <td>0</td>\n",
       "      <td>2</td>\n",
       "    </tr>\n",
       "    <tr>\n",
       "      <th>3</th>\n",
       "      <td>4CmZuezC6hw=</td>\n",
       "      <td>CAD</td>\n",
       "      <td>0</td>\n",
       "      <td>2</td>\n",
       "    </tr>\n",
       "    <tr>\n",
       "      <th>4</th>\n",
       "      <td>ga9c44p8S04=</td>\n",
       "      <td>CAD</td>\n",
       "      <td>0</td>\n",
       "      <td>2</td>\n",
       "    </tr>\n",
       "  </tbody>\n",
       "</table>\n",
       "</div>"
      ],
      "text/plain": [
       "          supp_id currency  fur  ACTIVITY_ID\n",
       "0  kudFmD%2ByF7w=      CAD    0            2\n",
       "1    MpbERpuNCk0=      CAD    0            3\n",
       "2    GJbnFkIn6SY=      CAD    0            2\n",
       "3    4CmZuezC6hw=      CAD    0            2\n",
       "4    ga9c44p8S04=      CAD    0            2"
      ]
     },
     "execution_count": 30,
     "metadata": {},
     "output_type": "execute_result"
    }
   ],
   "source": [
    "df1.head()"
   ]
  },
  {
   "cell_type": "code",
   "execution_count": 31,
   "metadata": {},
   "outputs": [],
   "source": [
    "# renaming some columns\n",
    "df1 = df1.rename(columns={'ACTIVITY_ID': 'total_fcs'})"
   ]
  },
  {
   "cell_type": "code",
   "execution_count": 32,
   "metadata": {},
   "outputs": [
    {
     "data": {
      "text/html": [
       "<div>\n",
       "<style scoped>\n",
       "    .dataframe tbody tr th:only-of-type {\n",
       "        vertical-align: middle;\n",
       "    }\n",
       "\n",
       "    .dataframe tbody tr th {\n",
       "        vertical-align: top;\n",
       "    }\n",
       "\n",
       "    .dataframe thead th {\n",
       "        text-align: right;\n",
       "    }\n",
       "</style>\n",
       "<table border=\"1\" class=\"dataframe\">\n",
       "  <thead>\n",
       "    <tr style=\"text-align: right;\">\n",
       "      <th></th>\n",
       "      <th>supp_id</th>\n",
       "      <th>currency</th>\n",
       "      <th>fur</th>\n",
       "      <th>total_fcs</th>\n",
       "    </tr>\n",
       "  </thead>\n",
       "  <tbody>\n",
       "    <tr>\n",
       "      <th>0</th>\n",
       "      <td>kudFmD%2ByF7w=</td>\n",
       "      <td>CAD</td>\n",
       "      <td>0</td>\n",
       "      <td>2</td>\n",
       "    </tr>\n",
       "    <tr>\n",
       "      <th>1</th>\n",
       "      <td>MpbERpuNCk0=</td>\n",
       "      <td>CAD</td>\n",
       "      <td>0</td>\n",
       "      <td>3</td>\n",
       "    </tr>\n",
       "    <tr>\n",
       "      <th>2</th>\n",
       "      <td>GJbnFkIn6SY=</td>\n",
       "      <td>CAD</td>\n",
       "      <td>0</td>\n",
       "      <td>2</td>\n",
       "    </tr>\n",
       "    <tr>\n",
       "      <th>3</th>\n",
       "      <td>4CmZuezC6hw=</td>\n",
       "      <td>CAD</td>\n",
       "      <td>0</td>\n",
       "      <td>2</td>\n",
       "    </tr>\n",
       "    <tr>\n",
       "      <th>4</th>\n",
       "      <td>ga9c44p8S04=</td>\n",
       "      <td>CAD</td>\n",
       "      <td>0</td>\n",
       "      <td>2</td>\n",
       "    </tr>\n",
       "  </tbody>\n",
       "</table>\n",
       "</div>"
      ],
      "text/plain": [
       "          supp_id currency  fur  total_fcs\n",
       "0  kudFmD%2ByF7w=      CAD    0          2\n",
       "1    MpbERpuNCk0=      CAD    0          3\n",
       "2    GJbnFkIn6SY=      CAD    0          2\n",
       "3    4CmZuezC6hw=      CAD    0          2\n",
       "4    ga9c44p8S04=      CAD    0          2"
      ]
     },
     "execution_count": 32,
     "metadata": {},
     "output_type": "execute_result"
    }
   ],
   "source": [
    "df1.head()"
   ]
  },
  {
   "cell_type": "markdown",
   "metadata": {},
   "source": [
    "#### Maximum FCS transaction:"
   ]
  },
  {
   "cell_type": "code",
   "execution_count": 33,
   "metadata": {},
   "outputs": [],
   "source": [
    "df_temp = pd.DataFrame()"
   ]
  },
  {
   "cell_type": "code",
   "execution_count": 34,
   "metadata": {},
   "outputs": [],
   "source": [
    "df_temp['max_fcs'] = df_t_all_fcs.groupby('SUPPORTER_ID', sort=False)['ACTIVITY_DATA_26'].max()"
   ]
  },
  {
   "cell_type": "code",
   "execution_count": 35,
   "metadata": {},
   "outputs": [
    {
     "data": {
      "text/html": [
       "<div>\n",
       "<style scoped>\n",
       "    .dataframe tbody tr th:only-of-type {\n",
       "        vertical-align: middle;\n",
       "    }\n",
       "\n",
       "    .dataframe tbody tr th {\n",
       "        vertical-align: top;\n",
       "    }\n",
       "\n",
       "    .dataframe thead th {\n",
       "        text-align: right;\n",
       "    }\n",
       "</style>\n",
       "<table border=\"1\" class=\"dataframe\">\n",
       "  <thead>\n",
       "    <tr style=\"text-align: right;\">\n",
       "      <th></th>\n",
       "      <th>max_fcs</th>\n",
       "    </tr>\n",
       "    <tr>\n",
       "      <th>SUPPORTER_ID</th>\n",
       "      <th></th>\n",
       "    </tr>\n",
       "  </thead>\n",
       "  <tbody>\n",
       "    <tr>\n",
       "      <th>kudFmD%2ByF7w=</th>\n",
       "      <td>26.16</td>\n",
       "    </tr>\n",
       "    <tr>\n",
       "      <th>MpbERpuNCk0=</th>\n",
       "      <td>35.00</td>\n",
       "    </tr>\n",
       "    <tr>\n",
       "      <th>GJbnFkIn6SY=</th>\n",
       "      <td>14.96</td>\n",
       "    </tr>\n",
       "    <tr>\n",
       "      <th>4CmZuezC6hw=</th>\n",
       "      <td>40.73</td>\n",
       "    </tr>\n",
       "    <tr>\n",
       "      <th>ga9c44p8S04=</th>\n",
       "      <td>37.36</td>\n",
       "    </tr>\n",
       "  </tbody>\n",
       "</table>\n",
       "</div>"
      ],
      "text/plain": [
       "                max_fcs\n",
       "SUPPORTER_ID           \n",
       "kudFmD%2ByF7w=    26.16\n",
       "MpbERpuNCk0=      35.00\n",
       "GJbnFkIn6SY=      14.96\n",
       "4CmZuezC6hw=      40.73\n",
       "ga9c44p8S04=      37.36"
      ]
     },
     "execution_count": 35,
     "metadata": {},
     "output_type": "execute_result"
    }
   ],
   "source": [
    "df_temp.head()"
   ]
  },
  {
   "cell_type": "code",
   "execution_count": 36,
   "metadata": {},
   "outputs": [
    {
     "data": {
      "text/plain": [
       "(22433, 1)"
      ]
     },
     "execution_count": 36,
     "metadata": {},
     "output_type": "execute_result"
    }
   ],
   "source": [
    "df_temp.shape"
   ]
  },
  {
   "cell_type": "code",
   "execution_count": 37,
   "metadata": {},
   "outputs": [],
   "source": [
    "df1 = df1.merge(df_temp, left_on=['supp_id'], right_on=df_temp.index)"
   ]
  },
  {
   "cell_type": "code",
   "execution_count": 38,
   "metadata": {},
   "outputs": [
    {
     "data": {
      "text/html": [
       "<div>\n",
       "<style scoped>\n",
       "    .dataframe tbody tr th:only-of-type {\n",
       "        vertical-align: middle;\n",
       "    }\n",
       "\n",
       "    .dataframe tbody tr th {\n",
       "        vertical-align: top;\n",
       "    }\n",
       "\n",
       "    .dataframe thead th {\n",
       "        text-align: right;\n",
       "    }\n",
       "</style>\n",
       "<table border=\"1\" class=\"dataframe\">\n",
       "  <thead>\n",
       "    <tr style=\"text-align: right;\">\n",
       "      <th></th>\n",
       "      <th>supp_id</th>\n",
       "      <th>currency</th>\n",
       "      <th>fur</th>\n",
       "      <th>total_fcs</th>\n",
       "      <th>max_fcs</th>\n",
       "    </tr>\n",
       "  </thead>\n",
       "  <tbody>\n",
       "    <tr>\n",
       "      <th>0</th>\n",
       "      <td>kudFmD%2ByF7w=</td>\n",
       "      <td>CAD</td>\n",
       "      <td>0</td>\n",
       "      <td>2</td>\n",
       "      <td>26.16</td>\n",
       "    </tr>\n",
       "    <tr>\n",
       "      <th>1</th>\n",
       "      <td>MpbERpuNCk0=</td>\n",
       "      <td>CAD</td>\n",
       "      <td>0</td>\n",
       "      <td>3</td>\n",
       "      <td>35.00</td>\n",
       "    </tr>\n",
       "    <tr>\n",
       "      <th>2</th>\n",
       "      <td>GJbnFkIn6SY=</td>\n",
       "      <td>CAD</td>\n",
       "      <td>0</td>\n",
       "      <td>2</td>\n",
       "      <td>14.96</td>\n",
       "    </tr>\n",
       "    <tr>\n",
       "      <th>3</th>\n",
       "      <td>4CmZuezC6hw=</td>\n",
       "      <td>CAD</td>\n",
       "      <td>0</td>\n",
       "      <td>2</td>\n",
       "      <td>40.73</td>\n",
       "    </tr>\n",
       "    <tr>\n",
       "      <th>4</th>\n",
       "      <td>ga9c44p8S04=</td>\n",
       "      <td>CAD</td>\n",
       "      <td>0</td>\n",
       "      <td>2</td>\n",
       "      <td>37.36</td>\n",
       "    </tr>\n",
       "  </tbody>\n",
       "</table>\n",
       "</div>"
      ],
      "text/plain": [
       "          supp_id currency  fur  total_fcs  max_fcs\n",
       "0  kudFmD%2ByF7w=      CAD    0          2    26.16\n",
       "1    MpbERpuNCk0=      CAD    0          3    35.00\n",
       "2    GJbnFkIn6SY=      CAD    0          2    14.96\n",
       "3    4CmZuezC6hw=      CAD    0          2    40.73\n",
       "4    ga9c44p8S04=      CAD    0          2    37.36"
      ]
     },
     "execution_count": 38,
     "metadata": {},
     "output_type": "execute_result"
    }
   ],
   "source": [
    "df1.head()"
   ]
  },
  {
   "cell_type": "markdown",
   "metadata": {},
   "source": [
    "#### Total transactions:"
   ]
  },
  {
   "cell_type": "code",
   "execution_count": 39,
   "metadata": {},
   "outputs": [],
   "source": [
    "df_temp = df_t_all.groupby('SUPPORTER_ID').count()"
   ]
  },
  {
   "cell_type": "code",
   "execution_count": 40,
   "metadata": {},
   "outputs": [],
   "source": [
    "df1 = df1.merge(df_temp[['ACTIVITY_ID']], left_on=df1.supp_id, right_on=df_temp.index)"
   ]
  },
  {
   "cell_type": "code",
   "execution_count": 41,
   "metadata": {},
   "outputs": [
    {
     "data": {
      "text/plain": [
       "(22433, 7)"
      ]
     },
     "execution_count": 41,
     "metadata": {},
     "output_type": "execute_result"
    }
   ],
   "source": [
    "df1.shape"
   ]
  },
  {
   "cell_type": "code",
   "execution_count": 42,
   "metadata": {},
   "outputs": [
    {
     "data": {
      "text/html": [
       "<div>\n",
       "<style scoped>\n",
       "    .dataframe tbody tr th:only-of-type {\n",
       "        vertical-align: middle;\n",
       "    }\n",
       "\n",
       "    .dataframe tbody tr th {\n",
       "        vertical-align: top;\n",
       "    }\n",
       "\n",
       "    .dataframe thead th {\n",
       "        text-align: right;\n",
       "    }\n",
       "</style>\n",
       "<table border=\"1\" class=\"dataframe\">\n",
       "  <thead>\n",
       "    <tr style=\"text-align: right;\">\n",
       "      <th></th>\n",
       "      <th>key_0</th>\n",
       "      <th>supp_id</th>\n",
       "      <th>currency</th>\n",
       "      <th>fur</th>\n",
       "      <th>total_fcs</th>\n",
       "      <th>max_fcs</th>\n",
       "      <th>ACTIVITY_ID</th>\n",
       "    </tr>\n",
       "  </thead>\n",
       "  <tbody>\n",
       "    <tr>\n",
       "      <th>0</th>\n",
       "      <td>kudFmD%2ByF7w=</td>\n",
       "      <td>kudFmD%2ByF7w=</td>\n",
       "      <td>CAD</td>\n",
       "      <td>0</td>\n",
       "      <td>2</td>\n",
       "      <td>26.16</td>\n",
       "      <td>29</td>\n",
       "    </tr>\n",
       "    <tr>\n",
       "      <th>1</th>\n",
       "      <td>MpbERpuNCk0=</td>\n",
       "      <td>MpbERpuNCk0=</td>\n",
       "      <td>CAD</td>\n",
       "      <td>0</td>\n",
       "      <td>3</td>\n",
       "      <td>35.00</td>\n",
       "      <td>29</td>\n",
       "    </tr>\n",
       "    <tr>\n",
       "      <th>2</th>\n",
       "      <td>GJbnFkIn6SY=</td>\n",
       "      <td>GJbnFkIn6SY=</td>\n",
       "      <td>CAD</td>\n",
       "      <td>0</td>\n",
       "      <td>2</td>\n",
       "      <td>14.96</td>\n",
       "      <td>6</td>\n",
       "    </tr>\n",
       "    <tr>\n",
       "      <th>3</th>\n",
       "      <td>4CmZuezC6hw=</td>\n",
       "      <td>4CmZuezC6hw=</td>\n",
       "      <td>CAD</td>\n",
       "      <td>0</td>\n",
       "      <td>2</td>\n",
       "      <td>40.73</td>\n",
       "      <td>18</td>\n",
       "    </tr>\n",
       "    <tr>\n",
       "      <th>4</th>\n",
       "      <td>ga9c44p8S04=</td>\n",
       "      <td>ga9c44p8S04=</td>\n",
       "      <td>CAD</td>\n",
       "      <td>0</td>\n",
       "      <td>2</td>\n",
       "      <td>37.36</td>\n",
       "      <td>23</td>\n",
       "    </tr>\n",
       "  </tbody>\n",
       "</table>\n",
       "</div>"
      ],
      "text/plain": [
       "            key_0         supp_id currency  fur  total_fcs  max_fcs  \\\n",
       "0  kudFmD%2ByF7w=  kudFmD%2ByF7w=      CAD    0          2    26.16   \n",
       "1    MpbERpuNCk0=    MpbERpuNCk0=      CAD    0          3    35.00   \n",
       "2    GJbnFkIn6SY=    GJbnFkIn6SY=      CAD    0          2    14.96   \n",
       "3    4CmZuezC6hw=    4CmZuezC6hw=      CAD    0          2    40.73   \n",
       "4    ga9c44p8S04=    ga9c44p8S04=      CAD    0          2    37.36   \n",
       "\n",
       "   ACTIVITY_ID  \n",
       "0           29  \n",
       "1           29  \n",
       "2            6  \n",
       "3           18  \n",
       "4           23  "
      ]
     },
     "execution_count": 42,
     "metadata": {},
     "output_type": "execute_result"
    }
   ],
   "source": [
    "df1.head()"
   ]
  },
  {
   "cell_type": "code",
   "execution_count": 43,
   "metadata": {},
   "outputs": [],
   "source": [
    "# drop unnecessary column\n",
    "df1.drop(columns=['key_0'], inplace=True)\n",
    "\n",
    "# renaming some columns\n",
    "df1 = df1.rename(columns={'ACTIVITY_ID': 'total_trans'})"
   ]
  },
  {
   "cell_type": "code",
   "execution_count": 44,
   "metadata": {},
   "outputs": [
    {
     "data": {
      "text/html": [
       "<div>\n",
       "<style scoped>\n",
       "    .dataframe tbody tr th:only-of-type {\n",
       "        vertical-align: middle;\n",
       "    }\n",
       "\n",
       "    .dataframe tbody tr th {\n",
       "        vertical-align: top;\n",
       "    }\n",
       "\n",
       "    .dataframe thead th {\n",
       "        text-align: right;\n",
       "    }\n",
       "</style>\n",
       "<table border=\"1\" class=\"dataframe\">\n",
       "  <thead>\n",
       "    <tr style=\"text-align: right;\">\n",
       "      <th></th>\n",
       "      <th>supp_id</th>\n",
       "      <th>currency</th>\n",
       "      <th>fur</th>\n",
       "      <th>total_fcs</th>\n",
       "      <th>max_fcs</th>\n",
       "      <th>total_trans</th>\n",
       "    </tr>\n",
       "  </thead>\n",
       "  <tbody>\n",
       "    <tr>\n",
       "      <th>0</th>\n",
       "      <td>kudFmD%2ByF7w=</td>\n",
       "      <td>CAD</td>\n",
       "      <td>0</td>\n",
       "      <td>2</td>\n",
       "      <td>26.16</td>\n",
       "      <td>29</td>\n",
       "    </tr>\n",
       "    <tr>\n",
       "      <th>1</th>\n",
       "      <td>MpbERpuNCk0=</td>\n",
       "      <td>CAD</td>\n",
       "      <td>0</td>\n",
       "      <td>3</td>\n",
       "      <td>35.00</td>\n",
       "      <td>29</td>\n",
       "    </tr>\n",
       "    <tr>\n",
       "      <th>2</th>\n",
       "      <td>GJbnFkIn6SY=</td>\n",
       "      <td>CAD</td>\n",
       "      <td>0</td>\n",
       "      <td>2</td>\n",
       "      <td>14.96</td>\n",
       "      <td>6</td>\n",
       "    </tr>\n",
       "    <tr>\n",
       "      <th>3</th>\n",
       "      <td>4CmZuezC6hw=</td>\n",
       "      <td>CAD</td>\n",
       "      <td>0</td>\n",
       "      <td>2</td>\n",
       "      <td>40.73</td>\n",
       "      <td>18</td>\n",
       "    </tr>\n",
       "    <tr>\n",
       "      <th>4</th>\n",
       "      <td>ga9c44p8S04=</td>\n",
       "      <td>CAD</td>\n",
       "      <td>0</td>\n",
       "      <td>2</td>\n",
       "      <td>37.36</td>\n",
       "      <td>23</td>\n",
       "    </tr>\n",
       "  </tbody>\n",
       "</table>\n",
       "</div>"
      ],
      "text/plain": [
       "          supp_id currency  fur  total_fcs  max_fcs  total_trans\n",
       "0  kudFmD%2ByF7w=      CAD    0          2    26.16           29\n",
       "1    MpbERpuNCk0=      CAD    0          3    35.00           29\n",
       "2    GJbnFkIn6SY=      CAD    0          2    14.96            6\n",
       "3    4CmZuezC6hw=      CAD    0          2    40.73           18\n",
       "4    ga9c44p8S04=      CAD    0          2    37.36           23"
      ]
     },
     "execution_count": 44,
     "metadata": {},
     "output_type": "execute_result"
    }
   ],
   "source": [
    "df1.head()"
   ]
  },
  {
   "cell_type": "markdown",
   "metadata": {},
   "source": [
    "#### Sum of total FCS donations by supporter:"
   ]
  },
  {
   "cell_type": "code",
   "execution_count": 45,
   "metadata": {},
   "outputs": [],
   "source": [
    "df_temp = pd.DataFrame()"
   ]
  },
  {
   "cell_type": "code",
   "execution_count": 46,
   "metadata": {},
   "outputs": [],
   "source": [
    "df_temp['sum_fcs'] = df_t_all_fcs.groupby('SUPPORTER_ID', sort=False)['ACTIVITY_DATA_26'].sum()"
   ]
  },
  {
   "cell_type": "code",
   "execution_count": 47,
   "metadata": {},
   "outputs": [],
   "source": [
    "df1 = df1.merge(df_temp, left_on=['supp_id'], right_on=df_temp.index)"
   ]
  },
  {
   "cell_type": "code",
   "execution_count": 48,
   "metadata": {},
   "outputs": [
    {
     "data": {
      "text/plain": [
       "(22433, 7)"
      ]
     },
     "execution_count": 48,
     "metadata": {},
     "output_type": "execute_result"
    }
   ],
   "source": [
    "df1.shape"
   ]
  },
  {
   "cell_type": "code",
   "execution_count": 49,
   "metadata": {},
   "outputs": [
    {
     "data": {
      "text/html": [
       "<div>\n",
       "<style scoped>\n",
       "    .dataframe tbody tr th:only-of-type {\n",
       "        vertical-align: middle;\n",
       "    }\n",
       "\n",
       "    .dataframe tbody tr th {\n",
       "        vertical-align: top;\n",
       "    }\n",
       "\n",
       "    .dataframe thead th {\n",
       "        text-align: right;\n",
       "    }\n",
       "</style>\n",
       "<table border=\"1\" class=\"dataframe\">\n",
       "  <thead>\n",
       "    <tr style=\"text-align: right;\">\n",
       "      <th></th>\n",
       "      <th>supp_id</th>\n",
       "      <th>currency</th>\n",
       "      <th>fur</th>\n",
       "      <th>total_fcs</th>\n",
       "      <th>max_fcs</th>\n",
       "      <th>total_trans</th>\n",
       "      <th>sum_fcs</th>\n",
       "    </tr>\n",
       "  </thead>\n",
       "  <tbody>\n",
       "    <tr>\n",
       "      <th>0</th>\n",
       "      <td>kudFmD%2ByF7w=</td>\n",
       "      <td>CAD</td>\n",
       "      <td>0</td>\n",
       "      <td>2</td>\n",
       "      <td>26.16</td>\n",
       "      <td>29</td>\n",
       "      <td>44.74</td>\n",
       "    </tr>\n",
       "    <tr>\n",
       "      <th>1</th>\n",
       "      <td>MpbERpuNCk0=</td>\n",
       "      <td>CAD</td>\n",
       "      <td>0</td>\n",
       "      <td>3</td>\n",
       "      <td>35.00</td>\n",
       "      <td>29</td>\n",
       "      <td>87.16</td>\n",
       "    </tr>\n",
       "    <tr>\n",
       "      <th>2</th>\n",
       "      <td>GJbnFkIn6SY=</td>\n",
       "      <td>CAD</td>\n",
       "      <td>0</td>\n",
       "      <td>2</td>\n",
       "      <td>14.96</td>\n",
       "      <td>6</td>\n",
       "      <td>29.76</td>\n",
       "    </tr>\n",
       "    <tr>\n",
       "      <th>3</th>\n",
       "      <td>4CmZuezC6hw=</td>\n",
       "      <td>CAD</td>\n",
       "      <td>0</td>\n",
       "      <td>2</td>\n",
       "      <td>40.73</td>\n",
       "      <td>18</td>\n",
       "      <td>59.11</td>\n",
       "    </tr>\n",
       "    <tr>\n",
       "      <th>4</th>\n",
       "      <td>ga9c44p8S04=</td>\n",
       "      <td>CAD</td>\n",
       "      <td>0</td>\n",
       "      <td>2</td>\n",
       "      <td>37.36</td>\n",
       "      <td>23</td>\n",
       "      <td>74.64</td>\n",
       "    </tr>\n",
       "  </tbody>\n",
       "</table>\n",
       "</div>"
      ],
      "text/plain": [
       "          supp_id currency  fur  total_fcs  max_fcs  total_trans  sum_fcs\n",
       "0  kudFmD%2ByF7w=      CAD    0          2    26.16           29    44.74\n",
       "1    MpbERpuNCk0=      CAD    0          3    35.00           29    87.16\n",
       "2    GJbnFkIn6SY=      CAD    0          2    14.96            6    29.76\n",
       "3    4CmZuezC6hw=      CAD    0          2    40.73           18    59.11\n",
       "4    ga9c44p8S04=      CAD    0          2    37.36           23    74.64"
      ]
     },
     "execution_count": 49,
     "metadata": {},
     "output_type": "execute_result"
    }
   ],
   "source": [
    "df1.head()"
   ]
  },
  {
   "cell_type": "markdown",
   "metadata": {},
   "source": [
    "#### Number of Ps:"
   ]
  },
  {
   "cell_type": "code",
   "execution_count": 50,
   "metadata": {},
   "outputs": [],
   "source": [
    "df_p = df_t_all.loc[df_t_all['ACTIVITY_STATUS'] == 'P']"
   ]
  },
  {
   "cell_type": "code",
   "execution_count": 51,
   "metadata": {},
   "outputs": [],
   "source": [
    "df_p = df_p.groupby('SUPPORTER_ID', sort=False).count()"
   ]
  },
  {
   "cell_type": "code",
   "execution_count": 52,
   "metadata": {},
   "outputs": [
    {
     "data": {
      "text/html": [
       "<div>\n",
       "<style scoped>\n",
       "    .dataframe tbody tr th:only-of-type {\n",
       "        vertical-align: middle;\n",
       "    }\n",
       "\n",
       "    .dataframe tbody tr th {\n",
       "        vertical-align: top;\n",
       "    }\n",
       "\n",
       "    .dataframe thead th {\n",
       "        text-align: right;\n",
       "    }\n",
       "</style>\n",
       "<table border=\"1\" class=\"dataframe\">\n",
       "  <thead>\n",
       "    <tr style=\"text-align: right;\">\n",
       "      <th></th>\n",
       "      <th>COUNTRY</th>\n",
       "      <th>ACTIVITY_TYPE</th>\n",
       "      <th>ACTIVITY_DATETIME</th>\n",
       "      <th>ACTIVITY_ID</th>\n",
       "      <th>ACTIVITY_STATUS</th>\n",
       "      <th>ACTIVITY_DATA_1</th>\n",
       "      <th>ACTIVITY_DATA_2</th>\n",
       "      <th>ACTIVITY_DATA_3</th>\n",
       "      <th>ACTIVITY_DATA_4</th>\n",
       "      <th>ACTIVITY_DATA_5</th>\n",
       "      <th>ACTIVITY_DATA_6</th>\n",
       "      <th>ACTIVITY_DATA_7</th>\n",
       "      <th>ACTIVITY_DATA_8</th>\n",
       "      <th>ACTIVITY_DATA_9</th>\n",
       "      <th>ACTIVITY_DATA_10</th>\n",
       "      <th>ACTIVITY_DATA_26</th>\n",
       "      <th>ACTIVITY_DATA_27</th>\n",
       "      <th>ACTIVITY_DATA_28</th>\n",
       "      <th>ACTIVITY_DATA_29</th>\n",
       "      <th>ACTIVITY_DATA_30</th>\n",
       "    </tr>\n",
       "    <tr>\n",
       "      <th>SUPPORTER_ID</th>\n",
       "      <th></th>\n",
       "      <th></th>\n",
       "      <th></th>\n",
       "      <th></th>\n",
       "      <th></th>\n",
       "      <th></th>\n",
       "      <th></th>\n",
       "      <th></th>\n",
       "      <th></th>\n",
       "      <th></th>\n",
       "      <th></th>\n",
       "      <th></th>\n",
       "      <th></th>\n",
       "      <th></th>\n",
       "      <th></th>\n",
       "      <th></th>\n",
       "      <th></th>\n",
       "      <th></th>\n",
       "      <th></th>\n",
       "      <th></th>\n",
       "    </tr>\n",
       "  </thead>\n",
       "  <tbody>\n",
       "    <tr>\n",
       "      <th>BDoflNnPHog=</th>\n",
       "      <td>1</td>\n",
       "      <td>1</td>\n",
       "      <td>1</td>\n",
       "      <td>1</td>\n",
       "      <td>1</td>\n",
       "      <td>1</td>\n",
       "      <td>1</td>\n",
       "      <td>0</td>\n",
       "      <td>0</td>\n",
       "      <td>0</td>\n",
       "      <td>0</td>\n",
       "      <td>0</td>\n",
       "      <td>0</td>\n",
       "      <td>0</td>\n",
       "      <td>0</td>\n",
       "      <td>0</td>\n",
       "      <td>0</td>\n",
       "      <td>0</td>\n",
       "      <td>0</td>\n",
       "      <td>0</td>\n",
       "    </tr>\n",
       "    <tr>\n",
       "      <th>kudFmD%2ByF7w=</th>\n",
       "      <td>2</td>\n",
       "      <td>2</td>\n",
       "      <td>2</td>\n",
       "      <td>2</td>\n",
       "      <td>2</td>\n",
       "      <td>2</td>\n",
       "      <td>2</td>\n",
       "      <td>0</td>\n",
       "      <td>0</td>\n",
       "      <td>0</td>\n",
       "      <td>0</td>\n",
       "      <td>0</td>\n",
       "      <td>0</td>\n",
       "      <td>0</td>\n",
       "      <td>0</td>\n",
       "      <td>0</td>\n",
       "      <td>0</td>\n",
       "      <td>0</td>\n",
       "      <td>0</td>\n",
       "      <td>0</td>\n",
       "    </tr>\n",
       "    <tr>\n",
       "      <th>r58OmfDBRm8=</th>\n",
       "      <td>1</td>\n",
       "      <td>1</td>\n",
       "      <td>1</td>\n",
       "      <td>1</td>\n",
       "      <td>1</td>\n",
       "      <td>0</td>\n",
       "      <td>0</td>\n",
       "      <td>0</td>\n",
       "      <td>0</td>\n",
       "      <td>0</td>\n",
       "      <td>0</td>\n",
       "      <td>0</td>\n",
       "      <td>0</td>\n",
       "      <td>0</td>\n",
       "      <td>0</td>\n",
       "      <td>0</td>\n",
       "      <td>0</td>\n",
       "      <td>0</td>\n",
       "      <td>0</td>\n",
       "      <td>0</td>\n",
       "    </tr>\n",
       "    <tr>\n",
       "      <th>ALJUUgR5fOs=</th>\n",
       "      <td>1</td>\n",
       "      <td>1</td>\n",
       "      <td>1</td>\n",
       "      <td>1</td>\n",
       "      <td>1</td>\n",
       "      <td>1</td>\n",
       "      <td>1</td>\n",
       "      <td>0</td>\n",
       "      <td>0</td>\n",
       "      <td>0</td>\n",
       "      <td>0</td>\n",
       "      <td>0</td>\n",
       "      <td>0</td>\n",
       "      <td>0</td>\n",
       "      <td>0</td>\n",
       "      <td>0</td>\n",
       "      <td>0</td>\n",
       "      <td>0</td>\n",
       "      <td>0</td>\n",
       "      <td>0</td>\n",
       "    </tr>\n",
       "    <tr>\n",
       "      <th>nEgT0q6l4MY=</th>\n",
       "      <td>4</td>\n",
       "      <td>4</td>\n",
       "      <td>4</td>\n",
       "      <td>4</td>\n",
       "      <td>4</td>\n",
       "      <td>4</td>\n",
       "      <td>4</td>\n",
       "      <td>0</td>\n",
       "      <td>0</td>\n",
       "      <td>0</td>\n",
       "      <td>0</td>\n",
       "      <td>0</td>\n",
       "      <td>0</td>\n",
       "      <td>0</td>\n",
       "      <td>0</td>\n",
       "      <td>0</td>\n",
       "      <td>0</td>\n",
       "      <td>0</td>\n",
       "      <td>0</td>\n",
       "      <td>0</td>\n",
       "    </tr>\n",
       "  </tbody>\n",
       "</table>\n",
       "</div>"
      ],
      "text/plain": [
       "                COUNTRY  ACTIVITY_TYPE  ACTIVITY_DATETIME  ACTIVITY_ID  \\\n",
       "SUPPORTER_ID                                                             \n",
       "BDoflNnPHog=          1              1                  1            1   \n",
       "kudFmD%2ByF7w=        2              2                  2            2   \n",
       "r58OmfDBRm8=          1              1                  1            1   \n",
       "ALJUUgR5fOs=          1              1                  1            1   \n",
       "nEgT0q6l4MY=          4              4                  4            4   \n",
       "\n",
       "                ACTIVITY_STATUS  ACTIVITY_DATA_1  ACTIVITY_DATA_2  \\\n",
       "SUPPORTER_ID                                                        \n",
       "BDoflNnPHog=                  1                1                1   \n",
       "kudFmD%2ByF7w=                2                2                2   \n",
       "r58OmfDBRm8=                  1                0                0   \n",
       "ALJUUgR5fOs=                  1                1                1   \n",
       "nEgT0q6l4MY=                  4                4                4   \n",
       "\n",
       "                ACTIVITY_DATA_3  ACTIVITY_DATA_4  ACTIVITY_DATA_5  \\\n",
       "SUPPORTER_ID                                                        \n",
       "BDoflNnPHog=                  0                0                0   \n",
       "kudFmD%2ByF7w=                0                0                0   \n",
       "r58OmfDBRm8=                  0                0                0   \n",
       "ALJUUgR5fOs=                  0                0                0   \n",
       "nEgT0q6l4MY=                  0                0                0   \n",
       "\n",
       "                ACTIVITY_DATA_6  ACTIVITY_DATA_7  ACTIVITY_DATA_8  \\\n",
       "SUPPORTER_ID                                                        \n",
       "BDoflNnPHog=                  0                0                0   \n",
       "kudFmD%2ByF7w=                0                0                0   \n",
       "r58OmfDBRm8=                  0                0                0   \n",
       "ALJUUgR5fOs=                  0                0                0   \n",
       "nEgT0q6l4MY=                  0                0                0   \n",
       "\n",
       "                ACTIVITY_DATA_9  ACTIVITY_DATA_10  ACTIVITY_DATA_26  \\\n",
       "SUPPORTER_ID                                                          \n",
       "BDoflNnPHog=                  0                 0                 0   \n",
       "kudFmD%2ByF7w=                0                 0                 0   \n",
       "r58OmfDBRm8=                  0                 0                 0   \n",
       "ALJUUgR5fOs=                  0                 0                 0   \n",
       "nEgT0q6l4MY=                  0                 0                 0   \n",
       "\n",
       "                ACTIVITY_DATA_27  ACTIVITY_DATA_28  ACTIVITY_DATA_29  \\\n",
       "SUPPORTER_ID                                                           \n",
       "BDoflNnPHog=                   0                 0                 0   \n",
       "kudFmD%2ByF7w=                 0                 0                 0   \n",
       "r58OmfDBRm8=                   0                 0                 0   \n",
       "ALJUUgR5fOs=                   0                 0                 0   \n",
       "nEgT0q6l4MY=                   0                 0                 0   \n",
       "\n",
       "                ACTIVITY_DATA_30  \n",
       "SUPPORTER_ID                      \n",
       "BDoflNnPHog=                   0  \n",
       "kudFmD%2ByF7w=                 0  \n",
       "r58OmfDBRm8=                   0  \n",
       "ALJUUgR5fOs=                   0  \n",
       "nEgT0q6l4MY=                   0  "
      ]
     },
     "execution_count": 52,
     "metadata": {},
     "output_type": "execute_result"
    }
   ],
   "source": [
    "df_p.head()"
   ]
  },
  {
   "cell_type": "code",
   "execution_count": 53,
   "metadata": {},
   "outputs": [
    {
     "data": {
      "text/plain": [
       "(22433, 7)"
      ]
     },
     "execution_count": 53,
     "metadata": {},
     "output_type": "execute_result"
    }
   ],
   "source": [
    "df1.shape"
   ]
  },
  {
   "cell_type": "code",
   "execution_count": 54,
   "metadata": {},
   "outputs": [],
   "source": [
    "df1 = df1.merge(df_p['ACTIVITY_ID'], how='left', left_on='supp_id', right_index=True)"
   ]
  },
  {
   "cell_type": "code",
   "execution_count": 55,
   "metadata": {},
   "outputs": [
    {
     "data": {
      "text/plain": [
       "(22433, 8)"
      ]
     },
     "execution_count": 55,
     "metadata": {},
     "output_type": "execute_result"
    }
   ],
   "source": [
    "df1.shape"
   ]
  },
  {
   "cell_type": "code",
   "execution_count": 56,
   "metadata": {},
   "outputs": [
    {
     "data": {
      "text/html": [
       "<div>\n",
       "<style scoped>\n",
       "    .dataframe tbody tr th:only-of-type {\n",
       "        vertical-align: middle;\n",
       "    }\n",
       "\n",
       "    .dataframe tbody tr th {\n",
       "        vertical-align: top;\n",
       "    }\n",
       "\n",
       "    .dataframe thead th {\n",
       "        text-align: right;\n",
       "    }\n",
       "</style>\n",
       "<table border=\"1\" class=\"dataframe\">\n",
       "  <thead>\n",
       "    <tr style=\"text-align: right;\">\n",
       "      <th></th>\n",
       "      <th>supp_id</th>\n",
       "      <th>currency</th>\n",
       "      <th>fur</th>\n",
       "      <th>total_fcs</th>\n",
       "      <th>max_fcs</th>\n",
       "      <th>total_trans</th>\n",
       "      <th>sum_fcs</th>\n",
       "      <th>ACTIVITY_ID</th>\n",
       "    </tr>\n",
       "  </thead>\n",
       "  <tbody>\n",
       "    <tr>\n",
       "      <th>0</th>\n",
       "      <td>kudFmD%2ByF7w=</td>\n",
       "      <td>CAD</td>\n",
       "      <td>0</td>\n",
       "      <td>2</td>\n",
       "      <td>26.16</td>\n",
       "      <td>29</td>\n",
       "      <td>44.74</td>\n",
       "      <td>2.0</td>\n",
       "    </tr>\n",
       "    <tr>\n",
       "      <th>1</th>\n",
       "      <td>MpbERpuNCk0=</td>\n",
       "      <td>CAD</td>\n",
       "      <td>0</td>\n",
       "      <td>3</td>\n",
       "      <td>35.00</td>\n",
       "      <td>29</td>\n",
       "      <td>87.16</td>\n",
       "      <td>5.0</td>\n",
       "    </tr>\n",
       "    <tr>\n",
       "      <th>2</th>\n",
       "      <td>GJbnFkIn6SY=</td>\n",
       "      <td>CAD</td>\n",
       "      <td>0</td>\n",
       "      <td>2</td>\n",
       "      <td>14.96</td>\n",
       "      <td>6</td>\n",
       "      <td>29.76</td>\n",
       "      <td>1.0</td>\n",
       "    </tr>\n",
       "    <tr>\n",
       "      <th>3</th>\n",
       "      <td>4CmZuezC6hw=</td>\n",
       "      <td>CAD</td>\n",
       "      <td>0</td>\n",
       "      <td>2</td>\n",
       "      <td>40.73</td>\n",
       "      <td>18</td>\n",
       "      <td>59.11</td>\n",
       "      <td>1.0</td>\n",
       "    </tr>\n",
       "    <tr>\n",
       "      <th>4</th>\n",
       "      <td>ga9c44p8S04=</td>\n",
       "      <td>CAD</td>\n",
       "      <td>0</td>\n",
       "      <td>2</td>\n",
       "      <td>37.36</td>\n",
       "      <td>23</td>\n",
       "      <td>74.64</td>\n",
       "      <td>3.0</td>\n",
       "    </tr>\n",
       "  </tbody>\n",
       "</table>\n",
       "</div>"
      ],
      "text/plain": [
       "          supp_id currency  fur  total_fcs  max_fcs  total_trans  sum_fcs  \\\n",
       "0  kudFmD%2ByF7w=      CAD    0          2    26.16           29    44.74   \n",
       "1    MpbERpuNCk0=      CAD    0          3    35.00           29    87.16   \n",
       "2    GJbnFkIn6SY=      CAD    0          2    14.96            6    29.76   \n",
       "3    4CmZuezC6hw=      CAD    0          2    40.73           18    59.11   \n",
       "4    ga9c44p8S04=      CAD    0          2    37.36           23    74.64   \n",
       "\n",
       "   ACTIVITY_ID  \n",
       "0          2.0  \n",
       "1          5.0  \n",
       "2          1.0  \n",
       "3          1.0  \n",
       "4          3.0  "
      ]
     },
     "execution_count": 56,
     "metadata": {},
     "output_type": "execute_result"
    }
   ],
   "source": [
    "df1.head()"
   ]
  },
  {
   "cell_type": "code",
   "execution_count": 57,
   "metadata": {},
   "outputs": [],
   "source": [
    "# renaming some columns\n",
    "df1 = df1.rename(columns={'ACTIVITY_ID': 'num_P'})"
   ]
  },
  {
   "cell_type": "code",
   "execution_count": 58,
   "metadata": {},
   "outputs": [
    {
     "data": {
      "text/html": [
       "<div>\n",
       "<style scoped>\n",
       "    .dataframe tbody tr th:only-of-type {\n",
       "        vertical-align: middle;\n",
       "    }\n",
       "\n",
       "    .dataframe tbody tr th {\n",
       "        vertical-align: top;\n",
       "    }\n",
       "\n",
       "    .dataframe thead th {\n",
       "        text-align: right;\n",
       "    }\n",
       "</style>\n",
       "<table border=\"1\" class=\"dataframe\">\n",
       "  <thead>\n",
       "    <tr style=\"text-align: right;\">\n",
       "      <th></th>\n",
       "      <th>supp_id</th>\n",
       "      <th>currency</th>\n",
       "      <th>fur</th>\n",
       "      <th>total_fcs</th>\n",
       "      <th>max_fcs</th>\n",
       "      <th>total_trans</th>\n",
       "      <th>sum_fcs</th>\n",
       "      <th>num_P</th>\n",
       "    </tr>\n",
       "  </thead>\n",
       "  <tbody>\n",
       "    <tr>\n",
       "      <th>0</th>\n",
       "      <td>kudFmD%2ByF7w=</td>\n",
       "      <td>CAD</td>\n",
       "      <td>0</td>\n",
       "      <td>2</td>\n",
       "      <td>26.16</td>\n",
       "      <td>29</td>\n",
       "      <td>44.74</td>\n",
       "      <td>2.0</td>\n",
       "    </tr>\n",
       "    <tr>\n",
       "      <th>1</th>\n",
       "      <td>MpbERpuNCk0=</td>\n",
       "      <td>CAD</td>\n",
       "      <td>0</td>\n",
       "      <td>3</td>\n",
       "      <td>35.00</td>\n",
       "      <td>29</td>\n",
       "      <td>87.16</td>\n",
       "      <td>5.0</td>\n",
       "    </tr>\n",
       "    <tr>\n",
       "      <th>2</th>\n",
       "      <td>GJbnFkIn6SY=</td>\n",
       "      <td>CAD</td>\n",
       "      <td>0</td>\n",
       "      <td>2</td>\n",
       "      <td>14.96</td>\n",
       "      <td>6</td>\n",
       "      <td>29.76</td>\n",
       "      <td>1.0</td>\n",
       "    </tr>\n",
       "    <tr>\n",
       "      <th>3</th>\n",
       "      <td>4CmZuezC6hw=</td>\n",
       "      <td>CAD</td>\n",
       "      <td>0</td>\n",
       "      <td>2</td>\n",
       "      <td>40.73</td>\n",
       "      <td>18</td>\n",
       "      <td>59.11</td>\n",
       "      <td>1.0</td>\n",
       "    </tr>\n",
       "    <tr>\n",
       "      <th>4</th>\n",
       "      <td>ga9c44p8S04=</td>\n",
       "      <td>CAD</td>\n",
       "      <td>0</td>\n",
       "      <td>2</td>\n",
       "      <td>37.36</td>\n",
       "      <td>23</td>\n",
       "      <td>74.64</td>\n",
       "      <td>3.0</td>\n",
       "    </tr>\n",
       "  </tbody>\n",
       "</table>\n",
       "</div>"
      ],
      "text/plain": [
       "          supp_id currency  fur  total_fcs  max_fcs  total_trans  sum_fcs  \\\n",
       "0  kudFmD%2ByF7w=      CAD    0          2    26.16           29    44.74   \n",
       "1    MpbERpuNCk0=      CAD    0          3    35.00           29    87.16   \n",
       "2    GJbnFkIn6SY=      CAD    0          2    14.96            6    29.76   \n",
       "3    4CmZuezC6hw=      CAD    0          2    40.73           18    59.11   \n",
       "4    ga9c44p8S04=      CAD    0          2    37.36           23    74.64   \n",
       "\n",
       "   num_P  \n",
       "0    2.0  \n",
       "1    5.0  \n",
       "2    1.0  \n",
       "3    1.0  \n",
       "4    3.0  "
      ]
     },
     "execution_count": 58,
     "metadata": {},
     "output_type": "execute_result"
    }
   ],
   "source": [
    "df1.head()"
   ]
  },
  {
   "cell_type": "markdown",
   "metadata": {},
   "source": [
    "#### Number of 'formsub' transactions:"
   ]
  },
  {
   "cell_type": "code",
   "execution_count": 59,
   "metadata": {},
   "outputs": [],
   "source": [
    "# create new df for only 'formsub' actions\n",
    "df_fs = df_t_all.loc[df_t_all['ACTIVITY_DATA_3'] == 'formsub']"
   ]
  },
  {
   "cell_type": "code",
   "execution_count": 60,
   "metadata": {},
   "outputs": [],
   "source": [
    "df_fs = df_fs.groupby('SUPPORTER_ID', sort=False).count()"
   ]
  },
  {
   "cell_type": "code",
   "execution_count": 61,
   "metadata": {},
   "outputs": [],
   "source": [
    "df1 = df1.merge(df_fs['ACTIVITY_ID'], how='left', left_on='supp_id', right_index=True)"
   ]
  },
  {
   "cell_type": "code",
   "execution_count": 62,
   "metadata": {},
   "outputs": [
    {
     "data": {
      "text/plain": [
       "(22433, 9)"
      ]
     },
     "execution_count": 62,
     "metadata": {},
     "output_type": "execute_result"
    }
   ],
   "source": [
    "df1.shape"
   ]
  },
  {
   "cell_type": "code",
   "execution_count": 63,
   "metadata": {},
   "outputs": [
    {
     "data": {
      "text/html": [
       "<div>\n",
       "<style scoped>\n",
       "    .dataframe tbody tr th:only-of-type {\n",
       "        vertical-align: middle;\n",
       "    }\n",
       "\n",
       "    .dataframe tbody tr th {\n",
       "        vertical-align: top;\n",
       "    }\n",
       "\n",
       "    .dataframe thead th {\n",
       "        text-align: right;\n",
       "    }\n",
       "</style>\n",
       "<table border=\"1\" class=\"dataframe\">\n",
       "  <thead>\n",
       "    <tr style=\"text-align: right;\">\n",
       "      <th></th>\n",
       "      <th>supp_id</th>\n",
       "      <th>currency</th>\n",
       "      <th>fur</th>\n",
       "      <th>total_fcs</th>\n",
       "      <th>max_fcs</th>\n",
       "      <th>total_trans</th>\n",
       "      <th>sum_fcs</th>\n",
       "      <th>num_P</th>\n",
       "      <th>ACTIVITY_ID</th>\n",
       "    </tr>\n",
       "  </thead>\n",
       "  <tbody>\n",
       "    <tr>\n",
       "      <th>0</th>\n",
       "      <td>kudFmD%2ByF7w=</td>\n",
       "      <td>CAD</td>\n",
       "      <td>0</td>\n",
       "      <td>2</td>\n",
       "      <td>26.16</td>\n",
       "      <td>29</td>\n",
       "      <td>44.74</td>\n",
       "      <td>2.0</td>\n",
       "      <td>2.0</td>\n",
       "    </tr>\n",
       "    <tr>\n",
       "      <th>1</th>\n",
       "      <td>MpbERpuNCk0=</td>\n",
       "      <td>CAD</td>\n",
       "      <td>0</td>\n",
       "      <td>3</td>\n",
       "      <td>35.00</td>\n",
       "      <td>29</td>\n",
       "      <td>87.16</td>\n",
       "      <td>5.0</td>\n",
       "      <td>5.0</td>\n",
       "    </tr>\n",
       "    <tr>\n",
       "      <th>2</th>\n",
       "      <td>GJbnFkIn6SY=</td>\n",
       "      <td>CAD</td>\n",
       "      <td>0</td>\n",
       "      <td>2</td>\n",
       "      <td>14.96</td>\n",
       "      <td>6</td>\n",
       "      <td>29.76</td>\n",
       "      <td>1.0</td>\n",
       "      <td>1.0</td>\n",
       "    </tr>\n",
       "    <tr>\n",
       "      <th>3</th>\n",
       "      <td>4CmZuezC6hw=</td>\n",
       "      <td>CAD</td>\n",
       "      <td>0</td>\n",
       "      <td>2</td>\n",
       "      <td>40.73</td>\n",
       "      <td>18</td>\n",
       "      <td>59.11</td>\n",
       "      <td>1.0</td>\n",
       "      <td>3.0</td>\n",
       "    </tr>\n",
       "    <tr>\n",
       "      <th>4</th>\n",
       "      <td>ga9c44p8S04=</td>\n",
       "      <td>CAD</td>\n",
       "      <td>0</td>\n",
       "      <td>2</td>\n",
       "      <td>37.36</td>\n",
       "      <td>23</td>\n",
       "      <td>74.64</td>\n",
       "      <td>3.0</td>\n",
       "      <td>5.0</td>\n",
       "    </tr>\n",
       "  </tbody>\n",
       "</table>\n",
       "</div>"
      ],
      "text/plain": [
       "          supp_id currency  fur  total_fcs  max_fcs  total_trans  sum_fcs  \\\n",
       "0  kudFmD%2ByF7w=      CAD    0          2    26.16           29    44.74   \n",
       "1    MpbERpuNCk0=      CAD    0          3    35.00           29    87.16   \n",
       "2    GJbnFkIn6SY=      CAD    0          2    14.96            6    29.76   \n",
       "3    4CmZuezC6hw=      CAD    0          2    40.73           18    59.11   \n",
       "4    ga9c44p8S04=      CAD    0          2    37.36           23    74.64   \n",
       "\n",
       "   num_P  ACTIVITY_ID  \n",
       "0    2.0          2.0  \n",
       "1    5.0          5.0  \n",
       "2    1.0          1.0  \n",
       "3    1.0          3.0  \n",
       "4    3.0          5.0  "
      ]
     },
     "execution_count": 63,
     "metadata": {},
     "output_type": "execute_result"
    }
   ],
   "source": [
    "df1.head()"
   ]
  },
  {
   "cell_type": "code",
   "execution_count": 64,
   "metadata": {},
   "outputs": [],
   "source": [
    "# renaming some columns\n",
    "df1 = df1.rename(columns={'ACTIVITY_ID': 'num_fs'})"
   ]
  },
  {
   "cell_type": "code",
   "execution_count": 65,
   "metadata": {},
   "outputs": [
    {
     "data": {
      "text/html": [
       "<div>\n",
       "<style scoped>\n",
       "    .dataframe tbody tr th:only-of-type {\n",
       "        vertical-align: middle;\n",
       "    }\n",
       "\n",
       "    .dataframe tbody tr th {\n",
       "        vertical-align: top;\n",
       "    }\n",
       "\n",
       "    .dataframe thead th {\n",
       "        text-align: right;\n",
       "    }\n",
       "</style>\n",
       "<table border=\"1\" class=\"dataframe\">\n",
       "  <thead>\n",
       "    <tr style=\"text-align: right;\">\n",
       "      <th></th>\n",
       "      <th>supp_id</th>\n",
       "      <th>currency</th>\n",
       "      <th>fur</th>\n",
       "      <th>total_fcs</th>\n",
       "      <th>max_fcs</th>\n",
       "      <th>total_trans</th>\n",
       "      <th>sum_fcs</th>\n",
       "      <th>num_P</th>\n",
       "      <th>num_fs</th>\n",
       "    </tr>\n",
       "  </thead>\n",
       "  <tbody>\n",
       "    <tr>\n",
       "      <th>0</th>\n",
       "      <td>kudFmD%2ByF7w=</td>\n",
       "      <td>CAD</td>\n",
       "      <td>0</td>\n",
       "      <td>2</td>\n",
       "      <td>26.16</td>\n",
       "      <td>29</td>\n",
       "      <td>44.74</td>\n",
       "      <td>2.0</td>\n",
       "      <td>2.0</td>\n",
       "    </tr>\n",
       "    <tr>\n",
       "      <th>1</th>\n",
       "      <td>MpbERpuNCk0=</td>\n",
       "      <td>CAD</td>\n",
       "      <td>0</td>\n",
       "      <td>3</td>\n",
       "      <td>35.00</td>\n",
       "      <td>29</td>\n",
       "      <td>87.16</td>\n",
       "      <td>5.0</td>\n",
       "      <td>5.0</td>\n",
       "    </tr>\n",
       "    <tr>\n",
       "      <th>2</th>\n",
       "      <td>GJbnFkIn6SY=</td>\n",
       "      <td>CAD</td>\n",
       "      <td>0</td>\n",
       "      <td>2</td>\n",
       "      <td>14.96</td>\n",
       "      <td>6</td>\n",
       "      <td>29.76</td>\n",
       "      <td>1.0</td>\n",
       "      <td>1.0</td>\n",
       "    </tr>\n",
       "    <tr>\n",
       "      <th>3</th>\n",
       "      <td>4CmZuezC6hw=</td>\n",
       "      <td>CAD</td>\n",
       "      <td>0</td>\n",
       "      <td>2</td>\n",
       "      <td>40.73</td>\n",
       "      <td>18</td>\n",
       "      <td>59.11</td>\n",
       "      <td>1.0</td>\n",
       "      <td>3.0</td>\n",
       "    </tr>\n",
       "    <tr>\n",
       "      <th>4</th>\n",
       "      <td>ga9c44p8S04=</td>\n",
       "      <td>CAD</td>\n",
       "      <td>0</td>\n",
       "      <td>2</td>\n",
       "      <td>37.36</td>\n",
       "      <td>23</td>\n",
       "      <td>74.64</td>\n",
       "      <td>3.0</td>\n",
       "      <td>5.0</td>\n",
       "    </tr>\n",
       "  </tbody>\n",
       "</table>\n",
       "</div>"
      ],
      "text/plain": [
       "          supp_id currency  fur  total_fcs  max_fcs  total_trans  sum_fcs  \\\n",
       "0  kudFmD%2ByF7w=      CAD    0          2    26.16           29    44.74   \n",
       "1    MpbERpuNCk0=      CAD    0          3    35.00           29    87.16   \n",
       "2    GJbnFkIn6SY=      CAD    0          2    14.96            6    29.76   \n",
       "3    4CmZuezC6hw=      CAD    0          2    40.73           18    59.11   \n",
       "4    ga9c44p8S04=      CAD    0          2    37.36           23    74.64   \n",
       "\n",
       "   num_P  num_fs  \n",
       "0    2.0     2.0  \n",
       "1    5.0     5.0  \n",
       "2    1.0     1.0  \n",
       "3    1.0     3.0  \n",
       "4    3.0     5.0  "
      ]
     },
     "execution_count": 65,
     "metadata": {},
     "output_type": "execute_result"
    }
   ],
   "source": [
    "df1.head()"
   ]
  },
  {
   "cell_type": "markdown",
   "metadata": {},
   "source": [
    "#### Number of clicks:"
   ]
  },
  {
   "cell_type": "code",
   "execution_count": 66,
   "metadata": {},
   "outputs": [],
   "source": [
    "# create new df with just transactions with a click\n",
    "df_c = df_t_all.loc[df_t_all['ACTIVITY_DATA_2'] == 'click']"
   ]
  },
  {
   "cell_type": "code",
   "execution_count": 67,
   "metadata": {},
   "outputs": [],
   "source": [
    "df_c = df_c.groupby('SUPPORTER_ID', sort=False).count()"
   ]
  },
  {
   "cell_type": "code",
   "execution_count": 68,
   "metadata": {},
   "outputs": [],
   "source": [
    "df1 = df1.merge(df_c['ACTIVITY_ID'], how='left', left_on='supp_id', right_index=True)"
   ]
  },
  {
   "cell_type": "code",
   "execution_count": 69,
   "metadata": {},
   "outputs": [
    {
     "data": {
      "text/plain": [
       "(22433, 10)"
      ]
     },
     "execution_count": 69,
     "metadata": {},
     "output_type": "execute_result"
    }
   ],
   "source": [
    "df1.shape"
   ]
  },
  {
   "cell_type": "code",
   "execution_count": 70,
   "metadata": {},
   "outputs": [
    {
     "data": {
      "text/html": [
       "<div>\n",
       "<style scoped>\n",
       "    .dataframe tbody tr th:only-of-type {\n",
       "        vertical-align: middle;\n",
       "    }\n",
       "\n",
       "    .dataframe tbody tr th {\n",
       "        vertical-align: top;\n",
       "    }\n",
       "\n",
       "    .dataframe thead th {\n",
       "        text-align: right;\n",
       "    }\n",
       "</style>\n",
       "<table border=\"1\" class=\"dataframe\">\n",
       "  <thead>\n",
       "    <tr style=\"text-align: right;\">\n",
       "      <th></th>\n",
       "      <th>supp_id</th>\n",
       "      <th>currency</th>\n",
       "      <th>fur</th>\n",
       "      <th>total_fcs</th>\n",
       "      <th>max_fcs</th>\n",
       "      <th>total_trans</th>\n",
       "      <th>sum_fcs</th>\n",
       "      <th>num_P</th>\n",
       "      <th>num_fs</th>\n",
       "      <th>ACTIVITY_ID</th>\n",
       "    </tr>\n",
       "  </thead>\n",
       "  <tbody>\n",
       "    <tr>\n",
       "      <th>0</th>\n",
       "      <td>kudFmD%2ByF7w=</td>\n",
       "      <td>CAD</td>\n",
       "      <td>0</td>\n",
       "      <td>2</td>\n",
       "      <td>26.16</td>\n",
       "      <td>29</td>\n",
       "      <td>44.74</td>\n",
       "      <td>2.0</td>\n",
       "      <td>2.0</td>\n",
       "      <td>3.0</td>\n",
       "    </tr>\n",
       "    <tr>\n",
       "      <th>1</th>\n",
       "      <td>MpbERpuNCk0=</td>\n",
       "      <td>CAD</td>\n",
       "      <td>0</td>\n",
       "      <td>3</td>\n",
       "      <td>35.00</td>\n",
       "      <td>29</td>\n",
       "      <td>87.16</td>\n",
       "      <td>5.0</td>\n",
       "      <td>5.0</td>\n",
       "      <td>9.0</td>\n",
       "    </tr>\n",
       "    <tr>\n",
       "      <th>2</th>\n",
       "      <td>GJbnFkIn6SY=</td>\n",
       "      <td>CAD</td>\n",
       "      <td>0</td>\n",
       "      <td>2</td>\n",
       "      <td>14.96</td>\n",
       "      <td>6</td>\n",
       "      <td>29.76</td>\n",
       "      <td>1.0</td>\n",
       "      <td>1.0</td>\n",
       "      <td>1.0</td>\n",
       "    </tr>\n",
       "    <tr>\n",
       "      <th>3</th>\n",
       "      <td>4CmZuezC6hw=</td>\n",
       "      <td>CAD</td>\n",
       "      <td>0</td>\n",
       "      <td>2</td>\n",
       "      <td>40.73</td>\n",
       "      <td>18</td>\n",
       "      <td>59.11</td>\n",
       "      <td>1.0</td>\n",
       "      <td>3.0</td>\n",
       "      <td>3.0</td>\n",
       "    </tr>\n",
       "    <tr>\n",
       "      <th>4</th>\n",
       "      <td>ga9c44p8S04=</td>\n",
       "      <td>CAD</td>\n",
       "      <td>0</td>\n",
       "      <td>2</td>\n",
       "      <td>37.36</td>\n",
       "      <td>23</td>\n",
       "      <td>74.64</td>\n",
       "      <td>3.0</td>\n",
       "      <td>5.0</td>\n",
       "      <td>5.0</td>\n",
       "    </tr>\n",
       "  </tbody>\n",
       "</table>\n",
       "</div>"
      ],
      "text/plain": [
       "          supp_id currency  fur  total_fcs  max_fcs  total_trans  sum_fcs  \\\n",
       "0  kudFmD%2ByF7w=      CAD    0          2    26.16           29    44.74   \n",
       "1    MpbERpuNCk0=      CAD    0          3    35.00           29    87.16   \n",
       "2    GJbnFkIn6SY=      CAD    0          2    14.96            6    29.76   \n",
       "3    4CmZuezC6hw=      CAD    0          2    40.73           18    59.11   \n",
       "4    ga9c44p8S04=      CAD    0          2    37.36           23    74.64   \n",
       "\n",
       "   num_P  num_fs  ACTIVITY_ID  \n",
       "0    2.0     2.0          3.0  \n",
       "1    5.0     5.0          9.0  \n",
       "2    1.0     1.0          1.0  \n",
       "3    1.0     3.0          3.0  \n",
       "4    3.0     5.0          5.0  "
      ]
     },
     "execution_count": 70,
     "metadata": {},
     "output_type": "execute_result"
    }
   ],
   "source": [
    "df1.head()"
   ]
  },
  {
   "cell_type": "code",
   "execution_count": 71,
   "metadata": {},
   "outputs": [],
   "source": [
    "# renaming some columns\n",
    "df1 = df1.rename(columns={'ACTIVITY_ID': 'num_c'})"
   ]
  },
  {
   "cell_type": "code",
   "execution_count": 72,
   "metadata": {},
   "outputs": [
    {
     "data": {
      "text/html": [
       "<div>\n",
       "<style scoped>\n",
       "    .dataframe tbody tr th:only-of-type {\n",
       "        vertical-align: middle;\n",
       "    }\n",
       "\n",
       "    .dataframe tbody tr th {\n",
       "        vertical-align: top;\n",
       "    }\n",
       "\n",
       "    .dataframe thead th {\n",
       "        text-align: right;\n",
       "    }\n",
       "</style>\n",
       "<table border=\"1\" class=\"dataframe\">\n",
       "  <thead>\n",
       "    <tr style=\"text-align: right;\">\n",
       "      <th></th>\n",
       "      <th>supp_id</th>\n",
       "      <th>currency</th>\n",
       "      <th>fur</th>\n",
       "      <th>total_fcs</th>\n",
       "      <th>max_fcs</th>\n",
       "      <th>total_trans</th>\n",
       "      <th>sum_fcs</th>\n",
       "      <th>num_P</th>\n",
       "      <th>num_fs</th>\n",
       "      <th>num_c</th>\n",
       "    </tr>\n",
       "  </thead>\n",
       "  <tbody>\n",
       "    <tr>\n",
       "      <th>0</th>\n",
       "      <td>kudFmD%2ByF7w=</td>\n",
       "      <td>CAD</td>\n",
       "      <td>0</td>\n",
       "      <td>2</td>\n",
       "      <td>26.16</td>\n",
       "      <td>29</td>\n",
       "      <td>44.74</td>\n",
       "      <td>2.0</td>\n",
       "      <td>2.0</td>\n",
       "      <td>3.0</td>\n",
       "    </tr>\n",
       "    <tr>\n",
       "      <th>1</th>\n",
       "      <td>MpbERpuNCk0=</td>\n",
       "      <td>CAD</td>\n",
       "      <td>0</td>\n",
       "      <td>3</td>\n",
       "      <td>35.00</td>\n",
       "      <td>29</td>\n",
       "      <td>87.16</td>\n",
       "      <td>5.0</td>\n",
       "      <td>5.0</td>\n",
       "      <td>9.0</td>\n",
       "    </tr>\n",
       "    <tr>\n",
       "      <th>2</th>\n",
       "      <td>GJbnFkIn6SY=</td>\n",
       "      <td>CAD</td>\n",
       "      <td>0</td>\n",
       "      <td>2</td>\n",
       "      <td>14.96</td>\n",
       "      <td>6</td>\n",
       "      <td>29.76</td>\n",
       "      <td>1.0</td>\n",
       "      <td>1.0</td>\n",
       "      <td>1.0</td>\n",
       "    </tr>\n",
       "    <tr>\n",
       "      <th>3</th>\n",
       "      <td>4CmZuezC6hw=</td>\n",
       "      <td>CAD</td>\n",
       "      <td>0</td>\n",
       "      <td>2</td>\n",
       "      <td>40.73</td>\n",
       "      <td>18</td>\n",
       "      <td>59.11</td>\n",
       "      <td>1.0</td>\n",
       "      <td>3.0</td>\n",
       "      <td>3.0</td>\n",
       "    </tr>\n",
       "    <tr>\n",
       "      <th>4</th>\n",
       "      <td>ga9c44p8S04=</td>\n",
       "      <td>CAD</td>\n",
       "      <td>0</td>\n",
       "      <td>2</td>\n",
       "      <td>37.36</td>\n",
       "      <td>23</td>\n",
       "      <td>74.64</td>\n",
       "      <td>3.0</td>\n",
       "      <td>5.0</td>\n",
       "      <td>5.0</td>\n",
       "    </tr>\n",
       "  </tbody>\n",
       "</table>\n",
       "</div>"
      ],
      "text/plain": [
       "          supp_id currency  fur  total_fcs  max_fcs  total_trans  sum_fcs  \\\n",
       "0  kudFmD%2ByF7w=      CAD    0          2    26.16           29    44.74   \n",
       "1    MpbERpuNCk0=      CAD    0          3    35.00           29    87.16   \n",
       "2    GJbnFkIn6SY=      CAD    0          2    14.96            6    29.76   \n",
       "3    4CmZuezC6hw=      CAD    0          2    40.73           18    59.11   \n",
       "4    ga9c44p8S04=      CAD    0          2    37.36           23    74.64   \n",
       "\n",
       "   num_P  num_fs  num_c  \n",
       "0    2.0     2.0    3.0  \n",
       "1    5.0     5.0    9.0  \n",
       "2    1.0     1.0    1.0  \n",
       "3    1.0     3.0    3.0  \n",
       "4    3.0     5.0    5.0  "
      ]
     },
     "execution_count": 72,
     "metadata": {},
     "output_type": "execute_result"
    }
   ],
   "source": [
    "df1.head()"
   ]
  },
  {
   "cell_type": "code",
   "execution_count": 73,
   "metadata": {},
   "outputs": [
    {
     "data": {
      "text/plain": [
       "(22433, 10)"
      ]
     },
     "execution_count": 73,
     "metadata": {},
     "output_type": "execute_result"
    }
   ],
   "source": [
    "df1.shape"
   ]
  },
  {
   "cell_type": "markdown",
   "metadata": {},
   "source": [
    "#### A summary of some of the findings:"
   ]
  },
  {
   "cell_type": "markdown",
   "metadata": {},
   "source": [
    "There are **4935216** total transactions.\n",
    "\n",
    "There are **1002034** supporters involved in all transactions.\n",
    "\n",
    "There are **26971** FCS transactions total.\n",
    "\n",
    "There are **22433** supporters who made a FCS transaction.\n",
    "\n",
    "There are **188** FUR transactions total.\n",
    "    - 187 are ACTIVITY_ID 24029 (24029 has no other ACTIVITY_TYPE)\n",
    "    - 1 is ACTIVITY_ID 15348 (15348 also only has the 1 FUR ACTIVITY_TYPE)\n",
    "\n",
    "There are **174** supporters who made a FUR transaction.\n",
    "\n",
    "There are **21** FUR supporters who also made a FCS contribution.  \n",
    "\n",
    "All FUR transactions are in **GBP** currency."
   ]
  },
  {
   "cell_type": "markdown",
   "metadata": {},
   "source": [
    "The following graph shows the number of FUR transactions, number of supporters who made those transactions, and the number of supporters who made both a FCS and FUR transaction."
   ]
  },
  {
   "cell_type": "code",
   "execution_count": 74,
   "metadata": {},
   "outputs": [
    {
     "data": {
      "text/plain": [
       "Text(0.5, 1.0, 'FUR transactions vs FUR unique supporters vs FUR and FCS supporters')"
      ]
     },
     "execution_count": 74,
     "metadata": {},
     "output_type": "execute_result"
    },
    {
     "data": {
      "image/png": "[encoded data removed]",
      "text/plain": [
       "<Figure size 864x432 with 1 Axes>"
      ]
     },
     "metadata": {
      "needs_background": "light"
     },
     "output_type": "display_data"
    }
   ],
   "source": [
    "actions = [188, 174, 21]\n",
    "index = ['FUR_transactions', 'FUR_Unique_supporters', 'FUR_and_FCS_supporters']\n",
    "df = pd.DataFrame({'actions': actions}, index=index)\n",
    "ax = df.plot.bar(rot=0, figsize=(12, 6))\n",
    "ax.set_axisbelow(True)\n",
    "ax.minorticks_on()\n",
    "ax.grid(which='major', linestyle='-', linewidth='0.5', color='red')\n",
    "plt.xlabel(\"Transactions\")\n",
    "plt.ylabel('Occurrences')\n",
    "plt.title(\"FUR transactions vs FUR unique supporters vs FUR and FCS supporters\")"
   ]
  },
  {
   "cell_type": "markdown",
   "metadata": {},
   "source": [
    "#### Some additional analysis...."
   ]
  },
  {
   "cell_type": "code",
   "execution_count": 75,
   "metadata": {},
   "outputs": [
    {
     "data": {
      "text/plain": [
       "1144"
      ]
     },
     "execution_count": 75,
     "metadata": {},
     "output_type": "execute_result"
    }
   ],
   "source": [
    "# display the number of unique supporter IDs from all transaction data:\n",
    "df_t_all.ACTIVITY_ID.nunique()"
   ]
  },
  {
   "cell_type": "markdown",
   "metadata": {},
   "source": [
    "As shown above, the total number of activity IDs for the transaction data is **1144**.  This contrasts significantly with the number of unique activity IDs for the sends broadcast data in March of **43**."
   ]
  },
  {
   "cell_type": "code",
   "execution_count": 76,
   "metadata": {},
   "outputs": [
    {
     "data": {
      "text/plain": [
       "(1, 21)"
      ]
     },
     "execution_count": 76,
     "metadata": {},
     "output_type": "execute_result"
    }
   ],
   "source": [
    "# This is the lone FUR supporter who does not have the 24029 ACTIVITY_ID (this person only has 1 transaction)\n",
    "df_t_all.loc[df_t_all['ACTIVITY_ID'] == 15348].shape"
   ]
  },
  {
   "cell_type": "markdown",
   "metadata": {},
   "source": [
    "In the cell above, just checking to see all of the transactions for activity ID 15348.  This was the one activity ID that had a FUR transaction that was not activity ID number 24029."
   ]
  },
  {
   "cell_type": "code",
   "execution_count": 77,
   "metadata": {},
   "outputs": [
    {
     "data": {
      "text/html": [
       "<div>\n",
       "<style scoped>\n",
       "    .dataframe tbody tr th:only-of-type {\n",
       "        vertical-align: middle;\n",
       "    }\n",
       "\n",
       "    .dataframe tbody tr th {\n",
       "        vertical-align: top;\n",
       "    }\n",
       "\n",
       "    .dataframe thead th {\n",
       "        text-align: right;\n",
       "    }\n",
       "</style>\n",
       "<table border=\"1\" class=\"dataframe\">\n",
       "  <thead>\n",
       "    <tr style=\"text-align: right;\">\n",
       "      <th></th>\n",
       "      <th>supp_id</th>\n",
       "      <th>currency</th>\n",
       "      <th>fur</th>\n",
       "      <th>total_fcs</th>\n",
       "      <th>max_fcs</th>\n",
       "      <th>total_trans</th>\n",
       "      <th>sum_fcs</th>\n",
       "      <th>num_P</th>\n",
       "      <th>num_fs</th>\n",
       "      <th>num_c</th>\n",
       "    </tr>\n",
       "  </thead>\n",
       "  <tbody>\n",
       "    <tr>\n",
       "      <th>1357</th>\n",
       "      <td>ZX9bzgQSuMWZkArzVWMSmA==</td>\n",
       "      <td>GBP</td>\n",
       "      <td>1</td>\n",
       "      <td>1</td>\n",
       "      <td>18.54</td>\n",
       "      <td>14</td>\n",
       "      <td>18.54</td>\n",
       "      <td>6.0</td>\n",
       "      <td>NaN</td>\n",
       "      <td>2.0</td>\n",
       "    </tr>\n",
       "    <tr>\n",
       "      <th>1376</th>\n",
       "      <td>aIBzXlUKyVOZkArzVWMSmA==</td>\n",
       "      <td>GBP</td>\n",
       "      <td>1</td>\n",
       "      <td>1</td>\n",
       "      <td>18.27</td>\n",
       "      <td>25</td>\n",
       "      <td>18.27</td>\n",
       "      <td>4.0</td>\n",
       "      <td>4.0</td>\n",
       "      <td>7.0</td>\n",
       "    </tr>\n",
       "    <tr>\n",
       "      <th>1975</th>\n",
       "      <td>W6fPIp%2BIr52ZkArzVWMSmA==</td>\n",
       "      <td>GBP</td>\n",
       "      <td>1</td>\n",
       "      <td>1</td>\n",
       "      <td>12.48</td>\n",
       "      <td>3</td>\n",
       "      <td>12.48</td>\n",
       "      <td>NaN</td>\n",
       "      <td>NaN</td>\n",
       "      <td>1.0</td>\n",
       "    </tr>\n",
       "    <tr>\n",
       "      <th>2686</th>\n",
       "      <td>9ELr8VlI1SWZkArzVWMSmA==</td>\n",
       "      <td>GBP</td>\n",
       "      <td>1</td>\n",
       "      <td>1</td>\n",
       "      <td>30.46</td>\n",
       "      <td>14</td>\n",
       "      <td>30.46</td>\n",
       "      <td>4.0</td>\n",
       "      <td>4.0</td>\n",
       "      <td>4.0</td>\n",
       "    </tr>\n",
       "    <tr>\n",
       "      <th>3947</th>\n",
       "      <td>4mvLUluixbWZkArzVWMSmA==</td>\n",
       "      <td>GBP</td>\n",
       "      <td>1</td>\n",
       "      <td>1</td>\n",
       "      <td>0.00</td>\n",
       "      <td>33</td>\n",
       "      <td>0.00</td>\n",
       "      <td>10.0</td>\n",
       "      <td>4.0</td>\n",
       "      <td>7.0</td>\n",
       "    </tr>\n",
       "    <tr>\n",
       "      <th>5655</th>\n",
       "      <td>wIblxqLLj4KZkArzVWMSmA==</td>\n",
       "      <td>GBP</td>\n",
       "      <td>1</td>\n",
       "      <td>1</td>\n",
       "      <td>12.18</td>\n",
       "      <td>21</td>\n",
       "      <td>12.18</td>\n",
       "      <td>3.0</td>\n",
       "      <td>4.0</td>\n",
       "      <td>4.0</td>\n",
       "    </tr>\n",
       "    <tr>\n",
       "      <th>6148</th>\n",
       "      <td>vesrts6C8N%2BZkArzVWMSmA==</td>\n",
       "      <td>GBP</td>\n",
       "      <td>1</td>\n",
       "      <td>1</td>\n",
       "      <td>6.15</td>\n",
       "      <td>24</td>\n",
       "      <td>6.15</td>\n",
       "      <td>3.0</td>\n",
       "      <td>4.0</td>\n",
       "      <td>5.0</td>\n",
       "    </tr>\n",
       "    <tr>\n",
       "      <th>6818</th>\n",
       "      <td>hZftL2QRnjKZkArzVWMSmA==</td>\n",
       "      <td>GBP</td>\n",
       "      <td>1</td>\n",
       "      <td>5</td>\n",
       "      <td>13.01</td>\n",
       "      <td>25</td>\n",
       "      <td>51.01</td>\n",
       "      <td>7.0</td>\n",
       "      <td>5.0</td>\n",
       "      <td>7.0</td>\n",
       "    </tr>\n",
       "    <tr>\n",
       "      <th>7041</th>\n",
       "      <td>sYywsBcB6gEqJI2ZMf1z3w==</td>\n",
       "      <td>GBP</td>\n",
       "      <td>1</td>\n",
       "      <td>1</td>\n",
       "      <td>12.46</td>\n",
       "      <td>22</td>\n",
       "      <td>12.46</td>\n",
       "      <td>5.0</td>\n",
       "      <td>2.0</td>\n",
       "      <td>5.0</td>\n",
       "    </tr>\n",
       "    <tr>\n",
       "      <th>7483</th>\n",
       "      <td>xW4XUujQsJyzFWMrHGgntg==</td>\n",
       "      <td>GBP</td>\n",
       "      <td>1</td>\n",
       "      <td>2</td>\n",
       "      <td>12.47</td>\n",
       "      <td>23</td>\n",
       "      <td>12.47</td>\n",
       "      <td>2.0</td>\n",
       "      <td>4.0</td>\n",
       "      <td>4.0</td>\n",
       "    </tr>\n",
       "    <tr>\n",
       "      <th>7491</th>\n",
       "      <td>vFTpMQ%2BGJxQqJI2ZMf1z3w==</td>\n",
       "      <td>GBP</td>\n",
       "      <td>1</td>\n",
       "      <td>1</td>\n",
       "      <td>12.18</td>\n",
       "      <td>9</td>\n",
       "      <td>12.18</td>\n",
       "      <td>NaN</td>\n",
       "      <td>1.0</td>\n",
       "      <td>1.0</td>\n",
       "    </tr>\n",
       "    <tr>\n",
       "      <th>7864</th>\n",
       "      <td>aFP1HmfMKoGha0eWUOvjsw==</td>\n",
       "      <td>GBP</td>\n",
       "      <td>1</td>\n",
       "      <td>1</td>\n",
       "      <td>12.48</td>\n",
       "      <td>24</td>\n",
       "      <td>12.48</td>\n",
       "      <td>3.0</td>\n",
       "      <td>4.0</td>\n",
       "      <td>5.0</td>\n",
       "    </tr>\n",
       "    <tr>\n",
       "      <th>8211</th>\n",
       "      <td>mO%2FEO9gbG%2BWzFWMrHGgntg==</td>\n",
       "      <td>GBP</td>\n",
       "      <td>1</td>\n",
       "      <td>1</td>\n",
       "      <td>3.65</td>\n",
       "      <td>27</td>\n",
       "      <td>3.65</td>\n",
       "      <td>4.0</td>\n",
       "      <td>4.0</td>\n",
       "      <td>6.0</td>\n",
       "    </tr>\n",
       "    <tr>\n",
       "      <th>8822</th>\n",
       "      <td>sSGzNaMHa6aha0eWUOvjsw==</td>\n",
       "      <td>GBP</td>\n",
       "      <td>1</td>\n",
       "      <td>2</td>\n",
       "      <td>30.60</td>\n",
       "      <td>24</td>\n",
       "      <td>50.64</td>\n",
       "      <td>10.0</td>\n",
       "      <td>2.0</td>\n",
       "      <td>2.0</td>\n",
       "    </tr>\n",
       "    <tr>\n",
       "      <th>9440</th>\n",
       "      <td>Kjo9p4wfWfS15xl1A%2FXc2A==</td>\n",
       "      <td>GBP</td>\n",
       "      <td>1</td>\n",
       "      <td>3</td>\n",
       "      <td>6.08</td>\n",
       "      <td>6</td>\n",
       "      <td>18.24</td>\n",
       "      <td>NaN</td>\n",
       "      <td>NaN</td>\n",
       "      <td>NaN</td>\n",
       "    </tr>\n",
       "    <tr>\n",
       "      <th>11804</th>\n",
       "      <td>0Pux8gagqGCZkArzVWMSmA==</td>\n",
       "      <td>GBP</td>\n",
       "      <td>1</td>\n",
       "      <td>1</td>\n",
       "      <td>40.00</td>\n",
       "      <td>4</td>\n",
       "      <td>40.00</td>\n",
       "      <td>2.0</td>\n",
       "      <td>NaN</td>\n",
       "      <td>NaN</td>\n",
       "    </tr>\n",
       "    <tr>\n",
       "      <th>12734</th>\n",
       "      <td>xsZHw%2FE76wWZkArzVWMSmA==</td>\n",
       "      <td>GBP</td>\n",
       "      <td>1</td>\n",
       "      <td>1</td>\n",
       "      <td>31.24</td>\n",
       "      <td>27</td>\n",
       "      <td>31.24</td>\n",
       "      <td>7.0</td>\n",
       "      <td>4.0</td>\n",
       "      <td>6.0</td>\n",
       "    </tr>\n",
       "    <tr>\n",
       "      <th>12940</th>\n",
       "      <td>kGH9cswxSAmZkArzVWMSmA==</td>\n",
       "      <td>GBP</td>\n",
       "      <td>1</td>\n",
       "      <td>2</td>\n",
       "      <td>6.52</td>\n",
       "      <td>15</td>\n",
       "      <td>12.77</td>\n",
       "      <td>1.0</td>\n",
       "      <td>2.0</td>\n",
       "      <td>3.0</td>\n",
       "    </tr>\n",
       "    <tr>\n",
       "      <th>13069</th>\n",
       "      <td>7304B%2Bq6esmZkArzVWMSmA==</td>\n",
       "      <td>GBP</td>\n",
       "      <td>1</td>\n",
       "      <td>1</td>\n",
       "      <td>24.79</td>\n",
       "      <td>7</td>\n",
       "      <td>24.79</td>\n",
       "      <td>2.0</td>\n",
       "      <td>1.0</td>\n",
       "      <td>1.0</td>\n",
       "    </tr>\n",
       "    <tr>\n",
       "      <th>18413</th>\n",
       "      <td>V73wWbQguZuZkArzVWMSmA==</td>\n",
       "      <td>GBP</td>\n",
       "      <td>1</td>\n",
       "      <td>2</td>\n",
       "      <td>6.48</td>\n",
       "      <td>14</td>\n",
       "      <td>6.48</td>\n",
       "      <td>9.0</td>\n",
       "      <td>1.0</td>\n",
       "      <td>1.0</td>\n",
       "    </tr>\n",
       "    <tr>\n",
       "      <th>19623</th>\n",
       "      <td>ClQYL8SRocAUHgIT5m4sfA==</td>\n",
       "      <td>GBP</td>\n",
       "      <td>1</td>\n",
       "      <td>2</td>\n",
       "      <td>32.34</td>\n",
       "      <td>12</td>\n",
       "      <td>45.28</td>\n",
       "      <td>6.0</td>\n",
       "      <td>2.0</td>\n",
       "      <td>2.0</td>\n",
       "    </tr>\n",
       "  </tbody>\n",
       "</table>\n",
       "</div>"
      ],
      "text/plain": [
       "                            supp_id currency  fur  total_fcs  max_fcs  \\\n",
       "1357       ZX9bzgQSuMWZkArzVWMSmA==      GBP    1          1    18.54   \n",
       "1376       aIBzXlUKyVOZkArzVWMSmA==      GBP    1          1    18.27   \n",
       "1975     W6fPIp%2BIr52ZkArzVWMSmA==      GBP    1          1    12.48   \n",
       "2686       9ELr8VlI1SWZkArzVWMSmA==      GBP    1          1    30.46   \n",
       "3947       4mvLUluixbWZkArzVWMSmA==      GBP    1          1     0.00   \n",
       "5655       wIblxqLLj4KZkArzVWMSmA==      GBP    1          1    12.18   \n",
       "6148     vesrts6C8N%2BZkArzVWMSmA==      GBP    1          1     6.15   \n",
       "6818       hZftL2QRnjKZkArzVWMSmA==      GBP    1          5    13.01   \n",
       "7041       sYywsBcB6gEqJI2ZMf1z3w==      GBP    1          1    12.46   \n",
       "7483       xW4XUujQsJyzFWMrHGgntg==      GBP    1          2    12.47   \n",
       "7491     vFTpMQ%2BGJxQqJI2ZMf1z3w==      GBP    1          1    12.18   \n",
       "7864       aFP1HmfMKoGha0eWUOvjsw==      GBP    1          1    12.48   \n",
       "8211   mO%2FEO9gbG%2BWzFWMrHGgntg==      GBP    1          1     3.65   \n",
       "8822       sSGzNaMHa6aha0eWUOvjsw==      GBP    1          2    30.60   \n",
       "9440     Kjo9p4wfWfS15xl1A%2FXc2A==      GBP    1          3     6.08   \n",
       "11804      0Pux8gagqGCZkArzVWMSmA==      GBP    1          1    40.00   \n",
       "12734    xsZHw%2FE76wWZkArzVWMSmA==      GBP    1          1    31.24   \n",
       "12940      kGH9cswxSAmZkArzVWMSmA==      GBP    1          2     6.52   \n",
       "13069    7304B%2Bq6esmZkArzVWMSmA==      GBP    1          1    24.79   \n",
       "18413      V73wWbQguZuZkArzVWMSmA==      GBP    1          2     6.48   \n",
       "19623      ClQYL8SRocAUHgIT5m4sfA==      GBP    1          2    32.34   \n",
       "\n",
       "       total_trans  sum_fcs  num_P  num_fs  num_c  \n",
       "1357            14    18.54    6.0     NaN    2.0  \n",
       "1376            25    18.27    4.0     4.0    7.0  \n",
       "1975             3    12.48    NaN     NaN    1.0  \n",
       "2686            14    30.46    4.0     4.0    4.0  \n",
       "3947            33     0.00   10.0     4.0    7.0  \n",
       "5655            21    12.18    3.0     4.0    4.0  \n",
       "6148            24     6.15    3.0     4.0    5.0  \n",
       "6818            25    51.01    7.0     5.0    7.0  \n",
       "7041            22    12.46    5.0     2.0    5.0  \n",
       "7483            23    12.47    2.0     4.0    4.0  \n",
       "7491             9    12.18    NaN     1.0    1.0  \n",
       "7864            24    12.48    3.0     4.0    5.0  \n",
       "8211            27     3.65    4.0     4.0    6.0  \n",
       "8822            24    50.64   10.0     2.0    2.0  \n",
       "9440             6    18.24    NaN     NaN    NaN  \n",
       "11804            4    40.00    2.0     NaN    NaN  \n",
       "12734           27    31.24    7.0     4.0    6.0  \n",
       "12940           15    12.77    1.0     2.0    3.0  \n",
       "13069            7    24.79    2.0     1.0    1.0  \n",
       "18413           14     6.48    9.0     1.0    1.0  \n",
       "19623           12    45.28    6.0     2.0    2.0  "
      ]
     },
     "execution_count": 77,
     "metadata": {},
     "output_type": "execute_result"
    }
   ],
   "source": [
    "# show those supporters who made a single donation and those who made a rucurring donation as well (fur = 1)\n",
    "df1.loc[df1['fur'] == 1]"
   ]
  },
  {
   "cell_type": "markdown",
   "metadata": {},
   "source": [
    "Something to note in the above dataframe:  the total transactions for all of these supporters is a high number."
   ]
  },
  {
   "cell_type": "code",
   "execution_count": 78,
   "metadata": {},
   "outputs": [
    {
     "data": {
      "text/plain": [
       "count    22433.000000\n",
       "mean         8.615878\n",
       "std          8.008251\n",
       "min          1.000000\n",
       "25%          2.000000\n",
       "50%          6.000000\n",
       "75%         14.000000\n",
       "max        158.000000\n",
       "Name: total_trans, dtype: float64"
      ]
     },
     "execution_count": 78,
     "metadata": {},
     "output_type": "execute_result"
    }
   ],
   "source": [
    "df1.total_trans.describe()"
   ]
  },
  {
   "cell_type": "code",
   "execution_count": 79,
   "metadata": {},
   "outputs": [
    {
     "data": {
      "text/plain": [
       "count    21.000000\n",
       "mean     17.761905\n",
       "std       8.665476\n",
       "min       3.000000\n",
       "25%      12.000000\n",
       "50%      21.000000\n",
       "75%      24.000000\n",
       "max      33.000000\n",
       "Name: total_trans, dtype: float64"
      ]
     },
     "execution_count": 79,
     "metadata": {},
     "output_type": "execute_result"
    }
   ],
   "source": [
    "df1.loc[df1['fur'] == 1].total_trans.describe()"
   ]
  },
  {
   "cell_type": "markdown",
   "metadata": {},
   "source": [
    "As shown above, the mean number of transactions for all FCS supporters is **14.5**, whereas the mean number of FCS supporters who also made a recurring donation (FUR) is **21.1**."
   ]
  },
  {
   "cell_type": "markdown",
   "metadata": {},
   "source": [
    "# Conclusion - Part 1\n",
    "\n",
    "I wanted to use the dataframe below to perform machine learning / predictive analytics to try to find correlations between supporters who made FCS donations and those who made FUR donations.\n",
    "\n",
    "However, there are only **21** supporters who made a FCS and FUR donation (from Cell number 15 above).  This is 21 supporters out of a total of **22433** (from cell 17) who made a FCS transaction.  This seems like too little data to run a ML algorithm.\n",
    "\n",
    "Regardless, the framework / code is here to add to the dataframe below by creating more columns as needed.  See the dataframe below: "
   ]
  },
  {
   "cell_type": "code",
   "execution_count": 80,
   "metadata": {},
   "outputs": [
    {
     "data": {
      "text/html": [
       "<div>\n",
       "<style scoped>\n",
       "    .dataframe tbody tr th:only-of-type {\n",
       "        vertical-align: middle;\n",
       "    }\n",
       "\n",
       "    .dataframe tbody tr th {\n",
       "        vertical-align: top;\n",
       "    }\n",
       "\n",
       "    .dataframe thead th {\n",
       "        text-align: right;\n",
       "    }\n",
       "</style>\n",
       "<table border=\"1\" class=\"dataframe\">\n",
       "  <thead>\n",
       "    <tr style=\"text-align: right;\">\n",
       "      <th></th>\n",
       "      <th>supp_id</th>\n",
       "      <th>currency</th>\n",
       "      <th>fur</th>\n",
       "      <th>total_fcs</th>\n",
       "      <th>max_fcs</th>\n",
       "      <th>total_trans</th>\n",
       "      <th>sum_fcs</th>\n",
       "      <th>num_P</th>\n",
       "      <th>num_fs</th>\n",
       "      <th>num_c</th>\n",
       "    </tr>\n",
       "  </thead>\n",
       "  <tbody>\n",
       "    <tr>\n",
       "      <th>0</th>\n",
       "      <td>kudFmD%2ByF7w=</td>\n",
       "      <td>CAD</td>\n",
       "      <td>0</td>\n",
       "      <td>2</td>\n",
       "      <td>26.16</td>\n",
       "      <td>29</td>\n",
       "      <td>44.74</td>\n",
       "      <td>2.0</td>\n",
       "      <td>2.0</td>\n",
       "      <td>3.0</td>\n",
       "    </tr>\n",
       "    <tr>\n",
       "      <th>1</th>\n",
       "      <td>MpbERpuNCk0=</td>\n",
       "      <td>CAD</td>\n",
       "      <td>0</td>\n",
       "      <td>3</td>\n",
       "      <td>35.00</td>\n",
       "      <td>29</td>\n",
       "      <td>87.16</td>\n",
       "      <td>5.0</td>\n",
       "      <td>5.0</td>\n",
       "      <td>9.0</td>\n",
       "    </tr>\n",
       "    <tr>\n",
       "      <th>2</th>\n",
       "      <td>GJbnFkIn6SY=</td>\n",
       "      <td>CAD</td>\n",
       "      <td>0</td>\n",
       "      <td>2</td>\n",
       "      <td>14.96</td>\n",
       "      <td>6</td>\n",
       "      <td>29.76</td>\n",
       "      <td>1.0</td>\n",
       "      <td>1.0</td>\n",
       "      <td>1.0</td>\n",
       "    </tr>\n",
       "    <tr>\n",
       "      <th>3</th>\n",
       "      <td>4CmZuezC6hw=</td>\n",
       "      <td>CAD</td>\n",
       "      <td>0</td>\n",
       "      <td>2</td>\n",
       "      <td>40.73</td>\n",
       "      <td>18</td>\n",
       "      <td>59.11</td>\n",
       "      <td>1.0</td>\n",
       "      <td>3.0</td>\n",
       "      <td>3.0</td>\n",
       "    </tr>\n",
       "    <tr>\n",
       "      <th>4</th>\n",
       "      <td>ga9c44p8S04=</td>\n",
       "      <td>CAD</td>\n",
       "      <td>0</td>\n",
       "      <td>2</td>\n",
       "      <td>37.36</td>\n",
       "      <td>23</td>\n",
       "      <td>74.64</td>\n",
       "      <td>3.0</td>\n",
       "      <td>5.0</td>\n",
       "      <td>5.0</td>\n",
       "    </tr>\n",
       "    <tr>\n",
       "      <th>5</th>\n",
       "      <td>XLJ%2FwMXSyog=</td>\n",
       "      <td>USD</td>\n",
       "      <td>0</td>\n",
       "      <td>2</td>\n",
       "      <td>10.00</td>\n",
       "      <td>18</td>\n",
       "      <td>17.00</td>\n",
       "      <td>4.0</td>\n",
       "      <td>4.0</td>\n",
       "      <td>4.0</td>\n",
       "    </tr>\n",
       "    <tr>\n",
       "      <th>6</th>\n",
       "      <td>twfmRyzZ71Q=</td>\n",
       "      <td>CAD</td>\n",
       "      <td>0</td>\n",
       "      <td>1</td>\n",
       "      <td>186.63</td>\n",
       "      <td>29</td>\n",
       "      <td>186.63</td>\n",
       "      <td>3.0</td>\n",
       "      <td>4.0</td>\n",
       "      <td>4.0</td>\n",
       "    </tr>\n",
       "    <tr>\n",
       "      <th>7</th>\n",
       "      <td>iycV34Dms7Y=</td>\n",
       "      <td>CAD</td>\n",
       "      <td>0</td>\n",
       "      <td>1</td>\n",
       "      <td>40.69</td>\n",
       "      <td>30</td>\n",
       "      <td>40.69</td>\n",
       "      <td>3.0</td>\n",
       "      <td>4.0</td>\n",
       "      <td>4.0</td>\n",
       "    </tr>\n",
       "    <tr>\n",
       "      <th>8</th>\n",
       "      <td>7vyOVrtWxtw=</td>\n",
       "      <td>CAD</td>\n",
       "      <td>0</td>\n",
       "      <td>3</td>\n",
       "      <td>40.43</td>\n",
       "      <td>11</td>\n",
       "      <td>92.86</td>\n",
       "      <td>2.0</td>\n",
       "      <td>2.0</td>\n",
       "      <td>5.0</td>\n",
       "    </tr>\n",
       "    <tr>\n",
       "      <th>9</th>\n",
       "      <td>%2BxxiDTd77O0=</td>\n",
       "      <td>CAD</td>\n",
       "      <td>0</td>\n",
       "      <td>1</td>\n",
       "      <td>18.67</td>\n",
       "      <td>4</td>\n",
       "      <td>18.67</td>\n",
       "      <td>1.0</td>\n",
       "      <td>1.0</td>\n",
       "      <td>1.0</td>\n",
       "    </tr>\n",
       "    <tr>\n",
       "      <th>10</th>\n",
       "      <td>Vt1GmxmCsQs=</td>\n",
       "      <td>CAD</td>\n",
       "      <td>0</td>\n",
       "      <td>1</td>\n",
       "      <td>26.17</td>\n",
       "      <td>12</td>\n",
       "      <td>26.17</td>\n",
       "      <td>4.0</td>\n",
       "      <td>5.0</td>\n",
       "      <td>5.0</td>\n",
       "    </tr>\n",
       "    <tr>\n",
       "      <th>11</th>\n",
       "      <td>ftTJKBSh1oo=</td>\n",
       "      <td>CAD</td>\n",
       "      <td>0</td>\n",
       "      <td>1</td>\n",
       "      <td>25.92</td>\n",
       "      <td>10</td>\n",
       "      <td>25.92</td>\n",
       "      <td>2.0</td>\n",
       "      <td>3.0</td>\n",
       "      <td>3.0</td>\n",
       "    </tr>\n",
       "    <tr>\n",
       "      <th>12</th>\n",
       "      <td>S2YceZGnC%2Bk=</td>\n",
       "      <td>GBP</td>\n",
       "      <td>0</td>\n",
       "      <td>1</td>\n",
       "      <td>30.46</td>\n",
       "      <td>11</td>\n",
       "      <td>30.46</td>\n",
       "      <td>2.0</td>\n",
       "      <td>2.0</td>\n",
       "      <td>3.0</td>\n",
       "    </tr>\n",
       "    <tr>\n",
       "      <th>13</th>\n",
       "      <td>8joh35RzjW4=</td>\n",
       "      <td>USD</td>\n",
       "      <td>0</td>\n",
       "      <td>1</td>\n",
       "      <td>55.00</td>\n",
       "      <td>9</td>\n",
       "      <td>55.00</td>\n",
       "      <td>3.0</td>\n",
       "      <td>NaN</td>\n",
       "      <td>NaN</td>\n",
       "    </tr>\n",
       "    <tr>\n",
       "      <th>14</th>\n",
       "      <td>SPGrYS%2FlkdY=</td>\n",
       "      <td>CAD</td>\n",
       "      <td>0</td>\n",
       "      <td>3</td>\n",
       "      <td>23.13</td>\n",
       "      <td>7</td>\n",
       "      <td>68.36</td>\n",
       "      <td>4.0</td>\n",
       "      <td>NaN</td>\n",
       "      <td>NaN</td>\n",
       "    </tr>\n",
       "  </tbody>\n",
       "</table>\n",
       "</div>"
      ],
      "text/plain": [
       "           supp_id currency  fur  total_fcs  max_fcs  total_trans  sum_fcs  \\\n",
       "0   kudFmD%2ByF7w=      CAD    0          2    26.16           29    44.74   \n",
       "1     MpbERpuNCk0=      CAD    0          3    35.00           29    87.16   \n",
       "2     GJbnFkIn6SY=      CAD    0          2    14.96            6    29.76   \n",
       "3     4CmZuezC6hw=      CAD    0          2    40.73           18    59.11   \n",
       "4     ga9c44p8S04=      CAD    0          2    37.36           23    74.64   \n",
       "5   XLJ%2FwMXSyog=      USD    0          2    10.00           18    17.00   \n",
       "6     twfmRyzZ71Q=      CAD    0          1   186.63           29   186.63   \n",
       "7     iycV34Dms7Y=      CAD    0          1    40.69           30    40.69   \n",
       "8     7vyOVrtWxtw=      CAD    0          3    40.43           11    92.86   \n",
       "9   %2BxxiDTd77O0=      CAD    0          1    18.67            4    18.67   \n",
       "10    Vt1GmxmCsQs=      CAD    0          1    26.17           12    26.17   \n",
       "11    ftTJKBSh1oo=      CAD    0          1    25.92           10    25.92   \n",
       "12  S2YceZGnC%2Bk=      GBP    0          1    30.46           11    30.46   \n",
       "13    8joh35RzjW4=      USD    0          1    55.00            9    55.00   \n",
       "14  SPGrYS%2FlkdY=      CAD    0          3    23.13            7    68.36   \n",
       "\n",
       "    num_P  num_fs  num_c  \n",
       "0     2.0     2.0    3.0  \n",
       "1     5.0     5.0    9.0  \n",
       "2     1.0     1.0    1.0  \n",
       "3     1.0     3.0    3.0  \n",
       "4     3.0     5.0    5.0  \n",
       "5     4.0     4.0    4.0  \n",
       "6     3.0     4.0    4.0  \n",
       "7     3.0     4.0    4.0  \n",
       "8     2.0     2.0    5.0  \n",
       "9     1.0     1.0    1.0  \n",
       "10    4.0     5.0    5.0  \n",
       "11    2.0     3.0    3.0  \n",
       "12    2.0     2.0    3.0  \n",
       "13    3.0     NaN    NaN  \n",
       "14    4.0     NaN    NaN  "
      ]
     },
     "execution_count": 80,
     "metadata": {},
     "output_type": "execute_result"
    }
   ],
   "source": [
    "df1.head(15)"
   ]
  },
  {
   "cell_type": "markdown",
   "metadata": {},
   "source": [
    "The above dataframe has all unique supporters who made a FCS transaction.  The columns are as follows:\n",
    "\n",
    "  - supp_id = SUPPORTER_ID who made a FCS transaction\n",
    "  - num_fcs = number of FCS transactions total\n",
    "  - fur = if supporter made at least 1 FUR transaction, a 1 is placed, otherwise 0\n",
    "  - max_fcs = maximum FCS contribution amount in USD\n",
    "  - total_fcs = total FCS contribution amount in USD\n",
    "  - total_trans = total number of transactions made by that supporter\n",
    "  - currency = currency of donation\n",
    "  - num_p = number of 'P' transactions by the supporter\n",
    "  - num_fs = number of 'formsub' transactions by the supporter\n",
    "  - num_c = number of 'click' transactions by the supporter"
   ]
  },
  {
   "cell_type": "markdown",
   "metadata": {},
   "source": [
    "# Machine Learning - predict a FUR transaction given all FCS supporter data  \n",
    "\n",
    "#### Logistic Regression:"
   ]
  },
  {
   "cell_type": "code",
   "execution_count": 81,
   "metadata": {},
   "outputs": [],
   "source": [
    "df1 = df1.fillna(0)"
   ]
  },
  {
   "cell_type": "code",
   "execution_count": 82,
   "metadata": {},
   "outputs": [
    {
     "data": {
      "text/html": [
       "<div>\n",
       "<style scoped>\n",
       "    .dataframe tbody tr th:only-of-type {\n",
       "        vertical-align: middle;\n",
       "    }\n",
       "\n",
       "    .dataframe tbody tr th {\n",
       "        vertical-align: top;\n",
       "    }\n",
       "\n",
       "    .dataframe thead th {\n",
       "        text-align: right;\n",
       "    }\n",
       "</style>\n",
       "<table border=\"1\" class=\"dataframe\">\n",
       "  <thead>\n",
       "    <tr style=\"text-align: right;\">\n",
       "      <th></th>\n",
       "      <th>supp_id</th>\n",
       "      <th>currency</th>\n",
       "      <th>fur</th>\n",
       "      <th>total_fcs</th>\n",
       "      <th>max_fcs</th>\n",
       "      <th>total_trans</th>\n",
       "      <th>sum_fcs</th>\n",
       "      <th>num_P</th>\n",
       "      <th>num_fs</th>\n",
       "      <th>num_c</th>\n",
       "    </tr>\n",
       "  </thead>\n",
       "  <tbody>\n",
       "    <tr>\n",
       "      <th>0</th>\n",
       "      <td>kudFmD%2ByF7w=</td>\n",
       "      <td>CAD</td>\n",
       "      <td>0</td>\n",
       "      <td>2</td>\n",
       "      <td>26.16</td>\n",
       "      <td>29</td>\n",
       "      <td>44.74</td>\n",
       "      <td>2.0</td>\n",
       "      <td>2.0</td>\n",
       "      <td>3.0</td>\n",
       "    </tr>\n",
       "    <tr>\n",
       "      <th>1</th>\n",
       "      <td>MpbERpuNCk0=</td>\n",
       "      <td>CAD</td>\n",
       "      <td>0</td>\n",
       "      <td>3</td>\n",
       "      <td>35.00</td>\n",
       "      <td>29</td>\n",
       "      <td>87.16</td>\n",
       "      <td>5.0</td>\n",
       "      <td>5.0</td>\n",
       "      <td>9.0</td>\n",
       "    </tr>\n",
       "    <tr>\n",
       "      <th>2</th>\n",
       "      <td>GJbnFkIn6SY=</td>\n",
       "      <td>CAD</td>\n",
       "      <td>0</td>\n",
       "      <td>2</td>\n",
       "      <td>14.96</td>\n",
       "      <td>6</td>\n",
       "      <td>29.76</td>\n",
       "      <td>1.0</td>\n",
       "      <td>1.0</td>\n",
       "      <td>1.0</td>\n",
       "    </tr>\n",
       "    <tr>\n",
       "      <th>3</th>\n",
       "      <td>4CmZuezC6hw=</td>\n",
       "      <td>CAD</td>\n",
       "      <td>0</td>\n",
       "      <td>2</td>\n",
       "      <td>40.73</td>\n",
       "      <td>18</td>\n",
       "      <td>59.11</td>\n",
       "      <td>1.0</td>\n",
       "      <td>3.0</td>\n",
       "      <td>3.0</td>\n",
       "    </tr>\n",
       "    <tr>\n",
       "      <th>4</th>\n",
       "      <td>ga9c44p8S04=</td>\n",
       "      <td>CAD</td>\n",
       "      <td>0</td>\n",
       "      <td>2</td>\n",
       "      <td>37.36</td>\n",
       "      <td>23</td>\n",
       "      <td>74.64</td>\n",
       "      <td>3.0</td>\n",
       "      <td>5.0</td>\n",
       "      <td>5.0</td>\n",
       "    </tr>\n",
       "  </tbody>\n",
       "</table>\n",
       "</div>"
      ],
      "text/plain": [
       "          supp_id currency  fur  total_fcs  max_fcs  total_trans  sum_fcs  \\\n",
       "0  kudFmD%2ByF7w=      CAD    0          2    26.16           29    44.74   \n",
       "1    MpbERpuNCk0=      CAD    0          3    35.00           29    87.16   \n",
       "2    GJbnFkIn6SY=      CAD    0          2    14.96            6    29.76   \n",
       "3    4CmZuezC6hw=      CAD    0          2    40.73           18    59.11   \n",
       "4    ga9c44p8S04=      CAD    0          2    37.36           23    74.64   \n",
       "\n",
       "   num_P  num_fs  num_c  \n",
       "0    2.0     2.0    3.0  \n",
       "1    5.0     5.0    9.0  \n",
       "2    1.0     1.0    1.0  \n",
       "3    1.0     3.0    3.0  \n",
       "4    3.0     5.0    5.0  "
      ]
     },
     "execution_count": 82,
     "metadata": {},
     "output_type": "execute_result"
    }
   ],
   "source": [
    "df1.head()"
   ]
  },
  {
   "cell_type": "code",
   "execution_count": 83,
   "metadata": {},
   "outputs": [
    {
     "data": {
      "text/plain": [
       "(22433, 10)"
      ]
     },
     "execution_count": 83,
     "metadata": {},
     "output_type": "execute_result"
    }
   ],
   "source": [
    "df1.shape"
   ]
  },
  {
   "cell_type": "code",
   "execution_count": 84,
   "metadata": {},
   "outputs": [],
   "source": [
    "# find the number of fur's to drop, so that the number of fur's and fcs's are equal\n",
    "n = df1.shape[0] "
   ]
  },
  {
   "cell_type": "code",
   "execution_count": 85,
   "metadata": {},
   "outputs": [],
   "source": [
    "# number of rows where fur equals 1\n",
    "m = df1.loc[df1['fur'] == 1].shape[0]"
   ]
  },
  {
   "cell_type": "code",
   "execution_count": 86,
   "metadata": {},
   "outputs": [],
   "source": [
    "# this is the number of rows that needs to be subtracted from df1 so that FURs = FCSs\n",
    "number = n - m - m"
   ]
  },
  {
   "cell_type": "code",
   "execution_count": 87,
   "metadata": {},
   "outputs": [
    {
     "name": "stdout",
     "output_type": "stream",
     "text": [
      "22391\n"
     ]
    }
   ],
   "source": [
    "print(number)"
   ]
  },
  {
   "cell_type": "code",
   "execution_count": 88,
   "metadata": {},
   "outputs": [],
   "source": [
    "# drop the correct amount of fur's so the number of FURs = FCSs.\n",
    "df1 = df1.drop(df1.query('fur == 0').sample(number).index)"
   ]
  },
  {
   "cell_type": "code",
   "execution_count": 89,
   "metadata": {},
   "outputs": [
    {
     "data": {
      "text/html": [
       "<div>\n",
       "<style scoped>\n",
       "    .dataframe tbody tr th:only-of-type {\n",
       "        vertical-align: middle;\n",
       "    }\n",
       "\n",
       "    .dataframe tbody tr th {\n",
       "        vertical-align: top;\n",
       "    }\n",
       "\n",
       "    .dataframe thead th {\n",
       "        text-align: right;\n",
       "    }\n",
       "</style>\n",
       "<table border=\"1\" class=\"dataframe\">\n",
       "  <thead>\n",
       "    <tr style=\"text-align: right;\">\n",
       "      <th></th>\n",
       "      <th>supp_id</th>\n",
       "      <th>currency</th>\n",
       "      <th>fur</th>\n",
       "      <th>total_fcs</th>\n",
       "      <th>max_fcs</th>\n",
       "      <th>total_trans</th>\n",
       "      <th>sum_fcs</th>\n",
       "      <th>num_P</th>\n",
       "      <th>num_fs</th>\n",
       "      <th>num_c</th>\n",
       "    </tr>\n",
       "  </thead>\n",
       "  <tbody>\n",
       "    <tr>\n",
       "      <th>1070</th>\n",
       "      <td>AwToEuQdKK%2BZkArzVWMSmA==</td>\n",
       "      <td>USD</td>\n",
       "      <td>0</td>\n",
       "      <td>1</td>\n",
       "      <td>25.00</td>\n",
       "      <td>8</td>\n",
       "      <td>25.00</td>\n",
       "      <td>0.0</td>\n",
       "      <td>1.0</td>\n",
       "      <td>4.0</td>\n",
       "    </tr>\n",
       "    <tr>\n",
       "      <th>1357</th>\n",
       "      <td>ZX9bzgQSuMWZkArzVWMSmA==</td>\n",
       "      <td>GBP</td>\n",
       "      <td>1</td>\n",
       "      <td>1</td>\n",
       "      <td>18.54</td>\n",
       "      <td>14</td>\n",
       "      <td>18.54</td>\n",
       "      <td>6.0</td>\n",
       "      <td>0.0</td>\n",
       "      <td>2.0</td>\n",
       "    </tr>\n",
       "    <tr>\n",
       "      <th>1376</th>\n",
       "      <td>aIBzXlUKyVOZkArzVWMSmA==</td>\n",
       "      <td>GBP</td>\n",
       "      <td>1</td>\n",
       "      <td>1</td>\n",
       "      <td>18.27</td>\n",
       "      <td>25</td>\n",
       "      <td>18.27</td>\n",
       "      <td>4.0</td>\n",
       "      <td>4.0</td>\n",
       "      <td>7.0</td>\n",
       "    </tr>\n",
       "    <tr>\n",
       "      <th>1544</th>\n",
       "      <td>sTdayoHBoa2ZkArzVWMSmA==</td>\n",
       "      <td>GBP</td>\n",
       "      <td>0</td>\n",
       "      <td>1</td>\n",
       "      <td>12.42</td>\n",
       "      <td>8</td>\n",
       "      <td>12.42</td>\n",
       "      <td>2.0</td>\n",
       "      <td>3.0</td>\n",
       "      <td>4.0</td>\n",
       "    </tr>\n",
       "    <tr>\n",
       "      <th>1975</th>\n",
       "      <td>W6fPIp%2BIr52ZkArzVWMSmA==</td>\n",
       "      <td>GBP</td>\n",
       "      <td>1</td>\n",
       "      <td>1</td>\n",
       "      <td>12.48</td>\n",
       "      <td>3</td>\n",
       "      <td>12.48</td>\n",
       "      <td>0.0</td>\n",
       "      <td>0.0</td>\n",
       "      <td>1.0</td>\n",
       "    </tr>\n",
       "  </tbody>\n",
       "</table>\n",
       "</div>"
      ],
      "text/plain": [
       "                         supp_id currency  fur  total_fcs  max_fcs  \\\n",
       "1070  AwToEuQdKK%2BZkArzVWMSmA==      USD    0          1    25.00   \n",
       "1357    ZX9bzgQSuMWZkArzVWMSmA==      GBP    1          1    18.54   \n",
       "1376    aIBzXlUKyVOZkArzVWMSmA==      GBP    1          1    18.27   \n",
       "1544    sTdayoHBoa2ZkArzVWMSmA==      GBP    0          1    12.42   \n",
       "1975  W6fPIp%2BIr52ZkArzVWMSmA==      GBP    1          1    12.48   \n",
       "\n",
       "      total_trans  sum_fcs  num_P  num_fs  num_c  \n",
       "1070            8    25.00    0.0     1.0    4.0  \n",
       "1357           14    18.54    6.0     0.0    2.0  \n",
       "1376           25    18.27    4.0     4.0    7.0  \n",
       "1544            8    12.42    2.0     3.0    4.0  \n",
       "1975            3    12.48    0.0     0.0    1.0  "
      ]
     },
     "execution_count": 89,
     "metadata": {},
     "output_type": "execute_result"
    }
   ],
   "source": [
    "df1.head()"
   ]
  },
  {
   "cell_type": "code",
   "execution_count": 90,
   "metadata": {},
   "outputs": [
    {
     "data": {
      "text/plain": [
       "(42, 10)"
      ]
     },
     "execution_count": 90,
     "metadata": {},
     "output_type": "execute_result"
    }
   ],
   "source": [
    "df1.shape"
   ]
  },
  {
   "cell_type": "code",
   "execution_count": 91,
   "metadata": {},
   "outputs": [],
   "source": [
    "# drop currency for now\n",
    "df1.drop(columns=['currency'], inplace=True)\n",
    "df1.drop(columns=['supp_id'], inplace=True)"
   ]
  },
  {
   "cell_type": "code",
   "execution_count": 92,
   "metadata": {},
   "outputs": [],
   "source": [
    "# Create training and test sets.\n",
    "offset = int(df1.shape[0] * 0.8)\n",
    "\n",
    "df_train = df1[:offset]\n",
    "df_test = df1[offset:]"
   ]
  },
  {
   "cell_type": "code",
   "execution_count": 93,
   "metadata": {},
   "outputs": [
    {
     "data": {
      "text/plain": [
       "(33, 8)"
      ]
     },
     "execution_count": 93,
     "metadata": {},
     "output_type": "execute_result"
    }
   ],
   "source": [
    "df_train.shape"
   ]
  },
  {
   "cell_type": "code",
   "execution_count": 94,
   "metadata": {},
   "outputs": [
    {
     "data": {
      "text/plain": [
       "(9, 8)"
      ]
     },
     "execution_count": 94,
     "metadata": {},
     "output_type": "execute_result"
    }
   ],
   "source": [
    "df_test.shape"
   ]
  },
  {
   "cell_type": "code",
   "execution_count": 95,
   "metadata": {},
   "outputs": [
    {
     "name": "stdout",
     "output_type": "stream",
     "text": [
      "\n",
      "Duration: 0:00:00.258015\n"
     ]
    },
    {
     "name": "stderr",
     "output_type": "stream",
     "text": [
      "C:\\Users\\Fred\\Anaconda3\\lib\\site-packages\\pandas\\core\\frame.py:3940: SettingWithCopyWarning: \n",
      "A value is trying to be set on a copy of a slice from a DataFrame\n",
      "\n",
      "See the caveats in the documentation: http://pandas.pydata.org/pandas-docs/stable/indexing.html#indexing-view-versus-copy\n",
      "  errors=errors)\n"
     ]
    }
   ],
   "source": [
    "# 1.  Logistic Regression\n",
    "\n",
    "start_time = datetime.now()\n",
    "\n",
    "# Instantiate our model.\n",
    "regr = linear_model.LogisticRegression(solver='sag')\n",
    "\n",
    "# set features and dependent variable for training data\n",
    "y_train = df_train['fur'].values\n",
    "\n",
    "# drop the 'target' column to obtain the feature inputs\n",
    "df_train.drop(['fur'], axis=1, inplace=True)\n",
    "\n",
    "# normalize the training data\n",
    "x_train = sklearn.preprocessing.normalize(df_train)\n",
    "\n",
    "# now for test...\n",
    "y_test = df_test['fur'].values\n",
    "\n",
    "# drop the 'target' column to obtain the feature inputs\n",
    "df_test.drop(['fur'], axis=1, inplace=True)\n",
    "\n",
    "# normalize the test data\n",
    "x_test = sklearn.preprocessing.normalize(df_test)\n",
    "\n",
    "# fit model to training data\n",
    "regr.fit(x_train, y_train)\n",
    "\n",
    "end_time = datetime.now()\n",
    "print('\\nDuration: {}'.format(end_time - start_time))"
   ]
  },
  {
   "cell_type": "code",
   "execution_count": 96,
   "metadata": {},
   "outputs": [
    {
     "data": {
      "text/plain": [
       "0.8571428571428572"
      ]
     },
     "execution_count": 96,
     "metadata": {},
     "output_type": "execute_result"
    }
   ],
   "source": [
    "# create a variable that is the 1 or 0 prediction from the model \n",
    "y_test_pred = regr.predict(x_test)\n",
    "sklearn.metrics.roc_auc_score(y_test, y_test_pred)"
   ]
  },
  {
   "cell_type": "code",
   "execution_count": 97,
   "metadata": {},
   "outputs": [
    {
     "data": {
      "text/plain": [
       "array([[5, 2],\n",
       "       [0, 2]], dtype=int64)"
      ]
     },
     "execution_count": 97,
     "metadata": {},
     "output_type": "execute_result"
    }
   ],
   "source": [
    "# create the Confusion Matrix\n",
    "sklearn.metrics.confusion_matrix(y_test, y_test_pred, labels=None, sample_weight=None)"
   ]
  },
  {
   "cell_type": "code",
   "execution_count": 98,
   "metadata": {},
   "outputs": [
    {
     "data": {
      "text/plain": [
       "0.7777777777777778"
      ]
     },
     "execution_count": 98,
     "metadata": {},
     "output_type": "execute_result"
    }
   ],
   "source": [
    "# determine the accuracy classification score\n",
    "sklearn.metrics.accuracy_score(y_test, y_test_pred)"
   ]
  },
  {
   "cell_type": "markdown",
   "metadata": {},
   "source": [
    "#### Extra Trees Classifier"
   ]
  },
  {
   "cell_type": "code",
   "execution_count": 99,
   "metadata": {},
   "outputs": [
    {
     "name": "stdout",
     "output_type": "stream",
     "text": [
      "\n",
      "Duration: 0:00:00.871050\n"
     ]
    }
   ],
   "source": [
    "# 2.  Extra Trees Classifier\n",
    "\n",
    "start_time = datetime.now()\n",
    "\n",
    "from sklearn.ensemble import ExtraTreesClassifier\n",
    "\n",
    "# Instantiate our model.\n",
    "etc = ExtraTreesClassifier(n_estimators=1000)\n",
    "\n",
    "# fit model to data\n",
    "etc.fit(x_train, y_train)\n",
    "\n",
    "from sklearn.metrics import confusion_matrix\n",
    "sklearn.metrics.confusion_matrix(y_test, y_test_pred, labels=None, sample_weight=None)\n",
    "\n",
    "end_time = datetime.now()\n",
    "print('\\nDuration: {}'.format(end_time - start_time))"
   ]
  },
  {
   "cell_type": "code",
   "execution_count": 100,
   "metadata": {},
   "outputs": [
    {
     "data": {
      "text/plain": [
       "0.8571428571428572"
      ]
     },
     "execution_count": 100,
     "metadata": {},
     "output_type": "execute_result"
    }
   ],
   "source": [
    "y_test_pred = etc.predict(x_test)\n",
    "sklearn.metrics.roc_auc_score(y_test, y_test_pred)"
   ]
  },
  {
   "cell_type": "code",
   "execution_count": 101,
   "metadata": {},
   "outputs": [
    {
     "data": {
      "text/plain": [
       "array([[5, 2],\n",
       "       [0, 2]], dtype=int64)"
      ]
     },
     "execution_count": 101,
     "metadata": {},
     "output_type": "execute_result"
    }
   ],
   "source": [
    "sklearn.metrics.confusion_matrix(y_test, y_test_pred, labels=None, sample_weight=None)"
   ]
  },
  {
   "cell_type": "code",
   "execution_count": 102,
   "metadata": {},
   "outputs": [
    {
     "data": {
      "text/plain": [
       "0.7777777777777778"
      ]
     },
     "execution_count": 102,
     "metadata": {},
     "output_type": "execute_result"
    }
   ],
   "source": [
    "sklearn.metrics.accuracy_score(y_test, y_test_pred)"
   ]
  },
  {
   "cell_type": "markdown",
   "metadata": {},
   "source": [
    "#### Random Forest Classifier"
   ]
  },
  {
   "cell_type": "code",
   "execution_count": 103,
   "metadata": {},
   "outputs": [
    {
     "name": "stdout",
     "output_type": "stream",
     "text": [
      "Index(['total_fcs', 'max_fcs', 'total_trans', 'sum_fcs', 'num_P', 'num_fs',\n",
      "       'num_c'],\n",
      "      dtype='object')\n",
      "\n",
      "Duration: 0:00:01.872107\n"
     ]
    }
   ],
   "source": [
    "# 3.  Random Forest Classifier\n",
    "\n",
    "start_time = datetime.now()\n",
    "\n",
    "from sklearn.ensemble import RandomForestClassifier\n",
    "\n",
    "# Instantiate our model.\n",
    "rfc = RandomForestClassifier(n_estimators=1000)\n",
    "\n",
    "# fit model to data\n",
    "rfc.fit(x_train, y_train)\n",
    "\n",
    "#------------------------------------------------------------------------------\n",
    "sfm = SelectFromModel(rfc, threshold=0.001, max_features=7)\n",
    "sfm.fit(x_train, y_train)\n",
    "sfm.get_support()\n",
    "selected_feat = df_train.columns[(sfm.get_support())]\n",
    "len(selected_feat)\n",
    "print(selected_feat)\n",
    "#------------------------------------------------------------------------------\n",
    "\n",
    "feature_importances = pd.DataFrame(rfc.feature_importances_,\n",
    "                                   index = df_train.columns,\n",
    "                                    columns=['importance']).sort_values('importance', ascending=False)\n",
    "\n",
    "\n",
    "end_time = datetime.now()\n",
    "print('\\nDuration: {}'.format(end_time - start_time))"
   ]
  },
  {
   "cell_type": "code",
   "execution_count": 104,
   "metadata": {},
   "outputs": [
    {
     "name": "stdout",
     "output_type": "stream",
     "text": [
      "             importance\n",
      "num_P          0.195490\n",
      "max_fcs        0.167093\n",
      "total_fcs      0.163965\n",
      "total_trans    0.134051\n",
      "num_c          0.120233\n",
      "sum_fcs        0.117931\n",
      "num_fs         0.101236\n"
     ]
    }
   ],
   "source": [
    "# using 'feature_importances_' from random forest\n",
    "# these are the most important features and their relative importance for making the prediction\n",
    "print((feature_importances).head(10))"
   ]
  },
  {
   "cell_type": "code",
   "execution_count": 105,
   "metadata": {},
   "outputs": [
    {
     "data": {
      "text/plain": [
       "0.8571428571428572"
      ]
     },
     "execution_count": 105,
     "metadata": {},
     "output_type": "execute_result"
    }
   ],
   "source": [
    "y_test_pred = rfc.predict(x_test)\n",
    "sklearn.metrics.roc_auc_score(y_test, y_test_pred)"
   ]
  },
  {
   "cell_type": "code",
   "execution_count": 106,
   "metadata": {},
   "outputs": [
    {
     "data": {
      "text/plain": [
       "array([[5, 2],\n",
       "       [0, 2]], dtype=int64)"
      ]
     },
     "execution_count": 106,
     "metadata": {},
     "output_type": "execute_result"
    }
   ],
   "source": [
    "sklearn.metrics.confusion_matrix(y_test, y_test_pred, labels=None, sample_weight=None)"
   ]
  },
  {
   "cell_type": "code",
   "execution_count": 107,
   "metadata": {},
   "outputs": [
    {
     "data": {
      "text/plain": [
       "0.7777777777777778"
      ]
     },
     "execution_count": 107,
     "metadata": {},
     "output_type": "execute_result"
    }
   ],
   "source": [
    "sklearn.metrics.accuracy_score(y_test, y_test_pred)"
   ]
  },
  {
   "cell_type": "markdown",
   "metadata": {},
   "source": [
    "# Conclusion - Part 2\n",
    "\n",
    "So, I did end up doing some predictive modeling as shown above despite the sparse amount of supporters who made a single AND recurring contribution.  \n",
    "The results can very significantly becasue each time the models are executed they are chosing only a small subset of the total data.  However, the accuracy measures have been in the range of **55 - 92%**.  This is just a starting point.  Two different scores were analyzed:  area under the roc curve and the accuracy classification score based on the Confusion Matrix.  \n",
    "\n",
    "This accuracy represents the ability of each model to predict whether a supporter will make a recurring (FUR) donation based on the 7 featurers (columns in the final df1 dataframe) that were collected from the data."
   ]
  },
  {
   "cell_type": "code",
   "execution_count": null,
   "metadata": {},
   "outputs": [],
   "source": []
  }
 ],
 "metadata": {
  "kernelspec": {
   "display_name": "Python 3",
   "language": "python",
   "name": "python3"
  },
  "language_info": {
   "codemirror_mode": {
    "name": "ipython",
    "version": 3
   },
   "file_extension": ".py",
   "mimetype": "text/x-python",
   "name": "python",
   "nbconvert_exporter": "python",
   "pygments_lexer": "ipython3",
   "version": "3.7.3"
  }
 },
 "nbformat": 4,
 "nbformat_minor": 2
}
